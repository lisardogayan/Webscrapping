{
 "cells": [
  {
   "cell_type": "code",
   "execution_count": 2,
   "metadata": {},
   "outputs": [],
   "source": [
    "\"\"\"\n",
    "Web scraping price information from www.mediamarkt.es\n",
    "Based on:\n",
    "https://github.com/Brinkhuis/Mediamarkt/blob/master/code/mediamarkt.py\n",
    "\"\"\"\n",
    "\n",
    "import ast\n",
    "import requests\n",
    "import urllib\n",
    "\n",
    "import pandas as pd\n",
    "import numpy as np\n",
    "import seaborn as sns\n",
    "import matplotlib.pyplot as plt\n",
    "\n",
    "import time\n",
    "import datetime\n",
    "\n",
    "from bs4 import BeautifulSoup\n",
    "from tqdm import tqdm\n",
    "from requests.exceptions import HTTPError\n",
    "\n",
    "%matplotlib inline"
   ]
  },
  {
   "cell_type": "code",
   "execution_count": 2,
   "metadata": {},
   "outputs": [],
   "source": [
    "# URL dónde está la lista de productos\n",
    "URL = \"https://www.mediamarkt.es/sitemap/sitemap-productlist.xml\""
   ]
  },
  {
   "cell_type": "code",
   "execution_count": 3,
   "metadata": {},
   "outputs": [
    {
     "name": "stdout",
     "output_type": "stream",
     "text": [
      "{'User-Agent': 'python-requests/2.21.0', 'Accept-Encoding': 'gzip, deflate', 'Accept': '*/*', 'Connection': 'keep-alive'}\n"
     ]
    }
   ],
   "source": [
    "# Configuramos el user agent\n",
    "\n",
    "headers = requests.utils.default_headers()\n",
    "print(headers)"
   ]
  },
  {
   "cell_type": "code",
   "execution_count": 4,
   "metadata": {},
   "outputs": [],
   "source": [
    "# Common user agent list\n",
    "# Referencia: http://www.networkinghowtos.com/howto/common-user-agent-list/\n",
    "# Google Chrome\n",
    "# \"Mozilla/5.0 (Windows NT 10.0; Win64; x64) AppleWebKit/537.36 (KHTML, like Gecko) Chrome/58.0.3029.110 Safari/537.36\"\n",
    "# Mozilla Firefox\n",
    "# \"Mozilla/5.0 (Windows NT 10.0; Win64; x64; rv:53.0) Gecko/20100101 Firefox/53.0\"\n",
    "# Microsoft Edge\n",
    "# Mozilla/5.0 (Windows NT 10.0; Win64; x64) AppleWebKit/537.36 (KHTML, like Gecko) Chrome/51.0.2704.79 \n",
    "# Safari/537.36 Edge/14.14393\n",
    "# Google bot\n",
    "# Mozilla/5.0 (compatible; Googlebot/2.1; +http://www.google.com/bot.html)\n",
    "# Bing bot\n",
    "# Mozilla/5.0 (compatible; bingbot/2.0; +http://www.bing.com/bingbot.htm)\n"
   ]
  },
  {
   "cell_type": "code",
   "execution_count": 5,
   "metadata": {},
   "outputs": [
    {
     "name": "stdout",
     "output_type": "stream",
     "text": [
      "{'User-Agent': 'Mozilla/5.0 (Windows NT 10.0; Win64; x64; rv:53.0) Gecko/20100101 Firefox/53.0', 'Accept-Encoding': 'gzip, deflate', 'Accept': '*/*', 'Connection': 'keep-alive'}\n"
     ]
    }
   ],
   "source": [
    "# Actualizamos el user agent\n",
    "headers.update({'User-Agent': 'Mozilla/5.0 (Windows NT 10.0; Win64; x64; rv:53.0) Gecko/20100101 Firefox/53.0'})\n",
    "print(headers)"
   ]
  },
  {
   "cell_type": "code",
   "execution_count": 6,
   "metadata": {},
   "outputs": [],
   "source": [
    "# Definimoos la función para leer el xml y extraer los links que pasaremos\n",
    "# Referencia:\n",
    "# https://stackoverflow.com/questions/18966368/python-beautifulsoup-scrape-tables\n",
    "# Le paso la URL como parámetro, así podrá valer para los diferentes sitios.\n",
    "def get_products (URL):\n",
    "    soup = BeautifulSoup(requests.get(URL).text, 'lxml')\n",
    "    #links = soup.find_all('loc')\n",
    "    links = []\n",
    "    #links = soup.find_all(\"loc\")\n",
    "    for link in soup.find_all(\"loc\"):\n",
    "        links.append(str(link).replace(\"<loc>\",\"\").replace(\"</loc>\",\"\"))\n",
    "    return links"
   ]
  },
  {
   "cell_type": "code",
   "execution_count": 7,
   "metadata": {},
   "outputs": [],
   "source": [
    "# Cargamos los links a partir del sitemap\n",
    "pagelinks = get_products(URL)"
   ]
  },
  {
   "cell_type": "code",
   "execution_count": 8,
   "metadata": {
    "scrolled": false
   },
   "outputs": [
    {
     "data": {
      "text/plain": [
       "['https://www.mediamarkt.es/es/category/_afeitado-y-depilaci%C3%B3n-701138.html',\n",
       " 'https://www.mediamarkt.es/es/category/_afeitadoras-faciales-701281.html',\n",
       " 'https://www.mediamarkt.es/es/category/_afeitadoras-corporales-701282.html',\n",
       " 'https://www.mediamarkt.es/es/category/_afeitadoras-multifunci%C3%B3n-701283.html',\n",
       " 'https://www.mediamarkt.es/es/category/_cortapelos-701284.html',\n",
       " 'https://www.mediamarkt.es/es/category/_barberos-701285.html',\n",
       " 'https://www.mediamarkt.es/es/category/_depiladoras-ipl-701286.html',\n",
       " 'https://www.mediamarkt.es/es/category/_rasuradoras-701287.html',\n",
       " 'https://www.mediamarkt.es/es/category/_depiladoras-de-arranque-701288.html']"
      ]
     },
     "execution_count": 8,
     "metadata": {},
     "output_type": "execute_result"
    }
   ],
   "source": [
    "# Mostramos los primeros 10\n",
    "pagelinks[1:10]"
   ]
  },
  {
   "cell_type": "code",
   "execution_count": 9,
   "metadata": {},
   "outputs": [
    {
     "data": {
      "text/plain": [
       "1012"
      ]
     },
     "execution_count": 9,
     "metadata": {},
     "output_type": "execute_result"
    }
   ],
   "source": [
    "#Comprobamos la cantidad de pagelinks\n",
    "len(pagelinks)"
   ]
  },
  {
   "cell_type": "code",
   "execution_count": 10,
   "metadata": {},
   "outputs": [],
   "source": [
    "# Referencia del código:\n",
    "# https://github.com/Brinkhuis/Mediamarkt/blob/master/code/mediamarkt.py\n",
    "def npages(mysoup):\n",
    "    pagination = list()\n",
    "    npages = 1\n",
    "    for page_number in mysoup.find_all('div', {'class': 'pagination-wrapper cf'}):\n",
    "        pagination.append(page_number.find_all('a'))\n",
    "        npages = int(str(pagination[0]).split(', ')[-2].strip('</a>').split('>')[-1])\n",
    "        # Para debug, se imprime el número de páginas.\n",
    "        print (\"Número de páginas: %d\" % npages)\n",
    "    return npages "
   ]
  },
  {
   "cell_type": "code",
   "execution_count": 11,
   "metadata": {},
   "outputs": [],
   "source": [
    "# Referencia del código:\n",
    "# https://github.com/Brinkhuis/Mediamarkt/blob/master/code/mediamarkt.py      \n",
    "\n",
    "\n",
    "def get_data(URL, output_file = None):\n",
    "    # Para debug, se imprime la URL que se está escaneando\n",
    "    print(\"Rastreando: %s\" % URL)\n",
    "    item_list = list()    \n",
    "    # Handle the requests exceptions\n",
    "    # Referencia:\n",
    "    # https://realpython.com/python-requests/\n",
    "    try:\n",
    "        response = requests.get(URL)\n",
    "        # If the response was successful, no Exception will be raised\n",
    "        response.raise_for_status()\n",
    "    except HTTPError as http_err:\n",
    "        print(f'HTTP error occurred: {http_err}')  # Python 3.6\n",
    "    except Exception as err:\n",
    "        print(f'Other error occurred: {err}')  # Python 3.6\n",
    "    else:\n",
    "        for page in tqdm(range(1, npages(BeautifulSoup(response.text, 'html.parser')) +1)):\n",
    "            try:\n",
    "                pageresponse = requests.get(URL + '?page=' + str(page))\n",
    "                # If the response was successful, no Exception will be raised\n",
    "                response.raise_for_status()\n",
    "            except HTTPError as http_err:\n",
    "                print(f'HTTP error occurred: {http_err}')  # Python 3.6\n",
    "            except Exception as err:\n",
    "                print(f'Other error occurred: {err}')  # Python 3.6\n",
    "            else:\n",
    "                soup = BeautifulSoup(pageresponse.text, 'html.parser')\n",
    "                all_scripts = soup.find_all('script')\n",
    "                for script in all_scripts:\n",
    "                    if script.text.startswith('var product'):\n",
    "                        item_list.append(ast.literal_eval(script.text.split(' = ')[1].strip(';')))\n",
    "    \n",
    "    productinfo = pd.DataFrame() \n",
    "    if (len(item_list)>0):\n",
    "        productinfo = pd.DataFrame(item_list)\n",
    "        productinfo['price'] = pd.to_numeric(productinfo['price'], errors='coerce')\n",
    "        \n",
    "  \n",
    "    #productinfo.to_csv(output_file, index=False)    \n",
    "    #print(f'{productinfo.shape[0]} records saved to {output_file}')\n",
    "    \n",
    "    return productinfo"
   ]
  },
  {
   "cell_type": "code",
   "execution_count": 50,
   "metadata": {},
   "outputs": [],
   "source": [
    "def viz_data(input_file, output_file, query = ':', x_px = 1500, y_px = 1000, d_pi = 150):\n",
    "    productinfo = pd.read_csv(input_file)\n",
    "    \n",
    "    productinfo = productinfo[query]\n",
    "\n",
    "    #x_pixels, y_pixels, dpi = 1500, 1000, 150\n",
    "    x_pixels, y_pixels, dpi = x_px, y_px, d_pi\n",
    "    x_inch, y_inch = x_pixels / dpi, y_pixels / dpi\n",
    "\n",
    "    plt.figure(figsize=(x_inch, y_inch), dpi=dpi)\n",
    "    sns.boxplot(x='price',\n",
    "                y='brand',\n",
    "                data=productinfo.groupby('brand').filter(lambda x: len(x) > 3),\n",
    "                order=list(productinfo.groupby('brand').filter(lambda x: len(x) > 3)\n",
    "                           .groupby('brand').price.median().sort_values(ascending=False).index),\n",
    "                palette='PRGn',\n",
    "                width=0.75).set_title('Price Distribution per Brand')\n",
    "    sns.despine(offset=10, trim=True)\n",
    "    plt.savefig(output_file)\n",
    "    plt.show()\n",
    "    plt.close()\n",
    "    \n",
    "    print(f'Visualization saved to {output_file}')\n"
   ]
  },
  {
   "cell_type": "code",
   "execution_count": 12,
   "metadata": {
    "scrolled": true
   },
   "outputs": [
    {
     "name": "stdout",
     "output_type": "stream",
     "text": [
      "Escaneando página 1 de 1012\n",
      "Rastreando: https://www.mediamarkt.es/es/category/_belleza-y-salud-701113.html\n"
     ]
    },
    {
     "name": "stderr",
     "output_type": "stream",
     "text": [
      "100%|██████████| 1/1 [00:00<00:00,  1.03it/s]\n"
     ]
    },
    {
     "name": "stdout",
     "output_type": "stream",
     "text": [
      "Escaneando página 2 de 1012\n",
      "Rastreando: https://www.mediamarkt.es/es/category/_afeitado-y-depilaci%C3%B3n-701138.html\n"
     ]
    },
    {
     "name": "stderr",
     "output_type": "stream",
     "text": [
      "100%|██████████| 1/1 [00:00<00:00,  1.17it/s]\n"
     ]
    },
    {
     "name": "stdout",
     "output_type": "stream",
     "text": [
      "Escaneando página 3 de 1012\n",
      "Rastreando: https://www.mediamarkt.es/es/category/_afeitadoras-faciales-701281.html\n",
      "Número de páginas: 3\n"
     ]
    },
    {
     "name": "stderr",
     "output_type": "stream",
     "text": [
      "100%|██████████| 3/3 [00:03<00:00,  1.15s/it]\n"
     ]
    },
    {
     "name": "stdout",
     "output_type": "stream",
     "text": [
      "Escaneando página 4 de 1012\n",
      "Rastreando: https://www.mediamarkt.es/es/category/_afeitadoras-corporales-701282.html\n"
     ]
    },
    {
     "name": "stderr",
     "output_type": "stream",
     "text": [
      "100%|██████████| 1/1 [00:00<00:00,  1.14it/s]\n"
     ]
    },
    {
     "name": "stdout",
     "output_type": "stream",
     "text": [
      "Escaneando página 5 de 1012\n",
      "Rastreando: https://www.mediamarkt.es/es/category/_afeitadoras-multifunci%C3%B3n-701283.html\n",
      "Número de páginas: 3\n"
     ]
    },
    {
     "name": "stderr",
     "output_type": "stream",
     "text": [
      "100%|██████████| 3/3 [00:04<00:00,  1.31s/it]\n"
     ]
    },
    {
     "name": "stdout",
     "output_type": "stream",
     "text": [
      "Escaneando página 6 de 1012\n",
      "Rastreando: https://www.mediamarkt.es/es/category/_cortapelos-701284.html\n",
      "Número de páginas: 5\n"
     ]
    },
    {
     "name": "stderr",
     "output_type": "stream",
     "text": [
      "100%|██████████| 5/5 [00:04<00:00,  1.06it/s]\n"
     ]
    },
    {
     "name": "stdout",
     "output_type": "stream",
     "text": [
      "Escaneando página 7 de 1012\n",
      "Rastreando: https://www.mediamarkt.es/es/category/_barberos-701285.html\n",
      "Número de páginas: 3\n"
     ]
    },
    {
     "name": "stderr",
     "output_type": "stream",
     "text": [
      "100%|██████████| 3/3 [00:04<00:00,  1.58s/it]\n"
     ]
    },
    {
     "name": "stdout",
     "output_type": "stream",
     "text": [
      "Escaneando página 8 de 1012\n",
      "Rastreando: https://www.mediamarkt.es/es/category/_depiladoras-ipl-701286.html\n",
      "Número de páginas: 2\n"
     ]
    },
    {
     "name": "stderr",
     "output_type": "stream",
     "text": [
      "100%|██████████| 2/2 [00:01<00:00,  1.05it/s]\n"
     ]
    },
    {
     "name": "stdout",
     "output_type": "stream",
     "text": [
      "Escaneando página 9 de 1012\n",
      "Rastreando: https://www.mediamarkt.es/es/category/_rasuradoras-701287.html\n"
     ]
    },
    {
     "name": "stderr",
     "output_type": "stream",
     "text": [
      "100%|██████████| 1/1 [00:00<00:00,  1.09it/s]\n"
     ]
    },
    {
     "name": "stdout",
     "output_type": "stream",
     "text": [
      "Escaneando página 10 de 1012\n",
      "Rastreando: https://www.mediamarkt.es/es/category/_depiladoras-de-arranque-701288.html\n",
      "Número de páginas: 3\n"
     ]
    },
    {
     "name": "stderr",
     "output_type": "stream",
     "text": [
      "100%|██████████| 3/3 [00:04<00:00,  1.41s/it]\n"
     ]
    },
    {
     "name": "stdout",
     "output_type": "stream",
     "text": [
      "Escaneando página 11 de 1012\n",
      "Rastreando: https://www.mediamarkt.es/es/category/_recambios-y-accesorios-701289.html\n",
      "Número de páginas: 2\n"
     ]
    },
    {
     "name": "stderr",
     "output_type": "stream",
     "text": [
      "100%|██████████| 2/2 [00:02<00:00,  1.21s/it]\n"
     ]
    },
    {
     "name": "stdout",
     "output_type": "stream",
     "text": [
      "Escaneando página 12 de 1012\n",
      "Rastreando: https://www.mediamarkt.es/es/category/_cuidado-del-cabello-701139.html\n"
     ]
    },
    {
     "name": "stderr",
     "output_type": "stream",
     "text": [
      "100%|██████████| 1/1 [00:00<00:00,  1.17it/s]\n"
     ]
    },
    {
     "name": "stdout",
     "output_type": "stream",
     "text": [
      "Escaneando página 13 de 1012\n",
      "Rastreando: https://www.mediamarkt.es/es/category/_secadores-de-pelo-701290.html\n",
      "Número de páginas: 5\n"
     ]
    },
    {
     "name": "stderr",
     "output_type": "stream",
     "text": [
      "100%|██████████| 5/5 [00:06<00:00,  1.33s/it]\n"
     ]
    },
    {
     "name": "stdout",
     "output_type": "stream",
     "text": [
      "Escaneando página 14 de 1012\n",
      "Rastreando: https://www.mediamarkt.es/es/category/_planchas-de-pelo-701291.html\n",
      "Número de páginas: 5\n"
     ]
    },
    {
     "name": "stderr",
     "output_type": "stream",
     "text": [
      "100%|██████████| 5/5 [00:05<00:00,  1.02s/it]\n"
     ]
    },
    {
     "name": "stdout",
     "output_type": "stream",
     "text": [
      "Escaneando página 15 de 1012\n",
      "Rastreando: https://www.mediamarkt.es/es/category/_moldeadores-de-pelo-701292.html\n",
      "Número de páginas: 4\n"
     ]
    },
    {
     "name": "stderr",
     "output_type": "stream",
     "text": [
      "100%|██████████| 4/4 [00:05<00:00,  1.34s/it]\n"
     ]
    },
    {
     "name": "stdout",
     "output_type": "stream",
     "text": [
      "Escaneando página 16 de 1012\n",
      "Rastreando: https://www.mediamarkt.es/es/category/_cepillos-de-calor-701293.html\n",
      "Número de páginas: 2\n"
     ]
    },
    {
     "name": "stderr",
     "output_type": "stream",
     "text": [
      "100%|██████████| 2/2 [00:02<00:00,  1.17s/it]\n"
     ]
    },
    {
     "name": "stdout",
     "output_type": "stream",
     "text": [
      "Escaneando página 17 de 1012\n",
      "Rastreando: https://www.mediamarkt.es/es/category/_rizadores-701294.html\n"
     ]
    },
    {
     "name": "stderr",
     "output_type": "stream",
     "text": [
      "100%|██████████| 1/1 [00:01<00:00,  1.50s/it]\n"
     ]
    },
    {
     "name": "stdout",
     "output_type": "stream",
     "text": [
      "Escaneando página 18 de 1012\n",
      "Rastreando: https://www.mediamarkt.es/es/category/_cuidado-dental-701140.html\n"
     ]
    },
    {
     "name": "stderr",
     "output_type": "stream",
     "text": [
      "100%|██████████| 1/1 [00:00<00:00,  1.12it/s]\n"
     ]
    },
    {
     "name": "stdout",
     "output_type": "stream",
     "text": [
      "Escaneando página 19 de 1012\n",
      "Rastreando: https://www.mediamarkt.es/es/category/_cepillos-de-dientes-701295.html\n",
      "Número de páginas: 5\n"
     ]
    },
    {
     "name": "stderr",
     "output_type": "stream",
     "text": [
      "100%|██████████| 5/5 [00:07<00:00,  1.39s/it]\n"
     ]
    },
    {
     "name": "stdout",
     "output_type": "stream",
     "text": [
      "Escaneando página 20 de 1012\n",
      "Rastreando: https://www.mediamarkt.es/es/category/_cepillos-infantiles-701296.html\n"
     ]
    },
    {
     "name": "stderr",
     "output_type": "stream",
     "text": [
      "100%|██████████| 1/1 [00:01<00:00,  1.21s/it]\n"
     ]
    },
    {
     "name": "stdout",
     "output_type": "stream",
     "text": [
      "Escaneando página 21 de 1012\n",
      "Rastreando: https://www.mediamarkt.es/es/category/_irrigadores-701297.html\n"
     ]
    },
    {
     "name": "stderr",
     "output_type": "stream",
     "text": [
      "100%|██████████| 1/1 [00:01<00:00,  1.67s/it]\n"
     ]
    },
    {
     "name": "stdout",
     "output_type": "stream",
     "text": [
      "Escaneando página 22 de 1012\n",
      "Rastreando: https://www.mediamarkt.es/es/category/_recambios-cuidado-dental-701298.html\n",
      "Número de páginas: 2\n"
     ]
    },
    {
     "name": "stderr",
     "output_type": "stream",
     "text": [
      "100%|██████████| 2/2 [00:02<00:00,  1.17s/it]\n"
     ]
    },
    {
     "name": "stdout",
     "output_type": "stream",
     "text": [
      "Escaneando página 23 de 1012\n",
      "Rastreando: https://www.mediamarkt.es/es/category/_cuidado-facial-701141.html\n",
      "Número de páginas: 4\n"
     ]
    },
    {
     "name": "stderr",
     "output_type": "stream",
     "text": [
      "100%|██████████| 4/4 [00:05<00:00,  1.40s/it]\n"
     ]
    },
    {
     "name": "stdout",
     "output_type": "stream",
     "text": [
      "Escaneando página 24 de 1012\n",
      "Rastreando: https://www.mediamarkt.es/es/category/_m%C3%A1quinas-de-sauna-facial-701299.html\n"
     ]
    },
    {
     "name": "stderr",
     "output_type": "stream",
     "text": [
      "100%|██████████| 1/1 [00:01<00:00,  1.06s/it]\n"
     ]
    },
    {
     "name": "stdout",
     "output_type": "stream",
     "text": [
      "Escaneando página 25 de 1012\n",
      "Rastreando: https://www.mediamarkt.es/es/category/_cepillos-y-limpiadores-faciales-701300.html\n",
      "Número de páginas: 2\n"
     ]
    },
    {
     "name": "stderr",
     "output_type": "stream",
     "text": [
      "100%|██████████| 2/2 [00:02<00:00,  1.06s/it]\n"
     ]
    },
    {
     "name": "stdout",
     "output_type": "stream",
     "text": [
      "Escaneando página 26 de 1012\n",
      "Rastreando: https://www.mediamarkt.es/es/category/_rejuvenecedores-tonificadores-701301.html\n"
     ]
    },
    {
     "name": "stderr",
     "output_type": "stream",
     "text": [
      "100%|██████████| 1/1 [00:00<00:00,  1.02it/s]\n"
     ]
    },
    {
     "name": "stdout",
     "output_type": "stream",
     "text": [
      "Escaneando página 27 de 1012\n",
      "Rastreando: https://www.mediamarkt.es/es/category/_espejos-701302.html\n"
     ]
    },
    {
     "name": "stderr",
     "output_type": "stream",
     "text": [
      "100%|██████████| 1/1 [00:01<00:00,  1.00s/it]\n"
     ]
    },
    {
     "name": "stdout",
     "output_type": "stream",
     "text": [
      "Escaneando página 28 de 1012\n",
      "Rastreando: https://www.mediamarkt.es/es/category/_cuidado-corporal-701142.html\n",
      "Número de páginas: 5\n"
     ]
    },
    {
     "name": "stderr",
     "output_type": "stream",
     "text": [
      "100%|██████████| 5/5 [00:07<00:00,  1.36s/it]\n"
     ]
    },
    {
     "name": "stdout",
     "output_type": "stream",
     "text": [
      "Escaneando página 29 de 1012\n",
      "Rastreando: https://www.mediamarkt.es/es/category/_cavitaci%C3%B3n-y-radiofrecuencia-701303.html\n"
     ]
    },
    {
     "name": "stderr",
     "output_type": "stream",
     "text": [
      "100%|██████████| 1/1 [00:01<00:00,  1.06s/it]\n"
     ]
    },
    {
     "name": "stdout",
     "output_type": "stream",
     "text": [
      "Escaneando página 30 de 1012\n",
      "Rastreando: https://www.mediamarkt.es/es/category/_masajeadores-y-anticelul%C3%ADticos-701304.html\n",
      "Número de páginas: 2\n"
     ]
    },
    {
     "name": "stderr",
     "output_type": "stream",
     "text": [
      "100%|██████████| 2/2 [00:02<00:00,  1.42s/it]\n"
     ]
    },
    {
     "name": "stdout",
     "output_type": "stream",
     "text": [
      "Escaneando página 31 de 1012\n",
      "Rastreando: https://www.mediamarkt.es/es/category/_cremas-y-tratamientos-corporales-701305.html\n"
     ]
    },
    {
     "name": "stderr",
     "output_type": "stream",
     "text": [
      "100%|██████████| 1/1 [00:01<00:00,  1.03s/it]\n"
     ]
    },
    {
     "name": "stdout",
     "output_type": "stream",
     "text": [
      "Escaneando página 32 de 1012\n",
      "Rastreando: https://www.mediamarkt.es/es/category/_packs-de-cuidado-corporal-701306.html\n"
     ]
    },
    {
     "name": "stderr",
     "output_type": "stream",
     "text": [
      "100%|██████████| 1/1 [00:01<00:00,  1.13s/it]\n"
     ]
    },
    {
     "name": "stdout",
     "output_type": "stream",
     "text": [
      "Escaneando página 33 de 1012\n",
      "Rastreando: https://www.mediamarkt.es/es/category/_juguetes-sexuales-701307.html\n",
      "Número de páginas: 3\n"
     ]
    },
    {
     "name": "stderr",
     "output_type": "stream",
     "text": [
      "100%|██████████| 3/3 [00:03<00:00,  1.16s/it]\n"
     ]
    },
    {
     "name": "stdout",
     "output_type": "stream",
     "text": [
      "Escaneando página 34 de 1012\n",
      "Rastreando: https://www.mediamarkt.es/es/category/_cuidado-de-pies-y-manos-701143.html\n",
      "Número de páginas: 3\n"
     ]
    },
    {
     "name": "stderr",
     "output_type": "stream",
     "text": [
      "100%|██████████| 3/3 [00:04<00:00,  1.44s/it]\n"
     ]
    },
    {
     "name": "stdout",
     "output_type": "stream",
     "text": [
      "Escaneando página 35 de 1012\n",
      "Rastreando: https://www.mediamarkt.es/es/category/_manicura-y-pedicura-701308.html\n"
     ]
    },
    {
     "name": "stderr",
     "output_type": "stream",
     "text": [
      "100%|██████████| 1/1 [00:01<00:00,  1.12s/it]\n"
     ]
    },
    {
     "name": "stdout",
     "output_type": "stream",
     "text": [
      "Escaneando página 36 de 1012\n",
      "Rastreando: https://www.mediamarkt.es/es/category/_secadores-y-l%C3%A1mparas-uv-led-701309.html\n"
     ]
    },
    {
     "name": "stderr",
     "output_type": "stream",
     "text": [
      "100%|██████████| 1/1 [00:01<00:00,  1.32s/it]\n"
     ]
    },
    {
     "name": "stdout",
     "output_type": "stream",
     "text": [
      "Escaneando página 37 de 1012\n",
      "Rastreando: https://www.mediamarkt.es/es/category/_kit-de-manicura-701310.html\n"
     ]
    },
    {
     "name": "stderr",
     "output_type": "stream",
     "text": [
      "100%|██████████| 1/1 [00:01<00:00,  1.01s/it]\n"
     ]
    },
    {
     "name": "stdout",
     "output_type": "stream",
     "text": [
      "Escaneando página 38 de 1012\n",
      "Rastreando: https://www.mediamarkt.es/es/category/_sets-y-accesorios-701311.html\n"
     ]
    },
    {
     "name": "stderr",
     "output_type": "stream",
     "text": [
      "100%|██████████| 1/1 [00:01<00:00,  1.08s/it]\n"
     ]
    },
    {
     "name": "stdout",
     "output_type": "stream",
     "text": [
      "Escaneando página 39 de 1012\n",
      "Rastreando: https://www.mediamarkt.es/es/category/_hidromasaje-y-parafina-701312.html\n"
     ]
    },
    {
     "name": "stderr",
     "output_type": "stream",
     "text": [
      "100%|██████████| 1/1 [00:00<00:00,  1.02it/s]\n"
     ]
    },
    {
     "name": "stdout",
     "output_type": "stream",
     "text": [
      "Escaneando página 40 de 1012\n",
      "Rastreando: https://www.mediamarkt.es/es/category/_limadores-de-durezas-701313.html\n"
     ]
    },
    {
     "name": "stderr",
     "output_type": "stream",
     "text": [
      "100%|██████████| 1/1 [00:01<00:00,  1.15s/it]\n"
     ]
    },
    {
     "name": "stdout",
     "output_type": "stream",
     "text": [
      "Escaneando página 41 de 1012\n",
      "Rastreando: https://www.mediamarkt.es/es/category/_salud-y-bienestar-701144.html\n"
     ]
    },
    {
     "name": "stderr",
     "output_type": "stream",
     "text": [
      "100%|██████████| 1/1 [00:00<00:00,  1.09it/s]\n"
     ]
    },
    {
     "name": "stdout",
     "output_type": "stream",
     "text": [
      "Escaneando página 42 de 1012\n",
      "Rastreando: https://www.mediamarkt.es/es/category/_b%C3%A1sculas-de-ba%C3%B1o-701314.html\n",
      "Número de páginas: 4\n"
     ]
    },
    {
     "name": "stderr",
     "output_type": "stream",
     "text": [
      "100%|██████████| 4/4 [00:05<00:00,  1.28s/it]\n"
     ]
    },
    {
     "name": "stdout",
     "output_type": "stream",
     "text": [
      "Escaneando página 43 de 1012\n",
      "Rastreando: https://www.mediamarkt.es/es/category/_almohadillas-el%C3%A9ctricas-701315.html\n",
      "Número de páginas: 4\n"
     ]
    },
    {
     "name": "stderr",
     "output_type": "stream",
     "text": [
      "100%|██████████| 4/4 [00:05<00:00,  1.39s/it]\n"
     ]
    },
    {
     "name": "stdout",
     "output_type": "stream",
     "text": [
      "Escaneando página 44 de 1012\n",
      "Rastreando: https://www.mediamarkt.es/es/category/_m%C3%A1quinas-fitness-701316.html\n"
     ]
    },
    {
     "name": "stderr",
     "output_type": "stream",
     "text": [
      "100%|██████████| 1/1 [00:00<00:00,  1.02it/s]\n"
     ]
    },
    {
     "name": "stdout",
     "output_type": "stream",
     "text": [
      "Escaneando página 45 de 1012\n",
      "Rastreando: https://www.mediamarkt.es/es/category/_mantas-el%C3%A9ctricas-701317.html\n"
     ]
    },
    {
     "name": "stderr",
     "output_type": "stream",
     "text": [
      "100%|██████████| 1/1 [00:01<00:00,  1.55s/it]\n"
     ]
    },
    {
     "name": "stdout",
     "output_type": "stream",
     "text": [
      "Escaneando página 46 de 1012\n",
      "Rastreando: https://www.mediamarkt.es/es/category/_aparatos-m%C3%A9dicos-701318.html\n",
      "Número de páginas: 3\n"
     ]
    },
    {
     "name": "stderr",
     "output_type": "stream",
     "text": [
      "100%|██████████| 3/3 [00:04<00:00,  1.56s/it]\n",
      "C:\\ProgramData\\Anaconda3\\lib\\site-packages\\pandas\\core\\frame.py:6211: FutureWarning: Sorting because non-concatenation axis is not aligned. A future version\n",
      "of pandas will change to not sort by default.\n",
      "\n",
      "To accept the future behavior, pass 'sort=False'.\n",
      "\n",
      "To retain the current behavior and silence the warning, pass 'sort=True'.\n",
      "\n",
      "  sort=sort)\n"
     ]
    },
    {
     "name": "stdout",
     "output_type": "stream",
     "text": [
      "Escaneando página 47 de 1012\n",
      "Rastreando: https://www.mediamarkt.es/es/category/_tensi%C3%B3metros-702262.html\n",
      "Número de páginas: 2\n"
     ]
    },
    {
     "name": "stderr",
     "output_type": "stream",
     "text": [
      "100%|██████████| 2/2 [00:02<00:00,  1.02it/s]\n"
     ]
    },
    {
     "name": "stdout",
     "output_type": "stream",
     "text": [
      "Escaneando página 48 de 1012\n",
      "Rastreando: https://www.mediamarkt.es/es/category/_cardi%C3%B3metros-702263.html\n"
     ]
    },
    {
     "name": "stderr",
     "output_type": "stream",
     "text": [
      "100%|██████████| 1/1 [00:00<00:00,  1.14it/s]\n"
     ]
    },
    {
     "name": "stdout",
     "output_type": "stream",
     "text": [
      "Escaneando página 49 de 1012\n",
      "Rastreando: https://www.mediamarkt.es/es/category/_term%C3%B3metros-702264.html\n"
     ]
    },
    {
     "name": "stderr",
     "output_type": "stream",
     "text": [
      "100%|██████████| 1/1 [00:01<00:00,  1.24s/it]\n"
     ]
    },
    {
     "name": "stdout",
     "output_type": "stream",
     "text": [
      "Escaneando página 50 de 1012\n",
      "Rastreando: https://www.mediamarkt.es/es/category/_pulsiox%C3%ADmetros-702265.html\n"
     ]
    },
    {
     "name": "stderr",
     "output_type": "stream",
     "text": [
      "100%|██████████| 1/1 [00:01<00:00,  1.17s/it]\n"
     ]
    },
    {
     "name": "stdout",
     "output_type": "stream",
     "text": [
      "Escaneando página 51 de 1012\n",
      "Rastreando: https://www.mediamarkt.es/es/category/_masaje-701319.html\n",
      "Número de páginas: 3\n"
     ]
    },
    {
     "name": "stderr",
     "output_type": "stream",
     "text": [
      "100%|██████████| 3/3 [00:03<00:00,  1.21s/it]\n"
     ]
    },
    {
     "name": "stdout",
     "output_type": "stream",
     "text": [
      "Escaneando página 52 de 1012\n",
      "Rastreando: https://www.mediamarkt.es/es/category/_l%C3%A1mparas-de-infrarrojos-701320.html\n"
     ]
    },
    {
     "name": "stderr",
     "output_type": "stream",
     "text": [
      "100%|██████████| 1/1 [00:01<00:00,  1.15s/it]\n"
     ]
    },
    {
     "name": "stdout",
     "output_type": "stream",
     "text": [
      "Escaneando página 53 de 1012\n",
      "Rastreando: https://www.mediamarkt.es/es/category/_humidificadores-701321.html\n",
      "Número de páginas: 2\n"
     ]
    },
    {
     "name": "stderr",
     "output_type": "stream",
     "text": [
      "100%|██████████| 2/2 [00:02<00:00,  1.37s/it]\n"
     ]
    },
    {
     "name": "stdout",
     "output_type": "stream",
     "text": [
      "Escaneando página 54 de 1012\n",
      "Rastreando: https://www.mediamarkt.es/es/category/_deshumificadores-701322.html\n"
     ]
    },
    {
     "name": "stderr",
     "output_type": "stream",
     "text": [
      "100%|██████████| 1/1 [00:01<00:00,  1.13s/it]\n"
     ]
    },
    {
     "name": "stdout",
     "output_type": "stream",
     "text": [
      "Escaneando página 55 de 1012\n",
      "Rastreando: https://www.mediamarkt.es/es/category/_purificadores-de-aire-701323.html\n"
     ]
    },
    {
     "name": "stderr",
     "output_type": "stream",
     "text": [
      "100%|██████████| 1/1 [00:01<00:00,  1.21s/it]\n"
     ]
    },
    {
     "name": "stdout",
     "output_type": "stream",
     "text": [
      "Escaneando página 56 de 1012\n",
      "Rastreando: https://www.mediamarkt.es/es/category/_cuidado-del-beb%C3%A9-701145.html\n",
      "Número de páginas: 3\n"
     ]
    },
    {
     "name": "stderr",
     "output_type": "stream",
     "text": [
      "100%|██████████| 3/3 [00:03<00:00,  1.33s/it]\n"
     ]
    },
    {
     "name": "stdout",
     "output_type": "stream",
     "text": [
      "Escaneando página 57 de 1012\n",
      "Rastreando: https://www.mediamarkt.es/es/category/_vigilabeb%C3%A9s-701325.html\n"
     ]
    },
    {
     "name": "stderr",
     "output_type": "stream",
     "text": [
      "100%|██████████| 1/1 [00:00<00:00,  1.09it/s]\n"
     ]
    },
    {
     "name": "stdout",
     "output_type": "stream",
     "text": [
      "Escaneando página 58 de 1012\n",
      "Rastreando: https://www.mediamarkt.es/es/category/_b%C3%A1sculas-701326.html\n"
     ]
    },
    {
     "name": "stderr",
     "output_type": "stream",
     "text": [
      "100%|██████████| 1/1 [00:00<00:00,  1.01it/s]\n"
     ]
    },
    {
     "name": "stdout",
     "output_type": "stream",
     "text": [
      "Escaneando página 59 de 1012\n",
      "Rastreando: https://www.mediamarkt.es/es/category/_term%C3%B3metros-para-beb%C3%A9-701328.html\n"
     ]
    },
    {
     "name": "stderr",
     "output_type": "stream",
     "text": [
      "100%|██████████| 1/1 [00:01<00:00,  1.64s/it]\n"
     ]
    },
    {
     "name": "stdout",
     "output_type": "stream",
     "text": [
      "Escaneando página 60 de 1012\n",
      "Rastreando: https://www.mediamarkt.es/es/category/_humidificadores-701329.html\n"
     ]
    },
    {
     "name": "stderr",
     "output_type": "stream",
     "text": [
      "100%|██████████| 1/1 [00:00<00:00,  1.02it/s]\n"
     ]
    },
    {
     "name": "stdout",
     "output_type": "stream",
     "text": [
      "Escaneando página 61 de 1012\n",
      "Rastreando: https://www.mediamarkt.es/es/category/_preparaci%C3%B3n-alimentos-para-beb%C3%A9-701330.html\n"
     ]
    },
    {
     "name": "stderr",
     "output_type": "stream",
     "text": [
      "100%|██████████| 1/1 [00:01<00:00,  1.47s/it]\n"
     ]
    },
    {
     "name": "stdout",
     "output_type": "stream",
     "text": [
      "Escaneando página 62 de 1012\n",
      "Rastreando: https://www.mediamarkt.es/es/category/_campa%C3%B1as-y-ofertas-701114.html\n"
     ]
    },
    {
     "name": "stderr",
     "output_type": "stream",
     "text": [
      "100%|██████████| 1/1 [00:00<00:00,  1.19it/s]\n"
     ]
    },
    {
     "name": "stdout",
     "output_type": "stream",
     "text": [
      "Escaneando página 63 de 1012\n",
      "Rastreando: https://www.mediamarkt.es/es/category/_oportunidades-701125.html\n",
      "Número de páginas: 30\n"
     ]
    },
    {
     "name": "stderr",
     "output_type": "stream",
     "text": [
      "100%|██████████| 30/30 [00:33<00:00,  1.15s/it]\n"
     ]
    },
    {
     "name": "stdout",
     "output_type": "stream",
     "text": [
      "Escaneando página 64 de 1012\n",
      "Rastreando: https://www.mediamarkt.es/es/category/_deporte-y-foto-712514.html\n"
     ]
    },
    {
     "name": "stderr",
     "output_type": "stream",
     "text": [
      "100%|██████████| 1/1 [00:00<00:00,  1.00it/s]\n"
     ]
    },
    {
     "name": "stdout",
     "output_type": "stream",
     "text": [
      "Escaneando página 65 de 1012\n",
      "Rastreando: https://www.mediamarkt.es/es/category/_electrodom%C3%A9sticos-712515.html\n",
      "Número de páginas: 12\n"
     ]
    },
    {
     "name": "stderr",
     "output_type": "stream",
     "text": [
      "100%|██████████| 12/12 [00:12<00:00,  1.01it/s]\n"
     ]
    },
    {
     "name": "stdout",
     "output_type": "stream",
     "text": [
      "Escaneando página 66 de 1012\n",
      "Rastreando: https://www.mediamarkt.es/es/category/_entretenimiento-712516.html\n",
      "Número de páginas: 10\n"
     ]
    },
    {
     "name": "stderr",
     "output_type": "stream",
     "text": [
      "100%|██████████| 10/10 [00:15<00:00,  1.73s/it]\n"
     ]
    },
    {
     "name": "stdout",
     "output_type": "stream",
     "text": [
      "Escaneando página 67 de 1012\n",
      "Rastreando: https://www.mediamarkt.es/es/category/_inform%C3%A1tica-712517.html\n",
      "Número de páginas: 2\n"
     ]
    },
    {
     "name": "stderr",
     "output_type": "stream",
     "text": [
      "100%|██████████| 2/2 [00:01<00:00,  1.08it/s]\n"
     ]
    },
    {
     "name": "stdout",
     "output_type": "stream",
     "text": [
      "Escaneando página 68 de 1012\n",
      "Rastreando: https://www.mediamarkt.es/es/category/_telefon%C3%ADa-712518.html\n",
      "Número de páginas: 4\n"
     ]
    },
    {
     "name": "stderr",
     "output_type": "stream",
     "text": [
      "100%|██████████| 4/4 [00:04<00:00,  1.00s/it]\n"
     ]
    },
    {
     "name": "stdout",
     "output_type": "stream",
     "text": [
      "Escaneando página 69 de 1012\n",
      "Rastreando: https://www.mediamarkt.es/es/category/_tv-y-audio-712519.html\n",
      "Número de páginas: 4\n"
     ]
    },
    {
     "name": "stderr",
     "output_type": "stream",
     "text": [
      "100%|██████████| 4/4 [00:04<00:00,  1.14s/it]\n"
     ]
    },
    {
     "name": "stdout",
     "output_type": "stream",
     "text": [
      "Escaneando página 70 de 1012\n",
      "Rastreando: https://www.mediamarkt.es/es/category/_plan-renove-721079.html\n",
      "Número de páginas: 62\n"
     ]
    },
    {
     "name": "stderr",
     "output_type": "stream",
     "text": [
      "100%|██████████| 62/62 [01:20<00:00,  1.23s/it]\n"
     ]
    },
    {
     "name": "stdout",
     "output_type": "stream",
     "text": [
      "Escaneando página 71 de 1012\n",
      "Rastreando: https://www.mediamarkt.es/es/category/_tv-y-audio-721097.html\n",
      "Número de páginas: 20\n"
     ]
    },
    {
     "name": "stderr",
     "output_type": "stream",
     "text": [
      "100%|██████████| 20/20 [00:23<00:00,  1.10s/it]\n"
     ]
    },
    {
     "name": "stdout",
     "output_type": "stream",
     "text": [
      "Escaneando página 72 de 1012\n",
      "Rastreando: https://www.mediamarkt.es/es/category/_tv-4k-hasta-43-721105.html\n",
      "Número de páginas: 2\n"
     ]
    },
    {
     "name": "stderr",
     "output_type": "stream",
     "text": [
      "100%|██████████| 2/2 [00:02<00:00,  1.06s/it]\n"
     ]
    },
    {
     "name": "stdout",
     "output_type": "stream",
     "text": [
      "Escaneando página 73 de 1012\n",
      "Rastreando: https://www.mediamarkt.es/es/category/_tv-4k-de-44-a-55-721101.html\n",
      "Número de páginas: 4\n"
     ]
    },
    {
     "name": "stderr",
     "output_type": "stream",
     "text": [
      "100%|██████████| 4/4 [00:04<00:00,  1.03s/it]\n"
     ]
    },
    {
     "name": "stdout",
     "output_type": "stream",
     "text": [
      "Escaneando página 74 de 1012\n",
      "Rastreando: https://www.mediamarkt.es/es/category/_tv-4k-de-56-a-65-721104.html\n",
      "Número de páginas: 3\n"
     ]
    },
    {
     "name": "stderr",
     "output_type": "stream",
     "text": [
      "100%|██████████| 3/3 [00:03<00:00,  1.14s/it]\n"
     ]
    },
    {
     "name": "stdout",
     "output_type": "stream",
     "text": [
      "Escaneando página 75 de 1012\n",
      "Rastreando: https://www.mediamarkt.es/es/category/_tv-4k-a-partir-de-66-721100.html\n",
      "Número de páginas: 2\n"
     ]
    },
    {
     "name": "stderr",
     "output_type": "stream",
     "text": [
      "100%|██████████| 2/2 [00:02<00:00,  1.31s/it]\n"
     ]
    },
    {
     "name": "stdout",
     "output_type": "stream",
     "text": [
      "Escaneando página 76 de 1012\n",
      "Rastreando: https://www.mediamarkt.es/es/category/_barras-de-sonido-721103.html\n",
      "Número de páginas: 2\n"
     ]
    },
    {
     "name": "stderr",
     "output_type": "stream",
     "text": [
      "100%|██████████| 2/2 [00:03<00:00,  1.43s/it]\n"
     ]
    },
    {
     "name": "stdout",
     "output_type": "stream",
     "text": [
      "Escaneando página 77 de 1012\n",
      "Rastreando: https://www.mediamarkt.es/es/category/_altavoces-721102.html\n",
      "Número de páginas: 8\n"
     ]
    },
    {
     "name": "stderr",
     "output_type": "stream",
     "text": [
      "100%|██████████| 8/8 [00:10<00:00,  1.25s/it]\n"
     ]
    },
    {
     "name": "stdout",
     "output_type": "stream",
     "text": [
      "Escaneando página 78 de 1012\n",
      "Rastreando: https://www.mediamarkt.es/es/category/_inform%C3%A1tica-721095.html\n",
      "Número de páginas: 22\n"
     ]
    },
    {
     "name": "stderr",
     "output_type": "stream",
     "text": [
      "100%|██████████| 22/22 [00:26<00:00,  1.04s/it]\n"
     ]
    },
    {
     "name": "stdout",
     "output_type": "stream",
     "text": [
      "Escaneando página 79 de 1012\n",
      "Rastreando: https://www.mediamarkt.es/es/category/_impresoras-721108.html\n",
      "Número de páginas: 8\n"
     ]
    },
    {
     "name": "stderr",
     "output_type": "stream",
     "text": [
      "100%|██████████| 8/8 [00:10<00:00,  1.30s/it]\n"
     ]
    },
    {
     "name": "stdout",
     "output_type": "stream",
     "text": [
      "Escaneando página 80 de 1012\n",
      "Rastreando: https://www.mediamarkt.es/es/category/_pcs-721109.html\n",
      "Número de páginas: 3\n"
     ]
    },
    {
     "name": "stderr",
     "output_type": "stream",
     "text": [
      "100%|██████████| 3/3 [00:04<00:00,  1.48s/it]\n"
     ]
    },
    {
     "name": "stdout",
     "output_type": "stream",
     "text": [
      "Escaneando página 81 de 1012\n",
      "Rastreando: https://www.mediamarkt.es/es/category/_port%C3%A1tiles-721110.html\n",
      "Número de páginas: 11\n"
     ]
    },
    {
     "name": "stderr",
     "output_type": "stream",
     "text": [
      "100%|██████████| 11/11 [00:13<00:00,  1.28s/it]\n"
     ]
    },
    {
     "name": "stdout",
     "output_type": "stream",
     "text": [
      "Escaneando página 82 de 1012\n",
      "Rastreando: https://www.mediamarkt.es/es/category/_tablets-721111.html\n"
     ]
    },
    {
     "name": "stderr",
     "output_type": "stream",
     "text": [
      "100%|██████████| 1/1 [00:00<00:00,  1.01it/s]\n"
     ]
    },
    {
     "name": "stdout",
     "output_type": "stream",
     "text": [
      "Escaneando página 83 de 1012\n",
      "Rastreando: https://www.mediamarkt.es/es/category/_telefon%C3%ADa-721096.html\n",
      "Número de páginas: 9\n"
     ]
    },
    {
     "name": "stderr",
     "output_type": "stream",
     "text": [
      "100%|██████████| 9/9 [00:09<00:00,  1.02it/s]\n"
     ]
    },
    {
     "name": "stdout",
     "output_type": "stream",
     "text": [
      "Escaneando página 84 de 1012\n",
      "Rastreando: https://www.mediamarkt.es/es/category/_smartphones-721106.html\n",
      "Número de páginas: 5\n"
     ]
    },
    {
     "name": "stderr",
     "output_type": "stream",
     "text": [
      "100%|██████████| 5/5 [00:05<00:00,  1.01s/it]\n"
     ]
    },
    {
     "name": "stdout",
     "output_type": "stream",
     "text": [
      "Escaneando página 85 de 1012\n",
      "Rastreando: https://www.mediamarkt.es/es/category/_smartwatches-721107.html\n",
      "Número de páginas: 4\n"
     ]
    },
    {
     "name": "stderr",
     "output_type": "stream",
     "text": [
      "100%|██████████| 4/4 [00:05<00:00,  1.22s/it]\n"
     ]
    },
    {
     "name": "stdout",
     "output_type": "stream",
     "text": [
      "Escaneando página 86 de 1012\n",
      "Rastreando: https://www.mediamarkt.es/es/category/_deporte-y-foto-721092.html\n",
      "Número de páginas: 12\n"
     ]
    },
    {
     "name": "stderr",
     "output_type": "stream",
     "text": [
      "100%|██████████| 12/12 [00:18<00:00,  1.60s/it]\n"
     ]
    },
    {
     "name": "stdout",
     "output_type": "stream",
     "text": [
      "Escaneando página 87 de 1012\n",
      "Rastreando: https://www.mediamarkt.es/es/category/_fotograf%C3%ADa-721112.html\n",
      "Número de páginas: 10\n"
     ]
    },
    {
     "name": "stderr",
     "output_type": "stream",
     "text": [
      "100%|██████████| 10/10 [00:14<00:00,  1.34s/it]\n"
     ]
    },
    {
     "name": "stdout",
     "output_type": "stream",
     "text": [
      "Escaneando página 88 de 1012\n",
      "Rastreando: https://www.mediamarkt.es/es/category/_movilidad-721113.html\n",
      "Número de páginas: 3\n"
     ]
    },
    {
     "name": "stderr",
     "output_type": "stream",
     "text": [
      "100%|██████████| 3/3 [00:03<00:00,  1.11s/it]\n"
     ]
    },
    {
     "name": "stdout",
     "output_type": "stream",
     "text": [
      "Escaneando página 89 de 1012\n",
      "Rastreando: https://www.mediamarkt.es/es/category/_entretenimiento-721094.html\n"
     ]
    },
    {
     "name": "stderr",
     "output_type": "stream",
     "text": [
      "100%|██████████| 1/1 [00:01<00:00,  1.21s/it]\n"
     ]
    },
    {
     "name": "stdout",
     "output_type": "stream",
     "text": [
      "Escaneando página 90 de 1012\n",
      "Rastreando: https://www.mediamarkt.es/es/category/_tv-audio-y-foto-701116.html\n"
     ]
    },
    {
     "name": "stderr",
     "output_type": "stream",
     "text": [
      "100%|██████████| 1/1 [00:00<00:00,  1.27it/s]\n"
     ]
    },
    {
     "name": "stdout",
     "output_type": "stream",
     "text": [
      "Escaneando página 91 de 1012\n",
      "Rastreando: https://www.mediamarkt.es/es/category/_televisi%C3%B3n-701130.html\n"
     ]
    },
    {
     "name": "stderr",
     "output_type": "stream",
     "text": [
      "100%|██████████| 1/1 [00:01<00:00,  1.02s/it]\n"
     ]
    },
    {
     "name": "stdout",
     "output_type": "stream",
     "text": [
      "Escaneando página 92 de 1012\n",
      "Rastreando: https://www.mediamarkt.es/es/category/_televisores-701210.html\n",
      "Número de páginas: 12\n"
     ]
    },
    {
     "name": "stderr",
     "output_type": "stream",
     "text": [
      "100%|██████████| 12/12 [00:12<00:00,  1.01it/s]\n"
     ]
    },
    {
     "name": "stdout",
     "output_type": "stream",
     "text": [
      "Escaneando página 93 de 1012\n",
      "Rastreando: https://www.mediamarkt.es/es/category/_tv-hasta-27-pulgadas-702040.html\n"
     ]
    },
    {
     "name": "stderr",
     "output_type": "stream",
     "text": [
      "100%|██████████| 1/1 [00:00<00:00,  1.03it/s]\n"
     ]
    },
    {
     "name": "stdout",
     "output_type": "stream",
     "text": [
      "Escaneando página 94 de 1012\n",
      "Rastreando: https://www.mediamarkt.es/es/category/_tv-28-32-pulgadas-702041.html\n",
      "Número de páginas: 2\n"
     ]
    },
    {
     "name": "stderr",
     "output_type": "stream",
     "text": [
      "100%|██████████| 2/2 [00:01<00:00,  1.09it/s]\n"
     ]
    },
    {
     "name": "stdout",
     "output_type": "stream",
     "text": [
      "Escaneando página 95 de 1012\n",
      "Rastreando: https://www.mediamarkt.es/es/category/_tv-40-43-pulgadas-702042.html\n",
      "Número de páginas: 2\n"
     ]
    },
    {
     "name": "stderr",
     "output_type": "stream",
     "text": [
      "100%|██████████| 2/2 [00:01<00:00,  1.02it/s]\n"
     ]
    },
    {
     "name": "stdout",
     "output_type": "stream",
     "text": [
      "Escaneando página 96 de 1012\n",
      "Rastreando: https://www.mediamarkt.es/es/category/_tv-48-50-pulgadas-702043.html\n",
      "Número de páginas: 2\n"
     ]
    },
    {
     "name": "stderr",
     "output_type": "stream",
     "text": [
      "100%|██████████| 2/2 [00:01<00:00,  1.08it/s]\n"
     ]
    },
    {
     "name": "stdout",
     "output_type": "stream",
     "text": [
      "Escaneando página 97 de 1012\n",
      "Rastreando: https://www.mediamarkt.es/es/category/_tv-55-60-pulgadas-702044.html\n",
      "Número de páginas: 3\n"
     ]
    },
    {
     "name": "stderr",
     "output_type": "stream",
     "text": [
      "100%|██████████| 3/3 [00:02<00:00,  1.05it/s]\n"
     ]
    },
    {
     "name": "stdout",
     "output_type": "stream",
     "text": [
      "Escaneando página 98 de 1012\n",
      "Rastreando: https://www.mediamarkt.es/es/category/_tv-desde-65-pulgadas-702045.html\n",
      "Número de páginas: 4\n"
     ]
    },
    {
     "name": "stderr",
     "output_type": "stream",
     "text": [
      "100%|██████████| 4/4 [00:04<00:00,  1.03s/it]\n"
     ]
    },
    {
     "name": "stdout",
     "output_type": "stream",
     "text": [
      "Escaneando página 99 de 1012\n",
      "Rastreando: https://www.mediamarkt.es/es/category/_soportes-tv-701211.html\n",
      "Número de páginas: 9\n"
     ]
    },
    {
     "name": "stderr",
     "output_type": "stream",
     "text": [
      "100%|██████████| 9/9 [00:09<00:00,  1.06s/it]\n"
     ]
    },
    {
     "name": "stdout",
     "output_type": "stream",
     "text": [
      "Escaneando página 100 de 1012\n",
      "Rastreando: https://www.mediamarkt.es/es/category/_tv-fijos-702046.html\n",
      "Número de páginas: 2\n"
     ]
    },
    {
     "name": "stderr",
     "output_type": "stream",
     "text": [
      "100%|██████████| 2/2 [00:02<00:00,  1.26s/it]\n"
     ]
    },
    {
     "name": "stdout",
     "output_type": "stream",
     "text": [
      "Escaneando página 101 de 1012\n",
      "Rastreando: https://www.mediamarkt.es/es/category/_tv-inclinable-702047.html\n",
      "Número de páginas: 2\n"
     ]
    },
    {
     "name": "stderr",
     "output_type": "stream",
     "text": [
      "100%|██████████| 2/2 [00:02<00:00,  1.46s/it]\n"
     ]
    },
    {
     "name": "stdout",
     "output_type": "stream",
     "text": [
      "Escaneando página 102 de 1012\n",
      "Rastreando: https://www.mediamarkt.es/es/category/_tv-con-brazo-702048.html\n",
      "Número de páginas: 4\n"
     ]
    },
    {
     "name": "stderr",
     "output_type": "stream",
     "text": [
      "100%|██████████| 4/4 [00:05<00:00,  1.20s/it]\n"
     ]
    },
    {
     "name": "stdout",
     "output_type": "stream",
     "text": [
      "Escaneando página 103 de 1012\n",
      "Rastreando: https://www.mediamarkt.es/es/category/_tv-techo-702049.html\n"
     ]
    },
    {
     "name": "stderr",
     "output_type": "stream",
     "text": [
      "100%|██████████| 1/1 [00:01<00:00,  1.13s/it]\n"
     ]
    },
    {
     "name": "stdout",
     "output_type": "stream",
     "text": [
      "Escaneando página 104 de 1012\n",
      "Rastreando: https://www.mediamarkt.es/es/category/_soportes-proyector-702050.html\n"
     ]
    },
    {
     "name": "stderr",
     "output_type": "stream",
     "text": [
      "100%|██████████| 1/1 [00:01<00:00,  1.19s/it]\n"
     ]
    },
    {
     "name": "stdout",
     "output_type": "stream",
     "text": [
      "Escaneando página 105 de 1012\n",
      "Rastreando: https://www.mediamarkt.es/es/category/_soportes-altavoces-702051.html\n"
     ]
    },
    {
     "name": "stderr",
     "output_type": "stream",
     "text": [
      "100%|██████████| 1/1 [00:01<00:00,  1.16s/it]\n"
     ]
    },
    {
     "name": "stdout",
     "output_type": "stream",
     "text": [
      "Escaneando página 106 de 1012\n",
      "Rastreando: https://www.mediamarkt.es/es/category/_otros-soportes-702052.html\n"
     ]
    },
    {
     "name": "stderr",
     "output_type": "stream",
     "text": [
      "100%|██████████| 1/1 [00:01<00:00,  1.06s/it]\n"
     ]
    },
    {
     "name": "stdout",
     "output_type": "stream",
     "text": [
      "Escaneando página 107 de 1012\n",
      "Rastreando: https://www.mediamarkt.es/es/category/_internet-tv-tdt-sat%C3%A9lite-701212.html\n",
      "Número de páginas: 3\n"
     ]
    },
    {
     "name": "stderr",
     "output_type": "stream",
     "text": [
      "100%|██████████| 3/3 [00:04<00:00,  1.37s/it]\n"
     ]
    },
    {
     "name": "stdout",
     "output_type": "stream",
     "text": [
      "Escaneando página 108 de 1012\n",
      "Rastreando: https://www.mediamarkt.es/es/category/_smart-tv-box-702053.html\n"
     ]
    },
    {
     "name": "stderr",
     "output_type": "stream",
     "text": [
      "100%|██████████| 1/1 [00:00<00:00,  1.14it/s]\n"
     ]
    },
    {
     "name": "stdout",
     "output_type": "stream",
     "text": [
      "Escaneando página 109 de 1012\n",
      "Rastreando: https://www.mediamarkt.es/es/category/_receptor-tdt-702054.html\n"
     ]
    },
    {
     "name": "stderr",
     "output_type": "stream",
     "text": [
      "100%|██████████| 1/1 [00:01<00:00,  1.55s/it]\n"
     ]
    },
    {
     "name": "stdout",
     "output_type": "stream",
     "text": [
      "Escaneando página 110 de 1012\n",
      "Rastreando: https://www.mediamarkt.es/es/category/_sat%C3%A9lite-702055.html\n"
     ]
    },
    {
     "name": "stderr",
     "output_type": "stream",
     "text": [
      "100%|██████████| 1/1 [00:01<00:00,  1.05s/it]\n"
     ]
    },
    {
     "name": "stdout",
     "output_type": "stream",
     "text": [
      "Escaneando página 111 de 1012\n",
      "Rastreando: https://www.mediamarkt.es/es/category/_mandos-teclados-smart-tv-702057.html\n"
     ]
    },
    {
     "name": "stderr",
     "output_type": "stream",
     "text": [
      "100%|██████████| 1/1 [00:01<00:00,  1.18s/it]\n"
     ]
    },
    {
     "name": "stdout",
     "output_type": "stream",
     "text": [
      "Escaneando página 112 de 1012\n",
      "Rastreando: https://www.mediamarkt.es/es/category/_accesorios-702058.html\n"
     ]
    },
    {
     "name": "stderr",
     "output_type": "stream",
     "text": [
      "100%|██████████| 1/1 [00:00<00:00,  1.02it/s]\n"
     ]
    },
    {
     "name": "stdout",
     "output_type": "stream",
     "text": [
      "Escaneando página 113 de 1012\n",
      "Rastreando: https://www.mediamarkt.es/es/category/_proyectores-701213.html\n",
      "Número de páginas: 3\n"
     ]
    },
    {
     "name": "stderr",
     "output_type": "stream",
     "text": [
      "100%|██████████| 3/3 [00:03<00:00,  1.30s/it]\n"
     ]
    },
    {
     "name": "stdout",
     "output_type": "stream",
     "text": [
      "Escaneando página 114 de 1012\n",
      "Rastreando: https://www.mediamarkt.es/es/category/_cine-en-casa-3d-702059.html\n",
      "Número de páginas: 2\n"
     ]
    },
    {
     "name": "stderr",
     "output_type": "stream",
     "text": [
      "100%|██████████| 2/2 [00:02<00:00,  1.22s/it]\n"
     ]
    },
    {
     "name": "stdout",
     "output_type": "stream",
     "text": [
      "Escaneando página 115 de 1012\n",
      "Rastreando: https://www.mediamarkt.es/es/category/_profesional-702060.html\n"
     ]
    },
    {
     "name": "stderr",
     "output_type": "stream",
     "text": [
      "100%|██████████| 1/1 [00:00<00:00,  1.17it/s]\n"
     ]
    },
    {
     "name": "stdout",
     "output_type": "stream",
     "text": [
      "Escaneando página 116 de 1012\n",
      "Rastreando: https://www.mediamarkt.es/es/category/_mini-proyectores-702061.html\n"
     ]
    },
    {
     "name": "stderr",
     "output_type": "stream",
     "text": [
      "100%|██████████| 1/1 [00:01<00:00,  1.14s/it]\n"
     ]
    },
    {
     "name": "stdout",
     "output_type": "stream",
     "text": [
      "Escaneando página 117 de 1012\n",
      "Rastreando: https://www.mediamarkt.es/es/category/_pantallas-proyecci%C3%B3n-702062.html\n",
      "Número de páginas: 2\n"
     ]
    },
    {
     "name": "stderr",
     "output_type": "stream",
     "text": [
      "100%|██████████| 2/2 [00:02<00:00,  1.20s/it]\n"
     ]
    },
    {
     "name": "stdout",
     "output_type": "stream",
     "text": [
      "Escaneando página 118 de 1012\n",
      "Rastreando: https://www.mediamarkt.es/es/category/_soportes-702063.html\n"
     ]
    },
    {
     "name": "stderr",
     "output_type": "stream",
     "text": [
      "100%|██████████| 1/1 [00:01<00:00,  1.09s/it]\n"
     ]
    },
    {
     "name": "stdout",
     "output_type": "stream",
     "text": [
      "Escaneando página 119 de 1012\n",
      "Rastreando: https://www.mediamarkt.es/es/category/_accesorios-proyectores-702064.html\n"
     ]
    },
    {
     "name": "stderr",
     "output_type": "stream",
     "text": [
      "100%|██████████| 1/1 [00:00<00:00,  1.03it/s]\n"
     ]
    },
    {
     "name": "stdout",
     "output_type": "stream",
     "text": [
      "Escaneando página 120 de 1012\n",
      "Rastreando: https://www.mediamarkt.es/es/category/_reproductores-dvd-blu-ray-701214.html\n"
     ]
    },
    {
     "name": "stderr",
     "output_type": "stream",
     "text": [
      "100%|██████████| 1/1 [00:01<00:00,  1.61s/it]\n"
     ]
    },
    {
     "name": "stdout",
     "output_type": "stream",
     "text": [
      "Escaneando página 121 de 1012\n",
      "Rastreando: https://www.mediamarkt.es/es/category/_bluray-smart-tv-702065.html\n"
     ]
    },
    {
     "name": "stderr",
     "output_type": "stream",
     "text": [
      "100%|██████████| 1/1 [00:02<00:00,  2.16s/it]\n"
     ]
    },
    {
     "name": "stdout",
     "output_type": "stream",
     "text": [
      "Escaneando página 122 de 1012\n",
      "Rastreando: https://www.mediamarkt.es/es/category/_dvd-702066.html\n"
     ]
    },
    {
     "name": "stderr",
     "output_type": "stream",
     "text": [
      "100%|██████████| 1/1 [00:00<00:00,  1.02it/s]\n"
     ]
    },
    {
     "name": "stdout",
     "output_type": "stream",
     "text": [
      "Escaneando página 123 de 1012\n",
      "Rastreando: https://www.mediamarkt.es/es/category/_blu-ray-702067.html\n"
     ]
    },
    {
     "name": "stderr",
     "output_type": "stream",
     "text": [
      "100%|██████████| 1/1 [00:01<00:00,  1.06s/it]\n"
     ]
    },
    {
     "name": "stdout",
     "output_type": "stream",
     "text": [
      "Escaneando página 124 de 1012\n",
      "Rastreando: https://www.mediamarkt.es/es/category/_dvd-port%C3%A1til-702068.html\n"
     ]
    },
    {
     "name": "stderr",
     "output_type": "stream",
     "text": [
      "100%|██████████| 1/1 [00:01<00:00,  1.34s/it]\n"
     ]
    },
    {
     "name": "stdout",
     "output_type": "stream",
     "text": [
      "Escaneando página 125 de 1012\n",
      "Rastreando: https://www.mediamarkt.es/es/category/_antenas-tv-701218.html\n",
      "Número de páginas: 5\n"
     ]
    },
    {
     "name": "stderr",
     "output_type": "stream",
     "text": [
      "100%|██████████| 5/5 [00:10<00:00,  2.11s/it]\n"
     ]
    },
    {
     "name": "stdout",
     "output_type": "stream",
     "text": [
      "Escaneando página 126 de 1012\n",
      "Rastreando: https://www.mediamarkt.es/es/category/_antenas-exteriores-702075.html\n"
     ]
    },
    {
     "name": "stderr",
     "output_type": "stream",
     "text": [
      "100%|██████████| 1/1 [00:01<00:00,  1.24s/it]\n"
     ]
    },
    {
     "name": "stdout",
     "output_type": "stream",
     "text": [
      "Escaneando página 127 de 1012\n",
      "Rastreando: https://www.mediamarkt.es/es/category/_antenas-interiores-702076.html\n",
      "Número de páginas: 2\n"
     ]
    },
    {
     "name": "stderr",
     "output_type": "stream",
     "text": [
      "100%|██████████| 2/2 [00:02<00:00,  1.29s/it]\n"
     ]
    },
    {
     "name": "stdout",
     "output_type": "stream",
     "text": [
      "Escaneando página 128 de 1012\n",
      "Rastreando: https://www.mediamarkt.es/es/category/_amplificadores-antena-702077.html\n"
     ]
    },
    {
     "name": "stderr",
     "output_type": "stream",
     "text": [
      "100%|██████████| 1/1 [00:01<00:00,  1.26s/it]\n"
     ]
    },
    {
     "name": "stdout",
     "output_type": "stream",
     "text": [
      "Escaneando página 129 de 1012\n",
      "Rastreando: https://www.mediamarkt.es/es/category/_transmisores-se%C3%B1al-702078.html\n"
     ]
    },
    {
     "name": "stderr",
     "output_type": "stream",
     "text": [
      "100%|██████████| 1/1 [00:01<00:00,  1.01s/it]\n"
     ]
    },
    {
     "name": "stdout",
     "output_type": "stream",
     "text": [
      "Escaneando página 130 de 1012\n",
      "Rastreando: https://www.mediamarkt.es/es/category/_cables-y-accesorios-702079.html\n",
      "Número de páginas: 3\n"
     ]
    },
    {
     "name": "stderr",
     "output_type": "stream",
     "text": [
      "100%|██████████| 3/3 [00:04<00:00,  1.68s/it]\n"
     ]
    },
    {
     "name": "stdout",
     "output_type": "stream",
     "text": [
      "Escaneando página 131 de 1012\n",
      "Rastreando: https://www.mediamarkt.es/es/category/_mandos-a-distancia-701219.html\n",
      "Número de páginas: 3\n"
     ]
    },
    {
     "name": "stderr",
     "output_type": "stream",
     "text": [
      "100%|██████████| 3/3 [00:04<00:00,  1.43s/it]\n"
     ]
    },
    {
     "name": "stdout",
     "output_type": "stream",
     "text": [
      "Escaneando página 132 de 1012\n",
      "Rastreando: https://www.mediamarkt.es/es/category/_mandos-universales-702080.html\n",
      "Número de páginas: 2\n"
     ]
    },
    {
     "name": "stderr",
     "output_type": "stream",
     "text": [
      "100%|██████████| 2/2 [00:02<00:00,  1.08s/it]\n"
     ]
    },
    {
     "name": "stdout",
     "output_type": "stream",
     "text": [
      "Escaneando página 133 de 1012\n",
      "Rastreando: https://www.mediamarkt.es/es/category/_mandos-teclados-smart-tv-702081.html\n"
     ]
    },
    {
     "name": "stderr",
     "output_type": "stream",
     "text": [
      "100%|██████████| 1/1 [00:01<00:00,  1.21s/it]\n"
     ]
    },
    {
     "name": "stdout",
     "output_type": "stream",
     "text": [
      "Escaneando página 134 de 1012\n",
      "Rastreando: https://www.mediamarkt.es/es/category/_pilas-702082.html\n"
     ]
    },
    {
     "name": "stderr",
     "output_type": "stream",
     "text": [
      "100%|██████████| 1/1 [00:02<00:00,  2.34s/it]\n"
     ]
    },
    {
     "name": "stdout",
     "output_type": "stream",
     "text": [
      "Escaneando página 135 de 1012\n",
      "Rastreando: https://www.mediamarkt.es/es/category/_cables-tv-701220.html\n",
      "Número de páginas: 8\n"
     ]
    },
    {
     "name": "stderr",
     "output_type": "stream",
     "text": [
      "100%|██████████| 8/8 [00:11<00:00,  1.47s/it]\n"
     ]
    },
    {
     "name": "stdout",
     "output_type": "stream",
     "text": [
      "Escaneando página 136 de 1012\n",
      "Rastreando: https://www.mediamarkt.es/es/category/_cables-hdmi-702083.html\n",
      "Número de páginas: 4\n"
     ]
    },
    {
     "name": "stderr",
     "output_type": "stream",
     "text": [
      "100%|██████████| 4/4 [00:05<00:00,  1.45s/it]\n"
     ]
    },
    {
     "name": "stdout",
     "output_type": "stream",
     "text": [
      "Escaneando página 137 de 1012\n",
      "Rastreando: https://www.mediamarkt.es/es/category/_cables-euroconector-702084.html\n"
     ]
    },
    {
     "name": "stderr",
     "output_type": "stream",
     "text": [
      "100%|██████████| 1/1 [00:01<00:00,  1.02s/it]\n"
     ]
    },
    {
     "name": "stdout",
     "output_type": "stream",
     "text": [
      "Escaneando página 138 de 1012\n",
      "Rastreando: https://www.mediamarkt.es/es/category/_cables-de-antena-702085.html\n",
      "Número de páginas: 4\n"
     ]
    },
    {
     "name": "stderr",
     "output_type": "stream",
     "text": [
      "100%|██████████| 4/4 [00:04<00:00,  1.15s/it]\n"
     ]
    },
    {
     "name": "stdout",
     "output_type": "stream",
     "text": [
      "Escaneando página 139 de 1012\n",
      "Rastreando: https://www.mediamarkt.es/es/category/_cables-de-v%C3%ADdeo-702086.html\n"
     ]
    },
    {
     "name": "stderr",
     "output_type": "stream",
     "text": [
      "100%|██████████| 1/1 [00:00<00:00,  1.13it/s]\n"
     ]
    },
    {
     "name": "stdout",
     "output_type": "stream",
     "text": [
      "Escaneando página 140 de 1012\n",
      "Rastreando: https://www.mediamarkt.es/es/category/_adaptadores-audio-video-702087.html\n"
     ]
    },
    {
     "name": "stderr",
     "output_type": "stream",
     "text": [
      "100%|██████████| 1/1 [00:01<00:00,  1.40s/it]\n"
     ]
    },
    {
     "name": "stdout",
     "output_type": "stream",
     "text": [
      "Escaneando página 141 de 1012\n",
      "Rastreando: https://www.mediamarkt.es/es/category/_limpieza-televisi%C3%B3n-701222.html\n"
     ]
    },
    {
     "name": "stderr",
     "output_type": "stream",
     "text": [
      "100%|██████████| 1/1 [00:01<00:00,  1.10s/it]\n"
     ]
    },
    {
     "name": "stdout",
     "output_type": "stream",
     "text": [
      "Escaneando página 142 de 1012\n",
      "Rastreando: https://www.mediamarkt.es/es/category/_audio-y-hifi-701131.html\n"
     ]
    },
    {
     "name": "stderr",
     "output_type": "stream",
     "text": [
      "100%|██████████| 1/1 [00:01<00:00,  1.15s/it]\n"
     ]
    },
    {
     "name": "stdout",
     "output_type": "stream",
     "text": [
      "Escaneando página 143 de 1012\n",
      "Rastreando: https://www.mediamarkt.es/es/category/_altavoces-hifi-701223.html\n",
      "Número de páginas: 36\n"
     ]
    },
    {
     "name": "stderr",
     "output_type": "stream",
     "text": [
      "100%|██████████| 36/36 [00:53<00:00,  1.04s/it]\n"
     ]
    },
    {
     "name": "stdout",
     "output_type": "stream",
     "text": [
      "Escaneando página 144 de 1012\n",
      "Rastreando: https://www.mediamarkt.es/es/category/_altavoces-inal%C3%A1mbricos-702088.html\n",
      "Número de páginas: 18\n"
     ]
    },
    {
     "name": "stderr",
     "output_type": "stream",
     "text": [
      "100%|██████████| 18/18 [00:20<00:00,  1.08s/it]\n"
     ]
    },
    {
     "name": "stdout",
     "output_type": "stream",
     "text": [
      "Escaneando página 145 de 1012\n",
      "Rastreando: https://www.mediamarkt.es/es/category/_altavoces-inteligentes-716009.html\n",
      "Número de páginas: 2\n"
     ]
    },
    {
     "name": "stderr",
     "output_type": "stream",
     "text": [
      "100%|██████████| 2/2 [00:02<00:00,  1.44s/it]\n"
     ]
    },
    {
     "name": "stdout",
     "output_type": "stream",
     "text": [
      "Escaneando página 146 de 1012\n",
      "Rastreando: https://www.mediamarkt.es/es/category/_altavoces-para-pc-702089.html\n",
      "Número de páginas: 3\n"
     ]
    },
    {
     "name": "stderr",
     "output_type": "stream",
     "text": [
      "100%|██████████| 3/3 [00:03<00:00,  1.16s/it]\n"
     ]
    },
    {
     "name": "stdout",
     "output_type": "stream",
     "text": [
      "Escaneando página 147 de 1012\n",
      "Rastreando: https://www.mediamarkt.es/es/category/_altavoces-bluetooth-702579.html\n"
     ]
    },
    {
     "name": "stderr",
     "output_type": "stream",
     "text": [
      "100%|██████████| 1/1 [00:00<00:00,  1.15it/s]\n"
     ]
    },
    {
     "name": "stdout",
     "output_type": "stream",
     "text": [
      "Escaneando página 148 de 1012\n",
      "Rastreando: https://www.mediamarkt.es/es/category/_altavoces-5-1-702580.html\n"
     ]
    },
    {
     "name": "stderr",
     "output_type": "stream",
     "text": [
      "100%|██████████| 1/1 [00:01<00:00,  1.06s/it]\n"
     ]
    },
    {
     "name": "stdout",
     "output_type": "stream",
     "text": [
      "Escaneando página 149 de 1012\n",
      "Rastreando: https://www.mediamarkt.es/es/category/_altavoces-2-1-702581.html\n"
     ]
    },
    {
     "name": "stderr",
     "output_type": "stream",
     "text": [
      "100%|██████████| 1/1 [00:01<00:00,  1.15s/it]\n"
     ]
    },
    {
     "name": "stdout",
     "output_type": "stream",
     "text": [
      "Escaneando página 150 de 1012\n",
      "Rastreando: https://www.mediamarkt.es/es/category/_altavoces-jack-3-5-702582.html\n"
     ]
    },
    {
     "name": "stderr",
     "output_type": "stream",
     "text": [
      "100%|██████████| 1/1 [00:01<00:00,  1.20s/it]\n"
     ]
    },
    {
     "name": "stdout",
     "output_type": "stream",
     "text": [
      "Escaneando página 151 de 1012\n",
      "Rastreando: https://www.mediamarkt.es/es/category/_altavoces-usb-702583.html\n"
     ]
    },
    {
     "name": "stderr",
     "output_type": "stream",
     "text": [
      "100%|██████████| 1/1 [00:00<00:00,  1.01it/s]\n"
     ]
    },
    {
     "name": "stdout",
     "output_type": "stream",
     "text": [
      "Escaneando página 152 de 1012\n",
      "Rastreando: https://www.mediamarkt.es/es/category/_sistema-multiroom-702090.html\n",
      "Número de páginas: 5\n"
     ]
    },
    {
     "name": "stderr",
     "output_type": "stream",
     "text": [
      "100%|██████████| 5/5 [00:07<00:00,  1.55s/it]\n"
     ]
    },
    {
     "name": "stdout",
     "output_type": "stream",
     "text": [
      "Escaneando página 153 de 1012\n",
      "Rastreando: https://www.mediamarkt.es/es/category/_altavoces-multiroom-702584.html\n",
      "Número de páginas: 2\n"
     ]
    },
    {
     "name": "stderr",
     "output_type": "stream",
     "text": [
      "100%|██████████| 2/2 [00:02<00:00,  1.40s/it]\n"
     ]
    },
    {
     "name": "stdout",
     "output_type": "stream",
     "text": [
      "Escaneando página 154 de 1012\n",
      "Rastreando: https://www.mediamarkt.es/es/category/_barras-de-sonido-multiroom-702585.html\n"
     ]
    },
    {
     "name": "stderr",
     "output_type": "stream",
     "text": [
      "100%|██████████| 1/1 [00:01<00:00,  1.12s/it]\n"
     ]
    },
    {
     "name": "stdout",
     "output_type": "stream",
     "text": [
      "Escaneando página 155 de 1012\n",
      "Rastreando: https://www.mediamarkt.es/es/category/_amplificadores-multiroom-702586.html\n"
     ]
    },
    {
     "name": "stderr",
     "output_type": "stream",
     "text": [
      "100%|██████████| 1/1 [00:01<00:00,  1.08s/it]\n"
     ]
    },
    {
     "name": "stdout",
     "output_type": "stream",
     "text": [
      "Escaneando página 156 de 1012\n",
      "Rastreando: https://www.mediamarkt.es/es/category/_torres-de-sonido-702091.html\n"
     ]
    },
    {
     "name": "stderr",
     "output_type": "stream",
     "text": [
      "100%|██████████| 1/1 [00:00<00:00,  1.01it/s]\n"
     ]
    },
    {
     "name": "stdout",
     "output_type": "stream",
     "text": [
      "Escaneando página 157 de 1012\n",
      "Rastreando: https://www.mediamarkt.es/es/category/_altavoces-hifi-est%C3%A9reo-702092.html\n",
      "Número de páginas: 6\n"
     ]
    },
    {
     "name": "stderr",
     "output_type": "stream",
     "text": [
      "100%|██████████| 6/6 [00:10<00:00,  1.70s/it]\n"
     ]
    },
    {
     "name": "stdout",
     "output_type": "stream",
     "text": [
      "Escaneando página 158 de 1012\n",
      "Rastreando: https://www.mediamarkt.es/es/category/_altavoces-exterior-702587.html\n",
      "Número de páginas: 2\n"
     ]
    },
    {
     "name": "stderr",
     "output_type": "stream",
     "text": [
      "100%|██████████| 2/2 [00:02<00:00,  1.28s/it]\n"
     ]
    },
    {
     "name": "stdout",
     "output_type": "stream",
     "text": [
      "Escaneando página 159 de 1012\n",
      "Rastreando: https://www.mediamarkt.es/es/category/_altavoces-autoamplificados-702588.html\n"
     ]
    },
    {
     "name": "stderr",
     "output_type": "stream",
     "text": [
      "100%|██████████| 1/1 [00:01<00:00,  1.30s/it]\n"
     ]
    },
    {
     "name": "stdout",
     "output_type": "stream",
     "text": [
      "Escaneando página 160 de 1012\n",
      "Rastreando: https://www.mediamarkt.es/es/category/_altavoces-de-suelo-702589.html\n"
     ]
    },
    {
     "name": "stderr",
     "output_type": "stream",
     "text": [
      "100%|██████████| 1/1 [00:01<00:00,  1.12s/it]\n"
     ]
    },
    {
     "name": "stdout",
     "output_type": "stream",
     "text": [
      "Escaneando página 161 de 1012\n",
      "Rastreando: https://www.mediamarkt.es/es/category/_altavoces-de-estanter%C3%ADa-702590.html\n",
      "Número de páginas: 6\n"
     ]
    },
    {
     "name": "stderr",
     "output_type": "stream",
     "text": [
      "100%|██████████| 6/6 [00:08<00:00,  1.37s/it]\n"
     ]
    },
    {
     "name": "stdout",
     "output_type": "stream",
     "text": [
      "Escaneando página 162 de 1012\n",
      "Rastreando: https://www.mediamarkt.es/es/category/_altavoces-gran-potencia-702093.html\n",
      "Número de páginas: 2\n"
     ]
    },
    {
     "name": "stderr",
     "output_type": "stream",
     "text": [
      "100%|██████████| 2/2 [00:02<00:00,  1.00s/it]\n"
     ]
    },
    {
     "name": "stdout",
     "output_type": "stream",
     "text": [
      "Escaneando página 163 de 1012\n",
      "Rastreando: https://www.mediamarkt.es/es/category/_accesorios-para-altavoces-702095.html\n",
      "Número de páginas: 6\n"
     ]
    },
    {
     "name": "stderr",
     "output_type": "stream",
     "text": [
      "100%|██████████| 6/6 [00:10<00:00,  1.66s/it]\n"
     ]
    },
    {
     "name": "stdout",
     "output_type": "stream",
     "text": [
      "Escaneando página 164 de 1012\n",
      "Rastreando: https://www.mediamarkt.es/es/category/_cables-de-audio-702591.html\n",
      "Número de páginas: 5\n"
     ]
    },
    {
     "name": "stderr",
     "output_type": "stream",
     "text": [
      "100%|██████████| 5/5 [00:07<00:00,  1.40s/it]\n"
     ]
    },
    {
     "name": "stdout",
     "output_type": "stream",
     "text": [
      "Escaneando página 165 de 1012\n",
      "Rastreando: https://www.mediamarkt.es/es/category/_soportes-para-altavoces-702592.html\n"
     ]
    },
    {
     "name": "stderr",
     "output_type": "stream",
     "text": [
      "100%|██████████| 1/1 [00:01<00:00,  1.14s/it]\n"
     ]
    },
    {
     "name": "stdout",
     "output_type": "stream",
     "text": [
      "Escaneando página 166 de 1012\n",
      "Rastreando: https://www.mediamarkt.es/es/category/_accesorios-multiroom-702593.html\n"
     ]
    },
    {
     "name": "stderr",
     "output_type": "stream",
     "text": [
      "100%|██████████| 1/1 [00:01<00:00,  1.07s/it]\n"
     ]
    },
    {
     "name": "stdout",
     "output_type": "stream",
     "text": [
      "Escaneando página 167 de 1012\n",
      "Rastreando: https://www.mediamarkt.es/es/category/_fundas-para-altavoces-702594.html\n"
     ]
    },
    {
     "name": "stderr",
     "output_type": "stream",
     "text": [
      "100%|██████████| 1/1 [00:00<00:00,  1.09it/s]\n"
     ]
    },
    {
     "name": "stdout",
     "output_type": "stream",
     "text": [
      "Escaneando página 168 de 1012\n",
      "Rastreando: https://www.mediamarkt.es/es/category/_altavoces-resistentes-al-agua-711009.html\n"
     ]
    },
    {
     "name": "stderr",
     "output_type": "stream",
     "text": [
      "100%|██████████| 1/1 [00:00<00:00,  1.03it/s]\n"
     ]
    },
    {
     "name": "stdout",
     "output_type": "stream",
     "text": [
      "Escaneando página 169 de 1012\n",
      "Rastreando: https://www.mediamarkt.es/es/category/_home-cinema-701224.html\n",
      "Número de páginas: 2\n"
     ]
    },
    {
     "name": "stderr",
     "output_type": "stream",
     "text": [
      "100%|██████████| 2/2 [00:02<00:00,  1.37s/it]\n"
     ]
    },
    {
     "name": "stdout",
     "output_type": "stream",
     "text": [
      "Escaneando página 170 de 1012\n",
      "Rastreando: https://www.mediamarkt.es/es/category/_home-cinema-2-1-canales-702096.html\n"
     ]
    },
    {
     "name": "stderr",
     "output_type": "stream",
     "text": [
      "100%|██████████| 1/1 [00:00<00:00,  1.18it/s]\n"
     ]
    },
    {
     "name": "stdout",
     "output_type": "stream",
     "text": [
      "Escaneando página 171 de 1012\n",
      "Rastreando: https://www.mediamarkt.es/es/category/_home-cinema-5-1-canales-702097.html\n"
     ]
    },
    {
     "name": "stderr",
     "output_type": "stream",
     "text": [
      "100%|██████████| 1/1 [00:01<00:00,  1.32s/it]\n"
     ]
    },
    {
     "name": "stdout",
     "output_type": "stream",
     "text": [
      "Escaneando página 172 de 1012\n",
      "Rastreando: https://www.mediamarkt.es/es/category/_subwoofer-702099.html\n"
     ]
    },
    {
     "name": "stderr",
     "output_type": "stream",
     "text": [
      "100%|██████████| 1/1 [00:00<00:00,  1.15it/s]\n"
     ]
    },
    {
     "name": "stdout",
     "output_type": "stream",
     "text": [
      "Escaneando página 173 de 1012\n",
      "Rastreando: https://www.mediamarkt.es/es/category/_barras-de-sonido-701225.html\n",
      "Número de páginas: 3\n"
     ]
    },
    {
     "name": "stderr",
     "output_type": "stream",
     "text": [
      "100%|██████████| 3/3 [00:03<00:00,  1.01s/it]\n"
     ]
    },
    {
     "name": "stdout",
     "output_type": "stream",
     "text": [
      "Escaneando página 174 de 1012\n",
      "Rastreando: https://www.mediamarkt.es/es/category/_barras-sonido-con-subwoofer-702100.html\n",
      "Número de páginas: 3\n"
     ]
    },
    {
     "name": "stderr",
     "output_type": "stream",
     "text": [
      "100%|██████████| 3/3 [00:03<00:00,  1.20s/it]\n"
     ]
    },
    {
     "name": "stdout",
     "output_type": "stream",
     "text": [
      "Escaneando página 175 de 1012\n",
      "Rastreando: https://www.mediamarkt.es/es/category/_sin-subwoofer-702101.html\n"
     ]
    },
    {
     "name": "stderr",
     "output_type": "stream",
     "text": [
      "100%|██████████| 1/1 [00:00<00:00,  1.13it/s]\n"
     ]
    },
    {
     "name": "stdout",
     "output_type": "stream",
     "text": [
      "Escaneando página 176 de 1012\n",
      "Rastreando: https://www.mediamarkt.es/es/category/_reproductores-de-m%C3%BAsica-701226.html\n",
      "Número de páginas: 3\n"
     ]
    },
    {
     "name": "stderr",
     "output_type": "stream",
     "text": [
      "100%|██████████| 3/3 [00:03<00:00,  1.20s/it]\n"
     ]
    },
    {
     "name": "stdout",
     "output_type": "stream",
     "text": [
      "Escaneando página 177 de 1012\n",
      "Rastreando: https://www.mediamarkt.es/es/category/_ipods-702102.html\n"
     ]
    },
    {
     "name": "stderr",
     "output_type": "stream",
     "text": [
      "100%|██████████| 1/1 [00:01<00:00,  1.01s/it]\n"
     ]
    },
    {
     "name": "stdout",
     "output_type": "stream",
     "text": [
      "Escaneando página 178 de 1012\n",
      "Rastreando: https://www.mediamarkt.es/es/category/_mp3-702103.html\n"
     ]
    },
    {
     "name": "stderr",
     "output_type": "stream",
     "text": [
      "100%|██████████| 1/1 [00:01<00:00,  1.13s/it]\n"
     ]
    },
    {
     "name": "stdout",
     "output_type": "stream",
     "text": [
      "Escaneando página 179 de 1012\n",
      "Rastreando: https://www.mediamarkt.es/es/category/_mp4-mp5-702104.html\n",
      "Número de páginas: 2\n"
     ]
    },
    {
     "name": "stderr",
     "output_type": "stream",
     "text": [
      "100%|██████████| 2/2 [00:02<00:00,  1.25s/it]\n"
     ]
    },
    {
     "name": "stdout",
     "output_type": "stream",
     "text": [
      "Escaneando página 180 de 1012\n",
      "Rastreando: https://www.mediamarkt.es/es/category/_mp3-mp4-deportivos-702105.html\n"
     ]
    },
    {
     "name": "stderr",
     "output_type": "stream",
     "text": [
      "100%|██████████| 1/1 [00:01<00:00,  1.20s/it]\n"
     ]
    },
    {
     "name": "stdout",
     "output_type": "stream",
     "text": [
      "Escaneando página 181 de 1012\n",
      "Rastreando: https://www.mediamarkt.es/es/category/_auriculares-701227.html\n"
     ]
    },
    {
     "name": "stderr",
     "output_type": "stream",
     "text": [
      "100%|██████████| 1/1 [00:00<00:00,  1.25it/s]\n"
     ]
    },
    {
     "name": "stdout",
     "output_type": "stream",
     "text": [
      "Escaneando página 182 de 1012\n",
      "Rastreando: https://www.mediamarkt.es/es/category/_auriculares-inal%C3%A1mbricos-702109.html\n",
      "Número de páginas: 15\n"
     ]
    },
    {
     "name": "stderr",
     "output_type": "stream",
     "text": [
      "100%|██████████| 15/15 [00:15<00:00,  1.03s/it]\n"
     ]
    },
    {
     "name": "stdout",
     "output_type": "stream",
     "text": [
      "Escaneando página 183 de 1012\n",
      "Rastreando: https://www.mediamarkt.es/es/category/_auriculares-true-wireless-715087.html\n",
      "Número de páginas: 2\n"
     ]
    },
    {
     "name": "stderr",
     "output_type": "stream",
     "text": [
      "100%|██████████| 2/2 [00:02<00:00,  1.07s/it]\n"
     ]
    },
    {
     "name": "stdout",
     "output_type": "stream",
     "text": [
      "Escaneando página 184 de 1012\n",
      "Rastreando: https://www.mediamarkt.es/es/category/_auriculares-de-bot%C3%B3n-702108.html\n",
      "Número de páginas: 16\n"
     ]
    },
    {
     "name": "stderr",
     "output_type": "stream",
     "text": [
      "100%|██████████| 16/16 [00:26<00:00,  1.83s/it]\n"
     ]
    },
    {
     "name": "stdout",
     "output_type": "stream",
     "text": [
      "Escaneando página 185 de 1012\n",
      "Rastreando: https://www.mediamarkt.es/es/category/_auriculares-con-cable-702107.html\n",
      "Número de páginas: 10\n"
     ]
    },
    {
     "name": "stderr",
     "output_type": "stream",
     "text": [
      "100%|██████████| 10/10 [00:10<00:00,  1.03s/it]\n"
     ]
    },
    {
     "name": "stdout",
     "output_type": "stream",
     "text": [
      "Escaneando página 186 de 1012\n",
      "Rastreando: https://www.mediamarkt.es/es/category/_auric-cancelaci%C3%B3n-ruido-702110.html\n"
     ]
    },
    {
     "name": "stderr",
     "output_type": "stream",
     "text": [
      "100%|██████████| 1/1 [00:00<00:00,  1.12it/s]\n"
     ]
    },
    {
     "name": "stdout",
     "output_type": "stream",
     "text": [
      "Escaneando página 187 de 1012\n",
      "Rastreando: https://www.mediamarkt.es/es/category/_auriculares-gaming-702106.html\n",
      "Número de páginas: 6\n"
     ]
    },
    {
     "name": "stderr",
     "output_type": "stream",
     "text": [
      "100%|██████████| 6/6 [00:09<00:00,  1.45s/it]\n"
     ]
    },
    {
     "name": "stdout",
     "output_type": "stream",
     "text": [
      "Escaneando página 188 de 1012\n",
      "Rastreando: https://www.mediamarkt.es/es/category/_auriculares-deportivos-702112.html\n",
      "Número de páginas: 9\n"
     ]
    },
    {
     "name": "stderr",
     "output_type": "stream",
     "text": [
      "100%|██████████| 9/9 [00:14<00:00,  1.47s/it]\n"
     ]
    },
    {
     "name": "stdout",
     "output_type": "stream",
     "text": [
      "Escaneando página 189 de 1012\n",
      "Rastreando: https://www.mediamarkt.es/es/category/_adaptadores-auriculares-702113.html\n"
     ]
    },
    {
     "name": "stderr",
     "output_type": "stream",
     "text": [
      "100%|██████████| 1/1 [00:01<00:00,  1.36s/it]\n"
     ]
    },
    {
     "name": "stdout",
     "output_type": "stream",
     "text": [
      "Escaneando página 190 de 1012\n",
      "Rastreando: https://www.mediamarkt.es/es/category/_minicadenas-microcadenas-701228.html\n",
      "Número de páginas: 3\n"
     ]
    },
    {
     "name": "stderr",
     "output_type": "stream",
     "text": [
      "100%|██████████| 3/3 [00:03<00:00,  1.15s/it]\n"
     ]
    },
    {
     "name": "stdout",
     "output_type": "stream",
     "text": [
      "Escaneando página 191 de 1012\n",
      "Rastreando: https://www.mediamarkt.es/es/category/_hifi-701229.html\n",
      "Número de páginas: 8\n"
     ]
    },
    {
     "name": "stderr",
     "output_type": "stream",
     "text": [
      "100%|██████████| 8/8 [00:08<00:00,  1.06s/it]\n"
     ]
    },
    {
     "name": "stdout",
     "output_type": "stream",
     "text": [
      "Escaneando página 192 de 1012\n",
      "Rastreando: https://www.mediamarkt.es/es/category/_receptores-av-702114.html\n"
     ]
    },
    {
     "name": "stderr",
     "output_type": "stream",
     "text": [
      "100%|██████████| 1/1 [00:00<00:00,  1.04it/s]\n"
     ]
    },
    {
     "name": "stdout",
     "output_type": "stream",
     "text": [
      "Escaneando página 193 de 1012\n",
      "Rastreando: https://www.mediamarkt.es/es/category/_amplificador-est%C3%A9reo-702115.html\n",
      "Número de páginas: 3\n"
     ]
    },
    {
     "name": "stderr",
     "output_type": "stream",
     "text": [
      "100%|██████████| 3/3 [00:04<00:00,  1.22s/it]\n"
     ]
    },
    {
     "name": "stdout",
     "output_type": "stream",
     "text": [
      "Escaneando página 194 de 1012\n",
      "Rastreando: https://www.mediamarkt.es/es/category/_tocadiscos-702116.html\n",
      "Número de páginas: 2\n"
     ]
    },
    {
     "name": "stderr",
     "output_type": "stream",
     "text": [
      "100%|██████████| 2/2 [00:02<00:00,  1.28s/it]\n"
     ]
    },
    {
     "name": "stdout",
     "output_type": "stream",
     "text": [
      "Escaneando página 195 de 1012\n",
      "Rastreando: https://www.mediamarkt.es/es/category/_lector-cd-702117.html\n"
     ]
    },
    {
     "name": "stderr",
     "output_type": "stream",
     "text": [
      "100%|██████████| 1/1 [00:01<00:00,  1.41s/it]\n"
     ]
    },
    {
     "name": "stdout",
     "output_type": "stream",
     "text": [
      "Escaneando página 196 de 1012\n",
      "Rastreando: https://www.mediamarkt.es/es/category/_micr%C3%B3fonos-702118.html\n",
      "Número de páginas: 2\n"
     ]
    },
    {
     "name": "stderr",
     "output_type": "stream",
     "text": [
      "100%|██████████| 2/2 [00:03<00:00,  1.65s/it]\n"
     ]
    },
    {
     "name": "stdout",
     "output_type": "stream",
     "text": [
      "Escaneando página 197 de 1012\n",
      "Rastreando: https://www.mediamarkt.es/es/category/_packs-hifi-702119.html\n"
     ]
    },
    {
     "name": "stderr",
     "output_type": "stream",
     "text": [
      "100%|██████████| 1/1 [00:01<00:00,  1.13s/it]\n"
     ]
    },
    {
     "name": "stdout",
     "output_type": "stream",
     "text": [
      "Escaneando página 198 de 1012\n",
      "Rastreando: https://www.mediamarkt.es/es/category/_zona-dj-701230.html\n",
      "Número de páginas: 2\n"
     ]
    },
    {
     "name": "stderr",
     "output_type": "stream",
     "text": [
      "100%|██████████| 2/2 [00:03<00:00,  1.57s/it]\n"
     ]
    },
    {
     "name": "stdout",
     "output_type": "stream",
     "text": [
      "Escaneando página 199 de 1012\n",
      "Rastreando: https://www.mediamarkt.es/es/category/_controladores-dj-702120.html\n"
     ]
    },
    {
     "name": "stderr",
     "output_type": "stream",
     "text": [
      "100%|██████████| 1/1 [00:01<00:00,  1.27s/it]\n"
     ]
    },
    {
     "name": "stdout",
     "output_type": "stream",
     "text": [
      "Escaneando página 200 de 1012\n",
      "Rastreando: https://www.mediamarkt.es/es/category/_mezcladoras-dj-702121.html\n"
     ]
    },
    {
     "name": "stderr",
     "output_type": "stream",
     "text": [
      "100%|██████████| 1/1 [00:01<00:00,  1.16s/it]\n"
     ]
    },
    {
     "name": "stdout",
     "output_type": "stream",
     "text": [
      "Escaneando página 201 de 1012\n",
      "Rastreando: https://www.mediamarkt.es/es/category/_plato-dj-702122.html\n"
     ]
    },
    {
     "name": "stderr",
     "output_type": "stream",
     "text": [
      "100%|██████████| 1/1 [00:00<00:00,  1.03it/s]\n"
     ]
    },
    {
     "name": "stdout",
     "output_type": "stream",
     "text": [
      "Escaneando página 202 de 1012\n",
      "Rastreando: https://www.mediamarkt.es/es/category/_altavoces-dj-702123.html\n"
     ]
    },
    {
     "name": "stderr",
     "output_type": "stream",
     "text": [
      "100%|██████████| 1/1 [00:01<00:00,  1.08s/it]\n"
     ]
    },
    {
     "name": "stdout",
     "output_type": "stream",
     "text": [
      "Escaneando página 203 de 1012\n",
      "Rastreando: https://www.mediamarkt.es/es/category/_iluminaci%C3%B3n-y-efectos-702125.html\n"
     ]
    },
    {
     "name": "stderr",
     "output_type": "stream",
     "text": [
      "100%|██████████| 1/1 [00:01<00:00,  1.05s/it]\n"
     ]
    },
    {
     "name": "stdout",
     "output_type": "stream",
     "text": [
      "Escaneando página 204 de 1012\n",
      "Rastreando: https://www.mediamarkt.es/es/category/_accesorios-zona-dj-702126.html\n"
     ]
    },
    {
     "name": "stderr",
     "output_type": "stream",
     "text": [
      "100%|██████████| 1/1 [00:01<00:00,  1.26s/it]\n"
     ]
    },
    {
     "name": "stdout",
     "output_type": "stream",
     "text": [
      "Escaneando página 205 de 1012\n",
      "Rastreando: https://www.mediamarkt.es/es/category/_radio-y-cd-port%C3%A1til-701231.html\n",
      "Número de páginas: 7\n"
     ]
    },
    {
     "name": "stderr",
     "output_type": "stream",
     "text": [
      "100%|██████████| 7/7 [00:07<00:00,  1.11s/it]\n"
     ]
    },
    {
     "name": "stdout",
     "output_type": "stream",
     "text": [
      "Escaneando página 206 de 1012\n",
      "Rastreando: https://www.mediamarkt.es/es/category/_radio-port%C3%A1til-702127.html\n",
      "Número de páginas: 4\n"
     ]
    },
    {
     "name": "stderr",
     "output_type": "stream",
     "text": [
      "100%|██████████| 4/4 [00:05<00:00,  1.22s/it]\n"
     ]
    },
    {
     "name": "stdout",
     "output_type": "stream",
     "text": [
      "Escaneando página 207 de 1012\n",
      "Rastreando: https://www.mediamarkt.es/es/category/_radio-cd-702128.html\n",
      "Número de páginas: 2\n"
     ]
    },
    {
     "name": "stderr",
     "output_type": "stream",
     "text": [
      "100%|██████████| 2/2 [00:02<00:00,  1.34s/it]\n"
     ]
    },
    {
     "name": "stdout",
     "output_type": "stream",
     "text": [
      "Escaneando página 208 de 1012\n",
      "Rastreando: https://www.mediamarkt.es/es/category/_despertadores-702130.html\n",
      "Número de páginas: 3\n"
     ]
    },
    {
     "name": "stderr",
     "output_type": "stream",
     "text": [
      "100%|██████████| 3/3 [00:03<00:00,  1.13s/it]\n"
     ]
    },
    {
     "name": "stdout",
     "output_type": "stream",
     "text": [
      "Escaneando página 209 de 1012\n",
      "Rastreando: https://www.mediamarkt.es/es/category/_grabadoras-de-voz-701232.html\n"
     ]
    },
    {
     "name": "stderr",
     "output_type": "stream",
     "text": [
      "100%|██████████| 1/1 [00:02<00:00,  2.74s/it]\n"
     ]
    },
    {
     "name": "stdout",
     "output_type": "stream",
     "text": [
      "Escaneando página 210 de 1012\n",
      "Rastreando: https://www.mediamarkt.es/es/category/_car-audio-y-gps-701233.html\n"
     ]
    },
    {
     "name": "stderr",
     "output_type": "stream",
     "text": [
      "100%|██████████| 1/1 [00:00<00:00,  1.17it/s]\n"
     ]
    },
    {
     "name": "stdout",
     "output_type": "stream",
     "text": [
      "Escaneando página 211 de 1012\n",
      "Rastreando: https://www.mediamarkt.es/es/category/_gps-702131.html\n",
      "Número de páginas: 2\n"
     ]
    },
    {
     "name": "stderr",
     "output_type": "stream",
     "text": [
      "100%|██████████| 2/2 [00:02<00:00,  1.33s/it]\n"
     ]
    },
    {
     "name": "stdout",
     "output_type": "stream",
     "text": [
      "Escaneando página 212 de 1012\n",
      "Rastreando: https://www.mediamarkt.es/es/category/_coche-702595.html\n",
      "Número de páginas: 2\n"
     ]
    },
    {
     "name": "stderr",
     "output_type": "stream",
     "text": [
      "100%|██████████| 2/2 [00:02<00:00,  1.15s/it]\n"
     ]
    },
    {
     "name": "stdout",
     "output_type": "stream",
     "text": [
      "Escaneando página 213 de 1012\n",
      "Rastreando: https://www.mediamarkt.es/es/category/_cami%C3%B3n-y-caravana-702596.html\n"
     ]
    },
    {
     "name": "stderr",
     "output_type": "stream",
     "text": [
      "100%|██████████| 1/1 [00:01<00:00,  1.04s/it]\n"
     ]
    },
    {
     "name": "stdout",
     "output_type": "stream",
     "text": [
      "Escaneando página 214 de 1012\n",
      "Rastreando: https://www.mediamarkt.es/es/category/_moto-702597.html\n"
     ]
    },
    {
     "name": "stderr",
     "output_type": "stream",
     "text": [
      "100%|██████████| 1/1 [00:01<00:00,  1.01s/it]\n"
     ]
    },
    {
     "name": "stdout",
     "output_type": "stream",
     "text": [
      "Escaneando página 215 de 1012\n",
      "Rastreando: https://www.mediamarkt.es/es/category/_autorradios-702132.html\n",
      "Número de páginas: 4\n"
     ]
    },
    {
     "name": "stderr",
     "output_type": "stream",
     "text": [
      "100%|██████████| 4/4 [00:03<00:00,  1.04it/s]\n"
     ]
    },
    {
     "name": "stdout",
     "output_type": "stream",
     "text": [
      "Escaneando página 216 de 1012\n",
      "Rastreando: https://www.mediamarkt.es/es/category/_1-din-702599.html\n",
      "Número de páginas: 3\n"
     ]
    },
    {
     "name": "stderr",
     "output_type": "stream",
     "text": [
      "100%|██████████| 3/3 [00:03<00:00,  1.07s/it]\n"
     ]
    },
    {
     "name": "stdout",
     "output_type": "stream",
     "text": [
      "Escaneando página 217 de 1012\n",
      "Rastreando: https://www.mediamarkt.es/es/category/_2-din-702600.html\n",
      "Número de páginas: 2\n"
     ]
    },
    {
     "name": "stderr",
     "output_type": "stream",
     "text": [
      "100%|██████████| 2/2 [00:02<00:00,  1.33s/it]\n"
     ]
    },
    {
     "name": "stdout",
     "output_type": "stream",
     "text": [
      "Escaneando página 218 de 1012\n",
      "Rastreando: https://www.mediamarkt.es/es/category/_altavoces-y-subwoofers-702133.html\n",
      "Número de páginas: 6\n"
     ]
    },
    {
     "name": "stderr",
     "output_type": "stream",
     "text": [
      "100%|██████████| 6/6 [00:08<00:00,  1.27s/it]\n"
     ]
    },
    {
     "name": "stdout",
     "output_type": "stream",
     "text": [
      "Escaneando página 219 de 1012\n",
      "Rastreando: https://www.mediamarkt.es/es/category/_etapa-de-potencia-702134.html\n",
      "Número de páginas: 2\n"
     ]
    },
    {
     "name": "stderr",
     "output_type": "stream",
     "text": [
      "100%|██████████| 2/2 [00:03<00:00,  1.95s/it]\n"
     ]
    },
    {
     "name": "stdout",
     "output_type": "stream",
     "text": [
      "Escaneando página 220 de 1012\n",
      "Rastreando: https://www.mediamarkt.es/es/category/_dvd-coche-702135.html\n"
     ]
    },
    {
     "name": "stderr",
     "output_type": "stream",
     "text": [
      "100%|██████████| 1/1 [00:00<00:00,  1.04it/s]\n"
     ]
    },
    {
     "name": "stdout",
     "output_type": "stream",
     "text": [
      "Escaneando página 221 de 1012\n",
      "Rastreando: https://www.mediamarkt.es/es/category/_c%C3%A1maras-para-coches-702136.html\n"
     ]
    },
    {
     "name": "stderr",
     "output_type": "stream",
     "text": [
      "100%|██████████| 1/1 [00:00<00:00,  1.16it/s]\n"
     ]
    },
    {
     "name": "stdout",
     "output_type": "stream",
     "text": [
      "Escaneando página 222 de 1012\n",
      "Rastreando: https://www.mediamarkt.es/es/category/_avisadores-702137.html\n"
     ]
    },
    {
     "name": "stderr",
     "output_type": "stream",
     "text": [
      "100%|██████████| 1/1 [00:01<00:00,  1.38s/it]\n"
     ]
    },
    {
     "name": "stdout",
     "output_type": "stream",
     "text": [
      "Escaneando página 223 de 1012\n",
      "Rastreando: https://www.mediamarkt.es/es/category/_soportes-coche-702138.html\n",
      "Número de páginas: 2\n"
     ]
    },
    {
     "name": "stderr",
     "output_type": "stream",
     "text": [
      "100%|██████████| 2/2 [00:02<00:00,  1.29s/it]\n"
     ]
    },
    {
     "name": "stdout",
     "output_type": "stream",
     "text": [
      "Escaneando página 224 de 1012\n",
      "Rastreando: https://www.mediamarkt.es/es/category/_soportes-gps-702601.html\n"
     ]
    },
    {
     "name": "stderr",
     "output_type": "stream",
     "text": [
      "100%|██████████| 1/1 [00:01<00:00,  1.03s/it]\n"
     ]
    },
    {
     "name": "stdout",
     "output_type": "stream",
     "text": [
      "Escaneando página 225 de 1012\n",
      "Rastreando: https://www.mediamarkt.es/es/category/_smartphone-702602.html\n"
     ]
    },
    {
     "name": "stderr",
     "output_type": "stream",
     "text": [
      "100%|██████████| 1/1 [00:01<00:00,  1.01s/it]\n"
     ]
    },
    {
     "name": "stdout",
     "output_type": "stream",
     "text": [
      "Escaneando página 226 de 1012\n",
      "Rastreando: https://www.mediamarkt.es/es/category/_tablet-y-dvd-702603.html\n"
     ]
    },
    {
     "name": "stderr",
     "output_type": "stream",
     "text": [
      "100%|██████████| 1/1 [00:01<00:00,  1.06s/it]\n"
     ]
    },
    {
     "name": "stdout",
     "output_type": "stream",
     "text": [
      "Escaneando página 227 de 1012\n",
      "Rastreando: https://www.mediamarkt.es/es/category/_accesorios-car-audio-y-gps-702139.html\n",
      "Número de páginas: 6\n"
     ]
    },
    {
     "name": "stderr",
     "output_type": "stream",
     "text": [
      "100%|██████████| 6/6 [00:11<00:00,  1.64s/it]\n"
     ]
    },
    {
     "name": "stdout",
     "output_type": "stream",
     "text": [
      "Escaneando página 228 de 1012\n",
      "Rastreando: https://www.mediamarkt.es/es/category/_transmisores-fm-702604.html\n"
     ]
    },
    {
     "name": "stderr",
     "output_type": "stream",
     "text": [
      "100%|██████████| 1/1 [00:01<00:00,  1.03s/it]\n"
     ]
    },
    {
     "name": "stdout",
     "output_type": "stream",
     "text": [
      "Escaneando página 229 de 1012\n",
      "Rastreando: https://www.mediamarkt.es/es/category/_cargadores-coche-702605.html\n"
     ]
    },
    {
     "name": "stderr",
     "output_type": "stream",
     "text": [
      "100%|██████████| 1/1 [00:01<00:00,  1.16s/it]\n"
     ]
    },
    {
     "name": "stdout",
     "output_type": "stream",
     "text": [
      "Escaneando página 230 de 1012\n",
      "Rastreando: https://www.mediamarkt.es/es/category/_funda-gps-702606.html\n",
      "Número de páginas: 2\n"
     ]
    },
    {
     "name": "stderr",
     "output_type": "stream",
     "text": [
      "100%|██████████| 2/2 [00:02<00:00,  1.27s/it]\n"
     ]
    },
    {
     "name": "stdout",
     "output_type": "stream",
     "text": [
      "Escaneando página 231 de 1012\n",
      "Rastreando: https://www.mediamarkt.es/es/category/_cable-coche-702607.html\n",
      "Número de páginas: 2\n"
     ]
    },
    {
     "name": "stderr",
     "output_type": "stream",
     "text": [
      "100%|██████████| 2/2 [00:02<00:00,  1.45s/it]\n"
     ]
    },
    {
     "name": "stdout",
     "output_type": "stream",
     "text": [
      "Escaneando página 232 de 1012\n",
      "Rastreando: https://www.mediamarkt.es/es/category/_otros-702608.html\n"
     ]
    },
    {
     "name": "stderr",
     "output_type": "stream",
     "text": [
      "100%|██████████| 1/1 [00:01<00:00,  1.27s/it]\n"
     ]
    },
    {
     "name": "stdout",
     "output_type": "stream",
     "text": [
      "Escaneando página 233 de 1012\n",
      "Rastreando: https://www.mediamarkt.es/es/category/_fotograf%C3%ADa-701129.html\n"
     ]
    },
    {
     "name": "stderr",
     "output_type": "stream",
     "text": [
      "100%|██████████| 1/1 [00:00<00:00,  1.09it/s]\n"
     ]
    },
    {
     "name": "stdout",
     "output_type": "stream",
     "text": [
      "Escaneando página 234 de 1012\n",
      "Rastreando: https://www.mediamarkt.es/es/category/_drones-701208.html\n",
      "Número de páginas: 2\n"
     ]
    },
    {
     "name": "stderr",
     "output_type": "stream",
     "text": [
      "100%|██████████| 2/2 [00:02<00:00,  1.34s/it]\n"
     ]
    },
    {
     "name": "stdout",
     "output_type": "stream",
     "text": [
      "Escaneando página 235 de 1012\n",
      "Rastreando: https://www.mediamarkt.es/es/category/_c%C3%A1maras-r%C3%A9flex-701197.html\n",
      "Número de páginas: 2\n"
     ]
    },
    {
     "name": "stderr",
     "output_type": "stream",
     "text": [
      "100%|██████████| 2/2 [00:02<00:00,  1.09s/it]\n"
     ]
    },
    {
     "name": "stdout",
     "output_type": "stream",
     "text": [
      "Escaneando página 236 de 1012\n",
      "Rastreando: https://www.mediamarkt.es/es/category/_c%C3%A1maras-evil-701199.html\n",
      "Número de páginas: 4\n"
     ]
    },
    {
     "name": "stderr",
     "output_type": "stream",
     "text": [
      "100%|██████████| 4/4 [00:05<00:00,  1.36s/it]\n"
     ]
    },
    {
     "name": "stdout",
     "output_type": "stream",
     "text": [
      "Escaneando página 237 de 1012\n",
      "Rastreando: https://www.mediamarkt.es/es/category/_c%C3%A1maras-bridge-701200.html\n"
     ]
    },
    {
     "name": "stderr",
     "output_type": "stream",
     "text": [
      "100%|██████████| 1/1 [00:01<00:00,  1.13s/it]\n"
     ]
    },
    {
     "name": "stdout",
     "output_type": "stream",
     "text": [
      "Escaneando página 238 de 1012\n",
      "Rastreando: https://www.mediamarkt.es/es/category/_c%C3%A1maras-compactas-701198.html\n",
      "Número de páginas: 7\n"
     ]
    },
    {
     "name": "stderr",
     "output_type": "stream",
     "text": [
      "100%|██████████| 7/7 [00:09<00:00,  1.42s/it]\n"
     ]
    },
    {
     "name": "stdout",
     "output_type": "stream",
     "text": [
      "Escaneando página 239 de 1012\n",
      "Rastreando: https://www.mediamarkt.es/es/category/_c%C3%A1mara-compacta-701504.html\n",
      "Número de páginas: 5\n"
     ]
    },
    {
     "name": "stderr",
     "output_type": "stream",
     "text": [
      "100%|██████████| 5/5 [00:07<00:00,  1.41s/it]\n"
     ]
    },
    {
     "name": "stdout",
     "output_type": "stream",
     "text": [
      "Escaneando página 240 de 1012\n",
      "Rastreando: https://www.mediamarkt.es/es/category/_acu%C3%A1ticas-701505.html\n"
     ]
    },
    {
     "name": "stderr",
     "output_type": "stream",
     "text": [
      "100%|██████████| 1/1 [00:01<00:00,  1.03s/it]\n"
     ]
    },
    {
     "name": "stdout",
     "output_type": "stream",
     "text": [
      "Escaneando página 241 de 1012\n",
      "Rastreando: https://www.mediamarkt.es/es/category/_instant%C3%A1neas-y-retro-701506.html\n",
      "Número de páginas: 2\n"
     ]
    },
    {
     "name": "stderr",
     "output_type": "stream",
     "text": [
      "100%|██████████| 2/2 [00:02<00:00,  1.10s/it]\n"
     ]
    },
    {
     "name": "stdout",
     "output_type": "stream",
     "text": [
      "Escaneando página 242 de 1012\n",
      "Rastreando: https://www.mediamarkt.es/es/category/_c%C3%A1maras-deportivas-701201.html\n",
      "Número de páginas: 8\n"
     ]
    },
    {
     "name": "stderr",
     "output_type": "stream",
     "text": [
      "100%|██████████| 8/8 [00:10<00:00,  1.11s/it]\n"
     ]
    },
    {
     "name": "stdout",
     "output_type": "stream",
     "text": [
      "Escaneando página 243 de 1012\n",
      "Rastreando: https://www.mediamarkt.es/es/category/_videoc%C3%A1maras-701507.html\n"
     ]
    },
    {
     "name": "stderr",
     "output_type": "stream",
     "text": [
      "100%|██████████| 1/1 [00:01<00:00,  1.15s/it]\n"
     ]
    },
    {
     "name": "stdout",
     "output_type": "stream",
     "text": [
      "Escaneando página 244 de 1012\n",
      "Rastreando: https://www.mediamarkt.es/es/category/_videoc%C3%A1maras-deportivas-702008.html\n",
      "Número de páginas: 2\n"
     ]
    },
    {
     "name": "stderr",
     "output_type": "stream",
     "text": [
      "100%|██████████| 2/2 [00:02<00:00,  1.30s/it]\n"
     ]
    },
    {
     "name": "stdout",
     "output_type": "stream",
     "text": [
      "Escaneando página 245 de 1012\n",
      "Rastreando: https://www.mediamarkt.es/es/category/_accesorios-videoc%C3%A1mara-702009.html\n",
      "Número de páginas: 6\n"
     ]
    },
    {
     "name": "stderr",
     "output_type": "stream",
     "text": [
      "100%|██████████| 6/6 [00:07<00:00,  1.25s/it]\n"
     ]
    },
    {
     "name": "stdout",
     "output_type": "stream",
     "text": [
      "Escaneando página 246 de 1012\n",
      "Rastreando: https://www.mediamarkt.es/es/category/_instant%C3%A1neas-y-retro-701202.html\n",
      "Número de páginas: 3\n"
     ]
    },
    {
     "name": "stderr",
     "output_type": "stream",
     "text": [
      "100%|██████████| 3/3 [00:03<00:00,  1.16s/it]\n"
     ]
    },
    {
     "name": "stdout",
     "output_type": "stream",
     "text": [
      "Escaneando página 247 de 1012\n",
      "Rastreando: https://www.mediamarkt.es/es/category/_instant%C3%A1neas-702010.html\n",
      "Número de páginas: 2\n"
     ]
    },
    {
     "name": "stderr",
     "output_type": "stream",
     "text": [
      "100%|██████████| 2/2 [00:02<00:00,  1.03s/it]\n"
     ]
    },
    {
     "name": "stdout",
     "output_type": "stream",
     "text": [
      "Escaneando página 248 de 1012\n",
      "Rastreando: https://www.mediamarkt.es/es/category/_papel-fotogr%C3%A1fico-702011.html\n",
      "Número de páginas: 2\n"
     ]
    },
    {
     "name": "stderr",
     "output_type": "stream",
     "text": [
      "100%|██████████| 2/2 [00:02<00:00,  1.07s/it]\n"
     ]
    },
    {
     "name": "stdout",
     "output_type": "stream",
     "text": [
      "Escaneando página 249 de 1012\n",
      "Rastreando: https://www.mediamarkt.es/es/category/_fundas-c%C3%A1mara-instant%C3%A1nea-702012.html\n"
     ]
    },
    {
     "name": "stderr",
     "output_type": "stream",
     "text": [
      "100%|██████████| 1/1 [00:01<00:00,  1.08s/it]\n"
     ]
    },
    {
     "name": "stdout",
     "output_type": "stream",
     "text": [
      "Escaneando página 250 de 1012\n",
      "Rastreando: https://www.mediamarkt.es/es/category/_objetivos-c%C3%A1mara-701203.html\n",
      "Número de páginas: 8\n"
     ]
    },
    {
     "name": "stderr",
     "output_type": "stream",
     "text": [
      "100%|██████████| 8/8 [00:13<00:00,  1.50s/it]\n"
     ]
    },
    {
     "name": "stdout",
     "output_type": "stream",
     "text": [
      "Escaneando página 251 de 1012\n",
      "Rastreando: https://www.mediamarkt.es/es/category/_objetivos-reflex-702013.html\n",
      "Número de páginas: 5\n"
     ]
    },
    {
     "name": "stderr",
     "output_type": "stream",
     "text": [
      "100%|██████████| 5/5 [00:09<00:00,  1.77s/it]\n"
     ]
    },
    {
     "name": "stdout",
     "output_type": "stream",
     "text": [
      "Escaneando página 252 de 1012\n",
      "Rastreando: https://www.mediamarkt.es/es/category/_objetivos-evil-702014.html\n",
      "Número de páginas: 3\n"
     ]
    },
    {
     "name": "stderr",
     "output_type": "stream",
     "text": [
      "100%|██████████| 3/3 [00:05<00:00,  1.54s/it]\n"
     ]
    },
    {
     "name": "stdout",
     "output_type": "stream",
     "text": [
      "Escaneando página 253 de 1012\n",
      "Rastreando: https://www.mediamarkt.es/es/category/_fundas-objetivo-702015.html\n"
     ]
    },
    {
     "name": "stderr",
     "output_type": "stream",
     "text": [
      "100%|██████████| 1/1 [00:00<00:00,  1.01it/s]\n"
     ]
    },
    {
     "name": "stdout",
     "output_type": "stream",
     "text": [
      "Escaneando página 254 de 1012\n",
      "Rastreando: https://www.mediamarkt.es/es/category/_tr%C3%ADpodes-c%C3%A1mara-701204.html\n",
      "Número de páginas: 5\n"
     ]
    },
    {
     "name": "stderr",
     "output_type": "stream",
     "text": [
      "100%|██████████| 5/5 [00:07<00:00,  1.39s/it]\n"
     ]
    },
    {
     "name": "stdout",
     "output_type": "stream",
     "text": [
      "Escaneando página 255 de 1012\n",
      "Rastreando: https://www.mediamarkt.es/es/category/_tr%C3%ADpodes-702016.html\n",
      "Número de páginas: 4\n"
     ]
    },
    {
     "name": "stderr",
     "output_type": "stream",
     "text": [
      "100%|██████████| 4/4 [00:04<00:00,  1.13s/it]\n"
     ]
    },
    {
     "name": "stdout",
     "output_type": "stream",
     "text": [
      "Escaneando página 256 de 1012\n",
      "Rastreando: https://www.mediamarkt.es/es/category/_monopies-702017.html\n"
     ]
    },
    {
     "name": "stderr",
     "output_type": "stream",
     "text": [
      "100%|██████████| 1/1 [00:01<00:00,  1.27s/it]\n"
     ]
    },
    {
     "name": "stdout",
     "output_type": "stream",
     "text": [
      "Escaneando página 257 de 1012\n",
      "Rastreando: https://www.mediamarkt.es/es/category/_minitr%C3%ADpodes-702018.html\n"
     ]
    },
    {
     "name": "stderr",
     "output_type": "stream",
     "text": [
      "100%|██████████| 1/1 [00:01<00:00,  1.24s/it]\n"
     ]
    },
    {
     "name": "stdout",
     "output_type": "stream",
     "text": [
      "Escaneando página 258 de 1012\n",
      "Rastreando: https://www.mediamarkt.es/es/category/_r%C3%B3tulas-702019.html\n"
     ]
    },
    {
     "name": "stderr",
     "output_type": "stream",
     "text": [
      "100%|██████████| 1/1 [00:01<00:00,  1.05s/it]\n"
     ]
    },
    {
     "name": "stdout",
     "output_type": "stream",
     "text": [
      "Escaneando página 259 de 1012\n",
      "Rastreando: https://www.mediamarkt.es/es/category/_adaptadores-702020.html\n"
     ]
    },
    {
     "name": "stderr",
     "output_type": "stream",
     "text": [
      "100%|██████████| 1/1 [00:01<00:00,  1.05s/it]\n"
     ]
    },
    {
     "name": "stdout",
     "output_type": "stream",
     "text": [
      "Escaneando página 260 de 1012\n",
      "Rastreando: https://www.mediamarkt.es/es/category/_empu%C3%B1aduras-702021.html\n"
     ]
    },
    {
     "name": "stderr",
     "output_type": "stream",
     "text": [
      "100%|██████████| 1/1 [00:01<00:00,  1.05s/it]\n"
     ]
    },
    {
     "name": "stdout",
     "output_type": "stream",
     "text": [
      "Escaneando página 261 de 1012\n",
      "Rastreando: https://www.mediamarkt.es/es/category/_flashes-701205.html\n"
     ]
    },
    {
     "name": "stderr",
     "output_type": "stream",
     "text": [
      "100%|██████████| 1/1 [00:01<00:00,  1.00s/it]\n"
     ]
    },
    {
     "name": "stdout",
     "output_type": "stream",
     "text": [
      "Escaneando página 262 de 1012\n",
      "Rastreando: https://www.mediamarkt.es/es/category/_flash-702022.html\n"
     ]
    },
    {
     "name": "stderr",
     "output_type": "stream",
     "text": [
      "100%|██████████| 1/1 [00:01<00:00,  1.10s/it]\n"
     ]
    },
    {
     "name": "stdout",
     "output_type": "stream",
     "text": [
      "Escaneando página 263 de 1012\n",
      "Rastreando: https://www.mediamarkt.es/es/category/_accesorios-flash-702023.html\n"
     ]
    },
    {
     "name": "stderr",
     "output_type": "stream",
     "text": [
      "100%|██████████| 1/1 [00:01<00:00,  1.19s/it]\n"
     ]
    },
    {
     "name": "stdout",
     "output_type": "stream",
     "text": [
      "Escaneando página 264 de 1012\n",
      "Rastreando: https://www.mediamarkt.es/es/category/_accesorios-foto-701206.html\n",
      "Número de páginas: 27\n"
     ]
    },
    {
     "name": "stderr",
     "output_type": "stream",
     "text": [
      "100%|██████████| 27/27 [00:35<00:00,  1.73s/it]\n"
     ]
    },
    {
     "name": "stdout",
     "output_type": "stream",
     "text": [
      "Escaneando página 265 de 1012\n",
      "Rastreando: https://www.mediamarkt.es/es/category/_acc-c%C3%A1mara-deportiva-702024.html\n",
      "Número de páginas: 4\n"
     ]
    },
    {
     "name": "stderr",
     "output_type": "stream",
     "text": [
      "100%|██████████| 4/4 [00:05<00:00,  1.34s/it]\n"
     ]
    },
    {
     "name": "stdout",
     "output_type": "stream",
     "text": [
      "Escaneando página 266 de 1012\n",
      "Rastreando: https://www.mediamarkt.es/es/category/_soportes-c%C3%A1mara-702537.html\n",
      "Número de páginas: 2\n"
     ]
    },
    {
     "name": "stderr",
     "output_type": "stream",
     "text": [
      "100%|██████████| 2/2 [00:02<00:00,  1.05s/it]\n"
     ]
    },
    {
     "name": "stdout",
     "output_type": "stream",
     "text": [
      "Escaneando página 267 de 1012\n",
      "Rastreando: https://www.mediamarkt.es/es/category/_carcasas-702538.html\n"
     ]
    },
    {
     "name": "stderr",
     "output_type": "stream",
     "text": [
      "100%|██████████| 1/1 [00:00<00:00,  1.02it/s]\n"
     ]
    },
    {
     "name": "stdout",
     "output_type": "stream",
     "text": [
      "Escaneando página 268 de 1012\n",
      "Rastreando: https://www.mediamarkt.es/es/category/_palos-702539.html\n"
     ]
    },
    {
     "name": "stderr",
     "output_type": "stream",
     "text": [
      "100%|██████████| 1/1 [00:00<00:00,  1.01it/s]\n"
     ]
    },
    {
     "name": "stdout",
     "output_type": "stream",
     "text": [
      "Escaneando página 269 de 1012\n",
      "Rastreando: https://www.mediamarkt.es/es/category/_flotadores-702540.html\n"
     ]
    },
    {
     "name": "stderr",
     "output_type": "stream",
     "text": [
      "100%|██████████| 1/1 [00:00<00:00,  1.03it/s]\n"
     ]
    },
    {
     "name": "stdout",
     "output_type": "stream",
     "text": [
      "Escaneando página 270 de 1012\n",
      "Rastreando: https://www.mediamarkt.es/es/category/_fundas-c%C3%A1mara-deportiva-702541.html\n"
     ]
    },
    {
     "name": "stderr",
     "output_type": "stream",
     "text": [
      "100%|██████████| 1/1 [00:01<00:00,  1.18s/it]\n"
     ]
    },
    {
     "name": "stdout",
     "output_type": "stream",
     "text": [
      "Escaneando página 271 de 1012\n",
      "Rastreando: https://www.mediamarkt.es/es/category/_filtros-y-lentes-702542.html\n"
     ]
    },
    {
     "name": "stderr",
     "output_type": "stream",
     "text": [
      "100%|██████████| 1/1 [00:01<00:00,  1.03s/it]\n"
     ]
    },
    {
     "name": "stdout",
     "output_type": "stream",
     "text": [
      "Escaneando página 272 de 1012\n",
      "Rastreando: https://www.mediamarkt.es/es/category/_control-remoto-702543.html\n"
     ]
    },
    {
     "name": "stderr",
     "output_type": "stream",
     "text": [
      "100%|██████████| 1/1 [00:00<00:00,  1.15it/s]\n"
     ]
    },
    {
     "name": "stdout",
     "output_type": "stream",
     "text": [
      "Escaneando página 273 de 1012\n",
      "Rastreando: https://www.mediamarkt.es/es/category/_bater%C3%ADa-y-carga-702544.html\n"
     ]
    },
    {
     "name": "stderr",
     "output_type": "stream",
     "text": [
      "100%|██████████| 1/1 [00:01<00:00,  1.07s/it]\n"
     ]
    },
    {
     "name": "stdout",
     "output_type": "stream",
     "text": [
      "Escaneando página 274 de 1012\n",
      "Rastreando: https://www.mediamarkt.es/es/category/_flash-camara-deportiva-702546.html\n"
     ]
    },
    {
     "name": "stderr",
     "output_type": "stream",
     "text": [
      "100%|██████████| 1/1 [00:00<00:00,  1.01it/s]\n"
     ]
    },
    {
     "name": "stdout",
     "output_type": "stream",
     "text": [
      "Escaneando página 275 de 1012\n",
      "Rastreando: https://www.mediamarkt.es/es/category/_acc-foto-profesional-702025.html\n",
      "Número de páginas: 4\n"
     ]
    },
    {
     "name": "stderr",
     "output_type": "stream",
     "text": [
      "100%|██████████| 4/4 [00:05<00:00,  1.32s/it]\n"
     ]
    },
    {
     "name": "stdout",
     "output_type": "stream",
     "text": [
      "Escaneando página 276 de 1012\n",
      "Rastreando: https://www.mediamarkt.es/es/category/_accesorios-para-flash-702547.html\n"
     ]
    },
    {
     "name": "stderr",
     "output_type": "stream",
     "text": [
      "100%|██████████| 1/1 [00:00<00:00,  1.01it/s]\n"
     ]
    },
    {
     "name": "stdout",
     "output_type": "stream",
     "text": [
      "Escaneando página 277 de 1012\n",
      "Rastreando: https://www.mediamarkt.es/es/category/_iluminaci%C3%B3n-profesional-702548.html\n"
     ]
    },
    {
     "name": "stderr",
     "output_type": "stream",
     "text": [
      "100%|██████████| 1/1 [00:00<00:00,  1.02it/s]\n"
     ]
    },
    {
     "name": "stdout",
     "output_type": "stream",
     "text": [
      "Escaneando página 278 de 1012\n",
      "Rastreando: https://www.mediamarkt.es/es/category/_disparadores-y-transmisores-702550.html\n"
     ]
    },
    {
     "name": "stderr",
     "output_type": "stream",
     "text": [
      "100%|██████████| 1/1 [00:01<00:00,  1.22s/it]\n"
     ]
    },
    {
     "name": "stdout",
     "output_type": "stream",
     "text": [
      "Escaneando página 279 de 1012\n",
      "Rastreando: https://www.mediamarkt.es/es/category/_micr%C3%B3fonos-fotograf%C3%ADa-702551.html\n"
     ]
    },
    {
     "name": "stderr",
     "output_type": "stream",
     "text": [
      "100%|██████████| 1/1 [00:00<00:00,  1.11it/s]\n"
     ]
    },
    {
     "name": "stdout",
     "output_type": "stream",
     "text": [
      "Escaneando página 280 de 1012\n",
      "Rastreando: https://www.mediamarkt.es/es/category/_limpieza-c%C3%A1mara-702552.html\n",
      "Número de páginas: 3\n"
     ]
    },
    {
     "name": "stderr",
     "output_type": "stream",
     "text": [
      "100%|██████████| 3/3 [00:03<00:00,  1.09s/it]\n"
     ]
    },
    {
     "name": "stdout",
     "output_type": "stream",
     "text": [
      "Escaneando página 281 de 1012\n",
      "Rastreando: https://www.mediamarkt.es/es/category/_fundas-c%C3%A1maras-702026.html\n",
      "Número de páginas: 9\n"
     ]
    },
    {
     "name": "stderr",
     "output_type": "stream",
     "text": [
      "100%|██████████| 9/9 [00:14<00:00,  1.46s/it]\n"
     ]
    },
    {
     "name": "stdout",
     "output_type": "stream",
     "text": [
      "Escaneando página 282 de 1012\n",
      "Rastreando: https://www.mediamarkt.es/es/category/_anal%C3%B3gicas-702553.html\n"
     ]
    },
    {
     "name": "stderr",
     "output_type": "stream",
     "text": [
      "100%|██████████| 1/1 [00:01<00:00,  1.24s/it]\n"
     ]
    },
    {
     "name": "stdout",
     "output_type": "stream",
     "text": [
      "Escaneando página 283 de 1012\n",
      "Rastreando: https://www.mediamarkt.es/es/category/_fundas-c%C3%A1mara-compacta-702554.html\n"
     ]
    },
    {
     "name": "stderr",
     "output_type": "stream",
     "text": [
      "100%|██████████| 1/1 [00:00<00:00,  1.04it/s]\n"
     ]
    },
    {
     "name": "stdout",
     "output_type": "stream",
     "text": [
      "Escaneando página 284 de 1012\n",
      "Rastreando: https://www.mediamarkt.es/es/category/_bridge-y-evil-702555.html\n",
      "Número de páginas: 2\n"
     ]
    },
    {
     "name": "stderr",
     "output_type": "stream",
     "text": [
      "100%|██████████| 2/2 [00:02<00:00,  1.28s/it]\n"
     ]
    },
    {
     "name": "stdout",
     "output_type": "stream",
     "text": [
      "Escaneando página 285 de 1012\n",
      "Rastreando: https://www.mediamarkt.es/es/category/_fundas-y-correas-reflex-702556.html\n",
      "Número de páginas: 8\n"
     ]
    },
    {
     "name": "stderr",
     "output_type": "stream",
     "text": [
      "100%|██████████| 8/8 [00:11<00:00,  1.31s/it]\n"
     ]
    },
    {
     "name": "stdout",
     "output_type": "stream",
     "text": [
      "Escaneando página 286 de 1012\n",
      "Rastreando: https://www.mediamarkt.es/es/category/_correas-702557.html\n"
     ]
    },
    {
     "name": "stderr",
     "output_type": "stream",
     "text": [
      "100%|██████████| 1/1 [00:01<00:00,  1.06s/it]\n"
     ]
    },
    {
     "name": "stdout",
     "output_type": "stream",
     "text": [
      "Escaneando página 287 de 1012\n",
      "Rastreando: https://www.mediamarkt.es/es/category/_fundas-objetivos-702558.html\n"
     ]
    },
    {
     "name": "stderr",
     "output_type": "stream",
     "text": [
      "100%|██████████| 1/1 [00:01<00:00,  1.01s/it]\n"
     ]
    },
    {
     "name": "stdout",
     "output_type": "stream",
     "text": [
      "Escaneando página 288 de 1012\n",
      "Rastreando: https://www.mediamarkt.es/es/category/_accesorios-videoc%C3%A1mara-702559.html\n"
     ]
    },
    {
     "name": "stderr",
     "output_type": "stream",
     "text": [
      "100%|██████████| 1/1 [00:01<00:00,  1.17s/it]\n"
     ]
    },
    {
     "name": "stdout",
     "output_type": "stream",
     "text": [
      "Escaneando página 289 de 1012\n",
      "Rastreando: https://www.mediamarkt.es/es/category/_protectores-pantalla-c%C3%A1mara-702560.html\n"
     ]
    },
    {
     "name": "stderr",
     "output_type": "stream",
     "text": [
      "100%|██████████| 1/1 [00:01<00:00,  1.21s/it]\n"
     ]
    },
    {
     "name": "stdout",
     "output_type": "stream",
     "text": [
      "Escaneando página 290 de 1012\n",
      "Rastreando: https://www.mediamarkt.es/es/category/_papel-fotogr%C3%A1fico-702027.html\n"
     ]
    },
    {
     "name": "stderr",
     "output_type": "stream",
     "text": [
      "100%|██████████| 1/1 [00:01<00:00,  1.36s/it]\n"
     ]
    },
    {
     "name": "stdout",
     "output_type": "stream",
     "text": [
      "Escaneando página 291 de 1012\n",
      "Rastreando: https://www.mediamarkt.es/es/category/_papel-para-impresora-702561.html\n"
     ]
    },
    {
     "name": "stderr",
     "output_type": "stream",
     "text": [
      "100%|██████████| 1/1 [00:02<00:00,  2.41s/it]\n"
     ]
    },
    {
     "name": "stdout",
     "output_type": "stream",
     "text": [
      "Escaneando página 292 de 1012\n",
      "Rastreando: https://www.mediamarkt.es/es/category/_papel-instant%C3%A1neo-702562.html\n"
     ]
    },
    {
     "name": "stderr",
     "output_type": "stream",
     "text": [
      "100%|██████████| 1/1 [00:01<00:00,  1.06s/it]\n"
     ]
    },
    {
     "name": "stdout",
     "output_type": "stream",
     "text": [
      "Escaneando página 293 de 1012\n",
      "Rastreando: https://www.mediamarkt.es/es/category/_impresoras-y-escanners-702028.html\n"
     ]
    },
    {
     "name": "stderr",
     "output_type": "stream",
     "text": [
      "100%|██████████| 1/1 [00:01<00:00,  1.76s/it]\n"
     ]
    },
    {
     "name": "stdout",
     "output_type": "stream",
     "text": [
      "Escaneando página 294 de 1012\n",
      "Rastreando: https://www.mediamarkt.es/es/category/_esc%C3%A1ner-fotogr%C3%A1fico-702563.html\n"
     ]
    },
    {
     "name": "stderr",
     "output_type": "stream",
     "text": [
      "100%|██████████| 1/1 [00:00<00:00,  1.10it/s]\n"
     ]
    },
    {
     "name": "stdout",
     "output_type": "stream",
     "text": [
      "Escaneando página 295 de 1012\n",
      "Rastreando: https://www.mediamarkt.es/es/category/_impresoras-fotos-702564.html\n"
     ]
    },
    {
     "name": "stderr",
     "output_type": "stream",
     "text": [
      "100%|██████████| 1/1 [00:01<00:00,  1.11s/it]\n"
     ]
    },
    {
     "name": "stdout",
     "output_type": "stream",
     "text": [
      "Escaneando página 296 de 1012\n",
      "Rastreando: https://www.mediamarkt.es/es/category/_filtros-y-tapas-702029.html\n",
      "Número de páginas: 4\n"
     ]
    },
    {
     "name": "stderr",
     "output_type": "stream",
     "text": [
      "100%|██████████| 4/4 [00:05<00:00,  1.39s/it]\n"
     ]
    },
    {
     "name": "stdout",
     "output_type": "stream",
     "text": [
      "Escaneando página 297 de 1012\n",
      "Rastreando: https://www.mediamarkt.es/es/category/_filtros-uv-702565.html\n",
      "Número de páginas: 3\n"
     ]
    },
    {
     "name": "stderr",
     "output_type": "stream",
     "text": [
      "100%|██████████| 3/3 [00:03<00:00,  1.25s/it]\n"
     ]
    },
    {
     "name": "stdout",
     "output_type": "stream",
     "text": [
      "Escaneando página 298 de 1012\n",
      "Rastreando: https://www.mediamarkt.es/es/category/_filtros-polarizados-702566.html\n"
     ]
    },
    {
     "name": "stderr",
     "output_type": "stream",
     "text": [
      "100%|██████████| 1/1 [00:01<00:00,  1.44s/it]\n"
     ]
    },
    {
     "name": "stdout",
     "output_type": "stream",
     "text": [
      "Escaneando página 299 de 1012\n",
      "Rastreando: https://www.mediamarkt.es/es/category/_tapas-702567.html\n"
     ]
    },
    {
     "name": "stderr",
     "output_type": "stream",
     "text": [
      "100%|██████████| 1/1 [00:01<00:00,  1.39s/it]\n"
     ]
    },
    {
     "name": "stdout",
     "output_type": "stream",
     "text": [
      "Escaneando página 300 de 1012\n",
      "Rastreando: https://www.mediamarkt.es/es/category/_accesorios-%C3%B3ptica-702568.html\n"
     ]
    },
    {
     "name": "stderr",
     "output_type": "stream",
     "text": [
      "100%|██████████| 1/1 [00:01<00:00,  1.04s/it]\n"
     ]
    },
    {
     "name": "stdout",
     "output_type": "stream",
     "text": [
      "Escaneando página 301 de 1012\n",
      "Rastreando: https://www.mediamarkt.es/es/category/_bater%C3%ADas-y-pilas-702030.html\n",
      "Número de páginas: 6\n"
     ]
    },
    {
     "name": "stderr",
     "output_type": "stream",
     "text": [
      "100%|██████████| 6/6 [00:07<00:00,  1.25s/it]\n"
     ]
    },
    {
     "name": "stdout",
     "output_type": "stream",
     "text": [
      "Escaneando página 302 de 1012\n",
      "Rastreando: https://www.mediamarkt.es/es/category/_pilas-bot%C3%B3n-y-especiales-702573.html\n"
     ]
    },
    {
     "name": "stderr",
     "output_type": "stream",
     "text": [
      "100%|██████████| 1/1 [00:01<00:00,  1.17s/it]\n"
     ]
    },
    {
     "name": "stdout",
     "output_type": "stream",
     "text": [
      "Escaneando página 303 de 1012\n",
      "Rastreando: https://www.mediamarkt.es/es/category/_bater%C3%ADas-c%C3%A1maras-702569.html\n",
      "Número de páginas: 2\n"
     ]
    },
    {
     "name": "stderr",
     "output_type": "stream",
     "text": [
      "100%|██████████| 2/2 [00:02<00:00,  1.19s/it]\n"
     ]
    },
    {
     "name": "stdout",
     "output_type": "stream",
     "text": [
      "Escaneando página 304 de 1012\n",
      "Rastreando: https://www.mediamarkt.es/es/category/_cargadores-pilas-bater%C3%ADas-702570.html\n"
     ]
    },
    {
     "name": "stderr",
     "output_type": "stream",
     "text": [
      "100%|██████████| 1/1 [00:01<00:00,  1.07s/it]\n"
     ]
    },
    {
     "name": "stdout",
     "output_type": "stream",
     "text": [
      "Escaneando página 305 de 1012\n",
      "Rastreando: https://www.mediamarkt.es/es/category/_pilas-aa-702571.html\n",
      "Número de páginas: 2\n"
     ]
    },
    {
     "name": "stderr",
     "output_type": "stream",
     "text": [
      "100%|██████████| 2/2 [00:02<00:00,  1.14s/it]\n"
     ]
    },
    {
     "name": "stdout",
     "output_type": "stream",
     "text": [
      "Escaneando página 306 de 1012\n",
      "Rastreando: https://www.mediamarkt.es/es/category/_pilas-aaa-702572.html\n",
      "Número de páginas: 3\n"
     ]
    },
    {
     "name": "stderr",
     "output_type": "stream",
     "text": [
      "100%|██████████| 3/3 [00:03<00:00,  1.29s/it]\n"
     ]
    },
    {
     "name": "stdout",
     "output_type": "stream",
     "text": [
      "Escaneando página 307 de 1012\n",
      "Rastreando: https://www.mediamarkt.es/es/category/_tarjeta-de-memoria-foto-702031.html\n",
      "Número de páginas: 3\n"
     ]
    },
    {
     "name": "stderr",
     "output_type": "stream",
     "text": [
      "100%|██████████| 3/3 [00:04<00:00,  1.53s/it]\n"
     ]
    },
    {
     "name": "stdout",
     "output_type": "stream",
     "text": [
      "Escaneando página 308 de 1012\n",
      "Rastreando: https://www.mediamarkt.es/es/category/_tarjetas-sdhc-foto-702574.html\n"
     ]
    },
    {
     "name": "stderr",
     "output_type": "stream",
     "text": [
      "100%|██████████| 1/1 [00:01<00:00,  1.33s/it]\n"
     ]
    },
    {
     "name": "stdout",
     "output_type": "stream",
     "text": [
      "Escaneando página 309 de 1012\n",
      "Rastreando: https://www.mediamarkt.es/es/category/_tarjeta-micro-sd-702575.html\n"
     ]
    },
    {
     "name": "stderr",
     "output_type": "stream",
     "text": [
      "100%|██████████| 1/1 [00:01<00:00,  1.08s/it]\n"
     ]
    },
    {
     "name": "stdout",
     "output_type": "stream",
     "text": [
      "Escaneando página 310 de 1012\n",
      "Rastreando: https://www.mediamarkt.es/es/category/_tarjetas-compact-flash-702576.html\n"
     ]
    },
    {
     "name": "stderr",
     "output_type": "stream",
     "text": [
      "100%|██████████| 1/1 [00:00<00:00,  1.08it/s]\n"
     ]
    },
    {
     "name": "stdout",
     "output_type": "stream",
     "text": [
      "Escaneando página 311 de 1012\n",
      "Rastreando: https://www.mediamarkt.es/es/category/_prism%C3%A1ticos-y-%C3%B3ptica-701207.html\n",
      "Número de páginas: 6\n"
     ]
    },
    {
     "name": "stderr",
     "output_type": "stream",
     "text": [
      "100%|██████████| 6/6 [00:10<00:00,  1.74s/it]\n"
     ]
    },
    {
     "name": "stdout",
     "output_type": "stream",
     "text": [
      "Escaneando página 312 de 1012\n",
      "Rastreando: https://www.mediamarkt.es/es/category/_telescopios-702032.html\n",
      "Número de páginas: 2\n"
     ]
    },
    {
     "name": "stderr",
     "output_type": "stream",
     "text": [
      "100%|██████████| 2/2 [00:02<00:00,  1.56s/it]\n"
     ]
    },
    {
     "name": "stdout",
     "output_type": "stream",
     "text": [
      "Escaneando página 313 de 1012\n",
      "Rastreando: https://www.mediamarkt.es/es/category/_prism%C3%A1ticos-702033.html\n",
      "Número de páginas: 3\n"
     ]
    },
    {
     "name": "stderr",
     "output_type": "stream",
     "text": [
      "100%|██████████| 3/3 [00:03<00:00,  1.20s/it]\n"
     ]
    },
    {
     "name": "stdout",
     "output_type": "stream",
     "text": [
      "Escaneando página 314 de 1012\n",
      "Rastreando: https://www.mediamarkt.es/es/category/_microscopios-702034.html\n"
     ]
    },
    {
     "name": "stderr",
     "output_type": "stream",
     "text": [
      "100%|██████████| 1/1 [00:01<00:00,  1.65s/it]\n"
     ]
    },
    {
     "name": "stdout",
     "output_type": "stream",
     "text": [
      "Escaneando página 315 de 1012\n",
      "Rastreando: https://www.mediamarkt.es/es/category/_monoculares-702035.html\n"
     ]
    },
    {
     "name": "stderr",
     "output_type": "stream",
     "text": [
      "100%|██████████| 1/1 [00:01<00:00,  1.13s/it]\n"
     ]
    },
    {
     "name": "stdout",
     "output_type": "stream",
     "text": [
      "Escaneando página 316 de 1012\n",
      "Rastreando: https://www.mediamarkt.es/es/category/_adaptadores-y-accesorios-702037.html\n"
     ]
    },
    {
     "name": "stderr",
     "output_type": "stream",
     "text": [
      "100%|██████████| 1/1 [00:01<00:00,  1.04s/it]\n"
     ]
    },
    {
     "name": "stdout",
     "output_type": "stream",
     "text": [
      "Escaneando página 317 de 1012\n",
      "Rastreando: https://www.mediamarkt.es/es/category/_marcos-digitales-y-%C3%A1lbumes-701209.html\n"
     ]
    },
    {
     "name": "stderr",
     "output_type": "stream",
     "text": [
      "100%|██████████| 1/1 [00:01<00:00,  1.46s/it]\n"
     ]
    },
    {
     "name": "stdout",
     "output_type": "stream",
     "text": [
      "Escaneando página 318 de 1012\n",
      "Rastreando: https://www.mediamarkt.es/es/category/_marcos-digitales-702038.html\n"
     ]
    },
    {
     "name": "stderr",
     "output_type": "stream",
     "text": [
      "100%|██████████| 1/1 [00:00<00:00,  1.01it/s]\n"
     ]
    },
    {
     "name": "stdout",
     "output_type": "stream",
     "text": [
      "Escaneando página 319 de 1012\n",
      "Rastreando: https://www.mediamarkt.es/es/category/_%C3%A1lbumes-702039.html\n"
     ]
    },
    {
     "name": "stderr",
     "output_type": "stream",
     "text": [
      "100%|██████████| 1/1 [00:01<00:00,  1.34s/it]\n"
     ]
    },
    {
     "name": "stdout",
     "output_type": "stream",
     "text": [
      "Escaneando página 320 de 1012\n",
      "Rastreando: https://www.mediamarkt.es/es/category/_hogar-701117.html\n"
     ]
    },
    {
     "name": "stderr",
     "output_type": "stream",
     "text": [
      "100%|██████████| 1/1 [00:00<00:00,  1.20it/s]\n"
     ]
    },
    {
     "name": "stdout",
     "output_type": "stream",
     "text": [
      "Escaneando página 321 de 1012\n",
      "Rastreando: https://www.mediamarkt.es/es/category/_cocina-701132.html\n"
     ]
    },
    {
     "name": "stderr",
     "output_type": "stream",
     "text": [
      "100%|██████████| 1/1 [00:00<00:00,  1.20it/s]\n"
     ]
    },
    {
     "name": "stdout",
     "output_type": "stream",
     "text": [
      "Escaneando página 322 de 1012\n",
      "Rastreando: https://www.mediamarkt.es/es/category/_frigor%C3%ADficos-701234.html\n"
     ]
    },
    {
     "name": "stderr",
     "output_type": "stream",
     "text": [
      "100%|██████████| 1/1 [00:00<00:00,  1.06it/s]\n"
     ]
    },
    {
     "name": "stdout",
     "output_type": "stream",
     "text": [
      "Escaneando página 323 de 1012\n",
      "Rastreando: https://www.mediamarkt.es/es/category/_frigor%C3%ADficos-combinados-702140.html\n",
      "Número de páginas: 11\n"
     ]
    },
    {
     "name": "stderr",
     "output_type": "stream",
     "text": [
      "100%|██████████| 11/11 [00:11<00:00,  1.13s/it]\n"
     ]
    },
    {
     "name": "stdout",
     "output_type": "stream",
     "text": [
      "Escaneando página 324 de 1012\n",
      "Rastreando: https://www.mediamarkt.es/es/category/_frigor%C3%ADficos-americanos-702141.html\n",
      "Número de páginas: 3\n"
     ]
    },
    {
     "name": "stderr",
     "output_type": "stream",
     "text": [
      "100%|██████████| 3/3 [00:03<00:00,  1.09s/it]\n"
     ]
    },
    {
     "name": "stdout",
     "output_type": "stream",
     "text": [
      "Escaneando página 325 de 1012\n",
      "Rastreando: https://www.mediamarkt.es/es/category/_frigor%C3%ADficos-dos-puertas-702142.html\n",
      "Número de páginas: 4\n"
     ]
    },
    {
     "name": "stderr",
     "output_type": "stream",
     "text": [
      "100%|██████████| 4/4 [00:03<00:00,  1.02it/s]\n"
     ]
    },
    {
     "name": "stdout",
     "output_type": "stream",
     "text": [
      "Escaneando página 326 de 1012\n",
      "Rastreando: https://www.mediamarkt.es/es/category/_frigor%C3%ADficos-una-puerta-702143.html\n",
      "Número de páginas: 4\n"
     ]
    },
    {
     "name": "stderr",
     "output_type": "stream",
     "text": [
      "100%|██████████| 4/4 [00:06<00:00,  1.44s/it]\n"
     ]
    },
    {
     "name": "stdout",
     "output_type": "stream",
     "text": [
      "Escaneando página 327 de 1012\n",
      "Rastreando: https://www.mediamarkt.es/es/category/_mini-frigor%C3%ADficos-702144.html\n",
      "Número de páginas: 2\n"
     ]
    },
    {
     "name": "stderr",
     "output_type": "stream",
     "text": [
      "100%|██████████| 2/2 [00:02<00:00,  1.06s/it]\n"
     ]
    },
    {
     "name": "stdout",
     "output_type": "stream",
     "text": [
      "Escaneando página 328 de 1012\n",
      "Rastreando: https://www.mediamarkt.es/es/category/_frigor%C3%ADficos-integrables-702145.html\n",
      "Número de páginas: 2\n"
     ]
    },
    {
     "name": "stderr",
     "output_type": "stream",
     "text": [
      "100%|██████████| 2/2 [00:02<00:00,  1.43s/it]\n"
     ]
    },
    {
     "name": "stdout",
     "output_type": "stream",
     "text": [
      "Escaneando página 329 de 1012\n",
      "Rastreando: https://www.mediamarkt.es/es/category/_accesorios-para-frigor%C3%ADficos-702146.html\n"
     ]
    },
    {
     "name": "stderr",
     "output_type": "stream",
     "text": [
      "100%|██████████| 1/1 [00:01<00:00,  1.54s/it]\n"
     ]
    },
    {
     "name": "stdout",
     "output_type": "stream",
     "text": [
      "Escaneando página 330 de 1012\n",
      "Rastreando: https://www.mediamarkt.es/es/category/_congeladores-701235.html\n",
      "Número de páginas: 6\n"
     ]
    },
    {
     "name": "stderr",
     "output_type": "stream",
     "text": [
      "100%|██████████| 6/6 [00:07<00:00,  1.23s/it]\n"
     ]
    },
    {
     "name": "stdout",
     "output_type": "stream",
     "text": [
      "Escaneando página 331 de 1012\n",
      "Rastreando: https://www.mediamarkt.es/es/category/_congeladores-verticales-702147.html\n",
      "Número de páginas: 3\n"
     ]
    },
    {
     "name": "stderr",
     "output_type": "stream",
     "text": [
      "100%|██████████| 3/3 [00:03<00:00,  1.21s/it]\n"
     ]
    },
    {
     "name": "stdout",
     "output_type": "stream",
     "text": [
      "Escaneando página 332 de 1012\n",
      "Rastreando: https://www.mediamarkt.es/es/category/_congeladores-bajo-encimera-702148.html\n"
     ]
    },
    {
     "name": "stderr",
     "output_type": "stream",
     "text": [
      "100%|██████████| 1/1 [00:01<00:00,  1.14s/it]\n"
     ]
    },
    {
     "name": "stdout",
     "output_type": "stream",
     "text": [
      "Escaneando página 333 de 1012\n",
      "Rastreando: https://www.mediamarkt.es/es/category/_congeladores-horizontales-702149.html\n",
      "Número de páginas: 3\n"
     ]
    },
    {
     "name": "stderr",
     "output_type": "stream",
     "text": [
      "100%|██████████| 3/3 [00:04<00:00,  1.31s/it]\n"
     ]
    },
    {
     "name": "stdout",
     "output_type": "stream",
     "text": [
      "Escaneando página 334 de 1012\n",
      "Rastreando: https://www.mediamarkt.es/es/category/_congeladores-integrables-702150.html\n"
     ]
    },
    {
     "name": "stderr",
     "output_type": "stream",
     "text": [
      "100%|██████████| 1/1 [00:01<00:00,  1.22s/it]\n"
     ]
    },
    {
     "name": "stdout",
     "output_type": "stream",
     "text": [
      "Escaneando página 335 de 1012\n",
      "Rastreando: https://www.mediamarkt.es/es/category/_caf%C3%A9-y-t%C3%A9-701236.html\n"
     ]
    },
    {
     "name": "stderr",
     "output_type": "stream",
     "text": [
      "100%|██████████| 1/1 [00:01<00:00,  1.42s/it]\n"
     ]
    },
    {
     "name": "stdout",
     "output_type": "stream",
     "text": [
      "Escaneando página 336 de 1012\n",
      "Rastreando: https://www.mediamarkt.es/es/category/_cafeteras-monodosis-702151.html\n",
      "Número de páginas: 4\n"
     ]
    },
    {
     "name": "stderr",
     "output_type": "stream",
     "text": [
      "100%|██████████| 4/4 [00:06<00:00,  1.46s/it]\n"
     ]
    },
    {
     "name": "stdout",
     "output_type": "stream",
     "text": [
      "Escaneando página 337 de 1012\n",
      "Rastreando: https://www.mediamarkt.es/es/category/_cafeteras-nespresso-702609.html\n",
      "Número de páginas: 2\n"
     ]
    },
    {
     "name": "stderr",
     "output_type": "stream",
     "text": [
      "100%|██████████| 2/2 [00:01<00:00,  1.01it/s]\n"
     ]
    },
    {
     "name": "stdout",
     "output_type": "stream",
     "text": [
      "Escaneando página 338 de 1012\n",
      "Rastreando: https://www.mediamarkt.es/es/category/_cafeteras-dolce-gusto-702610.html\n",
      "Número de páginas: 2\n"
     ]
    },
    {
     "name": "stderr",
     "output_type": "stream",
     "text": [
      "100%|██████████| 2/2 [00:02<00:00,  1.29s/it]\n"
     ]
    },
    {
     "name": "stdout",
     "output_type": "stream",
     "text": [
      "Escaneando página 339 de 1012\n",
      "Rastreando: https://www.mediamarkt.es/es/category/_cafeteras-tassimo-702611.html\n"
     ]
    },
    {
     "name": "stderr",
     "output_type": "stream",
     "text": [
      "100%|██████████| 1/1 [00:01<00:00,  1.23s/it]\n"
     ]
    },
    {
     "name": "stdout",
     "output_type": "stream",
     "text": [
      "Escaneando página 340 de 1012\n",
      "Rastreando: https://www.mediamarkt.es/es/category/_cafeteras-senseo-702612.html\n"
     ]
    },
    {
     "name": "stderr",
     "output_type": "stream",
     "text": [
      "100%|██████████| 1/1 [00:00<00:00,  1.15it/s]\n"
     ]
    },
    {
     "name": "stdout",
     "output_type": "stream",
     "text": [
      "Escaneando página 341 de 1012\n",
      "Rastreando: https://www.mediamarkt.es/es/category/_cafeteras-superautom%C3%A1ticas-702152.html\n",
      "Número de páginas: 3\n"
     ]
    },
    {
     "name": "stderr",
     "output_type": "stream",
     "text": [
      "100%|██████████| 3/3 [00:04<00:00,  1.56s/it]\n"
     ]
    },
    {
     "name": "stdout",
     "output_type": "stream",
     "text": [
      "Escaneando página 342 de 1012\n",
      "Rastreando: https://www.mediamarkt.es/es/category/_cafeteras-express-702153.html\n",
      "Número de páginas: 2\n"
     ]
    },
    {
     "name": "stderr",
     "output_type": "stream",
     "text": [
      "100%|██████████| 2/2 [00:03<00:00,  1.63s/it]\n"
     ]
    },
    {
     "name": "stdout",
     "output_type": "stream",
     "text": [
      "Escaneando página 343 de 1012\n",
      "Rastreando: https://www.mediamarkt.es/es/category/_cafeteras-de-goteo-702154.html\n",
      "Número de páginas: 2\n"
     ]
    },
    {
     "name": "stderr",
     "output_type": "stream",
     "text": [
      "100%|██████████| 2/2 [00:02<00:00,  1.52s/it]\n"
     ]
    },
    {
     "name": "stdout",
     "output_type": "stream",
     "text": [
      "Escaneando página 344 de 1012\n",
      "Rastreando: https://www.mediamarkt.es/es/category/_cafeteras-tradicionales-702155.html\n"
     ]
    },
    {
     "name": "stderr",
     "output_type": "stream",
     "text": [
      "100%|██████████| 1/1 [00:01<00:00,  1.06s/it]\n"
     ]
    },
    {
     "name": "stdout",
     "output_type": "stream",
     "text": [
      "Escaneando página 345 de 1012\n",
      "Rastreando: https://www.mediamarkt.es/es/category/_hervidores-y-teteras-702156.html\n",
      "Número de páginas: 5\n"
     ]
    },
    {
     "name": "stderr",
     "output_type": "stream",
     "text": [
      "100%|██████████| 5/5 [00:08<00:00,  1.53s/it]\n"
     ]
    },
    {
     "name": "stdout",
     "output_type": "stream",
     "text": [
      "Escaneando página 346 de 1012\n",
      "Rastreando: https://www.mediamarkt.es/es/category/_caf%C3%A9-y-accesorios-702157.html\n",
      "Número de páginas: 9\n"
     ]
    },
    {
     "name": "stderr",
     "output_type": "stream",
     "text": [
      "100%|██████████| 9/9 [00:13<00:00,  1.46s/it]\n"
     ]
    },
    {
     "name": "stdout",
     "output_type": "stream",
     "text": [
      "Escaneando página 347 de 1012\n",
      "Rastreando: https://www.mediamarkt.es/es/category/_caf%C3%A9-y-c%C3%A1psulas-702614.html\n",
      "Número de páginas: 5\n"
     ]
    },
    {
     "name": "stderr",
     "output_type": "stream",
     "text": [
      "100%|██████████| 5/5 [00:07<00:00,  1.59s/it]\n"
     ]
    },
    {
     "name": "stdout",
     "output_type": "stream",
     "text": [
      "Escaneando página 348 de 1012\n",
      "Rastreando: https://www.mediamarkt.es/es/category/_espumadores-de-leche-702615.html\n"
     ]
    },
    {
     "name": "stderr",
     "output_type": "stream",
     "text": [
      "100%|██████████| 1/1 [00:01<00:00,  1.30s/it]\n"
     ]
    },
    {
     "name": "stdout",
     "output_type": "stream",
     "text": [
      "Escaneando página 349 de 1012\n",
      "Rastreando: https://www.mediamarkt.es/es/category/_molinillos-de-caf%C3%A9-702616.html\n"
     ]
    },
    {
     "name": "stderr",
     "output_type": "stream",
     "text": [
      "100%|██████████| 1/1 [00:01<00:00,  1.48s/it]\n"
     ]
    },
    {
     "name": "stdout",
     "output_type": "stream",
     "text": [
      "Escaneando página 350 de 1012\n",
      "Rastreando: https://www.mediamarkt.es/es/category/_accesorios-para-cafeteras-702617.html\n",
      "Número de páginas: 3\n"
     ]
    },
    {
     "name": "stderr",
     "output_type": "stream",
     "text": [
      "100%|██████████| 3/3 [00:03<00:00,  1.05s/it]\n"
     ]
    },
    {
     "name": "stdout",
     "output_type": "stream",
     "text": [
      "Escaneando página 351 de 1012\n",
      "Rastreando: https://www.mediamarkt.es/es/category/_limpieza-cafetera-702618.html\n",
      "Número de páginas: 2\n"
     ]
    },
    {
     "name": "stderr",
     "output_type": "stream",
     "text": [
      "100%|██████████| 2/2 [00:02<00:00,  1.46s/it]\n"
     ]
    },
    {
     "name": "stdout",
     "output_type": "stream",
     "text": [
      "Escaneando página 352 de 1012\n",
      "Rastreando: https://www.mediamarkt.es/es/category/_cocci%C3%B3n-701237.html\n"
     ]
    },
    {
     "name": "stderr",
     "output_type": "stream",
     "text": [
      "100%|██████████| 1/1 [00:00<00:00,  1.25it/s]\n"
     ]
    },
    {
     "name": "stdout",
     "output_type": "stream",
     "text": [
      "Escaneando página 353 de 1012\n",
      "Rastreando: https://www.mediamarkt.es/es/category/_encimeras-702158.html\n"
     ]
    },
    {
     "name": "stderr",
     "output_type": "stream",
     "text": [
      "100%|██████████| 1/1 [00:00<00:00,  1.22it/s]\n"
     ]
    },
    {
     "name": "stdout",
     "output_type": "stream",
     "text": [
      "Escaneando página 354 de 1012\n",
      "Rastreando: https://www.mediamarkt.es/es/category/_encimeras-inducci%C3%B3n-702619.html\n",
      "Número de páginas: 6\n"
     ]
    },
    {
     "name": "stderr",
     "output_type": "stream",
     "text": [
      "100%|██████████| 6/6 [00:06<00:00,  1.00s/it]\n"
     ]
    },
    {
     "name": "stdout",
     "output_type": "stream",
     "text": [
      "Escaneando página 355 de 1012\n",
      "Rastreando: https://www.mediamarkt.es/es/category/_encimeras-de-gas-702620.html\n",
      "Número de páginas: 4\n"
     ]
    },
    {
     "name": "stderr",
     "output_type": "stream",
     "text": [
      "100%|██████████| 4/4 [00:04<00:00,  1.16s/it]\n"
     ]
    },
    {
     "name": "stdout",
     "output_type": "stream",
     "text": [
      "Escaneando página 356 de 1012\n",
      "Rastreando: https://www.mediamarkt.es/es/category/_encimeras-vitrocer%C3%A1micas-702621.html\n",
      "Número de páginas: 3\n"
     ]
    },
    {
     "name": "stderr",
     "output_type": "stream",
     "text": [
      "100%|██████████| 3/3 [00:03<00:00,  1.10s/it]\n"
     ]
    },
    {
     "name": "stdout",
     "output_type": "stream",
     "text": [
      "Escaneando página 357 de 1012\n",
      "Rastreando: https://www.mediamarkt.es/es/category/_encimeras-modulares-702622.html\n"
     ]
    },
    {
     "name": "stderr",
     "output_type": "stream",
     "text": [
      "100%|██████████| 1/1 [00:01<00:00,  1.19s/it]\n"
     ]
    },
    {
     "name": "stdout",
     "output_type": "stream",
     "text": [
      "Escaneando página 358 de 1012\n",
      "Rastreando: https://www.mediamarkt.es/es/category/_encimeras-port%C3%A1tiles-702623.html\n",
      "Número de páginas: 2\n"
     ]
    },
    {
     "name": "stderr",
     "output_type": "stream",
     "text": [
      "100%|██████████| 2/2 [00:02<00:00,  1.51s/it]\n"
     ]
    },
    {
     "name": "stdout",
     "output_type": "stream",
     "text": [
      "Escaneando página 359 de 1012\n",
      "Rastreando: https://www.mediamarkt.es/es/category/_accesorios-para-encimeras-702624.html\n"
     ]
    },
    {
     "name": "stderr",
     "output_type": "stream",
     "text": [
      "100%|██████████| 1/1 [00:01<00:00,  1.16s/it]\n"
     ]
    },
    {
     "name": "stdout",
     "output_type": "stream",
     "text": [
      "Escaneando página 360 de 1012\n",
      "Rastreando: https://www.mediamarkt.es/es/category/_cocinas-702159.html\n",
      "Número de páginas: 4\n"
     ]
    },
    {
     "name": "stderr",
     "output_type": "stream",
     "text": [
      "100%|██████████| 4/4 [00:04<00:00,  1.03s/it]\n"
     ]
    },
    {
     "name": "stdout",
     "output_type": "stream",
     "text": [
      "Escaneando página 361 de 1012\n",
      "Rastreando: https://www.mediamarkt.es/es/category/_cocinas-a-gas-702625.html\n",
      "Número de páginas: 3\n"
     ]
    },
    {
     "name": "stderr",
     "output_type": "stream",
     "text": [
      "100%|██████████| 3/3 [00:03<00:00,  1.18s/it]\n"
     ]
    },
    {
     "name": "stdout",
     "output_type": "stream",
     "text": [
      "Escaneando página 362 de 1012\n",
      "Rastreando: https://www.mediamarkt.es/es/category/_cocinas-el%C3%A9ctricas-702626.html\n"
     ]
    },
    {
     "name": "stderr",
     "output_type": "stream",
     "text": [
      "100%|██████████| 1/1 [00:00<00:00,  1.01it/s]\n"
     ]
    },
    {
     "name": "stdout",
     "output_type": "stream",
     "text": [
      "Escaneando página 363 de 1012\n",
      "Rastreando: https://www.mediamarkt.es/es/category/_cocinas-gas-horno-el%C3%A9ctrico-702628.html\n"
     ]
    },
    {
     "name": "stderr",
     "output_type": "stream",
     "text": [
      "100%|██████████| 1/1 [00:01<00:00,  1.35s/it]\n"
     ]
    },
    {
     "name": "stdout",
     "output_type": "stream",
     "text": [
      "Escaneando página 364 de 1012\n",
      "Rastreando: https://www.mediamarkt.es/es/category/_hornos-702160.html\n"
     ]
    },
    {
     "name": "stderr",
     "output_type": "stream",
     "text": [
      "100%|██████████| 1/1 [00:00<00:00,  1.17it/s]\n"
     ]
    },
    {
     "name": "stdout",
     "output_type": "stream",
     "text": [
      "Escaneando página 365 de 1012\n",
      "Rastreando: https://www.mediamarkt.es/es/category/_hornos-convencionales-702629.html\n"
     ]
    },
    {
     "name": "stderr",
     "output_type": "stream",
     "text": [
      "100%|██████████| 1/1 [00:00<00:00,  1.08it/s]\n"
     ]
    },
    {
     "name": "stdout",
     "output_type": "stream",
     "text": [
      "Escaneando página 366 de 1012\n",
      "Rastreando: https://www.mediamarkt.es/es/category/_hornos-multifunci%C3%B3n-702630.html\n",
      "Número de páginas: 9\n"
     ]
    },
    {
     "name": "stderr",
     "output_type": "stream",
     "text": [
      "100%|██████████| 9/9 [00:10<00:00,  1.13s/it]\n"
     ]
    },
    {
     "name": "stdout",
     "output_type": "stream",
     "text": [
      "Escaneando página 367 de 1012\n",
      "Rastreando: https://www.mediamarkt.es/es/category/_hornos-compactos-702631.html\n",
      "Número de páginas: 2\n"
     ]
    },
    {
     "name": "stderr",
     "output_type": "stream",
     "text": [
      "100%|██████████| 2/2 [00:02<00:00,  1.40s/it]\n"
     ]
    },
    {
     "name": "stdout",
     "output_type": "stream",
     "text": [
      "Escaneando página 368 de 1012\n",
      "Rastreando: https://www.mediamarkt.es/es/category/_hornos-a-vapor-702632.html\n"
     ]
    },
    {
     "name": "stderr",
     "output_type": "stream",
     "text": [
      "100%|██████████| 1/1 [00:00<00:00,  1.14it/s]\n"
     ]
    },
    {
     "name": "stdout",
     "output_type": "stream",
     "text": [
      "Escaneando página 369 de 1012\n",
      "Rastreando: https://www.mediamarkt.es/es/category/_hornos-con-microondas-702633.html\n"
     ]
    },
    {
     "name": "stderr",
     "output_type": "stream",
     "text": [
      "100%|██████████| 1/1 [00:01<00:00,  1.41s/it]\n"
     ]
    },
    {
     "name": "stdout",
     "output_type": "stream",
     "text": [
      "Escaneando página 370 de 1012\n",
      "Rastreando: https://www.mediamarkt.es/es/category/_hornos-de-sobremesa-702634.html\n",
      "Número de páginas: 3\n"
     ]
    },
    {
     "name": "stderr",
     "output_type": "stream",
     "text": [
      "100%|██████████| 3/3 [00:04<00:00,  1.41s/it]\n"
     ]
    },
    {
     "name": "stdout",
     "output_type": "stream",
     "text": [
      "Escaneando página 371 de 1012\n",
      "Rastreando: https://www.mediamarkt.es/es/category/_accesorios-para-hornos-702635.html\n"
     ]
    },
    {
     "name": "stderr",
     "output_type": "stream",
     "text": [
      "100%|██████████| 1/1 [00:00<00:00,  1.15it/s]\n"
     ]
    },
    {
     "name": "stdout",
     "output_type": "stream",
     "text": [
      "Escaneando página 372 de 1012\n",
      "Rastreando: https://www.mediamarkt.es/es/category/_campanas-extractoras-702161.html\n"
     ]
    },
    {
     "name": "stderr",
     "output_type": "stream",
     "text": [
      "100%|██████████| 1/1 [00:00<00:00,  1.09it/s]\n"
     ]
    },
    {
     "name": "stdout",
     "output_type": "stream",
     "text": [
      "Escaneando página 373 de 1012\n",
      "Rastreando: https://www.mediamarkt.es/es/category/_decorativas-702636.html\n",
      "Número de páginas: 9\n"
     ]
    },
    {
     "name": "stderr",
     "output_type": "stream",
     "text": [
      "100%|██████████| 9/9 [00:16<00:00,  2.04s/it]\n"
     ]
    },
    {
     "name": "stdout",
     "output_type": "stream",
     "text": [
      "Escaneando página 374 de 1012\n",
      "Rastreando: https://www.mediamarkt.es/es/category/_extra%C3%ADbles-702637.html\n",
      "Número de páginas: 4\n"
     ]
    },
    {
     "name": "stderr",
     "output_type": "stream",
     "text": [
      "100%|██████████| 4/4 [00:06<00:00,  1.46s/it]\n"
     ]
    },
    {
     "name": "stdout",
     "output_type": "stream",
     "text": [
      "Escaneando página 375 de 1012\n",
      "Rastreando: https://www.mediamarkt.es/es/category/_convencionales-702638.html\n",
      "Número de páginas: 2\n"
     ]
    },
    {
     "name": "stderr",
     "output_type": "stream",
     "text": [
      "100%|██████████| 2/2 [00:02<00:00,  1.47s/it]\n"
     ]
    },
    {
     "name": "stdout",
     "output_type": "stream",
     "text": [
      "Escaneando página 376 de 1012\n",
      "Rastreando: https://www.mediamarkt.es/es/category/_isla-702639.html\n",
      "Número de páginas: 2\n"
     ]
    },
    {
     "name": "stderr",
     "output_type": "stream",
     "text": [
      "100%|██████████| 2/2 [00:01<00:00,  1.01it/s]\n"
     ]
    },
    {
     "name": "stdout",
     "output_type": "stream",
     "text": [
      "Escaneando página 377 de 1012\n",
      "Rastreando: https://www.mediamarkt.es/es/category/_grupo-filtrante-702640.html\n",
      "Número de páginas: 3\n"
     ]
    },
    {
     "name": "stderr",
     "output_type": "stream",
     "text": [
      "100%|██████████| 3/3 [00:04<00:00,  1.46s/it]\n"
     ]
    },
    {
     "name": "stdout",
     "output_type": "stream",
     "text": [
      "Escaneando página 378 de 1012\n",
      "Rastreando: https://www.mediamarkt.es/es/category/_accesorios-campanas-extractoras-702641.html\n",
      "Número de páginas: 3\n"
     ]
    },
    {
     "name": "stderr",
     "output_type": "stream",
     "text": [
      "100%|██████████| 3/3 [00:04<00:00,  1.57s/it]\n"
     ]
    },
    {
     "name": "stdout",
     "output_type": "stream",
     "text": [
      "Escaneando página 379 de 1012\n",
      "Rastreando: https://www.mediamarkt.es/es/category/_microondas-702162.html\n"
     ]
    },
    {
     "name": "stderr",
     "output_type": "stream",
     "text": [
      "100%|██████████| 1/1 [00:00<00:00,  1.12it/s]\n"
     ]
    },
    {
     "name": "stdout",
     "output_type": "stream",
     "text": [
      "Escaneando página 380 de 1012\n",
      "Rastreando: https://www.mediamarkt.es/es/category/_microondas-sin-grill-702642.html\n",
      "Número de páginas: 2\n"
     ]
    },
    {
     "name": "stderr",
     "output_type": "stream",
     "text": [
      "100%|██████████| 2/2 [00:01<00:00,  1.04it/s]\n"
     ]
    },
    {
     "name": "stdout",
     "output_type": "stream",
     "text": [
      "Escaneando página 381 de 1012\n",
      "Rastreando: https://www.mediamarkt.es/es/category/_microondas-con-grill-702643.html\n",
      "Número de páginas: 6\n"
     ]
    },
    {
     "name": "stderr",
     "output_type": "stream",
     "text": [
      "100%|██████████| 6/6 [00:06<00:00,  1.04s/it]\n"
     ]
    },
    {
     "name": "stdout",
     "output_type": "stream",
     "text": [
      "Escaneando página 382 de 1012\n",
      "Rastreando: https://www.mediamarkt.es/es/category/_microondas-con-horno-702644.html\n"
     ]
    },
    {
     "name": "stderr",
     "output_type": "stream",
     "text": [
      "100%|██████████| 1/1 [00:00<00:00,  1.08it/s]\n"
     ]
    },
    {
     "name": "stdout",
     "output_type": "stream",
     "text": [
      "Escaneando página 383 de 1012\n",
      "Rastreando: https://www.mediamarkt.es/es/category/_microondas-integrables-702645.html\n",
      "Número de páginas: 3\n"
     ]
    },
    {
     "name": "stderr",
     "output_type": "stream",
     "text": [
      "100%|██████████| 3/3 [00:03<00:00,  1.11s/it]\n"
     ]
    },
    {
     "name": "stdout",
     "output_type": "stream",
     "text": [
      "Escaneando página 384 de 1012\n",
      "Rastreando: https://www.mediamarkt.es/es/category/_accesorios-para-microondas-702646.html\n"
     ]
    },
    {
     "name": "stderr",
     "output_type": "stream",
     "text": [
      "100%|██████████| 1/1 [00:01<00:00,  1.20s/it]\n"
     ]
    },
    {
     "name": "stdout",
     "output_type": "stream",
     "text": [
      "Escaneando página 385 de 1012\n",
      "Rastreando: https://www.mediamarkt.es/es/category/_packs-de-cocci%C3%B3n-702163.html\n"
     ]
    },
    {
     "name": "stderr",
     "output_type": "stream",
     "text": [
      "100%|██████████| 1/1 [00:01<00:00,  1.06s/it]\n"
     ]
    },
    {
     "name": "stdout",
     "output_type": "stream",
     "text": [
      "Escaneando página 386 de 1012\n",
      "Rastreando: https://www.mediamarkt.es/es/category/_preparaci%C3%B3n-de-alimentos-701238.html\n"
     ]
    },
    {
     "name": "stderr",
     "output_type": "stream",
     "text": [
      "100%|██████████| 1/1 [00:00<00:00,  1.05it/s]\n"
     ]
    },
    {
     "name": "stdout",
     "output_type": "stream",
     "text": [
      "Escaneando página 387 de 1012\n",
      "Rastreando: https://www.mediamarkt.es/es/category/_batidoras-702164.html\n",
      "Número de páginas: 10\n"
     ]
    },
    {
     "name": "stderr",
     "output_type": "stream",
     "text": [
      "100%|██████████| 10/10 [00:14<00:00,  1.36s/it]\n"
     ]
    },
    {
     "name": "stdout",
     "output_type": "stream",
     "text": [
      "Escaneando página 388 de 1012\n",
      "Rastreando: https://www.mediamarkt.es/es/category/_batidoras-de-mano-702647.html\n",
      "Número de páginas: 5\n"
     ]
    },
    {
     "name": "stderr",
     "output_type": "stream",
     "text": [
      "100%|██████████| 5/5 [00:05<00:00,  1.05s/it]\n"
     ]
    },
    {
     "name": "stdout",
     "output_type": "stream",
     "text": [
      "Escaneando página 389 de 1012\n",
      "Rastreando: https://www.mediamarkt.es/es/category/_batidoras-de-vaso-702648.html\n",
      "Número de páginas: 5\n"
     ]
    },
    {
     "name": "stderr",
     "output_type": "stream",
     "text": [
      "100%|██████████| 5/5 [00:05<00:00,  1.17s/it]\n"
     ]
    },
    {
     "name": "stdout",
     "output_type": "stream",
     "text": [
      "Escaneando página 390 de 1012\n",
      "Rastreando: https://www.mediamarkt.es/es/category/_robots-de-cocina-702165.html\n",
      "Número de páginas: 7\n"
     ]
    },
    {
     "name": "stderr",
     "output_type": "stream",
     "text": [
      "100%|██████████| 7/7 [00:11<00:00,  1.47s/it]\n"
     ]
    },
    {
     "name": "stdout",
     "output_type": "stream",
     "text": [
      "Escaneando página 391 de 1012\n",
      "Rastreando: https://www.mediamarkt.es/es/category/_exprimidores-y-licuadoras-702166.html\n",
      "Número de páginas: 5\n"
     ]
    },
    {
     "name": "stderr",
     "output_type": "stream",
     "text": [
      "100%|██████████| 5/5 [00:07<00:00,  1.55s/it]\n"
     ]
    },
    {
     "name": "stdout",
     "output_type": "stream",
     "text": [
      "Escaneando página 392 de 1012\n",
      "Rastreando: https://www.mediamarkt.es/es/category/_prensado-en-fr%C3%ADo-702649.html\n"
     ]
    },
    {
     "name": "stderr",
     "output_type": "stream",
     "text": [
      "100%|██████████| 1/1 [00:01<00:00,  1.19s/it]\n"
     ]
    },
    {
     "name": "stdout",
     "output_type": "stream",
     "text": [
      "Escaneando página 393 de 1012\n",
      "Rastreando: https://www.mediamarkt.es/es/category/_exprimidores-702650.html\n",
      "Número de páginas: 3\n"
     ]
    },
    {
     "name": "stderr",
     "output_type": "stream",
     "text": [
      "100%|██████████| 3/3 [00:03<00:00,  1.16s/it]\n"
     ]
    },
    {
     "name": "stdout",
     "output_type": "stream",
     "text": [
      "Escaneando página 394 de 1012\n",
      "Rastreando: https://www.mediamarkt.es/es/category/_licuadoras-702651.html\n",
      "Número de páginas: 3\n"
     ]
    },
    {
     "name": "stderr",
     "output_type": "stream",
     "text": [
      "100%|██████████| 3/3 [00:04<00:00,  1.44s/it]\n"
     ]
    },
    {
     "name": "stdout",
     "output_type": "stream",
     "text": [
      "Escaneando página 395 de 1012\n",
      "Rastreando: https://www.mediamarkt.es/es/category/_sandwicheras-y-tostadoras-702167.html\n",
      "Número de páginas: 10\n"
     ]
    },
    {
     "name": "stderr",
     "output_type": "stream",
     "text": [
      "100%|██████████| 10/10 [00:15<00:00,  1.54s/it]\n"
     ]
    },
    {
     "name": "stdout",
     "output_type": "stream",
     "text": [
      "Escaneando página 396 de 1012\n",
      "Rastreando: https://www.mediamarkt.es/es/category/_sandwicheras-702652.html\n",
      "Número de páginas: 4\n"
     ]
    },
    {
     "name": "stderr",
     "output_type": "stream",
     "text": [
      "100%|██████████| 4/4 [00:05<00:00,  1.33s/it]\n"
     ]
    },
    {
     "name": "stdout",
     "output_type": "stream",
     "text": [
      "Escaneando página 397 de 1012\n",
      "Rastreando: https://www.mediamarkt.es/es/category/_tostadoras-702653.html\n",
      "Número de páginas: 6\n"
     ]
    },
    {
     "name": "stderr",
     "output_type": "stream",
     "text": [
      "100%|██████████| 6/6 [00:06<00:00,  1.03s/it]\n"
     ]
    },
    {
     "name": "stdout",
     "output_type": "stream",
     "text": [
      "Escaneando página 398 de 1012\n",
      "Rastreando: https://www.mediamarkt.es/es/category/_planchas-de-asar-y-grills-702168.html\n",
      "Número de páginas: 7\n"
     ]
    },
    {
     "name": "stderr",
     "output_type": "stream",
     "text": [
      "100%|██████████| 7/7 [00:10<00:00,  1.39s/it]\n"
     ]
    },
    {
     "name": "stdout",
     "output_type": "stream",
     "text": [
      "Escaneando página 399 de 1012\n",
      "Rastreando: https://www.mediamarkt.es/es/category/_freidoras-702169.html\n",
      "Número de páginas: 3\n"
     ]
    },
    {
     "name": "stderr",
     "output_type": "stream",
     "text": [
      "100%|██████████| 3/3 [00:03<00:00,  1.23s/it]\n"
     ]
    },
    {
     "name": "stdout",
     "output_type": "stream",
     "text": [
      "Escaneando página 400 de 1012\n",
      "Rastreando: https://www.mediamarkt.es/es/category/_picadoras-y-ralladores-702170.html\n",
      "Número de páginas: 3\n"
     ]
    },
    {
     "name": "stderr",
     "output_type": "stream",
     "text": [
      "100%|██████████| 3/3 [00:04<00:00,  1.29s/it]\n"
     ]
    },
    {
     "name": "stdout",
     "output_type": "stream",
     "text": [
      "Escaneando página 401 de 1012\n",
      "Rastreando: https://www.mediamarkt.es/es/category/_picadoras-de-alimentos-702654.html\n",
      "Número de páginas: 2\n"
     ]
    },
    {
     "name": "stderr",
     "output_type": "stream",
     "text": [
      "100%|██████████| 2/2 [00:04<00:00,  2.42s/it]\n"
     ]
    },
    {
     "name": "stdout",
     "output_type": "stream",
     "text": [
      "Escaneando página 402 de 1012\n",
      "Rastreando: https://www.mediamarkt.es/es/category/_ralladores-702655.html\n"
     ]
    },
    {
     "name": "stderr",
     "output_type": "stream",
     "text": [
      "100%|██████████| 1/1 [00:00<00:00,  1.18it/s]\n"
     ]
    },
    {
     "name": "stdout",
     "output_type": "stream",
     "text": [
      "Escaneando página 403 de 1012\n",
      "Rastreando: https://www.mediamarkt.es/es/category/_cortafiambres-702656.html\n"
     ]
    },
    {
     "name": "stderr",
     "output_type": "stream",
     "text": [
      "100%|██████████| 1/1 [00:01<00:00,  1.14s/it]\n"
     ]
    },
    {
     "name": "stdout",
     "output_type": "stream",
     "text": [
      "Escaneando página 404 de 1012\n",
      "Rastreando: https://www.mediamarkt.es/es/category/_cocinas-al-vapor-y-arroceras-702171.html\n",
      "Número de páginas: 2\n"
     ]
    },
    {
     "name": "stderr",
     "output_type": "stream",
     "text": [
      "100%|██████████| 2/2 [00:02<00:00,  1.11s/it]\n"
     ]
    },
    {
     "name": "stdout",
     "output_type": "stream",
     "text": [
      "Escaneando página 405 de 1012\n",
      "Rastreando: https://www.mediamarkt.es/es/category/_balanzas-de-cocina-702172.html\n",
      "Número de páginas: 3\n"
     ]
    },
    {
     "name": "stderr",
     "output_type": "stream",
     "text": [
      "100%|██████████| 3/3 [00:04<00:00,  1.65s/it]\n"
     ]
    },
    {
     "name": "stdout",
     "output_type": "stream",
     "text": [
      "Escaneando página 406 de 1012\n",
      "Rastreando: https://www.mediamarkt.es/es/category/_envasadoras-al-vacio-702173.html\n",
      "Número de páginas: 3\n"
     ]
    },
    {
     "name": "stderr",
     "output_type": "stream",
     "text": [
      "100%|██████████| 3/3 [00:05<00:00,  1.64s/it]\n"
     ]
    },
    {
     "name": "stdout",
     "output_type": "stream",
     "text": [
      "Escaneando página 407 de 1012\n",
      "Rastreando: https://www.mediamarkt.es/es/category/_dispensadores-de-bebidas-702174.html\n"
     ]
    },
    {
     "name": "stderr",
     "output_type": "stream",
     "text": [
      "100%|██████████| 1/1 [00:01<00:00,  1.21s/it]\n"
     ]
    },
    {
     "name": "stdout",
     "output_type": "stream",
     "text": [
      "Escaneando página 408 de 1012\n",
      "Rastreando: https://www.mediamarkt.es/es/category/_menaje-702175.html\n"
     ]
    },
    {
     "name": "stderr",
     "output_type": "stream",
     "text": [
      "100%|██████████| 1/1 [00:00<00:00,  1.19it/s]\n"
     ]
    },
    {
     "name": "stdout",
     "output_type": "stream",
     "text": [
      "Escaneando página 409 de 1012\n",
      "Rastreando: https://www.mediamarkt.es/es/category/_sartenes-702657.html\n",
      "Número de páginas: 3\n"
     ]
    },
    {
     "name": "stderr",
     "output_type": "stream",
     "text": [
      "100%|██████████| 3/3 [00:04<00:00,  1.47s/it]\n"
     ]
    },
    {
     "name": "stdout",
     "output_type": "stream",
     "text": [
      "Escaneando página 410 de 1012\n",
      "Rastreando: https://www.mediamarkt.es/es/category/_ollas-702658.html\n",
      "Número de páginas: 6\n"
     ]
    },
    {
     "name": "stderr",
     "output_type": "stream",
     "text": [
      "100%|██████████| 6/6 [00:07<00:00,  1.19s/it]\n"
     ]
    },
    {
     "name": "stdout",
     "output_type": "stream",
     "text": [
      "Escaneando página 411 de 1012\n",
      "Rastreando: https://www.mediamarkt.es/es/category/_bater%C3%ADas-de-cocina-702659.html\n"
     ]
    },
    {
     "name": "stderr",
     "output_type": "stream",
     "text": [
      "100%|██████████| 1/1 [00:01<00:00,  1.43s/it]\n"
     ]
    },
    {
     "name": "stdout",
     "output_type": "stream",
     "text": [
      "Escaneando página 412 de 1012\n",
      "Rastreando: https://www.mediamarkt.es/es/category/_utensilios-de-cocina-702660.html\n",
      "Número de páginas: 10\n"
     ]
    },
    {
     "name": "stderr",
     "output_type": "stream",
     "text": [
      "100%|██████████| 10/10 [00:18<00:00,  1.73s/it]\n"
     ]
    },
    {
     "name": "stdout",
     "output_type": "stream",
     "text": [
      "Escaneando página 413 de 1012\n",
      "Rastreando: https://www.mediamarkt.es/es/category/_termos-y-fiambreras-702661.html\n",
      "Número de páginas: 3\n"
     ]
    },
    {
     "name": "stderr",
     "output_type": "stream",
     "text": [
      "100%|██████████| 3/3 [00:04<00:00,  1.49s/it]\n"
     ]
    },
    {
     "name": "stdout",
     "output_type": "stream",
     "text": [
      "Escaneando página 414 de 1012\n",
      "Rastreando: https://www.mediamarkt.es/es/category/_tuppers-702662.html\n",
      "Número de páginas: 3\n"
     ]
    },
    {
     "name": "stderr",
     "output_type": "stream",
     "text": [
      "100%|██████████| 3/3 [00:03<00:00,  1.33s/it]\n"
     ]
    },
    {
     "name": "stdout",
     "output_type": "stream",
     "text": [
      "Escaneando página 415 de 1012\n",
      "Rastreando: https://www.mediamarkt.es/es/category/_filtrado-de-agua-702176.html\n",
      "Número de páginas: 2\n"
     ]
    },
    {
     "name": "stderr",
     "output_type": "stream",
     "text": [
      "100%|██████████| 2/2 [00:03<00:00,  1.62s/it]\n"
     ]
    },
    {
     "name": "stdout",
     "output_type": "stream",
     "text": [
      "Escaneando página 416 de 1012\n",
      "Rastreando: https://www.mediamarkt.es/es/category/_jarras-filtrantes-702663.html\n",
      "Número de páginas: 2\n"
     ]
    },
    {
     "name": "stderr",
     "output_type": "stream",
     "text": [
      "100%|██████████| 2/2 [00:02<00:00,  1.48s/it]\n"
     ]
    },
    {
     "name": "stdout",
     "output_type": "stream",
     "text": [
      "Escaneando página 417 de 1012\n",
      "Rastreando: https://www.mediamarkt.es/es/category/_filtros-y-recambios-702664.html\n"
     ]
    },
    {
     "name": "stderr",
     "output_type": "stream",
     "text": [
      "100%|██████████| 1/1 [00:01<00:00,  1.14s/it]\n"
     ]
    },
    {
     "name": "stdout",
     "output_type": "stream",
     "text": [
      "Escaneando página 418 de 1012\n",
      "Rastreando: https://www.mediamarkt.es/es/category/_reposter%C3%ADa-y-cocina-divertida-701239.html\n",
      "Número de páginas: 6\n"
     ]
    },
    {
     "name": "stderr",
     "output_type": "stream",
     "text": [
      "100%|██████████| 6/6 [00:10<00:00,  1.76s/it]\n"
     ]
    },
    {
     "name": "stdout",
     "output_type": "stream",
     "text": [
      "Escaneando página 419 de 1012\n",
      "Rastreando: https://www.mediamarkt.es/es/category/_batidoras-de-reposter%C3%ADa-702177.html\n",
      "Número de páginas: 2\n"
     ]
    },
    {
     "name": "stderr",
     "output_type": "stream",
     "text": [
      "100%|██████████| 2/2 [00:02<00:00,  1.33s/it]\n"
     ]
    },
    {
     "name": "stdout",
     "output_type": "stream",
     "text": [
      "Escaneando página 420 de 1012\n",
      "Rastreando: https://www.mediamarkt.es/es/category/_moldes-y-bandejas-702178.html\n"
     ]
    },
    {
     "name": "stderr",
     "output_type": "stream",
     "text": [
      "100%|██████████| 1/1 [00:01<00:00,  1.01s/it]\n"
     ]
    },
    {
     "name": "stdout",
     "output_type": "stream",
     "text": [
      "Escaneando página 421 de 1012\n",
      "Rastreando: https://www.mediamarkt.es/es/category/_crepes-gofres-y-cupcakes-702179.html\n",
      "Número de páginas: 2\n"
     ]
    },
    {
     "name": "stderr",
     "output_type": "stream",
     "text": [
      "100%|██████████| 2/2 [00:03<00:00,  2.23s/it]\n"
     ]
    },
    {
     "name": "stdout",
     "output_type": "stream",
     "text": [
      "Escaneando página 422 de 1012\n",
      "Rastreando: https://www.mediamarkt.es/es/category/_fondues-fuentes-de-chocolate-702180.html\n"
     ]
    },
    {
     "name": "stderr",
     "output_type": "stream",
     "text": [
      "100%|██████████| 1/1 [00:01<00:00,  1.33s/it]\n"
     ]
    },
    {
     "name": "stdout",
     "output_type": "stream",
     "text": [
      "Escaneando página 423 de 1012\n",
      "Rastreando: https://www.mediamarkt.es/es/category/_heladeras-702181.html\n"
     ]
    },
    {
     "name": "stderr",
     "output_type": "stream",
     "text": [
      "100%|██████████| 1/1 [00:01<00:00,  1.30s/it]\n"
     ]
    },
    {
     "name": "stdout",
     "output_type": "stream",
     "text": [
      "Escaneando página 424 de 1012\n",
      "Rastreando: https://www.mediamarkt.es/es/category/_hot-dogs-y-burgers-702182.html\n"
     ]
    },
    {
     "name": "stderr",
     "output_type": "stream",
     "text": [
      "100%|██████████| 1/1 [00:01<00:00,  1.01s/it]\n"
     ]
    },
    {
     "name": "stdout",
     "output_type": "stream",
     "text": [
      "Escaneando página 425 de 1012\n",
      "Rastreando: https://www.mediamarkt.es/es/category/_palomitas-y-algod%C3%B3n-de-az%C3%BAcar-702183.html\n",
      "Número de páginas: 2\n"
     ]
    },
    {
     "name": "stderr",
     "output_type": "stream",
     "text": [
      "100%|██████████| 2/2 [00:02<00:00,  1.39s/it]\n"
     ]
    },
    {
     "name": "stdout",
     "output_type": "stream",
     "text": [
      "Escaneando página 426 de 1012\n",
      "Rastreando: https://www.mediamarkt.es/es/category/_lavavajillas-701240.html\n"
     ]
    },
    {
     "name": "stderr",
     "output_type": "stream",
     "text": [
      "100%|██████████| 1/1 [00:00<00:00,  1.03it/s]\n"
     ]
    },
    {
     "name": "stdout",
     "output_type": "stream",
     "text": [
      "Escaneando página 427 de 1012\n",
      "Rastreando: https://www.mediamarkt.es/es/category/_lavavajillas-libre-instalaci%C3%B3n-702184.html\n",
      "Número de páginas: 5\n"
     ]
    },
    {
     "name": "stderr",
     "output_type": "stream",
     "text": [
      "100%|██████████| 5/5 [00:06<00:00,  1.34s/it]\n"
     ]
    },
    {
     "name": "stdout",
     "output_type": "stream",
     "text": [
      "Escaneando página 428 de 1012\n",
      "Rastreando: https://www.mediamarkt.es/es/category/_lavavajillas-integrables-702185.html\n",
      "Número de páginas: 2\n"
     ]
    },
    {
     "name": "stderr",
     "output_type": "stream",
     "text": [
      "100%|██████████| 2/2 [00:02<00:00,  1.28s/it]\n"
     ]
    },
    {
     "name": "stdout",
     "output_type": "stream",
     "text": [
      "Escaneando página 429 de 1012\n",
      "Rastreando: https://www.mediamarkt.es/es/category/_lavavajillas-compactos-702186.html\n"
     ]
    },
    {
     "name": "stderr",
     "output_type": "stream",
     "text": [
      "100%|██████████| 1/1 [00:00<00:00,  1.04it/s]\n"
     ]
    },
    {
     "name": "stdout",
     "output_type": "stream",
     "text": [
      "Escaneando página 430 de 1012\n",
      "Rastreando: https://www.mediamarkt.es/es/category/_accesorios-lavavajillas-702187.html\n"
     ]
    },
    {
     "name": "stderr",
     "output_type": "stream",
     "text": [
      "100%|██████████| 1/1 [00:01<00:00,  1.45s/it]\n"
     ]
    },
    {
     "name": "stdout",
     "output_type": "stream",
     "text": [
      "Escaneando página 431 de 1012\n",
      "Rastreando: https://www.mediamarkt.es/es/category/_vinotecas-701241.html\n",
      "Número de páginas: 2\n"
     ]
    },
    {
     "name": "stderr",
     "output_type": "stream",
     "text": [
      "100%|██████████| 2/2 [00:02<00:00,  1.46s/it]\n"
     ]
    },
    {
     "name": "stdout",
     "output_type": "stream",
     "text": [
      "Escaneando página 432 de 1012\n",
      "Rastreando: https://www.mediamarkt.es/es/category/_libre-instalaci%C3%B3n-702188.html\n",
      "Número de páginas: 2\n"
     ]
    },
    {
     "name": "stderr",
     "output_type": "stream",
     "text": [
      "100%|██████████| 2/2 [00:03<00:00,  1.98s/it]\n"
     ]
    },
    {
     "name": "stdout",
     "output_type": "stream",
     "text": [
      "Escaneando página 433 de 1012\n",
      "Rastreando: https://www.mediamarkt.es/es/category/_integraci%C3%B3n-702189.html\n"
     ]
    },
    {
     "name": "stderr",
     "output_type": "stream",
     "text": [
      "100%|██████████| 1/1 [00:00<00:00,  1.08it/s]\n"
     ]
    },
    {
     "name": "stdout",
     "output_type": "stream",
     "text": [
      "Escaneando página 434 de 1012\n",
      "Rastreando: https://www.mediamarkt.es/es/category/_termos-y-calentadores-701242.html\n"
     ]
    },
    {
     "name": "stderr",
     "output_type": "stream",
     "text": [
      "100%|██████████| 1/1 [00:00<00:00,  1.08it/s]\n"
     ]
    },
    {
     "name": "stdout",
     "output_type": "stream",
     "text": [
      "Escaneando página 435 de 1012\n",
      "Rastreando: https://www.mediamarkt.es/es/category/_calentadores-el%C3%A9ctricos-702190.html\n"
     ]
    },
    {
     "name": "stderr",
     "output_type": "stream",
     "text": [
      "100%|██████████| 1/1 [00:00<00:00,  1.11it/s]\n"
     ]
    },
    {
     "name": "stdout",
     "output_type": "stream",
     "text": [
      "Escaneando página 436 de 1012\n",
      "Rastreando: https://www.mediamarkt.es/es/category/_lavado-y-cuidado-de-la-ropa-701133.html\n"
     ]
    },
    {
     "name": "stderr",
     "output_type": "stream",
     "text": [
      "100%|██████████| 1/1 [00:00<00:00,  1.13it/s]\n"
     ]
    },
    {
     "name": "stdout",
     "output_type": "stream",
     "text": [
      "Escaneando página 437 de 1012\n",
      "Rastreando: https://www.mediamarkt.es/es/category/_lavado-701243.html\n"
     ]
    },
    {
     "name": "stderr",
     "output_type": "stream",
     "text": [
      "100%|██████████| 1/1 [00:00<00:00,  1.21it/s]\n"
     ]
    },
    {
     "name": "stdout",
     "output_type": "stream",
     "text": [
      "Escaneando página 438 de 1012\n",
      "Rastreando: https://www.mediamarkt.es/es/category/_lavadoras-carga-frontal-702191.html\n",
      "Número de páginas: 8\n"
     ]
    },
    {
     "name": "stderr",
     "output_type": "stream",
     "text": [
      "100%|██████████| 8/8 [00:07<00:00,  1.03it/s]\n"
     ]
    },
    {
     "name": "stdout",
     "output_type": "stream",
     "text": [
      "Escaneando página 439 de 1012\n",
      "Rastreando: https://www.mediamarkt.es/es/category/_lavadoras-carga-superior-702192.html\n",
      "Número de páginas: 2\n"
     ]
    },
    {
     "name": "stderr",
     "output_type": "stream",
     "text": [
      "100%|██████████| 2/2 [00:02<00:00,  1.09s/it]\n"
     ]
    },
    {
     "name": "stdout",
     "output_type": "stream",
     "text": [
      "Escaneando página 440 de 1012\n",
      "Rastreando: https://www.mediamarkt.es/es/category/_lavadoras-secadoras-702193.html\n",
      "Número de páginas: 2\n"
     ]
    },
    {
     "name": "stderr",
     "output_type": "stream",
     "text": [
      "100%|██████████| 2/2 [00:02<00:00,  1.26s/it]\n"
     ]
    },
    {
     "name": "stdout",
     "output_type": "stream",
     "text": [
      "Escaneando página 441 de 1012\n",
      "Rastreando: https://www.mediamarkt.es/es/category/_lavadoras-integrables-702194.html\n"
     ]
    },
    {
     "name": "stderr",
     "output_type": "stream",
     "text": [
      "100%|██████████| 1/1 [00:00<00:00,  1.02it/s]\n"
     ]
    },
    {
     "name": "stdout",
     "output_type": "stream",
     "text": [
      "Escaneando página 442 de 1012\n",
      "Rastreando: https://www.mediamarkt.es/es/category/_accesorios-lavadoras-702195.html\n",
      "Número de páginas: 3\n"
     ]
    },
    {
     "name": "stderr",
     "output_type": "stream",
     "text": [
      "100%|██████████| 3/3 [00:04<00:00,  1.43s/it]\n"
     ]
    },
    {
     "name": "stdout",
     "output_type": "stream",
     "text": [
      "Escaneando página 443 de 1012\n",
      "Rastreando: https://www.mediamarkt.es/es/category/_secado-701244.html\n"
     ]
    },
    {
     "name": "stderr",
     "output_type": "stream",
     "text": [
      "100%|██████████| 1/1 [00:00<00:00,  1.09it/s]\n"
     ]
    },
    {
     "name": "stdout",
     "output_type": "stream",
     "text": [
      "Escaneando página 444 de 1012\n",
      "Rastreando: https://www.mediamarkt.es/es/category/_secadoras-bomba-de-calor-702196.html\n",
      "Número de páginas: 3\n"
     ]
    },
    {
     "name": "stderr",
     "output_type": "stream",
     "text": [
      "100%|██████████| 3/3 [00:03<00:00,  1.37s/it]\n"
     ]
    },
    {
     "name": "stdout",
     "output_type": "stream",
     "text": [
      "Escaneando página 445 de 1012\n",
      "Rastreando: https://www.mediamarkt.es/es/category/_secadoras-condensaci%C3%B3n-702197.html\n"
     ]
    },
    {
     "name": "stderr",
     "output_type": "stream",
     "text": [
      "100%|██████████| 1/1 [00:00<00:00,  1.07it/s]\n"
     ]
    },
    {
     "name": "stdout",
     "output_type": "stream",
     "text": [
      "Escaneando página 446 de 1012\n",
      "Rastreando: https://www.mediamarkt.es/es/category/_secadoras-evacuaci%C3%B3n-702198.html\n"
     ]
    },
    {
     "name": "stderr",
     "output_type": "stream",
     "text": [
      "100%|██████████| 1/1 [00:00<00:00,  1.08it/s]\n"
     ]
    },
    {
     "name": "stdout",
     "output_type": "stream",
     "text": [
      "Escaneando página 447 de 1012\n",
      "Rastreando: https://www.mediamarkt.es/es/category/_tendederos-y-accesorios-702199.html\n",
      "Número de páginas: 2\n"
     ]
    },
    {
     "name": "stderr",
     "output_type": "stream",
     "text": [
      "100%|██████████| 2/2 [00:04<00:00,  2.66s/it]\n"
     ]
    },
    {
     "name": "stdout",
     "output_type": "stream",
     "text": [
      "Escaneando página 448 de 1012\n",
      "Rastreando: https://www.mediamarkt.es/es/category/_planchado-701245.html\n"
     ]
    },
    {
     "name": "stderr",
     "output_type": "stream",
     "text": [
      "100%|██████████| 1/1 [00:00<00:00,  1.02it/s]\n"
     ]
    },
    {
     "name": "stdout",
     "output_type": "stream",
     "text": [
      "Escaneando página 449 de 1012\n",
      "Rastreando: https://www.mediamarkt.es/es/category/_centros-de-planchado-702200.html\n",
      "Número de páginas: 4\n"
     ]
    },
    {
     "name": "stderr",
     "output_type": "stream",
     "text": [
      "100%|██████████| 4/4 [00:05<00:00,  1.40s/it]\n"
     ]
    },
    {
     "name": "stdout",
     "output_type": "stream",
     "text": [
      "Escaneando página 450 de 1012\n",
      "Rastreando: https://www.mediamarkt.es/es/category/_planchas-de-vapor-702201.html\n",
      "Número de páginas: 4\n"
     ]
    },
    {
     "name": "stderr",
     "output_type": "stream",
     "text": [
      "100%|██████████| 4/4 [00:06<00:00,  1.74s/it]\n"
     ]
    },
    {
     "name": "stdout",
     "output_type": "stream",
     "text": [
      "Escaneando página 451 de 1012\n",
      "Rastreando: https://www.mediamarkt.es/es/category/_planchado-vertical-702202.html\n"
     ]
    },
    {
     "name": "stderr",
     "output_type": "stream",
     "text": [
      "100%|██████████| 1/1 [00:01<00:00,  1.34s/it]\n"
     ]
    },
    {
     "name": "stdout",
     "output_type": "stream",
     "text": [
      "Escaneando página 452 de 1012\n",
      "Rastreando: https://www.mediamarkt.es/es/category/_tablas-y-accesorios-702203.html\n",
      "Número de páginas: 4\n"
     ]
    },
    {
     "name": "stderr",
     "output_type": "stream",
     "text": [
      "100%|██████████| 4/4 [00:06<00:00,  1.55s/it]\n"
     ]
    },
    {
     "name": "stdout",
     "output_type": "stream",
     "text": [
      "Escaneando página 453 de 1012\n",
      "Rastreando: https://www.mediamarkt.es/es/category/_costura-701246.html\n",
      "Número de páginas: 2\n"
     ]
    },
    {
     "name": "stderr",
     "output_type": "stream",
     "text": [
      "100%|██████████| 2/2 [00:02<00:00,  1.14s/it]\n"
     ]
    },
    {
     "name": "stdout",
     "output_type": "stream",
     "text": [
      "Escaneando página 454 de 1012\n",
      "Rastreando: https://www.mediamarkt.es/es/category/_calefacci%C3%B3n-y-clima-701134.html\n"
     ]
    },
    {
     "name": "stderr",
     "output_type": "stream",
     "text": [
      "100%|██████████| 1/1 [00:00<00:00,  1.02it/s]\n"
     ]
    },
    {
     "name": "stdout",
     "output_type": "stream",
     "text": [
      "Escaneando página 455 de 1012\n",
      "Rastreando: https://www.mediamarkt.es/es/category/_aire-acondicionado-701248.html\n",
      "Número de páginas: 2\n"
     ]
    },
    {
     "name": "stderr",
     "output_type": "stream",
     "text": [
      "100%|██████████| 2/2 [00:01<00:00,  1.01it/s]\n"
     ]
    },
    {
     "name": "stdout",
     "output_type": "stream",
     "text": [
      "Escaneando página 456 de 1012\n",
      "Rastreando: https://www.mediamarkt.es/es/category/_split-1-x-1-702211.html\n"
     ]
    },
    {
     "name": "stderr",
     "output_type": "stream",
     "text": [
      "100%|██████████| 1/1 [00:00<00:00,  1.04it/s]\n"
     ]
    },
    {
     "name": "stdout",
     "output_type": "stream",
     "text": [
      "Escaneando página 457 de 1012\n",
      "Rastreando: https://www.mediamarkt.es/es/category/_split-2-x-1-702212.html\n"
     ]
    },
    {
     "name": "stderr",
     "output_type": "stream",
     "text": [
      "100%|██████████| 1/1 [00:00<00:00,  1.03it/s]\n"
     ]
    },
    {
     "name": "stdout",
     "output_type": "stream",
     "text": [
      "Escaneando página 458 de 1012\n",
      "Rastreando: https://www.mediamarkt.es/es/category/_split-3-x-1-702214.html\n"
     ]
    },
    {
     "name": "stderr",
     "output_type": "stream",
     "text": [
      "100%|██████████| 1/1 [00:00<00:00,  1.08it/s]\n"
     ]
    },
    {
     "name": "stdout",
     "output_type": "stream",
     "text": [
      "Escaneando página 459 de 1012\n",
      "Rastreando: https://www.mediamarkt.es/es/category/_accesorios-aire-acondicionado-702213.html\n"
     ]
    },
    {
     "name": "stderr",
     "output_type": "stream",
     "text": [
      "100%|██████████| 1/1 [00:00<00:00,  1.01it/s]\n"
     ]
    },
    {
     "name": "stdout",
     "output_type": "stream",
     "text": [
      "Escaneando página 460 de 1012\n",
      "Rastreando: https://www.mediamarkt.es/es/category/_aire-acondicionado-port%C3%A1til-701253.html\n"
     ]
    },
    {
     "name": "stderr",
     "output_type": "stream",
     "text": [
      "100%|██████████| 1/1 [00:01<00:00,  1.67s/it]\n"
     ]
    },
    {
     "name": "stdout",
     "output_type": "stream",
     "text": [
      "Escaneando página 461 de 1012\n",
      "Rastreando: https://www.mediamarkt.es/es/category/_hasta-2-000-frigor%C3%ADas-702217.html\n"
     ]
    },
    {
     "name": "stderr",
     "output_type": "stream",
     "text": [
      "100%|██████████| 1/1 [00:01<00:00,  1.16s/it]\n"
     ]
    },
    {
     "name": "stdout",
     "output_type": "stream",
     "text": [
      "Escaneando página 462 de 1012\n",
      "Rastreando: https://www.mediamarkt.es/es/category/_superior-a-2-000-frigor%C3%ADas-702218.html\n"
     ]
    },
    {
     "name": "stderr",
     "output_type": "stream",
     "text": [
      "100%|██████████| 1/1 [00:01<00:00,  1.47s/it]\n"
     ]
    },
    {
     "name": "stdout",
     "output_type": "stream",
     "text": [
      "Escaneando página 463 de 1012\n",
      "Rastreando: https://www.mediamarkt.es/es/category/_ventiladores-701254.html\n",
      "Número de páginas: 10\n"
     ]
    },
    {
     "name": "stderr",
     "output_type": "stream",
     "text": [
      "100%|██████████| 10/10 [00:10<00:00,  1.19s/it]\n"
     ]
    },
    {
     "name": "stdout",
     "output_type": "stream",
     "text": [
      "Escaneando página 464 de 1012\n",
      "Rastreando: https://www.mediamarkt.es/es/category/_ventilador-de-torre-702219.html\n",
      "Número de páginas: 2\n"
     ]
    },
    {
     "name": "stderr",
     "output_type": "stream",
     "text": [
      "100%|██████████| 2/2 [00:02<00:00,  1.24s/it]\n"
     ]
    },
    {
     "name": "stdout",
     "output_type": "stream",
     "text": [
      "Escaneando página 465 de 1012\n",
      "Rastreando: https://www.mediamarkt.es/es/category/_ventilador-de-pie-702220.html\n",
      "Número de páginas: 6\n"
     ]
    },
    {
     "name": "stderr",
     "output_type": "stream",
     "text": [
      "100%|██████████| 6/6 [00:08<00:00,  1.37s/it]\n"
     ]
    },
    {
     "name": "stdout",
     "output_type": "stream",
     "text": [
      "Escaneando página 466 de 1012\n",
      "Rastreando: https://www.mediamarkt.es/es/category/_ventilador-de-sobremesa-702221.html\n",
      "Número de páginas: 2\n"
     ]
    },
    {
     "name": "stderr",
     "output_type": "stream",
     "text": [
      "100%|██████████| 2/2 [00:02<00:00,  1.47s/it]\n"
     ]
    },
    {
     "name": "stdout",
     "output_type": "stream",
     "text": [
      "Escaneando página 467 de 1012\n",
      "Rastreando: https://www.mediamarkt.es/es/category/_ventilador-de-techo-702222.html\n",
      "Número de páginas: 3\n"
     ]
    },
    {
     "name": "stderr",
     "output_type": "stream",
     "text": [
      "100%|██████████| 3/3 [00:03<00:00,  1.23s/it]\n"
     ]
    },
    {
     "name": "stdout",
     "output_type": "stream",
     "text": [
      "Escaneando página 468 de 1012\n",
      "Rastreando: https://www.mediamarkt.es/es/category/_ventilador-de-agua-702224.html\n"
     ]
    },
    {
     "name": "stderr",
     "output_type": "stream",
     "text": [
      "100%|██████████| 1/1 [00:01<00:00,  1.01s/it]\n"
     ]
    },
    {
     "name": "stdout",
     "output_type": "stream",
     "text": [
      "Escaneando página 469 de 1012\n",
      "Rastreando: https://www.mediamarkt.es/es/category/_deshumificadores-hogar-701249.html\n",
      "Número de páginas: 2\n"
     ]
    },
    {
     "name": "stderr",
     "output_type": "stream",
     "text": [
      "100%|██████████| 2/2 [00:02<00:00,  1.48s/it]\n"
     ]
    },
    {
     "name": "stdout",
     "output_type": "stream",
     "text": [
      "Escaneando página 470 de 1012\n",
      "Rastreando: https://www.mediamarkt.es/es/category/_humidificadores-701250.html\n",
      "Número de páginas: 2\n"
     ]
    },
    {
     "name": "stderr",
     "output_type": "stream",
     "text": [
      "100%|██████████| 2/2 [00:03<00:00,  1.93s/it]\n"
     ]
    },
    {
     "name": "stdout",
     "output_type": "stream",
     "text": [
      "Escaneando página 471 de 1012\n",
      "Rastreando: https://www.mediamarkt.es/es/category/_purificadores-y-difusores-701251.html\n"
     ]
    },
    {
     "name": "stderr",
     "output_type": "stream",
     "text": [
      "100%|██████████| 1/1 [00:01<00:00,  1.47s/it]\n"
     ]
    },
    {
     "name": "stdout",
     "output_type": "stream",
     "text": [
      "Escaneando página 472 de 1012\n",
      "Rastreando: https://www.mediamarkt.es/es/category/_termos-y-calentadores-el%C3%A9ctricos-701252.html\n"
     ]
    },
    {
     "name": "stderr",
     "output_type": "stream",
     "text": [
      "100%|██████████| 1/1 [00:00<00:00,  1.09it/s]\n"
     ]
    },
    {
     "name": "stdout",
     "output_type": "stream",
     "text": [
      "Escaneando página 473 de 1012\n",
      "Rastreando: https://www.mediamarkt.es/es/category/_termos-el%C3%A9ctricos-702215.html\n"
     ]
    },
    {
     "name": "stderr",
     "output_type": "stream",
     "text": [
      "100%|██████████| 1/1 [00:01<00:00,  1.01s/it]\n"
     ]
    },
    {
     "name": "stdout",
     "output_type": "stream",
     "text": [
      "Escaneando página 474 de 1012\n",
      "Rastreando: https://www.mediamarkt.es/es/category/_calefacci%C3%B3n-701247.html\n",
      "Número de páginas: 4\n"
     ]
    },
    {
     "name": "stderr",
     "output_type": "stream",
     "text": [
      "100%|██████████| 4/4 [00:06<00:00,  1.57s/it]\n"
     ]
    },
    {
     "name": "stdout",
     "output_type": "stream",
     "text": [
      "Escaneando página 475 de 1012\n",
      "Rastreando: https://www.mediamarkt.es/es/category/_emisores-t%C3%A9rmicos-702204.html\n"
     ]
    },
    {
     "name": "stderr",
     "output_type": "stream",
     "text": [
      "100%|██████████| 1/1 [00:01<00:00,  1.33s/it]\n"
     ]
    },
    {
     "name": "stdout",
     "output_type": "stream",
     "text": [
      "Escaneando página 476 de 1012\n",
      "Rastreando: https://www.mediamarkt.es/es/category/_radiadores-702205.html\n"
     ]
    },
    {
     "name": "stderr",
     "output_type": "stream",
     "text": [
      "100%|██████████| 1/1 [00:01<00:00,  1.37s/it]\n"
     ]
    },
    {
     "name": "stdout",
     "output_type": "stream",
     "text": [
      "Escaneando página 477 de 1012\n",
      "Rastreando: https://www.mediamarkt.es/es/category/_calefactores-702206.html\n"
     ]
    },
    {
     "name": "stderr",
     "output_type": "stream",
     "text": [
      "100%|██████████| 1/1 [00:01<00:00,  1.16s/it]\n"
     ]
    },
    {
     "name": "stdout",
     "output_type": "stream",
     "text": [
      "Escaneando página 478 de 1012\n",
      "Rastreando: https://www.mediamarkt.es/es/category/_convectores-702207.html\n"
     ]
    },
    {
     "name": "stderr",
     "output_type": "stream",
     "text": [
      "100%|██████████| 1/1 [00:00<00:00,  1.17it/s]\n"
     ]
    },
    {
     "name": "stdout",
     "output_type": "stream",
     "text": [
      "Escaneando página 479 de 1012\n",
      "Rastreando: https://www.mediamarkt.es/es/category/_estufas-el%C3%A9ctricas-702208.html\n"
     ]
    },
    {
     "name": "stderr",
     "output_type": "stream",
     "text": [
      "100%|██████████| 1/1 [00:01<00:00,  1.52s/it]\n"
     ]
    },
    {
     "name": "stdout",
     "output_type": "stream",
     "text": [
      "Escaneando página 480 de 1012\n",
      "Rastreando: https://www.mediamarkt.es/es/category/_estufas-de-gas-702209.html\n"
     ]
    },
    {
     "name": "stderr",
     "output_type": "stream",
     "text": [
      "100%|██████████| 1/1 [00:01<00:00,  1.09s/it]\n"
     ]
    },
    {
     "name": "stdout",
     "output_type": "stream",
     "text": [
      "Escaneando página 481 de 1012\n",
      "Rastreando: https://www.mediamarkt.es/es/category/_especial-ba%C3%B1o-702210.html\n"
     ]
    },
    {
     "name": "stderr",
     "output_type": "stream",
     "text": [
      "100%|██████████| 1/1 [00:00<00:00,  1.03it/s]\n"
     ]
    },
    {
     "name": "stdout",
     "output_type": "stream",
     "text": [
      "Escaneando página 482 de 1012\n",
      "Rastreando: https://www.mediamarkt.es/es/category/_climatizadores-701255.html\n"
     ]
    },
    {
     "name": "stderr",
     "output_type": "stream",
     "text": [
      "100%|██████████| 1/1 [00:01<00:00,  1.08s/it]\n"
     ]
    },
    {
     "name": "stdout",
     "output_type": "stream",
     "text": [
      "Escaneando página 483 de 1012\n",
      "Rastreando: https://www.mediamarkt.es/es/category/_jard%C3%ADn-y-mascotas-701135.html\n"
     ]
    },
    {
     "name": "stderr",
     "output_type": "stream",
     "text": [
      "100%|██████████| 1/1 [00:00<00:00,  1.00it/s]\n"
     ]
    },
    {
     "name": "stdout",
     "output_type": "stream",
     "text": [
      "Escaneando página 484 de 1012\n",
      "Rastreando: https://www.mediamarkt.es/es/category/_barbacoas-y-grill-701256.html\n",
      "Número de páginas: 3\n"
     ]
    },
    {
     "name": "stderr",
     "output_type": "stream",
     "text": [
      "100%|██████████| 3/3 [00:04<00:00,  1.30s/it]\n"
     ]
    },
    {
     "name": "stdout",
     "output_type": "stream",
     "text": [
      "Escaneando página 485 de 1012\n",
      "Rastreando: https://www.mediamarkt.es/es/category/_barbacoas-el%C3%A9ctricas-702225.html\n"
     ]
    },
    {
     "name": "stderr",
     "output_type": "stream",
     "text": [
      "100%|██████████| 1/1 [00:01<00:00,  1.00s/it]\n"
     ]
    },
    {
     "name": "stdout",
     "output_type": "stream",
     "text": [
      "Escaneando página 486 de 1012\n",
      "Rastreando: https://www.mediamarkt.es/es/category/_barbacoas-a-gas-702226.html\n"
     ]
    },
    {
     "name": "stderr",
     "output_type": "stream",
     "text": [
      "100%|██████████| 1/1 [00:01<00:00,  1.35s/it]\n"
     ]
    },
    {
     "name": "stdout",
     "output_type": "stream",
     "text": [
      "Escaneando página 487 de 1012\n",
      "Rastreando: https://www.mediamarkt.es/es/category/_barbacoas-de-carb%C3%B3n-702227.html\n"
     ]
    },
    {
     "name": "stderr",
     "output_type": "stream",
     "text": [
      "100%|██████████| 1/1 [00:00<00:00,  1.03it/s]\n"
     ]
    },
    {
     "name": "stdout",
     "output_type": "stream",
     "text": [
      "Escaneando página 488 de 1012\n",
      "Rastreando: https://www.mediamarkt.es/es/category/_accesorios-y-utensilios-702228.html\n",
      "Número de páginas: 2\n"
     ]
    },
    {
     "name": "stderr",
     "output_type": "stream",
     "text": [
      "100%|██████████| 2/2 [00:03<00:00,  1.73s/it]\n"
     ]
    },
    {
     "name": "stdout",
     "output_type": "stream",
     "text": [
      "Escaneando página 489 de 1012\n",
      "Rastreando: https://www.mediamarkt.es/es/category/_limpieza-exterior-701258.html\n",
      "Número de páginas: 3\n"
     ]
    },
    {
     "name": "stderr",
     "output_type": "stream",
     "text": [
      "100%|██████████| 3/3 [00:04<00:00,  1.33s/it]\n"
     ]
    },
    {
     "name": "stdout",
     "output_type": "stream",
     "text": [
      "Escaneando página 490 de 1012\n",
      "Rastreando: https://www.mediamarkt.es/es/category/_limpieza-de-cristales-702232.html\n"
     ]
    },
    {
     "name": "stderr",
     "output_type": "stream",
     "text": [
      "100%|██████████| 1/1 [00:01<00:00,  1.20s/it]\n"
     ]
    },
    {
     "name": "stdout",
     "output_type": "stream",
     "text": [
      "Escaneando página 491 de 1012\n",
      "Rastreando: https://www.mediamarkt.es/es/category/_limpieza-de-suelos-702233.html\n"
     ]
    },
    {
     "name": "stderr",
     "output_type": "stream",
     "text": [
      "100%|██████████| 1/1 [00:01<00:00,  1.70s/it]\n"
     ]
    },
    {
     "name": "stdout",
     "output_type": "stream",
     "text": [
      "Escaneando página 492 de 1012\n",
      "Rastreando: https://www.mediamarkt.es/es/category/_hidrolimpiadoras-702234.html\n"
     ]
    },
    {
     "name": "stderr",
     "output_type": "stream",
     "text": [
      "100%|██████████| 1/1 [00:01<00:00,  1.52s/it]\n"
     ]
    },
    {
     "name": "stdout",
     "output_type": "stream",
     "text": [
      "Escaneando página 493 de 1012\n",
      "Rastreando: https://www.mediamarkt.es/es/category/_limpieza-a-vapor-702235.html\n"
     ]
    },
    {
     "name": "stderr",
     "output_type": "stream",
     "text": [
      "100%|██████████| 1/1 [00:01<00:00,  1.42s/it]\n"
     ]
    },
    {
     "name": "stdout",
     "output_type": "stream",
     "text": [
      "Escaneando página 494 de 1012\n",
      "Rastreando: https://www.mediamarkt.es/es/category/_climatizaci%C3%B3n-y-refrigeraci%C3%B3n-701257.html\n",
      "Other error occurred: HTTPSConnectionPool(host='www.mediamarkt.es', port=443): Max retries exceeded with url: /es/category/_climatizaci%C3%B3n-y-refrigeraci%C3%B3n-701257.html (Caused by SSLError(SSLError(\"bad handshake: SysCallError(10054, 'WSAECONNRESET')\")))\n",
      "Escaneando página 495 de 1012\n",
      "Rastreando: https://www.mediamarkt.es/es/category/_neveras-port%C3%A1tiles-702229.html\n"
     ]
    },
    {
     "name": "stderr",
     "output_type": "stream",
     "text": [
      "100%|██████████| 1/1 [00:00<00:00,  1.13it/s]\n"
     ]
    },
    {
     "name": "stdout",
     "output_type": "stream",
     "text": [
      "Escaneando página 496 de 1012\n",
      "Rastreando: https://www.mediamarkt.es/es/category/_ventiladores-702230.html\n"
     ]
    },
    {
     "name": "stderr",
     "output_type": "stream",
     "text": [
      "100%|██████████| 1/1 [00:01<00:00,  1.02s/it]\n"
     ]
    },
    {
     "name": "stdout",
     "output_type": "stream",
     "text": [
      "Escaneando página 497 de 1012\n",
      "Rastreando: https://www.mediamarkt.es/es/category/_estaciones-meteorol%C3%B3gicas-702231.html\n"
     ]
    },
    {
     "name": "stderr",
     "output_type": "stream",
     "text": [
      "100%|██████████| 1/1 [00:01<00:00,  1.64s/it]\n"
     ]
    },
    {
     "name": "stdout",
     "output_type": "stream",
     "text": [
      "Escaneando página 498 de 1012\n",
      "Rastreando: https://www.mediamarkt.es/es/category/_mascotas-y-accesorios-701260.html\n"
     ]
    },
    {
     "name": "stderr",
     "output_type": "stream",
     "text": [
      "100%|██████████| 1/1 [00:01<00:00,  1.77s/it]\n"
     ]
    },
    {
     "name": "stdout",
     "output_type": "stream",
     "text": [
      "Escaneando página 499 de 1012\n",
      "Rastreando: https://www.mediamarkt.es/es/category/_antimosquitos-701259.html\n"
     ]
    },
    {
     "name": "stderr",
     "output_type": "stream",
     "text": [
      "100%|██████████| 1/1 [00:00<00:00,  1.15it/s]\n"
     ]
    },
    {
     "name": "stdout",
     "output_type": "stream",
     "text": [
      "Escaneando página 500 de 1012\n",
      "Rastreando: https://www.mediamarkt.es/es/category/_iluminaci%C3%B3n-exterior-701261.html\n",
      "Número de páginas: 2\n"
     ]
    },
    {
     "name": "stderr",
     "output_type": "stream",
     "text": [
      "100%|██████████| 2/2 [00:02<00:00,  1.43s/it]\n"
     ]
    },
    {
     "name": "stdout",
     "output_type": "stream",
     "text": [
      "Escaneando página 501 de 1012\n",
      "Rastreando: https://www.mediamarkt.es/es/category/_bombillas-702236.html\n"
     ]
    },
    {
     "name": "stderr",
     "output_type": "stream",
     "text": [
      "100%|██████████| 1/1 [00:01<00:00,  1.05s/it]\n"
     ]
    },
    {
     "name": "stdout",
     "output_type": "stream",
     "text": [
      "Escaneando página 502 de 1012\n",
      "Rastreando: https://www.mediamarkt.es/es/category/_luz-exterior-702237.html\n"
     ]
    },
    {
     "name": "stderr",
     "output_type": "stream",
     "text": [
      "100%|██████████| 1/1 [00:01<00:00,  1.07s/it]\n"
     ]
    },
    {
     "name": "stdout",
     "output_type": "stream",
     "text": [
      "Escaneando página 503 de 1012\n",
      "Rastreando: https://www.mediamarkt.es/es/category/_luz-de-lectura-702238.html\n"
     ]
    },
    {
     "name": "stderr",
     "output_type": "stream",
     "text": [
      "100%|██████████| 1/1 [00:00<00:00,  1.06it/s]\n"
     ]
    },
    {
     "name": "stdout",
     "output_type": "stream",
     "text": [
      "Escaneando página 504 de 1012\n",
      "Rastreando: https://www.mediamarkt.es/es/category/_infantil-702239.html\n"
     ]
    },
    {
     "name": "stderr",
     "output_type": "stream",
     "text": [
      "100%|██████████| 1/1 [00:01<00:00,  1.07s/it]\n"
     ]
    },
    {
     "name": "stdout",
     "output_type": "stream",
     "text": [
      "Escaneando página 505 de 1012\n",
      "Rastreando: https://www.mediamarkt.es/es/category/_linternas-702240.html\n"
     ]
    },
    {
     "name": "stderr",
     "output_type": "stream",
     "text": [
      "100%|██████████| 1/1 [00:00<00:00,  1.01it/s]\n"
     ]
    },
    {
     "name": "stdout",
     "output_type": "stream",
     "text": [
      "Escaneando página 506 de 1012\n",
      "Rastreando: https://www.mediamarkt.es/es/category/_aspiraci%C3%B3n-y-limpieza-701136.html\n"
     ]
    },
    {
     "name": "stderr",
     "output_type": "stream",
     "text": [
      "100%|██████████| 1/1 [00:00<00:00,  1.04it/s]\n"
     ]
    },
    {
     "name": "stdout",
     "output_type": "stream",
     "text": [
      "Escaneando página 507 de 1012\n",
      "Rastreando: https://www.mediamarkt.es/es/category/_robots-aspiradores-701263.html\n",
      "Número de páginas: 3\n"
     ]
    },
    {
     "name": "stderr",
     "output_type": "stream",
     "text": [
      "100%|██████████| 3/3 [00:02<00:00,  1.04it/s]\n"
     ]
    },
    {
     "name": "stdout",
     "output_type": "stream",
     "text": [
      "Escaneando página 508 de 1012\n",
      "Rastreando: https://www.mediamarkt.es/es/category/_aspiradores-sin-bolsa-701264.html\n",
      "Número de páginas: 3\n"
     ]
    },
    {
     "name": "stderr",
     "output_type": "stream",
     "text": [
      "100%|██████████| 3/3 [00:03<00:00,  1.10s/it]\n"
     ]
    },
    {
     "name": "stdout",
     "output_type": "stream",
     "text": [
      "Escaneando página 509 de 1012\n",
      "Rastreando: https://www.mediamarkt.es/es/category/_aspiradores-con-bolsa-701265.html\n",
      "Número de páginas: 3\n"
     ]
    },
    {
     "name": "stderr",
     "output_type": "stream",
     "text": [
      "100%|██████████| 3/3 [00:03<00:00,  1.37s/it]\n"
     ]
    },
    {
     "name": "stdout",
     "output_type": "stream",
     "text": [
      "Escaneando página 510 de 1012\n",
      "Rastreando: https://www.mediamarkt.es/es/category/_aspiradores-escoba-701266.html\n",
      "Número de páginas: 4\n"
     ]
    },
    {
     "name": "stderr",
     "output_type": "stream",
     "text": [
      "100%|██████████| 4/4 [00:04<00:00,  1.01it/s]\n"
     ]
    },
    {
     "name": "stdout",
     "output_type": "stream",
     "text": [
      "Escaneando página 511 de 1012\n",
      "Rastreando: https://www.mediamarkt.es/es/category/_aspiradores-de-mano-701267.html\n",
      "Número de páginas: 2\n"
     ]
    },
    {
     "name": "stderr",
     "output_type": "stream",
     "text": [
      "100%|██████████| 2/2 [00:03<00:00,  1.71s/it]\n"
     ]
    },
    {
     "name": "stdout",
     "output_type": "stream",
     "text": [
      "Escaneando página 512 de 1012\n",
      "Rastreando: https://www.mediamarkt.es/es/category/_bolsas-de-aspirador-701268.html\n",
      "Número de páginas: 2\n"
     ]
    },
    {
     "name": "stderr",
     "output_type": "stream",
     "text": [
      "100%|██████████| 2/2 [00:03<00:00,  1.65s/it]\n"
     ]
    },
    {
     "name": "stdout",
     "output_type": "stream",
     "text": [
      "Escaneando página 513 de 1012\n",
      "Rastreando: https://www.mediamarkt.es/es/category/_accesorios-aspiraci%C3%B3n-y-limpieza-701269.html\n",
      "Número de páginas: 8\n"
     ]
    },
    {
     "name": "stderr",
     "output_type": "stream",
     "text": [
      "100%|██████████| 8/8 [00:16<00:00,  2.02s/it]\n"
     ]
    },
    {
     "name": "stdout",
     "output_type": "stream",
     "text": [
      "Escaneando página 514 de 1012\n",
      "Rastreando: https://www.mediamarkt.es/es/category/_equipos-de-vapor-701270.html\n",
      "Número de páginas: 2\n"
     ]
    },
    {
     "name": "stderr",
     "output_type": "stream",
     "text": [
      "100%|██████████| 2/2 [00:03<00:00,  1.50s/it]\n"
     ]
    },
    {
     "name": "stdout",
     "output_type": "stream",
     "text": [
      "Escaneando página 515 de 1012\n",
      "Rastreando: https://www.mediamarkt.es/es/category/_limpieza-vapor-port%C3%A1til-701271.html\n"
     ]
    },
    {
     "name": "stderr",
     "output_type": "stream",
     "text": [
      "100%|██████████| 1/1 [00:01<00:00,  1.25s/it]\n"
     ]
    },
    {
     "name": "stdout",
     "output_type": "stream",
     "text": [
      "Escaneando página 516 de 1012\n",
      "Rastreando: https://www.mediamarkt.es/es/category/_limpieza-especial-ventanas-701272.html\n"
     ]
    },
    {
     "name": "stderr",
     "output_type": "stream",
     "text": [
      "100%|██████████| 1/1 [00:01<00:00,  1.55s/it]\n"
     ]
    },
    {
     "name": "stdout",
     "output_type": "stream",
     "text": [
      "Escaneando página 517 de 1012\n",
      "Rastreando: https://www.mediamarkt.es/es/category/_limpieza-vapor-de-suelos-701273.html\n"
     ]
    },
    {
     "name": "stderr",
     "output_type": "stream",
     "text": [
      "100%|██████████| 1/1 [00:01<00:00,  1.26s/it]\n"
     ]
    },
    {
     "name": "stdout",
     "output_type": "stream",
     "text": [
      "Escaneando página 518 de 1012\n",
      "Rastreando: https://www.mediamarkt.es/es/category/_hidrolimpiadoras-701274.html\n",
      "Número de páginas: 2\n"
     ]
    },
    {
     "name": "stderr",
     "output_type": "stream",
     "text": [
      "100%|██████████| 2/2 [00:03<00:00,  1.66s/it]\n"
     ]
    },
    {
     "name": "stdout",
     "output_type": "stream",
     "text": [
      "Escaneando página 519 de 1012\n",
      "Rastreando: https://www.mediamarkt.es/es/category/_limpiadoras-alta-presi%C3%B3n-702241.html\n"
     ]
    },
    {
     "name": "stderr",
     "output_type": "stream",
     "text": [
      "100%|██████████| 1/1 [00:01<00:00,  1.16s/it]\n"
     ]
    },
    {
     "name": "stdout",
     "output_type": "stream",
     "text": [
      "Escaneando página 520 de 1012\n",
      "Rastreando: https://www.mediamarkt.es/es/category/_accesorios-y-detergentes-702242.html\n"
     ]
    },
    {
     "name": "stderr",
     "output_type": "stream",
     "text": [
      "100%|██████████| 1/1 [00:01<00:00,  1.38s/it]\n"
     ]
    },
    {
     "name": "stdout",
     "output_type": "stream",
     "text": [
      "Escaneando página 521 de 1012\n",
      "Rastreando: https://www.mediamarkt.es/es/category/_smart-home-701137.html\n"
     ]
    },
    {
     "name": "stderr",
     "output_type": "stream",
     "text": [
      "100%|██████████| 1/1 [00:01<00:00,  1.03s/it]\n"
     ]
    },
    {
     "name": "stdout",
     "output_type": "stream",
     "text": [
      "Escaneando página 522 de 1012\n",
      "Rastreando: https://www.mediamarkt.es/es/category/_asistentes-digitales-716008.html\n",
      "Número de páginas: 2\n"
     ]
    },
    {
     "name": "stderr",
     "output_type": "stream",
     "text": [
      "100%|██████████| 2/2 [00:02<00:00,  1.43s/it]\n"
     ]
    },
    {
     "name": "stdout",
     "output_type": "stream",
     "text": [
      "Escaneando página 523 de 1012\n",
      "Rastreando: https://www.mediamarkt.es/es/category/_seguridad-y-vigilancia-701275.html\n",
      "Número de páginas: 4\n"
     ]
    },
    {
     "name": "stderr",
     "output_type": "stream",
     "text": [
      "100%|██████████| 4/4 [00:05<00:00,  1.34s/it]\n"
     ]
    },
    {
     "name": "stdout",
     "output_type": "stream",
     "text": [
      "Escaneando página 524 de 1012\n",
      "Rastreando: https://www.mediamarkt.es/es/category/_c%C3%A1maras-wifi-ip-702243.html\n",
      "Número de páginas: 3\n"
     ]
    },
    {
     "name": "stderr",
     "output_type": "stream",
     "text": [
      "100%|██████████| 3/3 [00:03<00:00,  1.19s/it]\n"
     ]
    },
    {
     "name": "stdout",
     "output_type": "stream",
     "text": [
      "Escaneando página 525 de 1012\n",
      "Rastreando: https://www.mediamarkt.es/es/category/_c%C3%A1maras-ficticias-702244.html\n"
     ]
    },
    {
     "name": "stderr",
     "output_type": "stream",
     "text": [
      "100%|██████████| 1/1 [00:00<00:00,  1.01it/s]\n"
     ]
    },
    {
     "name": "stdout",
     "output_type": "stream",
     "text": [
      "Escaneando página 526 de 1012\n",
      "Rastreando: https://www.mediamarkt.es/es/category/_c%C3%A1maras-para-beb%C3%A9s-702245.html\n"
     ]
    },
    {
     "name": "stderr",
     "output_type": "stream",
     "text": [
      "100%|██████████| 1/1 [00:01<00:00,  1.12s/it]\n"
     ]
    },
    {
     "name": "stdout",
     "output_type": "stream",
     "text": [
      "Escaneando página 527 de 1012\n",
      "Rastreando: https://www.mediamarkt.es/es/category/_alarmas-y-timbres-701276.html\n"
     ]
    },
    {
     "name": "stderr",
     "output_type": "stream",
     "text": [
      "100%|██████████| 1/1 [00:01<00:00,  1.27s/it]\n"
     ]
    },
    {
     "name": "stdout",
     "output_type": "stream",
     "text": [
      "Escaneando página 528 de 1012\n",
      "Rastreando: https://www.mediamarkt.es/es/category/_alarmas-702246.html\n"
     ]
    },
    {
     "name": "stderr",
     "output_type": "stream",
     "text": [
      "100%|██████████| 1/1 [00:01<00:00,  1.13s/it]\n"
     ]
    },
    {
     "name": "stdout",
     "output_type": "stream",
     "text": [
      "Escaneando página 529 de 1012\n",
      "Rastreando: https://www.mediamarkt.es/es/category/_sistemas-de-seguridad-702247.html\n"
     ]
    },
    {
     "name": "stderr",
     "output_type": "stream",
     "text": [
      "100%|██████████| 1/1 [00:00<00:00,  1.03it/s]\n"
     ]
    },
    {
     "name": "stdout",
     "output_type": "stream",
     "text": [
      "Escaneando página 530 de 1012\n",
      "Rastreando: https://www.mediamarkt.es/es/category/_sirenas-702248.html\n"
     ]
    },
    {
     "name": "stderr",
     "output_type": "stream",
     "text": [
      "100%|██████████| 1/1 [00:01<00:00,  1.04s/it]\n"
     ]
    },
    {
     "name": "stdout",
     "output_type": "stream",
     "text": [
      "Escaneando página 531 de 1012\n",
      "Rastreando: https://www.mediamarkt.es/es/category/_climatizaci%C3%B3n-701277.html\n"
     ]
    },
    {
     "name": "stderr",
     "output_type": "stream",
     "text": [
      "100%|██████████| 1/1 [00:00<00:00,  1.05it/s]\n"
     ]
    },
    {
     "name": "stdout",
     "output_type": "stream",
     "text": [
      "Escaneando página 532 de 1012\n",
      "Rastreando: https://www.mediamarkt.es/es/category/_estaciones-meteorol%C3%B3gica-702249.html\n"
     ]
    },
    {
     "name": "stderr",
     "output_type": "stream",
     "text": [
      "100%|██████████| 1/1 [00:00<00:00,  1.05it/s]\n"
     ]
    },
    {
     "name": "stdout",
     "output_type": "stream",
     "text": [
      "Escaneando página 533 de 1012\n",
      "Rastreando: https://www.mediamarkt.es/es/category/_termostatos-702250.html\n"
     ]
    },
    {
     "name": "stderr",
     "output_type": "stream",
     "text": [
      "100%|██████████| 1/1 [00:01<00:00,  1.07s/it]\n"
     ]
    },
    {
     "name": "stdout",
     "output_type": "stream",
     "text": [
      "Escaneando página 534 de 1012\n",
      "Rastreando: https://www.mediamarkt.es/es/category/_ilum-y-ahorro-energ%C3%A9tico-701278.html\n",
      "Número de páginas: 6\n"
     ]
    },
    {
     "name": "stderr",
     "output_type": "stream",
     "text": [
      "100%|██████████| 6/6 [00:08<00:00,  1.31s/it]\n"
     ]
    },
    {
     "name": "stdout",
     "output_type": "stream",
     "text": [
      "Escaneando página 535 de 1012\n",
      "Rastreando: https://www.mediamarkt.es/es/category/_l%C3%A1mparas-y-bombillas-702251.html\n",
      "Número de páginas: 4\n"
     ]
    },
    {
     "name": "stderr",
     "output_type": "stream",
     "text": [
      "100%|██████████| 4/4 [00:06<00:00,  1.70s/it]\n"
     ]
    },
    {
     "name": "stdout",
     "output_type": "stream",
     "text": [
      "Escaneando página 536 de 1012\n",
      "Rastreando: https://www.mediamarkt.es/es/category/_interruptores-y-enchufes-702252.html\n"
     ]
    },
    {
     "name": "stderr",
     "output_type": "stream",
     "text": [
      "100%|██████████| 1/1 [00:01<00:00,  1.30s/it]\n"
     ]
    },
    {
     "name": "stdout",
     "output_type": "stream",
     "text": [
      "Escaneando página 537 de 1012\n",
      "Rastreando: https://www.mediamarkt.es/es/category/_temporizadores-702253.html\n"
     ]
    },
    {
     "name": "stderr",
     "output_type": "stream",
     "text": [
      "100%|██████████| 1/1 [00:01<00:00,  1.23s/it]\n"
     ]
    },
    {
     "name": "stdout",
     "output_type": "stream",
     "text": [
      "Escaneando página 538 de 1012\n",
      "Rastreando: https://www.mediamarkt.es/es/category/_detectores-y-sensores-701279.html\n",
      "Número de páginas: 4\n"
     ]
    },
    {
     "name": "stderr",
     "output_type": "stream",
     "text": [
      "100%|██████████| 4/4 [00:04<00:00,  1.13s/it]\n"
     ]
    },
    {
     "name": "stdout",
     "output_type": "stream",
     "text": [
      "Escaneando página 539 de 1012\n",
      "Rastreando: https://www.mediamarkt.es/es/category/_detectores-de-humo-702254.html\n"
     ]
    },
    {
     "name": "stderr",
     "output_type": "stream",
     "text": [
      "100%|██████████| 1/1 [00:01<00:00,  1.04s/it]\n"
     ]
    },
    {
     "name": "stdout",
     "output_type": "stream",
     "text": [
      "Escaneando página 540 de 1012\n",
      "Rastreando: https://www.mediamarkt.es/es/category/_detectores-de-agua-702255.html\n"
     ]
    },
    {
     "name": "stderr",
     "output_type": "stream",
     "text": [
      "100%|██████████| 1/1 [00:00<00:00,  1.06it/s]\n"
     ]
    },
    {
     "name": "stdout",
     "output_type": "stream",
     "text": [
      "Escaneando página 541 de 1012\n",
      "Rastreando: https://www.mediamarkt.es/es/category/_sensores-de-movimiento-702256.html\n"
     ]
    },
    {
     "name": "stderr",
     "output_type": "stream",
     "text": [
      "100%|██████████| 1/1 [00:00<00:00,  1.09it/s]\n"
     ]
    },
    {
     "name": "stdout",
     "output_type": "stream",
     "text": [
      "Escaneando página 542 de 1012\n",
      "Rastreando: https://www.mediamarkt.es/es/category/_sensores-para-puertas-ventanas-702257.html\n"
     ]
    },
    {
     "name": "stderr",
     "output_type": "stream",
     "text": [
      "100%|██████████| 1/1 [00:01<00:00,  1.29s/it]\n"
     ]
    },
    {
     "name": "stdout",
     "output_type": "stream",
     "text": [
      "Escaneando página 543 de 1012\n",
      "Rastreando: https://www.mediamarkt.es/es/category/_kits-y-accesorios-701280.html\n",
      "Número de páginas: 3\n"
     ]
    },
    {
     "name": "stderr",
     "output_type": "stream",
     "text": [
      "100%|██████████| 3/3 [00:04<00:00,  1.36s/it]\n"
     ]
    },
    {
     "name": "stdout",
     "output_type": "stream",
     "text": [
      "Escaneando página 544 de 1012\n",
      "Rastreando: https://www.mediamarkt.es/es/category/_kits-de-seguridad-702259.html\n"
     ]
    },
    {
     "name": "stderr",
     "output_type": "stream",
     "text": [
      "100%|██████████| 1/1 [00:01<00:00,  1.04s/it]\n"
     ]
    },
    {
     "name": "stdout",
     "output_type": "stream",
     "text": [
      "Escaneando página 545 de 1012\n",
      "Rastreando: https://www.mediamarkt.es/es/category/_mandos-smart-home-702260.html\n"
     ]
    },
    {
     "name": "stderr",
     "output_type": "stream",
     "text": [
      "100%|██████████| 1/1 [00:01<00:00,  1.50s/it]\n"
     ]
    },
    {
     "name": "stdout",
     "output_type": "stream",
     "text": [
      "Escaneando página 546 de 1012\n",
      "Rastreando: https://www.mediamarkt.es/es/category/_hubs-702261.html\n"
     ]
    },
    {
     "name": "stderr",
     "output_type": "stream",
     "text": [
      "100%|██████████| 1/1 [00:01<00:00,  1.25s/it]\n"
     ]
    },
    {
     "name": "stdout",
     "output_type": "stream",
     "text": [
      "Escaneando página 547 de 1012\n",
      "Rastreando: https://www.mediamarkt.es/es/category/_entretenimiento-y-deporte-701118.html\n"
     ]
    },
    {
     "name": "stderr",
     "output_type": "stream",
     "text": [
      "100%|██████████| 1/1 [00:00<00:00,  1.03it/s]\n"
     ]
    },
    {
     "name": "stdout",
     "output_type": "stream",
     "text": [
      "Escaneando página 548 de 1012\n",
      "Rastreando: https://www.mediamarkt.es/es/category/_consolas-y-videojuegos-701147.html\n"
     ]
    },
    {
     "name": "stderr",
     "output_type": "stream",
     "text": [
      "100%|██████████| 1/1 [00:02<00:00,  2.12s/it]\n"
     ]
    },
    {
     "name": "stdout",
     "output_type": "stream",
     "text": [
      "Escaneando página 549 de 1012\n",
      "Rastreando: https://www.mediamarkt.es/es/category/_pr%C3%B3ximos-lanzamientos-juegos-701338.html\n",
      "Número de páginas: 3\n"
     ]
    },
    {
     "name": "stderr",
     "output_type": "stream",
     "text": [
      "100%|██████████| 3/3 [00:04<00:00,  1.32s/it]\n"
     ]
    },
    {
     "name": "stdout",
     "output_type": "stream",
     "text": [
      "Escaneando página 550 de 1012\n",
      "Rastreando: https://www.mediamarkt.es/es/category/_pr%C3%B3ximos-lanzamientos-ps4-702283.html\n"
     ]
    },
    {
     "name": "stderr",
     "output_type": "stream",
     "text": [
      "100%|██████████| 1/1 [00:01<00:00,  1.36s/it]\n"
     ]
    },
    {
     "name": "stdout",
     "output_type": "stream",
     "text": [
      "Escaneando página 551 de 1012\n",
      "Rastreando: https://www.mediamarkt.es/es/category/_pr%C3%B3ximos-lanzamientos-nintendo-switch-702284.html\n"
     ]
    },
    {
     "name": "stderr",
     "output_type": "stream",
     "text": [
      "100%|██████████| 1/1 [00:01<00:00,  1.41s/it]\n"
     ]
    },
    {
     "name": "stdout",
     "output_type": "stream",
     "text": [
      "Escaneando página 552 de 1012\n",
      "Rastreando: https://www.mediamarkt.es/es/category/_pr%C3%B3ximos-lanzamientos-xbox-one-702285.html\n"
     ]
    },
    {
     "name": "stderr",
     "output_type": "stream",
     "text": [
      "100%|██████████| 1/1 [00:01<00:00,  1.55s/it]\n"
     ]
    },
    {
     "name": "stdout",
     "output_type": "stream",
     "text": [
      "Escaneando página 553 de 1012\n",
      "Rastreando: https://www.mediamarkt.es/es/category/_pr%C3%B3ximos-lanzamientos-pc-702286.html\n"
     ]
    },
    {
     "name": "stderr",
     "output_type": "stream",
     "text": [
      "100%|██████████| 1/1 [00:00<00:00,  1.11it/s]\n"
     ]
    },
    {
     "name": "stdout",
     "output_type": "stream",
     "text": [
      "Escaneando página 554 de 1012\n",
      "Rastreando: https://www.mediamarkt.es/es/category/_pr%C3%B3ximos-lanzamientos-3ds-2ds-702287.html\n"
     ]
    },
    {
     "name": "stderr",
     "output_type": "stream",
     "text": [
      "100%|██████████| 1/1 [00:00<00:00,  1.04it/s]\n"
     ]
    },
    {
     "name": "stdout",
     "output_type": "stream",
     "text": [
      "Escaneando página 555 de 1012\n",
      "Rastreando: https://www.mediamarkt.es/es/category/_consolas-701339.html\n"
     ]
    },
    {
     "name": "stderr",
     "output_type": "stream",
     "text": [
      "100%|██████████| 1/1 [00:01<00:00,  1.28s/it]\n"
     ]
    },
    {
     "name": "stdout",
     "output_type": "stream",
     "text": [
      "Escaneando página 556 de 1012\n",
      "Rastreando: https://www.mediamarkt.es/es/category/_consolas-ps4-702291.html\n"
     ]
    },
    {
     "name": "stderr",
     "output_type": "stream",
     "text": [
      "100%|██████████| 1/1 [00:00<00:00,  1.16it/s]\n"
     ]
    },
    {
     "name": "stdout",
     "output_type": "stream",
     "text": [
      "Escaneando página 557 de 1012\n",
      "Rastreando: https://www.mediamarkt.es/es/category/_consolas-xbox-one-702292.html\n"
     ]
    },
    {
     "name": "stderr",
     "output_type": "stream",
     "text": [
      "100%|██████████| 1/1 [00:00<00:00,  1.06it/s]\n"
     ]
    },
    {
     "name": "stdout",
     "output_type": "stream",
     "text": [
      "Escaneando página 558 de 1012\n",
      "Rastreando: https://www.mediamarkt.es/es/category/_consolas-nintendo-switch-702293.html\n"
     ]
    },
    {
     "name": "stderr",
     "output_type": "stream",
     "text": [
      "100%|██████████| 1/1 [00:00<00:00,  1.19it/s]\n"
     ]
    },
    {
     "name": "stdout",
     "output_type": "stream",
     "text": [
      "Escaneando página 559 de 1012\n",
      "Rastreando: https://www.mediamarkt.es/es/category/_consolas-nintendo-2ds-702295.html\n"
     ]
    },
    {
     "name": "stderr",
     "output_type": "stream",
     "text": [
      "100%|██████████| 1/1 [00:00<00:00,  1.00it/s]\n"
     ]
    },
    {
     "name": "stdout",
     "output_type": "stream",
     "text": [
      "Escaneando página 560 de 1012\n",
      "Rastreando: https://www.mediamarkt.es/es/category/_otras-consolas-702296.html\n"
     ]
    },
    {
     "name": "stderr",
     "output_type": "stream",
     "text": [
      "100%|██████████| 1/1 [00:01<00:00,  1.16s/it]\n"
     ]
    },
    {
     "name": "stdout",
     "output_type": "stream",
     "text": [
      "Escaneando página 561 de 1012\n",
      "Rastreando: https://www.mediamarkt.es/es/category/_universo-retro-701341.html\n",
      "Número de páginas: 2\n"
     ]
    },
    {
     "name": "stderr",
     "output_type": "stream",
     "text": [
      "100%|██████████| 2/2 [00:02<00:00,  1.45s/it]\n"
     ]
    },
    {
     "name": "stdout",
     "output_type": "stream",
     "text": [
      "Escaneando página 562 de 1012\n",
      "Rastreando: https://www.mediamarkt.es/es/category/_realidad-virtual-720237.html\n"
     ]
    },
    {
     "name": "stderr",
     "output_type": "stream",
     "text": [
      "100%|██████████| 1/1 [00:00<00:00,  1.01it/s]\n"
     ]
    },
    {
     "name": "stdout",
     "output_type": "stream",
     "text": [
      "Escaneando página 563 de 1012\n",
      "Rastreando: https://www.mediamarkt.es/es/category/_juegos-701342.html\n"
     ]
    },
    {
     "name": "stderr",
     "output_type": "stream",
     "text": [
      "100%|██████████| 1/1 [00:00<00:00,  1.20it/s]\n"
     ]
    },
    {
     "name": "stdout",
     "output_type": "stream",
     "text": [
      "Escaneando página 564 de 1012\n",
      "Rastreando: https://www.mediamarkt.es/es/category/_juegos-ps4-702297.html\n",
      "Número de páginas: 17\n"
     ]
    },
    {
     "name": "stderr",
     "output_type": "stream",
     "text": [
      "100%|██████████| 17/17 [00:17<00:00,  1.00it/s]\n"
     ]
    },
    {
     "name": "stdout",
     "output_type": "stream",
     "text": [
      "Escaneando página 565 de 1012\n",
      "Rastreando: https://www.mediamarkt.es/es/category/_juegos-ps3-702298.html\n"
     ]
    },
    {
     "name": "stderr",
     "output_type": "stream",
     "text": [
      "100%|██████████| 1/1 [00:00<00:00,  1.09it/s]\n"
     ]
    },
    {
     "name": "stdout",
     "output_type": "stream",
     "text": [
      "Escaneando página 566 de 1012\n",
      "Rastreando: https://www.mediamarkt.es/es/category/_juegos-nintendo-switch-702299.html\n",
      "Número de páginas: 6\n"
     ]
    },
    {
     "name": "stderr",
     "output_type": "stream",
     "text": [
      "100%|██████████| 6/6 [00:08<00:00,  1.31s/it]\n"
     ]
    },
    {
     "name": "stdout",
     "output_type": "stream",
     "text": [
      "Escaneando página 567 de 1012\n",
      "Rastreando: https://www.mediamarkt.es/es/category/_juegos-ps-vita-702300.html\n"
     ]
    },
    {
     "name": "stderr",
     "output_type": "stream",
     "text": [
      "100%|██████████| 1/1 [00:00<00:00,  1.02it/s]\n"
     ]
    },
    {
     "name": "stdout",
     "output_type": "stream",
     "text": [
      "Escaneando página 568 de 1012\n",
      "Rastreando: https://www.mediamarkt.es/es/category/_juegos-xbox-one-702301.html\n",
      "Número de páginas: 7\n"
     ]
    },
    {
     "name": "stderr",
     "output_type": "stream",
     "text": [
      "100%|██████████| 7/7 [00:10<00:00,  1.37s/it]\n"
     ]
    },
    {
     "name": "stdout",
     "output_type": "stream",
     "text": [
      "Escaneando página 569 de 1012\n",
      "Rastreando: https://www.mediamarkt.es/es/category/_juegos-xbox-360-702302.html\n"
     ]
    },
    {
     "name": "stderr",
     "output_type": "stream",
     "text": [
      "100%|██████████| 1/1 [00:01<00:00,  1.16s/it]\n"
     ]
    },
    {
     "name": "stdout",
     "output_type": "stream",
     "text": [
      "Escaneando página 570 de 1012\n",
      "Rastreando: https://www.mediamarkt.es/es/category/_juegos-3ds-y-2ds-702305.html\n",
      "Número de páginas: 3\n"
     ]
    },
    {
     "name": "stderr",
     "output_type": "stream",
     "text": [
      "100%|██████████| 3/3 [00:03<00:00,  1.25s/it]\n"
     ]
    },
    {
     "name": "stdout",
     "output_type": "stream",
     "text": [
      "Escaneando página 571 de 1012\n",
      "Rastreando: https://www.mediamarkt.es/es/category/_juegos-pc-702306.html\n",
      "Número de páginas: 4\n"
     ]
    },
    {
     "name": "stderr",
     "output_type": "stream",
     "text": [
      "100%|██████████| 4/4 [00:06<00:00,  1.51s/it]\n"
     ]
    },
    {
     "name": "stdout",
     "output_type": "stream",
     "text": [
      "Escaneando página 572 de 1012\n",
      "Rastreando: https://www.mediamarkt.es/es/category/_juegos-otaku-702307.html\n"
     ]
    },
    {
     "name": "stderr",
     "output_type": "stream",
     "text": [
      "100%|██████████| 1/1 [00:00<00:00,  1.16it/s]\n"
     ]
    },
    {
     "name": "stdout",
     "output_type": "stream",
     "text": [
      "Escaneando página 573 de 1012\n",
      "Rastreando: https://www.mediamarkt.es/es/category/_gu%C3%ADas-de-juego-702308.html\n"
     ]
    },
    {
     "name": "stderr",
     "output_type": "stream",
     "text": [
      "100%|██████████| 1/1 [00:00<00:00,  1.04it/s]\n"
     ]
    },
    {
     "name": "stdout",
     "output_type": "stream",
     "text": [
      "Escaneando página 574 de 1012\n",
      "Rastreando: https://www.mediamarkt.es/es/category/_accesorios-consolas-701343.html\n"
     ]
    },
    {
     "name": "stderr",
     "output_type": "stream",
     "text": [
      "100%|██████████| 1/1 [00:01<00:00,  1.14s/it]\n"
     ]
    },
    {
     "name": "stdout",
     "output_type": "stream",
     "text": [
      "Escaneando página 575 de 1012\n",
      "Rastreando: https://www.mediamarkt.es/es/category/_accesorios-sony-ps4-702309.html\n",
      "Número de páginas: 8\n"
     ]
    },
    {
     "name": "stderr",
     "output_type": "stream",
     "text": [
      "100%|██████████| 8/8 [00:11<00:00,  1.40s/it]\n"
     ]
    },
    {
     "name": "stdout",
     "output_type": "stream",
     "text": [
      "Escaneando página 576 de 1012\n",
      "Rastreando: https://www.mediamarkt.es/es/category/_auriculares-ps4-702675.html\n",
      "Número de páginas: 2\n"
     ]
    },
    {
     "name": "stderr",
     "output_type": "stream",
     "text": [
      "100%|██████████| 2/2 [00:01<00:00,  1.03s/it]\n"
     ]
    },
    {
     "name": "stdout",
     "output_type": "stream",
     "text": [
      "Escaneando página 577 de 1012\n",
      "Rastreando: https://www.mediamarkt.es/es/category/_cables-ps4-702676.html\n"
     ]
    },
    {
     "name": "stderr",
     "output_type": "stream",
     "text": [
      "100%|██████████| 1/1 [00:01<00:00,  1.30s/it]\n"
     ]
    },
    {
     "name": "stdout",
     "output_type": "stream",
     "text": [
      "Escaneando página 578 de 1012\n",
      "Rastreando: https://www.mediamarkt.es/es/category/_cargadores-playstation-ps4-702677.html\n"
     ]
    },
    {
     "name": "stderr",
     "output_type": "stream",
     "text": [
      "100%|██████████| 1/1 [00:00<00:00,  1.01it/s]\n"
     ]
    },
    {
     "name": "stdout",
     "output_type": "stream",
     "text": [
      "Escaneando página 579 de 1012\n",
      "Rastreando: https://www.mediamarkt.es/es/category/_fundas-ps4-702678.html\n"
     ]
    },
    {
     "name": "stderr",
     "output_type": "stream",
     "text": [
      "100%|██████████| 1/1 [00:00<00:00,  1.07it/s]\n"
     ]
    },
    {
     "name": "stdout",
     "output_type": "stream",
     "text": [
      "Escaneando página 580 de 1012\n",
      "Rastreando: https://www.mediamarkt.es/es/category/_mandos-playstation-ps4-702679.html\n",
      "Número de páginas: 2\n"
     ]
    },
    {
     "name": "stderr",
     "output_type": "stream",
     "text": [
      "100%|██████████| 2/2 [00:02<00:00,  1.40s/it]\n"
     ]
    },
    {
     "name": "stdout",
     "output_type": "stream",
     "text": [
      "Escaneando página 581 de 1012\n",
      "Rastreando: https://www.mediamarkt.es/es/category/_volantes-ps4-702680.html\n"
     ]
    },
    {
     "name": "stderr",
     "output_type": "stream",
     "text": [
      "100%|██████████| 1/1 [00:01<00:00,  1.04s/it]\n"
     ]
    },
    {
     "name": "stdout",
     "output_type": "stream",
     "text": [
      "Escaneando página 582 de 1012\n",
      "Rastreando: https://www.mediamarkt.es/es/category/_otros-702681.html\n",
      "Número de páginas: 2\n"
     ]
    },
    {
     "name": "stderr",
     "output_type": "stream",
     "text": [
      "100%|██████████| 2/2 [00:02<00:00,  1.14s/it]\n"
     ]
    },
    {
     "name": "stdout",
     "output_type": "stream",
     "text": [
      "Escaneando página 583 de 1012\n",
      "Rastreando: https://www.mediamarkt.es/es/category/_accesorios-sony-ps3-702310.html\n",
      "Número de páginas: 3\n"
     ]
    },
    {
     "name": "stderr",
     "output_type": "stream",
     "text": [
      "100%|██████████| 3/3 [00:04<00:00,  1.42s/it]\n"
     ]
    },
    {
     "name": "stdout",
     "output_type": "stream",
     "text": [
      "Escaneando página 584 de 1012\n",
      "Rastreando: https://www.mediamarkt.es/es/category/_auriculares-ps3-702682.html\n"
     ]
    },
    {
     "name": "stderr",
     "output_type": "stream",
     "text": [
      "100%|██████████| 1/1 [00:00<00:00,  1.02it/s]\n"
     ]
    },
    {
     "name": "stdout",
     "output_type": "stream",
     "text": [
      "Escaneando página 585 de 1012\n",
      "Rastreando: https://www.mediamarkt.es/es/category/_cables-ps3-702683.html\n"
     ]
    },
    {
     "name": "stderr",
     "output_type": "stream",
     "text": [
      "100%|██████████| 1/1 [00:01<00:00,  1.05s/it]\n"
     ]
    },
    {
     "name": "stdout",
     "output_type": "stream",
     "text": [
      "Escaneando página 586 de 1012\n",
      "Rastreando: https://www.mediamarkt.es/es/category/_mandos-ps3-702684.html\n"
     ]
    },
    {
     "name": "stderr",
     "output_type": "stream",
     "text": [
      "100%|██████████| 1/1 [00:01<00:00,  1.12s/it]\n"
     ]
    },
    {
     "name": "stdout",
     "output_type": "stream",
     "text": [
      "Escaneando página 587 de 1012\n",
      "Rastreando: https://www.mediamarkt.es/es/category/_volantes-ps3-702685.html\n"
     ]
    },
    {
     "name": "stderr",
     "output_type": "stream",
     "text": [
      "100%|██████████| 1/1 [00:01<00:00,  1.02s/it]\n"
     ]
    },
    {
     "name": "stdout",
     "output_type": "stream",
     "text": [
      "Escaneando página 588 de 1012\n",
      "Rastreando: https://www.mediamarkt.es/es/category/_otros-702686.html\n"
     ]
    },
    {
     "name": "stderr",
     "output_type": "stream",
     "text": [
      "100%|██████████| 1/1 [00:00<00:00,  1.05it/s]\n"
     ]
    },
    {
     "name": "stdout",
     "output_type": "stream",
     "text": [
      "Escaneando página 589 de 1012\n",
      "Rastreando: https://www.mediamarkt.es/es/category/_accesorios-sony-ps-vita-702311.html\n"
     ]
    },
    {
     "name": "stderr",
     "output_type": "stream",
     "text": [
      "100%|██████████| 1/1 [00:01<00:00,  1.23s/it]\n"
     ]
    },
    {
     "name": "stdout",
     "output_type": "stream",
     "text": [
      "Escaneando página 590 de 1012\n",
      "Rastreando: https://www.mediamarkt.es/es/category/_auriculares-ps-vita-702687.html\n"
     ]
    },
    {
     "name": "stderr",
     "output_type": "stream",
     "text": [
      "100%|██████████| 1/1 [00:01<00:00,  1.16s/it]\n"
     ]
    },
    {
     "name": "stdout",
     "output_type": "stream",
     "text": [
      "Escaneando página 591 de 1012\n",
      "Rastreando: https://www.mediamarkt.es/es/category/_otros-702690.html\n"
     ]
    },
    {
     "name": "stderr",
     "output_type": "stream",
     "text": [
      "100%|██████████| 1/1 [00:00<00:00,  1.03it/s]\n"
     ]
    },
    {
     "name": "stdout",
     "output_type": "stream",
     "text": [
      "Escaneando página 592 de 1012\n",
      "Rastreando: https://www.mediamarkt.es/es/category/_accesorios-sony-psp-702312.html\n"
     ]
    },
    {
     "name": "stderr",
     "output_type": "stream",
     "text": [
      "100%|██████████| 1/1 [00:00<00:00,  1.00it/s]\n"
     ]
    },
    {
     "name": "stdout",
     "output_type": "stream",
     "text": [
      "Escaneando página 593 de 1012\n",
      "Rastreando: https://www.mediamarkt.es/es/category/_otros-702692.html\n"
     ]
    },
    {
     "name": "stderr",
     "output_type": "stream",
     "text": [
      "100%|██████████| 1/1 [00:01<00:00,  1.78s/it]\n"
     ]
    },
    {
     "name": "stdout",
     "output_type": "stream",
     "text": [
      "Escaneando página 594 de 1012\n",
      "Rastreando: https://www.mediamarkt.es/es/category/_accesorios-nintendo-switch-702313.html\n",
      "Número de páginas: 7\n"
     ]
    },
    {
     "name": "stderr",
     "output_type": "stream",
     "text": [
      " 43%|████▎     | 3/7 [00:04<00:05,  1.35s/it]"
     ]
    },
    {
     "name": "stdout",
     "output_type": "stream",
     "text": [
      "Other error occurred: ('Connection aborted.', OSError(\"(10054, 'WSAECONNRESET')\"))\n"
     ]
    },
    {
     "name": "stderr",
     "output_type": "stream",
     "text": [
      "100%|██████████| 7/7 [00:26<00:00,  3.15s/it]\n"
     ]
    },
    {
     "name": "stdout",
     "output_type": "stream",
     "text": [
      "Escaneando página 595 de 1012\n",
      "Rastreando: https://www.mediamarkt.es/es/category/_accesorios-xbox-one-702314.html\n",
      "Número de páginas: 3\n"
     ]
    },
    {
     "name": "stderr",
     "output_type": "stream",
     "text": [
      "100%|██████████| 3/3 [00:03<00:00,  1.28s/it]\n"
     ]
    },
    {
     "name": "stdout",
     "output_type": "stream",
     "text": [
      "Escaneando página 596 de 1012\n",
      "Rastreando: https://www.mediamarkt.es/es/category/_auriculares-xbox-one-702693.html\n"
     ]
    },
    {
     "name": "stderr",
     "output_type": "stream",
     "text": [
      "100%|██████████| 1/1 [00:01<00:00,  1.13s/it]\n"
     ]
    },
    {
     "name": "stdout",
     "output_type": "stream",
     "text": [
      "Escaneando página 597 de 1012\n",
      "Rastreando: https://www.mediamarkt.es/es/category/_cables-xbox-one-702694.html\n"
     ]
    },
    {
     "name": "stderr",
     "output_type": "stream",
     "text": [
      "100%|██████████| 1/1 [00:01<00:00,  1.11s/it]\n"
     ]
    },
    {
     "name": "stdout",
     "output_type": "stream",
     "text": [
      "Escaneando página 598 de 1012\n",
      "Rastreando: https://www.mediamarkt.es/es/category/_mandos-xbox-one-702697.html\n",
      "Número de páginas: 2\n"
     ]
    },
    {
     "name": "stderr",
     "output_type": "stream",
     "text": [
      "100%|██████████| 2/2 [00:02<00:00,  1.49s/it]\n"
     ]
    },
    {
     "name": "stdout",
     "output_type": "stream",
     "text": [
      "Escaneando página 599 de 1012\n",
      "Rastreando: https://www.mediamarkt.es/es/category/_volante-702698.html\n"
     ]
    },
    {
     "name": "stderr",
     "output_type": "stream",
     "text": [
      "100%|██████████| 1/1 [00:00<00:00,  1.04it/s]\n"
     ]
    },
    {
     "name": "stdout",
     "output_type": "stream",
     "text": [
      "Escaneando página 600 de 1012\n",
      "Rastreando: https://www.mediamarkt.es/es/category/_otros-702699.html\n"
     ]
    },
    {
     "name": "stderr",
     "output_type": "stream",
     "text": [
      "100%|██████████| 1/1 [00:01<00:00,  1.18s/it]\n"
     ]
    },
    {
     "name": "stdout",
     "output_type": "stream",
     "text": [
      "Escaneando página 601 de 1012\n",
      "Rastreando: https://www.mediamarkt.es/es/category/_accesorios-xbox-360-702315.html\n",
      "Número de páginas: 2\n"
     ]
    },
    {
     "name": "stderr",
     "output_type": "stream",
     "text": [
      "100%|██████████| 2/2 [00:01<00:00,  1.05s/it]\n"
     ]
    },
    {
     "name": "stdout",
     "output_type": "stream",
     "text": [
      "Escaneando página 602 de 1012\n",
      "Rastreando: https://www.mediamarkt.es/es/category/_cables-xbox-360-702701.html\n"
     ]
    },
    {
     "name": "stderr",
     "output_type": "stream",
     "text": [
      "100%|██████████| 1/1 [00:01<00:00,  1.11s/it]\n"
     ]
    },
    {
     "name": "stdout",
     "output_type": "stream",
     "text": [
      "Escaneando página 603 de 1012\n",
      "Rastreando: https://www.mediamarkt.es/es/category/_mandos-xbox-360-702702.html\n"
     ]
    },
    {
     "name": "stderr",
     "output_type": "stream",
     "text": [
      "100%|██████████| 1/1 [00:00<00:00,  1.14it/s]\n"
     ]
    },
    {
     "name": "stdout",
     "output_type": "stream",
     "text": [
      "Escaneando página 604 de 1012\n",
      "Rastreando: https://www.mediamarkt.es/es/category/_volantes-xbox-360-702703.html\n"
     ]
    },
    {
     "name": "stderr",
     "output_type": "stream",
     "text": [
      "100%|██████████| 1/1 [00:00<00:00,  1.06it/s]\n"
     ]
    },
    {
     "name": "stdout",
     "output_type": "stream",
     "text": [
      "Escaneando página 605 de 1012\n",
      "Rastreando: https://www.mediamarkt.es/es/category/_otros-702704.html\n"
     ]
    },
    {
     "name": "stderr",
     "output_type": "stream",
     "text": [
      "100%|██████████| 1/1 [00:00<00:00,  1.00it/s]\n"
     ]
    },
    {
     "name": "stdout",
     "output_type": "stream",
     "text": [
      "Escaneando página 606 de 1012\n",
      "Rastreando: https://www.mediamarkt.es/es/category/_playstation-plus-y-xbox-live-702316.html\n"
     ]
    },
    {
     "name": "stderr",
     "output_type": "stream",
     "text": [
      "100%|██████████| 1/1 [00:01<00:00,  1.61s/it]\n"
     ]
    },
    {
     "name": "stdout",
     "output_type": "stream",
     "text": [
      "Escaneando página 607 de 1012\n",
      "Rastreando: https://www.mediamarkt.es/es/category/_playstation-ps4-ps3-y-ps-vita-702705.html\n"
     ]
    },
    {
     "name": "stderr",
     "output_type": "stream",
     "text": [
      "100%|██████████| 1/1 [00:01<00:00,  1.24s/it]\n"
     ]
    },
    {
     "name": "stdout",
     "output_type": "stream",
     "text": [
      "Escaneando página 608 de 1012\n",
      "Rastreando: https://www.mediamarkt.es/es/category/_accesorios-nintendo-wii-u-702317.html\n"
     ]
    },
    {
     "name": "stderr",
     "output_type": "stream",
     "text": [
      "100%|██████████| 1/1 [00:01<00:00,  1.17s/it]\n"
     ]
    },
    {
     "name": "stdout",
     "output_type": "stream",
     "text": [
      "Escaneando página 609 de 1012\n",
      "Rastreando: https://www.mediamarkt.es/es/category/_cables-nintendo-wii-u-702707.html\n"
     ]
    },
    {
     "name": "stderr",
     "output_type": "stream",
     "text": [
      "100%|██████████| 1/1 [00:00<00:00,  1.03it/s]\n"
     ]
    },
    {
     "name": "stdout",
     "output_type": "stream",
     "text": [
      "Escaneando página 610 de 1012\n",
      "Rastreando: https://www.mediamarkt.es/es/category/_mandos-nintendo-wii-u-702710.html\n"
     ]
    },
    {
     "name": "stderr",
     "output_type": "stream",
     "text": [
      "100%|██████████| 1/1 [00:00<00:00,  1.09it/s]\n"
     ]
    },
    {
     "name": "stdout",
     "output_type": "stream",
     "text": [
      "Escaneando página 611 de 1012\n",
      "Rastreando: https://www.mediamarkt.es/es/category/_otros-702711.html\n"
     ]
    },
    {
     "name": "stderr",
     "output_type": "stream",
     "text": [
      "100%|██████████| 1/1 [00:01<00:00,  1.04s/it]\n"
     ]
    },
    {
     "name": "stdout",
     "output_type": "stream",
     "text": [
      "Escaneando página 612 de 1012\n",
      "Rastreando: https://www.mediamarkt.es/es/category/_accesorios-nintendo-wii-702318.html\n"
     ]
    },
    {
     "name": "stderr",
     "output_type": "stream",
     "text": [
      "100%|██████████| 1/1 [00:01<00:00,  1.14s/it]\n"
     ]
    },
    {
     "name": "stdout",
     "output_type": "stream",
     "text": [
      "Escaneando página 613 de 1012\n",
      "Rastreando: https://www.mediamarkt.es/es/category/_mandos-nintendo-wii-702713.html\n"
     ]
    },
    {
     "name": "stderr",
     "output_type": "stream",
     "text": [
      "100%|██████████| 1/1 [00:00<00:00,  1.09it/s]\n"
     ]
    },
    {
     "name": "stdout",
     "output_type": "stream",
     "text": [
      "Escaneando página 614 de 1012\n",
      "Rastreando: https://www.mediamarkt.es/es/category/_otros-702716.html\n"
     ]
    },
    {
     "name": "stderr",
     "output_type": "stream",
     "text": [
      "100%|██████████| 1/1 [00:01<00:00,  1.06s/it]\n"
     ]
    },
    {
     "name": "stdout",
     "output_type": "stream",
     "text": [
      "Escaneando página 615 de 1012\n",
      "Rastreando: https://www.mediamarkt.es/es/category/_accesorios-nintendo-3ds-702319.html\n"
     ]
    },
    {
     "name": "stderr",
     "output_type": "stream",
     "text": [
      "100%|██████████| 1/1 [00:01<00:00,  1.55s/it]\n"
     ]
    },
    {
     "name": "stdout",
     "output_type": "stream",
     "text": [
      "Escaneando página 616 de 1012\n",
      "Rastreando: https://www.mediamarkt.es/es/category/_auriculares-nintendo-3ds-702717.html\n"
     ]
    },
    {
     "name": "stderr",
     "output_type": "stream",
     "text": [
      "100%|██████████| 1/1 [00:00<00:00,  1.10it/s]\n"
     ]
    },
    {
     "name": "stdout",
     "output_type": "stream",
     "text": [
      "Escaneando página 617 de 1012\n",
      "Rastreando: https://www.mediamarkt.es/es/category/_cargadores-nintendo-3ds-702718.html\n"
     ]
    },
    {
     "name": "stderr",
     "output_type": "stream",
     "text": [
      "100%|██████████| 1/1 [00:00<00:00,  1.13it/s]\n"
     ]
    },
    {
     "name": "stdout",
     "output_type": "stream",
     "text": [
      "Escaneando página 618 de 1012\n",
      "Rastreando: https://www.mediamarkt.es/es/category/_fundas-nintendo-3ds-702719.html\n"
     ]
    },
    {
     "name": "stderr",
     "output_type": "stream",
     "text": [
      "100%|██████████| 1/1 [00:01<00:00,  1.06s/it]\n"
     ]
    },
    {
     "name": "stdout",
     "output_type": "stream",
     "text": [
      "Escaneando página 619 de 1012\n",
      "Rastreando: https://www.mediamarkt.es/es/category/_otros-702721.html\n"
     ]
    },
    {
     "name": "stderr",
     "output_type": "stream",
     "text": [
      "100%|██████████| 1/1 [00:01<00:00,  1.01s/it]\n"
     ]
    },
    {
     "name": "stdout",
     "output_type": "stream",
     "text": [
      "Escaneando página 620 de 1012\n",
      "Rastreando: https://www.mediamarkt.es/es/category/_accesorios-nintendo-2ds-702320.html\n"
     ]
    },
    {
     "name": "stderr",
     "output_type": "stream",
     "text": [
      "100%|██████████| 1/1 [00:01<00:00,  1.30s/it]\n"
     ]
    },
    {
     "name": "stdout",
     "output_type": "stream",
     "text": [
      "Escaneando página 621 de 1012\n",
      "Rastreando: https://www.mediamarkt.es/es/category/_auriculares-nintendo-2ds-702722.html\n"
     ]
    },
    {
     "name": "stderr",
     "output_type": "stream",
     "text": [
      "100%|██████████| 1/1 [00:00<00:00,  1.02it/s]\n"
     ]
    },
    {
     "name": "stdout",
     "output_type": "stream",
     "text": [
      "Escaneando página 622 de 1012\n",
      "Rastreando: https://www.mediamarkt.es/es/category/_cargadores-nintendo-2ds-702723.html\n"
     ]
    },
    {
     "name": "stderr",
     "output_type": "stream",
     "text": [
      "100%|██████████| 1/1 [00:00<00:00,  1.09it/s]\n"
     ]
    },
    {
     "name": "stdout",
     "output_type": "stream",
     "text": [
      "Escaneando página 623 de 1012\n",
      "Rastreando: https://www.mediamarkt.es/es/category/_fundas-nintendo-2ds-702724.html\n"
     ]
    },
    {
     "name": "stderr",
     "output_type": "stream",
     "text": [
      "100%|██████████| 1/1 [00:01<00:00,  1.16s/it]\n"
     ]
    },
    {
     "name": "stdout",
     "output_type": "stream",
     "text": [
      "Escaneando página 624 de 1012\n",
      "Rastreando: https://www.mediamarkt.es/es/category/_otros-702726.html\n"
     ]
    },
    {
     "name": "stderr",
     "output_type": "stream",
     "text": [
      "100%|██████████| 1/1 [00:01<00:00,  1.17s/it]\n"
     ]
    },
    {
     "name": "stdout",
     "output_type": "stream",
     "text": [
      "Escaneando página 625 de 1012\n",
      "Rastreando: https://www.mediamarkt.es/es/category/_accesorios-nintendo-ds-702321.html\n"
     ]
    },
    {
     "name": "stderr",
     "output_type": "stream",
     "text": [
      "100%|██████████| 1/1 [00:00<00:00,  1.09it/s]\n"
     ]
    },
    {
     "name": "stdout",
     "output_type": "stream",
     "text": [
      "Escaneando página 626 de 1012\n",
      "Rastreando: https://www.mediamarkt.es/es/category/_otros-702727.html\n"
     ]
    },
    {
     "name": "stderr",
     "output_type": "stream",
     "text": [
      "100%|██████████| 1/1 [00:00<00:00,  1.11it/s]\n"
     ]
    },
    {
     "name": "stdout",
     "output_type": "stream",
     "text": [
      "Escaneando página 627 de 1012\n",
      "Rastreando: https://www.mediamarkt.es/es/category/_accesorios-pc-702322.html\n",
      "Número de páginas: 3\n"
     ]
    },
    {
     "name": "stderr",
     "output_type": "stream",
     "text": [
      "100%|██████████| 3/3 [00:03<00:00,  1.13s/it]\n"
     ]
    },
    {
     "name": "stdout",
     "output_type": "stream",
     "text": [
      "Escaneando página 628 de 1012\n",
      "Rastreando: https://www.mediamarkt.es/es/category/_auriculares-pc-702728.html\n"
     ]
    },
    {
     "name": "stderr",
     "output_type": "stream",
     "text": [
      "100%|██████████| 1/1 [00:00<00:00,  1.09it/s]\n"
     ]
    },
    {
     "name": "stdout",
     "output_type": "stream",
     "text": [
      "Escaneando página 629 de 1012\n",
      "Rastreando: https://www.mediamarkt.es/es/category/_ratones-702729.html\n"
     ]
    },
    {
     "name": "stderr",
     "output_type": "stream",
     "text": [
      "100%|██████████| 1/1 [00:01<00:00,  1.06s/it]\n"
     ]
    },
    {
     "name": "stdout",
     "output_type": "stream",
     "text": [
      "Escaneando página 630 de 1012\n",
      "Rastreando: https://www.mediamarkt.es/es/category/_volantes-ordenador-702730.html\n"
     ]
    },
    {
     "name": "stderr",
     "output_type": "stream",
     "text": [
      "100%|██████████| 1/1 [00:01<00:00,  1.26s/it]\n"
     ]
    },
    {
     "name": "stdout",
     "output_type": "stream",
     "text": [
      "Escaneando página 631 de 1012\n",
      "Rastreando: https://www.mediamarkt.es/es/category/_otros-702731.html\n",
      "Número de páginas: 2\n"
     ]
    },
    {
     "name": "stderr",
     "output_type": "stream",
     "text": [
      "100%|██████████| 2/2 [00:02<00:00,  1.49s/it]\n"
     ]
    },
    {
     "name": "stdout",
     "output_type": "stream",
     "text": [
      "Escaneando página 632 de 1012\n",
      "Rastreando: https://www.mediamarkt.es/es/category/_gu%C3%ADas-de-juegos-702323.html\n"
     ]
    },
    {
     "name": "stderr",
     "output_type": "stream",
     "text": [
      "100%|██████████| 1/1 [00:00<00:00,  1.18it/s]\n"
     ]
    },
    {
     "name": "stdout",
     "output_type": "stream",
     "text": [
      "Escaneando página 633 de 1012\n",
      "Rastreando: https://www.mediamarkt.es/es/category/_toys-to-life-701344.html\n",
      "Número de páginas: 2\n"
     ]
    },
    {
     "name": "stderr",
     "output_type": "stream",
     "text": [
      "100%|██████████| 2/2 [00:01<00:00,  1.03it/s]\n"
     ]
    },
    {
     "name": "stdout",
     "output_type": "stream",
     "text": [
      "Escaneando página 634 de 1012\n",
      "Rastreando: https://www.mediamarkt.es/es/category/_amiibo-702324.html\n"
     ]
    },
    {
     "name": "stderr",
     "output_type": "stream",
     "text": [
      "100%|██████████| 1/1 [00:00<00:00,  1.17it/s]\n"
     ]
    },
    {
     "name": "stdout",
     "output_type": "stream",
     "text": [
      "Escaneando página 635 de 1012\n",
      "Rastreando: https://www.mediamarkt.es/es/category/_juegos-nintendo-702732.html\n"
     ]
    },
    {
     "name": "stderr",
     "output_type": "stream",
     "text": [
      "100%|██████████| 1/1 [00:00<00:00,  1.08it/s]\n"
     ]
    },
    {
     "name": "stdout",
     "output_type": "stream",
     "text": [
      "Escaneando página 636 de 1012\n",
      "Rastreando: https://www.mediamarkt.es/es/category/_skylanders-702325.html\n"
     ]
    },
    {
     "name": "stderr",
     "output_type": "stream",
     "text": [
      "100%|██████████| 1/1 [00:01<00:00,  1.04s/it]\n"
     ]
    },
    {
     "name": "stdout",
     "output_type": "stream",
     "text": [
      "Escaneando página 637 de 1012\n",
      "Rastreando: https://www.mediamarkt.es/es/category/_figuras-skylanders-702735.html\n"
     ]
    },
    {
     "name": "stderr",
     "output_type": "stream",
     "text": [
      "100%|██████████| 1/1 [00:00<00:00,  1.13it/s]\n"
     ]
    },
    {
     "name": "stdout",
     "output_type": "stream",
     "text": [
      "Escaneando página 638 de 1012\n",
      "Rastreando: https://www.mediamarkt.es/es/category/_disney-infinity-702326.html\n"
     ]
    },
    {
     "name": "stderr",
     "output_type": "stream",
     "text": [
      "100%|██████████| 1/1 [00:01<00:00,  1.56s/it]\n"
     ]
    },
    {
     "name": "stdout",
     "output_type": "stream",
     "text": [
      "Escaneando página 639 de 1012\n",
      "Rastreando: https://www.mediamarkt.es/es/category/_figuras-702738.html\n"
     ]
    },
    {
     "name": "stderr",
     "output_type": "stream",
     "text": [
      "100%|██████████| 1/1 [00:01<00:00,  1.03s/it]\n"
     ]
    },
    {
     "name": "stdout",
     "output_type": "stream",
     "text": [
      "Escaneando página 640 de 1012\n",
      "Rastreando: https://www.mediamarkt.es/es/category/_power-discs-702739.html\n"
     ]
    },
    {
     "name": "stderr",
     "output_type": "stream",
     "text": [
      "100%|██████████| 1/1 [00:00<00:00,  1.17it/s]\n"
     ]
    },
    {
     "name": "stdout",
     "output_type": "stream",
     "text": [
      "Escaneando página 641 de 1012\n",
      "Rastreando: https://www.mediamarkt.es/es/category/_merchandising-701345.html\n",
      "Número de páginas: 34\n"
     ]
    },
    {
     "name": "stderr",
     "output_type": "stream",
     "text": [
      "100%|██████████| 34/34 [00:56<00:00,  1.34s/it]\n"
     ]
    },
    {
     "name": "stdout",
     "output_type": "stream",
     "text": [
      "Escaneando página 642 de 1012\n",
      "Rastreando: https://www.mediamarkt.es/es/category/_figuras-y-r%C3%A9plicas-702328.html\n",
      "Número de páginas: 16\n"
     ]
    },
    {
     "name": "stderr",
     "output_type": "stream",
     "text": [
      "100%|██████████| 16/16 [00:27<00:00,  1.71s/it]\n"
     ]
    },
    {
     "name": "stdout",
     "output_type": "stream",
     "text": [
      "Escaneando página 643 de 1012\n",
      "Rastreando: https://www.mediamarkt.es/es/category/_videojuegos-702740.html\n",
      "Número de páginas: 5\n"
     ]
    },
    {
     "name": "stderr",
     "output_type": "stream",
     "text": [
      "100%|██████████| 5/5 [00:06<00:00,  1.40s/it]\n"
     ]
    },
    {
     "name": "stdout",
     "output_type": "stream",
     "text": [
      "Escaneando página 644 de 1012\n",
      "Rastreando: https://www.mediamarkt.es/es/category/_cine-y-tv-702741.html\n",
      "Número de páginas: 11\n"
     ]
    },
    {
     "name": "stderr",
     "output_type": "stream",
     "text": [
      "100%|██████████| 11/11 [00:15<00:00,  1.44s/it]\n"
     ]
    },
    {
     "name": "stdout",
     "output_type": "stream",
     "text": [
      "Escaneando página 645 de 1012\n",
      "Rastreando: https://www.mediamarkt.es/es/category/_figuras-musicales-702742.html\n"
     ]
    },
    {
     "name": "stderr",
     "output_type": "stream",
     "text": [
      "100%|██████████| 1/1 [00:01<00:00,  1.02s/it]\n"
     ]
    },
    {
     "name": "stdout",
     "output_type": "stream",
     "text": [
      "Escaneando página 646 de 1012\n",
      "Rastreando: https://www.mediamarkt.es/es/category/_funko-pop-702329.html\n",
      "Número de páginas: 13\n"
     ]
    },
    {
     "name": "stderr",
     "output_type": "stream",
     "text": [
      "100%|██████████| 13/13 [00:18<00:00,  1.39s/it]\n"
     ]
    },
    {
     "name": "stdout",
     "output_type": "stream",
     "text": [
      "Escaneando página 647 de 1012\n",
      "Rastreando: https://www.mediamarkt.es/es/category/_ropa-y-accesorios-702330.html\n",
      "Número de páginas: 4\n"
     ]
    },
    {
     "name": "stderr",
     "output_type": "stream",
     "text": [
      "100%|██████████| 4/4 [00:05<00:00,  1.32s/it]\n"
     ]
    },
    {
     "name": "stdout",
     "output_type": "stream",
     "text": [
      "Escaneando página 648 de 1012\n",
      "Rastreando: https://www.mediamarkt.es/es/category/_tazas-y-termos-702331.html\n",
      "Número de páginas: 5\n"
     ]
    },
    {
     "name": "stderr",
     "output_type": "stream",
     "text": [
      "100%|██████████| 5/5 [00:07<00:00,  1.33s/it]\n"
     ]
    },
    {
     "name": "stdout",
     "output_type": "stream",
     "text": [
      "Escaneando página 649 de 1012\n",
      "Rastreando: https://www.mediamarkt.es/es/category/_llaveros-pins-y-pendrives-702332.html\n",
      "Número de páginas: 4\n"
     ]
    },
    {
     "name": "stderr",
     "output_type": "stream",
     "text": [
      "100%|██████████| 4/4 [00:05<00:00,  1.20s/it]\n"
     ]
    },
    {
     "name": "stdout",
     "output_type": "stream",
     "text": [
      "Escaneando página 650 de 1012\n",
      "Rastreando: https://www.mediamarkt.es/es/category/_llaveros-702743.html\n",
      "Número de páginas: 2\n"
     ]
    },
    {
     "name": "stderr",
     "output_type": "stream",
     "text": [
      "100%|██████████| 2/2 [00:02<00:00,  1.33s/it]\n"
     ]
    },
    {
     "name": "stdout",
     "output_type": "stream",
     "text": [
      "Escaneando página 651 de 1012\n",
      "Rastreando: https://www.mediamarkt.es/es/category/_pendrives-702744.html\n"
     ]
    },
    {
     "name": "stderr",
     "output_type": "stream",
     "text": [
      "100%|██████████| 1/1 [00:01<00:00,  1.32s/it]\n"
     ]
    },
    {
     "name": "stdout",
     "output_type": "stream",
     "text": [
      "Escaneando página 652 de 1012\n",
      "Rastreando: https://www.mediamarkt.es/es/category/_pines-711590.html\n"
     ]
    },
    {
     "name": "stderr",
     "output_type": "stream",
     "text": [
      "100%|██████████| 1/1 [00:01<00:00,  1.30s/it]\n"
     ]
    },
    {
     "name": "stdout",
     "output_type": "stream",
     "text": [
      "Escaneando página 653 de 1012\n",
      "Rastreando: https://www.mediamarkt.es/es/category/_p%C3%B3sters-y-pegatinas-702333.html\n",
      "Número de páginas: 2\n"
     ]
    },
    {
     "name": "stderr",
     "output_type": "stream",
     "text": [
      "100%|██████████| 2/2 [00:03<00:00,  2.13s/it]\n"
     ]
    },
    {
     "name": "stdout",
     "output_type": "stream",
     "text": [
      "Escaneando página 654 de 1012\n",
      "Rastreando: https://www.mediamarkt.es/es/category/_peluches-702334.html\n"
     ]
    },
    {
     "name": "stderr",
     "output_type": "stream",
     "text": [
      "100%|██████████| 1/1 [00:00<00:00,  1.03it/s]\n"
     ]
    },
    {
     "name": "stdout",
     "output_type": "stream",
     "text": [
      "Escaneando página 655 de 1012\n",
      "Rastreando: https://www.mediamarkt.es/es/category/_felpudos-702335.html\n"
     ]
    },
    {
     "name": "stderr",
     "output_type": "stream",
     "text": [
      "100%|██████████| 1/1 [00:01<00:00,  1.35s/it]\n"
     ]
    },
    {
     "name": "stdout",
     "output_type": "stream",
     "text": [
      "Escaneando página 656 de 1012\n",
      "Rastreando: https://www.mediamarkt.es/es/category/_juegos-de-mesa-702336.html\n"
     ]
    },
    {
     "name": "stderr",
     "output_type": "stream",
     "text": [
      "100%|██████████| 1/1 [00:01<00:00,  1.14s/it]\n"
     ]
    },
    {
     "name": "stdout",
     "output_type": "stream",
     "text": [
      "Escaneando página 657 de 1012\n",
      "Rastreando: https://www.mediamarkt.es/es/category/_varios-702337.html\n",
      "Número de páginas: 8\n"
     ]
    },
    {
     "name": "stderr",
     "output_type": "stream",
     "text": [
      "100%|██████████| 8/8 [00:10<00:00,  1.26s/it]\n"
     ]
    },
    {
     "name": "stdout",
     "output_type": "stream",
     "text": [
      "Escaneando página 658 de 1012\n",
      "Rastreando: https://www.mediamarkt.es/es/category/_cine-tv-m%C3%BAsica-702745.html\n",
      "Número de páginas: 7\n"
     ]
    },
    {
     "name": "stderr",
     "output_type": "stream",
     "text": [
      "100%|██████████| 7/7 [00:09<00:00,  1.39s/it]\n"
     ]
    },
    {
     "name": "stdout",
     "output_type": "stream",
     "text": [
      "Escaneando página 659 de 1012\n",
      "Rastreando: https://www.mediamarkt.es/es/category/_juguetes-701346.html\n"
     ]
    },
    {
     "name": "stderr",
     "output_type": "stream",
     "text": [
      "100%|██████████| 1/1 [00:01<00:00,  1.10s/it]\n"
     ]
    },
    {
     "name": "stdout",
     "output_type": "stream",
     "text": [
      "Escaneando página 660 de 1012\n",
      "Rastreando: https://www.mediamarkt.es/es/category/_juguetes-electr%C3%B3nicos-702340.html\n"
     ]
    },
    {
     "name": "stderr",
     "output_type": "stream",
     "text": [
      "100%|██████████| 1/1 [00:00<00:00,  1.17it/s]\n"
     ]
    },
    {
     "name": "stdout",
     "output_type": "stream",
     "text": [
      "Escaneando página 661 de 1012\n",
      "Rastreando: https://www.mediamarkt.es/es/category/_juguetes-infantiles-702341.html\n"
     ]
    },
    {
     "name": "stderr",
     "output_type": "stream",
     "text": [
      "100%|██████████| 1/1 [00:01<00:00,  1.22s/it]\n"
     ]
    },
    {
     "name": "stdout",
     "output_type": "stream",
     "text": [
      "Escaneando página 662 de 1012\n",
      "Rastreando: https://www.mediamarkt.es/es/category/_radiocontrol-702342.html\n"
     ]
    },
    {
     "name": "stderr",
     "output_type": "stream",
     "text": [
      "100%|██████████| 1/1 [00:00<00:00,  1.07it/s]\n"
     ]
    },
    {
     "name": "stdout",
     "output_type": "stream",
     "text": [
      "Escaneando página 663 de 1012\n",
      "Rastreando: https://www.mediamarkt.es/es/category/_rob%C3%B3tica-701348.html\n"
     ]
    },
    {
     "name": "stderr",
     "output_type": "stream",
     "text": [
      "100%|██████████| 1/1 [00:01<00:00,  1.18s/it]\n"
     ]
    },
    {
     "name": "stdout",
     "output_type": "stream",
     "text": [
      "Escaneando página 664 de 1012\n",
      "Rastreando: https://www.mediamarkt.es/es/category/_rob%C3%B3tica-educativa-702353.html\n"
     ]
    },
    {
     "name": "stderr",
     "output_type": "stream",
     "text": [
      "100%|██████████| 1/1 [00:00<00:00,  1.14it/s]\n"
     ]
    },
    {
     "name": "stdout",
     "output_type": "stream",
     "text": [
      "Escaneando página 665 de 1012\n",
      "Rastreando: https://www.mediamarkt.es/es/category/_rob%C3%B3tica-radiocontrol-702354.html\n"
     ]
    },
    {
     "name": "stderr",
     "output_type": "stream",
     "text": [
      "100%|██████████| 1/1 [00:01<00:00,  1.57s/it]\n"
     ]
    },
    {
     "name": "stdout",
     "output_type": "stream",
     "text": [
      "Escaneando página 666 de 1012\n",
      "Rastreando: https://www.mediamarkt.es/es/category/_kits-de-construcci%C3%B3n-702355.html\n"
     ]
    },
    {
     "name": "stderr",
     "output_type": "stream",
     "text": [
      "100%|██████████| 1/1 [00:00<00:00,  1.04it/s]\n"
     ]
    },
    {
     "name": "stdout",
     "output_type": "stream",
     "text": [
      "Escaneando página 667 de 1012\n",
      "Rastreando: https://www.mediamarkt.es/es/category/_deporte-y-outdoor-701146.html\n"
     ]
    },
    {
     "name": "stderr",
     "output_type": "stream",
     "text": [
      "100%|██████████| 1/1 [00:00<00:00,  1.11it/s]\n"
     ]
    },
    {
     "name": "stdout",
     "output_type": "stream",
     "text": [
      "Escaneando página 668 de 1012\n",
      "Rastreando: https://www.mediamarkt.es/es/category/_relojes-y-puls%C3%B3metros-701331.html\n",
      "Número de páginas: 4\n"
     ]
    },
    {
     "name": "stderr",
     "output_type": "stream",
     "text": [
      "100%|██████████| 4/4 [00:04<00:00,  1.05s/it]\n"
     ]
    },
    {
     "name": "stdout",
     "output_type": "stream",
     "text": [
      "Escaneando página 669 de 1012\n",
      "Rastreando: https://www.mediamarkt.es/es/category/_pulsera-actividad-701332.html\n",
      "Número de páginas: 2\n"
     ]
    },
    {
     "name": "stderr",
     "output_type": "stream",
     "text": [
      "100%|██████████| 2/2 [00:01<00:00,  1.01it/s]\n"
     ]
    },
    {
     "name": "stdout",
     "output_type": "stream",
     "text": [
      "Escaneando página 670 de 1012\n",
      "Rastreando: https://www.mediamarkt.es/es/category/_gps-de-monta%C3%B1a-701333.html\n"
     ]
    },
    {
     "name": "stderr",
     "output_type": "stream",
     "text": [
      "100%|██████████| 1/1 [00:01<00:00,  1.10s/it]\n"
     ]
    },
    {
     "name": "stdout",
     "output_type": "stream",
     "text": [
      "Escaneando página 671 de 1012\n",
      "Rastreando: https://www.mediamarkt.es/es/category/_ciclismo-701334.html\n",
      "Número de páginas: 2\n"
     ]
    },
    {
     "name": "stderr",
     "output_type": "stream",
     "text": [
      "100%|██████████| 2/2 [00:02<00:00,  1.52s/it]\n"
     ]
    },
    {
     "name": "stdout",
     "output_type": "stream",
     "text": [
      "Escaneando página 672 de 1012\n",
      "Rastreando: https://www.mediamarkt.es/es/category/_gps-ciclismo-702266.html\n"
     ]
    },
    {
     "name": "stderr",
     "output_type": "stream",
     "text": [
      "100%|██████████| 1/1 [00:00<00:00,  1.05it/s]\n"
     ]
    },
    {
     "name": "stdout",
     "output_type": "stream",
     "text": [
      "Escaneando página 673 de 1012\n",
      "Rastreando: https://www.mediamarkt.es/es/category/_ciclocomputadores-702267.html\n"
     ]
    },
    {
     "name": "stderr",
     "output_type": "stream",
     "text": [
      "100%|██████████| 1/1 [00:01<00:00,  1.20s/it]\n"
     ]
    },
    {
     "name": "stdout",
     "output_type": "stream",
     "text": [
      "Escaneando página 674 de 1012\n",
      "Rastreando: https://www.mediamarkt.es/es/category/_soportes-y-sensores-702268.html\n"
     ]
    },
    {
     "name": "stderr",
     "output_type": "stream",
     "text": [
      "100%|██████████| 1/1 [00:01<00:00,  1.46s/it]\n"
     ]
    },
    {
     "name": "stdout",
     "output_type": "stream",
     "text": [
      "Escaneando página 675 de 1012\n",
      "Rastreando: https://www.mediamarkt.es/es/category/_luces-702269.html\n"
     ]
    },
    {
     "name": "stderr",
     "output_type": "stream",
     "text": [
      "100%|██████████| 1/1 [00:00<00:00,  1.18it/s]\n"
     ]
    },
    {
     "name": "stdout",
     "output_type": "stream",
     "text": [
      "Escaneando página 676 de 1012\n",
      "Rastreando: https://www.mediamarkt.es/es/category/_movilidad-urbana-701335.html\n",
      "Número de páginas: 5\n"
     ]
    },
    {
     "name": "stderr",
     "output_type": "stream",
     "text": [
      "100%|██████████| 5/5 [00:05<00:00,  1.19s/it]\n"
     ]
    },
    {
     "name": "stdout",
     "output_type": "stream",
     "text": [
      "Escaneando página 677 de 1012\n",
      "Rastreando: https://www.mediamarkt.es/es/category/_hoverboards-y-segways-702270.html\n",
      "Número de páginas: 2\n"
     ]
    },
    {
     "name": "stderr",
     "output_type": "stream",
     "text": [
      "100%|██████████| 2/2 [00:02<00:00,  1.40s/it]\n"
     ]
    },
    {
     "name": "stdout",
     "output_type": "stream",
     "text": [
      "Escaneando página 678 de 1012\n",
      "Rastreando: https://www.mediamarkt.es/es/category/_6-5-pulgadas-702665.html\n",
      "Número de páginas: 2\n"
     ]
    },
    {
     "name": "stderr",
     "output_type": "stream",
     "text": [
      "100%|██████████| 2/2 [00:03<00:00,  1.66s/it]\n"
     ]
    },
    {
     "name": "stdout",
     "output_type": "stream",
     "text": [
      "Escaneando página 679 de 1012\n",
      "Rastreando: https://www.mediamarkt.es/es/category/_10-pulgadas-702667.html\n"
     ]
    },
    {
     "name": "stderr",
     "output_type": "stream",
     "text": [
      "100%|██████████| 1/1 [00:00<00:00,  1.03it/s]\n"
     ]
    },
    {
     "name": "stdout",
     "output_type": "stream",
     "text": [
      "Escaneando página 680 de 1012\n",
      "Rastreando: https://www.mediamarkt.es/es/category/_karts-702669.html\n"
     ]
    },
    {
     "name": "stderr",
     "output_type": "stream",
     "text": [
      "100%|██████████| 1/1 [00:01<00:00,  1.12s/it]\n"
     ]
    },
    {
     "name": "stdout",
     "output_type": "stream",
     "text": [
      "Escaneando página 681 de 1012\n",
      "Rastreando: https://www.mediamarkt.es/es/category/_bicicletas-el%C3%A9ctricas-702271.html\n"
     ]
    },
    {
     "name": "stderr",
     "output_type": "stream",
     "text": [
      "100%|██████████| 1/1 [00:02<00:00,  2.17s/it]\n"
     ]
    },
    {
     "name": "stdout",
     "output_type": "stream",
     "text": [
      "Escaneando página 682 de 1012\n",
      "Rastreando: https://www.mediamarkt.es/es/category/_urbanas-702671.html\n"
     ]
    },
    {
     "name": "stderr",
     "output_type": "stream",
     "text": [
      "100%|██████████| 1/1 [00:00<00:00,  1.06it/s]\n"
     ]
    },
    {
     "name": "stdout",
     "output_type": "stream",
     "text": [
      "Escaneando página 683 de 1012\n",
      "Rastreando: https://www.mediamarkt.es/es/category/_patinetes-el%C3%A9ctricos-702272.html\n"
     ]
    },
    {
     "name": "stderr",
     "output_type": "stream",
     "text": [
      "100%|██████████| 1/1 [00:01<00:00,  1.03s/it]\n"
     ]
    },
    {
     "name": "stdout",
     "output_type": "stream",
     "text": [
      "Escaneando página 684 de 1012\n",
      "Rastreando: https://www.mediamarkt.es/es/category/_skates-y-longboards-702273.html\n"
     ]
    },
    {
     "name": "stderr",
     "output_type": "stream",
     "text": [
      "100%|██████████| 1/1 [00:00<00:00,  1.07it/s]\n"
     ]
    },
    {
     "name": "stdout",
     "output_type": "stream",
     "text": [
      "Escaneando página 685 de 1012\n",
      "Rastreando: https://www.mediamarkt.es/es/category/_accesorios-movilidad-urbana-702276.html\n",
      "Número de páginas: 2\n"
     ]
    },
    {
     "name": "stderr",
     "output_type": "stream",
     "text": [
      "100%|██████████| 2/2 [00:02<00:00,  1.37s/it]\n"
     ]
    },
    {
     "name": "stdout",
     "output_type": "stream",
     "text": [
      "Escaneando página 686 de 1012\n",
      "Rastreando: https://www.mediamarkt.es/es/category/_cascos-y-protecciones-702672.html\n"
     ]
    },
    {
     "name": "stderr",
     "output_type": "stream",
     "text": [
      "100%|██████████| 1/1 [00:01<00:00,  1.07s/it]\n"
     ]
    },
    {
     "name": "stdout",
     "output_type": "stream",
     "text": [
      "Escaneando página 687 de 1012\n",
      "Rastreando: https://www.mediamarkt.es/es/category/_recambios-outdoor-702673.html\n"
     ]
    },
    {
     "name": "stderr",
     "output_type": "stream",
     "text": [
      "100%|██████████| 1/1 [00:01<00:00,  1.55s/it]\n"
     ]
    },
    {
     "name": "stdout",
     "output_type": "stream",
     "text": [
      "Escaneando página 688 de 1012\n",
      "Rastreando: https://www.mediamarkt.es/es/category/_fundas-accesorios-deportivos-702674.html\n",
      "Número de páginas: 2\n"
     ]
    },
    {
     "name": "stderr",
     "output_type": "stream",
     "text": [
      "100%|██████████| 2/2 [00:02<00:00,  1.60s/it]\n"
     ]
    },
    {
     "name": "stdout",
     "output_type": "stream",
     "text": [
      "Escaneando página 689 de 1012\n",
      "Rastreando: https://www.mediamarkt.es/es/category/_auriculares-outdoor-701336.html\n",
      "Número de páginas: 9\n"
     ]
    },
    {
     "name": "stderr",
     "output_type": "stream",
     "text": [
      "100%|██████████| 9/9 [00:16<00:00,  1.80s/it]\n"
     ]
    },
    {
     "name": "stdout",
     "output_type": "stream",
     "text": [
      "Escaneando página 690 de 1012\n",
      "Rastreando: https://www.mediamarkt.es/es/category/_accesorios-deporte-y-outdoor-701337.html\n",
      "Número de páginas: 8\n"
     ]
    },
    {
     "name": "stderr",
     "output_type": "stream",
     "text": [
      "100%|██████████| 8/8 [00:12<00:00,  1.41s/it]\n"
     ]
    },
    {
     "name": "stdout",
     "output_type": "stream",
     "text": [
      "Escaneando página 691 de 1012\n",
      "Rastreando: https://www.mediamarkt.es/es/category/_walkie-talkie-702277.html\n"
     ]
    },
    {
     "name": "stderr",
     "output_type": "stream",
     "text": [
      "100%|██████████| 1/1 [00:01<00:00,  1.15s/it]\n"
     ]
    },
    {
     "name": "stdout",
     "output_type": "stream",
     "text": [
      "Escaneando página 692 de 1012\n",
      "Rastreando: https://www.mediamarkt.es/es/category/_correas-y-recambios-702278.html\n",
      "Número de páginas: 3\n"
     ]
    },
    {
     "name": "stderr",
     "output_type": "stream",
     "text": [
      "100%|██████████| 3/3 [00:04<00:00,  1.36s/it]\n"
     ]
    },
    {
     "name": "stdout",
     "output_type": "stream",
     "text": [
      "Escaneando página 693 de 1012\n",
      "Rastreando: https://www.mediamarkt.es/es/category/_navajas-y-multiusos-702279.html\n",
      "Número de páginas: 2\n"
     ]
    },
    {
     "name": "stderr",
     "output_type": "stream",
     "text": [
      "100%|██████████| 2/2 [00:03<00:00,  1.73s/it]\n"
     ]
    },
    {
     "name": "stdout",
     "output_type": "stream",
     "text": [
      "Escaneando página 694 de 1012\n",
      "Rastreando: https://www.mediamarkt.es/es/category/_iluminaci%C3%B3n-y-linternas-702280.html\n",
      "Número de páginas: 3\n"
     ]
    },
    {
     "name": "stderr",
     "output_type": "stream",
     "text": [
      "100%|██████████| 3/3 [00:04<00:00,  1.50s/it]\n"
     ]
    },
    {
     "name": "stdout",
     "output_type": "stream",
     "text": [
      "Escaneando página 695 de 1012\n",
      "Rastreando: https://www.mediamarkt.es/es/category/_bidones-y-vasos-t%C3%A9rmicos-702281.html\n"
     ]
    },
    {
     "name": "stderr",
     "output_type": "stream",
     "text": [
      "100%|██████████| 1/1 [00:01<00:00,  1.07s/it]\n"
     ]
    },
    {
     "name": "stdout",
     "output_type": "stream",
     "text": [
      "Escaneando página 696 de 1012\n",
      "Rastreando: https://www.mediamarkt.es/es/category/_cine-m%C3%BAsica-y-libros-701148.html\n"
     ]
    },
    {
     "name": "stderr",
     "output_type": "stream",
     "text": [
      "100%|██████████| 1/1 [00:00<00:00,  1.17it/s]\n"
     ]
    },
    {
     "name": "stdout",
     "output_type": "stream",
     "text": [
      "Escaneando página 697 de 1012\n",
      "Rastreando: https://www.mediamarkt.es/es/category/_pr%C3%B3ximos-lanzamientos-cine-y-m%C3%BAsica-701349.html\n",
      "Número de páginas: 9\n"
     ]
    },
    {
     "name": "stderr",
     "output_type": "stream",
     "text": [
      "100%|██████████| 9/9 [00:15<00:00,  1.57s/it]\n"
     ]
    },
    {
     "name": "stdout",
     "output_type": "stream",
     "text": [
      "Escaneando página 698 de 1012\n",
      "Rastreando: https://www.mediamarkt.es/es/category/_cine-701350.html\n",
      "Número de páginas: 154\n"
     ]
    },
    {
     "name": "stderr",
     "output_type": "stream",
     "text": [
      "100%|██████████| 154/154 [04:03<00:00,  1.84s/it]\n"
     ]
    },
    {
     "name": "stdout",
     "output_type": "stream",
     "text": [
      "Escaneando página 699 de 1012\n",
      "Rastreando: https://www.mediamarkt.es/es/category/_pel%C3%ADculas-702357.html\n",
      "Número de páginas: 148\n"
     ]
    },
    {
     "name": "stderr",
     "output_type": "stream",
     "text": [
      "100%|██████████| 148/148 [04:03<00:00,  4.19s/it]\n"
     ]
    },
    {
     "name": "stdout",
     "output_type": "stream",
     "text": [
      "Escaneando página 700 de 1012\n",
      "Rastreando: https://www.mediamarkt.es/es/category/_packs-702359.html\n",
      "Número de páginas: 9\n"
     ]
    },
    {
     "name": "stderr",
     "output_type": "stream",
     "text": [
      "100%|██████████| 9/9 [00:13<00:00,  1.39s/it]\n"
     ]
    },
    {
     "name": "stdout",
     "output_type": "stream",
     "text": [
      "Escaneando página 701 de 1012\n",
      "Rastreando: https://www.mediamarkt.es/es/category/_series-tv-701351.html\n",
      "Número de páginas: 19\n"
     ]
    },
    {
     "name": "stderr",
     "output_type": "stream",
     "text": [
      "100%|██████████| 19/19 [00:31<00:00,  1.56s/it]\n"
     ]
    },
    {
     "name": "stdout",
     "output_type": "stream",
     "text": [
      "Escaneando página 702 de 1012\n",
      "Rastreando: https://www.mediamarkt.es/es/category/_m%C3%BAsica-701352.html\n",
      "Número de páginas: 73\n"
     ]
    },
    {
     "name": "stderr",
     "output_type": "stream",
     "text": [
      "100%|██████████| 73/73 [02:02<00:00,  1.27s/it]\n"
     ]
    },
    {
     "name": "stdout",
     "output_type": "stream",
     "text": [
      "Escaneando página 703 de 1012\n",
      "Rastreando: https://www.mediamarkt.es/es/category/_m%C3%BAsica-internacional-702360.html\n",
      "Número de páginas: 18\n"
     ]
    },
    {
     "name": "stderr",
     "output_type": "stream",
     "text": [
      "100%|██████████| 18/18 [00:27<00:00,  1.50s/it]\n"
     ]
    },
    {
     "name": "stdout",
     "output_type": "stream",
     "text": [
      "Escaneando página 704 de 1012\n",
      "Rastreando: https://www.mediamarkt.es/es/category/_m%C3%BAsica-nacional-702361.html\n",
      "Número de páginas: 33\n"
     ]
    },
    {
     "name": "stderr",
     "output_type": "stream",
     "text": [
      "100%|██████████| 33/33 [00:50<00:00,  1.33s/it]\n"
     ]
    },
    {
     "name": "stdout",
     "output_type": "stream",
     "text": [
      "Escaneando página 705 de 1012\n",
      "Rastreando: https://www.mediamarkt.es/es/category/_dance-electr%C3%B3nica-702362.html\n",
      "Número de páginas: 3\n"
     ]
    },
    {
     "name": "stderr",
     "output_type": "stream",
     "text": [
      "100%|██████████| 3/3 [00:11<00:00,  3.76s/it]\n"
     ]
    },
    {
     "name": "stdout",
     "output_type": "stream",
     "text": [
      "Escaneando página 706 de 1012\n",
      "Rastreando: https://www.mediamarkt.es/es/category/_soul-hip-hop-r-b-702363.html\n",
      "Número de páginas: 3\n"
     ]
    },
    {
     "name": "stderr",
     "output_type": "stream",
     "text": [
      "100%|██████████| 3/3 [00:05<00:00,  1.56s/it]\n"
     ]
    },
    {
     "name": "stdout",
     "output_type": "stream",
     "text": [
      "Escaneando página 707 de 1012\n",
      "Rastreando: https://www.mediamarkt.es/es/category/_flamenco-702364.html\n",
      "Número de páginas: 4\n"
     ]
    },
    {
     "name": "stderr",
     "output_type": "stream",
     "text": [
      "100%|██████████| 4/4 [00:06<00:00,  1.66s/it]\n"
     ]
    },
    {
     "name": "stdout",
     "output_type": "stream",
     "text": [
      "Escaneando página 708 de 1012\n",
      "Rastreando: https://www.mediamarkt.es/es/category/_m%C3%BAsicas-del-mundo-702365.html\n",
      "Número de páginas: 2\n"
     ]
    },
    {
     "name": "stderr",
     "output_type": "stream",
     "text": [
      "100%|██████████| 2/2 [00:02<00:00,  1.11s/it]\n"
     ]
    },
    {
     "name": "stdout",
     "output_type": "stream",
     "text": [
      "Escaneando página 709 de 1012\n",
      "Rastreando: https://www.mediamarkt.es/es/category/_bandas-sonoras-e-infantil-702366.html\n",
      "Número de páginas: 2\n"
     ]
    },
    {
     "name": "stderr",
     "output_type": "stream",
     "text": [
      "100%|██████████| 2/2 [00:02<00:00,  1.18s/it]\n"
     ]
    },
    {
     "name": "stdout",
     "output_type": "stream",
     "text": [
      "Escaneando página 710 de 1012\n",
      "Rastreando: https://www.mediamarkt.es/es/category/_jazz-y-cl%C3%A1sica-702367.html\n",
      "Número de páginas: 4\n"
     ]
    },
    {
     "name": "stderr",
     "output_type": "stream",
     "text": [
      "100%|██████████| 4/4 [00:06<00:00,  1.61s/it]\n"
     ]
    },
    {
     "name": "stdout",
     "output_type": "stream",
     "text": [
      "Escaneando página 711 de 1012\n",
      "Rastreando: https://www.mediamarkt.es/es/category/_libros-701353.html\n",
      "Número de páginas: 24\n"
     ]
    },
    {
     "name": "stderr",
     "output_type": "stream",
     "text": [
      "100%|██████████| 24/24 [00:43<00:00,  1.58s/it]\n"
     ]
    },
    {
     "name": "stdout",
     "output_type": "stream",
     "text": [
      "Escaneando página 712 de 1012\n",
      "Rastreando: https://www.mediamarkt.es/es/category/_narrativa-702368.html\n",
      "Número de páginas: 4\n"
     ]
    },
    {
     "name": "stderr",
     "output_type": "stream",
     "text": [
      "100%|██████████| 4/4 [00:06<00:00,  1.49s/it]\n"
     ]
    },
    {
     "name": "stdout",
     "output_type": "stream",
     "text": [
      "Escaneando página 713 de 1012\n",
      "Rastreando: https://www.mediamarkt.es/es/category/_novela-rom%C3%A1ntica-702369.html\n"
     ]
    },
    {
     "name": "stderr",
     "output_type": "stream",
     "text": [
      "100%|██████████| 1/1 [00:01<00:00,  1.25s/it]\n"
     ]
    },
    {
     "name": "stdout",
     "output_type": "stream",
     "text": [
      "Escaneando página 714 de 1012\n",
      "Rastreando: https://www.mediamarkt.es/es/category/_novela-hist%C3%B3rica-702370.html\n"
     ]
    },
    {
     "name": "stderr",
     "output_type": "stream",
     "text": [
      "100%|██████████| 1/1 [00:01<00:00,  1.19s/it]\n"
     ]
    },
    {
     "name": "stdout",
     "output_type": "stream",
     "text": [
      "Escaneando página 715 de 1012\n",
      "Rastreando: https://www.mediamarkt.es/es/category/_novela-negra-y-polic%C3%ADaca-702371.html\n",
      "Número de páginas: 2\n"
     ]
    },
    {
     "name": "stderr",
     "output_type": "stream",
     "text": [
      "100%|██████████| 2/2 [00:02<00:00,  1.55s/it]\n"
     ]
    },
    {
     "name": "stdout",
     "output_type": "stream",
     "text": [
      "Escaneando página 716 de 1012\n",
      "Rastreando: https://www.mediamarkt.es/es/category/_novela-fant%C3%A1stica-702372.html\n"
     ]
    },
    {
     "name": "stderr",
     "output_type": "stream",
     "text": [
      "100%|██████████| 1/1 [00:01<00:00,  1.51s/it]\n"
     ]
    },
    {
     "name": "stdout",
     "output_type": "stream",
     "text": [
      "Escaneando página 717 de 1012\n",
      "Rastreando: https://www.mediamarkt.es/es/category/_biograf%C3%ADas-y-memorias-702373.html\n"
     ]
    },
    {
     "name": "stderr",
     "output_type": "stream",
     "text": [
      "100%|██████████| 1/1 [00:01<00:00,  1.05s/it]\n"
     ]
    },
    {
     "name": "stdout",
     "output_type": "stream",
     "text": [
      "Escaneando página 718 de 1012\n",
      "Rastreando: https://www.mediamarkt.es/es/category/_ense%C3%B1anza-y-diccionarios-702374.html\n"
     ]
    },
    {
     "name": "stderr",
     "output_type": "stream",
     "text": [
      "100%|██████████| 1/1 [00:01<00:00,  1.34s/it]\n"
     ]
    },
    {
     "name": "stdout",
     "output_type": "stream",
     "text": [
      "Escaneando página 719 de 1012\n",
      "Rastreando: https://www.mediamarkt.es/es/category/_infantil-y-juvenil-702375.html\n",
      "Número de páginas: 7\n"
     ]
    },
    {
     "name": "stderr",
     "output_type": "stream",
     "text": [
      "100%|██████████| 7/7 [00:12<00:00,  1.94s/it]\n"
     ]
    },
    {
     "name": "stdout",
     "output_type": "stream",
     "text": [
      "Escaneando página 720 de 1012\n",
      "Rastreando: https://www.mediamarkt.es/es/category/_salud-bienestar-y-dietas-702376.html\n"
     ]
    },
    {
     "name": "stderr",
     "output_type": "stream",
     "text": [
      "100%|██████████| 1/1 [00:01<00:00,  1.30s/it]\n"
     ]
    },
    {
     "name": "stdout",
     "output_type": "stream",
     "text": [
      "Escaneando página 721 de 1012\n",
      "Rastreando: https://www.mediamarkt.es/es/category/_autoayuda-702377.html\n"
     ]
    },
    {
     "name": "stderr",
     "output_type": "stream",
     "text": [
      "100%|██████████| 1/1 [00:01<00:00,  1.29s/it]\n"
     ]
    },
    {
     "name": "stdout",
     "output_type": "stream",
     "text": [
      "Escaneando página 722 de 1012\n",
      "Rastreando: https://www.mediamarkt.es/es/category/_bolsillo-702378.html\n",
      "Número de páginas: 2\n"
     ]
    },
    {
     "name": "stderr",
     "output_type": "stream",
     "text": [
      "100%|██████████| 2/2 [00:02<00:00,  1.40s/it]\n"
     ]
    },
    {
     "name": "stdout",
     "output_type": "stream",
     "text": [
      "Escaneando página 723 de 1012\n",
      "Rastreando: https://www.mediamarkt.es/es/category/_libros-de-cocina-702379.html\n",
      "Número de páginas: 3\n"
     ]
    },
    {
     "name": "stderr",
     "output_type": "stream",
     "text": [
      "100%|██████████| 3/3 [00:04<00:00,  1.47s/it]\n"
     ]
    },
    {
     "name": "stdout",
     "output_type": "stream",
     "text": [
      "Escaneando página 724 de 1012\n",
      "Rastreando: https://www.mediamarkt.es/es/category/_gu%C3%ADas-de-viaje-702380.html\n",
      "Número de páginas: 4\n"
     ]
    },
    {
     "name": "stderr",
     "output_type": "stream",
     "text": [
      "100%|██████████| 4/4 [00:06<00:00,  1.68s/it]\n"
     ]
    },
    {
     "name": "stdout",
     "output_type": "stream",
     "text": [
      "Escaneando página 725 de 1012\n",
      "Rastreando: https://www.mediamarkt.es/es/category/_am%C3%A9rica-del-norte-y-central-702767.html\n"
     ]
    },
    {
     "name": "stderr",
     "output_type": "stream",
     "text": [
      "100%|██████████| 1/1 [00:01<00:00,  1.19s/it]\n"
     ]
    },
    {
     "name": "stdout",
     "output_type": "stream",
     "text": [
      "Escaneando página 726 de 1012\n",
      "Rastreando: https://www.mediamarkt.es/es/category/_am%C3%A9rica-del-sur-702768.html\n"
     ]
    },
    {
     "name": "stderr",
     "output_type": "stream",
     "text": [
      "100%|██████████| 1/1 [00:01<00:00,  1.04s/it]\n"
     ]
    },
    {
     "name": "stdout",
     "output_type": "stream",
     "text": [
      "Escaneando página 727 de 1012\n",
      "Rastreando: https://www.mediamarkt.es/es/category/_europa-702769.html\n",
      "Número de páginas: 3\n"
     ]
    },
    {
     "name": "stderr",
     "output_type": "stream",
     "text": [
      "100%|██████████| 3/3 [00:04<00:00,  1.40s/it]\n"
     ]
    },
    {
     "name": "stdout",
     "output_type": "stream",
     "text": [
      "Escaneando página 728 de 1012\n",
      "Rastreando: https://www.mediamarkt.es/es/category/_asia-702770.html\n"
     ]
    },
    {
     "name": "stderr",
     "output_type": "stream",
     "text": [
      "100%|██████████| 1/1 [00:00<00:00,  1.01it/s]\n"
     ]
    },
    {
     "name": "stdout",
     "output_type": "stream",
     "text": [
      "Escaneando página 729 de 1012\n",
      "Rastreando: https://www.mediamarkt.es/es/category/_ocean%C3%ADa-702771.html\n"
     ]
    },
    {
     "name": "stderr",
     "output_type": "stream",
     "text": [
      "100%|██████████| 1/1 [00:00<00:00,  1.03it/s]\n"
     ]
    },
    {
     "name": "stdout",
     "output_type": "stream",
     "text": [
      "Escaneando página 730 de 1012\n",
      "Rastreando: https://www.mediamarkt.es/es/category/_%C3%A1frica-702772.html\n"
     ]
    },
    {
     "name": "stderr",
     "output_type": "stream",
     "text": [
      "100%|██████████| 1/1 [00:00<00:00,  1.21it/s]\n"
     ]
    },
    {
     "name": "stdout",
     "output_type": "stream",
     "text": [
      "Escaneando página 731 de 1012\n",
      "Rastreando: https://www.mediamarkt.es/es/category/_comics-702381.html\n"
     ]
    },
    {
     "name": "stderr",
     "output_type": "stream",
     "text": [
      "100%|██████████| 1/1 [00:01<00:00,  1.46s/it]\n"
     ]
    },
    {
     "name": "stdout",
     "output_type": "stream",
     "text": [
      "Escaneando página 732 de 1012\n",
      "Rastreando: https://www.mediamarkt.es/es/category/_negocio-y-oficina-701119.html\n"
     ]
    },
    {
     "name": "stderr",
     "output_type": "stream",
     "text": [
      "100%|██████████| 1/1 [00:00<00:00,  1.17it/s]\n"
     ]
    },
    {
     "name": "stdout",
     "output_type": "stream",
     "text": [
      "Escaneando página 733 de 1012\n",
      "Rastreando: https://www.mediamarkt.es/es/category/_telefon%C3%ADa-fija-701149.html\n"
     ]
    },
    {
     "name": "stderr",
     "output_type": "stream",
     "text": [
      "100%|██████████| 1/1 [00:00<00:00,  1.17it/s]\n"
     ]
    },
    {
     "name": "stdout",
     "output_type": "stream",
     "text": [
      "Escaneando página 734 de 1012\n",
      "Rastreando: https://www.mediamarkt.es/es/category/_tel%C3%A9fonos-fijos-inal%C3%A1mbricos-701355.html\n",
      "Número de páginas: 7\n"
     ]
    },
    {
     "name": "stderr",
     "output_type": "stream",
     "text": [
      "100%|██████████| 7/7 [00:09<00:00,  1.31s/it]\n"
     ]
    },
    {
     "name": "stdout",
     "output_type": "stream",
     "text": [
      "Escaneando página 735 de 1012\n",
      "Rastreando: https://www.mediamarkt.es/es/category/_tel%C3%A9fonos-fijos-701356.html\n",
      "Número de páginas: 2\n"
     ]
    },
    {
     "name": "stderr",
     "output_type": "stream",
     "text": [
      "100%|██████████| 2/2 [00:02<00:00,  1.06s/it]\n"
     ]
    },
    {
     "name": "stdout",
     "output_type": "stream",
     "text": [
      "Escaneando página 736 de 1012\n",
      "Rastreando: https://www.mediamarkt.es/es/category/_faxes-701359.html\n"
     ]
    },
    {
     "name": "stderr",
     "output_type": "stream",
     "text": [
      "100%|██████████| 1/1 [00:01<00:00,  1.03s/it]\n"
     ]
    },
    {
     "name": "stdout",
     "output_type": "stream",
     "text": [
      "Escaneando página 737 de 1012\n",
      "Rastreando: https://www.mediamarkt.es/es/category/_walkie-talkie-701360.html\n"
     ]
    },
    {
     "name": "stderr",
     "output_type": "stream",
     "text": [
      "100%|██████████| 1/1 [00:01<00:00,  1.11s/it]\n"
     ]
    },
    {
     "name": "stdout",
     "output_type": "stream",
     "text": [
      "Escaneando página 738 de 1012\n",
      "Rastreando: https://www.mediamarkt.es/es/category/_accesorios-telefon%C3%ADa-fija-701358.html\n"
     ]
    },
    {
     "name": "stderr",
     "output_type": "stream",
     "text": [
      "100%|██████████| 1/1 [00:00<00:00,  1.05it/s]\n"
     ]
    },
    {
     "name": "stdout",
     "output_type": "stream",
     "text": [
      "Escaneando página 739 de 1012\n",
      "Rastreando: https://www.mediamarkt.es/es/category/_negocio-701150.html\n",
      "Número de páginas: 3\n"
     ]
    },
    {
     "name": "stderr",
     "output_type": "stream",
     "text": [
      "100%|██████████| 3/3 [00:04<00:00,  1.64s/it]\n"
     ]
    },
    {
     "name": "stdout",
     "output_type": "stream",
     "text": [
      "Escaneando página 740 de 1012\n",
      "Rastreando: https://www.mediamarkt.es/es/category/_impresoras-de-etiquetas-701363.html\n",
      "Número de páginas: 2\n"
     ]
    },
    {
     "name": "stderr",
     "output_type": "stream",
     "text": [
      "100%|██████████| 2/2 [00:02<00:00,  1.37s/it]\n"
     ]
    },
    {
     "name": "stdout",
     "output_type": "stream",
     "text": [
      "Escaneando página 741 de 1012\n",
      "Rastreando: https://www.mediamarkt.es/es/category/_destructoras-701364.html\n"
     ]
    },
    {
     "name": "stderr",
     "output_type": "stream",
     "text": [
      "100%|██████████| 1/1 [00:01<00:00,  1.23s/it]\n"
     ]
    },
    {
     "name": "stdout",
     "output_type": "stream",
     "text": [
      "Escaneando página 742 de 1012\n",
      "Rastreando: https://www.mediamarkt.es/es/category/_pantallas-y-visores-701367.html\n"
     ]
    },
    {
     "name": "stderr",
     "output_type": "stream",
     "text": [
      "100%|██████████| 1/1 [00:01<00:00,  1.41s/it]\n"
     ]
    },
    {
     "name": "stdout",
     "output_type": "stream",
     "text": [
      "Escaneando página 743 de 1012\n",
      "Rastreando: https://www.mediamarkt.es/es/category/_impresoras-l%C3%A1ser-701368.html\n"
     ]
    },
    {
     "name": "stderr",
     "output_type": "stream",
     "text": [
      "100%|██████████| 1/1 [00:00<00:00,  1.00it/s]\n"
     ]
    },
    {
     "name": "stdout",
     "output_type": "stream",
     "text": [
      "Escaneando página 744 de 1012\n",
      "Rastreando: https://www.mediamarkt.es/es/category/_impresoras-multifunci%C3%B3n-701369.html\n"
     ]
    },
    {
     "name": "stderr",
     "output_type": "stream",
     "text": [
      "100%|██████████| 1/1 [00:01<00:00,  1.19s/it]\n"
     ]
    },
    {
     "name": "stdout",
     "output_type": "stream",
     "text": [
      "Escaneando página 745 de 1012\n",
      "Rastreando: https://www.mediamarkt.es/es/category/_oficina-y-papeler%C3%ADa-701151.html\n"
     ]
    },
    {
     "name": "stderr",
     "output_type": "stream",
     "text": [
      "100%|██████████| 1/1 [00:01<00:00,  1.01s/it]\n"
     ]
    },
    {
     "name": "stdout",
     "output_type": "stream",
     "text": [
      "Escaneando página 746 de 1012\n",
      "Rastreando: https://www.mediamarkt.es/es/category/_calculadoras-701371.html\n"
     ]
    },
    {
     "name": "stderr",
     "output_type": "stream",
     "text": [
      "100%|██████████| 1/1 [00:01<00:00,  1.64s/it]\n"
     ]
    },
    {
     "name": "stdout",
     "output_type": "stream",
     "text": [
      "Escaneando página 747 de 1012\n",
      "Rastreando: https://www.mediamarkt.es/es/category/_grabadoras-y-traductoras-701370.html\n"
     ]
    },
    {
     "name": "stderr",
     "output_type": "stream",
     "text": [
      "100%|██████████| 1/1 [00:02<00:00,  2.47s/it]\n"
     ]
    },
    {
     "name": "stdout",
     "output_type": "stream",
     "text": [
      "Escaneando página 748 de 1012\n",
      "Rastreando: https://www.mediamarkt.es/es/category/_plastificadoras-701372.html\n"
     ]
    },
    {
     "name": "stderr",
     "output_type": "stream",
     "text": [
      "100%|██████████| 1/1 [00:01<00:00,  1.54s/it]\n"
     ]
    },
    {
     "name": "stdout",
     "output_type": "stream",
     "text": [
      "Escaneando página 749 de 1012\n",
      "Rastreando: https://www.mediamarkt.es/es/category/_papeler%C3%ADa-y-material-escolar-701373.html\n"
     ]
    },
    {
     "name": "stderr",
     "output_type": "stream",
     "text": [
      "100%|██████████| 1/1 [00:02<00:00,  2.48s/it]\n"
     ]
    },
    {
     "name": "stdout",
     "output_type": "stream",
     "text": [
      "Escaneando página 750 de 1012\n",
      "Rastreando: https://www.mediamarkt.es/es/category/_mochilas-y-estuches-701374.html\n"
     ]
    },
    {
     "name": "stderr",
     "output_type": "stream",
     "text": [
      "100%|██████████| 1/1 [00:00<00:00,  1.10it/s]\n"
     ]
    },
    {
     "name": "stdout",
     "output_type": "stream",
     "text": [
      "Escaneando página 751 de 1012\n",
      "Rastreando: https://www.mediamarkt.es/es/category/_inform%C3%A1tica-701127.html\n"
     ]
    },
    {
     "name": "stderr",
     "output_type": "stream",
     "text": [
      "100%|██████████| 1/1 [00:00<00:00,  1.11it/s]\n"
     ]
    },
    {
     "name": "stdout",
     "output_type": "stream",
     "text": [
      "Escaneando página 752 de 1012\n",
      "Rastreando: https://www.mediamarkt.es/es/category/_port%C3%A1tiles-701175.html\n"
     ]
    },
    {
     "name": "stderr",
     "output_type": "stream",
     "text": [
      "100%|██████████| 1/1 [00:00<00:00,  1.18it/s]\n"
     ]
    },
    {
     "name": "stdout",
     "output_type": "stream",
     "text": [
      "Escaneando página 753 de 1012\n",
      "Rastreando: https://www.mediamarkt.es/es/category/_todos-los-port%C3%A1tiles-701420.html\n",
      "Número de páginas: 9\n"
     ]
    },
    {
     "name": "stderr",
     "output_type": "stream",
     "text": [
      "100%|██████████| 9/9 [00:09<00:00,  1.02it/s]\n"
     ]
    },
    {
     "name": "stdout",
     "output_type": "stream",
     "text": [
      "Escaneando página 754 de 1012\n",
      "Rastreando: https://www.mediamarkt.es/es/category/_convertibles-2-en-1-701426.html\n",
      "Número de páginas: 2\n"
     ]
    },
    {
     "name": "stderr",
     "output_type": "stream",
     "text": [
      "100%|██████████| 2/2 [00:02<00:00,  1.23s/it]\n"
     ]
    },
    {
     "name": "stdout",
     "output_type": "stream",
     "text": [
      "Escaneando página 755 de 1012\n",
      "Rastreando: https://www.mediamarkt.es/es/category/_port%C3%A1tiles-de-14-a-16-9-701422.html\n",
      "Número de páginas: 8\n"
     ]
    },
    {
     "name": "stderr",
     "output_type": "stream",
     "text": [
      "100%|██████████| 8/8 [00:07<00:00,  1.05it/s]\n"
     ]
    },
    {
     "name": "stdout",
     "output_type": "stream",
     "text": [
      "Escaneando página 756 de 1012\n",
      "Rastreando: https://www.mediamarkt.es/es/category/_port%C3%A1tiles-gaming-701424.html\n",
      "Número de páginas: 5\n"
     ]
    },
    {
     "name": "stderr",
     "output_type": "stream",
     "text": [
      "100%|██████████| 5/5 [00:06<00:00,  1.34s/it]\n"
     ]
    },
    {
     "name": "stdout",
     "output_type": "stream",
     "text": [
      "Escaneando página 757 de 1012\n",
      "Rastreando: https://www.mediamarkt.es/es/category/_port%C3%A1tiles-de-menos-de-14-701421.html\n",
      "Número de páginas: 4\n"
     ]
    },
    {
     "name": "stderr",
     "output_type": "stream",
     "text": [
      "100%|██████████| 4/4 [00:03<00:00,  1.01it/s]\n"
     ]
    },
    {
     "name": "stdout",
     "output_type": "stream",
     "text": [
      "Escaneando página 758 de 1012\n",
      "Rastreando: https://www.mediamarkt.es/es/category/_port%C3%A1tiles-desde-17-701423.html\n"
     ]
    },
    {
     "name": "stderr",
     "output_type": "stream",
     "text": [
      "100%|██████████| 1/1 [00:01<00:00,  1.42s/it]\n"
     ]
    },
    {
     "name": "stdout",
     "output_type": "stream",
     "text": [
      "Escaneando página 759 de 1012\n",
      "Rastreando: https://www.mediamarkt.es/es/category/_port%C3%A1tiles-t%C3%A1ctiles-701425.html\n"
     ]
    },
    {
     "name": "stderr",
     "output_type": "stream",
     "text": [
      "100%|██████████| 1/1 [00:00<00:00,  1.01it/s]\n"
     ]
    },
    {
     "name": "stdout",
     "output_type": "stream",
     "text": [
      "Escaneando página 760 de 1012\n",
      "Rastreando: https://www.mediamarkt.es/es/category/_pc-sobremesa-701176.html\n"
     ]
    },
    {
     "name": "stderr",
     "output_type": "stream",
     "text": [
      "100%|██████████| 1/1 [00:01<00:00,  1.45s/it]\n"
     ]
    },
    {
     "name": "stdout",
     "output_type": "stream",
     "text": [
      "Escaneando página 761 de 1012\n",
      "Rastreando: https://www.mediamarkt.es/es/category/_ordenadores-701427.html\n",
      "Número de páginas: 2\n"
     ]
    },
    {
     "name": "stderr",
     "output_type": "stream",
     "text": [
      "100%|██████████| 2/2 [00:02<00:00,  1.07s/it]\n"
     ]
    },
    {
     "name": "stdout",
     "output_type": "stream",
     "text": [
      "Escaneando página 762 de 1012\n",
      "Rastreando: https://www.mediamarkt.es/es/category/_pc-gaming-701428.html\n",
      "Número de páginas: 2\n"
     ]
    },
    {
     "name": "stderr",
     "output_type": "stream",
     "text": [
      "100%|██████████| 2/2 [00:02<00:00,  1.59s/it]\n"
     ]
    },
    {
     "name": "stdout",
     "output_type": "stream",
     "text": [
      "Escaneando página 763 de 1012\n",
      "Rastreando: https://www.mediamarkt.es/es/category/_all-in-one-701430.html\n",
      "Número de páginas: 2\n"
     ]
    },
    {
     "name": "stderr",
     "output_type": "stream",
     "text": [
      "100%|██████████| 2/2 [00:02<00:00,  1.06s/it]\n"
     ]
    },
    {
     "name": "stdout",
     "output_type": "stream",
     "text": [
      "Escaneando página 764 de 1012\n",
      "Rastreando: https://www.mediamarkt.es/es/category/_mini-pc-701431.html\n"
     ]
    },
    {
     "name": "stderr",
     "output_type": "stream",
     "text": [
      "100%|██████████| 1/1 [00:00<00:00,  1.08it/s]\n"
     ]
    },
    {
     "name": "stdout",
     "output_type": "stream",
     "text": [
      "Escaneando página 765 de 1012\n",
      "Rastreando: https://www.mediamarkt.es/es/category/_raspberry-pi-701432.html\n"
     ]
    },
    {
     "name": "stderr",
     "output_type": "stream",
     "text": [
      "100%|██████████| 1/1 [00:01<00:00,  1.05s/it]\n"
     ]
    },
    {
     "name": "stdout",
     "output_type": "stream",
     "text": [
      "Escaneando página 766 de 1012\n",
      "Rastreando: https://www.mediamarkt.es/es/category/_tablets-701178.html\n"
     ]
    },
    {
     "name": "stderr",
     "output_type": "stream",
     "text": [
      "100%|██████████| 1/1 [00:00<00:00,  1.15it/s]\n"
     ]
    },
    {
     "name": "stdout",
     "output_type": "stream",
     "text": [
      "Escaneando página 767 de 1012\n",
      "Rastreando: https://www.mediamarkt.es/es/category/_todas-las-tablets-701433.html\n",
      "Número de páginas: 5\n"
     ]
    },
    {
     "name": "stderr",
     "output_type": "stream",
     "text": [
      "100%|██████████| 5/5 [00:06<00:00,  1.27s/it]\n"
     ]
    },
    {
     "name": "stdout",
     "output_type": "stream",
     "text": [
      "Escaneando página 768 de 1012\n",
      "Rastreando: https://www.mediamarkt.es/es/category/_tablets-android-701434.html\n",
      "Número de páginas: 4\n"
     ]
    },
    {
     "name": "stderr",
     "output_type": "stream",
     "text": [
      "100%|██████████| 4/4 [00:04<00:00,  1.11s/it]\n"
     ]
    },
    {
     "name": "stdout",
     "output_type": "stream",
     "text": [
      "Escaneando página 769 de 1012\n",
      "Rastreando: https://www.mediamarkt.es/es/category/_tablets-ios-701435.html\n",
      "Número de páginas: 4\n"
     ]
    },
    {
     "name": "stderr",
     "output_type": "stream",
     "text": [
      "100%|██████████| 4/4 [00:05<00:00,  1.25s/it]\n"
     ]
    },
    {
     "name": "stdout",
     "output_type": "stream",
     "text": [
      "Escaneando página 770 de 1012\n",
      "Rastreando: https://www.mediamarkt.es/es/category/_ipad-702491.html\n"
     ]
    },
    {
     "name": "stderr",
     "output_type": "stream",
     "text": [
      "100%|██████████| 1/1 [00:01<00:00,  1.05s/it]\n"
     ]
    },
    {
     "name": "stdout",
     "output_type": "stream",
     "text": [
      "Escaneando página 771 de 1012\n",
      "Rastreando: https://www.mediamarkt.es/es/category/_ipad-mini-4-702492.html\n"
     ]
    },
    {
     "name": "stderr",
     "output_type": "stream",
     "text": [
      "100%|██████████| 1/1 [00:01<00:00,  1.06s/it]\n"
     ]
    },
    {
     "name": "stdout",
     "output_type": "stream",
     "text": [
      "Escaneando página 772 de 1012\n",
      "Rastreando: https://www.mediamarkt.es/es/category/_ipad-pro-702493.html\n",
      "Número de páginas: 2\n"
     ]
    },
    {
     "name": "stderr",
     "output_type": "stream",
     "text": [
      "100%|██████████| 2/2 [00:01<00:00,  1.02it/s]\n"
     ]
    },
    {
     "name": "stdout",
     "output_type": "stream",
     "text": [
      "Escaneando página 773 de 1012\n",
      "Rastreando: https://www.mediamarkt.es/es/category/_monitores-701179.html\n"
     ]
    },
    {
     "name": "stderr",
     "output_type": "stream",
     "text": [
      "100%|██████████| 1/1 [00:01<00:00,  1.54s/it]\n"
     ]
    },
    {
     "name": "stdout",
     "output_type": "stream",
     "text": [
      "Escaneando página 774 de 1012\n",
      "Rastreando: https://www.mediamarkt.es/es/category/_monitor-hasta-18-9-701439.html\n"
     ]
    },
    {
     "name": "stderr",
     "output_type": "stream",
     "text": [
      "100%|██████████| 1/1 [00:01<00:00,  1.15s/it]\n"
     ]
    },
    {
     "name": "stdout",
     "output_type": "stream",
     "text": [
      "Escaneando página 775 de 1012\n",
      "Rastreando: https://www.mediamarkt.es/es/category/_monitor-de-19-a-21-9-701440.html\n",
      "Número de páginas: 3\n"
     ]
    },
    {
     "name": "stderr",
     "output_type": "stream",
     "text": [
      "100%|██████████| 3/3 [00:03<00:00,  1.36s/it]\n"
     ]
    },
    {
     "name": "stdout",
     "output_type": "stream",
     "text": [
      "Escaneando página 776 de 1012\n",
      "Rastreando: https://www.mediamarkt.es/es/category/_monitor-de-22-a-26-9-701441.html\n",
      "Número de páginas: 4\n"
     ]
    },
    {
     "name": "stderr",
     "output_type": "stream",
     "text": [
      "100%|██████████| 4/4 [00:05<00:00,  1.38s/it]\n"
     ]
    },
    {
     "name": "stdout",
     "output_type": "stream",
     "text": [
      "Escaneando página 777 de 1012\n",
      "Rastreando: https://www.mediamarkt.es/es/category/_monitor-desde-27-701442.html\n",
      "Número de páginas: 6\n"
     ]
    },
    {
     "name": "stderr",
     "output_type": "stream",
     "text": [
      "100%|██████████| 6/6 [00:06<00:00,  1.02s/it]\n"
     ]
    },
    {
     "name": "stdout",
     "output_type": "stream",
     "text": [
      "Escaneando página 778 de 1012\n",
      "Rastreando: https://www.mediamarkt.es/es/category/_monitores-gaming-701443.html\n",
      "Número de páginas: 3\n"
     ]
    },
    {
     "name": "stderr",
     "output_type": "stream",
     "text": [
      "100%|██████████| 3/3 [00:03<00:00,  1.14s/it]\n"
     ]
    },
    {
     "name": "stdout",
     "output_type": "stream",
     "text": [
      "Escaneando página 779 de 1012\n",
      "Rastreando: https://www.mediamarkt.es/es/category/_todos-los-monitores-701438.html\n",
      "Número de páginas: 11\n"
     ]
    },
    {
     "name": "stderr",
     "output_type": "stream",
     "text": [
      "100%|██████████| 11/11 [00:14<00:00,  1.25s/it]\n"
     ]
    },
    {
     "name": "stdout",
     "output_type": "stream",
     "text": [
      "Escaneando página 780 de 1012\n",
      "Rastreando: https://www.mediamarkt.es/es/category/_impresoras-701181.html\n"
     ]
    },
    {
     "name": "stderr",
     "output_type": "stream",
     "text": [
      "100%|██████████| 1/1 [00:00<00:00,  1.09it/s]\n"
     ]
    },
    {
     "name": "stdout",
     "output_type": "stream",
     "text": [
      "Escaneando página 781 de 1012\n",
      "Rastreando: https://www.mediamarkt.es/es/category/_multifunci%C3%B3n-de-tinta-701456.html\n",
      "Número de páginas: 5\n"
     ]
    },
    {
     "name": "stderr",
     "output_type": "stream",
     "text": [
      "100%|██████████| 5/5 [00:06<00:00,  1.28s/it]\n"
     ]
    },
    {
     "name": "stdout",
     "output_type": "stream",
     "text": [
      "Escaneando página 782 de 1012\n",
      "Rastreando: https://www.mediamarkt.es/es/category/_multifunci%C3%B3n-l%C3%A1ser-701459.html\n",
      "Número de páginas: 2\n"
     ]
    },
    {
     "name": "stderr",
     "output_type": "stream",
     "text": [
      "100%|██████████| 2/2 [00:02<00:00,  1.10s/it]\n"
     ]
    },
    {
     "name": "stdout",
     "output_type": "stream",
     "text": [
      "Escaneando página 783 de 1012\n",
      "Rastreando: https://www.mediamarkt.es/es/category/_impresora-l%C3%A1ser-701458.html\n",
      "Número de páginas: 2\n"
     ]
    },
    {
     "name": "stderr",
     "output_type": "stream",
     "text": [
      "100%|██████████| 2/2 [00:02<00:00,  1.38s/it]\n"
     ]
    },
    {
     "name": "stdout",
     "output_type": "stream",
     "text": [
      "Escaneando página 784 de 1012\n",
      "Rastreando: https://www.mediamarkt.es/es/category/_impresoras-fotogr%C3%A1ficas-701457.html\n"
     ]
    },
    {
     "name": "stderr",
     "output_type": "stream",
     "text": [
      "100%|██████████| 1/1 [00:01<00:00,  1.27s/it]\n"
     ]
    },
    {
     "name": "stdout",
     "output_type": "stream",
     "text": [
      "Escaneando página 785 de 1012\n",
      "Rastreando: https://www.mediamarkt.es/es/category/_impresora-de-tinta-701455.html\n",
      "Número de páginas: 2\n"
     ]
    },
    {
     "name": "stderr",
     "output_type": "stream",
     "text": [
      "100%|██████████| 2/2 [00:02<00:00,  1.20s/it]\n"
     ]
    },
    {
     "name": "stdout",
     "output_type": "stream",
     "text": [
      "Escaneando página 786 de 1012\n",
      "Rastreando: https://www.mediamarkt.es/es/category/_impresora-l%C3%A1ser-color-701460.html\n",
      "Número de páginas: 2\n"
     ]
    },
    {
     "name": "stderr",
     "output_type": "stream",
     "text": [
      "100%|██████████| 2/2 [00:02<00:00,  1.35s/it]\n"
     ]
    },
    {
     "name": "stdout",
     "output_type": "stream",
     "text": [
      "Escaneando página 787 de 1012\n",
      "Rastreando: https://www.mediamarkt.es/es/category/_multifunci%C3%B3n-l%C3%A1ser-color-701461.html\n"
     ]
    },
    {
     "name": "stderr",
     "output_type": "stream",
     "text": [
      "100%|██████████| 1/1 [00:00<00:00,  1.02it/s]\n"
     ]
    },
    {
     "name": "stdout",
     "output_type": "stream",
     "text": [
      "Escaneando página 788 de 1012\n",
      "Rastreando: https://www.mediamarkt.es/es/category/_impresora-3d-701454.html\n"
     ]
    },
    {
     "name": "stderr",
     "output_type": "stream",
     "text": [
      "100%|██████████| 1/1 [00:01<00:00,  1.05s/it]\n"
     ]
    },
    {
     "name": "stdout",
     "output_type": "stream",
     "text": [
      "Escaneando página 789 de 1012\n",
      "Rastreando: https://www.mediamarkt.es/es/category/_impresoras-de-etiquetas-701463.html\n",
      "Número de páginas: 2\n"
     ]
    },
    {
     "name": "stderr",
     "output_type": "stream",
     "text": [
      "100%|██████████| 2/2 [00:02<00:00,  1.25s/it]\n"
     ]
    },
    {
     "name": "stdout",
     "output_type": "stream",
     "text": [
      "Escaneando página 790 de 1012\n",
      "Rastreando: https://www.mediamarkt.es/es/category/_todas-las-impresoras-701453.html\n",
      "Número de páginas: 7\n"
     ]
    },
    {
     "name": "stderr",
     "output_type": "stream",
     "text": [
      "100%|██████████| 7/7 [00:08<00:00,  1.22s/it]\n"
     ]
    },
    {
     "name": "stdout",
     "output_type": "stream",
     "text": [
      "Escaneando página 791 de 1012\n",
      "Rastreando: https://www.mediamarkt.es/es/category/_scanners-701185.html\n",
      "Número de páginas: 2\n"
     ]
    },
    {
     "name": "stderr",
     "output_type": "stream",
     "text": [
      "100%|██████████| 2/2 [00:02<00:00,  1.45s/it]\n"
     ]
    },
    {
     "name": "stdout",
     "output_type": "stream",
     "text": [
      "Escaneando página 792 de 1012\n",
      "Rastreando: https://www.mediamarkt.es/es/category/_gaming-701174.html\n"
     ]
    },
    {
     "name": "stderr",
     "output_type": "stream",
     "text": [
      "100%|██████████| 1/1 [00:00<00:00,  1.06it/s]\n"
     ]
    },
    {
     "name": "stdout",
     "output_type": "stream",
     "text": [
      "Escaneando página 793 de 1012\n",
      "Rastreando: https://www.mediamarkt.es/es/category/_port%C3%A1tiles-gaming-701410.html\n",
      "Número de páginas: 5\n"
     ]
    },
    {
     "name": "stderr",
     "output_type": "stream",
     "text": [
      "100%|██████████| 5/5 [00:06<00:00,  1.19s/it]\n"
     ]
    },
    {
     "name": "stdout",
     "output_type": "stream",
     "text": [
      "Escaneando página 794 de 1012\n",
      "Rastreando: https://www.mediamarkt.es/es/category/_pc-gaming-701411.html\n",
      "Número de páginas: 2\n"
     ]
    },
    {
     "name": "stderr",
     "output_type": "stream",
     "text": [
      "100%|██████████| 2/2 [00:01<00:00,  1.01s/it]\n"
     ]
    },
    {
     "name": "stdout",
     "output_type": "stream",
     "text": [
      "Escaneando página 795 de 1012\n",
      "Rastreando: https://www.mediamarkt.es/es/category/_monitores-gaming-701412.html\n",
      "Número de páginas: 3\n"
     ]
    },
    {
     "name": "stderr",
     "output_type": "stream",
     "text": [
      "100%|██████████| 3/3 [00:04<00:00,  1.38s/it]\n"
     ]
    },
    {
     "name": "stdout",
     "output_type": "stream",
     "text": [
      "Escaneando página 796 de 1012\n",
      "Rastreando: https://www.mediamarkt.es/es/category/_teclados-y-ratones-gaming-701414.html\n",
      "Número de páginas: 8\n"
     ]
    },
    {
     "name": "stderr",
     "output_type": "stream",
     "text": [
      "100%|██████████| 8/8 [00:11<00:00,  1.42s/it]\n"
     ]
    },
    {
     "name": "stdout",
     "output_type": "stream",
     "text": [
      "Escaneando página 797 de 1012\n",
      "Rastreando: https://www.mediamarkt.es/es/category/_teclados-702477.html\n",
      "Número de páginas: 2\n"
     ]
    },
    {
     "name": "stderr",
     "output_type": "stream",
     "text": [
      "100%|██████████| 2/2 [00:02<00:00,  1.36s/it]\n"
     ]
    },
    {
     "name": "stdout",
     "output_type": "stream",
     "text": [
      "Escaneando página 798 de 1012\n",
      "Rastreando: https://www.mediamarkt.es/es/category/_alfombrillas-gaming-702478.html\n",
      "Número de páginas: 3\n"
     ]
    },
    {
     "name": "stderr",
     "output_type": "stream",
     "text": [
      "100%|██████████| 3/3 [00:04<00:00,  1.33s/it]\n"
     ]
    },
    {
     "name": "stdout",
     "output_type": "stream",
     "text": [
      "Escaneando página 799 de 1012\n",
      "Rastreando: https://www.mediamarkt.es/es/category/_ratones-gaming-pc-702479.html\n",
      "Número de páginas: 4\n"
     ]
    },
    {
     "name": "stderr",
     "output_type": "stream",
     "text": [
      "100%|██████████| 4/4 [00:05<00:00,  1.30s/it]\n"
     ]
    },
    {
     "name": "stdout",
     "output_type": "stream",
     "text": [
      "Escaneando página 800 de 1012\n",
      "Rastreando: https://www.mediamarkt.es/es/category/_sillas-y-mesas-gaming-701417.html\n",
      "Número de páginas: 5\n"
     ]
    },
    {
     "name": "stderr",
     "output_type": "stream",
     "text": [
      "100%|██████████| 5/5 [00:09<00:00,  1.90s/it]\n"
     ]
    },
    {
     "name": "stdout",
     "output_type": "stream",
     "text": [
      "Escaneando página 801 de 1012\n",
      "Rastreando: https://www.mediamarkt.es/es/category/_sillas-gaming-702489.html\n",
      "Número de páginas: 5\n"
     ]
    },
    {
     "name": "stderr",
     "output_type": "stream",
     "text": [
      "100%|██████████| 5/5 [00:07<00:00,  1.48s/it]\n"
     ]
    },
    {
     "name": "stdout",
     "output_type": "stream",
     "text": [
      "Escaneando página 802 de 1012\n",
      "Rastreando: https://www.mediamarkt.es/es/category/_mesas-gaming-702490.html\n"
     ]
    },
    {
     "name": "stderr",
     "output_type": "stream",
     "text": [
      "100%|██████████| 1/1 [00:00<00:00,  1.08it/s]\n"
     ]
    },
    {
     "name": "stdout",
     "output_type": "stream",
     "text": [
      "Escaneando página 803 de 1012\n",
      "Rastreando: https://www.mediamarkt.es/es/category/_componentes-y-accesorios-gaming-701413.html\n",
      "Número de páginas: 3\n"
     ]
    },
    {
     "name": "stderr",
     "output_type": "stream",
     "text": [
      "100%|██████████| 3/3 [00:04<00:00,  1.43s/it]\n"
     ]
    },
    {
     "name": "stdout",
     "output_type": "stream",
     "text": [
      "Escaneando página 804 de 1012\n",
      "Rastreando: https://www.mediamarkt.es/es/category/_procesadores-gaming-702470.html\n"
     ]
    },
    {
     "name": "stderr",
     "output_type": "stream",
     "text": [
      "100%|██████████| 1/1 [00:01<00:00,  1.02s/it]\n"
     ]
    },
    {
     "name": "stdout",
     "output_type": "stream",
     "text": [
      "Escaneando página 805 de 1012\n",
      "Rastreando: https://www.mediamarkt.es/es/category/_tarjetas-gr%C3%A1ficas-gaming-702471.html\n",
      "Número de páginas: 2\n"
     ]
    },
    {
     "name": "stderr",
     "output_type": "stream",
     "text": [
      "100%|██████████| 2/2 [00:02<00:00,  1.39s/it]\n"
     ]
    },
    {
     "name": "stdout",
     "output_type": "stream",
     "text": [
      "Escaneando página 806 de 1012\n",
      "Rastreando: https://www.mediamarkt.es/es/category/_memorias-ram-gaming-702473.html\n"
     ]
    },
    {
     "name": "stderr",
     "output_type": "stream",
     "text": [
      "100%|██████████| 1/1 [00:01<00:00,  1.01s/it]\n"
     ]
    },
    {
     "name": "stdout",
     "output_type": "stream",
     "text": [
      "Escaneando página 807 de 1012\n",
      "Rastreando: https://www.mediamarkt.es/es/category/_placas-base-gaming-702474.html\n"
     ]
    },
    {
     "name": "stderr",
     "output_type": "stream",
     "text": [
      "100%|██████████| 1/1 [00:01<00:00,  1.90s/it]\n"
     ]
    },
    {
     "name": "stdout",
     "output_type": "stream",
     "text": [
      "Escaneando página 808 de 1012\n",
      "Rastreando: https://www.mediamarkt.es/es/category/_routers-gaming-702475.html\n"
     ]
    },
    {
     "name": "stderr",
     "output_type": "stream",
     "text": [
      "100%|██████████| 1/1 [00:01<00:00,  1.47s/it]\n"
     ]
    },
    {
     "name": "stdout",
     "output_type": "stream",
     "text": [
      "Escaneando página 809 de 1012\n",
      "Rastreando: https://www.mediamarkt.es/es/category/_audio-y-video-gaming-701415.html\n",
      "Número de páginas: 8\n"
     ]
    },
    {
     "name": "stderr",
     "output_type": "stream",
     "text": [
      "100%|██████████| 8/8 [00:14<00:00,  1.59s/it]\n"
     ]
    },
    {
     "name": "stdout",
     "output_type": "stream",
     "text": [
      "Escaneando página 810 de 1012\n",
      "Rastreando: https://www.mediamarkt.es/es/category/_auriculares-gaming-702480.html\n",
      "Número de páginas: 6\n"
     ]
    },
    {
     "name": "stderr",
     "output_type": "stream",
     "text": [
      "100%|██████████| 6/6 [00:08<00:00,  1.40s/it]\n"
     ]
    },
    {
     "name": "stdout",
     "output_type": "stream",
     "text": [
      "Escaneando página 811 de 1012\n",
      "Rastreando: https://www.mediamarkt.es/es/category/_altavoces-gaming-702481.html\n"
     ]
    },
    {
     "name": "stderr",
     "output_type": "stream",
     "text": [
      "100%|██████████| 1/1 [00:00<00:00,  1.08it/s]\n"
     ]
    },
    {
     "name": "stdout",
     "output_type": "stream",
     "text": [
      "Escaneando página 812 de 1012\n",
      "Rastreando: https://www.mediamarkt.es/es/category/_capturadoras-gaming-702482.html\n"
     ]
    },
    {
     "name": "stderr",
     "output_type": "stream",
     "text": [
      "100%|██████████| 1/1 [00:01<00:00,  1.19s/it]\n"
     ]
    },
    {
     "name": "stdout",
     "output_type": "stream",
     "text": [
      "Escaneando página 813 de 1012\n",
      "Rastreando: https://www.mediamarkt.es/es/category/_gafas-gaming-702483.html\n"
     ]
    },
    {
     "name": "stderr",
     "output_type": "stream",
     "text": [
      "100%|██████████| 1/1 [00:00<00:00,  1.06it/s]\n"
     ]
    },
    {
     "name": "stdout",
     "output_type": "stream",
     "text": [
      "Escaneando página 814 de 1012\n",
      "Rastreando: https://www.mediamarkt.es/es/category/_mandos-y-simuladores-gaming-701416.html\n",
      "Número de páginas: 2\n"
     ]
    },
    {
     "name": "stderr",
     "output_type": "stream",
     "text": [
      "100%|██████████| 2/2 [00:02<00:00,  1.49s/it]\n"
     ]
    },
    {
     "name": "stdout",
     "output_type": "stream",
     "text": [
      "Escaneando página 815 de 1012\n",
      "Rastreando: https://www.mediamarkt.es/es/category/_gamepads-702484.html\n"
     ]
    },
    {
     "name": "stderr",
     "output_type": "stream",
     "text": [
      "100%|██████████| 1/1 [00:01<00:00,  1.01s/it]\n"
     ]
    },
    {
     "name": "stdout",
     "output_type": "stream",
     "text": [
      "Escaneando página 816 de 1012\n",
      "Rastreando: https://www.mediamarkt.es/es/category/_joysticks-702485.html\n"
     ]
    },
    {
     "name": "stderr",
     "output_type": "stream",
     "text": [
      "100%|██████████| 1/1 [00:01<00:00,  1.00s/it]\n"
     ]
    },
    {
     "name": "stdout",
     "output_type": "stream",
     "text": [
      "Escaneando página 817 de 1012\n",
      "Rastreando: https://www.mediamarkt.es/es/category/_volantes-pc-gaming-702486.html\n"
     ]
    },
    {
     "name": "stderr",
     "output_type": "stream",
     "text": [
      "100%|██████████| 1/1 [00:01<00:00,  1.22s/it]\n"
     ]
    },
    {
     "name": "stdout",
     "output_type": "stream",
     "text": [
      "Escaneando página 818 de 1012\n",
      "Rastreando: https://www.mediamarkt.es/es/category/_pedales-gaming-702487.html\n"
     ]
    },
    {
     "name": "stderr",
     "output_type": "stream",
     "text": [
      "100%|██████████| 1/1 [00:00<00:00,  1.03it/s]\n"
     ]
    },
    {
     "name": "stdout",
     "output_type": "stream",
     "text": [
      "Escaneando página 819 de 1012\n",
      "Rastreando: https://www.mediamarkt.es/es/category/_simuladores-de-vuelo-702488.html\n"
     ]
    },
    {
     "name": "stderr",
     "output_type": "stream",
     "text": [
      "100%|██████████| 1/1 [00:00<00:00,  1.05it/s]\n"
     ]
    },
    {
     "name": "stdout",
     "output_type": "stream",
     "text": [
      "Escaneando página 820 de 1012\n",
      "Rastreando: https://www.mediamarkt.es/es/category/_juegos-pc-y-videojuegos-701418.html\n",
      "Número de páginas: 4\n"
     ]
    },
    {
     "name": "stderr",
     "output_type": "stream",
     "text": [
      "100%|██████████| 4/4 [00:06<00:00,  1.51s/it]\n"
     ]
    },
    {
     "name": "stdout",
     "output_type": "stream",
     "text": [
      "Escaneando página 821 de 1012\n",
      "Rastreando: https://www.mediamarkt.es/es/category/_acc-de-inform%C3%A1tica-701173.html\n"
     ]
    },
    {
     "name": "stderr",
     "output_type": "stream",
     "text": [
      "100%|██████████| 1/1 [00:00<00:00,  1.13it/s]\n"
     ]
    },
    {
     "name": "stdout",
     "output_type": "stream",
     "text": [
      "Escaneando página 822 de 1012\n",
      "Rastreando: https://www.mediamarkt.es/es/category/_almacenamiento-701180.html\n"
     ]
    },
    {
     "name": "stderr",
     "output_type": "stream",
     "text": [
      "100%|██████████| 1/1 [00:00<00:00,  1.08it/s]\n"
     ]
    },
    {
     "name": "stdout",
     "output_type": "stream",
     "text": [
      "Escaneando página 823 de 1012\n",
      "Rastreando: https://www.mediamarkt.es/es/category/_discos-duros-externos-701445.html\n",
      "Número de páginas: 7\n"
     ]
    },
    {
     "name": "stderr",
     "output_type": "stream",
     "text": [
      "100%|██████████| 7/7 [00:07<00:00,  1.05s/it]\n"
     ]
    },
    {
     "name": "stdout",
     "output_type": "stream",
     "text": [
      "Escaneando página 824 de 1012\n",
      "Rastreando: https://www.mediamarkt.es/es/category/_discos-duros-externos-2-5-702495.html\n",
      "Número de páginas: 5\n"
     ]
    },
    {
     "name": "stderr",
     "output_type": "stream",
     "text": [
      "100%|██████████| 5/5 [00:05<00:00,  1.01s/it]\n"
     ]
    },
    {
     "name": "stdout",
     "output_type": "stream",
     "text": [
      "Escaneando página 825 de 1012\n",
      "Rastreando: https://www.mediamarkt.es/es/category/_discos-duros-externos-3-5-702496.html\n"
     ]
    },
    {
     "name": "stderr",
     "output_type": "stream",
     "text": [
      "100%|██████████| 1/1 [00:00<00:00,  1.01it/s]\n"
     ]
    },
    {
     "name": "stdout",
     "output_type": "stream",
     "text": [
      "Escaneando página 826 de 1012\n",
      "Rastreando: https://www.mediamarkt.es/es/category/_reproductor-multimedia-702498.html\n"
     ]
    },
    {
     "name": "stderr",
     "output_type": "stream",
     "text": [
      "100%|██████████| 1/1 [00:01<00:00,  1.28s/it]\n"
     ]
    },
    {
     "name": "stdout",
     "output_type": "stream",
     "text": [
      "Escaneando página 827 de 1012\n",
      "Rastreando: https://www.mediamarkt.es/es/category/_discos-para-apple-702499.html\n"
     ]
    },
    {
     "name": "stderr",
     "output_type": "stream",
     "text": [
      "100%|██████████| 1/1 [00:01<00:00,  1.03s/it]\n"
     ]
    },
    {
     "name": "stdout",
     "output_type": "stream",
     "text": [
      "Escaneando página 828 de 1012\n",
      "Rastreando: https://www.mediamarkt.es/es/category/_ssd-701447.html\n",
      "Número de páginas: 3\n"
     ]
    },
    {
     "name": "stderr",
     "output_type": "stream",
     "text": [
      "100%|██████████| 3/3 [00:04<00:00,  1.65s/it]\n"
     ]
    },
    {
     "name": "stdout",
     "output_type": "stream",
     "text": [
      "Escaneando página 829 de 1012\n",
      "Rastreando: https://www.mediamarkt.es/es/category/_ssd-externo-702503.html\n"
     ]
    },
    {
     "name": "stderr",
     "output_type": "stream",
     "text": [
      "100%|██████████| 1/1 [00:01<00:00,  1.68s/it]\n"
     ]
    },
    {
     "name": "stdout",
     "output_type": "stream",
     "text": [
      "Escaneando página 830 de 1012\n",
      "Rastreando: https://www.mediamarkt.es/es/category/_ssd-internos-702504.html\n",
      "Número de páginas: 3\n"
     ]
    },
    {
     "name": "stderr",
     "output_type": "stream",
     "text": [
      "100%|██████████| 3/3 [00:04<00:00,  1.51s/it]\n"
     ]
    },
    {
     "name": "stdout",
     "output_type": "stream",
     "text": [
      "Escaneando página 831 de 1012\n",
      "Rastreando: https://www.mediamarkt.es/es/category/_nas-701448.html\n",
      "Número de páginas: 2\n"
     ]
    },
    {
     "name": "stderr",
     "output_type": "stream",
     "text": [
      "100%|██████████| 2/2 [00:03<00:00,  1.56s/it]\n"
     ]
    },
    {
     "name": "stdout",
     "output_type": "stream",
     "text": [
      "Escaneando página 832 de 1012\n",
      "Rastreando: https://www.mediamarkt.es/es/category/_disco-nas-cloud-702505.html\n"
     ]
    },
    {
     "name": "stderr",
     "output_type": "stream",
     "text": [
      "100%|██████████| 1/1 [00:01<00:00,  1.02s/it]\n"
     ]
    },
    {
     "name": "stdout",
     "output_type": "stream",
     "text": [
      "Escaneando página 833 de 1012\n",
      "Rastreando: https://www.mediamarkt.es/es/category/_nas-1-bah%C3%ADa-702507.html\n"
     ]
    },
    {
     "name": "stderr",
     "output_type": "stream",
     "text": [
      "100%|██████████| 1/1 [00:00<00:00,  1.18it/s]\n"
     ]
    },
    {
     "name": "stdout",
     "output_type": "stream",
     "text": [
      "Escaneando página 834 de 1012\n",
      "Rastreando: https://www.mediamarkt.es/es/category/_nas-2-bah%C3%ADas-702508.html\n"
     ]
    },
    {
     "name": "stderr",
     "output_type": "stream",
     "text": [
      "100%|██████████| 1/1 [00:00<00:00,  1.13it/s]\n"
     ]
    },
    {
     "name": "stdout",
     "output_type": "stream",
     "text": [
      "Escaneando página 835 de 1012\n",
      "Rastreando: https://www.mediamarkt.es/es/category/_nas-4-bah%C3%ADas-702509.html\n"
     ]
    },
    {
     "name": "stderr",
     "output_type": "stream",
     "text": [
      "100%|██████████| 1/1 [00:00<00:00,  1.03it/s]\n"
     ]
    },
    {
     "name": "stdout",
     "output_type": "stream",
     "text": [
      "Escaneando página 836 de 1012\n",
      "Rastreando: https://www.mediamarkt.es/es/category/_pendrives-y-memorias-usb-701449.html\n",
      "Número de páginas: 8\n"
     ]
    },
    {
     "name": "stderr",
     "output_type": "stream",
     "text": [
      "100%|██████████| 8/8 [00:10<00:00,  1.26s/it]\n"
     ]
    },
    {
     "name": "stdout",
     "output_type": "stream",
     "text": [
      "Escaneando página 837 de 1012\n",
      "Rastreando: https://www.mediamarkt.es/es/category/_memorias-usb-pendrive-de-4gb-702510.html\n"
     ]
    },
    {
     "name": "stderr",
     "output_type": "stream",
     "text": [
      "100%|██████████| 1/1 [00:00<00:00,  1.02it/s]\n"
     ]
    },
    {
     "name": "stdout",
     "output_type": "stream",
     "text": [
      "Escaneando página 838 de 1012\n",
      "Rastreando: https://www.mediamarkt.es/es/category/_memorias-usb-pendrive-de-8gb-702511.html\n"
     ]
    },
    {
     "name": "stderr",
     "output_type": "stream",
     "text": [
      "100%|██████████| 1/1 [00:01<00:00,  1.01s/it]\n"
     ]
    },
    {
     "name": "stdout",
     "output_type": "stream",
     "text": [
      "Escaneando página 839 de 1012\n",
      "Rastreando: https://www.mediamarkt.es/es/category/_memorias-usb-pendrive-de-16gb-702512.html\n",
      "Número de páginas: 2\n"
     ]
    },
    {
     "name": "stderr",
     "output_type": "stream",
     "text": [
      "100%|██████████| 2/2 [00:02<00:00,  1.12s/it]\n"
     ]
    },
    {
     "name": "stdout",
     "output_type": "stream",
     "text": [
      "Escaneando página 840 de 1012\n",
      "Rastreando: https://www.mediamarkt.es/es/category/_memorias-usb-pendrive-de-32gb-702513.html\n",
      "Número de páginas: 2\n"
     ]
    },
    {
     "name": "stderr",
     "output_type": "stream",
     "text": [
      "100%|██████████| 2/2 [00:02<00:00,  1.53s/it]\n"
     ]
    },
    {
     "name": "stdout",
     "output_type": "stream",
     "text": [
      "Escaneando página 841 de 1012\n",
      "Rastreando: https://www.mediamarkt.es/es/category/_memorias-usb-pendrive-de-64gb-702514.html\n",
      "Número de páginas: 2\n"
     ]
    },
    {
     "name": "stderr",
     "output_type": "stream",
     "text": [
      "100%|██████████| 2/2 [00:02<00:00,  1.14s/it]\n"
     ]
    },
    {
     "name": "stdout",
     "output_type": "stream",
     "text": [
      "Escaneando página 842 de 1012\n",
      "Rastreando: https://www.mediamarkt.es/es/category/_memorias-usb-pendrive-de-128gb-702515.html\n",
      "Número de páginas: 2\n"
     ]
    },
    {
     "name": "stderr",
     "output_type": "stream",
     "text": [
      "100%|██████████| 2/2 [00:02<00:00,  1.27s/it]\n"
     ]
    },
    {
     "name": "stdout",
     "output_type": "stream",
     "text": [
      "Escaneando página 843 de 1012\n",
      "Rastreando: https://www.mediamarkt.es/es/category/_memorias-usb-pendrive-de-256gb-702516.html\n"
     ]
    },
    {
     "name": "stderr",
     "output_type": "stream",
     "text": [
      "100%|██████████| 1/1 [00:01<00:00,  1.22s/it]\n"
     ]
    },
    {
     "name": "stdout",
     "output_type": "stream",
     "text": [
      "Escaneando página 844 de 1012\n",
      "Rastreando: https://www.mediamarkt.es/es/category/_otg-android-702517.html\n"
     ]
    },
    {
     "name": "stderr",
     "output_type": "stream",
     "text": [
      "100%|██████████| 1/1 [00:00<00:00,  1.17it/s]\n"
     ]
    },
    {
     "name": "stdout",
     "output_type": "stream",
     "text": [
      "Escaneando página 845 de 1012\n",
      "Rastreando: https://www.mediamarkt.es/es/category/_usb-tipo-c-702519.html\n"
     ]
    },
    {
     "name": "stderr",
     "output_type": "stream",
     "text": [
      "100%|██████████| 1/1 [00:00<00:00,  1.13it/s]\n"
     ]
    },
    {
     "name": "stdout",
     "output_type": "stream",
     "text": [
      "Escaneando página 846 de 1012\n",
      "Rastreando: https://www.mediamarkt.es/es/category/_pendrives-originales-712016.html\n"
     ]
    },
    {
     "name": "stderr",
     "output_type": "stream",
     "text": [
      "100%|██████████| 1/1 [00:01<00:00,  1.04s/it]\n"
     ]
    },
    {
     "name": "stdout",
     "output_type": "stream",
     "text": [
      "Escaneando página 847 de 1012\n",
      "Rastreando: https://www.mediamarkt.es/es/category/_discos-duros-internos-701446.html\n",
      "Número de páginas: 3\n"
     ]
    },
    {
     "name": "stderr",
     "output_type": "stream",
     "text": [
      "100%|██████████| 3/3 [00:03<00:00,  1.25s/it]\n"
     ]
    },
    {
     "name": "stdout",
     "output_type": "stream",
     "text": [
      "Escaneando página 848 de 1012\n",
      "Rastreando: https://www.mediamarkt.es/es/category/_discos-internos-2-5-702500.html\n"
     ]
    },
    {
     "name": "stderr",
     "output_type": "stream",
     "text": [
      "100%|██████████| 1/1 [00:01<00:00,  1.28s/it]\n"
     ]
    },
    {
     "name": "stdout",
     "output_type": "stream",
     "text": [
      "Escaneando página 849 de 1012\n",
      "Rastreando: https://www.mediamarkt.es/es/category/_discos-internos-3-5-702501.html\n",
      "Número de páginas: 2\n"
     ]
    },
    {
     "name": "stderr",
     "output_type": "stream",
     "text": [
      "100%|██████████| 2/2 [00:02<00:00,  1.48s/it]\n"
     ]
    },
    {
     "name": "stdout",
     "output_type": "stream",
     "text": [
      "Escaneando página 850 de 1012\n",
      "Rastreando: https://www.mediamarkt.es/es/category/_discos-internos-h%C3%ADbridos-702502.html\n"
     ]
    },
    {
     "name": "stderr",
     "output_type": "stream",
     "text": [
      "100%|██████████| 1/1 [00:00<00:00,  1.10it/s]\n"
     ]
    },
    {
     "name": "stdout",
     "output_type": "stream",
     "text": [
      "Escaneando página 851 de 1012\n",
      "Rastreando: https://www.mediamarkt.es/es/category/_tarjetas-de-memoria-701450.html\n",
      "Número de páginas: 4\n"
     ]
    },
    {
     "name": "stderr",
     "output_type": "stream",
     "text": [
      "100%|██████████| 4/4 [00:04<00:00,  1.18s/it]\n"
     ]
    },
    {
     "name": "stdout",
     "output_type": "stream",
     "text": [
      "Escaneando página 852 de 1012\n",
      "Rastreando: https://www.mediamarkt.es/es/category/_tarjetas-sdhc-702520.html\n",
      "Número de páginas: 2\n"
     ]
    },
    {
     "name": "stderr",
     "output_type": "stream",
     "text": [
      "100%|██████████| 2/2 [00:02<00:00,  1.06s/it]\n"
     ]
    },
    {
     "name": "stdout",
     "output_type": "stream",
     "text": [
      "Escaneando página 853 de 1012\n",
      "Rastreando: https://www.mediamarkt.es/es/category/_tarjetas-micro-sd-702521.html\n",
      "Número de páginas: 2\n"
     ]
    },
    {
     "name": "stderr",
     "output_type": "stream",
     "text": [
      "100%|██████████| 2/2 [00:02<00:00,  1.15s/it]\n"
     ]
    },
    {
     "name": "stdout",
     "output_type": "stream",
     "text": [
      "Escaneando página 854 de 1012\n",
      "Rastreando: https://www.mediamarkt.es/es/category/_tarjetas-compact-flash-702522.html\n"
     ]
    },
    {
     "name": "stderr",
     "output_type": "stream",
     "text": [
      "100%|██████████| 1/1 [00:01<00:00,  1.11s/it]\n"
     ]
    },
    {
     "name": "stdout",
     "output_type": "stream",
     "text": [
      "Escaneando página 855 de 1012\n",
      "Rastreando: https://www.mediamarkt.es/es/category/_tarjetas-red-wifi-702523.html\n"
     ]
    },
    {
     "name": "stderr",
     "output_type": "stream",
     "text": [
      "100%|██████████| 1/1 [00:01<00:00,  1.22s/it]\n"
     ]
    },
    {
     "name": "stdout",
     "output_type": "stream",
     "text": [
      "Escaneando página 856 de 1012\n",
      "Rastreando: https://www.mediamarkt.es/es/category/_lectores-de-tarjetas-y-dni-electr%C3%B3nico-702524.html\n"
     ]
    },
    {
     "name": "stderr",
     "output_type": "stream",
     "text": [
      "100%|██████████| 1/1 [00:01<00:00,  1.21s/it]\n"
     ]
    },
    {
     "name": "stdout",
     "output_type": "stream",
     "text": [
      "Escaneando página 857 de 1012\n",
      "Rastreando: https://www.mediamarkt.es/es/category/_cajas-y-accesorios-disco-duro-701452.html\n"
     ]
    },
    {
     "name": "stderr",
     "output_type": "stream",
     "text": [
      "100%|██████████| 1/1 [00:01<00:00,  1.51s/it]\n"
     ]
    },
    {
     "name": "stdout",
     "output_type": "stream",
     "text": [
      "Escaneando página 858 de 1012\n",
      "Rastreando: https://www.mediamarkt.es/es/category/_fundas-disco-duro-701451.html\n"
     ]
    },
    {
     "name": "stderr",
     "output_type": "stream",
     "text": [
      "100%|██████████| 1/1 [00:01<00:00,  1.61s/it]\n"
     ]
    },
    {
     "name": "stdout",
     "output_type": "stream",
     "text": [
      "Escaneando página 859 de 1012\n",
      "Rastreando: https://www.mediamarkt.es/es/category/_cartuchos-y-consumibles-701184.html\n",
      "Número de páginas: 37\n"
     ]
    },
    {
     "name": "stderr",
     "output_type": "stream",
     "text": [
      "100%|██████████| 37/37 [00:47<00:00,  1.05s/it]\n"
     ]
    },
    {
     "name": "stdout",
     "output_type": "stream",
     "text": [
      "Escaneando página 860 de 1012\n",
      "Rastreando: https://www.mediamarkt.es/es/category/_cartuchos-de-tinta-701465.html\n",
      "Número de páginas: 26\n"
     ]
    },
    {
     "name": "stderr",
     "output_type": "stream",
     "text": [
      "100%|██████████| 26/26 [00:29<00:00,  1.05it/s]\n"
     ]
    },
    {
     "name": "stdout",
     "output_type": "stream",
     "text": [
      "Escaneando página 861 de 1012\n",
      "Rastreando: https://www.mediamarkt.es/es/category/_t%C3%B3ners-701469.html\n",
      "Número de páginas: 9\n"
     ]
    },
    {
     "name": "stderr",
     "output_type": "stream",
     "text": [
      "100%|██████████| 9/9 [00:13<00:00,  1.51s/it]\n"
     ]
    },
    {
     "name": "stdout",
     "output_type": "stream",
     "text": [
      "Escaneando página 862 de 1012\n",
      "Rastreando: https://www.mediamarkt.es/es/category/_bobinas-impresoras-3d-701464.html\n"
     ]
    },
    {
     "name": "stderr",
     "output_type": "stream",
     "text": [
      "100%|██████████| 1/1 [00:01<00:00,  1.15s/it]\n"
     ]
    },
    {
     "name": "stdout",
     "output_type": "stream",
     "text": [
      "Escaneando página 863 de 1012\n",
      "Rastreando: https://www.mediamarkt.es/es/category/_cintas-de-impresi%C3%B3n-701466.html\n"
     ]
    },
    {
     "name": "stderr",
     "output_type": "stream",
     "text": [
      "100%|██████████| 1/1 [00:00<00:00,  1.05it/s]\n"
     ]
    },
    {
     "name": "stdout",
     "output_type": "stream",
     "text": [
      "Escaneando página 864 de 1012\n",
      "Rastreando: https://www.mediamarkt.es/es/category/_papel-impresoras-701467.html\n",
      "Número de páginas: 3\n"
     ]
    },
    {
     "name": "stderr",
     "output_type": "stream",
     "text": [
      "100%|██████████| 3/3 [00:03<00:00,  1.30s/it]\n"
     ]
    },
    {
     "name": "stdout",
     "output_type": "stream",
     "text": [
      "Escaneando página 865 de 1012\n",
      "Rastreando: https://www.mediamarkt.es/es/category/_tambores-impresora-701468.html\n"
     ]
    },
    {
     "name": "stderr",
     "output_type": "stream",
     "text": [
      "100%|██████████| 1/1 [00:00<00:00,  1.08it/s]\n"
     ]
    },
    {
     "name": "stdout",
     "output_type": "stream",
     "text": [
      "Escaneando página 866 de 1012\n",
      "Rastreando: https://www.mediamarkt.es/es/category/_accesorios-cartuchos-y-consumibles-701470.html\n"
     ]
    },
    {
     "name": "stderr",
     "output_type": "stream",
     "text": [
      "100%|██████████| 1/1 [00:01<00:00,  1.47s/it]\n"
     ]
    },
    {
     "name": "stdout",
     "output_type": "stream",
     "text": [
      "Escaneando página 867 de 1012\n",
      "Rastreando: https://www.mediamarkt.es/es/category/_redes-y-conectividad-701405.html\n",
      "Número de páginas: 15\n"
     ]
    },
    {
     "name": "stderr",
     "output_type": "stream",
     "text": [
      "100%|██████████| 15/15 [00:19<00:00,  1.16s/it]\n"
     ]
    },
    {
     "name": "stdout",
     "output_type": "stream",
     "text": [
      "Escaneando página 868 de 1012\n",
      "Rastreando: https://www.mediamarkt.es/es/category/_antenas-702448.html\n"
     ]
    },
    {
     "name": "stderr",
     "output_type": "stream",
     "text": [
      "100%|██████████| 1/1 [00:01<00:00,  1.02s/it]\n"
     ]
    },
    {
     "name": "stdout",
     "output_type": "stream",
     "text": [
      "Escaneando página 869 de 1012\n",
      "Rastreando: https://www.mediamarkt.es/es/category/_adaptador-de-red-702449.html\n",
      "Número de páginas: 2\n"
     ]
    },
    {
     "name": "stderr",
     "output_type": "stream",
     "text": [
      "100%|██████████| 2/2 [00:02<00:00,  1.47s/it]\n"
     ]
    },
    {
     "name": "stdout",
     "output_type": "stream",
     "text": [
      "Escaneando página 870 de 1012\n",
      "Rastreando: https://www.mediamarkt.es/es/category/_adaptadores-usb-702450.html\n",
      "Número de páginas: 2\n"
     ]
    },
    {
     "name": "stderr",
     "output_type": "stream",
     "text": [
      "100%|██████████| 2/2 [00:02<00:00,  1.32s/it]\n"
     ]
    },
    {
     "name": "stdout",
     "output_type": "stream",
     "text": [
      "Escaneando página 871 de 1012\n",
      "Rastreando: https://www.mediamarkt.es/es/category/_amplificador-wifi-702451.html\n",
      "Número de páginas: 2\n"
     ]
    },
    {
     "name": "stderr",
     "output_type": "stream",
     "text": [
      "100%|██████████| 2/2 [00:02<00:00,  1.15s/it]\n"
     ]
    },
    {
     "name": "stdout",
     "output_type": "stream",
     "text": [
      "Escaneando página 872 de 1012\n",
      "Rastreando: https://www.mediamarkt.es/es/category/_switch-702453.html\n",
      "Número de páginas: 6\n"
     ]
    },
    {
     "name": "stderr",
     "output_type": "stream",
     "text": [
      "100%|██████████| 6/6 [00:10<00:00,  1.59s/it]\n"
     ]
    },
    {
     "name": "stdout",
     "output_type": "stream",
     "text": [
      "Escaneando página 873 de 1012\n",
      "Rastreando: https://www.mediamarkt.es/es/category/_punto-de-acceso-702454.html\n",
      "Número de páginas: 2\n"
     ]
    },
    {
     "name": "stderr",
     "output_type": "stream",
     "text": [
      "100%|██████████| 2/2 [00:02<00:00,  1.05s/it]\n"
     ]
    },
    {
     "name": "stdout",
     "output_type": "stream",
     "text": [
      "Escaneando página 874 de 1012\n",
      "Rastreando: https://www.mediamarkt.es/es/category/_modem-router-wifi-702455.html\n",
      "Número de páginas: 5\n"
     ]
    },
    {
     "name": "stderr",
     "output_type": "stream",
     "text": [
      "100%|██████████| 5/5 [00:07<00:00,  1.47s/it]\n"
     ]
    },
    {
     "name": "stdout",
     "output_type": "stream",
     "text": [
      "Escaneando página 875 de 1012\n",
      "Rastreando: https://www.mediamarkt.es/es/category/_tarjeta-de-red-702456.html\n"
     ]
    },
    {
     "name": "stderr",
     "output_type": "stream",
     "text": [
      "100%|██████████| 1/1 [00:00<00:00,  1.11it/s]\n"
     ]
    },
    {
     "name": "stdout",
     "output_type": "stream",
     "text": [
      "Escaneando página 876 de 1012\n",
      "Rastreando: https://www.mediamarkt.es/es/category/_plc-702457.html\n",
      "Número de páginas: 3\n"
     ]
    },
    {
     "name": "stderr",
     "output_type": "stream",
     "text": [
      "100%|██████████| 3/3 [00:04<00:00,  1.33s/it]\n"
     ]
    },
    {
     "name": "stdout",
     "output_type": "stream",
     "text": [
      "Escaneando página 877 de 1012\n",
      "Rastreando: https://www.mediamarkt.es/es/category/_componentes-701395.html\n",
      "Número de páginas: 16\n"
     ]
    },
    {
     "name": "stderr",
     "output_type": "stream",
     "text": [
      "100%|██████████| 16/16 [00:25<00:00,  1.37s/it]\n"
     ]
    },
    {
     "name": "stdout",
     "output_type": "stream",
     "text": [
      "Escaneando página 878 de 1012\n",
      "Rastreando: https://www.mediamarkt.es/es/category/_placas-base-702420.html\n"
     ]
    },
    {
     "name": "stderr",
     "output_type": "stream",
     "text": [
      "100%|██████████| 1/1 [00:01<00:00,  1.40s/it]\n"
     ]
    },
    {
     "name": "stdout",
     "output_type": "stream",
     "text": [
      "Escaneando página 879 de 1012\n",
      "Rastreando: https://www.mediamarkt.es/es/category/_procesadores-702421.html\n"
     ]
    },
    {
     "name": "stderr",
     "output_type": "stream",
     "text": [
      "100%|██████████| 1/1 [00:01<00:00,  1.01s/it]\n"
     ]
    },
    {
     "name": "stdout",
     "output_type": "stream",
     "text": [
      "Escaneando página 880 de 1012\n",
      "Rastreando: https://www.mediamarkt.es/es/category/_memorias-ram-702422.html\n",
      "Número de páginas: 3\n"
     ]
    },
    {
     "name": "stderr",
     "output_type": "stream",
     "text": [
      "100%|██████████| 3/3 [00:03<00:00,  1.17s/it]\n"
     ]
    },
    {
     "name": "stdout",
     "output_type": "stream",
     "text": [
      "Escaneando página 881 de 1012\n",
      "Rastreando: https://www.mediamarkt.es/es/category/_discos-duros-internos-702423.html\n",
      "Número de páginas: 2\n"
     ]
    },
    {
     "name": "stderr",
     "output_type": "stream",
     "text": [
      "100%|██████████| 2/2 [00:02<00:00,  1.46s/it]\n"
     ]
    },
    {
     "name": "stdout",
     "output_type": "stream",
     "text": [
      "Escaneando página 882 de 1012\n",
      "Rastreando: https://www.mediamarkt.es/es/category/_cajas-y-torres-702424.html\n"
     ]
    },
    {
     "name": "stderr",
     "output_type": "stream",
     "text": [
      "100%|██████████| 1/1 [00:01<00:00,  1.18s/it]\n"
     ]
    },
    {
     "name": "stdout",
     "output_type": "stream",
     "text": [
      "Escaneando página 883 de 1012\n",
      "Rastreando: https://www.mediamarkt.es/es/category/_tarjetas-de-red-702425.html\n"
     ]
    },
    {
     "name": "stderr",
     "output_type": "stream",
     "text": [
      "100%|██████████| 1/1 [00:01<00:00,  1.04s/it]\n"
     ]
    },
    {
     "name": "stdout",
     "output_type": "stream",
     "text": [
      "Escaneando página 884 de 1012\n",
      "Rastreando: https://www.mediamarkt.es/es/category/_tarjetas-gr%C3%A1ficas-702426.html\n",
      "Número de páginas: 5\n"
     ]
    },
    {
     "name": "stderr",
     "output_type": "stream",
     "text": [
      "100%|██████████| 5/5 [00:07<00:00,  1.52s/it]\n"
     ]
    },
    {
     "name": "stdout",
     "output_type": "stream",
     "text": [
      "Escaneando página 885 de 1012\n",
      "Rastreando: https://www.mediamarkt.es/es/category/_tarjetas-de-sonido-702428.html\n"
     ]
    },
    {
     "name": "stderr",
     "output_type": "stream",
     "text": [
      "100%|██████████| 1/1 [00:01<00:00,  1.23s/it]\n"
     ]
    },
    {
     "name": "stdout",
     "output_type": "stream",
     "text": [
      "Escaneando página 886 de 1012\n",
      "Rastreando: https://www.mediamarkt.es/es/category/_refrigeraci%C3%B3n-y-ventilaci%C3%B3n-702429.html\n",
      "Número de páginas: 2\n"
     ]
    },
    {
     "name": "stderr",
     "output_type": "stream",
     "text": [
      "100%|██████████| 2/2 [00:02<00:00,  1.63s/it]\n"
     ]
    },
    {
     "name": "stdout",
     "output_type": "stream",
     "text": [
      "Escaneando página 887 de 1012\n",
      "Rastreando: https://www.mediamarkt.es/es/category/_grabadoras-dvd-blu-ray-702430.html\n"
     ]
    },
    {
     "name": "stderr",
     "output_type": "stream",
     "text": [
      "100%|██████████| 1/1 [00:01<00:00,  1.14s/it]\n"
     ]
    },
    {
     "name": "stdout",
     "output_type": "stream",
     "text": [
      "Escaneando página 888 de 1012\n",
      "Rastreando: https://www.mediamarkt.es/es/category/_capturadoras-y-sintonizadoras-702431.html\n"
     ]
    },
    {
     "name": "stderr",
     "output_type": "stream",
     "text": [
      "100%|██████████| 1/1 [00:01<00:00,  1.14s/it]\n"
     ]
    },
    {
     "name": "stdout",
     "output_type": "stream",
     "text": [
      "Escaneando página 889 de 1012\n",
      "Rastreando: https://www.mediamarkt.es/es/category/_fuente-alimentaci%C3%B3n-pc-702432.html\n"
     ]
    },
    {
     "name": "stderr",
     "output_type": "stream",
     "text": [
      "100%|██████████| 1/1 [00:01<00:00,  1.44s/it]\n"
     ]
    },
    {
     "name": "stdout",
     "output_type": "stream",
     "text": [
      "Escaneando página 890 de 1012\n",
      "Rastreando: https://www.mediamarkt.es/es/category/_accesorios-componentes-inform%C3%A1tica-702433.html\n",
      "Número de páginas: 5\n"
     ]
    },
    {
     "name": "stderr",
     "output_type": "stream",
     "text": [
      "100%|██████████| 5/5 [00:06<00:00,  1.28s/it]\n"
     ]
    },
    {
     "name": "stdout",
     "output_type": "stream",
     "text": [
      "Escaneando página 891 de 1012\n",
      "Rastreando: https://www.mediamarkt.es/es/category/_servidores-702434.html\n"
     ]
    },
    {
     "name": "stderr",
     "output_type": "stream",
     "text": [
      "100%|██████████| 1/1 [00:00<00:00,  1.18it/s]\n"
     ]
    },
    {
     "name": "stdout",
     "output_type": "stream",
     "text": [
      "Escaneando página 892 de 1012\n",
      "Rastreando: https://www.mediamarkt.es/es/category/_ratones-y-alfombrillas-701404.html\n",
      "Número de páginas: 18\n"
     ]
    },
    {
     "name": "stderr",
     "output_type": "stream",
     "text": [
      "100%|██████████| 18/18 [00:22<00:00,  1.04s/it]\n"
     ]
    },
    {
     "name": "stdout",
     "output_type": "stream",
     "text": [
      "Escaneando página 893 de 1012\n",
      "Rastreando: https://www.mediamarkt.es/es/category/_alfombrillas-de-rat%C3%B3n-702443.html\n",
      "Número de páginas: 9\n"
     ]
    },
    {
     "name": "stderr",
     "output_type": "stream",
     "text": [
      "100%|██████████| 9/9 [00:12<00:00,  1.40s/it]\n"
     ]
    },
    {
     "name": "stdout",
     "output_type": "stream",
     "text": [
      "Escaneando página 894 de 1012\n",
      "Rastreando: https://www.mediamarkt.es/es/category/_ratones-con-cable-702444.html\n",
      "Número de páginas: 3\n"
     ]
    },
    {
     "name": "stderr",
     "output_type": "stream",
     "text": [
      "100%|██████████| 3/3 [00:03<00:00,  1.29s/it]\n"
     ]
    },
    {
     "name": "stdout",
     "output_type": "stream",
     "text": [
      "Escaneando página 895 de 1012\n",
      "Rastreando: https://www.mediamarkt.es/es/category/_ratones-inal%C3%A1mbricos-702445.html\n",
      "Número de páginas: 5\n"
     ]
    },
    {
     "name": "stderr",
     "output_type": "stream",
     "text": [
      "100%|██████████| 5/5 [00:06<00:00,  1.29s/it]\n"
     ]
    },
    {
     "name": "stdout",
     "output_type": "stream",
     "text": [
      "Escaneando página 896 de 1012\n",
      "Rastreando: https://www.mediamarkt.es/es/category/_ratones-gaming-702446.html\n",
      "Número de páginas: 2\n"
     ]
    },
    {
     "name": "stderr",
     "output_type": "stream",
     "text": [
      "100%|██████████| 2/2 [00:02<00:00,  1.09s/it]\n"
     ]
    },
    {
     "name": "stdout",
     "output_type": "stream",
     "text": [
      "Escaneando página 897 de 1012\n",
      "Rastreando: https://www.mediamarkt.es/es/category/_punteros-702447.html\n"
     ]
    },
    {
     "name": "stderr",
     "output_type": "stream",
     "text": [
      "100%|██████████| 1/1 [00:00<00:00,  1.03it/s]\n"
     ]
    },
    {
     "name": "stdout",
     "output_type": "stream",
     "text": [
      "Escaneando página 898 de 1012\n",
      "Rastreando: https://www.mediamarkt.es/es/category/_teclados-701408.html\n",
      "Número de páginas: 4\n"
     ]
    },
    {
     "name": "stderr",
     "output_type": "stream",
     "text": [
      "100%|██████████| 4/4 [00:05<00:00,  1.23s/it]\n"
     ]
    },
    {
     "name": "stdout",
     "output_type": "stream",
     "text": [
      "Escaneando página 899 de 1012\n",
      "Rastreando: https://www.mediamarkt.es/es/category/_teclados-con-cable-702461.html\n"
     ]
    },
    {
     "name": "stderr",
     "output_type": "stream",
     "text": [
      "100%|██████████| 1/1 [00:01<00:00,  1.02s/it]\n"
     ]
    },
    {
     "name": "stdout",
     "output_type": "stream",
     "text": [
      "Escaneando página 900 de 1012\n",
      "Rastreando: https://www.mediamarkt.es/es/category/_teclados-bluetooth-702462.html\n"
     ]
    },
    {
     "name": "stderr",
     "output_type": "stream",
     "text": [
      "100%|██████████| 1/1 [00:02<00:00,  2.18s/it]\n"
     ]
    },
    {
     "name": "stdout",
     "output_type": "stream",
     "text": [
      "Escaneando página 901 de 1012\n",
      "Rastreando: https://www.mediamarkt.es/es/category/_teclados-inal%C3%A1mbricos-702463.html\n"
     ]
    },
    {
     "name": "stderr",
     "output_type": "stream",
     "text": [
      "100%|██████████| 1/1 [00:01<00:00,  1.35s/it]\n"
     ]
    },
    {
     "name": "stdout",
     "output_type": "stream",
     "text": [
      "Escaneando página 902 de 1012\n",
      "Rastreando: https://www.mediamarkt.es/es/category/_teclado-gaming-702464.html\n"
     ]
    },
    {
     "name": "stderr",
     "output_type": "stream",
     "text": [
      "100%|██████████| 1/1 [00:01<00:00,  1.05s/it]\n"
     ]
    },
    {
     "name": "stdout",
     "output_type": "stream",
     "text": [
      "Escaneando página 903 de 1012\n",
      "Rastreando: https://www.mediamarkt.es/es/category/_teclados-smarttv-702465.html\n"
     ]
    },
    {
     "name": "stderr",
     "output_type": "stream",
     "text": [
      "100%|██████████| 1/1 [00:00<00:00,  1.18it/s]\n"
     ]
    },
    {
     "name": "stdout",
     "output_type": "stream",
     "text": [
      "Escaneando página 904 de 1012\n",
      "Rastreando: https://www.mediamarkt.es/es/category/_mini-teclados-inal%C3%A1mbricos-para-m%C3%B3vil-y-tablet-702466.html\n"
     ]
    },
    {
     "name": "stderr",
     "output_type": "stream",
     "text": [
      "100%|██████████| 1/1 [00:00<00:00,  1.02it/s]\n"
     ]
    },
    {
     "name": "stdout",
     "output_type": "stream",
     "text": [
      "Escaneando página 905 de 1012\n",
      "Rastreando: https://www.mediamarkt.es/es/category/_teclados-num%C3%A9ricos-702467.html\n"
     ]
    },
    {
     "name": "stderr",
     "output_type": "stream",
     "text": [
      "100%|██████████| 1/1 [00:00<00:00,  1.04it/s]\n"
     ]
    },
    {
     "name": "stdout",
     "output_type": "stream",
     "text": [
      "Escaneando página 906 de 1012\n",
      "Rastreando: https://www.mediamarkt.es/es/category/_teclados-con-touchpad-702468.html\n"
     ]
    },
    {
     "name": "stderr",
     "output_type": "stream",
     "text": [
      "100%|██████████| 1/1 [00:01<00:00,  1.25s/it]\n"
     ]
    },
    {
     "name": "stdout",
     "output_type": "stream",
     "text": [
      "Escaneando página 907 de 1012\n",
      "Rastreando: https://www.mediamarkt.es/es/category/_packs-teclado-rat%C3%B3n-702469.html\n",
      "Número de páginas: 2\n"
     ]
    },
    {
     "name": "stderr",
     "output_type": "stream",
     "text": [
      "100%|██████████| 2/2 [00:02<00:00,  1.31s/it]\n"
     ]
    },
    {
     "name": "stdout",
     "output_type": "stream",
     "text": [
      "Escaneando página 908 de 1012\n",
      "Rastreando: https://www.mediamarkt.es/es/category/_cables-regletas-y-hubs-701393.html\n",
      "Número de páginas: 34\n"
     ]
    },
    {
     "name": "stderr",
     "output_type": "stream",
     "text": [
      "100%|██████████| 34/34 [00:44<00:00,  1.12s/it]\n"
     ]
    },
    {
     "name": "stdout",
     "output_type": "stream",
     "text": [
      "Escaneando página 909 de 1012\n",
      "Rastreando: https://www.mediamarkt.es/es/category/_cables-hdmi-702410.html\n",
      "Número de páginas: 4\n"
     ]
    },
    {
     "name": "stderr",
     "output_type": "stream",
     "text": [
      "100%|██████████| 4/4 [00:05<00:00,  1.44s/it]\n"
     ]
    },
    {
     "name": "stdout",
     "output_type": "stream",
     "text": [
      "Escaneando página 910 de 1012\n",
      "Rastreando: https://www.mediamarkt.es/es/category/_cables-de-red-702411.html\n",
      "Número de páginas: 3\n"
     ]
    },
    {
     "name": "stderr",
     "output_type": "stream",
     "text": [
      "100%|██████████| 3/3 [00:04<00:00,  1.48s/it]\n"
     ]
    },
    {
     "name": "stdout",
     "output_type": "stream",
     "text": [
      "Escaneando página 911 de 1012\n",
      "Rastreando: https://www.mediamarkt.es/es/category/_cables-usb-702412.html\n",
      "Número de páginas: 7\n"
     ]
    },
    {
     "name": "stderr",
     "output_type": "stream",
     "text": [
      "100%|██████████| 7/7 [00:09<00:00,  1.24s/it]\n"
     ]
    },
    {
     "name": "stdout",
     "output_type": "stream",
     "text": [
      "Escaneando página 912 de 1012\n",
      "Rastreando: https://www.mediamarkt.es/es/category/_cables-vga-dvi-702413.html\n",
      "Número de páginas: 2\n"
     ]
    },
    {
     "name": "stderr",
     "output_type": "stream",
     "text": [
      "100%|██████████| 2/2 [00:03<00:00,  1.64s/it]\n"
     ]
    },
    {
     "name": "stdout",
     "output_type": "stream",
     "text": [
      "Escaneando página 913 de 1012\n",
      "Rastreando: https://www.mediamarkt.es/es/category/_accesorios-telefon%C3%ADa-702414.html\n",
      "Número de páginas: 15\n"
     ]
    },
    {
     "name": "stderr",
     "output_type": "stream",
     "text": [
      "100%|██████████| 15/15 [00:21<00:00,  1.34s/it]\n"
     ]
    },
    {
     "name": "stdout",
     "output_type": "stream",
     "text": [
      "Escaneando página 914 de 1012\n",
      "Rastreando: https://www.mediamarkt.es/es/category/_fundas-y-maletines-701400.html\n",
      "Número de páginas: 17\n"
     ]
    },
    {
     "name": "stderr",
     "output_type": "stream",
     "text": [
      "100%|██████████| 17/17 [00:28<00:00,  1.50s/it]\n"
     ]
    },
    {
     "name": "stdout",
     "output_type": "stream",
     "text": [
      "Escaneando página 915 de 1012\n",
      "Rastreando: https://www.mediamarkt.es/es/category/_fundas-inform%C3%A1tica-702435.html\n",
      "Número de páginas: 4\n"
     ]
    },
    {
     "name": "stderr",
     "output_type": "stream",
     "text": [
      "100%|██████████| 4/4 [00:05<00:00,  1.37s/it]\n"
     ]
    },
    {
     "name": "stdout",
     "output_type": "stream",
     "text": [
      "Escaneando página 916 de 1012\n",
      "Rastreando: https://www.mediamarkt.es/es/category/_mochilas-702436.html\n",
      "Número de páginas: 3\n"
     ]
    },
    {
     "name": "stderr",
     "output_type": "stream",
     "text": [
      "100%|██████████| 3/3 [00:03<00:00,  1.05s/it]\n"
     ]
    },
    {
     "name": "stdout",
     "output_type": "stream",
     "text": [
      "Escaneando página 917 de 1012\n",
      "Rastreando: https://www.mediamarkt.es/es/category/_malet%C3%ADn-702437.html\n",
      "Número de páginas: 4\n"
     ]
    },
    {
     "name": "stderr",
     "output_type": "stream",
     "text": [
      "100%|██████████| 4/4 [00:06<00:00,  1.57s/it]\n"
     ]
    },
    {
     "name": "stdout",
     "output_type": "stream",
     "text": [
      "Escaneando página 918 de 1012\n",
      "Rastreando: https://www.mediamarkt.es/es/category/_trolley-702438.html\n"
     ]
    },
    {
     "name": "stderr",
     "output_type": "stream",
     "text": [
      "100%|██████████| 1/1 [00:01<00:00,  1.10s/it]\n"
     ]
    },
    {
     "name": "stdout",
     "output_type": "stream",
     "text": [
      "Escaneando página 919 de 1012\n",
      "Rastreando: https://www.mediamarkt.es/es/category/_bandolera-702439.html\n"
     ]
    },
    {
     "name": "stderr",
     "output_type": "stream",
     "text": [
      "100%|██████████| 1/1 [00:01<00:00,  1.12s/it]\n"
     ]
    },
    {
     "name": "stdout",
     "output_type": "stream",
     "text": [
      "Escaneando página 920 de 1012\n",
      "Rastreando: https://www.mediamarkt.es/es/category/_fundas-disco-duro-702440.html\n",
      "Número de páginas: 2\n"
     ]
    },
    {
     "name": "stderr",
     "output_type": "stream",
     "text": [
      "100%|██████████| 2/2 [00:03<00:00,  2.13s/it]\n"
     ]
    },
    {
     "name": "stdout",
     "output_type": "stream",
     "text": [
      "Escaneando página 921 de 1012\n",
      "Rastreando: https://www.mediamarkt.es/es/category/_tablets-702441.html\n",
      "Número de páginas: 4\n"
     ]
    },
    {
     "name": "stderr",
     "output_type": "stream",
     "text": [
      "100%|██████████| 4/4 [00:05<00:00,  1.26s/it]\n"
     ]
    },
    {
     "name": "stdout",
     "output_type": "stream",
     "text": [
      "Escaneando página 922 de 1012\n",
      "Rastreando: https://www.mediamarkt.es/es/category/_fundas-ebook-702442.html\n"
     ]
    },
    {
     "name": "stderr",
     "output_type": "stream",
     "text": [
      "100%|██████████| 1/1 [00:01<00:00,  1.27s/it]\n"
     ]
    },
    {
     "name": "stdout",
     "output_type": "stream",
     "text": [
      "Escaneando página 923 de 1012\n",
      "Rastreando: https://www.mediamarkt.es/es/category/_alimentaci%C3%B3n-y-carga-701388.html\n",
      "Número de páginas: 16\n"
     ]
    },
    {
     "name": "stderr",
     "output_type": "stream",
     "text": [
      "100%|██████████| 16/16 [00:27<00:00,  1.66s/it]\n"
     ]
    },
    {
     "name": "stdout",
     "output_type": "stream",
     "text": [
      "Escaneando página 924 de 1012\n",
      "Rastreando: https://www.mediamarkt.es/es/category/_power-banks-702393.html\n"
     ]
    },
    {
     "name": "stderr",
     "output_type": "stream",
     "text": [
      "100%|██████████| 1/1 [00:01<00:00,  1.10s/it]\n"
     ]
    },
    {
     "name": "stdout",
     "output_type": "stream",
     "text": [
      "Escaneando página 925 de 1012\n",
      "Rastreando: https://www.mediamarkt.es/es/category/_cargador-universal-ac-dc-702394.html\n",
      "Número de páginas: 3\n"
     ]
    },
    {
     "name": "stderr",
     "output_type": "stream",
     "text": [
      "100%|██████████| 3/3 [00:04<00:00,  1.53s/it]\n"
     ]
    },
    {
     "name": "stdout",
     "output_type": "stream",
     "text": [
      "Escaneando página 926 de 1012\n",
      "Rastreando: https://www.mediamarkt.es/es/category/_cargador-universal-coche-702395.html\n",
      "Número de páginas: 2\n"
     ]
    },
    {
     "name": "stderr",
     "output_type": "stream",
     "text": [
      "100%|██████████| 2/2 [00:02<00:00,  1.29s/it]\n"
     ]
    },
    {
     "name": "stdout",
     "output_type": "stream",
     "text": [
      "Escaneando página 927 de 1012\n",
      "Rastreando: https://www.mediamarkt.es/es/category/_cargador-ios-mac-702396.html\n"
     ]
    },
    {
     "name": "stderr",
     "output_type": "stream",
     "text": [
      "100%|██████████| 1/1 [00:01<00:00,  1.12s/it]\n"
     ]
    },
    {
     "name": "stdout",
     "output_type": "stream",
     "text": [
      "Escaneando página 928 de 1012\n",
      "Rastreando: https://www.mediamarkt.es/es/category/_bater%C3%ADas-inform%C3%A1tica-702397.html\n"
     ]
    },
    {
     "name": "stderr",
     "output_type": "stream",
     "text": [
      "100%|██████████| 1/1 [00:01<00:00,  1.17s/it]\n"
     ]
    },
    {
     "name": "stdout",
     "output_type": "stream",
     "text": [
      "Escaneando página 929 de 1012\n",
      "Rastreando: https://www.mediamarkt.es/es/category/_regletas-ladrones-702398.html\n",
      "Número de páginas: 9\n"
     ]
    },
    {
     "name": "stderr",
     "output_type": "stream",
     "text": [
      "100%|██████████| 9/9 [00:12<00:00,  1.38s/it]\n"
     ]
    },
    {
     "name": "stdout",
     "output_type": "stream",
     "text": [
      "Escaneando página 930 de 1012\n",
      "Rastreando: https://www.mediamarkt.es/es/category/_alargadores-702399.html\n"
     ]
    },
    {
     "name": "stderr",
     "output_type": "stream",
     "text": [
      "100%|██████████| 1/1 [00:01<00:00,  1.08s/it]\n"
     ]
    },
    {
     "name": "stdout",
     "output_type": "stream",
     "text": [
      "Escaneando página 931 de 1012\n",
      "Rastreando: https://www.mediamarkt.es/es/category/_adaptadores-viaje-702400.html\n"
     ]
    },
    {
     "name": "stderr",
     "output_type": "stream",
     "text": [
      "100%|██████████| 1/1 [00:01<00:00,  1.38s/it]\n"
     ]
    },
    {
     "name": "stdout",
     "output_type": "stream",
     "text": [
      "Escaneando página 932 de 1012\n",
      "Rastreando: https://www.mediamarkt.es/es/category/_luz-noctura-702401.html\n"
     ]
    },
    {
     "name": "stderr",
     "output_type": "stream",
     "text": [
      "100%|██████████| 1/1 [00:00<00:00,  1.04it/s]\n"
     ]
    },
    {
     "name": "stdout",
     "output_type": "stream",
     "text": [
      "Escaneando página 933 de 1012\n",
      "Rastreando: https://www.mediamarkt.es/es/category/_temporizadores-el%C3%A9ctricos-702402.html\n"
     ]
    },
    {
     "name": "stderr",
     "output_type": "stream",
     "text": [
      "100%|██████████| 1/1 [00:00<00:00,  1.01it/s]\n"
     ]
    },
    {
     "name": "stdout",
     "output_type": "stream",
     "text": [
      "Escaneando página 934 de 1012\n",
      "Rastreando: https://www.mediamarkt.es/es/category/_sai-702403.html\n"
     ]
    },
    {
     "name": "stderr",
     "output_type": "stream",
     "text": [
      "100%|██████████| 1/1 [00:01<00:00,  1.31s/it]\n"
     ]
    },
    {
     "name": "stdout",
     "output_type": "stream",
     "text": [
      "Escaneando página 935 de 1012\n",
      "Rastreando: https://www.mediamarkt.es/es/category/_orden-recogecables-702404.html\n"
     ]
    },
    {
     "name": "stderr",
     "output_type": "stream",
     "text": [
      "100%|██████████| 1/1 [00:01<00:00,  1.06s/it]\n"
     ]
    },
    {
     "name": "stdout",
     "output_type": "stream",
     "text": [
      "Escaneando página 936 de 1012\n",
      "Rastreando: https://www.mediamarkt.es/es/category/_tabletas-gr%C3%A1ficas-701407.html\n"
     ]
    },
    {
     "name": "stderr",
     "output_type": "stream",
     "text": [
      "100%|██████████| 1/1 [00:01<00:00,  1.52s/it]\n"
     ]
    },
    {
     "name": "stdout",
     "output_type": "stream",
     "text": [
      "Escaneando página 937 de 1012\n",
      "Rastreando: https://www.mediamarkt.es/es/category/_tableta-digital-702458.html\n"
     ]
    },
    {
     "name": "stderr",
     "output_type": "stream",
     "text": [
      "100%|██████████| 1/1 [00:00<00:00,  1.15it/s]\n"
     ]
    },
    {
     "name": "stdout",
     "output_type": "stream",
     "text": [
      "Escaneando página 938 de 1012\n",
      "Rastreando: https://www.mediamarkt.es/es/category/_stylus-702460.html\n"
     ]
    },
    {
     "name": "stderr",
     "output_type": "stream",
     "text": [
      "100%|██████████| 1/1 [00:01<00:00,  1.03s/it]\n"
     ]
    },
    {
     "name": "stdout",
     "output_type": "stream",
     "text": [
      "Escaneando página 939 de 1012\n",
      "Rastreando: https://www.mediamarkt.es/es/category/_altavoces-pc-701391.html\n",
      "Número de páginas: 3\n"
     ]
    },
    {
     "name": "stderr",
     "output_type": "stream",
     "text": [
      "100%|██████████| 3/3 [00:06<00:00,  1.99s/it]\n"
     ]
    },
    {
     "name": "stdout",
     "output_type": "stream",
     "text": [
      "Escaneando página 940 de 1012\n",
      "Rastreando: https://www.mediamarkt.es/es/category/_altavoces-pc-bluetooth-702405.html\n"
     ]
    },
    {
     "name": "stderr",
     "output_type": "stream",
     "text": [
      "100%|██████████| 1/1 [00:00<00:00,  1.14it/s]\n"
     ]
    },
    {
     "name": "stdout",
     "output_type": "stream",
     "text": [
      "Escaneando página 941 de 1012\n",
      "Rastreando: https://www.mediamarkt.es/es/category/_sonido-5-1-702406.html\n"
     ]
    },
    {
     "name": "stderr",
     "output_type": "stream",
     "text": [
      "100%|██████████| 1/1 [00:00<00:00,  1.03it/s]\n"
     ]
    },
    {
     "name": "stdout",
     "output_type": "stream",
     "text": [
      "Escaneando página 942 de 1012\n",
      "Rastreando: https://www.mediamarkt.es/es/category/_sonido-2-1-702407.html\n"
     ]
    },
    {
     "name": "stderr",
     "output_type": "stream",
     "text": [
      "100%|██████████| 1/1 [00:01<00:00,  1.36s/it]\n"
     ]
    },
    {
     "name": "stdout",
     "output_type": "stream",
     "text": [
      "Escaneando página 943 de 1012\n",
      "Rastreando: https://www.mediamarkt.es/es/category/_jack-3-5-702408.html\n"
     ]
    },
    {
     "name": "stderr",
     "output_type": "stream",
     "text": [
      "100%|██████████| 1/1 [00:01<00:00,  1.56s/it]\n"
     ]
    },
    {
     "name": "stdout",
     "output_type": "stream",
     "text": [
      "Escaneando página 944 de 1012\n",
      "Rastreando: https://www.mediamarkt.es/es/category/_usb-702409.html\n"
     ]
    },
    {
     "name": "stderr",
     "output_type": "stream",
     "text": [
      "100%|██████████| 1/1 [00:02<00:00,  2.91s/it]\n"
     ]
    },
    {
     "name": "stdout",
     "output_type": "stream",
     "text": [
      "Escaneando página 945 de 1012\n",
      "Rastreando: https://www.mediamarkt.es/es/category/_webcams-701409.html\n"
     ]
    },
    {
     "name": "stderr",
     "output_type": "stream",
     "text": [
      "100%|██████████| 1/1 [00:01<00:00,  1.42s/it]\n"
     ]
    },
    {
     "name": "stdout",
     "output_type": "stream",
     "text": [
      "Escaneando página 946 de 1012\n",
      "Rastreando: https://www.mediamarkt.es/es/category/_lectores-de-tarjeta-701402.html\n",
      "Número de páginas: 2\n"
     ]
    },
    {
     "name": "stderr",
     "output_type": "stream",
     "text": [
      "100%|██████████| 2/2 [00:02<00:00,  1.34s/it]\n"
     ]
    },
    {
     "name": "stdout",
     "output_type": "stream",
     "text": [
      "Escaneando página 947 de 1012\n",
      "Rastreando: https://www.mediamarkt.es/es/category/_controladoras-dj-701397.html\n"
     ]
    },
    {
     "name": "stderr",
     "output_type": "stream",
     "text": [
      "100%|██████████| 1/1 [00:01<00:00,  1.05s/it]\n"
     ]
    },
    {
     "name": "stdout",
     "output_type": "stream",
     "text": [
      "Escaneando página 948 de 1012\n",
      "Rastreando: https://www.mediamarkt.es/es/category/_auriculares-701390.html\n",
      "Número de páginas: 3\n"
     ]
    },
    {
     "name": "stderr",
     "output_type": "stream",
     "text": [
      "100%|██████████| 3/3 [00:04<00:00,  1.51s/it]\n"
     ]
    },
    {
     "name": "stdout",
     "output_type": "stream",
     "text": [
      "Escaneando página 949 de 1012\n",
      "Rastreando: https://www.mediamarkt.es/es/category/_accesorios-tablets-701387.html\n",
      "Número de páginas: 17\n"
     ]
    },
    {
     "name": "stderr",
     "output_type": "stream",
     "text": [
      "100%|██████████| 17/17 [00:24<00:00,  1.40s/it]\n"
     ]
    },
    {
     "name": "stdout",
     "output_type": "stream",
     "text": [
      "Escaneando página 950 de 1012\n",
      "Rastreando: https://www.mediamarkt.es/es/category/_adaptadores-tablet-702383.html\n"
     ]
    },
    {
     "name": "stderr",
     "output_type": "stream",
     "text": [
      "100%|██████████| 1/1 [00:01<00:00,  1.15s/it]\n"
     ]
    },
    {
     "name": "stdout",
     "output_type": "stream",
     "text": [
      "Escaneando página 951 de 1012\n",
      "Rastreando: https://www.mediamarkt.es/es/category/_cargadores-tablet-702384.html\n",
      "Número de páginas: 2\n"
     ]
    },
    {
     "name": "stderr",
     "output_type": "stream",
     "text": [
      "100%|██████████| 2/2 [00:02<00:00,  1.28s/it]\n"
     ]
    },
    {
     "name": "stdout",
     "output_type": "stream",
     "text": [
      "Escaneando página 952 de 1012\n",
      "Rastreando: https://www.mediamarkt.es/es/category/_fundas-tablet-702385.html\n",
      "Número de páginas: 8\n"
     ]
    },
    {
     "name": "stderr",
     "output_type": "stream",
     "text": [
      "100%|██████████| 8/8 [00:12<00:00,  1.52s/it]\n"
     ]
    },
    {
     "name": "stdout",
     "output_type": "stream",
     "text": [
      "Escaneando página 953 de 1012\n",
      "Rastreando: https://www.mediamarkt.es/es/category/_fundas-teclado-702386.html\n",
      "Número de páginas: 2\n"
     ]
    },
    {
     "name": "stderr",
     "output_type": "stream",
     "text": [
      "100%|██████████| 2/2 [00:02<00:00,  1.36s/it]\n"
     ]
    },
    {
     "name": "stdout",
     "output_type": "stream",
     "text": [
      "Escaneando página 954 de 1012\n",
      "Rastreando: https://www.mediamarkt.es/es/category/_gadgets-702387.html\n"
     ]
    },
    {
     "name": "stderr",
     "output_type": "stream",
     "text": [
      "100%|██████████| 1/1 [00:00<00:00,  1.15it/s]\n"
     ]
    },
    {
     "name": "stdout",
     "output_type": "stream",
     "text": [
      "Escaneando página 955 de 1012\n",
      "Rastreando: https://www.mediamarkt.es/es/category/_soportes-tablet-702388.html\n"
     ]
    },
    {
     "name": "stderr",
     "output_type": "stream",
     "text": [
      "100%|██████████| 1/1 [00:01<00:00,  1.19s/it]\n"
     ]
    },
    {
     "name": "stdout",
     "output_type": "stream",
     "text": [
      "Escaneando página 956 de 1012\n",
      "Rastreando: https://www.mediamarkt.es/es/category/_protectores-pantalla-tablet-702389.html\n"
     ]
    },
    {
     "name": "stderr",
     "output_type": "stream",
     "text": [
      "100%|██████████| 1/1 [00:01<00:00,  1.24s/it]\n"
     ]
    },
    {
     "name": "stdout",
     "output_type": "stream",
     "text": [
      "Escaneando página 957 de 1012\n",
      "Rastreando: https://www.mediamarkt.es/es/category/_stylus-702390.html\n"
     ]
    },
    {
     "name": "stderr",
     "output_type": "stream",
     "text": [
      "100%|██████████| 1/1 [00:01<00:00,  1.20s/it]\n"
     ]
    },
    {
     "name": "stdout",
     "output_type": "stream",
     "text": [
      "Escaneando página 958 de 1012\n",
      "Rastreando: https://www.mediamarkt.es/es/category/_tarjetas-de-memoria-tablet-702391.html\n"
     ]
    },
    {
     "name": "stderr",
     "output_type": "stream",
     "text": [
      "100%|██████████| 1/1 [00:00<00:00,  1.06it/s]\n"
     ]
    },
    {
     "name": "stdout",
     "output_type": "stream",
     "text": [
      "Escaneando página 959 de 1012\n",
      "Rastreando: https://www.mediamarkt.es/es/category/_docking-station-702392.html\n"
     ]
    },
    {
     "name": "stderr",
     "output_type": "stream",
     "text": [
      "100%|██████████| 1/1 [00:00<00:00,  1.16it/s]\n"
     ]
    },
    {
     "name": "stdout",
     "output_type": "stream",
     "text": [
      "Escaneando página 960 de 1012\n",
      "Rastreando: https://www.mediamarkt.es/es/category/_base-refrigerante-701392.html\n"
     ]
    },
    {
     "name": "stderr",
     "output_type": "stream",
     "text": [
      "100%|██████████| 1/1 [00:01<00:00,  1.52s/it]\n"
     ]
    },
    {
     "name": "stdout",
     "output_type": "stream",
     "text": [
      "Escaneando página 961 de 1012\n",
      "Rastreando: https://www.mediamarkt.es/es/category/_dock-y-hub-701398.html\n",
      "Número de páginas: 3\n"
     ]
    },
    {
     "name": "stderr",
     "output_type": "stream",
     "text": [
      "100%|██████████| 3/3 [00:04<00:00,  1.51s/it]\n"
     ]
    },
    {
     "name": "stdout",
     "output_type": "stream",
     "text": [
      "Escaneando página 962 de 1012\n",
      "Rastreando: https://www.mediamarkt.es/es/category/_ergonom%C3%ADa-701399.html\n"
     ]
    },
    {
     "name": "stderr",
     "output_type": "stream",
     "text": [
      "100%|██████████| 1/1 [00:01<00:00,  1.48s/it]\n"
     ]
    },
    {
     "name": "stdout",
     "output_type": "stream",
     "text": [
      "Escaneando página 963 de 1012\n",
      "Rastreando: https://www.mediamarkt.es/es/category/_limpieza-ordenador-701403.html\n",
      "Número de páginas: 2\n"
     ]
    },
    {
     "name": "stderr",
     "output_type": "stream",
     "text": [
      "100%|██████████| 2/2 [00:02<00:00,  1.44s/it]\n"
     ]
    },
    {
     "name": "stdout",
     "output_type": "stream",
     "text": [
      "Escaneando página 964 de 1012\n",
      "Rastreando: https://www.mediamarkt.es/es/category/_soportes-inform%C3%A1tica-701406.html\n",
      "Número de páginas: 2\n"
     ]
    },
    {
     "name": "stderr",
     "output_type": "stream",
     "text": [
      "100%|██████████| 2/2 [00:02<00:00,  1.43s/it]\n"
     ]
    },
    {
     "name": "stdout",
     "output_type": "stream",
     "text": [
      "Escaneando página 965 de 1012\n",
      "Rastreando: https://www.mediamarkt.es/es/category/_cd-dvd-blu-ray-701394.html\n",
      "Número de páginas: 3\n"
     ]
    },
    {
     "name": "stderr",
     "output_type": "stream",
     "text": [
      "100%|██████████| 3/3 [00:04<00:00,  1.39s/it]\n"
     ]
    },
    {
     "name": "stdout",
     "output_type": "stream",
     "text": [
      "Escaneando página 966 de 1012\n",
      "Rastreando: https://www.mediamarkt.es/es/category/_blu-ray-virgen-702415.html\n"
     ]
    },
    {
     "name": "stderr",
     "output_type": "stream",
     "text": [
      "100%|██████████| 1/1 [00:00<00:00,  1.12it/s]\n"
     ]
    },
    {
     "name": "stdout",
     "output_type": "stream",
     "text": [
      "Escaneando página 967 de 1012\n",
      "Rastreando: https://www.mediamarkt.es/es/category/_dvd-virgen-702417.html\n"
     ]
    },
    {
     "name": "stderr",
     "output_type": "stream",
     "text": [
      "100%|██████████| 1/1 [00:01<00:00,  1.31s/it]\n"
     ]
    },
    {
     "name": "stdout",
     "output_type": "stream",
     "text": [
      "Escaneando página 968 de 1012\n",
      "Rastreando: https://www.mediamarkt.es/es/category/_grabadoras-dvd-blu-ray-702418.html\n"
     ]
    },
    {
     "name": "stderr",
     "output_type": "stream",
     "text": [
      "100%|██████████| 1/1 [00:01<00:00,  1.08s/it]\n"
     ]
    },
    {
     "name": "stdout",
     "output_type": "stream",
     "text": [
      "Escaneando página 969 de 1012\n",
      "Rastreando: https://www.mediamarkt.es/es/category/_complementos-702419.html\n",
      "Número de páginas: 2\n"
     ]
    },
    {
     "name": "stderr",
     "output_type": "stream",
     "text": [
      "100%|██████████| 2/2 [00:03<00:00,  1.70s/it]\n"
     ]
    },
    {
     "name": "stdout",
     "output_type": "stream",
     "text": [
      "Escaneando página 970 de 1012\n",
      "Rastreando: https://www.mediamarkt.es/es/category/_ebooks-701186.html\n",
      "Número de páginas: 2\n"
     ]
    },
    {
     "name": "stderr",
     "output_type": "stream",
     "text": [
      "100%|██████████| 2/2 [00:02<00:00,  1.42s/it]\n"
     ]
    },
    {
     "name": "stdout",
     "output_type": "stream",
     "text": [
      "Escaneando página 971 de 1012\n",
      "Rastreando: https://www.mediamarkt.es/es/category/_ebooks-tinta-electr%C3%B3nica-701471.html\n"
     ]
    },
    {
     "name": "stderr",
     "output_type": "stream",
     "text": [
      "100%|██████████| 1/1 [00:01<00:00,  1.44s/it]\n"
     ]
    },
    {
     "name": "stdout",
     "output_type": "stream",
     "text": [
      "Escaneando página 972 de 1012\n",
      "Rastreando: https://www.mediamarkt.es/es/category/_accesorios-ebook-701472.html\n"
     ]
    },
    {
     "name": "stderr",
     "output_type": "stream",
     "text": [
      "100%|██████████| 1/1 [00:01<00:00,  1.11s/it]\n"
     ]
    },
    {
     "name": "stdout",
     "output_type": "stream",
     "text": [
      "Escaneando página 973 de 1012\n",
      "Rastreando: https://www.mediamarkt.es/es/category/_software-701188.html\n"
     ]
    },
    {
     "name": "stderr",
     "output_type": "stream",
     "text": [
      "100%|██████████| 1/1 [00:01<00:00,  1.05s/it]\n"
     ]
    },
    {
     "name": "stdout",
     "output_type": "stream",
     "text": [
      "Escaneando página 974 de 1012\n",
      "Rastreando: https://www.mediamarkt.es/es/category/_productividad-701480.html\n"
     ]
    },
    {
     "name": "stderr",
     "output_type": "stream",
     "text": [
      "100%|██████████| 1/1 [00:00<00:00,  1.12it/s]\n"
     ]
    },
    {
     "name": "stdout",
     "output_type": "stream",
     "text": [
      "Escaneando página 975 de 1012\n",
      "Rastreando: https://www.mediamarkt.es/es/category/_telefon%C3%ADa-701128.html\n"
     ]
    },
    {
     "name": "stderr",
     "output_type": "stream",
     "text": [
      "100%|██████████| 1/1 [00:00<00:00,  1.13it/s]\n"
     ]
    },
    {
     "name": "stdout",
     "output_type": "stream",
     "text": [
      "Escaneando página 976 de 1012\n",
      "Rastreando: https://www.mediamarkt.es/es/category/_smartphones-701189.html\n",
      "Número de páginas: 15\n"
     ]
    },
    {
     "name": "stderr",
     "output_type": "stream",
     "text": [
      "100%|██████████| 15/15 [00:16<00:00,  1.07s/it]\n"
     ]
    },
    {
     "name": "stdout",
     "output_type": "stream",
     "text": [
      "Escaneando página 977 de 1012\n",
      "Rastreando: https://www.mediamarkt.es/es/category/_m%C3%B3viles-b%C3%A1sicos-701190.html\n",
      "Número de páginas: 4\n"
     ]
    },
    {
     "name": "stderr",
     "output_type": "stream",
     "text": [
      "100%|██████████| 4/4 [00:04<00:00,  1.03s/it]\n"
     ]
    },
    {
     "name": "stdout",
     "output_type": "stream",
     "text": [
      "Escaneando página 978 de 1012\n",
      "Rastreando: https://www.mediamarkt.es/es/category/_smartwatches-701191.html\n",
      "Número de páginas: 2\n"
     ]
    },
    {
     "name": "stderr",
     "output_type": "stream",
     "text": [
      "100%|██████████| 2/2 [00:01<00:00,  1.00it/s]\n"
     ]
    },
    {
     "name": "stdout",
     "output_type": "stream",
     "text": [
      "Escaneando página 979 de 1012\n",
      "Rastreando: https://www.mediamarkt.es/es/category/_gadgets-y-realidad-virtual-701192.html\n",
      "Número de páginas: 8\n"
     ]
    },
    {
     "name": "stderr",
     "output_type": "stream",
     "text": [
      "100%|██████████| 8/8 [00:13<00:00,  1.51s/it]\n"
     ]
    },
    {
     "name": "stdout",
     "output_type": "stream",
     "text": [
      "Escaneando página 980 de 1012\n",
      "Rastreando: https://www.mediamarkt.es/es/category/_gadgets-701481.html\n",
      "Número de páginas: 3\n"
     ]
    },
    {
     "name": "stderr",
     "output_type": "stream",
     "text": [
      "100%|██████████| 3/3 [00:03<00:00,  1.31s/it]\n"
     ]
    },
    {
     "name": "stdout",
     "output_type": "stream",
     "text": [
      "Escaneando página 981 de 1012\n",
      "Rastreando: https://www.mediamarkt.es/es/category/_palos-selfie-701482.html\n"
     ]
    },
    {
     "name": "stderr",
     "output_type": "stream",
     "text": [
      "100%|██████████| 1/1 [00:01<00:00,  1.31s/it]\n"
     ]
    },
    {
     "name": "stdout",
     "output_type": "stream",
     "text": [
      "Escaneando página 982 de 1012\n",
      "Rastreando: https://www.mediamarkt.es/es/category/_soportes-m%C3%B3vil-701483.html\n",
      "Número de páginas: 4\n"
     ]
    },
    {
     "name": "stderr",
     "output_type": "stream",
     "text": [
      "100%|██████████| 4/4 [00:07<00:00,  1.93s/it]\n"
     ]
    },
    {
     "name": "stdout",
     "output_type": "stream",
     "text": [
      "Escaneando página 983 de 1012\n",
      "Rastreando: https://www.mediamarkt.es/es/category/_lentes-para-m%C3%B3viles-701484.html\n"
     ]
    },
    {
     "name": "stderr",
     "output_type": "stream",
     "text": [
      "100%|██████████| 1/1 [00:01<00:00,  1.04s/it]\n"
     ]
    },
    {
     "name": "stdout",
     "output_type": "stream",
     "text": [
      "Escaneando página 984 de 1012\n",
      "Rastreando: https://www.mediamarkt.es/es/category/_c%C3%A1maras-360%C2%BA-701485.html\n"
     ]
    },
    {
     "name": "stderr",
     "output_type": "stream",
     "text": [
      "100%|██████████| 1/1 [00:00<00:00,  1.20it/s]\n"
     ]
    },
    {
     "name": "stdout",
     "output_type": "stream",
     "text": [
      "Escaneando página 985 de 1012\n",
      "Rastreando: https://www.mediamarkt.es/es/category/_realidad-virtual-701487.html\n"
     ]
    },
    {
     "name": "stderr",
     "output_type": "stream",
     "text": [
      "100%|██████████| 1/1 [00:00<00:00,  1.04it/s]\n"
     ]
    },
    {
     "name": "stdout",
     "output_type": "stream",
     "text": [
      "Escaneando página 986 de 1012\n",
      "Rastreando: https://www.mediamarkt.es/es/category/_accesorios-para-m%C3%B3viles-701193.html\n"
     ]
    },
    {
     "name": "stderr",
     "output_type": "stream",
     "text": [
      "100%|██████████| 1/1 [00:00<00:00,  1.08it/s]\n"
     ]
    },
    {
     "name": "stdout",
     "output_type": "stream",
     "text": [
      "Escaneando página 987 de 1012\n",
      "Rastreando: https://www.mediamarkt.es/es/category/_tarjetas-microsd-701491.html\n",
      "Número de páginas: 2\n"
     ]
    },
    {
     "name": "stderr",
     "output_type": "stream",
     "text": [
      "100%|██████████| 2/2 [00:01<00:00,  1.05it/s]\n"
     ]
    },
    {
     "name": "stdout",
     "output_type": "stream",
     "text": [
      "Escaneando página 988 de 1012\n",
      "Rastreando: https://www.mediamarkt.es/es/category/_bater%C3%ADas-y-power-banks-701489.html\n",
      "Número de páginas: 7\n"
     ]
    },
    {
     "name": "stderr",
     "output_type": "stream",
     "text": [
      "100%|██████████| 7/7 [00:10<00:00,  1.62s/it]\n"
     ]
    },
    {
     "name": "stdout",
     "output_type": "stream",
     "text": [
      "Escaneando página 989 de 1012\n",
      "Rastreando: https://www.mediamarkt.es/es/category/_power-bank-702526.html\n",
      "Número de páginas: 7\n"
     ]
    },
    {
     "name": "stderr",
     "output_type": "stream",
     "text": [
      "100%|██████████| 7/7 [00:10<00:00,  1.60s/it]\n"
     ]
    },
    {
     "name": "stdout",
     "output_type": "stream",
     "text": [
      "Escaneando página 990 de 1012\n",
      "Rastreando: https://www.mediamarkt.es/es/category/_auriculares-701496.html\n",
      "Número de páginas: 2\n"
     ]
    },
    {
     "name": "stderr",
     "output_type": "stream",
     "text": [
      "100%|██████████| 2/2 [00:02<00:00,  1.03s/it]\n"
     ]
    },
    {
     "name": "stdout",
     "output_type": "stream",
     "text": [
      "Escaneando página 991 de 1012\n",
      "Rastreando: https://www.mediamarkt.es/es/category/_fundas-y-carcasas-701488.html\n",
      "Número de páginas: 55\n"
     ]
    },
    {
     "name": "stderr",
     "output_type": "stream",
     "text": [
      "100%|██████████| 55/55 [01:37<00:00,  1.52s/it]\n"
     ]
    },
    {
     "name": "stdout",
     "output_type": "stream",
     "text": [
      "Escaneando página 992 de 1012\n",
      "Rastreando: https://www.mediamarkt.es/es/category/_protectores-pantalla-m%C3%B3vil-701490.html\n",
      "Número de páginas: 10\n"
     ]
    },
    {
     "name": "stderr",
     "output_type": "stream",
     "text": [
      "100%|██████████| 10/10 [00:17<00:00,  1.64s/it]\n"
     ]
    },
    {
     "name": "stdout",
     "output_type": "stream",
     "text": [
      "Escaneando página 993 de 1012\n",
      "Rastreando: https://www.mediamarkt.es/es/category/_cargadores-m%C3%B3vil-701492.html\n",
      "Número de páginas: 13\n"
     ]
    },
    {
     "name": "stderr",
     "output_type": "stream",
     "text": [
      "100%|██████████| 13/13 [00:21<00:00,  1.54s/it]\n"
     ]
    },
    {
     "name": "stdout",
     "output_type": "stream",
     "text": [
      "Escaneando página 994 de 1012\n",
      "Rastreando: https://www.mediamarkt.es/es/category/_cargadores-inal%C3%A1mbricos-702527.html\n",
      "Número de páginas: 3\n"
     ]
    },
    {
     "name": "stderr",
     "output_type": "stream",
     "text": [
      "100%|██████████| 3/3 [00:05<00:00,  1.57s/it]\n"
     ]
    },
    {
     "name": "stdout",
     "output_type": "stream",
     "text": [
      "Escaneando página 995 de 1012\n",
      "Rastreando: https://www.mediamarkt.es/es/category/_cargadores-universales-702528.html\n",
      "Número de páginas: 2\n"
     ]
    },
    {
     "name": "stderr",
     "output_type": "stream",
     "text": [
      "100%|██████████| 2/2 [00:03<00:00,  1.71s/it]\n"
     ]
    },
    {
     "name": "stdout",
     "output_type": "stream",
     "text": [
      "Escaneando página 996 de 1012\n",
      "Rastreando: https://www.mediamarkt.es/es/category/_cargadores-auto-702529.html\n",
      "Número de páginas: 5\n"
     ]
    },
    {
     "name": "stderr",
     "output_type": "stream",
     "text": [
      "100%|██████████| 5/5 [00:07<00:00,  1.50s/it]\n"
     ]
    },
    {
     "name": "stdout",
     "output_type": "stream",
     "text": [
      "Escaneando página 997 de 1012\n",
      "Rastreando: https://www.mediamarkt.es/es/category/_casa-702530.html\n",
      "Número de páginas: 6\n"
     ]
    },
    {
     "name": "stderr",
     "output_type": "stream",
     "text": [
      "100%|██████████| 6/6 [00:08<00:00,  1.30s/it]\n"
     ]
    },
    {
     "name": "stdout",
     "output_type": "stream",
     "text": [
      "Escaneando página 998 de 1012\n",
      "Rastreando: https://www.mediamarkt.es/es/category/_docks-702531.html\n"
     ]
    },
    {
     "name": "stderr",
     "output_type": "stream",
     "text": [
      "100%|██████████| 1/1 [00:01<00:00,  1.33s/it]\n"
     ]
    },
    {
     "name": "stdout",
     "output_type": "stream",
     "text": [
      "Escaneando página 999 de 1012\n",
      "Rastreando: https://www.mediamarkt.es/es/category/_cables-y-adaptadores-701493.html\n",
      "Número de páginas: 11\n"
     ]
    },
    {
     "name": "stderr",
     "output_type": "stream",
     "text": [
      "100%|██████████| 11/11 [00:19<00:00,  1.60s/it]\n"
     ]
    },
    {
     "name": "stdout",
     "output_type": "stream",
     "text": [
      "Escaneando página 1000 de 1012\n",
      "Rastreando: https://www.mediamarkt.es/es/category/_cables-de-datos%C2%A0-702532.html\n",
      "Número de páginas: 8\n"
     ]
    },
    {
     "name": "stderr",
     "output_type": "stream",
     "text": [
      "100%|██████████| 8/8 [00:11<00:00,  1.31s/it]\n"
     ]
    },
    {
     "name": "stdout",
     "output_type": "stream",
     "text": [
      "Escaneando página 1001 de 1012\n",
      "Rastreando: https://www.mediamarkt.es/es/category/_cables-de-video%C2%A0-702533.html\n"
     ]
    },
    {
     "name": "stderr",
     "output_type": "stream",
     "text": [
      "100%|██████████| 1/1 [00:00<00:00,  1.03it/s]\n"
     ]
    },
    {
     "name": "stdout",
     "output_type": "stream",
     "text": [
      "Escaneando página 1002 de 1012\n",
      "Rastreando: https://www.mediamarkt.es/es/category/_cables-de-audio%C2%A0-702534.html\n"
     ]
    },
    {
     "name": "stderr",
     "output_type": "stream",
     "text": [
      "100%|██████████| 1/1 [00:00<00:00,  1.13it/s]\n"
     ]
    },
    {
     "name": "stdout",
     "output_type": "stream",
     "text": [
      "Escaneando página 1003 de 1012\n",
      "Rastreando: https://www.mediamarkt.es/es/category/_adaptadores-m%C3%B3viles-702535.html\n"
     ]
    },
    {
     "name": "stderr",
     "output_type": "stream",
     "text": [
      "100%|██████████| 1/1 [00:01<00:00,  1.25s/it]\n"
     ]
    },
    {
     "name": "stdout",
     "output_type": "stream",
     "text": [
      "Escaneando página 1004 de 1012\n",
      "Rastreando: https://www.mediamarkt.es/es/category/_manos-libres-701494.html\n"
     ]
    },
    {
     "name": "stderr",
     "output_type": "stream",
     "text": [
      "100%|██████████| 1/1 [00:01<00:00,  1.01s/it]\n"
     ]
    },
    {
     "name": "stdout",
     "output_type": "stream",
     "text": [
      "Escaneando página 1005 de 1012\n",
      "Rastreando: https://www.mediamarkt.es/es/category/_manos-libre-coche-702536.html\n"
     ]
    },
    {
     "name": "stderr",
     "output_type": "stream",
     "text": [
      "100%|██████████| 1/1 [00:00<00:00,  1.19it/s]\n"
     ]
    },
    {
     "name": "stdout",
     "output_type": "stream",
     "text": [
      "Escaneando página 1006 de 1012\n",
      "Rastreando: https://www.mediamarkt.es/es/category/_adaptadores-sim-712009.html\n"
     ]
    },
    {
     "name": "stderr",
     "output_type": "stream",
     "text": [
      "100%|██████████| 1/1 [00:01<00:00,  1.04s/it]\n"
     ]
    },
    {
     "name": "stdout",
     "output_type": "stream",
     "text": [
      "Escaneando página 1007 de 1012\n",
      "Rastreando: https://www.mediamarkt.es/es/category/_telefon%C3%ADa-dom%C3%A9stica-701196.html\n",
      "Número de páginas: 8\n"
     ]
    },
    {
     "name": "stderr",
     "output_type": "stream",
     "text": [
      "100%|██████████| 8/8 [00:11<00:00,  1.64s/it]\n"
     ]
    },
    {
     "name": "stdout",
     "output_type": "stream",
     "text": [
      "Escaneando página 1008 de 1012\n",
      "Rastreando: https://www.mediamarkt.es/es/category/_tel%C3%A9fonos-inal%C3%A1mbricos-701498.html\n",
      "Número de páginas: 7\n"
     ]
    },
    {
     "name": "stderr",
     "output_type": "stream",
     "text": [
      "100%|██████████| 7/7 [00:08<00:00,  1.18s/it]\n"
     ]
    },
    {
     "name": "stdout",
     "output_type": "stream",
     "text": [
      "Escaneando página 1009 de 1012\n",
      "Rastreando: https://www.mediamarkt.es/es/category/_tel%C3%A9fonos-fijos-sobremesa-701499.html\n",
      "Número de páginas: 2\n"
     ]
    },
    {
     "name": "stderr",
     "output_type": "stream",
     "text": [
      "100%|██████████| 2/2 [00:02<00:00,  1.50s/it]\n"
     ]
    },
    {
     "name": "stdout",
     "output_type": "stream",
     "text": [
      "Escaneando página 1010 de 1012\n",
      "Rastreando: https://www.mediamarkt.es/es/category/_fax-701502.html\n"
     ]
    },
    {
     "name": "stderr",
     "output_type": "stream",
     "text": [
      "100%|██████████| 1/1 [00:00<00:00,  1.04it/s]\n"
     ]
    },
    {
     "name": "stdout",
     "output_type": "stream",
     "text": [
      "Escaneando página 1011 de 1012\n",
      "Rastreando: https://www.mediamarkt.es/es/category/_walkie-talkie-701503.html\n"
     ]
    },
    {
     "name": "stderr",
     "output_type": "stream",
     "text": [
      "100%|██████████| 1/1 [00:00<00:00,  1.05it/s]\n"
     ]
    },
    {
     "name": "stdout",
     "output_type": "stream",
     "text": [
      "Escaneando página 1012 de 1012\n",
      "Rastreando: https://www.mediamarkt.es/es/category/_accesorios-telefon%C3%ADa-fija-701501.html\n"
     ]
    },
    {
     "name": "stderr",
     "output_type": "stream",
     "text": [
      "100%|██████████| 1/1 [00:01<00:00,  1.05s/it]\n"
     ]
    },
    {
     "name": "stdout",
     "output_type": "stream",
     "text": [
      "Done. The prices have been scrapped.\n"
     ]
    }
   ],
   "source": [
    "#def main():\n",
    "dat = './data/productinfo.csv'\n",
    "viz = './plots/price_distribution_brand.png'\n",
    "\n",
    "# Limito a los 10 primeras líneas\n",
    "products = pd.DataFrame()\n",
    "total_products = pd.DataFrame()\n",
    "k=0\n",
    "#for link in pagelinks[1:10]:\n",
    "for link in pagelinks:\n",
    "    k += 1\n",
    "    #print(\"Escaneando pagina %d de %d\" % (k, len(pagelinks[1:10])))\n",
    "    print(\"Escaneando página %d de %d\" % (k, len(pagelinks)))\n",
    "    products = get_data(link, dat)\n",
    "    time.sleep(2)\n",
    "    total_products = total_products.append(products)\n",
    "        \n",
    "print(\"Done. The prices have been scrapped.\")\n"
   ]
  },
  {
   "cell_type": "code",
   "execution_count": null,
   "metadata": {},
   "outputs": [],
   "source": [
    "#if __name__ == \"__main__\":\n",
    "#    main()"
   ]
  },
  {
   "cell_type": "code",
   "execution_count": 14,
   "metadata": {},
   "outputs": [
    {
     "data": {
      "text/html": [
       "<div>\n",
       "<style scoped>\n",
       "    .dataframe tbody tr th:only-of-type {\n",
       "        vertical-align: middle;\n",
       "    }\n",
       "\n",
       "    .dataframe tbody tr th {\n",
       "        vertical-align: top;\n",
       "    }\n",
       "\n",
       "    .dataframe thead th {\n",
       "        text-align: right;\n",
       "    }\n",
       "</style>\n",
       "<table border=\"1\" class=\"dataframe\">\n",
       "  <thead>\n",
       "    <tr style=\"text-align: right;\">\n",
       "      <th></th>\n",
       "      <th>brand</th>\n",
       "      <th>category</th>\n",
       "      <th>dimension10</th>\n",
       "      <th>dimension11</th>\n",
       "      <th>dimension24</th>\n",
       "      <th>dimension25</th>\n",
       "      <th>dimension26</th>\n",
       "      <th>dimension9</th>\n",
       "      <th>ean</th>\n",
       "      <th>id</th>\n",
       "      <th>name</th>\n",
       "      <th>price</th>\n",
       "      <th>quantity</th>\n",
       "    </tr>\n",
       "  </thead>\n",
       "  <tbody>\n",
       "    <tr>\n",
       "      <th>0</th>\n",
       "      <td>PHILIPS</td>\n",
       "      <td>Belleza y salud</td>\n",
       "      <td>Afeitadoras faciales</td>\n",
       "      <td>NaN</td>\n",
       "      <td>21.0</td>\n",
       "      <td>OutOfStock</td>\n",
       "      <td>1.99</td>\n",
       "      <td>Afeitado y depilación</td>\n",
       "      <td>8710103738350</td>\n",
       "      <td>1293941</td>\n",
       "      <td>Afeitadora - Philips S 5110/06 Cabezales Flex,...</td>\n",
       "      <td>57.99</td>\n",
       "      <td>NaN</td>\n",
       "    </tr>\n",
       "    <tr>\n",
       "      <th>1</th>\n",
       "      <td>PHILIPS</td>\n",
       "      <td>Belleza y salud</td>\n",
       "      <td>Afeitadoras faciales</td>\n",
       "      <td>NaN</td>\n",
       "      <td>21.0</td>\n",
       "      <td>InStock</td>\n",
       "      <td>1.99</td>\n",
       "      <td>Afeitado y depilación</td>\n",
       "      <td>8710103764588</td>\n",
       "      <td>1317305</td>\n",
       "      <td>Afeitadora - Philips Shaver S1510/04, Recargab...</td>\n",
       "      <td>41.99</td>\n",
       "      <td>NaN</td>\n",
       "    </tr>\n",
       "    <tr>\n",
       "      <th>2</th>\n",
       "      <td>PHILIPS</td>\n",
       "      <td>Belleza y salud</td>\n",
       "      <td>Afeitadoras faciales</td>\n",
       "      <td>NaN</td>\n",
       "      <td>21.0</td>\n",
       "      <td>OutOfStock</td>\n",
       "      <td>1.99</td>\n",
       "      <td>Afeitado y depilación</td>\n",
       "      <td>8710103819219</td>\n",
       "      <td>1360370</td>\n",
       "      <td>Afeitadora - Philips S5550/06, Cuchillas Multi...</td>\n",
       "      <td>89.90</td>\n",
       "      <td>NaN</td>\n",
       "    </tr>\n",
       "    <tr>\n",
       "      <th>0</th>\n",
       "      <td>CANON</td>\n",
       "      <td>Negocio y oficina</td>\n",
       "      <td>Faxes</td>\n",
       "      <td>NaN</td>\n",
       "      <td>21.0</td>\n",
       "      <td>InStock</td>\n",
       "      <td>2.99</td>\n",
       "      <td>Telefonía fija</td>\n",
       "      <td>4549292014501</td>\n",
       "      <td>1324443</td>\n",
       "      <td>Toner - Canon 737 FAX</td>\n",
       "      <td>72.99</td>\n",
       "      <td>NaN</td>\n",
       "    </tr>\n",
       "    <tr>\n",
       "      <th>0</th>\n",
       "      <td>MIDLAND</td>\n",
       "      <td>Negocio y oficina</td>\n",
       "      <td>Walkie-Talkie</td>\n",
       "      <td>NaN</td>\n",
       "      <td>21.0</td>\n",
       "      <td>InStock</td>\n",
       "      <td>1.99</td>\n",
       "      <td>Telefonía fija</td>\n",
       "      <td>8011869197192</td>\n",
       "      <td>1344528</td>\n",
       "      <td>Walkie talkie - Midland XT60 24channels 446.00...</td>\n",
       "      <td>63.99</td>\n",
       "      <td>NaN</td>\n",
       "    </tr>\n",
       "    <tr>\n",
       "      <th>0</th>\n",
       "      <td>HAMA</td>\n",
       "      <td>Negocio y oficina</td>\n",
       "      <td>Accesorios Telefonía Fija</td>\n",
       "      <td>NaN</td>\n",
       "      <td>21.0</td>\n",
       "      <td>InStock</td>\n",
       "      <td>1.99</td>\n",
       "      <td>Telefonía fija</td>\n",
       "      <td>8432290002273</td>\n",
       "      <td>5300120</td>\n",
       "      <td>Adaptador telefónico - Hama 6914249, Blanco</td>\n",
       "      <td>3.99</td>\n",
       "      <td>NaN</td>\n",
       "    </tr>\n",
       "  </tbody>\n",
       "</table>\n",
       "</div>"
      ],
      "text/plain": [
       "     brand           category                dimension10 dimension11  \\\n",
       "0  PHILIPS    Belleza y salud       Afeitadoras faciales         NaN   \n",
       "1  PHILIPS    Belleza y salud       Afeitadoras faciales         NaN   \n",
       "2  PHILIPS    Belleza y salud       Afeitadoras faciales         NaN   \n",
       "0    CANON  Negocio y oficina                      Faxes         NaN   \n",
       "0  MIDLAND  Negocio y oficina              Walkie-Talkie         NaN   \n",
       "0     HAMA  Negocio y oficina  Accesorios Telefonía Fija         NaN   \n",
       "\n",
       "   dimension24 dimension25  dimension26             dimension9            ean  \\\n",
       "0         21.0  OutOfStock         1.99  Afeitado y depilación  8710103738350   \n",
       "1         21.0     InStock         1.99  Afeitado y depilación  8710103764588   \n",
       "2         21.0  OutOfStock         1.99  Afeitado y depilación  8710103819219   \n",
       "0         21.0     InStock         2.99         Telefonía fija  4549292014501   \n",
       "0         21.0     InStock         1.99         Telefonía fija  8011869197192   \n",
       "0         21.0     InStock         1.99         Telefonía fija  8432290002273   \n",
       "\n",
       "        id                                               name  price quantity  \n",
       "0  1293941  Afeitadora - Philips S 5110/06 Cabezales Flex,...  57.99      NaN  \n",
       "1  1317305  Afeitadora - Philips Shaver S1510/04, Recargab...  41.99      NaN  \n",
       "2  1360370  Afeitadora - Philips S5550/06, Cuchillas Multi...  89.90      NaN  \n",
       "0  1324443                              Toner - Canon 737 FAX  72.99      NaN  \n",
       "0  1344528  Walkie talkie - Midland XT60 24channels 446.00...  63.99      NaN  \n",
       "0  5300120        Adaptador telefónico - Hama 6914249, Blanco   3.99      NaN  "
      ]
     },
     "execution_count": 14,
     "metadata": {},
     "output_type": "execute_result"
    }
   ],
   "source": [
    "total_products.iloc[np.r_[0:3, -3:0]]"
   ]
  },
  {
   "cell_type": "code",
   "execution_count": null,
   "metadata": {},
   "outputs": [],
   "source": [
    "# En caso de error en el escaneo podemos recuperar el último link y continuar con el siguiente código\n",
    "# k"
   ]
  },
  {
   "cell_type": "code",
   "execution_count": null,
   "metadata": {},
   "outputs": [],
   "source": [
    "#k=711\n",
    "#for link in pagelinks[1:10]:\n",
    "#for link in pagelinks[711:]:\n",
    "#    k += 1\n",
    "#    #print(\"Escaneando pagina %d de %d\" % (k, len(pagelinks[1:10])))\n",
    "#    print(\"Escaneando pagina %d de %d\" % (k, len(pagelinks)))\n",
    "#    products = get_data(link, dat)\n",
    "#    time.sleep(2)\n",
    "#    total_products = total_products.append(products)\n",
    "        \n",
    "#print(\"Done. The prices have been scrapped.\")"
   ]
  },
  {
   "cell_type": "code",
   "execution_count": 13,
   "metadata": {
    "scrolled": true
   },
   "outputs": [
    {
     "data": {
      "text/plain": [
       "brand           object\n",
       "category        object\n",
       "dimension10     object\n",
       "dimension11     object\n",
       "dimension24    float64\n",
       "dimension25     object\n",
       "dimension26    float64\n",
       "dimension9      object\n",
       "ean             object\n",
       "id              object\n",
       "name            object\n",
       "price          float64\n",
       "quantity        object\n",
       "dtype: object"
      ]
     },
     "execution_count": 13,
     "metadata": {},
     "output_type": "execute_result"
    }
   ],
   "source": [
    "total_products.dtypes"
   ]
  },
  {
   "cell_type": "code",
   "execution_count": null,
   "metadata": {},
   "outputs": [],
   "source": [
    "# Muestramos las primeras y últimas filas\n",
    "#total_products.iloc[np.r_[0:3, -3:0]]"
   ]
  },
  {
   "cell_type": "code",
   "execution_count": 15,
   "metadata": {},
   "outputs": [
    {
     "data": {
      "text/html": [
       "<div>\n",
       "<style scoped>\n",
       "    .dataframe tbody tr th:only-of-type {\n",
       "        vertical-align: middle;\n",
       "    }\n",
       "\n",
       "    .dataframe tbody tr th {\n",
       "        vertical-align: top;\n",
       "    }\n",
       "\n",
       "    .dataframe thead th {\n",
       "        text-align: right;\n",
       "    }\n",
       "</style>\n",
       "<table border=\"1\" class=\"dataframe\">\n",
       "  <thead>\n",
       "    <tr style=\"text-align: right;\">\n",
       "      <th></th>\n",
       "      <th>brand</th>\n",
       "      <th>category</th>\n",
       "      <th>dimension10</th>\n",
       "      <th>dimension11</th>\n",
       "      <th>dimension24</th>\n",
       "      <th>dimension25</th>\n",
       "      <th>dimension26</th>\n",
       "      <th>dimension9</th>\n",
       "      <th>ean</th>\n",
       "      <th>id</th>\n",
       "      <th>name</th>\n",
       "      <th>price</th>\n",
       "      <th>quantity</th>\n",
       "    </tr>\n",
       "  </thead>\n",
       "  <tbody>\n",
       "    <tr>\n",
       "      <th>0</th>\n",
       "      <td>PHILIPS</td>\n",
       "      <td>Belleza y salud</td>\n",
       "      <td>Afeitadoras faciales</td>\n",
       "      <td>NaN</td>\n",
       "      <td>21.0</td>\n",
       "      <td>OutOfStock</td>\n",
       "      <td>1.99</td>\n",
       "      <td>Afeitado y depilación</td>\n",
       "      <td>8710103738350</td>\n",
       "      <td>1293941</td>\n",
       "      <td>Afeitadora - Philips S 5110/06 Cabezales Flex,...</td>\n",
       "      <td>57.99</td>\n",
       "      <td>NaN</td>\n",
       "    </tr>\n",
       "    <tr>\n",
       "      <th>1</th>\n",
       "      <td>PHILIPS</td>\n",
       "      <td>Belleza y salud</td>\n",
       "      <td>Afeitadoras faciales</td>\n",
       "      <td>NaN</td>\n",
       "      <td>21.0</td>\n",
       "      <td>InStock</td>\n",
       "      <td>1.99</td>\n",
       "      <td>Afeitado y depilación</td>\n",
       "      <td>8710103764588</td>\n",
       "      <td>1317305</td>\n",
       "      <td>Afeitadora - Philips Shaver S1510/04, Recargab...</td>\n",
       "      <td>41.99</td>\n",
       "      <td>NaN</td>\n",
       "    </tr>\n",
       "    <tr>\n",
       "      <th>2</th>\n",
       "      <td>PHILIPS</td>\n",
       "      <td>Belleza y salud</td>\n",
       "      <td>Afeitadoras faciales</td>\n",
       "      <td>NaN</td>\n",
       "      <td>21.0</td>\n",
       "      <td>OutOfStock</td>\n",
       "      <td>1.99</td>\n",
       "      <td>Afeitado y depilación</td>\n",
       "      <td>8710103819219</td>\n",
       "      <td>1360370</td>\n",
       "      <td>Afeitadora - Philips S5550/06, Cuchillas Multi...</td>\n",
       "      <td>89.90</td>\n",
       "      <td>NaN</td>\n",
       "    </tr>\n",
       "    <tr>\n",
       "      <th>55464</th>\n",
       "      <td>CANON</td>\n",
       "      <td>Negocio y oficina</td>\n",
       "      <td>Faxes</td>\n",
       "      <td>NaN</td>\n",
       "      <td>21.0</td>\n",
       "      <td>InStock</td>\n",
       "      <td>2.99</td>\n",
       "      <td>Telefonía fija</td>\n",
       "      <td>4549292014501</td>\n",
       "      <td>1324443</td>\n",
       "      <td>Toner - Canon 737 FAX</td>\n",
       "      <td>72.99</td>\n",
       "      <td>NaN</td>\n",
       "    </tr>\n",
       "    <tr>\n",
       "      <th>55465</th>\n",
       "      <td>MIDLAND</td>\n",
       "      <td>Negocio y oficina</td>\n",
       "      <td>Walkie-Talkie</td>\n",
       "      <td>NaN</td>\n",
       "      <td>21.0</td>\n",
       "      <td>InStock</td>\n",
       "      <td>1.99</td>\n",
       "      <td>Telefonía fija</td>\n",
       "      <td>8011869197192</td>\n",
       "      <td>1344528</td>\n",
       "      <td>Walkie talkie - Midland XT60 24channels 446.00...</td>\n",
       "      <td>63.99</td>\n",
       "      <td>NaN</td>\n",
       "    </tr>\n",
       "    <tr>\n",
       "      <th>55466</th>\n",
       "      <td>HAMA</td>\n",
       "      <td>Negocio y oficina</td>\n",
       "      <td>Accesorios Telefonía Fija</td>\n",
       "      <td>NaN</td>\n",
       "      <td>21.0</td>\n",
       "      <td>InStock</td>\n",
       "      <td>1.99</td>\n",
       "      <td>Telefonía fija</td>\n",
       "      <td>8432290002273</td>\n",
       "      <td>5300120</td>\n",
       "      <td>Adaptador telefónico - Hama 6914249, Blanco</td>\n",
       "      <td>3.99</td>\n",
       "      <td>NaN</td>\n",
       "    </tr>\n",
       "  </tbody>\n",
       "</table>\n",
       "</div>"
      ],
      "text/plain": [
       "         brand           category                dimension10 dimension11  \\\n",
       "0      PHILIPS    Belleza y salud       Afeitadoras faciales         NaN   \n",
       "1      PHILIPS    Belleza y salud       Afeitadoras faciales         NaN   \n",
       "2      PHILIPS    Belleza y salud       Afeitadoras faciales         NaN   \n",
       "55464    CANON  Negocio y oficina                      Faxes         NaN   \n",
       "55465  MIDLAND  Negocio y oficina              Walkie-Talkie         NaN   \n",
       "55466     HAMA  Negocio y oficina  Accesorios Telefonía Fija         NaN   \n",
       "\n",
       "       dimension24 dimension25  dimension26             dimension9  \\\n",
       "0             21.0  OutOfStock         1.99  Afeitado y depilación   \n",
       "1             21.0     InStock         1.99  Afeitado y depilación   \n",
       "2             21.0  OutOfStock         1.99  Afeitado y depilación   \n",
       "55464         21.0     InStock         2.99         Telefonía fija   \n",
       "55465         21.0     InStock         1.99         Telefonía fija   \n",
       "55466         21.0     InStock         1.99         Telefonía fija   \n",
       "\n",
       "                 ean       id  \\\n",
       "0      8710103738350  1293941   \n",
       "1      8710103764588  1317305   \n",
       "2      8710103819219  1360370   \n",
       "55464  4549292014501  1324443   \n",
       "55465  8011869197192  1344528   \n",
       "55466  8432290002273  5300120   \n",
       "\n",
       "                                                    name  price quantity  \n",
       "0      Afeitadora - Philips S 5110/06 Cabezales Flex,...  57.99      NaN  \n",
       "1      Afeitadora - Philips Shaver S1510/04, Recargab...  41.99      NaN  \n",
       "2      Afeitadora - Philips S5550/06, Cuchillas Multi...  89.90      NaN  \n",
       "55464                              Toner - Canon 737 FAX  72.99      NaN  \n",
       "55465  Walkie talkie - Midland XT60 24channels 446.00...  63.99      NaN  \n",
       "55466        Adaptador telefónico - Hama 6914249, Blanco   3.99      NaN  "
      ]
     },
     "execution_count": 15,
     "metadata": {},
     "output_type": "execute_result"
    }
   ],
   "source": [
    "# Reindexamos el dataframe y volvemos a mostrar primeras y últimas filas\n",
    "total_products = total_products.reset_index(drop=True)\n",
    "total_products.iloc[np.r_[0:3, -3:0]]"
   ]
  },
  {
   "cell_type": "code",
   "execution_count": 16,
   "metadata": {},
   "outputs": [],
   "source": [
    "# Obtenemos la fecha del sistema\n",
    "now = datetime.datetime.now()"
   ]
  },
  {
   "cell_type": "code",
   "execution_count": 17,
   "metadata": {},
   "outputs": [
    {
     "data": {
      "text/plain": [
       "'2019-04-10'"
      ]
     },
     "execution_count": 17,
     "metadata": {},
     "output_type": "execute_result"
    }
   ],
   "source": [
    "# Solo nos interesa el día\n",
    "now.strftime(\"%Y-%m-%d\")"
   ]
  },
  {
   "cell_type": "code",
   "execution_count": 18,
   "metadata": {},
   "outputs": [],
   "source": [
    "# Añadimos la fecha\n",
    "total_products['date'] = now.strftime(\"%Y-%m-%d\")"
   ]
  },
  {
   "cell_type": "code",
   "execution_count": 19,
   "metadata": {},
   "outputs": [
    {
     "data": {
      "text/html": [
       "<div>\n",
       "<style scoped>\n",
       "    .dataframe tbody tr th:only-of-type {\n",
       "        vertical-align: middle;\n",
       "    }\n",
       "\n",
       "    .dataframe tbody tr th {\n",
       "        vertical-align: top;\n",
       "    }\n",
       "\n",
       "    .dataframe thead th {\n",
       "        text-align: right;\n",
       "    }\n",
       "</style>\n",
       "<table border=\"1\" class=\"dataframe\">\n",
       "  <thead>\n",
       "    <tr style=\"text-align: right;\">\n",
       "      <th></th>\n",
       "      <th>brand</th>\n",
       "      <th>category</th>\n",
       "      <th>dimension10</th>\n",
       "      <th>dimension11</th>\n",
       "      <th>dimension24</th>\n",
       "      <th>dimension25</th>\n",
       "      <th>dimension26</th>\n",
       "      <th>dimension9</th>\n",
       "      <th>ean</th>\n",
       "      <th>id</th>\n",
       "      <th>name</th>\n",
       "      <th>price</th>\n",
       "      <th>quantity</th>\n",
       "      <th>date</th>\n",
       "    </tr>\n",
       "  </thead>\n",
       "  <tbody>\n",
       "    <tr>\n",
       "      <th>0</th>\n",
       "      <td>PHILIPS</td>\n",
       "      <td>Belleza y salud</td>\n",
       "      <td>Afeitadoras faciales</td>\n",
       "      <td>NaN</td>\n",
       "      <td>21.0</td>\n",
       "      <td>OutOfStock</td>\n",
       "      <td>1.99</td>\n",
       "      <td>Afeitado y depilación</td>\n",
       "      <td>8710103738350</td>\n",
       "      <td>1293941</td>\n",
       "      <td>Afeitadora - Philips S 5110/06 Cabezales Flex,...</td>\n",
       "      <td>57.99</td>\n",
       "      <td>NaN</td>\n",
       "      <td>2019-04-10</td>\n",
       "    </tr>\n",
       "    <tr>\n",
       "      <th>1</th>\n",
       "      <td>PHILIPS</td>\n",
       "      <td>Belleza y salud</td>\n",
       "      <td>Afeitadoras faciales</td>\n",
       "      <td>NaN</td>\n",
       "      <td>21.0</td>\n",
       "      <td>InStock</td>\n",
       "      <td>1.99</td>\n",
       "      <td>Afeitado y depilación</td>\n",
       "      <td>8710103764588</td>\n",
       "      <td>1317305</td>\n",
       "      <td>Afeitadora - Philips Shaver S1510/04, Recargab...</td>\n",
       "      <td>41.99</td>\n",
       "      <td>NaN</td>\n",
       "      <td>2019-04-10</td>\n",
       "    </tr>\n",
       "    <tr>\n",
       "      <th>2</th>\n",
       "      <td>PHILIPS</td>\n",
       "      <td>Belleza y salud</td>\n",
       "      <td>Afeitadoras faciales</td>\n",
       "      <td>NaN</td>\n",
       "      <td>21.0</td>\n",
       "      <td>OutOfStock</td>\n",
       "      <td>1.99</td>\n",
       "      <td>Afeitado y depilación</td>\n",
       "      <td>8710103819219</td>\n",
       "      <td>1360370</td>\n",
       "      <td>Afeitadora - Philips S5550/06, Cuchillas Multi...</td>\n",
       "      <td>89.90</td>\n",
       "      <td>NaN</td>\n",
       "      <td>2019-04-10</td>\n",
       "    </tr>\n",
       "    <tr>\n",
       "      <th>55464</th>\n",
       "      <td>CANON</td>\n",
       "      <td>Negocio y oficina</td>\n",
       "      <td>Faxes</td>\n",
       "      <td>NaN</td>\n",
       "      <td>21.0</td>\n",
       "      <td>InStock</td>\n",
       "      <td>2.99</td>\n",
       "      <td>Telefonía fija</td>\n",
       "      <td>4549292014501</td>\n",
       "      <td>1324443</td>\n",
       "      <td>Toner - Canon 737 FAX</td>\n",
       "      <td>72.99</td>\n",
       "      <td>NaN</td>\n",
       "      <td>2019-04-10</td>\n",
       "    </tr>\n",
       "    <tr>\n",
       "      <th>55465</th>\n",
       "      <td>MIDLAND</td>\n",
       "      <td>Negocio y oficina</td>\n",
       "      <td>Walkie-Talkie</td>\n",
       "      <td>NaN</td>\n",
       "      <td>21.0</td>\n",
       "      <td>InStock</td>\n",
       "      <td>1.99</td>\n",
       "      <td>Telefonía fija</td>\n",
       "      <td>8011869197192</td>\n",
       "      <td>1344528</td>\n",
       "      <td>Walkie talkie - Midland XT60 24channels 446.00...</td>\n",
       "      <td>63.99</td>\n",
       "      <td>NaN</td>\n",
       "      <td>2019-04-10</td>\n",
       "    </tr>\n",
       "    <tr>\n",
       "      <th>55466</th>\n",
       "      <td>HAMA</td>\n",
       "      <td>Negocio y oficina</td>\n",
       "      <td>Accesorios Telefonía Fija</td>\n",
       "      <td>NaN</td>\n",
       "      <td>21.0</td>\n",
       "      <td>InStock</td>\n",
       "      <td>1.99</td>\n",
       "      <td>Telefonía fija</td>\n",
       "      <td>8432290002273</td>\n",
       "      <td>5300120</td>\n",
       "      <td>Adaptador telefónico - Hama 6914249, Blanco</td>\n",
       "      <td>3.99</td>\n",
       "      <td>NaN</td>\n",
       "      <td>2019-04-10</td>\n",
       "    </tr>\n",
       "  </tbody>\n",
       "</table>\n",
       "</div>"
      ],
      "text/plain": [
       "         brand           category                dimension10 dimension11  \\\n",
       "0      PHILIPS    Belleza y salud       Afeitadoras faciales         NaN   \n",
       "1      PHILIPS    Belleza y salud       Afeitadoras faciales         NaN   \n",
       "2      PHILIPS    Belleza y salud       Afeitadoras faciales         NaN   \n",
       "55464    CANON  Negocio y oficina                      Faxes         NaN   \n",
       "55465  MIDLAND  Negocio y oficina              Walkie-Talkie         NaN   \n",
       "55466     HAMA  Negocio y oficina  Accesorios Telefonía Fija         NaN   \n",
       "\n",
       "       dimension24 dimension25  dimension26             dimension9  \\\n",
       "0             21.0  OutOfStock         1.99  Afeitado y depilación   \n",
       "1             21.0     InStock         1.99  Afeitado y depilación   \n",
       "2             21.0  OutOfStock         1.99  Afeitado y depilación   \n",
       "55464         21.0     InStock         2.99         Telefonía fija   \n",
       "55465         21.0     InStock         1.99         Telefonía fija   \n",
       "55466         21.0     InStock         1.99         Telefonía fija   \n",
       "\n",
       "                 ean       id  \\\n",
       "0      8710103738350  1293941   \n",
       "1      8710103764588  1317305   \n",
       "2      8710103819219  1360370   \n",
       "55464  4549292014501  1324443   \n",
       "55465  8011869197192  1344528   \n",
       "55466  8432290002273  5300120   \n",
       "\n",
       "                                                    name  price quantity  \\\n",
       "0      Afeitadora - Philips S 5110/06 Cabezales Flex,...  57.99      NaN   \n",
       "1      Afeitadora - Philips Shaver S1510/04, Recargab...  41.99      NaN   \n",
       "2      Afeitadora - Philips S5550/06, Cuchillas Multi...  89.90      NaN   \n",
       "55464                              Toner - Canon 737 FAX  72.99      NaN   \n",
       "55465  Walkie talkie - Midland XT60 24channels 446.00...  63.99      NaN   \n",
       "55466        Adaptador telefónico - Hama 6914249, Blanco   3.99      NaN   \n",
       "\n",
       "             date  \n",
       "0      2019-04-10  \n",
       "1      2019-04-10  \n",
       "2      2019-04-10  \n",
       "55464  2019-04-10  \n",
       "55465  2019-04-10  \n",
       "55466  2019-04-10  "
      ]
     },
     "execution_count": 19,
     "metadata": {},
     "output_type": "execute_result"
    }
   ],
   "source": [
    "# Mostramos las tres primeras y últimas filas\n",
    "total_products.iloc[np.r_[0:3, -3:0]]"
   ]
  },
  {
   "cell_type": "code",
   "execution_count": 20,
   "metadata": {},
   "outputs": [],
   "source": [
    "# Hay productos que se han podido cargar más de una vez, los eliminamos\n",
    "total_products = total_products.drop_duplicates()"
   ]
  },
  {
   "cell_type": "code",
   "execution_count": 22,
   "metadata": {},
   "outputs": [
    {
     "data": {
      "text/html": [
       "<div>\n",
       "<style scoped>\n",
       "    .dataframe tbody tr th:only-of-type {\n",
       "        vertical-align: middle;\n",
       "    }\n",
       "\n",
       "    .dataframe tbody tr th {\n",
       "        vertical-align: top;\n",
       "    }\n",
       "\n",
       "    .dataframe thead th {\n",
       "        text-align: right;\n",
       "    }\n",
       "</style>\n",
       "<table border=\"1\" class=\"dataframe\">\n",
       "  <thead>\n",
       "    <tr style=\"text-align: right;\">\n",
       "      <th></th>\n",
       "      <th>brand</th>\n",
       "      <th>category</th>\n",
       "      <th>dimension10</th>\n",
       "      <th>dimension11</th>\n",
       "      <th>dimension24</th>\n",
       "      <th>dimension25</th>\n",
       "      <th>dimension26</th>\n",
       "      <th>dimension9</th>\n",
       "      <th>ean</th>\n",
       "      <th>id</th>\n",
       "      <th>name</th>\n",
       "      <th>price</th>\n",
       "      <th>quantity</th>\n",
       "      <th>date</th>\n",
       "    </tr>\n",
       "  </thead>\n",
       "  <tbody>\n",
       "    <tr>\n",
       "      <th>0</th>\n",
       "      <td>PHILIPS</td>\n",
       "      <td>Belleza y salud</td>\n",
       "      <td>Afeitadoras faciales</td>\n",
       "      <td>NaN</td>\n",
       "      <td>21.0</td>\n",
       "      <td>OutOfStock</td>\n",
       "      <td>1.99</td>\n",
       "      <td>Afeitado y depilación</td>\n",
       "      <td>8710103738350</td>\n",
       "      <td>1293941</td>\n",
       "      <td>Afeitadora - Philips S 5110/06 Cabezales Flex,...</td>\n",
       "      <td>57.99</td>\n",
       "      <td>NaN</td>\n",
       "      <td>2019-04-10</td>\n",
       "    </tr>\n",
       "    <tr>\n",
       "      <th>1</th>\n",
       "      <td>PHILIPS</td>\n",
       "      <td>Belleza y salud</td>\n",
       "      <td>Afeitadoras faciales</td>\n",
       "      <td>NaN</td>\n",
       "      <td>21.0</td>\n",
       "      <td>InStock</td>\n",
       "      <td>1.99</td>\n",
       "      <td>Afeitado y depilación</td>\n",
       "      <td>8710103764588</td>\n",
       "      <td>1317305</td>\n",
       "      <td>Afeitadora - Philips Shaver S1510/04, Recargab...</td>\n",
       "      <td>41.99</td>\n",
       "      <td>NaN</td>\n",
       "      <td>2019-04-10</td>\n",
       "    </tr>\n",
       "    <tr>\n",
       "      <th>2</th>\n",
       "      <td>PHILIPS</td>\n",
       "      <td>Belleza y salud</td>\n",
       "      <td>Afeitadoras faciales</td>\n",
       "      <td>NaN</td>\n",
       "      <td>21.0</td>\n",
       "      <td>OutOfStock</td>\n",
       "      <td>1.99</td>\n",
       "      <td>Afeitado y depilación</td>\n",
       "      <td>8710103819219</td>\n",
       "      <td>1360370</td>\n",
       "      <td>Afeitadora - Philips S5550/06, Cuchillas Multi...</td>\n",
       "      <td>89.90</td>\n",
       "      <td>NaN</td>\n",
       "      <td>2019-04-10</td>\n",
       "    </tr>\n",
       "    <tr>\n",
       "      <th>26137</th>\n",
       "      <td>XOOPAR</td>\n",
       "      <td>Telefonía</td>\n",
       "      <td>Cables y adaptadores</td>\n",
       "      <td>NaN</td>\n",
       "      <td>21.0</td>\n",
       "      <td>InStock</td>\n",
       "      <td>1.99</td>\n",
       "      <td>Accesorios para móviles</td>\n",
       "      <td>4897032086104</td>\n",
       "      <td>1437884</td>\n",
       "      <td>Cable De Carga - Xoopar Adapt/USB/Multiconecto...</td>\n",
       "      <td>11.99</td>\n",
       "      <td>NaN</td>\n",
       "      <td>2019-04-10</td>\n",
       "    </tr>\n",
       "    <tr>\n",
       "      <th>26138</th>\n",
       "      <td>CELLULAR LINE</td>\n",
       "      <td>Telefonía</td>\n",
       "      <td>Cables y adaptadores</td>\n",
       "      <td>NaN</td>\n",
       "      <td>21.0</td>\n",
       "      <td>OutOfStock</td>\n",
       "      <td>1.99</td>\n",
       "      <td>Accesorios para móviles</td>\n",
       "      <td>8018080197826</td>\n",
       "      <td>1221004</td>\n",
       "      <td>Cable adaptador micro USB a USB - Cellular Lin...</td>\n",
       "      <td>9.99</td>\n",
       "      <td>NaN</td>\n",
       "      <td>2019-04-10</td>\n",
       "    </tr>\n",
       "    <tr>\n",
       "      <th>26139</th>\n",
       "      <td>KSIX</td>\n",
       "      <td>Telefonía</td>\n",
       "      <td>Cables y adaptadores</td>\n",
       "      <td>NaN</td>\n",
       "      <td>21.0</td>\n",
       "      <td>InStock</td>\n",
       "      <td>1.99</td>\n",
       "      <td>Accesorios para móviles</td>\n",
       "      <td>8427542079233</td>\n",
       "      <td>1357930</td>\n",
       "      <td>Cable USB - Ksix Flexteel Sync &amp; Charge, USB a...</td>\n",
       "      <td>12.90</td>\n",
       "      <td>NaN</td>\n",
       "      <td>2019-04-10</td>\n",
       "    </tr>\n",
       "  </tbody>\n",
       "</table>\n",
       "</div>"
      ],
      "text/plain": [
       "               brand         category           dimension10 dimension11  \\\n",
       "0            PHILIPS  Belleza y salud  Afeitadoras faciales         NaN   \n",
       "1            PHILIPS  Belleza y salud  Afeitadoras faciales         NaN   \n",
       "2            PHILIPS  Belleza y salud  Afeitadoras faciales         NaN   \n",
       "26137         XOOPAR        Telefonía  Cables y adaptadores         NaN   \n",
       "26138  CELLULAR LINE        Telefonía  Cables y adaptadores         NaN   \n",
       "26139           KSIX        Telefonía  Cables y adaptadores         NaN   \n",
       "\n",
       "       dimension24 dimension25  dimension26               dimension9  \\\n",
       "0             21.0  OutOfStock         1.99    Afeitado y depilación   \n",
       "1             21.0     InStock         1.99    Afeitado y depilación   \n",
       "2             21.0  OutOfStock         1.99    Afeitado y depilación   \n",
       "26137         21.0     InStock         1.99  Accesorios para móviles   \n",
       "26138         21.0  OutOfStock         1.99  Accesorios para móviles   \n",
       "26139         21.0     InStock         1.99  Accesorios para móviles   \n",
       "\n",
       "                 ean       id  \\\n",
       "0      8710103738350  1293941   \n",
       "1      8710103764588  1317305   \n",
       "2      8710103819219  1360370   \n",
       "26137  4897032086104  1437884   \n",
       "26138  8018080197826  1221004   \n",
       "26139  8427542079233  1357930   \n",
       "\n",
       "                                                    name  price quantity  \\\n",
       "0      Afeitadora - Philips S 5110/06 Cabezales Flex,...  57.99      NaN   \n",
       "1      Afeitadora - Philips Shaver S1510/04, Recargab...  41.99      NaN   \n",
       "2      Afeitadora - Philips S5550/06, Cuchillas Multi...  89.90      NaN   \n",
       "26137  Cable De Carga - Xoopar Adapt/USB/Multiconecto...  11.99      NaN   \n",
       "26138  Cable adaptador micro USB a USB - Cellular Lin...   9.99      NaN   \n",
       "26139  Cable USB - Ksix Flexteel Sync & Charge, USB a...  12.90      NaN   \n",
       "\n",
       "             date  \n",
       "0      2019-04-10  \n",
       "1      2019-04-10  \n",
       "2      2019-04-10  \n",
       "26137  2019-04-10  \n",
       "26138  2019-04-10  \n",
       "26139  2019-04-10  "
      ]
     },
     "execution_count": 22,
     "metadata": {},
     "output_type": "execute_result"
    }
   ],
   "source": [
    "# Reindexamos y volvemos a mostrar las primeras y últimas filas\n",
    "total_products = total_products.reset_index(drop=True)\n",
    "total_products.iloc[np.r_[0:3, -3:0]]"
   ]
  },
  {
   "cell_type": "code",
   "execution_count": 32,
   "metadata": {},
   "outputs": [],
   "source": [
    "# Renombramos las columnas\n",
    "total_products = total_products.rename(columns = {'dimension9':'subcategory', 'dimension10':'producto',\n",
    "                                                  'dimension11':'subproducto', 'dimension24':'iva_aplicado',\n",
    "                                                  'dimension25':'stock_status', 'dimension26':'coste_envio'})"
   ]
  },
  {
   "cell_type": "code",
   "execution_count": 33,
   "metadata": {},
   "outputs": [],
   "source": [
    "# Reordenamos el orden de las columnas\n",
    "cols = total_products.columns.tolist()\n",
    "cols = [cols[index] for index in [8,9,1,7,2,3,0,10,11,12,13,4,5,6]]\n",
    "total_products = total_products[cols]"
   ]
  },
  {
   "cell_type": "code",
   "execution_count": 23,
   "metadata": {},
   "outputs": [],
   "source": [
    "# Convertimos a número el coste de envío y el iva aplicado\n",
    "total_products['iva_aplicado'] = pd.to_numeric(total_products['iva_aplicado'], errors='coerce')\n",
    "total_products['coste_envio'] = pd.to_numeric(total_products['coste_envio'], errors='coerce')"
   ]
  },
  {
   "cell_type": "code",
   "execution_count": 24,
   "metadata": {},
   "outputs": [
    {
     "data": {
      "text/html": [
       "<div>\n",
       "<style scoped>\n",
       "    .dataframe tbody tr th:only-of-type {\n",
       "        vertical-align: middle;\n",
       "    }\n",
       "\n",
       "    .dataframe tbody tr th {\n",
       "        vertical-align: top;\n",
       "    }\n",
       "\n",
       "    .dataframe thead th {\n",
       "        text-align: right;\n",
       "    }\n",
       "</style>\n",
       "<table border=\"1\" class=\"dataframe\">\n",
       "  <thead>\n",
       "    <tr style=\"text-align: right;\">\n",
       "      <th></th>\n",
       "      <th>ean</th>\n",
       "      <th>id</th>\n",
       "      <th>category</th>\n",
       "      <th>subcategory</th>\n",
       "      <th>producto</th>\n",
       "      <th>subproducto</th>\n",
       "      <th>brand</th>\n",
       "      <th>name</th>\n",
       "      <th>price</th>\n",
       "      <th>quantity</th>\n",
       "      <th>date</th>\n",
       "      <th>iva_aplicado</th>\n",
       "      <th>stock_status</th>\n",
       "      <th>coste_envio</th>\n",
       "    </tr>\n",
       "  </thead>\n",
       "  <tbody>\n",
       "    <tr>\n",
       "      <th>0</th>\n",
       "      <td>8710103738350</td>\n",
       "      <td>1293941</td>\n",
       "      <td>Belleza y salud</td>\n",
       "      <td>Afeitado y depilación</td>\n",
       "      <td>Afeitadoras faciales</td>\n",
       "      <td>NaN</td>\n",
       "      <td>PHILIPS</td>\n",
       "      <td>Afeitadora - Philips S 5110/06 Cabezales Flex,...</td>\n",
       "      <td>57.99</td>\n",
       "      <td>NaN</td>\n",
       "      <td>2019-04-10</td>\n",
       "      <td>21.0</td>\n",
       "      <td>OutOfStock</td>\n",
       "      <td>1.99</td>\n",
       "    </tr>\n",
       "    <tr>\n",
       "      <th>1</th>\n",
       "      <td>8710103764588</td>\n",
       "      <td>1317305</td>\n",
       "      <td>Belleza y salud</td>\n",
       "      <td>Afeitado y depilación</td>\n",
       "      <td>Afeitadoras faciales</td>\n",
       "      <td>NaN</td>\n",
       "      <td>PHILIPS</td>\n",
       "      <td>Afeitadora - Philips Shaver S1510/04, Recargab...</td>\n",
       "      <td>41.99</td>\n",
       "      <td>NaN</td>\n",
       "      <td>2019-04-10</td>\n",
       "      <td>21.0</td>\n",
       "      <td>InStock</td>\n",
       "      <td>1.99</td>\n",
       "    </tr>\n",
       "    <tr>\n",
       "      <th>2</th>\n",
       "      <td>8710103819219</td>\n",
       "      <td>1360370</td>\n",
       "      <td>Belleza y salud</td>\n",
       "      <td>Afeitado y depilación</td>\n",
       "      <td>Afeitadoras faciales</td>\n",
       "      <td>NaN</td>\n",
       "      <td>PHILIPS</td>\n",
       "      <td>Afeitadora - Philips S5550/06, Cuchillas Multi...</td>\n",
       "      <td>89.90</td>\n",
       "      <td>NaN</td>\n",
       "      <td>2019-04-10</td>\n",
       "      <td>21.0</td>\n",
       "      <td>OutOfStock</td>\n",
       "      <td>1.99</td>\n",
       "    </tr>\n",
       "    <tr>\n",
       "      <th>3</th>\n",
       "      <td>8710103764489</td>\n",
       "      <td>1317303</td>\n",
       "      <td>Belleza y salud</td>\n",
       "      <td>Afeitado y depilación</td>\n",
       "      <td>Afeitadoras faciales</td>\n",
       "      <td>NaN</td>\n",
       "      <td>PHILIPS</td>\n",
       "      <td>Afeitadora - Philips S3510/06, sistema Comfort...</td>\n",
       "      <td>58.99</td>\n",
       "      <td>NaN</td>\n",
       "      <td>2019-04-10</td>\n",
       "      <td>21.0</td>\n",
       "      <td>InStock</td>\n",
       "      <td>1.99</td>\n",
       "    </tr>\n",
       "    <tr>\n",
       "      <th>4</th>\n",
       "      <td>4210201147022</td>\n",
       "      <td>1294131</td>\n",
       "      <td>Belleza y salud</td>\n",
       "      <td>Afeitado y depilación</td>\n",
       "      <td>Afeitadoras faciales</td>\n",
       "      <td>NaN</td>\n",
       "      <td>BRAUN</td>\n",
       "      <td>Afeitadora - Braun 5030s Series 5 + EN10, Reco...</td>\n",
       "      <td>87.99</td>\n",
       "      <td>NaN</td>\n",
       "      <td>2019-04-10</td>\n",
       "      <td>21.0</td>\n",
       "      <td>InStock</td>\n",
       "      <td>1.99</td>\n",
       "    </tr>\n",
       "    <tr>\n",
       "      <th>5</th>\n",
       "      <td>8710103738121</td>\n",
       "      <td>1293945</td>\n",
       "      <td>Belleza y salud</td>\n",
       "      <td>Afeitado y depilación</td>\n",
       "      <td>Afeitadoras faciales</td>\n",
       "      <td>NaN</td>\n",
       "      <td>PHILIPS</td>\n",
       "      <td>Afeitadora - Philips S 5420/06 Sistema de cuch...</td>\n",
       "      <td>76.99</td>\n",
       "      <td>NaN</td>\n",
       "      <td>2019-04-10</td>\n",
       "      <td>21.0</td>\n",
       "      <td>InStock</td>\n",
       "      <td>1.99</td>\n",
       "    </tr>\n",
       "    <tr>\n",
       "      <th>6</th>\n",
       "      <td>8710103686934</td>\n",
       "      <td>1252110</td>\n",
       "      <td>Belleza y salud</td>\n",
       "      <td>Afeitado y depilación</td>\n",
       "      <td>Afeitadoras faciales</td>\n",
       "      <td>NaN</td>\n",
       "      <td>PHILIPS</td>\n",
       "      <td>Afeitadora - Philips S9031/12 V-Track, Autonom...</td>\n",
       "      <td>165.00</td>\n",
       "      <td>NaN</td>\n",
       "      <td>2019-04-10</td>\n",
       "      <td>21.0</td>\n",
       "      <td>InStock</td>\n",
       "      <td>1.99</td>\n",
       "    </tr>\n",
       "    <tr>\n",
       "      <th>7</th>\n",
       "      <td>8710103609803</td>\n",
       "      <td>1187436</td>\n",
       "      <td>Belleza y salud</td>\n",
       "      <td>Afeitado y depilación</td>\n",
       "      <td>Afeitadoras faciales</td>\n",
       "      <td>NaN</td>\n",
       "      <td>PHILIPS</td>\n",
       "      <td>Afeitadora - Philips AT750/26, Recargable, Cab...</td>\n",
       "      <td>55.99</td>\n",
       "      <td>NaN</td>\n",
       "      <td>2019-04-10</td>\n",
       "      <td>21.0</td>\n",
       "      <td>InStock</td>\n",
       "      <td>1.99</td>\n",
       "    </tr>\n",
       "    <tr>\n",
       "      <th>8</th>\n",
       "      <td>8710103800958</td>\n",
       "      <td>1385320</td>\n",
       "      <td>Belleza y salud</td>\n",
       "      <td>Afeitado y depilación</td>\n",
       "      <td>Afeitadoras faciales</td>\n",
       "      <td>NaN</td>\n",
       "      <td>PHILIPS</td>\n",
       "      <td>Afeitadora - Philips S7522/50, Anillos SkinGli...</td>\n",
       "      <td>149.00</td>\n",
       "      <td>NaN</td>\n",
       "      <td>2019-04-10</td>\n",
       "      <td>21.0</td>\n",
       "      <td>InStock</td>\n",
       "      <td>1.99</td>\n",
       "    </tr>\n",
       "    <tr>\n",
       "      <th>9</th>\n",
       "      <td>8710103764458</td>\n",
       "      <td>1317304</td>\n",
       "      <td>Belleza y salud</td>\n",
       "      <td>Afeitado y depilación</td>\n",
       "      <td>Afeitadoras faciales</td>\n",
       "      <td>NaN</td>\n",
       "      <td>PHILIPS</td>\n",
       "      <td>Afeitadora - Philips S3110/06, sistema Comfort...</td>\n",
       "      <td>49.99</td>\n",
       "      <td>NaN</td>\n",
       "      <td>2019-04-10</td>\n",
       "      <td>21.0</td>\n",
       "      <td>InStock</td>\n",
       "      <td>1.99</td>\n",
       "    </tr>\n",
       "    <tr>\n",
       "      <th>10</th>\n",
       "      <td>5025232782642</td>\n",
       "      <td>1264634</td>\n",
       "      <td>Belleza y salud</td>\n",
       "      <td>Afeitado y depilación</td>\n",
       "      <td>Afeitadoras faciales</td>\n",
       "      <td>NaN</td>\n",
       "      <td>PANASONIC</td>\n",
       "      <td>Afeitadora - Panasonic ES RT 67 S503 Recargabl...</td>\n",
       "      <td>66.99</td>\n",
       "      <td>NaN</td>\n",
       "      <td>2019-04-10</td>\n",
       "      <td>21.0</td>\n",
       "      <td>InStock</td>\n",
       "      <td>1.99</td>\n",
       "    </tr>\n",
       "    <tr>\n",
       "      <th>11</th>\n",
       "      <td>4210201132370</td>\n",
       "      <td>1310896</td>\n",
       "      <td>Belleza y salud</td>\n",
       "      <td>Afeitado y depilación</td>\n",
       "      <td>Afeitadoras faciales</td>\n",
       "      <td>NaN</td>\n",
       "      <td>BRAUN</td>\n",
       "      <td>Recortador facial - Braun PT5010, perfilador d...</td>\n",
       "      <td>14.99</td>\n",
       "      <td>NaN</td>\n",
       "      <td>2019-04-10</td>\n",
       "      <td>21.0</td>\n",
       "      <td>InStock</td>\n",
       "      <td>1.99</td>\n",
       "    </tr>\n",
       "    <tr>\n",
       "      <th>12</th>\n",
       "      <td>8710103736745</td>\n",
       "      <td>1367692</td>\n",
       "      <td>Belleza y salud</td>\n",
       "      <td>Afeitado y depilación</td>\n",
       "      <td>Afeitadoras faciales</td>\n",
       "      <td>NaN</td>\n",
       "      <td>PHILIPS</td>\n",
       "      <td>Afeitadora - Philips S7310/12, Especial para p...</td>\n",
       "      <td>123.00</td>\n",
       "      <td>NaN</td>\n",
       "      <td>2019-04-10</td>\n",
       "      <td>21.0</td>\n",
       "      <td>InStock</td>\n",
       "      <td>1.99</td>\n",
       "    </tr>\n",
       "    <tr>\n",
       "      <th>13</th>\n",
       "      <td>4210201649793</td>\n",
       "      <td>1104022</td>\n",
       "      <td>Belleza y salud</td>\n",
       "      <td>Afeitado y depilación</td>\n",
       "      <td>Afeitadoras faciales</td>\n",
       "      <td>NaN</td>\n",
       "      <td>BRAUN</td>\n",
       "      <td>Afeitadora - Braun MobileShave M60b Funcionami...</td>\n",
       "      <td>17.99</td>\n",
       "      <td>NaN</td>\n",
       "      <td>2019-04-10</td>\n",
       "      <td>21.0</td>\n",
       "      <td>InStock</td>\n",
       "      <td>1.99</td>\n",
       "    </tr>\n",
       "    <tr>\n",
       "      <th>14</th>\n",
       "      <td>4210201183617</td>\n",
       "      <td>1373774</td>\n",
       "      <td>Belleza y salud</td>\n",
       "      <td>Afeitado y depilación</td>\n",
       "      <td>Afeitadoras faciales</td>\n",
       "      <td>NaN</td>\n",
       "      <td>BRAUN</td>\n",
       "      <td>Afeitadora - Braun WF2s Serie 5 WaterFlex, Wet...</td>\n",
       "      <td>114.00</td>\n",
       "      <td>NaN</td>\n",
       "      <td>2019-04-10</td>\n",
       "      <td>21.0</td>\n",
       "      <td>InStock</td>\n",
       "      <td>1.99</td>\n",
       "    </tr>\n",
       "    <tr>\n",
       "      <th>15</th>\n",
       "      <td>4210201186595</td>\n",
       "      <td>1382003</td>\n",
       "      <td>Belleza y salud</td>\n",
       "      <td>Afeitado y depilación</td>\n",
       "      <td>Afeitadoras faciales</td>\n",
       "      <td>NaN</td>\n",
       "      <td>BRAUN</td>\n",
       "      <td>Afeitadora - Braun Serie3 3000 Tecnología Micr...</td>\n",
       "      <td>60.99</td>\n",
       "      <td>NaN</td>\n",
       "      <td>2019-04-10</td>\n",
       "      <td>21.0</td>\n",
       "      <td>InStock</td>\n",
       "      <td>1.99</td>\n",
       "    </tr>\n",
       "    <tr>\n",
       "      <th>16</th>\n",
       "      <td>4210201163367</td>\n",
       "      <td>1353373</td>\n",
       "      <td>Belleza y salud</td>\n",
       "      <td>Afeitado y depilación</td>\n",
       "      <td>Afeitadoras faciales</td>\n",
       "      <td>NaN</td>\n",
       "      <td>BRAUN</td>\n",
       "      <td>Afeitadora - Braun SERIE 3 310 Wet &amp; Dry, Resi...</td>\n",
       "      <td>54.99</td>\n",
       "      <td>NaN</td>\n",
       "      <td>2019-04-10</td>\n",
       "      <td>21.0</td>\n",
       "      <td>InStock</td>\n",
       "      <td>1.99</td>\n",
       "    </tr>\n",
       "    <tr>\n",
       "      <th>17</th>\n",
       "      <td>4210201112129</td>\n",
       "      <td>1310842</td>\n",
       "      <td>Belleza y salud</td>\n",
       "      <td>Afeitado y depilación</td>\n",
       "      <td>Afeitadoras faciales</td>\n",
       "      <td>NaN</td>\n",
       "      <td>BRAUN</td>\n",
       "      <td>Afeitadora - Braun 3010 Serie 3, Recargable, C...</td>\n",
       "      <td>61.99</td>\n",
       "      <td>NaN</td>\n",
       "      <td>2019-04-10</td>\n",
       "      <td>21.0</td>\n",
       "      <td>InStock</td>\n",
       "      <td>1.99</td>\n",
       "    </tr>\n",
       "    <tr>\n",
       "      <th>18</th>\n",
       "      <td>4210201151562</td>\n",
       "      <td>1353375</td>\n",
       "      <td>Belleza y salud</td>\n",
       "      <td>Afeitado y depilación</td>\n",
       "      <td>Afeitadoras faciales</td>\n",
       "      <td>NaN</td>\n",
       "      <td>BRAUN</td>\n",
       "      <td>Afeitadora - Braun BT3010 Serie 3, Recargable,...</td>\n",
       "      <td>84.99</td>\n",
       "      <td>NaN</td>\n",
       "      <td>2019-04-10</td>\n",
       "      <td>21.0</td>\n",
       "      <td>InStock</td>\n",
       "      <td>1.99</td>\n",
       "    </tr>\n",
       "    <tr>\n",
       "      <th>19</th>\n",
       "      <td>4049011147454</td>\n",
       "      <td>1423577</td>\n",
       "      <td>Belleza y salud</td>\n",
       "      <td>Afeitado y depilación</td>\n",
       "      <td>Afeitadoras faciales</td>\n",
       "      <td>NaN</td>\n",
       "      <td>OK</td>\n",
       "      <td>Afeitadora - OK OSH 3310 ES 3-IN-1, Men Shaver...</td>\n",
       "      <td>19.99</td>\n",
       "      <td>NaN</td>\n",
       "      <td>2019-04-10</td>\n",
       "      <td>21.0</td>\n",
       "      <td>InStock</td>\n",
       "      <td>1.99</td>\n",
       "    </tr>\n",
       "    <tr>\n",
       "      <th>20</th>\n",
       "      <td>8710103819349</td>\n",
       "      <td>1360380</td>\n",
       "      <td>Belleza y salud</td>\n",
       "      <td>Afeitado y depilación</td>\n",
       "      <td>Afeitadoras faciales</td>\n",
       "      <td>NaN</td>\n",
       "      <td>PHILIPS</td>\n",
       "      <td>Afeitadora - Philips S5650/41, Accesorio barbe...</td>\n",
       "      <td>119.90</td>\n",
       "      <td>NaN</td>\n",
       "      <td>2019-04-10</td>\n",
       "      <td>21.0</td>\n",
       "      <td>InStock</td>\n",
       "      <td>1.99</td>\n",
       "    </tr>\n",
       "    <tr>\n",
       "      <th>21</th>\n",
       "      <td>5025232846184</td>\n",
       "      <td>1418920</td>\n",
       "      <td>Belleza y salud</td>\n",
       "      <td>Afeitado y depilación</td>\n",
       "      <td>Afeitadoras faciales</td>\n",
       "      <td>NaN</td>\n",
       "      <td>PANASONIC</td>\n",
       "      <td>Afeitadora - Panasonic ES-ST 3 N, 3 cuchillas,...</td>\n",
       "      <td>87.99</td>\n",
       "      <td>NaN</td>\n",
       "      <td>2019-04-10</td>\n",
       "      <td>21.0</td>\n",
       "      <td>InStock</td>\n",
       "      <td>1.99</td>\n",
       "    </tr>\n",
       "    <tr>\n",
       "      <th>22</th>\n",
       "      <td>8420738411848</td>\n",
       "      <td>1376067</td>\n",
       "      <td>Belleza y salud</td>\n",
       "      <td>Afeitado y depilación</td>\n",
       "      <td>Afeitadoras faciales</td>\n",
       "      <td>NaN</td>\n",
       "      <td>REMINGTON</td>\n",
       "      <td>Afeitadora - Remington PR1340GP, Cabezal comfo...</td>\n",
       "      <td>51.99</td>\n",
       "      <td>NaN</td>\n",
       "      <td>2019-04-10</td>\n",
       "      <td>21.0</td>\n",
       "      <td>InStock</td>\n",
       "      <td>1.99</td>\n",
       "    </tr>\n",
       "    <tr>\n",
       "      <th>23</th>\n",
       "      <td>3121040059272</td>\n",
       "      <td>1311358</td>\n",
       "      <td>Belleza y salud</td>\n",
       "      <td>Afeitado y depilación</td>\n",
       "      <td>Afeitadoras faciales</td>\n",
       "      <td>NaN</td>\n",
       "      <td>ROWENTA</td>\n",
       "      <td>Recortador de pelo - Rowenta TN3620F0, Lavable...</td>\n",
       "      <td>18.99</td>\n",
       "      <td>NaN</td>\n",
       "      <td>2019-04-10</td>\n",
       "      <td>21.0</td>\n",
       "      <td>InStock</td>\n",
       "      <td>1.99</td>\n",
       "    </tr>\n",
       "    <tr>\n",
       "      <th>24</th>\n",
       "      <td>8051772711948</td>\n",
       "      <td>1331134</td>\n",
       "      <td>Belleza y salud</td>\n",
       "      <td>Afeitado y depilación</td>\n",
       "      <td>Afeitadoras faciales</td>\n",
       "      <td>NaN</td>\n",
       "      <td>BEPER</td>\n",
       "      <td>Afeitadora - Beper iCut 40.993, Barba, Recargable</td>\n",
       "      <td>13.99</td>\n",
       "      <td>NaN</td>\n",
       "      <td>2019-04-10</td>\n",
       "      <td>21.0</td>\n",
       "      <td>InStock</td>\n",
       "      <td>1.99</td>\n",
       "    </tr>\n",
       "    <tr>\n",
       "      <th>25</th>\n",
       "      <td>4210201165804</td>\n",
       "      <td>1342438</td>\n",
       "      <td>Belleza y salud</td>\n",
       "      <td>Afeitado y depilación</td>\n",
       "      <td>Afeitadoras faciales</td>\n",
       "      <td>NaN</td>\n",
       "      <td>BRAUN</td>\n",
       "      <td>Afeitadora - Braun Series 9 9295cc, Uso en sec...</td>\n",
       "      <td>337.00</td>\n",
       "      <td>NaN</td>\n",
       "      <td>2019-04-10</td>\n",
       "      <td>21.0</td>\n",
       "      <td>InStock</td>\n",
       "      <td>1.99</td>\n",
       "    </tr>\n",
       "    <tr>\n",
       "      <th>26</th>\n",
       "      <td>4210201188827</td>\n",
       "      <td>1382002</td>\n",
       "      <td>Belleza y salud</td>\n",
       "      <td>Afeitado y depilación</td>\n",
       "      <td>Afeitadoras faciales</td>\n",
       "      <td>NaN</td>\n",
       "      <td>BRAUN</td>\n",
       "      <td>Afeitadora - Braun Series 3 310s, Recargable, ...</td>\n",
       "      <td>60.99</td>\n",
       "      <td>NaN</td>\n",
       "      <td>2019-04-10</td>\n",
       "      <td>21.0</td>\n",
       "      <td>InStock</td>\n",
       "      <td>1.99</td>\n",
       "    </tr>\n",
       "    <tr>\n",
       "      <th>27</th>\n",
       "      <td>4210201166825</td>\n",
       "      <td>1342625</td>\n",
       "      <td>Belleza y salud</td>\n",
       "      <td>Afeitado y depilación</td>\n",
       "      <td>Afeitadoras faciales</td>\n",
       "      <td>NaN</td>\n",
       "      <td>BRAUN</td>\n",
       "      <td>Afeitadora - Braun Series 7 7880cc Wet&amp;Dry + E...</td>\n",
       "      <td>290.00</td>\n",
       "      <td>NaN</td>\n",
       "      <td>2019-04-10</td>\n",
       "      <td>21.0</td>\n",
       "      <td>InStock</td>\n",
       "      <td>1.99</td>\n",
       "    </tr>\n",
       "    <tr>\n",
       "      <th>28</th>\n",
       "      <td>0043917006888</td>\n",
       "      <td>1418557</td>\n",
       "      <td>Belleza y salud</td>\n",
       "      <td>Afeitado y depilación</td>\n",
       "      <td>Afeitadoras faciales</td>\n",
       "      <td>NaN</td>\n",
       "      <td>RIVER</td>\n",
       "      <td>Afeitadora - River 03615-1016 Travel Shave, Re...</td>\n",
       "      <td>19.99</td>\n",
       "      <td>NaN</td>\n",
       "      <td>2019-04-10</td>\n",
       "      <td>21.0</td>\n",
       "      <td>InStock</td>\n",
       "      <td>1.99</td>\n",
       "    </tr>\n",
       "    <tr>\n",
       "      <th>29</th>\n",
       "      <td>4210201124481</td>\n",
       "      <td>1310843</td>\n",
       "      <td>Belleza y salud</td>\n",
       "      <td>Afeitado y depilación</td>\n",
       "      <td>Afeitadoras faciales</td>\n",
       "      <td>NaN</td>\n",
       "      <td>BRAUN</td>\n",
       "      <td>Afeitadora - Braun Serie 3 - 3000 Edición espe...</td>\n",
       "      <td>60.99</td>\n",
       "      <td>NaN</td>\n",
       "      <td>2019-04-10</td>\n",
       "      <td>21.0</td>\n",
       "      <td>InStock</td>\n",
       "      <td>1.99</td>\n",
       "    </tr>\n",
       "    <tr>\n",
       "      <th>...</th>\n",
       "      <td>...</td>\n",
       "      <td>...</td>\n",
       "      <td>...</td>\n",
       "      <td>...</td>\n",
       "      <td>...</td>\n",
       "      <td>...</td>\n",
       "      <td>...</td>\n",
       "      <td>...</td>\n",
       "      <td>...</td>\n",
       "      <td>...</td>\n",
       "      <td>...</td>\n",
       "      <td>...</td>\n",
       "      <td>...</td>\n",
       "      <td>...</td>\n",
       "    </tr>\n",
       "    <tr>\n",
       "      <th>26110</th>\n",
       "      <td>8426801138391</td>\n",
       "      <td>1338174</td>\n",
       "      <td>Telefonía</td>\n",
       "      <td>Accesorios para móviles</td>\n",
       "      <td>Cables y adaptadores</td>\n",
       "      <td>NaN</td>\n",
       "      <td>MUVIT</td>\n",
       "      <td>MUVIT CABL/USB/W/LIGHT/MFI/2,4A/2M/MUUSC0</td>\n",
       "      <td>20.99</td>\n",
       "      <td>NaN</td>\n",
       "      <td>2019-04-10</td>\n",
       "      <td>21.0</td>\n",
       "      <td>InStock</td>\n",
       "      <td>1.99</td>\n",
       "    </tr>\n",
       "    <tr>\n",
       "      <th>26111</th>\n",
       "      <td>5081304356036</td>\n",
       "      <td>1402306</td>\n",
       "      <td>Telefonía</td>\n",
       "      <td>Accesorios para móviles</td>\n",
       "      <td>Cables y adaptadores</td>\n",
       "      <td>NaN</td>\n",
       "      <td>BOOMPODS</td>\n",
       "      <td>Cable Lightning a USB - Boompods, retrocable, ...</td>\n",
       "      <td>17.99</td>\n",
       "      <td>NaN</td>\n",
       "      <td>2019-04-10</td>\n",
       "      <td>21.0</td>\n",
       "      <td>InStock</td>\n",
       "      <td>1.99</td>\n",
       "    </tr>\n",
       "    <tr>\n",
       "      <th>26112</th>\n",
       "      <td>8018080268854</td>\n",
       "      <td>1332408</td>\n",
       "      <td>Telefonía</td>\n",
       "      <td>Accesorios para móviles</td>\n",
       "      <td>Cables y adaptadores</td>\n",
       "      <td>NaN</td>\n",
       "      <td>CELLULAR LINE</td>\n",
       "      <td>Cellularline 37713 0.6m USB A Micro-USB B Mach...</td>\n",
       "      <td>8.99</td>\n",
       "      <td>NaN</td>\n",
       "      <td>2019-04-10</td>\n",
       "      <td>21.0</td>\n",
       "      <td>InStock</td>\n",
       "      <td>1.99</td>\n",
       "    </tr>\n",
       "    <tr>\n",
       "      <th>26113</th>\n",
       "      <td>5081304280614</td>\n",
       "      <td>1402298</td>\n",
       "      <td>Telefonía</td>\n",
       "      <td>Accesorios para móviles</td>\n",
       "      <td>Cables y adaptadores</td>\n",
       "      <td>NaN</td>\n",
       "      <td>BOOMPODS</td>\n",
       "      <td>Duocable Lighning / Micro USB a USB - Boompods...</td>\n",
       "      <td>19.99</td>\n",
       "      <td>NaN</td>\n",
       "      <td>2019-04-10</td>\n",
       "      <td>21.0</td>\n",
       "      <td>InStock</td>\n",
       "      <td>1.99</td>\n",
       "    </tr>\n",
       "    <tr>\n",
       "      <th>26114</th>\n",
       "      <td>5573063264146</td>\n",
       "      <td>1402307</td>\n",
       "      <td>Telefonía</td>\n",
       "      <td>Accesorios para móviles</td>\n",
       "      <td>Cables y adaptadores</td>\n",
       "      <td>NaN</td>\n",
       "      <td>BOOMPODS</td>\n",
       "      <td>Cable Micro USB a USB - Boompods, retrocable, ...</td>\n",
       "      <td>12.99</td>\n",
       "      <td>NaN</td>\n",
       "      <td>2019-04-10</td>\n",
       "      <td>21.0</td>\n",
       "      <td>InStock</td>\n",
       "      <td>1.99</td>\n",
       "    </tr>\n",
       "    <tr>\n",
       "      <th>26115</th>\n",
       "      <td>5573063264306</td>\n",
       "      <td>1402292</td>\n",
       "      <td>Telefonía</td>\n",
       "      <td>Accesorios para móviles</td>\n",
       "      <td>Cables y adaptadores</td>\n",
       "      <td>NaN</td>\n",
       "      <td>BOOMPODS</td>\n",
       "      <td>Cable Lightning a USB - Boompods, flatline, 1m...</td>\n",
       "      <td>14.99</td>\n",
       "      <td>NaN</td>\n",
       "      <td>2019-04-10</td>\n",
       "      <td>21.0</td>\n",
       "      <td>InStock</td>\n",
       "      <td>1.99</td>\n",
       "    </tr>\n",
       "    <tr>\n",
       "      <th>26116</th>\n",
       "      <td>8018080189357</td>\n",
       "      <td>1214288</td>\n",
       "      <td>Telefonía</td>\n",
       "      <td>Accesorios para móviles</td>\n",
       "      <td>Cables y adaptadores</td>\n",
       "      <td>NaN</td>\n",
       "      <td>CELLULAR LINE</td>\n",
       "      <td>Cable USB - Cellular Line OTGUSBADAPTERSMPH, A...</td>\n",
       "      <td>9.99</td>\n",
       "      <td>NaN</td>\n",
       "      <td>2019-04-10</td>\n",
       "      <td>21.0</td>\n",
       "      <td>InStock</td>\n",
       "      <td>1.99</td>\n",
       "    </tr>\n",
       "    <tr>\n",
       "      <th>26117</th>\n",
       "      <td>5081304356050</td>\n",
       "      <td>1402289</td>\n",
       "      <td>Telefonía</td>\n",
       "      <td>Accesorios para móviles</td>\n",
       "      <td>Cables y adaptadores</td>\n",
       "      <td>NaN</td>\n",
       "      <td>BOOMPODS</td>\n",
       "      <td>Cable Lightning a USB - Boompods, retrocable, ...</td>\n",
       "      <td>17.99</td>\n",
       "      <td>NaN</td>\n",
       "      <td>2019-04-10</td>\n",
       "      <td>21.0</td>\n",
       "      <td>InStock</td>\n",
       "      <td>1.99</td>\n",
       "    </tr>\n",
       "    <tr>\n",
       "      <th>26118</th>\n",
       "      <td>4049011116085</td>\n",
       "      <td>1260687</td>\n",
       "      <td>Telefonía</td>\n",
       "      <td>Accesorios para móviles</td>\n",
       "      <td>Cables y adaptadores</td>\n",
       "      <td>NaN</td>\n",
       "      <td>ISY</td>\n",
       "      <td>Cable - Isy IWC 1000, Universal, Micro USB a U...</td>\n",
       "      <td>7.99</td>\n",
       "      <td>NaN</td>\n",
       "      <td>2019-04-10</td>\n",
       "      <td>21.0</td>\n",
       "      <td>OutOfStock</td>\n",
       "      <td>1.99</td>\n",
       "    </tr>\n",
       "    <tr>\n",
       "      <th>26119</th>\n",
       "      <td>8018080333446</td>\n",
       "      <td>1435167</td>\n",
       "      <td>Telefonía</td>\n",
       "      <td>Accesorios para móviles</td>\n",
       "      <td>Cables y adaptadores</td>\n",
       "      <td>NaN</td>\n",
       "      <td>CELLULAR LINE</td>\n",
       "      <td>Cable De Carga - Cellular Line Cbl/Typoc/Enrro...</td>\n",
       "      <td>16.99</td>\n",
       "      <td>NaN</td>\n",
       "      <td>2019-04-10</td>\n",
       "      <td>21.0</td>\n",
       "      <td>InStock</td>\n",
       "      <td>1.99</td>\n",
       "    </tr>\n",
       "    <tr>\n",
       "      <th>26120</th>\n",
       "      <td>4049011126268</td>\n",
       "      <td>1317985</td>\n",
       "      <td>Telefonía</td>\n",
       "      <td>Accesorios para móviles</td>\n",
       "      <td>Cables y adaptadores</td>\n",
       "      <td>NaN</td>\n",
       "      <td>ISY</td>\n",
       "      <td>Cable - ISY IUC-1002, MicroUSB a USB, 15 cm, U...</td>\n",
       "      <td>4.99</td>\n",
       "      <td>NaN</td>\n",
       "      <td>2019-04-10</td>\n",
       "      <td>21.0</td>\n",
       "      <td>OutOfStock</td>\n",
       "      <td>1.99</td>\n",
       "    </tr>\n",
       "    <tr>\n",
       "      <th>26121</th>\n",
       "      <td>5573063264382</td>\n",
       "      <td>1402297</td>\n",
       "      <td>Telefonía</td>\n",
       "      <td>Accesorios para móviles</td>\n",
       "      <td>Cables y adaptadores</td>\n",
       "      <td>NaN</td>\n",
       "      <td>BOOMPODS</td>\n",
       "      <td>Duocable Lighning / Micro USB a USB - Boompods...</td>\n",
       "      <td>19.99</td>\n",
       "      <td>NaN</td>\n",
       "      <td>2019-04-10</td>\n",
       "      <td>21.0</td>\n",
       "      <td>InStock</td>\n",
       "      <td>1.99</td>\n",
       "    </tr>\n",
       "    <tr>\n",
       "      <th>26122</th>\n",
       "      <td>8018080268830</td>\n",
       "      <td>1332406</td>\n",
       "      <td>Telefonía</td>\n",
       "      <td>Accesorios para móviles</td>\n",
       "      <td>Cables y adaptadores</td>\n",
       "      <td>NaN</td>\n",
       "      <td>CELLULAR LINE</td>\n",
       "      <td>Cellularline 37714 0.6m USB A Lightning Blanco...</td>\n",
       "      <td>17.99</td>\n",
       "      <td>NaN</td>\n",
       "      <td>2019-04-10</td>\n",
       "      <td>21.0</td>\n",
       "      <td>InStock</td>\n",
       "      <td>1.99</td>\n",
       "    </tr>\n",
       "    <tr>\n",
       "      <th>26123</th>\n",
       "      <td>8427542082431</td>\n",
       "      <td>1364743</td>\n",
       "      <td>Telefonía</td>\n",
       "      <td>Accesorios para móviles</td>\n",
       "      <td>Cables y adaptadores</td>\n",
       "      <td>NaN</td>\n",
       "      <td>KSIX</td>\n",
       "      <td>Ksix B0914CUTV 1m USB A Lightning Verde cable ...</td>\n",
       "      <td>14.99</td>\n",
       "      <td>NaN</td>\n",
       "      <td>2019-04-10</td>\n",
       "      <td>21.0</td>\n",
       "      <td>InStock</td>\n",
       "      <td>1.99</td>\n",
       "    </tr>\n",
       "    <tr>\n",
       "      <th>26124</th>\n",
       "      <td>0745883732197</td>\n",
       "      <td>1352495</td>\n",
       "      <td>Telefonía</td>\n",
       "      <td>Accesorios para móviles</td>\n",
       "      <td>Cables y adaptadores</td>\n",
       "      <td>NaN</td>\n",
       "      <td>BELKIN</td>\n",
       "      <td>Belkin 1.2m, Lightning/USB 1.2m USB A Lightnin...</td>\n",
       "      <td>24.99</td>\n",
       "      <td>NaN</td>\n",
       "      <td>2019-04-10</td>\n",
       "      <td>21.0</td>\n",
       "      <td>InStock</td>\n",
       "      <td>1.99</td>\n",
       "    </tr>\n",
       "    <tr>\n",
       "      <th>26125</th>\n",
       "      <td>5573063264375</td>\n",
       "      <td>1402296</td>\n",
       "      <td>Telefonía</td>\n",
       "      <td>Accesorios para móviles</td>\n",
       "      <td>Cables y adaptadores</td>\n",
       "      <td>NaN</td>\n",
       "      <td>BOOMPODS</td>\n",
       "      <td>Duocable Lighning / Micro USB a USB - Boompods...</td>\n",
       "      <td>19.99</td>\n",
       "      <td>NaN</td>\n",
       "      <td>2019-04-10</td>\n",
       "      <td>21.0</td>\n",
       "      <td>InStock</td>\n",
       "      <td>1.99</td>\n",
       "    </tr>\n",
       "    <tr>\n",
       "      <th>26126</th>\n",
       "      <td>8427542082424</td>\n",
       "      <td>1364741</td>\n",
       "      <td>Telefonía</td>\n",
       "      <td>Accesorios para móviles</td>\n",
       "      <td>Cables y adaptadores</td>\n",
       "      <td>NaN</td>\n",
       "      <td>KSIX</td>\n",
       "      <td>Ksix B0914CUTNJ 1m USB A Lightning Naranja cab...</td>\n",
       "      <td>14.99</td>\n",
       "      <td>NaN</td>\n",
       "      <td>2019-04-10</td>\n",
       "      <td>21.0</td>\n",
       "      <td>InStock</td>\n",
       "      <td>1.99</td>\n",
       "    </tr>\n",
       "    <tr>\n",
       "      <th>26127</th>\n",
       "      <td>8018080190896</td>\n",
       "      <td>1211256</td>\n",
       "      <td>Telefonía</td>\n",
       "      <td>Accesorios para móviles</td>\n",
       "      <td>Cables y adaptadores</td>\n",
       "      <td>NaN</td>\n",
       "      <td>CELLULAR LINE</td>\n",
       "      <td>Cable de datos - Cellular Line, de USB a Micro...</td>\n",
       "      <td>9.99</td>\n",
       "      <td>NaN</td>\n",
       "      <td>2019-04-10</td>\n",
       "      <td>21.0</td>\n",
       "      <td>InStock</td>\n",
       "      <td>1.99</td>\n",
       "    </tr>\n",
       "    <tr>\n",
       "      <th>26128</th>\n",
       "      <td>4047443366719</td>\n",
       "      <td>1435841</td>\n",
       "      <td>Telefonía</td>\n",
       "      <td>Accesorios para móviles</td>\n",
       "      <td>Cables y adaptadores</td>\n",
       "      <td>Cables de datos</td>\n",
       "      <td>HAMA</td>\n",
       "      <td>Cable Para Tablet - Hama Tablet Cable Sync Lig...</td>\n",
       "      <td>15.99</td>\n",
       "      <td>NaN</td>\n",
       "      <td>2019-04-10</td>\n",
       "      <td>21.0</td>\n",
       "      <td>InStock</td>\n",
       "      <td>1.99</td>\n",
       "    </tr>\n",
       "    <tr>\n",
       "      <th>26129</th>\n",
       "      <td>0745883732173</td>\n",
       "      <td>1352496</td>\n",
       "      <td>Telefonía</td>\n",
       "      <td>Accesorios para móviles</td>\n",
       "      <td>Cables y adaptadores</td>\n",
       "      <td>NaN</td>\n",
       "      <td>BELKIN</td>\n",
       "      <td>Belkin 1.2m, Lightning/USB 1.2m USB A Lightnin...</td>\n",
       "      <td>24.99</td>\n",
       "      <td>NaN</td>\n",
       "      <td>2019-04-10</td>\n",
       "      <td>21.0</td>\n",
       "      <td>InStock</td>\n",
       "      <td>1.99</td>\n",
       "    </tr>\n",
       "    <tr>\n",
       "      <th>26130</th>\n",
       "      <td>5573063264313</td>\n",
       "      <td>1402293</td>\n",
       "      <td>Telefonía</td>\n",
       "      <td>Accesorios para móviles</td>\n",
       "      <td>Cables y adaptadores</td>\n",
       "      <td>NaN</td>\n",
       "      <td>BOOMPODS</td>\n",
       "      <td>Cable Lightning a USB - Boompods, flatline, 1m...</td>\n",
       "      <td>14.99</td>\n",
       "      <td>NaN</td>\n",
       "      <td>2019-04-10</td>\n",
       "      <td>21.0</td>\n",
       "      <td>InStock</td>\n",
       "      <td>1.99</td>\n",
       "    </tr>\n",
       "    <tr>\n",
       "      <th>26131</th>\n",
       "      <td>8018080190919</td>\n",
       "      <td>1211251</td>\n",
       "      <td>Telefonía</td>\n",
       "      <td>Accesorios para móviles</td>\n",
       "      <td>Cables y adaptadores</td>\n",
       "      <td>NaN</td>\n",
       "      <td>CELLULAR LINE</td>\n",
       "      <td>Cable de datos - Cellular Line, de USB a Micro...</td>\n",
       "      <td>7.99</td>\n",
       "      <td>NaN</td>\n",
       "      <td>2019-04-10</td>\n",
       "      <td>21.0</td>\n",
       "      <td>InStock</td>\n",
       "      <td>1.99</td>\n",
       "    </tr>\n",
       "    <tr>\n",
       "      <th>26132</th>\n",
       "      <td>4897032086098</td>\n",
       "      <td>1437880</td>\n",
       "      <td>Telefonía</td>\n",
       "      <td>Accesorios para móviles</td>\n",
       "      <td>Cables y adaptadores</td>\n",
       "      <td>NaN</td>\n",
       "      <td>XOOPAR</td>\n",
       "      <td>Cable De Carga - Xoopar Adapt/USB/Multiconecto...</td>\n",
       "      <td>11.99</td>\n",
       "      <td>NaN</td>\n",
       "      <td>2019-04-10</td>\n",
       "      <td>21.0</td>\n",
       "      <td>InStock</td>\n",
       "      <td>1.99</td>\n",
       "    </tr>\n",
       "    <tr>\n",
       "      <th>26133</th>\n",
       "      <td>4897032086111</td>\n",
       "      <td>1437881</td>\n",
       "      <td>Telefonía</td>\n",
       "      <td>Accesorios para móviles</td>\n",
       "      <td>Cables y adaptadores</td>\n",
       "      <td>NaN</td>\n",
       "      <td>XOOPAR</td>\n",
       "      <td>Cable De Carga - Xoopar Adapt/USB/Multiconecto...</td>\n",
       "      <td>11.99</td>\n",
       "      <td>NaN</td>\n",
       "      <td>2019-04-10</td>\n",
       "      <td>21.0</td>\n",
       "      <td>InStock</td>\n",
       "      <td>1.99</td>\n",
       "    </tr>\n",
       "    <tr>\n",
       "      <th>26134</th>\n",
       "      <td>4897032083714</td>\n",
       "      <td>1437882</td>\n",
       "      <td>Telefonía</td>\n",
       "      <td>Accesorios para móviles</td>\n",
       "      <td>Cables y adaptadores</td>\n",
       "      <td>NaN</td>\n",
       "      <td>XOOPAR</td>\n",
       "      <td>Cable De Carga - Xoopar Adapt/USB/Multiconecto...</td>\n",
       "      <td>11.99</td>\n",
       "      <td>NaN</td>\n",
       "      <td>2019-04-10</td>\n",
       "      <td>21.0</td>\n",
       "      <td>InStock</td>\n",
       "      <td>1.99</td>\n",
       "    </tr>\n",
       "    <tr>\n",
       "      <th>26135</th>\n",
       "      <td>4897032086081</td>\n",
       "      <td>1437883</td>\n",
       "      <td>Telefonía</td>\n",
       "      <td>Accesorios para móviles</td>\n",
       "      <td>Cables y adaptadores</td>\n",
       "      <td>NaN</td>\n",
       "      <td>XOOPAR</td>\n",
       "      <td>Cable De Carga - Xoopar Adapt/USB/Multiconecto...</td>\n",
       "      <td>11.99</td>\n",
       "      <td>NaN</td>\n",
       "      <td>2019-04-10</td>\n",
       "      <td>21.0</td>\n",
       "      <td>InStock</td>\n",
       "      <td>1.99</td>\n",
       "    </tr>\n",
       "    <tr>\n",
       "      <th>26136</th>\n",
       "      <td>4897032083769</td>\n",
       "      <td>1437879</td>\n",
       "      <td>Telefonía</td>\n",
       "      <td>Accesorios para móviles</td>\n",
       "      <td>Cables y adaptadores</td>\n",
       "      <td>NaN</td>\n",
       "      <td>XOOPAR</td>\n",
       "      <td>Cable De Carga - Xoopar Adapt/USB/Multiconecto...</td>\n",
       "      <td>11.99</td>\n",
       "      <td>NaN</td>\n",
       "      <td>2019-04-10</td>\n",
       "      <td>21.0</td>\n",
       "      <td>InStock</td>\n",
       "      <td>1.99</td>\n",
       "    </tr>\n",
       "    <tr>\n",
       "      <th>26137</th>\n",
       "      <td>4897032086104</td>\n",
       "      <td>1437884</td>\n",
       "      <td>Telefonía</td>\n",
       "      <td>Accesorios para móviles</td>\n",
       "      <td>Cables y adaptadores</td>\n",
       "      <td>NaN</td>\n",
       "      <td>XOOPAR</td>\n",
       "      <td>Cable De Carga - Xoopar Adapt/USB/Multiconecto...</td>\n",
       "      <td>11.99</td>\n",
       "      <td>NaN</td>\n",
       "      <td>2019-04-10</td>\n",
       "      <td>21.0</td>\n",
       "      <td>InStock</td>\n",
       "      <td>1.99</td>\n",
       "    </tr>\n",
       "    <tr>\n",
       "      <th>26138</th>\n",
       "      <td>8018080197826</td>\n",
       "      <td>1221004</td>\n",
       "      <td>Telefonía</td>\n",
       "      <td>Accesorios para móviles</td>\n",
       "      <td>Cables y adaptadores</td>\n",
       "      <td>NaN</td>\n",
       "      <td>CELLULAR LINE</td>\n",
       "      <td>Cable adaptador micro USB a USB - Cellular Lin...</td>\n",
       "      <td>9.99</td>\n",
       "      <td>NaN</td>\n",
       "      <td>2019-04-10</td>\n",
       "      <td>21.0</td>\n",
       "      <td>OutOfStock</td>\n",
       "      <td>1.99</td>\n",
       "    </tr>\n",
       "    <tr>\n",
       "      <th>26139</th>\n",
       "      <td>8427542079233</td>\n",
       "      <td>1357930</td>\n",
       "      <td>Telefonía</td>\n",
       "      <td>Accesorios para móviles</td>\n",
       "      <td>Cables y adaptadores</td>\n",
       "      <td>NaN</td>\n",
       "      <td>KSIX</td>\n",
       "      <td>Cable USB - Ksix Flexteel Sync &amp; Charge, USB a...</td>\n",
       "      <td>12.90</td>\n",
       "      <td>NaN</td>\n",
       "      <td>2019-04-10</td>\n",
       "      <td>21.0</td>\n",
       "      <td>InStock</td>\n",
       "      <td>1.99</td>\n",
       "    </tr>\n",
       "  </tbody>\n",
       "</table>\n",
       "<p>26140 rows × 14 columns</p>\n",
       "</div>"
      ],
      "text/plain": [
       "                 ean       id         category              subcategory  \\\n",
       "0      8710103738350  1293941  Belleza y salud    Afeitado y depilación   \n",
       "1      8710103764588  1317305  Belleza y salud    Afeitado y depilación   \n",
       "2      8710103819219  1360370  Belleza y salud    Afeitado y depilación   \n",
       "3      8710103764489  1317303  Belleza y salud    Afeitado y depilación   \n",
       "4      4210201147022  1294131  Belleza y salud    Afeitado y depilación   \n",
       "5      8710103738121  1293945  Belleza y salud    Afeitado y depilación   \n",
       "6      8710103686934  1252110  Belleza y salud    Afeitado y depilación   \n",
       "7      8710103609803  1187436  Belleza y salud    Afeitado y depilación   \n",
       "8      8710103800958  1385320  Belleza y salud    Afeitado y depilación   \n",
       "9      8710103764458  1317304  Belleza y salud    Afeitado y depilación   \n",
       "10     5025232782642  1264634  Belleza y salud    Afeitado y depilación   \n",
       "11     4210201132370  1310896  Belleza y salud    Afeitado y depilación   \n",
       "12     8710103736745  1367692  Belleza y salud    Afeitado y depilación   \n",
       "13     4210201649793  1104022  Belleza y salud    Afeitado y depilación   \n",
       "14     4210201183617  1373774  Belleza y salud    Afeitado y depilación   \n",
       "15     4210201186595  1382003  Belleza y salud    Afeitado y depilación   \n",
       "16     4210201163367  1353373  Belleza y salud    Afeitado y depilación   \n",
       "17     4210201112129  1310842  Belleza y salud    Afeitado y depilación   \n",
       "18     4210201151562  1353375  Belleza y salud    Afeitado y depilación   \n",
       "19     4049011147454  1423577  Belleza y salud    Afeitado y depilación   \n",
       "20     8710103819349  1360380  Belleza y salud    Afeitado y depilación   \n",
       "21     5025232846184  1418920  Belleza y salud    Afeitado y depilación   \n",
       "22     8420738411848  1376067  Belleza y salud    Afeitado y depilación   \n",
       "23     3121040059272  1311358  Belleza y salud    Afeitado y depilación   \n",
       "24     8051772711948  1331134  Belleza y salud    Afeitado y depilación   \n",
       "25     4210201165804  1342438  Belleza y salud    Afeitado y depilación   \n",
       "26     4210201188827  1382002  Belleza y salud    Afeitado y depilación   \n",
       "27     4210201166825  1342625  Belleza y salud    Afeitado y depilación   \n",
       "28     0043917006888  1418557  Belleza y salud    Afeitado y depilación   \n",
       "29     4210201124481  1310843  Belleza y salud    Afeitado y depilación   \n",
       "...              ...      ...              ...                      ...   \n",
       "26110  8426801138391  1338174        Telefonía  Accesorios para móviles   \n",
       "26111  5081304356036  1402306        Telefonía  Accesorios para móviles   \n",
       "26112  8018080268854  1332408        Telefonía  Accesorios para móviles   \n",
       "26113  5081304280614  1402298        Telefonía  Accesorios para móviles   \n",
       "26114  5573063264146  1402307        Telefonía  Accesorios para móviles   \n",
       "26115  5573063264306  1402292        Telefonía  Accesorios para móviles   \n",
       "26116  8018080189357  1214288        Telefonía  Accesorios para móviles   \n",
       "26117  5081304356050  1402289        Telefonía  Accesorios para móviles   \n",
       "26118  4049011116085  1260687        Telefonía  Accesorios para móviles   \n",
       "26119  8018080333446  1435167        Telefonía  Accesorios para móviles   \n",
       "26120  4049011126268  1317985        Telefonía  Accesorios para móviles   \n",
       "26121  5573063264382  1402297        Telefonía  Accesorios para móviles   \n",
       "26122  8018080268830  1332406        Telefonía  Accesorios para móviles   \n",
       "26123  8427542082431  1364743        Telefonía  Accesorios para móviles   \n",
       "26124  0745883732197  1352495        Telefonía  Accesorios para móviles   \n",
       "26125  5573063264375  1402296        Telefonía  Accesorios para móviles   \n",
       "26126  8427542082424  1364741        Telefonía  Accesorios para móviles   \n",
       "26127  8018080190896  1211256        Telefonía  Accesorios para móviles   \n",
       "26128  4047443366719  1435841        Telefonía  Accesorios para móviles   \n",
       "26129  0745883732173  1352496        Telefonía  Accesorios para móviles   \n",
       "26130  5573063264313  1402293        Telefonía  Accesorios para móviles   \n",
       "26131  8018080190919  1211251        Telefonía  Accesorios para móviles   \n",
       "26132  4897032086098  1437880        Telefonía  Accesorios para móviles   \n",
       "26133  4897032086111  1437881        Telefonía  Accesorios para móviles   \n",
       "26134  4897032083714  1437882        Telefonía  Accesorios para móviles   \n",
       "26135  4897032086081  1437883        Telefonía  Accesorios para móviles   \n",
       "26136  4897032083769  1437879        Telefonía  Accesorios para móviles   \n",
       "26137  4897032086104  1437884        Telefonía  Accesorios para móviles   \n",
       "26138  8018080197826  1221004        Telefonía  Accesorios para móviles   \n",
       "26139  8427542079233  1357930        Telefonía  Accesorios para móviles   \n",
       "\n",
       "                   producto       subproducto          brand  \\\n",
       "0      Afeitadoras faciales               NaN        PHILIPS   \n",
       "1      Afeitadoras faciales               NaN        PHILIPS   \n",
       "2      Afeitadoras faciales               NaN        PHILIPS   \n",
       "3      Afeitadoras faciales               NaN        PHILIPS   \n",
       "4      Afeitadoras faciales               NaN          BRAUN   \n",
       "5      Afeitadoras faciales               NaN        PHILIPS   \n",
       "6      Afeitadoras faciales               NaN        PHILIPS   \n",
       "7      Afeitadoras faciales               NaN        PHILIPS   \n",
       "8      Afeitadoras faciales               NaN        PHILIPS   \n",
       "9      Afeitadoras faciales               NaN        PHILIPS   \n",
       "10     Afeitadoras faciales               NaN      PANASONIC   \n",
       "11     Afeitadoras faciales               NaN          BRAUN   \n",
       "12     Afeitadoras faciales               NaN        PHILIPS   \n",
       "13     Afeitadoras faciales               NaN          BRAUN   \n",
       "14     Afeitadoras faciales               NaN          BRAUN   \n",
       "15     Afeitadoras faciales               NaN          BRAUN   \n",
       "16     Afeitadoras faciales               NaN          BRAUN   \n",
       "17     Afeitadoras faciales               NaN          BRAUN   \n",
       "18     Afeitadoras faciales               NaN          BRAUN   \n",
       "19     Afeitadoras faciales               NaN             OK   \n",
       "20     Afeitadoras faciales               NaN        PHILIPS   \n",
       "21     Afeitadoras faciales               NaN      PANASONIC   \n",
       "22     Afeitadoras faciales               NaN      REMINGTON   \n",
       "23     Afeitadoras faciales               NaN        ROWENTA   \n",
       "24     Afeitadoras faciales               NaN          BEPER   \n",
       "25     Afeitadoras faciales               NaN          BRAUN   \n",
       "26     Afeitadoras faciales               NaN          BRAUN   \n",
       "27     Afeitadoras faciales               NaN          BRAUN   \n",
       "28     Afeitadoras faciales               NaN          RIVER   \n",
       "29     Afeitadoras faciales               NaN          BRAUN   \n",
       "...                     ...               ...            ...   \n",
       "26110  Cables y adaptadores               NaN          MUVIT   \n",
       "26111  Cables y adaptadores               NaN       BOOMPODS   \n",
       "26112  Cables y adaptadores               NaN  CELLULAR LINE   \n",
       "26113  Cables y adaptadores               NaN       BOOMPODS   \n",
       "26114  Cables y adaptadores               NaN       BOOMPODS   \n",
       "26115  Cables y adaptadores               NaN       BOOMPODS   \n",
       "26116  Cables y adaptadores               NaN  CELLULAR LINE   \n",
       "26117  Cables y adaptadores               NaN       BOOMPODS   \n",
       "26118  Cables y adaptadores               NaN            ISY   \n",
       "26119  Cables y adaptadores               NaN  CELLULAR LINE   \n",
       "26120  Cables y adaptadores               NaN            ISY   \n",
       "26121  Cables y adaptadores               NaN       BOOMPODS   \n",
       "26122  Cables y adaptadores               NaN  CELLULAR LINE   \n",
       "26123  Cables y adaptadores               NaN           KSIX   \n",
       "26124  Cables y adaptadores               NaN         BELKIN   \n",
       "26125  Cables y adaptadores               NaN       BOOMPODS   \n",
       "26126  Cables y adaptadores               NaN           KSIX   \n",
       "26127  Cables y adaptadores               NaN  CELLULAR LINE   \n",
       "26128  Cables y adaptadores  Cables de datos            HAMA   \n",
       "26129  Cables y adaptadores               NaN         BELKIN   \n",
       "26130  Cables y adaptadores               NaN       BOOMPODS   \n",
       "26131  Cables y adaptadores               NaN  CELLULAR LINE   \n",
       "26132  Cables y adaptadores               NaN         XOOPAR   \n",
       "26133  Cables y adaptadores               NaN         XOOPAR   \n",
       "26134  Cables y adaptadores               NaN         XOOPAR   \n",
       "26135  Cables y adaptadores               NaN         XOOPAR   \n",
       "26136  Cables y adaptadores               NaN         XOOPAR   \n",
       "26137  Cables y adaptadores               NaN         XOOPAR   \n",
       "26138  Cables y adaptadores               NaN  CELLULAR LINE   \n",
       "26139  Cables y adaptadores               NaN           KSIX   \n",
       "\n",
       "                                                    name   price  quantity  \\\n",
       "0      Afeitadora - Philips S 5110/06 Cabezales Flex,...   57.99       NaN   \n",
       "1      Afeitadora - Philips Shaver S1510/04, Recargab...   41.99       NaN   \n",
       "2      Afeitadora - Philips S5550/06, Cuchillas Multi...   89.90       NaN   \n",
       "3      Afeitadora - Philips S3510/06, sistema Comfort...   58.99       NaN   \n",
       "4      Afeitadora - Braun 5030s Series 5 + EN10, Reco...   87.99       NaN   \n",
       "5      Afeitadora - Philips S 5420/06 Sistema de cuch...   76.99       NaN   \n",
       "6      Afeitadora - Philips S9031/12 V-Track, Autonom...  165.00       NaN   \n",
       "7      Afeitadora - Philips AT750/26, Recargable, Cab...   55.99       NaN   \n",
       "8      Afeitadora - Philips S7522/50, Anillos SkinGli...  149.00       NaN   \n",
       "9      Afeitadora - Philips S3110/06, sistema Comfort...   49.99       NaN   \n",
       "10     Afeitadora - Panasonic ES RT 67 S503 Recargabl...   66.99       NaN   \n",
       "11     Recortador facial - Braun PT5010, perfilador d...   14.99       NaN   \n",
       "12     Afeitadora - Philips S7310/12, Especial para p...  123.00       NaN   \n",
       "13     Afeitadora - Braun MobileShave M60b Funcionami...   17.99       NaN   \n",
       "14     Afeitadora - Braun WF2s Serie 5 WaterFlex, Wet...  114.00       NaN   \n",
       "15     Afeitadora - Braun Serie3 3000 Tecnología Micr...   60.99       NaN   \n",
       "16     Afeitadora - Braun SERIE 3 310 Wet & Dry, Resi...   54.99       NaN   \n",
       "17     Afeitadora - Braun 3010 Serie 3, Recargable, C...   61.99       NaN   \n",
       "18     Afeitadora - Braun BT3010 Serie 3, Recargable,...   84.99       NaN   \n",
       "19     Afeitadora - OK OSH 3310 ES 3-IN-1, Men Shaver...   19.99       NaN   \n",
       "20     Afeitadora - Philips S5650/41, Accesorio barbe...  119.90       NaN   \n",
       "21     Afeitadora - Panasonic ES-ST 3 N, 3 cuchillas,...   87.99       NaN   \n",
       "22     Afeitadora - Remington PR1340GP, Cabezal comfo...   51.99       NaN   \n",
       "23     Recortador de pelo - Rowenta TN3620F0, Lavable...   18.99       NaN   \n",
       "24     Afeitadora - Beper iCut 40.993, Barba, Recargable   13.99       NaN   \n",
       "25     Afeitadora - Braun Series 9 9295cc, Uso en sec...  337.00       NaN   \n",
       "26     Afeitadora - Braun Series 3 310s, Recargable, ...   60.99       NaN   \n",
       "27     Afeitadora - Braun Series 7 7880cc Wet&Dry + E...  290.00       NaN   \n",
       "28     Afeitadora - River 03615-1016 Travel Shave, Re...   19.99       NaN   \n",
       "29     Afeitadora - Braun Serie 3 - 3000 Edición espe...   60.99       NaN   \n",
       "...                                                  ...     ...       ...   \n",
       "26110          MUVIT CABL/USB/W/LIGHT/MFI/2,4A/2M/MUUSC0   20.99       NaN   \n",
       "26111  Cable Lightning a USB - Boompods, retrocable, ...   17.99       NaN   \n",
       "26112  Cellularline 37713 0.6m USB A Micro-USB B Mach...    8.99       NaN   \n",
       "26113  Duocable Lighning / Micro USB a USB - Boompods...   19.99       NaN   \n",
       "26114  Cable Micro USB a USB - Boompods, retrocable, ...   12.99       NaN   \n",
       "26115  Cable Lightning a USB - Boompods, flatline, 1m...   14.99       NaN   \n",
       "26116  Cable USB - Cellular Line OTGUSBADAPTERSMPH, A...    9.99       NaN   \n",
       "26117  Cable Lightning a USB - Boompods, retrocable, ...   17.99       NaN   \n",
       "26118  Cable - Isy IWC 1000, Universal, Micro USB a U...    7.99       NaN   \n",
       "26119  Cable De Carga - Cellular Line Cbl/Typoc/Enrro...   16.99       NaN   \n",
       "26120  Cable - ISY IUC-1002, MicroUSB a USB, 15 cm, U...    4.99       NaN   \n",
       "26121  Duocable Lighning / Micro USB a USB - Boompods...   19.99       NaN   \n",
       "26122  Cellularline 37714 0.6m USB A Lightning Blanco...   17.99       NaN   \n",
       "26123  Ksix B0914CUTV 1m USB A Lightning Verde cable ...   14.99       NaN   \n",
       "26124  Belkin 1.2m, Lightning/USB 1.2m USB A Lightnin...   24.99       NaN   \n",
       "26125  Duocable Lighning / Micro USB a USB - Boompods...   19.99       NaN   \n",
       "26126  Ksix B0914CUTNJ 1m USB A Lightning Naranja cab...   14.99       NaN   \n",
       "26127  Cable de datos - Cellular Line, de USB a Micro...    9.99       NaN   \n",
       "26128  Cable Para Tablet - Hama Tablet Cable Sync Lig...   15.99       NaN   \n",
       "26129  Belkin 1.2m, Lightning/USB 1.2m USB A Lightnin...   24.99       NaN   \n",
       "26130  Cable Lightning a USB - Boompods, flatline, 1m...   14.99       NaN   \n",
       "26131  Cable de datos - Cellular Line, de USB a Micro...    7.99       NaN   \n",
       "26132  Cable De Carga - Xoopar Adapt/USB/Multiconecto...   11.99       NaN   \n",
       "26133  Cable De Carga - Xoopar Adapt/USB/Multiconecto...   11.99       NaN   \n",
       "26134  Cable De Carga - Xoopar Adapt/USB/Multiconecto...   11.99       NaN   \n",
       "26135  Cable De Carga - Xoopar Adapt/USB/Multiconecto...   11.99       NaN   \n",
       "26136  Cable De Carga - Xoopar Adapt/USB/Multiconecto...   11.99       NaN   \n",
       "26137  Cable De Carga - Xoopar Adapt/USB/Multiconecto...   11.99       NaN   \n",
       "26138  Cable adaptador micro USB a USB - Cellular Lin...    9.99       NaN   \n",
       "26139  Cable USB - Ksix Flexteel Sync & Charge, USB a...   12.90       NaN   \n",
       "\n",
       "             date  iva_aplicado stock_status  coste_envio  \n",
       "0      2019-04-10          21.0   OutOfStock         1.99  \n",
       "1      2019-04-10          21.0      InStock         1.99  \n",
       "2      2019-04-10          21.0   OutOfStock         1.99  \n",
       "3      2019-04-10          21.0      InStock         1.99  \n",
       "4      2019-04-10          21.0      InStock         1.99  \n",
       "5      2019-04-10          21.0      InStock         1.99  \n",
       "6      2019-04-10          21.0      InStock         1.99  \n",
       "7      2019-04-10          21.0      InStock         1.99  \n",
       "8      2019-04-10          21.0      InStock         1.99  \n",
       "9      2019-04-10          21.0      InStock         1.99  \n",
       "10     2019-04-10          21.0      InStock         1.99  \n",
       "11     2019-04-10          21.0      InStock         1.99  \n",
       "12     2019-04-10          21.0      InStock         1.99  \n",
       "13     2019-04-10          21.0      InStock         1.99  \n",
       "14     2019-04-10          21.0      InStock         1.99  \n",
       "15     2019-04-10          21.0      InStock         1.99  \n",
       "16     2019-04-10          21.0      InStock         1.99  \n",
       "17     2019-04-10          21.0      InStock         1.99  \n",
       "18     2019-04-10          21.0      InStock         1.99  \n",
       "19     2019-04-10          21.0      InStock         1.99  \n",
       "20     2019-04-10          21.0      InStock         1.99  \n",
       "21     2019-04-10          21.0      InStock         1.99  \n",
       "22     2019-04-10          21.0      InStock         1.99  \n",
       "23     2019-04-10          21.0      InStock         1.99  \n",
       "24     2019-04-10          21.0      InStock         1.99  \n",
       "25     2019-04-10          21.0      InStock         1.99  \n",
       "26     2019-04-10          21.0      InStock         1.99  \n",
       "27     2019-04-10          21.0      InStock         1.99  \n",
       "28     2019-04-10          21.0      InStock         1.99  \n",
       "29     2019-04-10          21.0      InStock         1.99  \n",
       "...           ...           ...          ...          ...  \n",
       "26110  2019-04-10          21.0      InStock         1.99  \n",
       "26111  2019-04-10          21.0      InStock         1.99  \n",
       "26112  2019-04-10          21.0      InStock         1.99  \n",
       "26113  2019-04-10          21.0      InStock         1.99  \n",
       "26114  2019-04-10          21.0      InStock         1.99  \n",
       "26115  2019-04-10          21.0      InStock         1.99  \n",
       "26116  2019-04-10          21.0      InStock         1.99  \n",
       "26117  2019-04-10          21.0      InStock         1.99  \n",
       "26118  2019-04-10          21.0   OutOfStock         1.99  \n",
       "26119  2019-04-10          21.0      InStock         1.99  \n",
       "26120  2019-04-10          21.0   OutOfStock         1.99  \n",
       "26121  2019-04-10          21.0      InStock         1.99  \n",
       "26122  2019-04-10          21.0      InStock         1.99  \n",
       "26123  2019-04-10          21.0      InStock         1.99  \n",
       "26124  2019-04-10          21.0      InStock         1.99  \n",
       "26125  2019-04-10          21.0      InStock         1.99  \n",
       "26126  2019-04-10          21.0      InStock         1.99  \n",
       "26127  2019-04-10          21.0      InStock         1.99  \n",
       "26128  2019-04-10          21.0      InStock         1.99  \n",
       "26129  2019-04-10          21.0      InStock         1.99  \n",
       "26130  2019-04-10          21.0      InStock         1.99  \n",
       "26131  2019-04-10          21.0      InStock         1.99  \n",
       "26132  2019-04-10          21.0      InStock         1.99  \n",
       "26133  2019-04-10          21.0      InStock         1.99  \n",
       "26134  2019-04-10          21.0      InStock         1.99  \n",
       "26135  2019-04-10          21.0      InStock         1.99  \n",
       "26136  2019-04-10          21.0      InStock         1.99  \n",
       "26137  2019-04-10          21.0      InStock         1.99  \n",
       "26138  2019-04-10          21.0   OutOfStock         1.99  \n",
       "26139  2019-04-10          21.0      InStock         1.99  \n",
       "\n",
       "[26140 rows x 14 columns]"
      ]
     },
     "execution_count": 24,
     "metadata": {},
     "output_type": "execute_result"
    }
   ],
   "source": [
    "# Mostramos el dataframe\n",
    "total_products"
   ]
  },
  {
   "cell_type": "code",
   "execution_count": 25,
   "metadata": {},
   "outputs": [],
   "source": [
    "# dat.replace('info', 'info_'+now.strftime(\"%Y%m%d\")).replace('.csv', '.xlsx')"
   ]
  },
  {
   "cell_type": "code",
   "execution_count": 45,
   "metadata": {},
   "outputs": [],
   "source": [
    "# Exportamos a csv, se añade la fecha en el nombre\n",
    "total_products.to_csv(dat.replace('info', 'info_'+now.strftime(\"%Y%m%d\")))"
   ]
  },
  {
   "cell_type": "code",
   "execution_count": 46,
   "metadata": {},
   "outputs": [],
   "source": [
    "# Exportamos a excel\n",
    "total_products.to_excel(dat.replace('info', 'info_'+now.strftime(\"%Y%m%d\")).replace('.csv', '.xlsx'),\n",
    "                        engine = 'xlsxwriter')"
   ]
  },
  {
   "cell_type": "code",
   "execution_count": 51,
   "metadata": {},
   "outputs": [
    {
     "data": {
      "image/png": "[encoded data removed]",
      "text/plain": [
       "<Figure size 1500x1000 with 1 Axes>"
      ]
     },
     "metadata": {
      "needs_background": "light"
     },
     "output_type": "display_data"
    },
    {
     "name": "stdout",
     "output_type": "stream",
     "text": [
      "Visualization saved to ./plots/price_distribution_brand.png\n"
     ]
    }
   ],
   "source": [
    "query = total_products.producto == 'Instantáneas y retro'\n",
    "\n",
    "viz_data(dat.replace('info', 'info_'+now.strftime(\"%Y%m%d\")), viz, query, 1500, 1000)"
   ]
  },
  {
   "cell_type": "code",
   "execution_count": 18,
   "metadata": {},
   "outputs": [],
   "source": [
    "# Recuperamos el archivo guardado\n",
    "catalogue =  pd.read_csv('./data/productinfo_20190410.csv', dtype={'ean': str, 'id': str}, index_col=0)"
   ]
  },
  {
   "cell_type": "code",
   "execution_count": 19,
   "metadata": {},
   "outputs": [
    {
     "data": {
      "text/html": [
       "<div>\n",
       "<style scoped>\n",
       "    .dataframe tbody tr th:only-of-type {\n",
       "        vertical-align: middle;\n",
       "    }\n",
       "\n",
       "    .dataframe tbody tr th {\n",
       "        vertical-align: top;\n",
       "    }\n",
       "\n",
       "    .dataframe thead th {\n",
       "        text-align: right;\n",
       "    }\n",
       "</style>\n",
       "<table border=\"1\" class=\"dataframe\">\n",
       "  <thead>\n",
       "    <tr style=\"text-align: right;\">\n",
       "      <th></th>\n",
       "      <th>ean</th>\n",
       "      <th>id</th>\n",
       "      <th>category</th>\n",
       "      <th>subcategory</th>\n",
       "      <th>producto</th>\n",
       "      <th>subproducto</th>\n",
       "      <th>brand</th>\n",
       "      <th>name</th>\n",
       "      <th>price</th>\n",
       "      <th>quantity</th>\n",
       "      <th>date</th>\n",
       "      <th>iva_aplicado</th>\n",
       "      <th>stock_status</th>\n",
       "      <th>coste_envio</th>\n",
       "    </tr>\n",
       "  </thead>\n",
       "  <tbody>\n",
       "    <tr>\n",
       "      <th>0</th>\n",
       "      <td>8710103738350</td>\n",
       "      <td>1293941</td>\n",
       "      <td>Belleza y salud</td>\n",
       "      <td>Afeitado y depilación</td>\n",
       "      <td>Afeitadoras faciales</td>\n",
       "      <td>NaN</td>\n",
       "      <td>PHILIPS</td>\n",
       "      <td>Afeitadora - Philips S 5110/06 Cabezales Flex,...</td>\n",
       "      <td>57.99</td>\n",
       "      <td>NaN</td>\n",
       "      <td>2019-04-10</td>\n",
       "      <td>21.0</td>\n",
       "      <td>OutOfStock</td>\n",
       "      <td>1.99</td>\n",
       "    </tr>\n",
       "    <tr>\n",
       "      <th>1</th>\n",
       "      <td>8710103764588</td>\n",
       "      <td>1317305</td>\n",
       "      <td>Belleza y salud</td>\n",
       "      <td>Afeitado y depilación</td>\n",
       "      <td>Afeitadoras faciales</td>\n",
       "      <td>NaN</td>\n",
       "      <td>PHILIPS</td>\n",
       "      <td>Afeitadora - Philips Shaver S1510/04, Recargab...</td>\n",
       "      <td>41.99</td>\n",
       "      <td>NaN</td>\n",
       "      <td>2019-04-10</td>\n",
       "      <td>21.0</td>\n",
       "      <td>InStock</td>\n",
       "      <td>1.99</td>\n",
       "    </tr>\n",
       "    <tr>\n",
       "      <th>2</th>\n",
       "      <td>8710103819219</td>\n",
       "      <td>1360370</td>\n",
       "      <td>Belleza y salud</td>\n",
       "      <td>Afeitado y depilación</td>\n",
       "      <td>Afeitadoras faciales</td>\n",
       "      <td>NaN</td>\n",
       "      <td>PHILIPS</td>\n",
       "      <td>Afeitadora - Philips S5550/06, Cuchillas Multi...</td>\n",
       "      <td>89.90</td>\n",
       "      <td>NaN</td>\n",
       "      <td>2019-04-10</td>\n",
       "      <td>21.0</td>\n",
       "      <td>OutOfStock</td>\n",
       "      <td>1.99</td>\n",
       "    </tr>\n",
       "    <tr>\n",
       "      <th>3</th>\n",
       "      <td>8710103764489</td>\n",
       "      <td>1317303</td>\n",
       "      <td>Belleza y salud</td>\n",
       "      <td>Afeitado y depilación</td>\n",
       "      <td>Afeitadoras faciales</td>\n",
       "      <td>NaN</td>\n",
       "      <td>PHILIPS</td>\n",
       "      <td>Afeitadora - Philips S3510/06, sistema Comfort...</td>\n",
       "      <td>58.99</td>\n",
       "      <td>NaN</td>\n",
       "      <td>2019-04-10</td>\n",
       "      <td>21.0</td>\n",
       "      <td>InStock</td>\n",
       "      <td>1.99</td>\n",
       "    </tr>\n",
       "    <tr>\n",
       "      <th>4</th>\n",
       "      <td>4210201147022</td>\n",
       "      <td>1294131</td>\n",
       "      <td>Belleza y salud</td>\n",
       "      <td>Afeitado y depilación</td>\n",
       "      <td>Afeitadoras faciales</td>\n",
       "      <td>NaN</td>\n",
       "      <td>BRAUN</td>\n",
       "      <td>Afeitadora - Braun 5030s Series 5 + EN10, Reco...</td>\n",
       "      <td>87.99</td>\n",
       "      <td>NaN</td>\n",
       "      <td>2019-04-10</td>\n",
       "      <td>21.0</td>\n",
       "      <td>InStock</td>\n",
       "      <td>1.99</td>\n",
       "    </tr>\n",
       "    <tr>\n",
       "      <th>5</th>\n",
       "      <td>8710103738121</td>\n",
       "      <td>1293945</td>\n",
       "      <td>Belleza y salud</td>\n",
       "      <td>Afeitado y depilación</td>\n",
       "      <td>Afeitadoras faciales</td>\n",
       "      <td>NaN</td>\n",
       "      <td>PHILIPS</td>\n",
       "      <td>Afeitadora - Philips S 5420/06 Sistema de cuch...</td>\n",
       "      <td>76.99</td>\n",
       "      <td>NaN</td>\n",
       "      <td>2019-04-10</td>\n",
       "      <td>21.0</td>\n",
       "      <td>InStock</td>\n",
       "      <td>1.99</td>\n",
       "    </tr>\n",
       "    <tr>\n",
       "      <th>6</th>\n",
       "      <td>8710103686934</td>\n",
       "      <td>1252110</td>\n",
       "      <td>Belleza y salud</td>\n",
       "      <td>Afeitado y depilación</td>\n",
       "      <td>Afeitadoras faciales</td>\n",
       "      <td>NaN</td>\n",
       "      <td>PHILIPS</td>\n",
       "      <td>Afeitadora - Philips S9031/12 V-Track, Autonom...</td>\n",
       "      <td>165.00</td>\n",
       "      <td>NaN</td>\n",
       "      <td>2019-04-10</td>\n",
       "      <td>21.0</td>\n",
       "      <td>InStock</td>\n",
       "      <td>1.99</td>\n",
       "    </tr>\n",
       "    <tr>\n",
       "      <th>7</th>\n",
       "      <td>8710103609803</td>\n",
       "      <td>1187436</td>\n",
       "      <td>Belleza y salud</td>\n",
       "      <td>Afeitado y depilación</td>\n",
       "      <td>Afeitadoras faciales</td>\n",
       "      <td>NaN</td>\n",
       "      <td>PHILIPS</td>\n",
       "      <td>Afeitadora - Philips AT750/26, Recargable, Cab...</td>\n",
       "      <td>55.99</td>\n",
       "      <td>NaN</td>\n",
       "      <td>2019-04-10</td>\n",
       "      <td>21.0</td>\n",
       "      <td>InStock</td>\n",
       "      <td>1.99</td>\n",
       "    </tr>\n",
       "    <tr>\n",
       "      <th>8</th>\n",
       "      <td>8710103800958</td>\n",
       "      <td>1385320</td>\n",
       "      <td>Belleza y salud</td>\n",
       "      <td>Afeitado y depilación</td>\n",
       "      <td>Afeitadoras faciales</td>\n",
       "      <td>NaN</td>\n",
       "      <td>PHILIPS</td>\n",
       "      <td>Afeitadora - Philips S7522/50, Anillos SkinGli...</td>\n",
       "      <td>149.00</td>\n",
       "      <td>NaN</td>\n",
       "      <td>2019-04-10</td>\n",
       "      <td>21.0</td>\n",
       "      <td>InStock</td>\n",
       "      <td>1.99</td>\n",
       "    </tr>\n",
       "    <tr>\n",
       "      <th>9</th>\n",
       "      <td>8710103764458</td>\n",
       "      <td>1317304</td>\n",
       "      <td>Belleza y salud</td>\n",
       "      <td>Afeitado y depilación</td>\n",
       "      <td>Afeitadoras faciales</td>\n",
       "      <td>NaN</td>\n",
       "      <td>PHILIPS</td>\n",
       "      <td>Afeitadora - Philips S3110/06, sistema Comfort...</td>\n",
       "      <td>49.99</td>\n",
       "      <td>NaN</td>\n",
       "      <td>2019-04-10</td>\n",
       "      <td>21.0</td>\n",
       "      <td>InStock</td>\n",
       "      <td>1.99</td>\n",
       "    </tr>\n",
       "    <tr>\n",
       "      <th>10</th>\n",
       "      <td>5025232782642</td>\n",
       "      <td>1264634</td>\n",
       "      <td>Belleza y salud</td>\n",
       "      <td>Afeitado y depilación</td>\n",
       "      <td>Afeitadoras faciales</td>\n",
       "      <td>NaN</td>\n",
       "      <td>PANASONIC</td>\n",
       "      <td>Afeitadora - Panasonic ES RT 67 S503 Recargabl...</td>\n",
       "      <td>66.99</td>\n",
       "      <td>NaN</td>\n",
       "      <td>2019-04-10</td>\n",
       "      <td>21.0</td>\n",
       "      <td>InStock</td>\n",
       "      <td>1.99</td>\n",
       "    </tr>\n",
       "    <tr>\n",
       "      <th>11</th>\n",
       "      <td>4210201132370</td>\n",
       "      <td>1310896</td>\n",
       "      <td>Belleza y salud</td>\n",
       "      <td>Afeitado y depilación</td>\n",
       "      <td>Afeitadoras faciales</td>\n",
       "      <td>NaN</td>\n",
       "      <td>BRAUN</td>\n",
       "      <td>Recortador facial - Braun PT5010, perfilador d...</td>\n",
       "      <td>14.99</td>\n",
       "      <td>NaN</td>\n",
       "      <td>2019-04-10</td>\n",
       "      <td>21.0</td>\n",
       "      <td>InStock</td>\n",
       "      <td>1.99</td>\n",
       "    </tr>\n",
       "    <tr>\n",
       "      <th>12</th>\n",
       "      <td>8710103736745</td>\n",
       "      <td>1367692</td>\n",
       "      <td>Belleza y salud</td>\n",
       "      <td>Afeitado y depilación</td>\n",
       "      <td>Afeitadoras faciales</td>\n",
       "      <td>NaN</td>\n",
       "      <td>PHILIPS</td>\n",
       "      <td>Afeitadora - Philips S7310/12, Especial para p...</td>\n",
       "      <td>123.00</td>\n",
       "      <td>NaN</td>\n",
       "      <td>2019-04-10</td>\n",
       "      <td>21.0</td>\n",
       "      <td>InStock</td>\n",
       "      <td>1.99</td>\n",
       "    </tr>\n",
       "    <tr>\n",
       "      <th>13</th>\n",
       "      <td>4210201649793</td>\n",
       "      <td>1104022</td>\n",
       "      <td>Belleza y salud</td>\n",
       "      <td>Afeitado y depilación</td>\n",
       "      <td>Afeitadoras faciales</td>\n",
       "      <td>NaN</td>\n",
       "      <td>BRAUN</td>\n",
       "      <td>Afeitadora - Braun MobileShave M60b Funcionami...</td>\n",
       "      <td>17.99</td>\n",
       "      <td>NaN</td>\n",
       "      <td>2019-04-10</td>\n",
       "      <td>21.0</td>\n",
       "      <td>InStock</td>\n",
       "      <td>1.99</td>\n",
       "    </tr>\n",
       "    <tr>\n",
       "      <th>14</th>\n",
       "      <td>4210201183617</td>\n",
       "      <td>1373774</td>\n",
       "      <td>Belleza y salud</td>\n",
       "      <td>Afeitado y depilación</td>\n",
       "      <td>Afeitadoras faciales</td>\n",
       "      <td>NaN</td>\n",
       "      <td>BRAUN</td>\n",
       "      <td>Afeitadora - Braun WF2s Serie 5 WaterFlex, Wet...</td>\n",
       "      <td>114.00</td>\n",
       "      <td>NaN</td>\n",
       "      <td>2019-04-10</td>\n",
       "      <td>21.0</td>\n",
       "      <td>InStock</td>\n",
       "      <td>1.99</td>\n",
       "    </tr>\n",
       "    <tr>\n",
       "      <th>15</th>\n",
       "      <td>4210201186595</td>\n",
       "      <td>1382003</td>\n",
       "      <td>Belleza y salud</td>\n",
       "      <td>Afeitado y depilación</td>\n",
       "      <td>Afeitadoras faciales</td>\n",
       "      <td>NaN</td>\n",
       "      <td>BRAUN</td>\n",
       "      <td>Afeitadora - Braun Serie3 3000 Tecnología Micr...</td>\n",
       "      <td>60.99</td>\n",
       "      <td>NaN</td>\n",
       "      <td>2019-04-10</td>\n",
       "      <td>21.0</td>\n",
       "      <td>InStock</td>\n",
       "      <td>1.99</td>\n",
       "    </tr>\n",
       "    <tr>\n",
       "      <th>16</th>\n",
       "      <td>4210201163367</td>\n",
       "      <td>1353373</td>\n",
       "      <td>Belleza y salud</td>\n",
       "      <td>Afeitado y depilación</td>\n",
       "      <td>Afeitadoras faciales</td>\n",
       "      <td>NaN</td>\n",
       "      <td>BRAUN</td>\n",
       "      <td>Afeitadora - Braun SERIE 3 310 Wet &amp; Dry, Resi...</td>\n",
       "      <td>54.99</td>\n",
       "      <td>NaN</td>\n",
       "      <td>2019-04-10</td>\n",
       "      <td>21.0</td>\n",
       "      <td>InStock</td>\n",
       "      <td>1.99</td>\n",
       "    </tr>\n",
       "    <tr>\n",
       "      <th>17</th>\n",
       "      <td>4210201112129</td>\n",
       "      <td>1310842</td>\n",
       "      <td>Belleza y salud</td>\n",
       "      <td>Afeitado y depilación</td>\n",
       "      <td>Afeitadoras faciales</td>\n",
       "      <td>NaN</td>\n",
       "      <td>BRAUN</td>\n",
       "      <td>Afeitadora - Braun 3010 Serie 3, Recargable, C...</td>\n",
       "      <td>61.99</td>\n",
       "      <td>NaN</td>\n",
       "      <td>2019-04-10</td>\n",
       "      <td>21.0</td>\n",
       "      <td>InStock</td>\n",
       "      <td>1.99</td>\n",
       "    </tr>\n",
       "    <tr>\n",
       "      <th>18</th>\n",
       "      <td>4210201151562</td>\n",
       "      <td>1353375</td>\n",
       "      <td>Belleza y salud</td>\n",
       "      <td>Afeitado y depilación</td>\n",
       "      <td>Afeitadoras faciales</td>\n",
       "      <td>NaN</td>\n",
       "      <td>BRAUN</td>\n",
       "      <td>Afeitadora - Braun BT3010 Serie 3, Recargable,...</td>\n",
       "      <td>84.99</td>\n",
       "      <td>NaN</td>\n",
       "      <td>2019-04-10</td>\n",
       "      <td>21.0</td>\n",
       "      <td>InStock</td>\n",
       "      <td>1.99</td>\n",
       "    </tr>\n",
       "    <tr>\n",
       "      <th>19</th>\n",
       "      <td>4049011147454</td>\n",
       "      <td>1423577</td>\n",
       "      <td>Belleza y salud</td>\n",
       "      <td>Afeitado y depilación</td>\n",
       "      <td>Afeitadoras faciales</td>\n",
       "      <td>NaN</td>\n",
       "      <td>OK</td>\n",
       "      <td>Afeitadora - OK OSH 3310 ES 3-IN-1, Men Shaver...</td>\n",
       "      <td>19.99</td>\n",
       "      <td>NaN</td>\n",
       "      <td>2019-04-10</td>\n",
       "      <td>21.0</td>\n",
       "      <td>InStock</td>\n",
       "      <td>1.99</td>\n",
       "    </tr>\n",
       "    <tr>\n",
       "      <th>20</th>\n",
       "      <td>8710103819349</td>\n",
       "      <td>1360380</td>\n",
       "      <td>Belleza y salud</td>\n",
       "      <td>Afeitado y depilación</td>\n",
       "      <td>Afeitadoras faciales</td>\n",
       "      <td>NaN</td>\n",
       "      <td>PHILIPS</td>\n",
       "      <td>Afeitadora - Philips S5650/41, Accesorio barbe...</td>\n",
       "      <td>119.90</td>\n",
       "      <td>NaN</td>\n",
       "      <td>2019-04-10</td>\n",
       "      <td>21.0</td>\n",
       "      <td>InStock</td>\n",
       "      <td>1.99</td>\n",
       "    </tr>\n",
       "    <tr>\n",
       "      <th>21</th>\n",
       "      <td>5025232846184</td>\n",
       "      <td>1418920</td>\n",
       "      <td>Belleza y salud</td>\n",
       "      <td>Afeitado y depilación</td>\n",
       "      <td>Afeitadoras faciales</td>\n",
       "      <td>NaN</td>\n",
       "      <td>PANASONIC</td>\n",
       "      <td>Afeitadora - Panasonic ES-ST 3 N, 3 cuchillas,...</td>\n",
       "      <td>87.99</td>\n",
       "      <td>NaN</td>\n",
       "      <td>2019-04-10</td>\n",
       "      <td>21.0</td>\n",
       "      <td>InStock</td>\n",
       "      <td>1.99</td>\n",
       "    </tr>\n",
       "    <tr>\n",
       "      <th>22</th>\n",
       "      <td>8420738411848</td>\n",
       "      <td>1376067</td>\n",
       "      <td>Belleza y salud</td>\n",
       "      <td>Afeitado y depilación</td>\n",
       "      <td>Afeitadoras faciales</td>\n",
       "      <td>NaN</td>\n",
       "      <td>REMINGTON</td>\n",
       "      <td>Afeitadora - Remington PR1340GP, Cabezal comfo...</td>\n",
       "      <td>51.99</td>\n",
       "      <td>NaN</td>\n",
       "      <td>2019-04-10</td>\n",
       "      <td>21.0</td>\n",
       "      <td>InStock</td>\n",
       "      <td>1.99</td>\n",
       "    </tr>\n",
       "    <tr>\n",
       "      <th>23</th>\n",
       "      <td>3121040059272</td>\n",
       "      <td>1311358</td>\n",
       "      <td>Belleza y salud</td>\n",
       "      <td>Afeitado y depilación</td>\n",
       "      <td>Afeitadoras faciales</td>\n",
       "      <td>NaN</td>\n",
       "      <td>ROWENTA</td>\n",
       "      <td>Recortador de pelo - Rowenta TN3620F0, Lavable...</td>\n",
       "      <td>18.99</td>\n",
       "      <td>NaN</td>\n",
       "      <td>2019-04-10</td>\n",
       "      <td>21.0</td>\n",
       "      <td>InStock</td>\n",
       "      <td>1.99</td>\n",
       "    </tr>\n",
       "    <tr>\n",
       "      <th>24</th>\n",
       "      <td>8051772711948</td>\n",
       "      <td>1331134</td>\n",
       "      <td>Belleza y salud</td>\n",
       "      <td>Afeitado y depilación</td>\n",
       "      <td>Afeitadoras faciales</td>\n",
       "      <td>NaN</td>\n",
       "      <td>BEPER</td>\n",
       "      <td>Afeitadora - Beper iCut 40.993, Barba, Recargable</td>\n",
       "      <td>13.99</td>\n",
       "      <td>NaN</td>\n",
       "      <td>2019-04-10</td>\n",
       "      <td>21.0</td>\n",
       "      <td>InStock</td>\n",
       "      <td>1.99</td>\n",
       "    </tr>\n",
       "    <tr>\n",
       "      <th>25</th>\n",
       "      <td>4210201165804</td>\n",
       "      <td>1342438</td>\n",
       "      <td>Belleza y salud</td>\n",
       "      <td>Afeitado y depilación</td>\n",
       "      <td>Afeitadoras faciales</td>\n",
       "      <td>NaN</td>\n",
       "      <td>BRAUN</td>\n",
       "      <td>Afeitadora - Braun Series 9 9295cc, Uso en sec...</td>\n",
       "      <td>337.00</td>\n",
       "      <td>NaN</td>\n",
       "      <td>2019-04-10</td>\n",
       "      <td>21.0</td>\n",
       "      <td>InStock</td>\n",
       "      <td>1.99</td>\n",
       "    </tr>\n",
       "    <tr>\n",
       "      <th>26</th>\n",
       "      <td>4210201188827</td>\n",
       "      <td>1382002</td>\n",
       "      <td>Belleza y salud</td>\n",
       "      <td>Afeitado y depilación</td>\n",
       "      <td>Afeitadoras faciales</td>\n",
       "      <td>NaN</td>\n",
       "      <td>BRAUN</td>\n",
       "      <td>Afeitadora - Braun Series 3 310s, Recargable, ...</td>\n",
       "      <td>60.99</td>\n",
       "      <td>NaN</td>\n",
       "      <td>2019-04-10</td>\n",
       "      <td>21.0</td>\n",
       "      <td>InStock</td>\n",
       "      <td>1.99</td>\n",
       "    </tr>\n",
       "    <tr>\n",
       "      <th>27</th>\n",
       "      <td>4210201166825</td>\n",
       "      <td>1342625</td>\n",
       "      <td>Belleza y salud</td>\n",
       "      <td>Afeitado y depilación</td>\n",
       "      <td>Afeitadoras faciales</td>\n",
       "      <td>NaN</td>\n",
       "      <td>BRAUN</td>\n",
       "      <td>Afeitadora - Braun Series 7 7880cc Wet&amp;Dry + E...</td>\n",
       "      <td>290.00</td>\n",
       "      <td>NaN</td>\n",
       "      <td>2019-04-10</td>\n",
       "      <td>21.0</td>\n",
       "      <td>InStock</td>\n",
       "      <td>1.99</td>\n",
       "    </tr>\n",
       "    <tr>\n",
       "      <th>28</th>\n",
       "      <td>0043917006888</td>\n",
       "      <td>1418557</td>\n",
       "      <td>Belleza y salud</td>\n",
       "      <td>Afeitado y depilación</td>\n",
       "      <td>Afeitadoras faciales</td>\n",
       "      <td>NaN</td>\n",
       "      <td>RIVER</td>\n",
       "      <td>Afeitadora - River 03615-1016 Travel Shave, Re...</td>\n",
       "      <td>19.99</td>\n",
       "      <td>NaN</td>\n",
       "      <td>2019-04-10</td>\n",
       "      <td>21.0</td>\n",
       "      <td>InStock</td>\n",
       "      <td>1.99</td>\n",
       "    </tr>\n",
       "    <tr>\n",
       "      <th>29</th>\n",
       "      <td>4210201124481</td>\n",
       "      <td>1310843</td>\n",
       "      <td>Belleza y salud</td>\n",
       "      <td>Afeitado y depilación</td>\n",
       "      <td>Afeitadoras faciales</td>\n",
       "      <td>NaN</td>\n",
       "      <td>BRAUN</td>\n",
       "      <td>Afeitadora - Braun Serie 3 - 3000 Edición espe...</td>\n",
       "      <td>60.99</td>\n",
       "      <td>NaN</td>\n",
       "      <td>2019-04-10</td>\n",
       "      <td>21.0</td>\n",
       "      <td>InStock</td>\n",
       "      <td>1.99</td>\n",
       "    </tr>\n",
       "    <tr>\n",
       "      <th>...</th>\n",
       "      <td>...</td>\n",
       "      <td>...</td>\n",
       "      <td>...</td>\n",
       "      <td>...</td>\n",
       "      <td>...</td>\n",
       "      <td>...</td>\n",
       "      <td>...</td>\n",
       "      <td>...</td>\n",
       "      <td>...</td>\n",
       "      <td>...</td>\n",
       "      <td>...</td>\n",
       "      <td>...</td>\n",
       "      <td>...</td>\n",
       "      <td>...</td>\n",
       "    </tr>\n",
       "    <tr>\n",
       "      <th>26110</th>\n",
       "      <td>8426801138391</td>\n",
       "      <td>1338174</td>\n",
       "      <td>Telefonía</td>\n",
       "      <td>Accesorios para móviles</td>\n",
       "      <td>Cables y adaptadores</td>\n",
       "      <td>NaN</td>\n",
       "      <td>MUVIT</td>\n",
       "      <td>MUVIT CABL/USB/W/LIGHT/MFI/2,4A/2M/MUUSC0</td>\n",
       "      <td>20.99</td>\n",
       "      <td>NaN</td>\n",
       "      <td>2019-04-10</td>\n",
       "      <td>21.0</td>\n",
       "      <td>InStock</td>\n",
       "      <td>1.99</td>\n",
       "    </tr>\n",
       "    <tr>\n",
       "      <th>26111</th>\n",
       "      <td>5081304356036</td>\n",
       "      <td>1402306</td>\n",
       "      <td>Telefonía</td>\n",
       "      <td>Accesorios para móviles</td>\n",
       "      <td>Cables y adaptadores</td>\n",
       "      <td>NaN</td>\n",
       "      <td>BOOMPODS</td>\n",
       "      <td>Cable Lightning a USB - Boompods, retrocable, ...</td>\n",
       "      <td>17.99</td>\n",
       "      <td>NaN</td>\n",
       "      <td>2019-04-10</td>\n",
       "      <td>21.0</td>\n",
       "      <td>InStock</td>\n",
       "      <td>1.99</td>\n",
       "    </tr>\n",
       "    <tr>\n",
       "      <th>26112</th>\n",
       "      <td>8018080268854</td>\n",
       "      <td>1332408</td>\n",
       "      <td>Telefonía</td>\n",
       "      <td>Accesorios para móviles</td>\n",
       "      <td>Cables y adaptadores</td>\n",
       "      <td>NaN</td>\n",
       "      <td>CELLULAR LINE</td>\n",
       "      <td>Cellularline 37713 0.6m USB A Micro-USB B Mach...</td>\n",
       "      <td>8.99</td>\n",
       "      <td>NaN</td>\n",
       "      <td>2019-04-10</td>\n",
       "      <td>21.0</td>\n",
       "      <td>InStock</td>\n",
       "      <td>1.99</td>\n",
       "    </tr>\n",
       "    <tr>\n",
       "      <th>26113</th>\n",
       "      <td>5081304280614</td>\n",
       "      <td>1402298</td>\n",
       "      <td>Telefonía</td>\n",
       "      <td>Accesorios para móviles</td>\n",
       "      <td>Cables y adaptadores</td>\n",
       "      <td>NaN</td>\n",
       "      <td>BOOMPODS</td>\n",
       "      <td>Duocable Lighning / Micro USB a USB - Boompods...</td>\n",
       "      <td>19.99</td>\n",
       "      <td>NaN</td>\n",
       "      <td>2019-04-10</td>\n",
       "      <td>21.0</td>\n",
       "      <td>InStock</td>\n",
       "      <td>1.99</td>\n",
       "    </tr>\n",
       "    <tr>\n",
       "      <th>26114</th>\n",
       "      <td>5573063264146</td>\n",
       "      <td>1402307</td>\n",
       "      <td>Telefonía</td>\n",
       "      <td>Accesorios para móviles</td>\n",
       "      <td>Cables y adaptadores</td>\n",
       "      <td>NaN</td>\n",
       "      <td>BOOMPODS</td>\n",
       "      <td>Cable Micro USB a USB - Boompods, retrocable, ...</td>\n",
       "      <td>12.99</td>\n",
       "      <td>NaN</td>\n",
       "      <td>2019-04-10</td>\n",
       "      <td>21.0</td>\n",
       "      <td>InStock</td>\n",
       "      <td>1.99</td>\n",
       "    </tr>\n",
       "    <tr>\n",
       "      <th>26115</th>\n",
       "      <td>5573063264306</td>\n",
       "      <td>1402292</td>\n",
       "      <td>Telefonía</td>\n",
       "      <td>Accesorios para móviles</td>\n",
       "      <td>Cables y adaptadores</td>\n",
       "      <td>NaN</td>\n",
       "      <td>BOOMPODS</td>\n",
       "      <td>Cable Lightning a USB - Boompods, flatline, 1m...</td>\n",
       "      <td>14.99</td>\n",
       "      <td>NaN</td>\n",
       "      <td>2019-04-10</td>\n",
       "      <td>21.0</td>\n",
       "      <td>InStock</td>\n",
       "      <td>1.99</td>\n",
       "    </tr>\n",
       "    <tr>\n",
       "      <th>26116</th>\n",
       "      <td>8018080189357</td>\n",
       "      <td>1214288</td>\n",
       "      <td>Telefonía</td>\n",
       "      <td>Accesorios para móviles</td>\n",
       "      <td>Cables y adaptadores</td>\n",
       "      <td>NaN</td>\n",
       "      <td>CELLULAR LINE</td>\n",
       "      <td>Cable USB - Cellular Line OTGUSBADAPTERSMPH, A...</td>\n",
       "      <td>9.99</td>\n",
       "      <td>NaN</td>\n",
       "      <td>2019-04-10</td>\n",
       "      <td>21.0</td>\n",
       "      <td>InStock</td>\n",
       "      <td>1.99</td>\n",
       "    </tr>\n",
       "    <tr>\n",
       "      <th>26117</th>\n",
       "      <td>5081304356050</td>\n",
       "      <td>1402289</td>\n",
       "      <td>Telefonía</td>\n",
       "      <td>Accesorios para móviles</td>\n",
       "      <td>Cables y adaptadores</td>\n",
       "      <td>NaN</td>\n",
       "      <td>BOOMPODS</td>\n",
       "      <td>Cable Lightning a USB - Boompods, retrocable, ...</td>\n",
       "      <td>17.99</td>\n",
       "      <td>NaN</td>\n",
       "      <td>2019-04-10</td>\n",
       "      <td>21.0</td>\n",
       "      <td>InStock</td>\n",
       "      <td>1.99</td>\n",
       "    </tr>\n",
       "    <tr>\n",
       "      <th>26118</th>\n",
       "      <td>4049011116085</td>\n",
       "      <td>1260687</td>\n",
       "      <td>Telefonía</td>\n",
       "      <td>Accesorios para móviles</td>\n",
       "      <td>Cables y adaptadores</td>\n",
       "      <td>NaN</td>\n",
       "      <td>ISY</td>\n",
       "      <td>Cable - Isy IWC 1000, Universal, Micro USB a U...</td>\n",
       "      <td>7.99</td>\n",
       "      <td>NaN</td>\n",
       "      <td>2019-04-10</td>\n",
       "      <td>21.0</td>\n",
       "      <td>OutOfStock</td>\n",
       "      <td>1.99</td>\n",
       "    </tr>\n",
       "    <tr>\n",
       "      <th>26119</th>\n",
       "      <td>8018080333446</td>\n",
       "      <td>1435167</td>\n",
       "      <td>Telefonía</td>\n",
       "      <td>Accesorios para móviles</td>\n",
       "      <td>Cables y adaptadores</td>\n",
       "      <td>NaN</td>\n",
       "      <td>CELLULAR LINE</td>\n",
       "      <td>Cable De Carga - Cellular Line Cbl/Typoc/Enrro...</td>\n",
       "      <td>16.99</td>\n",
       "      <td>NaN</td>\n",
       "      <td>2019-04-10</td>\n",
       "      <td>21.0</td>\n",
       "      <td>InStock</td>\n",
       "      <td>1.99</td>\n",
       "    </tr>\n",
       "    <tr>\n",
       "      <th>26120</th>\n",
       "      <td>4049011126268</td>\n",
       "      <td>1317985</td>\n",
       "      <td>Telefonía</td>\n",
       "      <td>Accesorios para móviles</td>\n",
       "      <td>Cables y adaptadores</td>\n",
       "      <td>NaN</td>\n",
       "      <td>ISY</td>\n",
       "      <td>Cable - ISY IUC-1002, MicroUSB a USB, 15 cm, U...</td>\n",
       "      <td>4.99</td>\n",
       "      <td>NaN</td>\n",
       "      <td>2019-04-10</td>\n",
       "      <td>21.0</td>\n",
       "      <td>OutOfStock</td>\n",
       "      <td>1.99</td>\n",
       "    </tr>\n",
       "    <tr>\n",
       "      <th>26121</th>\n",
       "      <td>5573063264382</td>\n",
       "      <td>1402297</td>\n",
       "      <td>Telefonía</td>\n",
       "      <td>Accesorios para móviles</td>\n",
       "      <td>Cables y adaptadores</td>\n",
       "      <td>NaN</td>\n",
       "      <td>BOOMPODS</td>\n",
       "      <td>Duocable Lighning / Micro USB a USB - Boompods...</td>\n",
       "      <td>19.99</td>\n",
       "      <td>NaN</td>\n",
       "      <td>2019-04-10</td>\n",
       "      <td>21.0</td>\n",
       "      <td>InStock</td>\n",
       "      <td>1.99</td>\n",
       "    </tr>\n",
       "    <tr>\n",
       "      <th>26122</th>\n",
       "      <td>8018080268830</td>\n",
       "      <td>1332406</td>\n",
       "      <td>Telefonía</td>\n",
       "      <td>Accesorios para móviles</td>\n",
       "      <td>Cables y adaptadores</td>\n",
       "      <td>NaN</td>\n",
       "      <td>CELLULAR LINE</td>\n",
       "      <td>Cellularline 37714 0.6m USB A Lightning Blanco...</td>\n",
       "      <td>17.99</td>\n",
       "      <td>NaN</td>\n",
       "      <td>2019-04-10</td>\n",
       "      <td>21.0</td>\n",
       "      <td>InStock</td>\n",
       "      <td>1.99</td>\n",
       "    </tr>\n",
       "    <tr>\n",
       "      <th>26123</th>\n",
       "      <td>8427542082431</td>\n",
       "      <td>1364743</td>\n",
       "      <td>Telefonía</td>\n",
       "      <td>Accesorios para móviles</td>\n",
       "      <td>Cables y adaptadores</td>\n",
       "      <td>NaN</td>\n",
       "      <td>KSIX</td>\n",
       "      <td>Ksix B0914CUTV 1m USB A Lightning Verde cable ...</td>\n",
       "      <td>14.99</td>\n",
       "      <td>NaN</td>\n",
       "      <td>2019-04-10</td>\n",
       "      <td>21.0</td>\n",
       "      <td>InStock</td>\n",
       "      <td>1.99</td>\n",
       "    </tr>\n",
       "    <tr>\n",
       "      <th>26124</th>\n",
       "      <td>0745883732197</td>\n",
       "      <td>1352495</td>\n",
       "      <td>Telefonía</td>\n",
       "      <td>Accesorios para móviles</td>\n",
       "      <td>Cables y adaptadores</td>\n",
       "      <td>NaN</td>\n",
       "      <td>BELKIN</td>\n",
       "      <td>Belkin 1.2m, Lightning/USB 1.2m USB A Lightnin...</td>\n",
       "      <td>24.99</td>\n",
       "      <td>NaN</td>\n",
       "      <td>2019-04-10</td>\n",
       "      <td>21.0</td>\n",
       "      <td>InStock</td>\n",
       "      <td>1.99</td>\n",
       "    </tr>\n",
       "    <tr>\n",
       "      <th>26125</th>\n",
       "      <td>5573063264375</td>\n",
       "      <td>1402296</td>\n",
       "      <td>Telefonía</td>\n",
       "      <td>Accesorios para móviles</td>\n",
       "      <td>Cables y adaptadores</td>\n",
       "      <td>NaN</td>\n",
       "      <td>BOOMPODS</td>\n",
       "      <td>Duocable Lighning / Micro USB a USB - Boompods...</td>\n",
       "      <td>19.99</td>\n",
       "      <td>NaN</td>\n",
       "      <td>2019-04-10</td>\n",
       "      <td>21.0</td>\n",
       "      <td>InStock</td>\n",
       "      <td>1.99</td>\n",
       "    </tr>\n",
       "    <tr>\n",
       "      <th>26126</th>\n",
       "      <td>8427542082424</td>\n",
       "      <td>1364741</td>\n",
       "      <td>Telefonía</td>\n",
       "      <td>Accesorios para móviles</td>\n",
       "      <td>Cables y adaptadores</td>\n",
       "      <td>NaN</td>\n",
       "      <td>KSIX</td>\n",
       "      <td>Ksix B0914CUTNJ 1m USB A Lightning Naranja cab...</td>\n",
       "      <td>14.99</td>\n",
       "      <td>NaN</td>\n",
       "      <td>2019-04-10</td>\n",
       "      <td>21.0</td>\n",
       "      <td>InStock</td>\n",
       "      <td>1.99</td>\n",
       "    </tr>\n",
       "    <tr>\n",
       "      <th>26127</th>\n",
       "      <td>8018080190896</td>\n",
       "      <td>1211256</td>\n",
       "      <td>Telefonía</td>\n",
       "      <td>Accesorios para móviles</td>\n",
       "      <td>Cables y adaptadores</td>\n",
       "      <td>NaN</td>\n",
       "      <td>CELLULAR LINE</td>\n",
       "      <td>Cable de datos - Cellular Line, de USB a Micro...</td>\n",
       "      <td>9.99</td>\n",
       "      <td>NaN</td>\n",
       "      <td>2019-04-10</td>\n",
       "      <td>21.0</td>\n",
       "      <td>InStock</td>\n",
       "      <td>1.99</td>\n",
       "    </tr>\n",
       "    <tr>\n",
       "      <th>26128</th>\n",
       "      <td>4047443366719</td>\n",
       "      <td>1435841</td>\n",
       "      <td>Telefonía</td>\n",
       "      <td>Accesorios para móviles</td>\n",
       "      <td>Cables y adaptadores</td>\n",
       "      <td>Cables de datos</td>\n",
       "      <td>HAMA</td>\n",
       "      <td>Cable Para Tablet - Hama Tablet Cable Sync Lig...</td>\n",
       "      <td>15.99</td>\n",
       "      <td>NaN</td>\n",
       "      <td>2019-04-10</td>\n",
       "      <td>21.0</td>\n",
       "      <td>InStock</td>\n",
       "      <td>1.99</td>\n",
       "    </tr>\n",
       "    <tr>\n",
       "      <th>26129</th>\n",
       "      <td>0745883732173</td>\n",
       "      <td>1352496</td>\n",
       "      <td>Telefonía</td>\n",
       "      <td>Accesorios para móviles</td>\n",
       "      <td>Cables y adaptadores</td>\n",
       "      <td>NaN</td>\n",
       "      <td>BELKIN</td>\n",
       "      <td>Belkin 1.2m, Lightning/USB 1.2m USB A Lightnin...</td>\n",
       "      <td>24.99</td>\n",
       "      <td>NaN</td>\n",
       "      <td>2019-04-10</td>\n",
       "      <td>21.0</td>\n",
       "      <td>InStock</td>\n",
       "      <td>1.99</td>\n",
       "    </tr>\n",
       "    <tr>\n",
       "      <th>26130</th>\n",
       "      <td>5573063264313</td>\n",
       "      <td>1402293</td>\n",
       "      <td>Telefonía</td>\n",
       "      <td>Accesorios para móviles</td>\n",
       "      <td>Cables y adaptadores</td>\n",
       "      <td>NaN</td>\n",
       "      <td>BOOMPODS</td>\n",
       "      <td>Cable Lightning a USB - Boompods, flatline, 1m...</td>\n",
       "      <td>14.99</td>\n",
       "      <td>NaN</td>\n",
       "      <td>2019-04-10</td>\n",
       "      <td>21.0</td>\n",
       "      <td>InStock</td>\n",
       "      <td>1.99</td>\n",
       "    </tr>\n",
       "    <tr>\n",
       "      <th>26131</th>\n",
       "      <td>8018080190919</td>\n",
       "      <td>1211251</td>\n",
       "      <td>Telefonía</td>\n",
       "      <td>Accesorios para móviles</td>\n",
       "      <td>Cables y adaptadores</td>\n",
       "      <td>NaN</td>\n",
       "      <td>CELLULAR LINE</td>\n",
       "      <td>Cable de datos - Cellular Line, de USB a Micro...</td>\n",
       "      <td>7.99</td>\n",
       "      <td>NaN</td>\n",
       "      <td>2019-04-10</td>\n",
       "      <td>21.0</td>\n",
       "      <td>InStock</td>\n",
       "      <td>1.99</td>\n",
       "    </tr>\n",
       "    <tr>\n",
       "      <th>26132</th>\n",
       "      <td>4897032086098</td>\n",
       "      <td>1437880</td>\n",
       "      <td>Telefonía</td>\n",
       "      <td>Accesorios para móviles</td>\n",
       "      <td>Cables y adaptadores</td>\n",
       "      <td>NaN</td>\n",
       "      <td>XOOPAR</td>\n",
       "      <td>Cable De Carga - Xoopar Adapt/USB/Multiconecto...</td>\n",
       "      <td>11.99</td>\n",
       "      <td>NaN</td>\n",
       "      <td>2019-04-10</td>\n",
       "      <td>21.0</td>\n",
       "      <td>InStock</td>\n",
       "      <td>1.99</td>\n",
       "    </tr>\n",
       "    <tr>\n",
       "      <th>26133</th>\n",
       "      <td>4897032086111</td>\n",
       "      <td>1437881</td>\n",
       "      <td>Telefonía</td>\n",
       "      <td>Accesorios para móviles</td>\n",
       "      <td>Cables y adaptadores</td>\n",
       "      <td>NaN</td>\n",
       "      <td>XOOPAR</td>\n",
       "      <td>Cable De Carga - Xoopar Adapt/USB/Multiconecto...</td>\n",
       "      <td>11.99</td>\n",
       "      <td>NaN</td>\n",
       "      <td>2019-04-10</td>\n",
       "      <td>21.0</td>\n",
       "      <td>InStock</td>\n",
       "      <td>1.99</td>\n",
       "    </tr>\n",
       "    <tr>\n",
       "      <th>26134</th>\n",
       "      <td>4897032083714</td>\n",
       "      <td>1437882</td>\n",
       "      <td>Telefonía</td>\n",
       "      <td>Accesorios para móviles</td>\n",
       "      <td>Cables y adaptadores</td>\n",
       "      <td>NaN</td>\n",
       "      <td>XOOPAR</td>\n",
       "      <td>Cable De Carga - Xoopar Adapt/USB/Multiconecto...</td>\n",
       "      <td>11.99</td>\n",
       "      <td>NaN</td>\n",
       "      <td>2019-04-10</td>\n",
       "      <td>21.0</td>\n",
       "      <td>InStock</td>\n",
       "      <td>1.99</td>\n",
       "    </tr>\n",
       "    <tr>\n",
       "      <th>26135</th>\n",
       "      <td>4897032086081</td>\n",
       "      <td>1437883</td>\n",
       "      <td>Telefonía</td>\n",
       "      <td>Accesorios para móviles</td>\n",
       "      <td>Cables y adaptadores</td>\n",
       "      <td>NaN</td>\n",
       "      <td>XOOPAR</td>\n",
       "      <td>Cable De Carga - Xoopar Adapt/USB/Multiconecto...</td>\n",
       "      <td>11.99</td>\n",
       "      <td>NaN</td>\n",
       "      <td>2019-04-10</td>\n",
       "      <td>21.0</td>\n",
       "      <td>InStock</td>\n",
       "      <td>1.99</td>\n",
       "    </tr>\n",
       "    <tr>\n",
       "      <th>26136</th>\n",
       "      <td>4897032083769</td>\n",
       "      <td>1437879</td>\n",
       "      <td>Telefonía</td>\n",
       "      <td>Accesorios para móviles</td>\n",
       "      <td>Cables y adaptadores</td>\n",
       "      <td>NaN</td>\n",
       "      <td>XOOPAR</td>\n",
       "      <td>Cable De Carga - Xoopar Adapt/USB/Multiconecto...</td>\n",
       "      <td>11.99</td>\n",
       "      <td>NaN</td>\n",
       "      <td>2019-04-10</td>\n",
       "      <td>21.0</td>\n",
       "      <td>InStock</td>\n",
       "      <td>1.99</td>\n",
       "    </tr>\n",
       "    <tr>\n",
       "      <th>26137</th>\n",
       "      <td>4897032086104</td>\n",
       "      <td>1437884</td>\n",
       "      <td>Telefonía</td>\n",
       "      <td>Accesorios para móviles</td>\n",
       "      <td>Cables y adaptadores</td>\n",
       "      <td>NaN</td>\n",
       "      <td>XOOPAR</td>\n",
       "      <td>Cable De Carga - Xoopar Adapt/USB/Multiconecto...</td>\n",
       "      <td>11.99</td>\n",
       "      <td>NaN</td>\n",
       "      <td>2019-04-10</td>\n",
       "      <td>21.0</td>\n",
       "      <td>InStock</td>\n",
       "      <td>1.99</td>\n",
       "    </tr>\n",
       "    <tr>\n",
       "      <th>26138</th>\n",
       "      <td>8018080197826</td>\n",
       "      <td>1221004</td>\n",
       "      <td>Telefonía</td>\n",
       "      <td>Accesorios para móviles</td>\n",
       "      <td>Cables y adaptadores</td>\n",
       "      <td>NaN</td>\n",
       "      <td>CELLULAR LINE</td>\n",
       "      <td>Cable adaptador micro USB a USB - Cellular Lin...</td>\n",
       "      <td>9.99</td>\n",
       "      <td>NaN</td>\n",
       "      <td>2019-04-10</td>\n",
       "      <td>21.0</td>\n",
       "      <td>OutOfStock</td>\n",
       "      <td>1.99</td>\n",
       "    </tr>\n",
       "    <tr>\n",
       "      <th>26139</th>\n",
       "      <td>8427542079233</td>\n",
       "      <td>1357930</td>\n",
       "      <td>Telefonía</td>\n",
       "      <td>Accesorios para móviles</td>\n",
       "      <td>Cables y adaptadores</td>\n",
       "      <td>NaN</td>\n",
       "      <td>KSIX</td>\n",
       "      <td>Cable USB - Ksix Flexteel Sync &amp; Charge, USB a...</td>\n",
       "      <td>12.90</td>\n",
       "      <td>NaN</td>\n",
       "      <td>2019-04-10</td>\n",
       "      <td>21.0</td>\n",
       "      <td>InStock</td>\n",
       "      <td>1.99</td>\n",
       "    </tr>\n",
       "  </tbody>\n",
       "</table>\n",
       "<p>26140 rows × 14 columns</p>\n",
       "</div>"
      ],
      "text/plain": [
       "                 ean       id         category              subcategory  \\\n",
       "0      8710103738350  1293941  Belleza y salud    Afeitado y depilación   \n",
       "1      8710103764588  1317305  Belleza y salud    Afeitado y depilación   \n",
       "2      8710103819219  1360370  Belleza y salud    Afeitado y depilación   \n",
       "3      8710103764489  1317303  Belleza y salud    Afeitado y depilación   \n",
       "4      4210201147022  1294131  Belleza y salud    Afeitado y depilación   \n",
       "5      8710103738121  1293945  Belleza y salud    Afeitado y depilación   \n",
       "6      8710103686934  1252110  Belleza y salud    Afeitado y depilación   \n",
       "7      8710103609803  1187436  Belleza y salud    Afeitado y depilación   \n",
       "8      8710103800958  1385320  Belleza y salud    Afeitado y depilación   \n",
       "9      8710103764458  1317304  Belleza y salud    Afeitado y depilación   \n",
       "10     5025232782642  1264634  Belleza y salud    Afeitado y depilación   \n",
       "11     4210201132370  1310896  Belleza y salud    Afeitado y depilación   \n",
       "12     8710103736745  1367692  Belleza y salud    Afeitado y depilación   \n",
       "13     4210201649793  1104022  Belleza y salud    Afeitado y depilación   \n",
       "14     4210201183617  1373774  Belleza y salud    Afeitado y depilación   \n",
       "15     4210201186595  1382003  Belleza y salud    Afeitado y depilación   \n",
       "16     4210201163367  1353373  Belleza y salud    Afeitado y depilación   \n",
       "17     4210201112129  1310842  Belleza y salud    Afeitado y depilación   \n",
       "18     4210201151562  1353375  Belleza y salud    Afeitado y depilación   \n",
       "19     4049011147454  1423577  Belleza y salud    Afeitado y depilación   \n",
       "20     8710103819349  1360380  Belleza y salud    Afeitado y depilación   \n",
       "21     5025232846184  1418920  Belleza y salud    Afeitado y depilación   \n",
       "22     8420738411848  1376067  Belleza y salud    Afeitado y depilación   \n",
       "23     3121040059272  1311358  Belleza y salud    Afeitado y depilación   \n",
       "24     8051772711948  1331134  Belleza y salud    Afeitado y depilación   \n",
       "25     4210201165804  1342438  Belleza y salud    Afeitado y depilación   \n",
       "26     4210201188827  1382002  Belleza y salud    Afeitado y depilación   \n",
       "27     4210201166825  1342625  Belleza y salud    Afeitado y depilación   \n",
       "28     0043917006888  1418557  Belleza y salud    Afeitado y depilación   \n",
       "29     4210201124481  1310843  Belleza y salud    Afeitado y depilación   \n",
       "...              ...      ...              ...                      ...   \n",
       "26110  8426801138391  1338174        Telefonía  Accesorios para móviles   \n",
       "26111  5081304356036  1402306        Telefonía  Accesorios para móviles   \n",
       "26112  8018080268854  1332408        Telefonía  Accesorios para móviles   \n",
       "26113  5081304280614  1402298        Telefonía  Accesorios para móviles   \n",
       "26114  5573063264146  1402307        Telefonía  Accesorios para móviles   \n",
       "26115  5573063264306  1402292        Telefonía  Accesorios para móviles   \n",
       "26116  8018080189357  1214288        Telefonía  Accesorios para móviles   \n",
       "26117  5081304356050  1402289        Telefonía  Accesorios para móviles   \n",
       "26118  4049011116085  1260687        Telefonía  Accesorios para móviles   \n",
       "26119  8018080333446  1435167        Telefonía  Accesorios para móviles   \n",
       "26120  4049011126268  1317985        Telefonía  Accesorios para móviles   \n",
       "26121  5573063264382  1402297        Telefonía  Accesorios para móviles   \n",
       "26122  8018080268830  1332406        Telefonía  Accesorios para móviles   \n",
       "26123  8427542082431  1364743        Telefonía  Accesorios para móviles   \n",
       "26124  0745883732197  1352495        Telefonía  Accesorios para móviles   \n",
       "26125  5573063264375  1402296        Telefonía  Accesorios para móviles   \n",
       "26126  8427542082424  1364741        Telefonía  Accesorios para móviles   \n",
       "26127  8018080190896  1211256        Telefonía  Accesorios para móviles   \n",
       "26128  4047443366719  1435841        Telefonía  Accesorios para móviles   \n",
       "26129  0745883732173  1352496        Telefonía  Accesorios para móviles   \n",
       "26130  5573063264313  1402293        Telefonía  Accesorios para móviles   \n",
       "26131  8018080190919  1211251        Telefonía  Accesorios para móviles   \n",
       "26132  4897032086098  1437880        Telefonía  Accesorios para móviles   \n",
       "26133  4897032086111  1437881        Telefonía  Accesorios para móviles   \n",
       "26134  4897032083714  1437882        Telefonía  Accesorios para móviles   \n",
       "26135  4897032086081  1437883        Telefonía  Accesorios para móviles   \n",
       "26136  4897032083769  1437879        Telefonía  Accesorios para móviles   \n",
       "26137  4897032086104  1437884        Telefonía  Accesorios para móviles   \n",
       "26138  8018080197826  1221004        Telefonía  Accesorios para móviles   \n",
       "26139  8427542079233  1357930        Telefonía  Accesorios para móviles   \n",
       "\n",
       "                   producto       subproducto          brand  \\\n",
       "0      Afeitadoras faciales               NaN        PHILIPS   \n",
       "1      Afeitadoras faciales               NaN        PHILIPS   \n",
       "2      Afeitadoras faciales               NaN        PHILIPS   \n",
       "3      Afeitadoras faciales               NaN        PHILIPS   \n",
       "4      Afeitadoras faciales               NaN          BRAUN   \n",
       "5      Afeitadoras faciales               NaN        PHILIPS   \n",
       "6      Afeitadoras faciales               NaN        PHILIPS   \n",
       "7      Afeitadoras faciales               NaN        PHILIPS   \n",
       "8      Afeitadoras faciales               NaN        PHILIPS   \n",
       "9      Afeitadoras faciales               NaN        PHILIPS   \n",
       "10     Afeitadoras faciales               NaN      PANASONIC   \n",
       "11     Afeitadoras faciales               NaN          BRAUN   \n",
       "12     Afeitadoras faciales               NaN        PHILIPS   \n",
       "13     Afeitadoras faciales               NaN          BRAUN   \n",
       "14     Afeitadoras faciales               NaN          BRAUN   \n",
       "15     Afeitadoras faciales               NaN          BRAUN   \n",
       "16     Afeitadoras faciales               NaN          BRAUN   \n",
       "17     Afeitadoras faciales               NaN          BRAUN   \n",
       "18     Afeitadoras faciales               NaN          BRAUN   \n",
       "19     Afeitadoras faciales               NaN             OK   \n",
       "20     Afeitadoras faciales               NaN        PHILIPS   \n",
       "21     Afeitadoras faciales               NaN      PANASONIC   \n",
       "22     Afeitadoras faciales               NaN      REMINGTON   \n",
       "23     Afeitadoras faciales               NaN        ROWENTA   \n",
       "24     Afeitadoras faciales               NaN          BEPER   \n",
       "25     Afeitadoras faciales               NaN          BRAUN   \n",
       "26     Afeitadoras faciales               NaN          BRAUN   \n",
       "27     Afeitadoras faciales               NaN          BRAUN   \n",
       "28     Afeitadoras faciales               NaN          RIVER   \n",
       "29     Afeitadoras faciales               NaN          BRAUN   \n",
       "...                     ...               ...            ...   \n",
       "26110  Cables y adaptadores               NaN          MUVIT   \n",
       "26111  Cables y adaptadores               NaN       BOOMPODS   \n",
       "26112  Cables y adaptadores               NaN  CELLULAR LINE   \n",
       "26113  Cables y adaptadores               NaN       BOOMPODS   \n",
       "26114  Cables y adaptadores               NaN       BOOMPODS   \n",
       "26115  Cables y adaptadores               NaN       BOOMPODS   \n",
       "26116  Cables y adaptadores               NaN  CELLULAR LINE   \n",
       "26117  Cables y adaptadores               NaN       BOOMPODS   \n",
       "26118  Cables y adaptadores               NaN            ISY   \n",
       "26119  Cables y adaptadores               NaN  CELLULAR LINE   \n",
       "26120  Cables y adaptadores               NaN            ISY   \n",
       "26121  Cables y adaptadores               NaN       BOOMPODS   \n",
       "26122  Cables y adaptadores               NaN  CELLULAR LINE   \n",
       "26123  Cables y adaptadores               NaN           KSIX   \n",
       "26124  Cables y adaptadores               NaN         BELKIN   \n",
       "26125  Cables y adaptadores               NaN       BOOMPODS   \n",
       "26126  Cables y adaptadores               NaN           KSIX   \n",
       "26127  Cables y adaptadores               NaN  CELLULAR LINE   \n",
       "26128  Cables y adaptadores  Cables de datos            HAMA   \n",
       "26129  Cables y adaptadores               NaN         BELKIN   \n",
       "26130  Cables y adaptadores               NaN       BOOMPODS   \n",
       "26131  Cables y adaptadores               NaN  CELLULAR LINE   \n",
       "26132  Cables y adaptadores               NaN         XOOPAR   \n",
       "26133  Cables y adaptadores               NaN         XOOPAR   \n",
       "26134  Cables y adaptadores               NaN         XOOPAR   \n",
       "26135  Cables y adaptadores               NaN         XOOPAR   \n",
       "26136  Cables y adaptadores               NaN         XOOPAR   \n",
       "26137  Cables y adaptadores               NaN         XOOPAR   \n",
       "26138  Cables y adaptadores               NaN  CELLULAR LINE   \n",
       "26139  Cables y adaptadores               NaN           KSIX   \n",
       "\n",
       "                                                    name   price  quantity  \\\n",
       "0      Afeitadora - Philips S 5110/06 Cabezales Flex,...   57.99       NaN   \n",
       "1      Afeitadora - Philips Shaver S1510/04, Recargab...   41.99       NaN   \n",
       "2      Afeitadora - Philips S5550/06, Cuchillas Multi...   89.90       NaN   \n",
       "3      Afeitadora - Philips S3510/06, sistema Comfort...   58.99       NaN   \n",
       "4      Afeitadora - Braun 5030s Series 5 + EN10, Reco...   87.99       NaN   \n",
       "5      Afeitadora - Philips S 5420/06 Sistema de cuch...   76.99       NaN   \n",
       "6      Afeitadora - Philips S9031/12 V-Track, Autonom...  165.00       NaN   \n",
       "7      Afeitadora - Philips AT750/26, Recargable, Cab...   55.99       NaN   \n",
       "8      Afeitadora - Philips S7522/50, Anillos SkinGli...  149.00       NaN   \n",
       "9      Afeitadora - Philips S3110/06, sistema Comfort...   49.99       NaN   \n",
       "10     Afeitadora - Panasonic ES RT 67 S503 Recargabl...   66.99       NaN   \n",
       "11     Recortador facial - Braun PT5010, perfilador d...   14.99       NaN   \n",
       "12     Afeitadora - Philips S7310/12, Especial para p...  123.00       NaN   \n",
       "13     Afeitadora - Braun MobileShave M60b Funcionami...   17.99       NaN   \n",
       "14     Afeitadora - Braun WF2s Serie 5 WaterFlex, Wet...  114.00       NaN   \n",
       "15     Afeitadora - Braun Serie3 3000 Tecnología Micr...   60.99       NaN   \n",
       "16     Afeitadora - Braun SERIE 3 310 Wet & Dry, Resi...   54.99       NaN   \n",
       "17     Afeitadora - Braun 3010 Serie 3, Recargable, C...   61.99       NaN   \n",
       "18     Afeitadora - Braun BT3010 Serie 3, Recargable,...   84.99       NaN   \n",
       "19     Afeitadora - OK OSH 3310 ES 3-IN-1, Men Shaver...   19.99       NaN   \n",
       "20     Afeitadora - Philips S5650/41, Accesorio barbe...  119.90       NaN   \n",
       "21     Afeitadora - Panasonic ES-ST 3 N, 3 cuchillas,...   87.99       NaN   \n",
       "22     Afeitadora - Remington PR1340GP, Cabezal comfo...   51.99       NaN   \n",
       "23     Recortador de pelo - Rowenta TN3620F0, Lavable...   18.99       NaN   \n",
       "24     Afeitadora - Beper iCut 40.993, Barba, Recargable   13.99       NaN   \n",
       "25     Afeitadora - Braun Series 9 9295cc, Uso en sec...  337.00       NaN   \n",
       "26     Afeitadora - Braun Series 3 310s, Recargable, ...   60.99       NaN   \n",
       "27     Afeitadora - Braun Series 7 7880cc Wet&Dry + E...  290.00       NaN   \n",
       "28     Afeitadora - River 03615-1016 Travel Shave, Re...   19.99       NaN   \n",
       "29     Afeitadora - Braun Serie 3 - 3000 Edición espe...   60.99       NaN   \n",
       "...                                                  ...     ...       ...   \n",
       "26110          MUVIT CABL/USB/W/LIGHT/MFI/2,4A/2M/MUUSC0   20.99       NaN   \n",
       "26111  Cable Lightning a USB - Boompods, retrocable, ...   17.99       NaN   \n",
       "26112  Cellularline 37713 0.6m USB A Micro-USB B Mach...    8.99       NaN   \n",
       "26113  Duocable Lighning / Micro USB a USB - Boompods...   19.99       NaN   \n",
       "26114  Cable Micro USB a USB - Boompods, retrocable, ...   12.99       NaN   \n",
       "26115  Cable Lightning a USB - Boompods, flatline, 1m...   14.99       NaN   \n",
       "26116  Cable USB - Cellular Line OTGUSBADAPTERSMPH, A...    9.99       NaN   \n",
       "26117  Cable Lightning a USB - Boompods, retrocable, ...   17.99       NaN   \n",
       "26118  Cable - Isy IWC 1000, Universal, Micro USB a U...    7.99       NaN   \n",
       "26119  Cable De Carga - Cellular Line Cbl/Typoc/Enrro...   16.99       NaN   \n",
       "26120  Cable - ISY IUC-1002, MicroUSB a USB, 15 cm, U...    4.99       NaN   \n",
       "26121  Duocable Lighning / Micro USB a USB - Boompods...   19.99       NaN   \n",
       "26122  Cellularline 37714 0.6m USB A Lightning Blanco...   17.99       NaN   \n",
       "26123  Ksix B0914CUTV 1m USB A Lightning Verde cable ...   14.99       NaN   \n",
       "26124  Belkin 1.2m, Lightning/USB 1.2m USB A Lightnin...   24.99       NaN   \n",
       "26125  Duocable Lighning / Micro USB a USB - Boompods...   19.99       NaN   \n",
       "26126  Ksix B0914CUTNJ 1m USB A Lightning Naranja cab...   14.99       NaN   \n",
       "26127  Cable de datos - Cellular Line, de USB a Micro...    9.99       NaN   \n",
       "26128  Cable Para Tablet - Hama Tablet Cable Sync Lig...   15.99       NaN   \n",
       "26129  Belkin 1.2m, Lightning/USB 1.2m USB A Lightnin...   24.99       NaN   \n",
       "26130  Cable Lightning a USB - Boompods, flatline, 1m...   14.99       NaN   \n",
       "26131  Cable de datos - Cellular Line, de USB a Micro...    7.99       NaN   \n",
       "26132  Cable De Carga - Xoopar Adapt/USB/Multiconecto...   11.99       NaN   \n",
       "26133  Cable De Carga - Xoopar Adapt/USB/Multiconecto...   11.99       NaN   \n",
       "26134  Cable De Carga - Xoopar Adapt/USB/Multiconecto...   11.99       NaN   \n",
       "26135  Cable De Carga - Xoopar Adapt/USB/Multiconecto...   11.99       NaN   \n",
       "26136  Cable De Carga - Xoopar Adapt/USB/Multiconecto...   11.99       NaN   \n",
       "26137  Cable De Carga - Xoopar Adapt/USB/Multiconecto...   11.99       NaN   \n",
       "26138  Cable adaptador micro USB a USB - Cellular Lin...    9.99       NaN   \n",
       "26139  Cable USB - Ksix Flexteel Sync & Charge, USB a...   12.90       NaN   \n",
       "\n",
       "             date  iva_aplicado stock_status  coste_envio  \n",
       "0      2019-04-10          21.0   OutOfStock         1.99  \n",
       "1      2019-04-10          21.0      InStock         1.99  \n",
       "2      2019-04-10          21.0   OutOfStock         1.99  \n",
       "3      2019-04-10          21.0      InStock         1.99  \n",
       "4      2019-04-10          21.0      InStock         1.99  \n",
       "5      2019-04-10          21.0      InStock         1.99  \n",
       "6      2019-04-10          21.0      InStock         1.99  \n",
       "7      2019-04-10          21.0      InStock         1.99  \n",
       "8      2019-04-10          21.0      InStock         1.99  \n",
       "9      2019-04-10          21.0      InStock         1.99  \n",
       "10     2019-04-10          21.0      InStock         1.99  \n",
       "11     2019-04-10          21.0      InStock         1.99  \n",
       "12     2019-04-10          21.0      InStock         1.99  \n",
       "13     2019-04-10          21.0      InStock         1.99  \n",
       "14     2019-04-10          21.0      InStock         1.99  \n",
       "15     2019-04-10          21.0      InStock         1.99  \n",
       "16     2019-04-10          21.0      InStock         1.99  \n",
       "17     2019-04-10          21.0      InStock         1.99  \n",
       "18     2019-04-10          21.0      InStock         1.99  \n",
       "19     2019-04-10          21.0      InStock         1.99  \n",
       "20     2019-04-10          21.0      InStock         1.99  \n",
       "21     2019-04-10          21.0      InStock         1.99  \n",
       "22     2019-04-10          21.0      InStock         1.99  \n",
       "23     2019-04-10          21.0      InStock         1.99  \n",
       "24     2019-04-10          21.0      InStock         1.99  \n",
       "25     2019-04-10          21.0      InStock         1.99  \n",
       "26     2019-04-10          21.0      InStock         1.99  \n",
       "27     2019-04-10          21.0      InStock         1.99  \n",
       "28     2019-04-10          21.0      InStock         1.99  \n",
       "29     2019-04-10          21.0      InStock         1.99  \n",
       "...           ...           ...          ...          ...  \n",
       "26110  2019-04-10          21.0      InStock         1.99  \n",
       "26111  2019-04-10          21.0      InStock         1.99  \n",
       "26112  2019-04-10          21.0      InStock         1.99  \n",
       "26113  2019-04-10          21.0      InStock         1.99  \n",
       "26114  2019-04-10          21.0      InStock         1.99  \n",
       "26115  2019-04-10          21.0      InStock         1.99  \n",
       "26116  2019-04-10          21.0      InStock         1.99  \n",
       "26117  2019-04-10          21.0      InStock         1.99  \n",
       "26118  2019-04-10          21.0   OutOfStock         1.99  \n",
       "26119  2019-04-10          21.0      InStock         1.99  \n",
       "26120  2019-04-10          21.0   OutOfStock         1.99  \n",
       "26121  2019-04-10          21.0      InStock         1.99  \n",
       "26122  2019-04-10          21.0      InStock         1.99  \n",
       "26123  2019-04-10          21.0      InStock         1.99  \n",
       "26124  2019-04-10          21.0      InStock         1.99  \n",
       "26125  2019-04-10          21.0      InStock         1.99  \n",
       "26126  2019-04-10          21.0      InStock         1.99  \n",
       "26127  2019-04-10          21.0      InStock         1.99  \n",
       "26128  2019-04-10          21.0      InStock         1.99  \n",
       "26129  2019-04-10          21.0      InStock         1.99  \n",
       "26130  2019-04-10          21.0      InStock         1.99  \n",
       "26131  2019-04-10          21.0      InStock         1.99  \n",
       "26132  2019-04-10          21.0      InStock         1.99  \n",
       "26133  2019-04-10          21.0      InStock         1.99  \n",
       "26134  2019-04-10          21.0      InStock         1.99  \n",
       "26135  2019-04-10          21.0      InStock         1.99  \n",
       "26136  2019-04-10          21.0      InStock         1.99  \n",
       "26137  2019-04-10          21.0      InStock         1.99  \n",
       "26138  2019-04-10          21.0   OutOfStock         1.99  \n",
       "26139  2019-04-10          21.0      InStock         1.99  \n",
       "\n",
       "[26140 rows x 14 columns]"
      ]
     },
     "execution_count": 19,
     "metadata": {},
     "output_type": "execute_result"
    }
   ],
   "source": [
    "catalogue"
   ]
  }
 ],
 "metadata": {
  "kernelspec": {
   "display_name": "Python 3",
   "language": "python",
   "name": "python3"
  },
  "language_info": {
   "codemirror_mode": {
    "name": "ipython",
    "version": 3
   },
   "file_extension": ".py",
   "mimetype": "text/x-python",
   "name": "python",
   "nbconvert_exporter": "python",
   "pygments_lexer": "ipython3",
   "version": "3.7.1"
  }
 },
 "nbformat": 4,
 "nbformat_minor": 2
}
