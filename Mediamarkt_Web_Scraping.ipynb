{
 "cells": [
  {
   "cell_type": "code",
   "execution_count": 85,
   "metadata": {},
   "outputs": [],
   "source": [
    "\"\"\"\n",
    "Web scraping price information from www.mediamarkt.es\n",
    "Based on:\n",
    "https://github.com/Brinkhuis/Mediamarkt/blob/master/code/mediamarkt.py\n",
    "\"\"\"\n",
    "\n",
    "import ast\n",
    "import requests\n",
    "import urllib\n",
    "\n",
    "import pandas as pd\n",
    "import numpy as np\n",
    "import seaborn as sns\n",
    "import matplotlib.pyplot as plt\n",
    "\n",
    "import time\n",
    "import datetime\n",
    "\n",
    "from bs4 import BeautifulSoup\n",
    "from tqdm import tqdm\n",
    "\n",
    "%matplotlib inline"
   ]
  },
  {
   "cell_type": "code",
   "execution_count": 2,
   "metadata": {},
   "outputs": [],
   "source": [
    "# URL dónde está la lista de productos\n",
    "URL = \"https://www.mediamarkt.es/sitemap/sitemap-productlist.xml\""
   ]
  },
  {
   "cell_type": "code",
   "execution_count": 3,
   "metadata": {},
   "outputs": [],
   "source": [
    "# Definimoos la función para leer el xml y extraer los links que pasaremos\n",
    "# Referencia:\n",
    "# https://stackoverflow.com/questions/18966368/python-beautifulsoup-scrape-tables\n",
    "# Le paso la URL como parámetro, así podrá valer para los diferentes sitios.\n",
    "def get_products (URL):\n",
    "    soup = BeautifulSoup(requests.get(URL).text, 'lxml')\n",
    "    #links = soup.find_all('loc')\n",
    "    links = []\n",
    "    #links = soup.find_all(\"loc\")\n",
    "    for link in soup.find_all(\"loc\"):\n",
    "        links.append(str(link).replace(\"<loc>\",\"\").replace(\"</loc>\",\"\"))\n",
    "    return links"
   ]
  },
  {
   "cell_type": "code",
   "execution_count": 4,
   "metadata": {},
   "outputs": [],
   "source": [
    "# Cargamos los links a partir del sitemap\n",
    "pagelinks = get_products(URL)"
   ]
  },
  {
   "cell_type": "code",
   "execution_count": 5,
   "metadata": {
    "scrolled": false
   },
   "outputs": [
    {
     "data": {
      "text/plain": [
       "['https://www.mediamarkt.es/es/category/_afeitado-y-depilaci%C3%B3n-701138.html',\n",
       " 'https://www.mediamarkt.es/es/category/_afeitadoras-faciales-701281.html',\n",
       " 'https://www.mediamarkt.es/es/category/_afeitadoras-corporales-701282.html',\n",
       " 'https://www.mediamarkt.es/es/category/_afeitadoras-multifunci%C3%B3n-701283.html',\n",
       " 'https://www.mediamarkt.es/es/category/_cortapelos-701284.html',\n",
       " 'https://www.mediamarkt.es/es/category/_barberos-701285.html',\n",
       " 'https://www.mediamarkt.es/es/category/_depiladoras-ipl-701286.html',\n",
       " 'https://www.mediamarkt.es/es/category/_rasuradoras-701287.html',\n",
       " 'https://www.mediamarkt.es/es/category/_depiladoras-de-arranque-701288.html']"
      ]
     },
     "execution_count": 5,
     "metadata": {},
     "output_type": "execute_result"
    }
   ],
   "source": [
    "# Mostramos los primeros 10\n",
    "pagelinks[1:10]"
   ]
  },
  {
   "cell_type": "code",
   "execution_count": 6,
   "metadata": {},
   "outputs": [
    {
     "data": {
      "text/plain": [
       "1012"
      ]
     },
     "execution_count": 6,
     "metadata": {},
     "output_type": "execute_result"
    }
   ],
   "source": [
    "#Compruebo los pagelinks\n",
    "len(pagelinks)"
   ]
  },
  {
   "cell_type": "code",
   "execution_count": 66,
   "metadata": {},
   "outputs": [],
   "source": [
    "# Referencia del código:\n",
    "# https://github.com/Brinkhuis/Mediamarkt/blob/master/code/mediamarkt.py\n",
    "def npages(mysoup):\n",
    "    pagination = list()\n",
    "    npages = 0\n",
    "    for page_number in mysoup.find_all('div', {'class': 'pagination-wrapper cf'}):\n",
    "        pagination.append(page_number.find_all('a'))\n",
    "        npages = int(str(pagination[0]).split(', ')[-2].strip('</a>').split('>')[-1])\n",
    "        # Para debug, se imprime el número de páginas.\n",
    "        print (\"Número de páginas: %d\" % npages)\n",
    "    return npages        \n",
    "\n",
    "\n",
    "def get_data(URL, output_file = None):\n",
    "    # Para debug, se imprime la URL que se está escaneando\n",
    "    print(\"Scraping: %s\" % URL)\n",
    "    item_list = list()    \n",
    "    for page in tqdm(range(1, npages(BeautifulSoup(requests.get(URL).text, 'html.parser')) + 1)):\n",
    "        soup = BeautifulSoup(requests.get(URL + '?page=' + str(page)).text, 'html.parser')\n",
    "        all_scripts = soup.find_all('script')\n",
    "        for script in all_scripts:\n",
    "            if script.text.startswith('var product'):\n",
    "                item_list.append(ast.literal_eval(script.text.split(' = ')[1].strip(';')))\n",
    "    \n",
    "    productinfo = pd.DataFrame() \n",
    "    if (len(item_list)>0):\n",
    "        productinfo = pd.DataFrame(item_list)\n",
    "        productinfo['price'] = pd.to_numeric(productinfo['price'], errors='coerce')\n",
    "        \n",
    "  \n",
    "    #productinfo.to_csv(output_file, index=False)    \n",
    "    #print(f'{productinfo.shape[0]} records saved to {output_file}')\n",
    "    \n",
    "    return productinfo"
   ]
  },
  {
   "cell_type": "code",
   "execution_count": 130,
   "metadata": {},
   "outputs": [],
   "source": [
    "def viz_data(input_file, output_file, query = ':', x_px = 1500, y_px = 1000, d_pi = 150):\n",
    "    productinfo = pd.read_csv(input_file)\n",
    "    \n",
    "    productinfo = productinfo[query]\n",
    "\n",
    "    #x_pixels, y_pixels, dpi = 1500, 1000, 150\n",
    "    x_pixels, y_pixels, dpi = x_px, y_px, d_pi\n",
    "    x_inch, y_inch = x_pixels / dpi, y_pixels / dpi\n",
    "\n",
    "    plt.figure(figsize=(x_inch, y_inch), dpi=dpi)\n",
    "    sns.boxplot(x='price',\n",
    "                y='brand',\n",
    "                data=productinfo.groupby('brand').filter(lambda x: len(x) > 3),\n",
    "                order=list(productinfo.groupby('brand').filter(lambda x: len(x) > 3)\n",
    "                           .groupby('brand').price.median().sort_values(ascending=False).index),\n",
    "                palette='PRGn',\n",
    "                width=0.75).set_title('Price Distribution per Brand')\n",
    "    sns.despine(offset=10, trim=True)\n",
    "    plt.savefig(output_file)\n",
    "    plt.show()\n",
    "    plt.close()\n",
    "    \n",
    "    print(f'Visualization saved to {output_file}')\n"
   ]
  },
  {
   "cell_type": "code",
   "execution_count": 67,
   "metadata": {
    "scrolled": true
   },
   "outputs": [
    {
     "name": "stdout",
     "output_type": "stream",
     "text": [
      "Escaneando pagina 1 de 1012\n",
      "Scraping: https://www.mediamarkt.es/es/category/_belleza-y-salud-701113.html\n"
     ]
    },
    {
     "name": "stderr",
     "output_type": "stream",
     "text": [
      "0it [00:00, ?it/s]\n"
     ]
    },
    {
     "name": "stdout",
     "output_type": "stream",
     "text": [
      "Escaneando pagina 2 de 1012\n",
      "Scraping: https://www.mediamarkt.es/es/category/_afeitado-y-depilaci%C3%B3n-701138.html\n"
     ]
    },
    {
     "name": "stderr",
     "output_type": "stream",
     "text": [
      "0it [00:00, ?it/s]\n"
     ]
    },
    {
     "name": "stdout",
     "output_type": "stream",
     "text": [
      "Escaneando pagina 3 de 1012\n",
      "Scraping: https://www.mediamarkt.es/es/category/_afeitadoras-faciales-701281.html\n",
      "Número de páginas: 3\n"
     ]
    },
    {
     "name": "stderr",
     "output_type": "stream",
     "text": [
      "100%|██████████| 3/3 [00:01<00:00,  1.57it/s]\n"
     ]
    },
    {
     "name": "stdout",
     "output_type": "stream",
     "text": [
      "Escaneando pagina 4 de 1012\n",
      "Scraping: https://www.mediamarkt.es/es/category/_afeitadoras-corporales-701282.html\n"
     ]
    },
    {
     "name": "stderr",
     "output_type": "stream",
     "text": [
      "0it [00:00, ?it/s]\n"
     ]
    },
    {
     "name": "stdout",
     "output_type": "stream",
     "text": [
      "Escaneando pagina 5 de 1012\n",
      "Scraping: https://www.mediamarkt.es/es/category/_afeitadoras-multifunci%C3%B3n-701283.html\n",
      "Número de páginas: 3\n"
     ]
    },
    {
     "name": "stderr",
     "output_type": "stream",
     "text": [
      "100%|██████████| 3/3 [00:02<00:00,  1.09it/s]\n"
     ]
    },
    {
     "name": "stdout",
     "output_type": "stream",
     "text": [
      "Escaneando pagina 6 de 1012\n",
      "Scraping: https://www.mediamarkt.es/es/category/_cortapelos-701284.html\n",
      "Número de páginas: 5\n"
     ]
    },
    {
     "name": "stderr",
     "output_type": "stream",
     "text": [
      "100%|██████████| 5/5 [00:04<00:00,  1.15it/s]\n"
     ]
    },
    {
     "name": "stdout",
     "output_type": "stream",
     "text": [
      "Escaneando pagina 7 de 1012\n",
      "Scraping: https://www.mediamarkt.es/es/category/_barberos-701285.html\n",
      "Número de páginas: 3\n"
     ]
    },
    {
     "name": "stderr",
     "output_type": "stream",
     "text": [
      "100%|██████████| 3/3 [00:02<00:00,  1.33it/s]\n"
     ]
    },
    {
     "name": "stdout",
     "output_type": "stream",
     "text": [
      "Escaneando pagina 8 de 1012\n",
      "Scraping: https://www.mediamarkt.es/es/category/_depiladoras-ipl-701286.html\n",
      "Número de páginas: 2\n"
     ]
    },
    {
     "name": "stderr",
     "output_type": "stream",
     "text": [
      "100%|██████████| 2/2 [00:01<00:00,  1.61it/s]\n"
     ]
    },
    {
     "name": "stdout",
     "output_type": "stream",
     "text": [
      "Escaneando pagina 9 de 1012\n",
      "Scraping: https://www.mediamarkt.es/es/category/_rasuradoras-701287.html\n"
     ]
    },
    {
     "name": "stderr",
     "output_type": "stream",
     "text": [
      "0it [00:00, ?it/s]\n"
     ]
    },
    {
     "name": "stdout",
     "output_type": "stream",
     "text": [
      "Escaneando pagina 10 de 1012\n",
      "Scraping: https://www.mediamarkt.es/es/category/_depiladoras-de-arranque-701288.html\n",
      "Número de páginas: 3\n"
     ]
    },
    {
     "name": "stderr",
     "output_type": "stream",
     "text": [
      "100%|██████████| 3/3 [00:03<00:00,  1.57s/it]\n"
     ]
    },
    {
     "name": "stdout",
     "output_type": "stream",
     "text": [
      "Escaneando pagina 11 de 1012\n",
      "Scraping: https://www.mediamarkt.es/es/category/_recambios-y-accesorios-701289.html\n",
      "Número de páginas: 2\n"
     ]
    },
    {
     "name": "stderr",
     "output_type": "stream",
     "text": [
      "100%|██████████| 2/2 [00:01<00:00,  1.71it/s]\n"
     ]
    },
    {
     "name": "stdout",
     "output_type": "stream",
     "text": [
      "Escaneando pagina 12 de 1012\n",
      "Scraping: https://www.mediamarkt.es/es/category/_cuidado-del-cabello-701139.html\n"
     ]
    },
    {
     "name": "stderr",
     "output_type": "stream",
     "text": [
      "0it [00:00, ?it/s]\n"
     ]
    },
    {
     "name": "stdout",
     "output_type": "stream",
     "text": [
      "Escaneando pagina 13 de 1012\n",
      "Scraping: https://www.mediamarkt.es/es/category/_secadores-de-pelo-701290.html\n",
      "Número de páginas: 5\n"
     ]
    },
    {
     "name": "stderr",
     "output_type": "stream",
     "text": [
      "100%|██████████| 5/5 [00:04<00:00,  1.11it/s]\n"
     ]
    },
    {
     "name": "stdout",
     "output_type": "stream",
     "text": [
      "Escaneando pagina 14 de 1012\n",
      "Scraping: https://www.mediamarkt.es/es/category/_planchas-de-pelo-701291.html\n",
      "Número de páginas: 5\n"
     ]
    },
    {
     "name": "stderr",
     "output_type": "stream",
     "text": [
      "100%|██████████| 5/5 [00:04<00:00,  1.19it/s]\n"
     ]
    },
    {
     "name": "stdout",
     "output_type": "stream",
     "text": [
      "Escaneando pagina 15 de 1012\n",
      "Scraping: https://www.mediamarkt.es/es/category/_moldeadores-de-pelo-701292.html\n",
      "Número de páginas: 4\n"
     ]
    },
    {
     "name": "stderr",
     "output_type": "stream",
     "text": [
      "100%|██████████| 4/4 [00:04<00:00,  1.11s/it]\n"
     ]
    },
    {
     "name": "stdout",
     "output_type": "stream",
     "text": [
      "Escaneando pagina 16 de 1012\n",
      "Scraping: https://www.mediamarkt.es/es/category/_cepillos-de-calor-701293.html\n",
      "Número de páginas: 2\n"
     ]
    },
    {
     "name": "stderr",
     "output_type": "stream",
     "text": [
      "100%|██████████| 2/2 [00:01<00:00,  1.76it/s]\n"
     ]
    },
    {
     "name": "stdout",
     "output_type": "stream",
     "text": [
      "Escaneando pagina 17 de 1012\n",
      "Scraping: https://www.mediamarkt.es/es/category/_rizadores-701294.html\n"
     ]
    },
    {
     "name": "stderr",
     "output_type": "stream",
     "text": [
      "0it [00:00, ?it/s]\n"
     ]
    },
    {
     "name": "stdout",
     "output_type": "stream",
     "text": [
      "Escaneando pagina 18 de 1012\n",
      "Scraping: https://www.mediamarkt.es/es/category/_cuidado-dental-701140.html\n"
     ]
    },
    {
     "name": "stderr",
     "output_type": "stream",
     "text": [
      "0it [00:00, ?it/s]\n"
     ]
    },
    {
     "name": "stdout",
     "output_type": "stream",
     "text": [
      "Escaneando pagina 19 de 1012\n",
      "Scraping: https://www.mediamarkt.es/es/category/_cepillos-de-dientes-701295.html\n",
      "Número de páginas: 4\n"
     ]
    },
    {
     "name": "stderr",
     "output_type": "stream",
     "text": [
      "100%|██████████| 4/4 [00:04<00:00,  1.17s/it]\n"
     ]
    },
    {
     "name": "stdout",
     "output_type": "stream",
     "text": [
      "Escaneando pagina 20 de 1012\n",
      "Scraping: https://www.mediamarkt.es/es/category/_cepillos-infantiles-701296.html\n"
     ]
    },
    {
     "name": "stderr",
     "output_type": "stream",
     "text": [
      "0it [00:00, ?it/s]\n"
     ]
    },
    {
     "name": "stdout",
     "output_type": "stream",
     "text": [
      "Escaneando pagina 21 de 1012\n",
      "Scraping: https://www.mediamarkt.es/es/category/_irrigadores-701297.html\n"
     ]
    },
    {
     "name": "stderr",
     "output_type": "stream",
     "text": [
      "0it [00:00, ?it/s]\n"
     ]
    },
    {
     "name": "stdout",
     "output_type": "stream",
     "text": [
      "Escaneando pagina 22 de 1012\n",
      "Scraping: https://www.mediamarkt.es/es/category/_recambios-cuidado-dental-701298.html\n",
      "Número de páginas: 2\n"
     ]
    },
    {
     "name": "stderr",
     "output_type": "stream",
     "text": [
      "100%|██████████| 2/2 [00:02<00:00,  1.09s/it]\n"
     ]
    },
    {
     "name": "stdout",
     "output_type": "stream",
     "text": [
      "Escaneando pagina 23 de 1012\n",
      "Scraping: https://www.mediamarkt.es/es/category/_cuidado-facial-701141.html\n",
      "Número de páginas: 4\n"
     ]
    },
    {
     "name": "stderr",
     "output_type": "stream",
     "text": [
      "100%|██████████| 4/4 [00:04<00:00,  1.15s/it]\n"
     ]
    },
    {
     "name": "stdout",
     "output_type": "stream",
     "text": [
      "Escaneando pagina 24 de 1012\n",
      "Scraping: https://www.mediamarkt.es/es/category/_m%C3%A1quinas-de-sauna-facial-701299.html\n"
     ]
    },
    {
     "name": "stderr",
     "output_type": "stream",
     "text": [
      "0it [00:00, ?it/s]\n"
     ]
    },
    {
     "name": "stdout",
     "output_type": "stream",
     "text": [
      "Escaneando pagina 25 de 1012\n",
      "Scraping: https://www.mediamarkt.es/es/category/_cepillos-y-limpiadores-faciales-701300.html\n",
      "Número de páginas: 2\n"
     ]
    },
    {
     "name": "stderr",
     "output_type": "stream",
     "text": [
      "100%|██████████| 2/2 [00:01<00:00,  1.30it/s]\n"
     ]
    },
    {
     "name": "stdout",
     "output_type": "stream",
     "text": [
      "Escaneando pagina 26 de 1012\n",
      "Scraping: https://www.mediamarkt.es/es/category/_rejuvenecedores-tonificadores-701301.html\n"
     ]
    },
    {
     "name": "stderr",
     "output_type": "stream",
     "text": [
      "0it [00:00, ?it/s]\n"
     ]
    },
    {
     "name": "stdout",
     "output_type": "stream",
     "text": [
      "Escaneando pagina 27 de 1012\n",
      "Scraping: https://www.mediamarkt.es/es/category/_espejos-701302.html\n"
     ]
    },
    {
     "name": "stderr",
     "output_type": "stream",
     "text": [
      "0it [00:00, ?it/s]\n"
     ]
    },
    {
     "name": "stdout",
     "output_type": "stream",
     "text": [
      "Escaneando pagina 28 de 1012\n",
      "Scraping: https://www.mediamarkt.es/es/category/_cuidado-corporal-701142.html\n",
      "Número de páginas: 5\n"
     ]
    },
    {
     "name": "stderr",
     "output_type": "stream",
     "text": [
      "100%|██████████| 5/5 [00:05<00:00,  1.00s/it]\n"
     ]
    },
    {
     "name": "stdout",
     "output_type": "stream",
     "text": [
      "Escaneando pagina 29 de 1012\n",
      "Scraping: https://www.mediamarkt.es/es/category/_cavitaci%C3%B3n-y-radiofrecuencia-701303.html\n"
     ]
    },
    {
     "name": "stderr",
     "output_type": "stream",
     "text": [
      "0it [00:00, ?it/s]\n"
     ]
    },
    {
     "name": "stdout",
     "output_type": "stream",
     "text": [
      "Escaneando pagina 30 de 1012\n",
      "Scraping: https://www.mediamarkt.es/es/category/_masajeadores-y-anticelul%C3%ADticos-701304.html\n",
      "Número de páginas: 2\n"
     ]
    },
    {
     "name": "stderr",
     "output_type": "stream",
     "text": [
      "100%|██████████| 2/2 [00:01<00:00,  1.60it/s]\n"
     ]
    },
    {
     "name": "stdout",
     "output_type": "stream",
     "text": [
      "Escaneando pagina 31 de 1012\n",
      "Scraping: https://www.mediamarkt.es/es/category/_cremas-y-tratamientos-corporales-701305.html\n"
     ]
    },
    {
     "name": "stderr",
     "output_type": "stream",
     "text": [
      "0it [00:00, ?it/s]\n"
     ]
    },
    {
     "name": "stdout",
     "output_type": "stream",
     "text": [
      "Escaneando pagina 32 de 1012\n",
      "Scraping: https://www.mediamarkt.es/es/category/_packs-de-cuidado-corporal-701306.html\n"
     ]
    },
    {
     "name": "stderr",
     "output_type": "stream",
     "text": [
      "0it [00:00, ?it/s]\n"
     ]
    },
    {
     "name": "stdout",
     "output_type": "stream",
     "text": [
      "Escaneando pagina 33 de 1012\n",
      "Scraping: https://www.mediamarkt.es/es/category/_juguetes-sexuales-701307.html\n",
      "Número de páginas: 3\n"
     ]
    },
    {
     "name": "stderr",
     "output_type": "stream",
     "text": [
      "100%|██████████| 3/3 [00:03<00:00,  1.03s/it]\n"
     ]
    },
    {
     "name": "stdout",
     "output_type": "stream",
     "text": [
      "Escaneando pagina 34 de 1012\n",
      "Scraping: https://www.mediamarkt.es/es/category/_cuidado-de-pies-y-manos-701143.html\n",
      "Número de páginas: 2\n"
     ]
    },
    {
     "name": "stderr",
     "output_type": "stream",
     "text": [
      "100%|██████████| 2/2 [00:02<00:00,  1.02it/s]\n"
     ]
    },
    {
     "name": "stdout",
     "output_type": "stream",
     "text": [
      "Escaneando pagina 35 de 1012\n",
      "Scraping: https://www.mediamarkt.es/es/category/_manicura-y-pedicura-701308.html\n"
     ]
    },
    {
     "name": "stderr",
     "output_type": "stream",
     "text": [
      "0it [00:00, ?it/s]\n"
     ]
    },
    {
     "name": "stdout",
     "output_type": "stream",
     "text": [
      "Escaneando pagina 36 de 1012\n",
      "Scraping: https://www.mediamarkt.es/es/category/_secadores-y-l%C3%A1mparas-uv-led-701309.html\n"
     ]
    },
    {
     "name": "stderr",
     "output_type": "stream",
     "text": [
      "0it [00:00, ?it/s]\n"
     ]
    },
    {
     "name": "stdout",
     "output_type": "stream",
     "text": [
      "Escaneando pagina 37 de 1012\n",
      "Scraping: https://www.mediamarkt.es/es/category/_kit-de-manicura-701310.html\n"
     ]
    },
    {
     "name": "stderr",
     "output_type": "stream",
     "text": [
      "0it [00:00, ?it/s]\n"
     ]
    },
    {
     "name": "stdout",
     "output_type": "stream",
     "text": [
      "Escaneando pagina 38 de 1012\n",
      "Scraping: https://www.mediamarkt.es/es/category/_sets-y-accesorios-701311.html\n"
     ]
    },
    {
     "name": "stderr",
     "output_type": "stream",
     "text": [
      "0it [00:00, ?it/s]\n"
     ]
    },
    {
     "name": "stdout",
     "output_type": "stream",
     "text": [
      "Escaneando pagina 39 de 1012\n",
      "Scraping: https://www.mediamarkt.es/es/category/_hidromasaje-y-parafina-701312.html\n"
     ]
    },
    {
     "name": "stderr",
     "output_type": "stream",
     "text": [
      "0it [00:00, ?it/s]\n"
     ]
    },
    {
     "name": "stdout",
     "output_type": "stream",
     "text": [
      "Escaneando pagina 40 de 1012\n",
      "Scraping: https://www.mediamarkt.es/es/category/_limadores-de-durezas-701313.html\n"
     ]
    },
    {
     "name": "stderr",
     "output_type": "stream",
     "text": [
      "0it [00:00, ?it/s]\n"
     ]
    },
    {
     "name": "stdout",
     "output_type": "stream",
     "text": [
      "Escaneando pagina 41 de 1012\n",
      "Scraping: https://www.mediamarkt.es/es/category/_salud-y-bienestar-701144.html\n"
     ]
    },
    {
     "name": "stderr",
     "output_type": "stream",
     "text": [
      "0it [00:00, ?it/s]\n"
     ]
    },
    {
     "name": "stdout",
     "output_type": "stream",
     "text": [
      "Escaneando pagina 42 de 1012\n",
      "Scraping: https://www.mediamarkt.es/es/category/_b%C3%A1sculas-de-ba%C3%B1o-701314.html\n",
      "Número de páginas: 4\n"
     ]
    },
    {
     "name": "stderr",
     "output_type": "stream",
     "text": [
      "100%|██████████| 4/4 [00:04<00:00,  1.05it/s]\n"
     ]
    },
    {
     "name": "stdout",
     "output_type": "stream",
     "text": [
      "Escaneando pagina 43 de 1012\n",
      "Scraping: https://www.mediamarkt.es/es/category/_almohadillas-el%C3%A9ctricas-701315.html\n",
      "Número de páginas: 4\n"
     ]
    },
    {
     "name": "stderr",
     "output_type": "stream",
     "text": [
      "100%|██████████| 4/4 [00:04<00:00,  1.11s/it]\n"
     ]
    },
    {
     "name": "stdout",
     "output_type": "stream",
     "text": [
      "Escaneando pagina 44 de 1012\n",
      "Scraping: https://www.mediamarkt.es/es/category/_m%C3%A1quinas-fitness-701316.html\n"
     ]
    },
    {
     "name": "stderr",
     "output_type": "stream",
     "text": [
      "0it [00:00, ?it/s]\n"
     ]
    },
    {
     "name": "stdout",
     "output_type": "stream",
     "text": [
      "Escaneando pagina 45 de 1012\n",
      "Scraping: https://www.mediamarkt.es/es/category/_mantas-el%C3%A9ctricas-701317.html\n"
     ]
    },
    {
     "name": "stderr",
     "output_type": "stream",
     "text": [
      "0it [00:00, ?it/s]\n"
     ]
    },
    {
     "name": "stdout",
     "output_type": "stream",
     "text": [
      "Escaneando pagina 46 de 1012\n",
      "Scraping: https://www.mediamarkt.es/es/category/_aparatos-m%C3%A9dicos-701318.html\n",
      "Número de páginas: 3\n"
     ]
    },
    {
     "name": "stderr",
     "output_type": "stream",
     "text": [
      "100%|██████████| 3/3 [00:03<00:00,  1.19s/it]\n",
      "C:\\ProgramData\\Anaconda3\\lib\\site-packages\\pandas\\core\\frame.py:6211: FutureWarning: Sorting because non-concatenation axis is not aligned. A future version\n",
      "of pandas will change to not sort by default.\n",
      "\n",
      "To accept the future behavior, pass 'sort=False'.\n",
      "\n",
      "To retain the current behavior and silence the warning, pass 'sort=True'.\n",
      "\n",
      "  sort=sort)\n"
     ]
    },
    {
     "name": "stdout",
     "output_type": "stream",
     "text": [
      "Escaneando pagina 47 de 1012\n",
      "Scraping: https://www.mediamarkt.es/es/category/_tensi%C3%B3metros-702262.html\n",
      "Número de páginas: 2\n"
     ]
    },
    {
     "name": "stderr",
     "output_type": "stream",
     "text": [
      "100%|██████████| 2/2 [00:01<00:00,  1.06it/s]\n"
     ]
    },
    {
     "name": "stdout",
     "output_type": "stream",
     "text": [
      "Escaneando pagina 48 de 1012\n",
      "Scraping: https://www.mediamarkt.es/es/category/_cardi%C3%B3metros-702263.html\n"
     ]
    },
    {
     "name": "stderr",
     "output_type": "stream",
     "text": [
      "0it [00:00, ?it/s]\n"
     ]
    },
    {
     "name": "stdout",
     "output_type": "stream",
     "text": [
      "Escaneando pagina 49 de 1012\n",
      "Scraping: https://www.mediamarkt.es/es/category/_term%C3%B3metros-702264.html\n"
     ]
    },
    {
     "name": "stderr",
     "output_type": "stream",
     "text": [
      "0it [00:00, ?it/s]\n"
     ]
    },
    {
     "name": "stdout",
     "output_type": "stream",
     "text": [
      "Escaneando pagina 50 de 1012\n",
      "Scraping: https://www.mediamarkt.es/es/category/_pulsiox%C3%ADmetros-702265.html\n"
     ]
    },
    {
     "name": "stderr",
     "output_type": "stream",
     "text": [
      "0it [00:00, ?it/s]\n"
     ]
    },
    {
     "name": "stdout",
     "output_type": "stream",
     "text": [
      "Escaneando pagina 51 de 1012\n",
      "Scraping: https://www.mediamarkt.es/es/category/_masaje-701319.html\n",
      "Número de páginas: 3\n"
     ]
    },
    {
     "name": "stderr",
     "output_type": "stream",
     "text": [
      "100%|██████████| 3/3 [00:02<00:00,  1.01s/it]\n"
     ]
    },
    {
     "name": "stdout",
     "output_type": "stream",
     "text": [
      "Escaneando pagina 52 de 1012\n",
      "Scraping: https://www.mediamarkt.es/es/category/_l%C3%A1mparas-de-infrarrojos-701320.html\n"
     ]
    },
    {
     "name": "stderr",
     "output_type": "stream",
     "text": [
      "0it [00:00, ?it/s]\n"
     ]
    },
    {
     "name": "stdout",
     "output_type": "stream",
     "text": [
      "Escaneando pagina 53 de 1012\n",
      "Scraping: https://www.mediamarkt.es/es/category/_humidificadores-701321.html\n"
     ]
    },
    {
     "name": "stderr",
     "output_type": "stream",
     "text": [
      "0it [00:00, ?it/s]\n"
     ]
    },
    {
     "name": "stdout",
     "output_type": "stream",
     "text": [
      "Escaneando pagina 54 de 1012\n",
      "Scraping: https://www.mediamarkt.es/es/category/_deshumificadores-701322.html\n"
     ]
    },
    {
     "name": "stderr",
     "output_type": "stream",
     "text": [
      "0it [00:00, ?it/s]\n"
     ]
    },
    {
     "name": "stdout",
     "output_type": "stream",
     "text": [
      "Escaneando pagina 55 de 1012\n",
      "Scraping: https://www.mediamarkt.es/es/category/_purificadores-de-aire-701323.html\n"
     ]
    },
    {
     "name": "stderr",
     "output_type": "stream",
     "text": [
      "0it [00:00, ?it/s]\n"
     ]
    },
    {
     "name": "stdout",
     "output_type": "stream",
     "text": [
      "Escaneando pagina 56 de 1012\n",
      "Scraping: https://www.mediamarkt.es/es/category/_cuidado-del-beb%C3%A9-701145.html\n",
      "Número de páginas: 3\n"
     ]
    },
    {
     "name": "stderr",
     "output_type": "stream",
     "text": [
      "100%|██████████| 3/3 [00:02<00:00,  1.21it/s]\n"
     ]
    },
    {
     "name": "stdout",
     "output_type": "stream",
     "text": [
      "Escaneando pagina 57 de 1012\n",
      "Scraping: https://www.mediamarkt.es/es/category/_vigilabeb%C3%A9s-701325.html\n"
     ]
    },
    {
     "name": "stderr",
     "output_type": "stream",
     "text": [
      "0it [00:00, ?it/s]\n"
     ]
    },
    {
     "name": "stdout",
     "output_type": "stream",
     "text": [
      "Escaneando pagina 58 de 1012\n",
      "Scraping: https://www.mediamarkt.es/es/category/_b%C3%A1sculas-701326.html\n"
     ]
    },
    {
     "name": "stderr",
     "output_type": "stream",
     "text": [
      "0it [00:00, ?it/s]\n"
     ]
    },
    {
     "name": "stdout",
     "output_type": "stream",
     "text": [
      "Escaneando pagina 59 de 1012\n",
      "Scraping: https://www.mediamarkt.es/es/category/_term%C3%B3metros-para-beb%C3%A9-701328.html\n"
     ]
    },
    {
     "name": "stderr",
     "output_type": "stream",
     "text": [
      "0it [00:00, ?it/s]\n"
     ]
    },
    {
     "name": "stdout",
     "output_type": "stream",
     "text": [
      "Escaneando pagina 60 de 1012\n",
      "Scraping: https://www.mediamarkt.es/es/category/_humidificadores-701329.html\n"
     ]
    },
    {
     "name": "stderr",
     "output_type": "stream",
     "text": [
      "0it [00:00, ?it/s]\n"
     ]
    },
    {
     "name": "stdout",
     "output_type": "stream",
     "text": [
      "Escaneando pagina 61 de 1012\n",
      "Scraping: https://www.mediamarkt.es/es/category/_preparaci%C3%B3n-alimentos-para-beb%C3%A9-701330.html\n"
     ]
    },
    {
     "name": "stderr",
     "output_type": "stream",
     "text": [
      "0it [00:00, ?it/s]\n"
     ]
    },
    {
     "name": "stdout",
     "output_type": "stream",
     "text": [
      "Escaneando pagina 62 de 1012\n",
      "Scraping: https://www.mediamarkt.es/es/category/_campa%C3%B1as-y-ofertas-701114.html\n"
     ]
    },
    {
     "name": "stderr",
     "output_type": "stream",
     "text": [
      "0it [00:00, ?it/s]\n"
     ]
    },
    {
     "name": "stdout",
     "output_type": "stream",
     "text": [
      "Escaneando pagina 63 de 1012\n",
      "Scraping: https://www.mediamarkt.es/es/category/_oportunidades-701125.html\n",
      "Número de páginas: 30\n"
     ]
    },
    {
     "name": "stderr",
     "output_type": "stream",
     "text": [
      "100%|██████████| 30/30 [00:32<00:00,  1.07it/s]\n"
     ]
    },
    {
     "name": "stdout",
     "output_type": "stream",
     "text": [
      "Escaneando pagina 64 de 1012\n",
      "Scraping: https://www.mediamarkt.es/es/category/_deporte-y-foto-712514.html\n"
     ]
    },
    {
     "name": "stderr",
     "output_type": "stream",
     "text": [
      "0it [00:00, ?it/s]\n"
     ]
    },
    {
     "name": "stdout",
     "output_type": "stream",
     "text": [
      "Escaneando pagina 65 de 1012\n",
      "Scraping: https://www.mediamarkt.es/es/category/_electrodom%C3%A9sticos-712515.html\n",
      "Número de páginas: 12\n"
     ]
    },
    {
     "name": "stderr",
     "output_type": "stream",
     "text": [
      "100%|██████████| 12/12 [00:10<00:00,  1.35it/s]\n"
     ]
    },
    {
     "name": "stdout",
     "output_type": "stream",
     "text": [
      "Escaneando pagina 66 de 1012\n",
      "Scraping: https://www.mediamarkt.es/es/category/_entretenimiento-712516.html\n",
      "Número de páginas: 10\n"
     ]
    },
    {
     "name": "stderr",
     "output_type": "stream",
     "text": [
      "100%|██████████| 10/10 [00:12<00:00,  1.25s/it]\n"
     ]
    },
    {
     "name": "stdout",
     "output_type": "stream",
     "text": [
      "Escaneando pagina 67 de 1012\n",
      "Scraping: https://www.mediamarkt.es/es/category/_inform%C3%A1tica-712517.html\n",
      "Número de páginas: 2\n"
     ]
    },
    {
     "name": "stderr",
     "output_type": "stream",
     "text": [
      "100%|██████████| 2/2 [00:01<00:00,  1.00it/s]\n"
     ]
    },
    {
     "name": "stdout",
     "output_type": "stream",
     "text": [
      "Escaneando pagina 68 de 1012\n",
      "Scraping: https://www.mediamarkt.es/es/category/_telefon%C3%ADa-712518.html\n",
      "Número de páginas: 4\n"
     ]
    },
    {
     "name": "stderr",
     "output_type": "stream",
     "text": [
      "100%|██████████| 4/4 [00:02<00:00,  1.41it/s]\n"
     ]
    },
    {
     "name": "stdout",
     "output_type": "stream",
     "text": [
      "Escaneando pagina 69 de 1012\n",
      "Scraping: https://www.mediamarkt.es/es/category/_tv-y-audio-712519.html\n",
      "Número de páginas: 3\n"
     ]
    },
    {
     "name": "stderr",
     "output_type": "stream",
     "text": [
      "100%|██████████| 3/3 [00:02<00:00,  1.01s/it]\n"
     ]
    },
    {
     "name": "stdout",
     "output_type": "stream",
     "text": [
      "Escaneando pagina 70 de 1012\n",
      "Scraping: https://www.mediamarkt.es/es/category/_plan-renove-721079.html\n",
      "Número de páginas: 61\n"
     ]
    },
    {
     "name": "stderr",
     "output_type": "stream",
     "text": [
      "100%|██████████| 61/61 [00:59<00:00,  1.07it/s]\n"
     ]
    },
    {
     "name": "stdout",
     "output_type": "stream",
     "text": [
      "Escaneando pagina 71 de 1012\n",
      "Scraping: https://www.mediamarkt.es/es/category/_tv-y-audio-721097.html\n",
      "Número de páginas: 20\n"
     ]
    },
    {
     "name": "stderr",
     "output_type": "stream",
     "text": [
      "100%|██████████| 20/20 [00:20<00:00,  1.02it/s]\n"
     ]
    },
    {
     "name": "stdout",
     "output_type": "stream",
     "text": [
      "Escaneando pagina 72 de 1012\n",
      "Scraping: https://www.mediamarkt.es/es/category/_tv-4k-hasta-43-721105.html\n"
     ]
    },
    {
     "name": "stderr",
     "output_type": "stream",
     "text": [
      "0it [00:00, ?it/s]\n"
     ]
    },
    {
     "name": "stdout",
     "output_type": "stream",
     "text": [
      "Escaneando pagina 73 de 1012\n",
      "Scraping: https://www.mediamarkt.es/es/category/_tv-4k-de-44-a-55-721101.html\n",
      "Número de páginas: 4\n"
     ]
    },
    {
     "name": "stderr",
     "output_type": "stream",
     "text": [
      "100%|██████████| 4/4 [00:03<00:00,  1.29it/s]\n"
     ]
    },
    {
     "name": "stdout",
     "output_type": "stream",
     "text": [
      "Escaneando pagina 74 de 1012\n",
      "Scraping: https://www.mediamarkt.es/es/category/_tv-4k-de-56-a-65-721104.html\n",
      "Número de páginas: 4\n"
     ]
    },
    {
     "name": "stderr",
     "output_type": "stream",
     "text": [
      "100%|██████████| 4/4 [00:03<00:00,  1.14it/s]\n"
     ]
    },
    {
     "name": "stdout",
     "output_type": "stream",
     "text": [
      "Escaneando pagina 75 de 1012\n",
      "Scraping: https://www.mediamarkt.es/es/category/_tv-4k-a-partir-de-66-721100.html\n",
      "Número de páginas: 2\n"
     ]
    },
    {
     "name": "stderr",
     "output_type": "stream",
     "text": [
      "100%|██████████| 2/2 [00:02<00:00,  1.11s/it]\n"
     ]
    },
    {
     "name": "stdout",
     "output_type": "stream",
     "text": [
      "Escaneando pagina 76 de 1012\n",
      "Scraping: https://www.mediamarkt.es/es/category/_barras-de-sonido-721103.html\n",
      "Número de páginas: 2\n"
     ]
    },
    {
     "name": "stderr",
     "output_type": "stream",
     "text": [
      "100%|██████████| 2/2 [00:01<00:00,  1.18it/s]\n"
     ]
    },
    {
     "name": "stdout",
     "output_type": "stream",
     "text": [
      "Escaneando pagina 77 de 1012\n",
      "Scraping: https://www.mediamarkt.es/es/category/_altavoces-721102.html\n",
      "Número de páginas: 9\n"
     ]
    },
    {
     "name": "stderr",
     "output_type": "stream",
     "text": [
      "100%|██████████| 9/9 [00:10<00:00,  1.24s/it]\n"
     ]
    },
    {
     "name": "stdout",
     "output_type": "stream",
     "text": [
      "Escaneando pagina 78 de 1012\n",
      "Scraping: https://www.mediamarkt.es/es/category/_inform%C3%A1tica-721095.html\n",
      "Número de páginas: 21\n"
     ]
    },
    {
     "name": "stderr",
     "output_type": "stream",
     "text": [
      "100%|██████████| 21/21 [00:24<00:00,  1.20s/it]\n"
     ]
    },
    {
     "name": "stdout",
     "output_type": "stream",
     "text": [
      "Escaneando pagina 79 de 1012\n",
      "Scraping: https://www.mediamarkt.es/es/category/_impresoras-721108.html\n",
      "Número de páginas: 8\n"
     ]
    },
    {
     "name": "stderr",
     "output_type": "stream",
     "text": [
      "100%|██████████| 8/8 [00:10<00:00,  1.35s/it]\n"
     ]
    },
    {
     "name": "stdout",
     "output_type": "stream",
     "text": [
      "Escaneando pagina 80 de 1012\n",
      "Scraping: https://www.mediamarkt.es/es/category/_pcs-721109.html\n",
      "Número de páginas: 3\n"
     ]
    },
    {
     "name": "stderr",
     "output_type": "stream",
     "text": [
      "100%|██████████| 3/3 [00:03<00:00,  1.13s/it]\n"
     ]
    },
    {
     "name": "stdout",
     "output_type": "stream",
     "text": [
      "Escaneando pagina 81 de 1012\n",
      "Scraping: https://www.mediamarkt.es/es/category/_port%C3%A1tiles-721110.html\n",
      "Número de páginas: 11\n"
     ]
    },
    {
     "name": "stderr",
     "output_type": "stream",
     "text": [
      "100%|██████████| 11/11 [00:12<00:00,  1.14s/it]\n"
     ]
    },
    {
     "name": "stdout",
     "output_type": "stream",
     "text": [
      "Escaneando pagina 82 de 1012\n",
      "Scraping: https://www.mediamarkt.es/es/category/_tablets-721111.html\n"
     ]
    },
    {
     "name": "stderr",
     "output_type": "stream",
     "text": [
      "0it [00:00, ?it/s]\n"
     ]
    },
    {
     "name": "stdout",
     "output_type": "stream",
     "text": [
      "Escaneando pagina 83 de 1012\n",
      "Scraping: https://www.mediamarkt.es/es/category/_telefon%C3%ADa-721096.html\n",
      "Número de páginas: 9\n"
     ]
    },
    {
     "name": "stderr",
     "output_type": "stream",
     "text": [
      "100%|██████████| 9/9 [00:09<00:00,  1.03s/it]\n"
     ]
    },
    {
     "name": "stdout",
     "output_type": "stream",
     "text": [
      "Escaneando pagina 84 de 1012\n",
      "Scraping: https://www.mediamarkt.es/es/category/_smartphones-721106.html\n",
      "Número de páginas: 5\n"
     ]
    },
    {
     "name": "stderr",
     "output_type": "stream",
     "text": [
      "100%|██████████| 5/5 [00:05<00:00,  1.03s/it]\n"
     ]
    },
    {
     "name": "stdout",
     "output_type": "stream",
     "text": [
      "Escaneando pagina 85 de 1012\n",
      "Scraping: https://www.mediamarkt.es/es/category/_smartwatches-721107.html\n",
      "Número de páginas: 4\n"
     ]
    },
    {
     "name": "stderr",
     "output_type": "stream",
     "text": [
      "100%|██████████| 4/4 [00:04<00:00,  1.02s/it]\n"
     ]
    },
    {
     "name": "stdout",
     "output_type": "stream",
     "text": [
      "Escaneando pagina 86 de 1012\n",
      "Scraping: https://www.mediamarkt.es/es/category/_deporte-y-foto-721092.html\n",
      "Número de páginas: 12\n"
     ]
    },
    {
     "name": "stderr",
     "output_type": "stream",
     "text": [
      "100%|██████████| 12/12 [00:17<00:00,  1.53s/it]\n"
     ]
    },
    {
     "name": "stdout",
     "output_type": "stream",
     "text": [
      "Escaneando pagina 87 de 1012\n",
      "Scraping: https://www.mediamarkt.es/es/category/_fotograf%C3%ADa-721112.html\n",
      "Número de páginas: 10\n"
     ]
    },
    {
     "name": "stderr",
     "output_type": "stream",
     "text": [
      "100%|██████████| 10/10 [00:14<00:00,  1.38s/it]\n"
     ]
    },
    {
     "name": "stdout",
     "output_type": "stream",
     "text": [
      "Escaneando pagina 88 de 1012\n",
      "Scraping: https://www.mediamarkt.es/es/category/_movilidad-721113.html\n",
      "Número de páginas: 3\n"
     ]
    },
    {
     "name": "stderr",
     "output_type": "stream",
     "text": [
      "100%|██████████| 3/3 [00:03<00:00,  1.13s/it]\n"
     ]
    },
    {
     "name": "stdout",
     "output_type": "stream",
     "text": [
      "Escaneando pagina 89 de 1012\n",
      "Scraping: https://www.mediamarkt.es/es/category/_entretenimiento-721094.html\n"
     ]
    },
    {
     "name": "stderr",
     "output_type": "stream",
     "text": [
      "0it [00:00, ?it/s]\n"
     ]
    },
    {
     "name": "stdout",
     "output_type": "stream",
     "text": [
      "Escaneando pagina 90 de 1012\n",
      "Scraping: https://www.mediamarkt.es/es/category/_tv-audio-y-foto-701116.html\n"
     ]
    },
    {
     "name": "stderr",
     "output_type": "stream",
     "text": [
      "0it [00:00, ?it/s]\n"
     ]
    },
    {
     "name": "stdout",
     "output_type": "stream",
     "text": [
      "Escaneando pagina 91 de 1012\n",
      "Scraping: https://www.mediamarkt.es/es/category/_televisi%C3%B3n-701130.html\n"
     ]
    },
    {
     "name": "stderr",
     "output_type": "stream",
     "text": [
      "0it [00:00, ?it/s]\n"
     ]
    },
    {
     "name": "stdout",
     "output_type": "stream",
     "text": [
      "Escaneando pagina 92 de 1012\n",
      "Scraping: https://www.mediamarkt.es/es/category/_televisores-701210.html\n",
      "Número de páginas: 11\n"
     ]
    },
    {
     "name": "stderr",
     "output_type": "stream",
     "text": [
      "100%|██████████| 11/11 [00:12<00:00,  1.05s/it]\n"
     ]
    },
    {
     "name": "stdout",
     "output_type": "stream",
     "text": [
      "Escaneando pagina 93 de 1012\n",
      "Scraping: https://www.mediamarkt.es/es/category/_tv-hasta-27-pulgadas-702040.html\n"
     ]
    },
    {
     "name": "stderr",
     "output_type": "stream",
     "text": [
      "0it [00:00, ?it/s]\n"
     ]
    },
    {
     "name": "stdout",
     "output_type": "stream",
     "text": [
      "Escaneando pagina 94 de 1012\n",
      "Scraping: https://www.mediamarkt.es/es/category/_tv-28-32-pulgadas-702041.html\n",
      "Número de páginas: 2\n"
     ]
    },
    {
     "name": "stderr",
     "output_type": "stream",
     "text": [
      "100%|██████████| 2/2 [00:02<00:00,  1.10s/it]\n"
     ]
    },
    {
     "name": "stdout",
     "output_type": "stream",
     "text": [
      "Escaneando pagina 95 de 1012\n",
      "Scraping: https://www.mediamarkt.es/es/category/_tv-40-43-pulgadas-702042.html\n",
      "Número de páginas: 2\n"
     ]
    },
    {
     "name": "stderr",
     "output_type": "stream",
     "text": [
      "100%|██████████| 2/2 [00:01<00:00,  1.03it/s]\n"
     ]
    },
    {
     "name": "stdout",
     "output_type": "stream",
     "text": [
      "Escaneando pagina 96 de 1012\n",
      "Scraping: https://www.mediamarkt.es/es/category/_tv-48-50-pulgadas-702043.html\n"
     ]
    },
    {
     "name": "stderr",
     "output_type": "stream",
     "text": [
      "0it [00:00, ?it/s]\n"
     ]
    },
    {
     "name": "stdout",
     "output_type": "stream",
     "text": [
      "Escaneando pagina 97 de 1012\n",
      "Scraping: https://www.mediamarkt.es/es/category/_tv-55-60-pulgadas-702044.html\n",
      "Número de páginas: 3\n"
     ]
    },
    {
     "name": "stderr",
     "output_type": "stream",
     "text": [
      "100%|██████████| 3/3 [00:03<00:00,  1.03s/it]\n"
     ]
    },
    {
     "name": "stdout",
     "output_type": "stream",
     "text": [
      "Escaneando pagina 98 de 1012\n",
      "Scraping: https://www.mediamarkt.es/es/category/_tv-desde-65-pulgadas-702045.html\n",
      "Número de páginas: 4\n"
     ]
    },
    {
     "name": "stderr",
     "output_type": "stream",
     "text": [
      "100%|██████████| 4/4 [00:05<00:00,  1.43s/it]\n"
     ]
    },
    {
     "name": "stdout",
     "output_type": "stream",
     "text": [
      "Escaneando pagina 99 de 1012\n",
      "Scraping: https://www.mediamarkt.es/es/category/_soportes-tv-701211.html\n",
      "Número de páginas: 9\n"
     ]
    },
    {
     "name": "stderr",
     "output_type": "stream",
     "text": [
      "100%|██████████| 9/9 [00:10<00:00,  1.17s/it]\n"
     ]
    },
    {
     "name": "stdout",
     "output_type": "stream",
     "text": [
      "Escaneando pagina 100 de 1012\n",
      "Scraping: https://www.mediamarkt.es/es/category/_tv-fijos-702046.html\n",
      "Número de páginas: 2\n"
     ]
    },
    {
     "name": "stderr",
     "output_type": "stream",
     "text": [
      "100%|██████████| 2/2 [00:02<00:00,  1.41s/it]\n"
     ]
    },
    {
     "name": "stdout",
     "output_type": "stream",
     "text": [
      "Escaneando pagina 101 de 1012\n",
      "Scraping: https://www.mediamarkt.es/es/category/_tv-inclinable-702047.html\n",
      "Número de páginas: 2\n"
     ]
    },
    {
     "name": "stderr",
     "output_type": "stream",
     "text": [
      "100%|██████████| 2/2 [00:02<00:00,  1.36s/it]\n"
     ]
    },
    {
     "name": "stdout",
     "output_type": "stream",
     "text": [
      "Escaneando pagina 102 de 1012\n",
      "Scraping: https://www.mediamarkt.es/es/category/_tv-con-brazo-702048.html\n",
      "Número de páginas: 4\n"
     ]
    },
    {
     "name": "stderr",
     "output_type": "stream",
     "text": [
      "100%|██████████| 4/4 [00:04<00:00,  1.11s/it]\n"
     ]
    },
    {
     "name": "stdout",
     "output_type": "stream",
     "text": [
      "Escaneando pagina 103 de 1012\n",
      "Scraping: https://www.mediamarkt.es/es/category/_tv-techo-702049.html\n"
     ]
    },
    {
     "name": "stderr",
     "output_type": "stream",
     "text": [
      "0it [00:00, ?it/s]\n"
     ]
    },
    {
     "name": "stdout",
     "output_type": "stream",
     "text": [
      "Escaneando pagina 104 de 1012\n",
      "Scraping: https://www.mediamarkt.es/es/category/_soportes-proyector-702050.html\n"
     ]
    },
    {
     "name": "stderr",
     "output_type": "stream",
     "text": [
      "0it [00:00, ?it/s]\n"
     ]
    },
    {
     "name": "stdout",
     "output_type": "stream",
     "text": [
      "Escaneando pagina 105 de 1012\n",
      "Scraping: https://www.mediamarkt.es/es/category/_soportes-altavoces-702051.html\n"
     ]
    },
    {
     "name": "stderr",
     "output_type": "stream",
     "text": [
      "0it [00:00, ?it/s]\n"
     ]
    },
    {
     "name": "stdout",
     "output_type": "stream",
     "text": [
      "Escaneando pagina 106 de 1012\n",
      "Scraping: https://www.mediamarkt.es/es/category/_otros-soportes-702052.html\n",
      "Número de páginas: 2\n"
     ]
    },
    {
     "name": "stderr",
     "output_type": "stream",
     "text": [
      "100%|██████████| 2/2 [00:02<00:00,  1.31s/it]\n"
     ]
    },
    {
     "name": "stdout",
     "output_type": "stream",
     "text": [
      "Escaneando pagina 107 de 1012\n",
      "Scraping: https://www.mediamarkt.es/es/category/_internet-tv-tdt-sat%C3%A9lite-701212.html\n",
      "Número de páginas: 3\n"
     ]
    },
    {
     "name": "stderr",
     "output_type": "stream",
     "text": [
      "100%|██████████| 3/3 [00:03<00:00,  1.15s/it]\n"
     ]
    },
    {
     "name": "stdout",
     "output_type": "stream",
     "text": [
      "Escaneando pagina 108 de 1012\n",
      "Scraping: https://www.mediamarkt.es/es/category/_smart-tv-box-702053.html\n"
     ]
    },
    {
     "name": "stderr",
     "output_type": "stream",
     "text": [
      "0it [00:00, ?it/s]\n"
     ]
    },
    {
     "name": "stdout",
     "output_type": "stream",
     "text": [
      "Escaneando pagina 109 de 1012\n",
      "Scraping: https://www.mediamarkt.es/es/category/_receptor-tdt-702054.html\n"
     ]
    },
    {
     "name": "stderr",
     "output_type": "stream",
     "text": [
      "0it [00:00, ?it/s]\n"
     ]
    },
    {
     "name": "stdout",
     "output_type": "stream",
     "text": [
      "Escaneando pagina 110 de 1012\n",
      "Scraping: https://www.mediamarkt.es/es/category/_sat%C3%A9lite-702055.html\n"
     ]
    },
    {
     "name": "stderr",
     "output_type": "stream",
     "text": [
      "0it [00:00, ?it/s]\n"
     ]
    },
    {
     "name": "stdout",
     "output_type": "stream",
     "text": [
      "Escaneando pagina 111 de 1012\n",
      "Scraping: https://www.mediamarkt.es/es/category/_mandos-teclados-smart-tv-702057.html\n"
     ]
    },
    {
     "name": "stderr",
     "output_type": "stream",
     "text": [
      "0it [00:00, ?it/s]\n"
     ]
    },
    {
     "name": "stdout",
     "output_type": "stream",
     "text": [
      "Escaneando pagina 112 de 1012\n",
      "Scraping: https://www.mediamarkt.es/es/category/_accesorios-702058.html\n"
     ]
    },
    {
     "name": "stderr",
     "output_type": "stream",
     "text": [
      "0it [00:00, ?it/s]\n"
     ]
    },
    {
     "name": "stdout",
     "output_type": "stream",
     "text": [
      "Escaneando pagina 113 de 1012\n",
      "Scraping: https://www.mediamarkt.es/es/category/_proyectores-701213.html\n",
      "Número de páginas: 3\n"
     ]
    },
    {
     "name": "stderr",
     "output_type": "stream",
     "text": [
      "100%|██████████| 3/3 [00:03<00:00,  1.29s/it]\n"
     ]
    },
    {
     "name": "stdout",
     "output_type": "stream",
     "text": [
      "Escaneando pagina 114 de 1012\n",
      "Scraping: https://www.mediamarkt.es/es/category/_cine-en-casa-3d-702059.html\n",
      "Número de páginas: 2\n"
     ]
    },
    {
     "name": "stderr",
     "output_type": "stream",
     "text": [
      "100%|██████████| 2/2 [00:02<00:00,  1.48s/it]\n"
     ]
    },
    {
     "name": "stdout",
     "output_type": "stream",
     "text": [
      "Escaneando pagina 115 de 1012\n",
      "Scraping: https://www.mediamarkt.es/es/category/_profesional-702060.html\n"
     ]
    },
    {
     "name": "stderr",
     "output_type": "stream",
     "text": [
      "0it [00:00, ?it/s]\n"
     ]
    },
    {
     "name": "stdout",
     "output_type": "stream",
     "text": [
      "Escaneando pagina 116 de 1012\n",
      "Scraping: https://www.mediamarkt.es/es/category/_mini-proyectores-702061.html\n"
     ]
    },
    {
     "name": "stderr",
     "output_type": "stream",
     "text": [
      "0it [00:00, ?it/s]\n"
     ]
    },
    {
     "name": "stdout",
     "output_type": "stream",
     "text": [
      "Escaneando pagina 117 de 1012\n",
      "Scraping: https://www.mediamarkt.es/es/category/_pantallas-proyecci%C3%B3n-702062.html\n",
      "Número de páginas: 2\n"
     ]
    },
    {
     "name": "stderr",
     "output_type": "stream",
     "text": [
      "100%|██████████| 2/2 [00:02<00:00,  1.20s/it]\n"
     ]
    },
    {
     "name": "stdout",
     "output_type": "stream",
     "text": [
      "Escaneando pagina 118 de 1012\n",
      "Scraping: https://www.mediamarkt.es/es/category/_soportes-702063.html\n"
     ]
    },
    {
     "name": "stderr",
     "output_type": "stream",
     "text": [
      "0it [00:00, ?it/s]\n"
     ]
    },
    {
     "name": "stdout",
     "output_type": "stream",
     "text": [
      "Escaneando pagina 119 de 1012\n",
      "Scraping: https://www.mediamarkt.es/es/category/_accesorios-proyectores-702064.html\n"
     ]
    },
    {
     "name": "stderr",
     "output_type": "stream",
     "text": [
      "0it [00:00, ?it/s]\n"
     ]
    },
    {
     "name": "stdout",
     "output_type": "stream",
     "text": [
      "Escaneando pagina 120 de 1012\n",
      "Scraping: https://www.mediamarkt.es/es/category/_reproductores-dvd-blu-ray-701214.html\n",
      "Número de páginas: 2\n"
     ]
    },
    {
     "name": "stderr",
     "output_type": "stream",
     "text": [
      "100%|██████████| 2/2 [00:02<00:00,  1.50s/it]\n"
     ]
    },
    {
     "name": "stdout",
     "output_type": "stream",
     "text": [
      "Escaneando pagina 121 de 1012\n",
      "Scraping: https://www.mediamarkt.es/es/category/_bluray-smart-tv-702065.html\n"
     ]
    },
    {
     "name": "stderr",
     "output_type": "stream",
     "text": [
      "0it [00:00, ?it/s]\n"
     ]
    },
    {
     "name": "stdout",
     "output_type": "stream",
     "text": [
      "Escaneando pagina 122 de 1012\n",
      "Scraping: https://www.mediamarkt.es/es/category/_dvd-702066.html\n"
     ]
    },
    {
     "name": "stderr",
     "output_type": "stream",
     "text": [
      "0it [00:00, ?it/s]\n"
     ]
    },
    {
     "name": "stdout",
     "output_type": "stream",
     "text": [
      "Escaneando pagina 123 de 1012\n",
      "Scraping: https://www.mediamarkt.es/es/category/_blu-ray-702067.html\n"
     ]
    },
    {
     "name": "stderr",
     "output_type": "stream",
     "text": [
      "0it [00:00, ?it/s]\n"
     ]
    },
    {
     "name": "stdout",
     "output_type": "stream",
     "text": [
      "Escaneando pagina 124 de 1012\n",
      "Scraping: https://www.mediamarkt.es/es/category/_dvd-port%C3%A1til-702068.html\n"
     ]
    },
    {
     "name": "stderr",
     "output_type": "stream",
     "text": [
      "0it [00:00, ?it/s]\n"
     ]
    },
    {
     "name": "stdout",
     "output_type": "stream",
     "text": [
      "Escaneando pagina 125 de 1012\n",
      "Scraping: https://www.mediamarkt.es/es/category/_antenas-tv-701218.html\n",
      "Número de páginas: 5\n"
     ]
    },
    {
     "name": "stderr",
     "output_type": "stream",
     "text": [
      "100%|██████████| 5/5 [00:08<00:00,  1.64s/it]\n"
     ]
    },
    {
     "name": "stdout",
     "output_type": "stream",
     "text": [
      "Escaneando pagina 126 de 1012\n",
      "Scraping: https://www.mediamarkt.es/es/category/_antenas-exteriores-702075.html\n"
     ]
    },
    {
     "name": "stderr",
     "output_type": "stream",
     "text": [
      "0it [00:00, ?it/s]\n"
     ]
    },
    {
     "name": "stdout",
     "output_type": "stream",
     "text": [
      "Escaneando pagina 127 de 1012\n",
      "Scraping: https://www.mediamarkt.es/es/category/_antenas-interiores-702076.html\n",
      "Número de páginas: 2\n"
     ]
    },
    {
     "name": "stderr",
     "output_type": "stream",
     "text": [
      "100%|██████████| 2/2 [00:02<00:00,  1.28s/it]\n"
     ]
    },
    {
     "name": "stdout",
     "output_type": "stream",
     "text": [
      "Escaneando pagina 128 de 1012\n",
      "Scraping: https://www.mediamarkt.es/es/category/_amplificadores-antena-702077.html\n"
     ]
    },
    {
     "name": "stderr",
     "output_type": "stream",
     "text": [
      "0it [00:00, ?it/s]\n"
     ]
    },
    {
     "name": "stdout",
     "output_type": "stream",
     "text": [
      "Escaneando pagina 129 de 1012\n",
      "Scraping: https://www.mediamarkt.es/es/category/_transmisores-se%C3%B1al-702078.html\n"
     ]
    },
    {
     "name": "stderr",
     "output_type": "stream",
     "text": [
      "0it [00:00, ?it/s]\n"
     ]
    },
    {
     "name": "stdout",
     "output_type": "stream",
     "text": [
      "Escaneando pagina 130 de 1012\n",
      "Scraping: https://www.mediamarkt.es/es/category/_cables-y-accesorios-702079.html\n",
      "Número de páginas: 3\n"
     ]
    },
    {
     "name": "stderr",
     "output_type": "stream",
     "text": [
      "100%|██████████| 3/3 [00:04<00:00,  1.38s/it]\n"
     ]
    },
    {
     "name": "stdout",
     "output_type": "stream",
     "text": [
      "Escaneando pagina 131 de 1012\n",
      "Scraping: https://www.mediamarkt.es/es/category/_mandos-a-distancia-701219.html\n",
      "Número de páginas: 3\n"
     ]
    },
    {
     "name": "stderr",
     "output_type": "stream",
     "text": [
      "100%|██████████| 3/3 [00:03<00:00,  1.05s/it]\n"
     ]
    },
    {
     "name": "stdout",
     "output_type": "stream",
     "text": [
      "Escaneando pagina 132 de 1012\n",
      "Scraping: https://www.mediamarkt.es/es/category/_mandos-universales-702080.html\n",
      "Número de páginas: 2\n"
     ]
    },
    {
     "name": "stderr",
     "output_type": "stream",
     "text": [
      "100%|██████████| 2/2 [00:03<00:00,  1.87s/it]\n"
     ]
    },
    {
     "name": "stdout",
     "output_type": "stream",
     "text": [
      "Escaneando pagina 133 de 1012\n",
      "Scraping: https://www.mediamarkt.es/es/category/_mandos-teclados-smart-tv-702081.html\n"
     ]
    },
    {
     "name": "stderr",
     "output_type": "stream",
     "text": [
      "0it [00:00, ?it/s]\n"
     ]
    },
    {
     "name": "stdout",
     "output_type": "stream",
     "text": [
      "Escaneando pagina 134 de 1012\n",
      "Scraping: https://www.mediamarkt.es/es/category/_pilas-702082.html\n"
     ]
    },
    {
     "name": "stderr",
     "output_type": "stream",
     "text": [
      "0it [00:00, ?it/s]\n"
     ]
    },
    {
     "name": "stdout",
     "output_type": "stream",
     "text": [
      "Escaneando pagina 135 de 1012\n",
      "Scraping: https://www.mediamarkt.es/es/category/_cables-tv-701220.html\n",
      "Número de páginas: 8\n"
     ]
    },
    {
     "name": "stderr",
     "output_type": "stream",
     "text": [
      "100%|██████████| 8/8 [00:12<00:00,  1.55s/it]\n"
     ]
    },
    {
     "name": "stdout",
     "output_type": "stream",
     "text": [
      "Escaneando pagina 136 de 1012\n",
      "Scraping: https://www.mediamarkt.es/es/category/_cables-hdmi-702083.html\n",
      "Número de páginas: 4\n"
     ]
    },
    {
     "name": "stderr",
     "output_type": "stream",
     "text": [
      "100%|██████████| 4/4 [00:05<00:00,  1.41s/it]\n"
     ]
    },
    {
     "name": "stdout",
     "output_type": "stream",
     "text": [
      "Escaneando pagina 137 de 1012\n",
      "Scraping: https://www.mediamarkt.es/es/category/_cables-euroconector-702084.html\n"
     ]
    },
    {
     "name": "stderr",
     "output_type": "stream",
     "text": [
      "0it [00:00, ?it/s]\n"
     ]
    },
    {
     "name": "stdout",
     "output_type": "stream",
     "text": [
      "Escaneando pagina 138 de 1012\n",
      "Scraping: https://www.mediamarkt.es/es/category/_cables-de-antena-702085.html\n",
      "Número de páginas: 4\n"
     ]
    },
    {
     "name": "stderr",
     "output_type": "stream",
     "text": [
      "100%|██████████| 4/4 [00:04<00:00,  1.19s/it]\n"
     ]
    },
    {
     "name": "stdout",
     "output_type": "stream",
     "text": [
      "Escaneando pagina 139 de 1012\n",
      "Scraping: https://www.mediamarkt.es/es/category/_cables-de-v%C3%ADdeo-702086.html\n"
     ]
    },
    {
     "name": "stderr",
     "output_type": "stream",
     "text": [
      "0it [00:00, ?it/s]\n"
     ]
    },
    {
     "name": "stdout",
     "output_type": "stream",
     "text": [
      "Escaneando pagina 140 de 1012\n",
      "Scraping: https://www.mediamarkt.es/es/category/_adaptadores-audio-video-702087.html\n"
     ]
    },
    {
     "name": "stderr",
     "output_type": "stream",
     "text": [
      "0it [00:00, ?it/s]\n"
     ]
    },
    {
     "name": "stdout",
     "output_type": "stream",
     "text": [
      "Escaneando pagina 141 de 1012\n",
      "Scraping: https://www.mediamarkt.es/es/category/_limpieza-televisi%C3%B3n-701222.html\n"
     ]
    },
    {
     "name": "stderr",
     "output_type": "stream",
     "text": [
      "0it [00:00, ?it/s]\n"
     ]
    },
    {
     "name": "stdout",
     "output_type": "stream",
     "text": [
      "Escaneando pagina 142 de 1012\n",
      "Scraping: https://www.mediamarkt.es/es/category/_audio-y-hifi-701131.html\n"
     ]
    },
    {
     "name": "stderr",
     "output_type": "stream",
     "text": [
      "0it [00:00, ?it/s]\n"
     ]
    },
    {
     "name": "stdout",
     "output_type": "stream",
     "text": [
      "Escaneando pagina 143 de 1012\n",
      "Scraping: https://www.mediamarkt.es/es/category/_altavoces-hifi-701223.html\n",
      "Número de páginas: 37\n"
     ]
    },
    {
     "name": "stderr",
     "output_type": "stream",
     "text": [
      "100%|██████████| 37/37 [01:00<00:00,  1.42s/it]\n"
     ]
    },
    {
     "name": "stdout",
     "output_type": "stream",
     "text": [
      "Escaneando pagina 144 de 1012\n",
      "Scraping: https://www.mediamarkt.es/es/category/_altavoces-inal%C3%A1mbricos-702088.html\n",
      "Número de páginas: 19\n"
     ]
    },
    {
     "name": "stderr",
     "output_type": "stream",
     "text": [
      "100%|██████████| 19/19 [00:29<00:00,  1.41s/it]\n"
     ]
    },
    {
     "name": "stdout",
     "output_type": "stream",
     "text": [
      "Escaneando pagina 145 de 1012\n",
      "Scraping: https://www.mediamarkt.es/es/category/_altavoces-inteligentes-716009.html\n",
      "Número de páginas: 2\n"
     ]
    },
    {
     "name": "stderr",
     "output_type": "stream",
     "text": [
      "100%|██████████| 2/2 [00:02<00:00,  1.16s/it]\n"
     ]
    },
    {
     "name": "stdout",
     "output_type": "stream",
     "text": [
      "Escaneando pagina 146 de 1012\n",
      "Scraping: https://www.mediamarkt.es/es/category/_altavoces-para-pc-702089.html\n",
      "Número de páginas: 3\n"
     ]
    },
    {
     "name": "stderr",
     "output_type": "stream",
     "text": [
      "100%|██████████| 3/3 [00:04<00:00,  1.40s/it]\n"
     ]
    },
    {
     "name": "stdout",
     "output_type": "stream",
     "text": [
      "Escaneando pagina 147 de 1012\n",
      "Scraping: https://www.mediamarkt.es/es/category/_altavoces-bluetooth-702579.html\n"
     ]
    },
    {
     "name": "stderr",
     "output_type": "stream",
     "text": [
      "0it [00:00, ?it/s]\n"
     ]
    },
    {
     "name": "stdout",
     "output_type": "stream",
     "text": [
      "Escaneando pagina 148 de 1012\n",
      "Scraping: https://www.mediamarkt.es/es/category/_altavoces-5-1-702580.html\n"
     ]
    },
    {
     "name": "stderr",
     "output_type": "stream",
     "text": [
      "0it [00:00, ?it/s]\n"
     ]
    },
    {
     "name": "stdout",
     "output_type": "stream",
     "text": [
      "Escaneando pagina 149 de 1012\n",
      "Scraping: https://www.mediamarkt.es/es/category/_altavoces-2-1-702581.html\n"
     ]
    },
    {
     "name": "stderr",
     "output_type": "stream",
     "text": [
      "0it [00:00, ?it/s]\n"
     ]
    },
    {
     "name": "stdout",
     "output_type": "stream",
     "text": [
      "Escaneando pagina 150 de 1012\n",
      "Scraping: https://www.mediamarkt.es/es/category/_altavoces-jack-3-5-702582.html\n"
     ]
    },
    {
     "name": "stderr",
     "output_type": "stream",
     "text": [
      "0it [00:00, ?it/s]\n"
     ]
    },
    {
     "name": "stdout",
     "output_type": "stream",
     "text": [
      "Escaneando pagina 151 de 1012\n",
      "Scraping: https://www.mediamarkt.es/es/category/_altavoces-usb-702583.html\n"
     ]
    },
    {
     "name": "stderr",
     "output_type": "stream",
     "text": [
      "0it [00:00, ?it/s]\n"
     ]
    },
    {
     "name": "stdout",
     "output_type": "stream",
     "text": [
      "Escaneando pagina 152 de 1012\n",
      "Scraping: https://www.mediamarkt.es/es/category/_sistema-multiroom-702090.html\n",
      "Número de páginas: 5\n"
     ]
    },
    {
     "name": "stderr",
     "output_type": "stream",
     "text": [
      "100%|██████████| 5/5 [00:07<00:00,  1.43s/it]\n"
     ]
    },
    {
     "name": "stdout",
     "output_type": "stream",
     "text": [
      "Escaneando pagina 153 de 1012\n",
      "Scraping: https://www.mediamarkt.es/es/category/_altavoces-multiroom-702584.html\n",
      "Número de páginas: 2\n"
     ]
    },
    {
     "name": "stderr",
     "output_type": "stream",
     "text": [
      "100%|██████████| 2/2 [00:02<00:00,  1.32s/it]\n"
     ]
    },
    {
     "name": "stdout",
     "output_type": "stream",
     "text": [
      "Escaneando pagina 154 de 1012\n",
      "Scraping: https://www.mediamarkt.es/es/category/_barras-de-sonido-multiroom-702585.html\n"
     ]
    },
    {
     "name": "stderr",
     "output_type": "stream",
     "text": [
      "0it [00:00, ?it/s]\n"
     ]
    },
    {
     "name": "stdout",
     "output_type": "stream",
     "text": [
      "Escaneando pagina 155 de 1012\n",
      "Scraping: https://www.mediamarkt.es/es/category/_amplificadores-multiroom-702586.html\n"
     ]
    },
    {
     "name": "stderr",
     "output_type": "stream",
     "text": [
      "0it [00:00, ?it/s]\n"
     ]
    },
    {
     "name": "stdout",
     "output_type": "stream",
     "text": [
      "Escaneando pagina 156 de 1012\n",
      "Scraping: https://www.mediamarkt.es/es/category/_torres-de-sonido-702091.html\n"
     ]
    },
    {
     "name": "stderr",
     "output_type": "stream",
     "text": [
      "0it [00:00, ?it/s]\n"
     ]
    },
    {
     "name": "stdout",
     "output_type": "stream",
     "text": [
      "Escaneando pagina 157 de 1012\n",
      "Scraping: https://www.mediamarkt.es/es/category/_altavoces-hifi-est%C3%A9reo-702092.html\n",
      "Número de páginas: 6\n"
     ]
    },
    {
     "name": "stderr",
     "output_type": "stream",
     "text": [
      "100%|██████████| 6/6 [00:05<00:00,  1.01it/s]\n"
     ]
    },
    {
     "name": "stdout",
     "output_type": "stream",
     "text": [
      "Escaneando pagina 158 de 1012\n",
      "Scraping: https://www.mediamarkt.es/es/category/_altavoces-exterior-702587.html\n",
      "Número de páginas: 2\n"
     ]
    },
    {
     "name": "stderr",
     "output_type": "stream",
     "text": [
      "100%|██████████| 2/2 [00:02<00:00,  1.01it/s]\n"
     ]
    },
    {
     "name": "stdout",
     "output_type": "stream",
     "text": [
      "Escaneando pagina 159 de 1012\n",
      "Scraping: https://www.mediamarkt.es/es/category/_altavoces-autoamplificados-702588.html\n"
     ]
    },
    {
     "name": "stderr",
     "output_type": "stream",
     "text": [
      "0it [00:00, ?it/s]\n"
     ]
    },
    {
     "name": "stdout",
     "output_type": "stream",
     "text": [
      "Escaneando pagina 160 de 1012\n",
      "Scraping: https://www.mediamarkt.es/es/category/_altavoces-de-suelo-702589.html\n"
     ]
    },
    {
     "name": "stderr",
     "output_type": "stream",
     "text": [
      "0it [00:00, ?it/s]\n"
     ]
    },
    {
     "name": "stdout",
     "output_type": "stream",
     "text": [
      "Escaneando pagina 161 de 1012\n",
      "Scraping: https://www.mediamarkt.es/es/category/_altavoces-de-estanter%C3%ADa-702590.html\n",
      "Número de páginas: 6\n"
     ]
    },
    {
     "name": "stderr",
     "output_type": "stream",
     "text": [
      "100%|██████████| 6/6 [00:08<00:00,  1.38s/it]\n"
     ]
    },
    {
     "name": "stdout",
     "output_type": "stream",
     "text": [
      "Escaneando pagina 162 de 1012\n",
      "Scraping: https://www.mediamarkt.es/es/category/_altavoces-gran-potencia-702093.html\n",
      "Número de páginas: 2\n"
     ]
    },
    {
     "name": "stderr",
     "output_type": "stream",
     "text": [
      "100%|██████████| 2/2 [00:02<00:00,  1.40s/it]\n"
     ]
    },
    {
     "name": "stdout",
     "output_type": "stream",
     "text": [
      "Escaneando pagina 163 de 1012\n",
      "Scraping: https://www.mediamarkt.es/es/category/_accesorios-para-altavoces-702095.html\n",
      "Número de páginas: 7\n"
     ]
    },
    {
     "name": "stderr",
     "output_type": "stream",
     "text": [
      "100%|██████████| 7/7 [00:09<00:00,  1.25s/it]\n"
     ]
    },
    {
     "name": "stdout",
     "output_type": "stream",
     "text": [
      "Escaneando pagina 164 de 1012\n",
      "Scraping: https://www.mediamarkt.es/es/category/_cables-de-audio-702591.html\n",
      "Número de páginas: 6\n"
     ]
    },
    {
     "name": "stderr",
     "output_type": "stream",
     "text": [
      "100%|██████████| 6/6 [00:07<00:00,  1.24s/it]\n"
     ]
    },
    {
     "name": "stdout",
     "output_type": "stream",
     "text": [
      "Escaneando pagina 165 de 1012\n",
      "Scraping: https://www.mediamarkt.es/es/category/_soportes-para-altavoces-702592.html\n"
     ]
    },
    {
     "name": "stderr",
     "output_type": "stream",
     "text": [
      "0it [00:00, ?it/s]\n"
     ]
    },
    {
     "name": "stdout",
     "output_type": "stream",
     "text": [
      "Escaneando pagina 166 de 1012\n",
      "Scraping: https://www.mediamarkt.es/es/category/_accesorios-multiroom-702593.html\n"
     ]
    },
    {
     "name": "stderr",
     "output_type": "stream",
     "text": [
      "0it [00:00, ?it/s]\n"
     ]
    },
    {
     "name": "stdout",
     "output_type": "stream",
     "text": [
      "Escaneando pagina 167 de 1012\n",
      "Scraping: https://www.mediamarkt.es/es/category/_fundas-para-altavoces-702594.html\n"
     ]
    },
    {
     "name": "stderr",
     "output_type": "stream",
     "text": [
      "0it [00:00, ?it/s]\n"
     ]
    },
    {
     "name": "stdout",
     "output_type": "stream",
     "text": [
      "Escaneando pagina 168 de 1012\n",
      "Scraping: https://www.mediamarkt.es/es/category/_altavoces-resistentes-al-agua-711009.html\n"
     ]
    },
    {
     "name": "stderr",
     "output_type": "stream",
     "text": [
      "0it [00:00, ?it/s]\n"
     ]
    },
    {
     "name": "stdout",
     "output_type": "stream",
     "text": [
      "Escaneando pagina 169 de 1012\n",
      "Scraping: https://www.mediamarkt.es/es/category/_home-cinema-701224.html\n",
      "Número de páginas: 2\n"
     ]
    },
    {
     "name": "stderr",
     "output_type": "stream",
     "text": [
      "100%|██████████| 2/2 [00:02<00:00,  1.19s/it]\n"
     ]
    },
    {
     "name": "stdout",
     "output_type": "stream",
     "text": [
      "Escaneando pagina 170 de 1012\n",
      "Scraping: https://www.mediamarkt.es/es/category/_home-cinema-2-1-canales-702096.html\n"
     ]
    },
    {
     "name": "stderr",
     "output_type": "stream",
     "text": [
      "0it [00:00, ?it/s]\n"
     ]
    },
    {
     "name": "stdout",
     "output_type": "stream",
     "text": [
      "Escaneando pagina 171 de 1012\n",
      "Scraping: https://www.mediamarkt.es/es/category/_home-cinema-5-1-canales-702097.html\n"
     ]
    },
    {
     "name": "stderr",
     "output_type": "stream",
     "text": [
      "0it [00:00, ?it/s]\n"
     ]
    },
    {
     "name": "stdout",
     "output_type": "stream",
     "text": [
      "Escaneando pagina 172 de 1012\n",
      "Scraping: https://www.mediamarkt.es/es/category/_subwoofer-702099.html\n"
     ]
    },
    {
     "name": "stderr",
     "output_type": "stream",
     "text": [
      "0it [00:00, ?it/s]\n"
     ]
    },
    {
     "name": "stdout",
     "output_type": "stream",
     "text": [
      "Escaneando pagina 173 de 1012\n",
      "Scraping: https://www.mediamarkt.es/es/category/_barras-de-sonido-701225.html\n",
      "Número de páginas: 3\n"
     ]
    },
    {
     "name": "stderr",
     "output_type": "stream",
     "text": [
      "100%|██████████| 3/3 [00:04<00:00,  1.58s/it]\n"
     ]
    },
    {
     "name": "stdout",
     "output_type": "stream",
     "text": [
      "Escaneando pagina 174 de 1012\n",
      "Scraping: https://www.mediamarkt.es/es/category/_barras-sonido-con-subwoofer-702100.html\n",
      "Número de páginas: 3\n"
     ]
    },
    {
     "name": "stderr",
     "output_type": "stream",
     "text": [
      "100%|██████████| 3/3 [00:03<00:00,  1.19s/it]\n"
     ]
    },
    {
     "name": "stdout",
     "output_type": "stream",
     "text": [
      "Escaneando pagina 175 de 1012\n",
      "Scraping: https://www.mediamarkt.es/es/category/_sin-subwoofer-702101.html\n"
     ]
    },
    {
     "name": "stderr",
     "output_type": "stream",
     "text": [
      "0it [00:00, ?it/s]\n"
     ]
    },
    {
     "name": "stdout",
     "output_type": "stream",
     "text": [
      "Escaneando pagina 176 de 1012\n",
      "Scraping: https://www.mediamarkt.es/es/category/_reproductores-de-m%C3%BAsica-701226.html\n",
      "Número de páginas: 3\n"
     ]
    },
    {
     "name": "stderr",
     "output_type": "stream",
     "text": [
      "100%|██████████| 3/3 [00:03<00:00,  1.15s/it]\n"
     ]
    },
    {
     "name": "stdout",
     "output_type": "stream",
     "text": [
      "Escaneando pagina 177 de 1012\n",
      "Scraping: https://www.mediamarkt.es/es/category/_ipods-702102.html\n"
     ]
    },
    {
     "name": "stderr",
     "output_type": "stream",
     "text": [
      "0it [00:00, ?it/s]\n"
     ]
    },
    {
     "name": "stdout",
     "output_type": "stream",
     "text": [
      "Escaneando pagina 178 de 1012\n",
      "Scraping: https://www.mediamarkt.es/es/category/_mp3-702103.html\n"
     ]
    },
    {
     "name": "stderr",
     "output_type": "stream",
     "text": [
      "0it [00:00, ?it/s]\n"
     ]
    },
    {
     "name": "stdout",
     "output_type": "stream",
     "text": [
      "Escaneando pagina 179 de 1012\n",
      "Scraping: https://www.mediamarkt.es/es/category/_mp4-mp5-702104.html\n",
      "Número de páginas: 2\n"
     ]
    },
    {
     "name": "stderr",
     "output_type": "stream",
     "text": [
      "100%|██████████| 2/2 [00:02<00:00,  1.25s/it]\n"
     ]
    },
    {
     "name": "stdout",
     "output_type": "stream",
     "text": [
      "Escaneando pagina 180 de 1012\n",
      "Scraping: https://www.mediamarkt.es/es/category/_mp3-mp4-deportivos-702105.html\n"
     ]
    },
    {
     "name": "stderr",
     "output_type": "stream",
     "text": [
      "0it [00:00, ?it/s]\n"
     ]
    },
    {
     "name": "stdout",
     "output_type": "stream",
     "text": [
      "Escaneando pagina 181 de 1012\n",
      "Scraping: https://www.mediamarkt.es/es/category/_auriculares-701227.html\n"
     ]
    },
    {
     "name": "stderr",
     "output_type": "stream",
     "text": [
      "0it [00:00, ?it/s]\n"
     ]
    },
    {
     "name": "stdout",
     "output_type": "stream",
     "text": [
      "Escaneando pagina 182 de 1012\n",
      "Scraping: https://www.mediamarkt.es/es/category/_auriculares-inal%C3%A1mbricos-702109.html\n",
      "Número de páginas: 15\n"
     ]
    },
    {
     "name": "stderr",
     "output_type": "stream",
     "text": [
      "100%|██████████| 15/15 [00:16<00:00,  1.02s/it]\n"
     ]
    },
    {
     "name": "stdout",
     "output_type": "stream",
     "text": [
      "Escaneando pagina 183 de 1012\n",
      "Scraping: https://www.mediamarkt.es/es/category/_auriculares-true-wireless-715087.html\n",
      "Número de páginas: 2\n"
     ]
    },
    {
     "name": "stderr",
     "output_type": "stream",
     "text": [
      "100%|██████████| 2/2 [00:02<00:00,  1.13s/it]\n"
     ]
    },
    {
     "name": "stdout",
     "output_type": "stream",
     "text": [
      "Escaneando pagina 184 de 1012\n",
      "Scraping: https://www.mediamarkt.es/es/category/_auriculares-de-bot%C3%B3n-702108.html\n",
      "Número de páginas: 16\n"
     ]
    },
    {
     "name": "stderr",
     "output_type": "stream",
     "text": [
      "100%|██████████| 16/16 [00:25<00:00,  1.62s/it]\n"
     ]
    },
    {
     "name": "stdout",
     "output_type": "stream",
     "text": [
      "Escaneando pagina 185 de 1012\n",
      "Scraping: https://www.mediamarkt.es/es/category/_auriculares-con-cable-702107.html\n",
      "Número de páginas: 10\n"
     ]
    },
    {
     "name": "stderr",
     "output_type": "stream",
     "text": [
      "100%|██████████| 10/10 [00:13<00:00,  1.47s/it]\n"
     ]
    },
    {
     "name": "stdout",
     "output_type": "stream",
     "text": [
      "Escaneando pagina 186 de 1012\n",
      "Scraping: https://www.mediamarkt.es/es/category/_auric-cancelaci%C3%B3n-ruido-702110.html\n"
     ]
    },
    {
     "name": "stderr",
     "output_type": "stream",
     "text": [
      "0it [00:00, ?it/s]\n"
     ]
    },
    {
     "name": "stdout",
     "output_type": "stream",
     "text": [
      "Escaneando pagina 187 de 1012\n",
      "Scraping: https://www.mediamarkt.es/es/category/_auriculares-gaming-702106.html\n",
      "Número de páginas: 6\n"
     ]
    },
    {
     "name": "stderr",
     "output_type": "stream",
     "text": [
      "100%|██████████| 6/6 [00:09<00:00,  1.60s/it]\n"
     ]
    },
    {
     "name": "stdout",
     "output_type": "stream",
     "text": [
      "Escaneando pagina 188 de 1012\n",
      "Scraping: https://www.mediamarkt.es/es/category/_auriculares-deportivos-702112.html\n",
      "Número de páginas: 9\n"
     ]
    },
    {
     "name": "stderr",
     "output_type": "stream",
     "text": [
      "100%|██████████| 9/9 [00:13<00:00,  1.51s/it]\n"
     ]
    },
    {
     "name": "stdout",
     "output_type": "stream",
     "text": [
      "Escaneando pagina 189 de 1012\n",
      "Scraping: https://www.mediamarkt.es/es/category/_adaptadores-auriculares-702113.html\n"
     ]
    },
    {
     "name": "stderr",
     "output_type": "stream",
     "text": [
      "0it [00:00, ?it/s]\n"
     ]
    },
    {
     "name": "stdout",
     "output_type": "stream",
     "text": [
      "Escaneando pagina 190 de 1012\n",
      "Scraping: https://www.mediamarkt.es/es/category/_minicadenas-microcadenas-701228.html\n",
      "Número de páginas: 3\n"
     ]
    },
    {
     "name": "stderr",
     "output_type": "stream",
     "text": [
      "100%|██████████| 3/3 [00:04<00:00,  1.57s/it]\n"
     ]
    },
    {
     "name": "stdout",
     "output_type": "stream",
     "text": [
      "Escaneando pagina 191 de 1012\n",
      "Scraping: https://www.mediamarkt.es/es/category/_hifi-701229.html\n",
      "Número de páginas: 8\n"
     ]
    },
    {
     "name": "stderr",
     "output_type": "stream",
     "text": [
      "100%|██████████| 8/8 [00:12<00:00,  1.48s/it]\n"
     ]
    },
    {
     "name": "stdout",
     "output_type": "stream",
     "text": [
      "Escaneando pagina 192 de 1012\n",
      "Scraping: https://www.mediamarkt.es/es/category/_receptores-av-702114.html\n",
      "Número de páginas: 2\n"
     ]
    },
    {
     "name": "stderr",
     "output_type": "stream",
     "text": [
      "100%|██████████| 2/2 [00:02<00:00,  1.26s/it]\n"
     ]
    },
    {
     "name": "stdout",
     "output_type": "stream",
     "text": [
      "Escaneando pagina 193 de 1012\n",
      "Scraping: https://www.mediamarkt.es/es/category/_amplificador-est%C3%A9reo-702115.html\n",
      "Número de páginas: 3\n"
     ]
    },
    {
     "name": "stderr",
     "output_type": "stream",
     "text": [
      "100%|██████████| 3/3 [00:03<00:00,  1.34s/it]\n"
     ]
    },
    {
     "name": "stdout",
     "output_type": "stream",
     "text": [
      "Escaneando pagina 194 de 1012\n",
      "Scraping: https://www.mediamarkt.es/es/category/_tocadiscos-702116.html\n",
      "Número de páginas: 2\n"
     ]
    },
    {
     "name": "stderr",
     "output_type": "stream",
     "text": [
      "100%|██████████| 2/2 [00:02<00:00,  1.29s/it]\n"
     ]
    },
    {
     "name": "stdout",
     "output_type": "stream",
     "text": [
      "Escaneando pagina 195 de 1012\n",
      "Scraping: https://www.mediamarkt.es/es/category/_lector-cd-702117.html\n"
     ]
    },
    {
     "name": "stderr",
     "output_type": "stream",
     "text": [
      "0it [00:00, ?it/s]\n"
     ]
    },
    {
     "name": "stdout",
     "output_type": "stream",
     "text": [
      "Escaneando pagina 196 de 1012\n",
      "Scraping: https://www.mediamarkt.es/es/category/_micr%C3%B3fonos-702118.html\n",
      "Número de páginas: 2\n"
     ]
    },
    {
     "name": "stderr",
     "output_type": "stream",
     "text": [
      "100%|██████████| 2/2 [00:02<00:00,  1.14s/it]\n"
     ]
    },
    {
     "name": "stdout",
     "output_type": "stream",
     "text": [
      "Escaneando pagina 197 de 1012\n",
      "Scraping: https://www.mediamarkt.es/es/category/_packs-hifi-702119.html\n"
     ]
    },
    {
     "name": "stderr",
     "output_type": "stream",
     "text": [
      "0it [00:00, ?it/s]\n"
     ]
    },
    {
     "name": "stdout",
     "output_type": "stream",
     "text": [
      "Escaneando pagina 198 de 1012\n",
      "Scraping: https://www.mediamarkt.es/es/category/_zona-dj-701230.html\n",
      "Número de páginas: 2\n"
     ]
    },
    {
     "name": "stderr",
     "output_type": "stream",
     "text": [
      "100%|██████████| 2/2 [00:03<00:00,  1.68s/it]\n"
     ]
    },
    {
     "name": "stdout",
     "output_type": "stream",
     "text": [
      "Escaneando pagina 199 de 1012\n",
      "Scraping: https://www.mediamarkt.es/es/category/_controladores-dj-702120.html\n"
     ]
    },
    {
     "name": "stderr",
     "output_type": "stream",
     "text": [
      "0it [00:00, ?it/s]\n"
     ]
    },
    {
     "name": "stdout",
     "output_type": "stream",
     "text": [
      "Escaneando pagina 200 de 1012\n",
      "Scraping: https://www.mediamarkt.es/es/category/_mezcladoras-dj-702121.html\n"
     ]
    },
    {
     "name": "stderr",
     "output_type": "stream",
     "text": [
      "0it [00:00, ?it/s]\n"
     ]
    },
    {
     "name": "stdout",
     "output_type": "stream",
     "text": [
      "Escaneando pagina 201 de 1012\n",
      "Scraping: https://www.mediamarkt.es/es/category/_plato-dj-702122.html\n"
     ]
    },
    {
     "name": "stderr",
     "output_type": "stream",
     "text": [
      "0it [00:00, ?it/s]\n"
     ]
    },
    {
     "name": "stdout",
     "output_type": "stream",
     "text": [
      "Escaneando pagina 202 de 1012\n",
      "Scraping: https://www.mediamarkt.es/es/category/_altavoces-dj-702123.html\n"
     ]
    },
    {
     "name": "stderr",
     "output_type": "stream",
     "text": [
      "0it [00:00, ?it/s]\n"
     ]
    },
    {
     "name": "stdout",
     "output_type": "stream",
     "text": [
      "Escaneando pagina 203 de 1012\n",
      "Scraping: https://www.mediamarkt.es/es/category/_iluminaci%C3%B3n-y-efectos-702125.html\n"
     ]
    },
    {
     "name": "stderr",
     "output_type": "stream",
     "text": [
      "0it [00:00, ?it/s]\n"
     ]
    },
    {
     "name": "stdout",
     "output_type": "stream",
     "text": [
      "Escaneando pagina 204 de 1012\n",
      "Scraping: https://www.mediamarkt.es/es/category/_accesorios-zona-dj-702126.html\n"
     ]
    },
    {
     "name": "stderr",
     "output_type": "stream",
     "text": [
      "0it [00:00, ?it/s]\n"
     ]
    },
    {
     "name": "stdout",
     "output_type": "stream",
     "text": [
      "Escaneando pagina 205 de 1012\n",
      "Scraping: https://www.mediamarkt.es/es/category/_radio-y-cd-port%C3%A1til-701231.html\n",
      "Número de páginas: 7\n"
     ]
    },
    {
     "name": "stderr",
     "output_type": "stream",
     "text": [
      "100%|██████████| 7/7 [00:10<00:00,  1.46s/it]\n"
     ]
    },
    {
     "name": "stdout",
     "output_type": "stream",
     "text": [
      "Escaneando pagina 206 de 1012\n",
      "Scraping: https://www.mediamarkt.es/es/category/_radio-port%C3%A1til-702127.html\n",
      "Número de páginas: 4\n"
     ]
    },
    {
     "name": "stderr",
     "output_type": "stream",
     "text": [
      "100%|██████████| 4/4 [00:05<00:00,  1.32s/it]\n"
     ]
    },
    {
     "name": "stdout",
     "output_type": "stream",
     "text": [
      "Escaneando pagina 207 de 1012\n",
      "Scraping: https://www.mediamarkt.es/es/category/_radio-cd-702128.html\n",
      "Número de páginas: 2\n"
     ]
    },
    {
     "name": "stderr",
     "output_type": "stream",
     "text": [
      "100%|██████████| 2/2 [00:02<00:00,  1.41s/it]\n"
     ]
    },
    {
     "name": "stdout",
     "output_type": "stream",
     "text": [
      "Escaneando pagina 208 de 1012\n",
      "Scraping: https://www.mediamarkt.es/es/category/_despertadores-702130.html\n",
      "Número de páginas: 3\n"
     ]
    },
    {
     "name": "stderr",
     "output_type": "stream",
     "text": [
      "100%|██████████| 3/3 [00:03<00:00,  1.34s/it]\n"
     ]
    },
    {
     "name": "stdout",
     "output_type": "stream",
     "text": [
      "Escaneando pagina 209 de 1012\n",
      "Scraping: https://www.mediamarkt.es/es/category/_grabadoras-de-voz-701232.html\n"
     ]
    },
    {
     "name": "stderr",
     "output_type": "stream",
     "text": [
      "0it [00:00, ?it/s]\n"
     ]
    },
    {
     "name": "stdout",
     "output_type": "stream",
     "text": [
      "Escaneando pagina 210 de 1012\n",
      "Scraping: https://www.mediamarkt.es/es/category/_car-audio-y-gps-701233.html\n"
     ]
    },
    {
     "name": "stderr",
     "output_type": "stream",
     "text": [
      "0it [00:00, ?it/s]\n"
     ]
    },
    {
     "name": "stdout",
     "output_type": "stream",
     "text": [
      "Escaneando pagina 211 de 1012\n",
      "Scraping: https://www.mediamarkt.es/es/category/_gps-702131.html\n",
      "Número de páginas: 2\n"
     ]
    },
    {
     "name": "stderr",
     "output_type": "stream",
     "text": [
      "100%|██████████| 2/2 [00:02<00:00,  1.08s/it]\n"
     ]
    },
    {
     "name": "stdout",
     "output_type": "stream",
     "text": [
      "Escaneando pagina 212 de 1012\n",
      "Scraping: https://www.mediamarkt.es/es/category/_coche-702595.html\n",
      "Número de páginas: 2\n"
     ]
    },
    {
     "name": "stderr",
     "output_type": "stream",
     "text": [
      "100%|██████████| 2/2 [00:01<00:00,  1.01it/s]\n"
     ]
    },
    {
     "name": "stdout",
     "output_type": "stream",
     "text": [
      "Escaneando pagina 213 de 1012\n",
      "Scraping: https://www.mediamarkt.es/es/category/_cami%C3%B3n-y-caravana-702596.html\n"
     ]
    },
    {
     "name": "stderr",
     "output_type": "stream",
     "text": [
      "0it [00:00, ?it/s]\n"
     ]
    },
    {
     "name": "stdout",
     "output_type": "stream",
     "text": [
      "Escaneando pagina 214 de 1012\n",
      "Scraping: https://www.mediamarkt.es/es/category/_autorradios-702132.html\n",
      "Número de páginas: 4\n"
     ]
    },
    {
     "name": "stderr",
     "output_type": "stream",
     "text": [
      "100%|██████████| 4/4 [00:05<00:00,  1.40s/it]\n"
     ]
    },
    {
     "name": "stdout",
     "output_type": "stream",
     "text": [
      "Escaneando pagina 215 de 1012\n",
      "Scraping: https://www.mediamarkt.es/es/category/_1-din-702599.html\n",
      "Número de páginas: 3\n"
     ]
    },
    {
     "name": "stderr",
     "output_type": "stream",
     "text": [
      "100%|██████████| 3/3 [00:04<00:00,  1.57s/it]\n"
     ]
    },
    {
     "name": "stdout",
     "output_type": "stream",
     "text": [
      "Escaneando pagina 216 de 1012\n",
      "Scraping: https://www.mediamarkt.es/es/category/_2-din-702600.html\n",
      "Número de páginas: 2\n"
     ]
    },
    {
     "name": "stderr",
     "output_type": "stream",
     "text": [
      "100%|██████████| 2/2 [00:02<00:00,  1.47s/it]\n"
     ]
    },
    {
     "name": "stdout",
     "output_type": "stream",
     "text": [
      "Escaneando pagina 217 de 1012\n",
      "Scraping: https://www.mediamarkt.es/es/category/_altavoces-y-subwoofers-702133.html\n",
      "Número de páginas: 6\n"
     ]
    },
    {
     "name": "stderr",
     "output_type": "stream",
     "text": [
      "100%|██████████| 6/6 [00:09<00:00,  1.59s/it]\n"
     ]
    },
    {
     "name": "stdout",
     "output_type": "stream",
     "text": [
      "Escaneando pagina 218 de 1012\n",
      "Scraping: https://www.mediamarkt.es/es/category/_etapa-de-potencia-702134.html\n",
      "Número de páginas: 2\n"
     ]
    },
    {
     "name": "stderr",
     "output_type": "stream",
     "text": [
      "100%|██████████| 2/2 [00:02<00:00,  1.46s/it]\n"
     ]
    },
    {
     "name": "stdout",
     "output_type": "stream",
     "text": [
      "Escaneando pagina 219 de 1012\n",
      "Scraping: https://www.mediamarkt.es/es/category/_dvd-coche-702135.html\n"
     ]
    },
    {
     "name": "stderr",
     "output_type": "stream",
     "text": [
      "0it [00:00, ?it/s]\n"
     ]
    },
    {
     "name": "stdout",
     "output_type": "stream",
     "text": [
      "Escaneando pagina 220 de 1012\n",
      "Scraping: https://www.mediamarkt.es/es/category/_c%C3%A1maras-para-coches-702136.html\n"
     ]
    },
    {
     "name": "stderr",
     "output_type": "stream",
     "text": [
      "0it [00:00, ?it/s]\n"
     ]
    },
    {
     "name": "stdout",
     "output_type": "stream",
     "text": [
      "Escaneando pagina 221 de 1012\n",
      "Scraping: https://www.mediamarkt.es/es/category/_avisadores-702137.html\n"
     ]
    },
    {
     "name": "stderr",
     "output_type": "stream",
     "text": [
      "0it [00:00, ?it/s]\n"
     ]
    },
    {
     "name": "stdout",
     "output_type": "stream",
     "text": [
      "Escaneando pagina 222 de 1012\n",
      "Scraping: https://www.mediamarkt.es/es/category/_soportes-coche-702138.html\n",
      "Número de páginas: 2\n"
     ]
    },
    {
     "name": "stderr",
     "output_type": "stream",
     "text": [
      "100%|██████████| 2/2 [00:01<00:00,  1.02s/it]\n"
     ]
    },
    {
     "name": "stdout",
     "output_type": "stream",
     "text": [
      "Escaneando pagina 223 de 1012\n",
      "Scraping: https://www.mediamarkt.es/es/category/_soportes-gps-702601.html\n"
     ]
    },
    {
     "name": "stderr",
     "output_type": "stream",
     "text": [
      "0it [00:00, ?it/s]\n"
     ]
    },
    {
     "name": "stdout",
     "output_type": "stream",
     "text": [
      "Escaneando pagina 224 de 1012\n",
      "Scraping: https://www.mediamarkt.es/es/category/_smartphone-702602.html\n"
     ]
    },
    {
     "name": "stderr",
     "output_type": "stream",
     "text": [
      "0it [00:00, ?it/s]\n"
     ]
    },
    {
     "name": "stdout",
     "output_type": "stream",
     "text": [
      "Escaneando pagina 225 de 1012\n",
      "Scraping: https://www.mediamarkt.es/es/category/_tablet-y-dvd-702603.html\n"
     ]
    },
    {
     "name": "stderr",
     "output_type": "stream",
     "text": [
      "0it [00:00, ?it/s]\n"
     ]
    },
    {
     "name": "stdout",
     "output_type": "stream",
     "text": [
      "Escaneando pagina 226 de 1012\n",
      "Scraping: https://www.mediamarkt.es/es/category/_accesorios-car-audio-y-gps-702139.html\n",
      "Número de páginas: 6\n"
     ]
    },
    {
     "name": "stderr",
     "output_type": "stream",
     "text": [
      "100%|██████████| 6/6 [00:08<00:00,  1.42s/it]\n"
     ]
    },
    {
     "name": "stdout",
     "output_type": "stream",
     "text": [
      "Escaneando pagina 227 de 1012\n",
      "Scraping: https://www.mediamarkt.es/es/category/_transmisores-fm-702604.html\n"
     ]
    },
    {
     "name": "stderr",
     "output_type": "stream",
     "text": [
      "0it [00:00, ?it/s]\n"
     ]
    },
    {
     "name": "stdout",
     "output_type": "stream",
     "text": [
      "Escaneando pagina 228 de 1012\n",
      "Scraping: https://www.mediamarkt.es/es/category/_cargadores-coche-702605.html\n"
     ]
    },
    {
     "name": "stderr",
     "output_type": "stream",
     "text": [
      "0it [00:00, ?it/s]\n"
     ]
    },
    {
     "name": "stdout",
     "output_type": "stream",
     "text": [
      "Escaneando pagina 229 de 1012\n",
      "Scraping: https://www.mediamarkt.es/es/category/_funda-gps-702606.html\n",
      "Número de páginas: 2\n"
     ]
    },
    {
     "name": "stderr",
     "output_type": "stream",
     "text": [
      "100%|██████████| 2/2 [00:03<00:00,  1.57s/it]\n"
     ]
    },
    {
     "name": "stdout",
     "output_type": "stream",
     "text": [
      "Escaneando pagina 230 de 1012\n",
      "Scraping: https://www.mediamarkt.es/es/category/_cable-coche-702607.html\n",
      "Número de páginas: 2\n"
     ]
    },
    {
     "name": "stderr",
     "output_type": "stream",
     "text": [
      "100%|██████████| 2/2 [00:02<00:00,  1.35s/it]\n"
     ]
    },
    {
     "name": "stdout",
     "output_type": "stream",
     "text": [
      "Escaneando pagina 231 de 1012\n",
      "Scraping: https://www.mediamarkt.es/es/category/_otros-702608.html\n"
     ]
    },
    {
     "name": "stderr",
     "output_type": "stream",
     "text": [
      "0it [00:00, ?it/s]\n"
     ]
    },
    {
     "name": "stdout",
     "output_type": "stream",
     "text": [
      "Escaneando pagina 232 de 1012\n",
      "Scraping: https://www.mediamarkt.es/es/category/_fotograf%C3%ADa-701129.html\n"
     ]
    },
    {
     "name": "stderr",
     "output_type": "stream",
     "text": [
      "0it [00:00, ?it/s]\n"
     ]
    },
    {
     "name": "stdout",
     "output_type": "stream",
     "text": [
      "Escaneando pagina 233 de 1012\n",
      "Scraping: https://www.mediamarkt.es/es/category/_drones-701208.html\n",
      "Número de páginas: 2\n"
     ]
    },
    {
     "name": "stderr",
     "output_type": "stream",
     "text": [
      "100%|██████████| 2/2 [00:02<00:00,  1.03s/it]\n"
     ]
    },
    {
     "name": "stdout",
     "output_type": "stream",
     "text": [
      "Escaneando pagina 234 de 1012\n",
      "Scraping: https://www.mediamarkt.es/es/category/_c%C3%A1maras-r%C3%A9flex-701197.html\n",
      "Número de páginas: 2\n"
     ]
    },
    {
     "name": "stderr",
     "output_type": "stream",
     "text": [
      "100%|██████████| 2/2 [00:02<00:00,  1.02s/it]\n"
     ]
    },
    {
     "name": "stdout",
     "output_type": "stream",
     "text": [
      "Escaneando pagina 235 de 1012\n",
      "Scraping: https://www.mediamarkt.es/es/category/_c%C3%A1maras-evil-701199.html\n",
      "Número de páginas: 4\n"
     ]
    },
    {
     "name": "stderr",
     "output_type": "stream",
     "text": [
      "100%|██████████| 4/4 [00:06<00:00,  1.62s/it]\n"
     ]
    },
    {
     "name": "stdout",
     "output_type": "stream",
     "text": [
      "Escaneando pagina 236 de 1012\n",
      "Scraping: https://www.mediamarkt.es/es/category/_c%C3%A1maras-bridge-701200.html\n"
     ]
    },
    {
     "name": "stderr",
     "output_type": "stream",
     "text": [
      "0it [00:00, ?it/s]\n"
     ]
    },
    {
     "name": "stdout",
     "output_type": "stream",
     "text": [
      "Escaneando pagina 237 de 1012\n",
      "Scraping: https://www.mediamarkt.es/es/category/_c%C3%A1maras-compactas-701198.html\n",
      "Número de páginas: 7\n"
     ]
    },
    {
     "name": "stderr",
     "output_type": "stream",
     "text": [
      "100%|██████████| 7/7 [00:12<00:00,  1.82s/it]\n"
     ]
    },
    {
     "name": "stdout",
     "output_type": "stream",
     "text": [
      "Escaneando pagina 238 de 1012\n",
      "Scraping: https://www.mediamarkt.es/es/category/_c%C3%A1mara-compacta-701504.html\n",
      "Número de páginas: 5\n"
     ]
    },
    {
     "name": "stderr",
     "output_type": "stream",
     "text": [
      "100%|██████████| 5/5 [00:05<00:00,  1.13s/it]\n"
     ]
    },
    {
     "name": "stdout",
     "output_type": "stream",
     "text": [
      "Escaneando pagina 239 de 1012\n",
      "Scraping: https://www.mediamarkt.es/es/category/_acu%C3%A1ticas-701505.html\n"
     ]
    },
    {
     "name": "stderr",
     "output_type": "stream",
     "text": [
      "0it [00:00, ?it/s]\n"
     ]
    },
    {
     "name": "stdout",
     "output_type": "stream",
     "text": [
      "Escaneando pagina 240 de 1012\n",
      "Scraping: https://www.mediamarkt.es/es/category/_instant%C3%A1neas-y-retro-701506.html\n",
      "Número de páginas: 2\n"
     ]
    },
    {
     "name": "stderr",
     "output_type": "stream",
     "text": [
      "100%|██████████| 2/2 [00:02<00:00,  1.09s/it]\n"
     ]
    },
    {
     "name": "stdout",
     "output_type": "stream",
     "text": [
      "Escaneando pagina 241 de 1012\n",
      "Scraping: https://www.mediamarkt.es/es/category/_c%C3%A1maras-deportivas-701201.html\n",
      "Número de páginas: 7\n"
     ]
    },
    {
     "name": "stderr",
     "output_type": "stream",
     "text": [
      "100%|██████████| 7/7 [00:09<00:00,  1.41s/it]\n"
     ]
    },
    {
     "name": "stdout",
     "output_type": "stream",
     "text": [
      "Escaneando pagina 242 de 1012\n",
      "Scraping: https://www.mediamarkt.es/es/category/_videoc%C3%A1maras-701507.html\n"
     ]
    },
    {
     "name": "stderr",
     "output_type": "stream",
     "text": [
      "0it [00:00, ?it/s]\n"
     ]
    },
    {
     "name": "stdout",
     "output_type": "stream",
     "text": [
      "Escaneando pagina 243 de 1012\n",
      "Scraping: https://www.mediamarkt.es/es/category/_videoc%C3%A1maras-deportivas-702008.html\n",
      "Número de páginas: 2\n"
     ]
    },
    {
     "name": "stderr",
     "output_type": "stream",
     "text": [
      "100%|██████████| 2/2 [00:02<00:00,  1.06s/it]\n"
     ]
    },
    {
     "name": "stdout",
     "output_type": "stream",
     "text": [
      "Escaneando pagina 244 de 1012\n",
      "Scraping: https://www.mediamarkt.es/es/category/_accesorios-videoc%C3%A1mara-702009.html\n",
      "Número de páginas: 6\n"
     ]
    },
    {
     "name": "stderr",
     "output_type": "stream",
     "text": [
      "100%|██████████| 6/6 [00:08<00:00,  1.47s/it]\n"
     ]
    },
    {
     "name": "stdout",
     "output_type": "stream",
     "text": [
      "Escaneando pagina 245 de 1012\n",
      "Scraping: https://www.mediamarkt.es/es/category/_instant%C3%A1neas-y-retro-701202.html\n",
      "Número de páginas: 3\n"
     ]
    },
    {
     "name": "stderr",
     "output_type": "stream",
     "text": [
      "100%|██████████| 3/3 [00:03<00:00,  1.31s/it]\n"
     ]
    },
    {
     "name": "stdout",
     "output_type": "stream",
     "text": [
      "Escaneando pagina 246 de 1012\n",
      "Scraping: https://www.mediamarkt.es/es/category/_instant%C3%A1neas-702010.html\n",
      "Número de páginas: 2\n"
     ]
    },
    {
     "name": "stderr",
     "output_type": "stream",
     "text": [
      "100%|██████████| 2/2 [00:01<00:00,  1.06it/s]\n"
     ]
    },
    {
     "name": "stdout",
     "output_type": "stream",
     "text": [
      "Escaneando pagina 247 de 1012\n",
      "Scraping: https://www.mediamarkt.es/es/category/_papel-fotogr%C3%A1fico-702011.html\n",
      "Número de páginas: 2\n"
     ]
    },
    {
     "name": "stderr",
     "output_type": "stream",
     "text": [
      "100%|██████████| 2/2 [00:02<00:00,  1.07s/it]\n"
     ]
    },
    {
     "name": "stdout",
     "output_type": "stream",
     "text": [
      "Escaneando pagina 248 de 1012\n",
      "Scraping: https://www.mediamarkt.es/es/category/_fundas-c%C3%A1mara-instant%C3%A1nea-702012.html\n"
     ]
    },
    {
     "name": "stderr",
     "output_type": "stream",
     "text": [
      "0it [00:00, ?it/s]\n"
     ]
    },
    {
     "name": "stdout",
     "output_type": "stream",
     "text": [
      "Escaneando pagina 249 de 1012\n",
      "Scraping: https://www.mediamarkt.es/es/category/_objetivos-c%C3%A1mara-701203.html\n",
      "Número de páginas: 8\n"
     ]
    },
    {
     "name": "stderr",
     "output_type": "stream",
     "text": [
      "100%|██████████| 8/8 [00:11<00:00,  1.34s/it]\n"
     ]
    },
    {
     "name": "stdout",
     "output_type": "stream",
     "text": [
      "Escaneando pagina 250 de 1012\n",
      "Scraping: https://www.mediamarkt.es/es/category/_objetivos-reflex-702013.html\n",
      "Número de páginas: 5\n"
     ]
    },
    {
     "name": "stderr",
     "output_type": "stream",
     "text": [
      "100%|██████████| 5/5 [00:08<00:00,  1.65s/it]\n"
     ]
    },
    {
     "name": "stdout",
     "output_type": "stream",
     "text": [
      "Escaneando pagina 251 de 1012\n",
      "Scraping: https://www.mediamarkt.es/es/category/_objetivos-evil-702014.html\n",
      "Número de páginas: 3\n"
     ]
    },
    {
     "name": "stderr",
     "output_type": "stream",
     "text": [
      "100%|██████████| 3/3 [00:03<00:00,  1.32s/it]\n"
     ]
    },
    {
     "name": "stdout",
     "output_type": "stream",
     "text": [
      "Escaneando pagina 252 de 1012\n",
      "Scraping: https://www.mediamarkt.es/es/category/_fundas-objetivo-702015.html\n"
     ]
    },
    {
     "name": "stderr",
     "output_type": "stream",
     "text": [
      "0it [00:00, ?it/s]\n"
     ]
    },
    {
     "name": "stdout",
     "output_type": "stream",
     "text": [
      "Escaneando pagina 253 de 1012\n",
      "Scraping: https://www.mediamarkt.es/es/category/_tr%C3%ADpodes-c%C3%A1mara-701204.html\n",
      "Número de páginas: 5\n"
     ]
    },
    {
     "name": "stderr",
     "output_type": "stream",
     "text": [
      "100%|██████████| 5/5 [00:06<00:00,  1.30s/it]\n"
     ]
    },
    {
     "name": "stdout",
     "output_type": "stream",
     "text": [
      "Escaneando pagina 254 de 1012\n",
      "Scraping: https://www.mediamarkt.es/es/category/_tr%C3%ADpodes-702016.html\n",
      "Número de páginas: 4\n"
     ]
    },
    {
     "name": "stderr",
     "output_type": "stream",
     "text": [
      "100%|██████████| 4/4 [00:05<00:00,  1.26s/it]\n"
     ]
    },
    {
     "name": "stdout",
     "output_type": "stream",
     "text": [
      "Escaneando pagina 255 de 1012\n",
      "Scraping: https://www.mediamarkt.es/es/category/_monopies-702017.html\n"
     ]
    },
    {
     "name": "stderr",
     "output_type": "stream",
     "text": [
      "0it [00:00, ?it/s]\n"
     ]
    },
    {
     "name": "stdout",
     "output_type": "stream",
     "text": [
      "Escaneando pagina 256 de 1012\n",
      "Scraping: https://www.mediamarkt.es/es/category/_minitr%C3%ADpodes-702018.html\n"
     ]
    },
    {
     "name": "stderr",
     "output_type": "stream",
     "text": [
      "0it [00:00, ?it/s]\n"
     ]
    },
    {
     "name": "stdout",
     "output_type": "stream",
     "text": [
      "Escaneando pagina 257 de 1012\n",
      "Scraping: https://www.mediamarkt.es/es/category/_r%C3%B3tulas-702019.html\n"
     ]
    },
    {
     "name": "stderr",
     "output_type": "stream",
     "text": [
      "0it [00:00, ?it/s]\n"
     ]
    },
    {
     "name": "stdout",
     "output_type": "stream",
     "text": [
      "Escaneando pagina 258 de 1012\n",
      "Scraping: https://www.mediamarkt.es/es/category/_adaptadores-702020.html\n"
     ]
    },
    {
     "name": "stderr",
     "output_type": "stream",
     "text": [
      "0it [00:00, ?it/s]\n"
     ]
    },
    {
     "name": "stdout",
     "output_type": "stream",
     "text": [
      "Escaneando pagina 259 de 1012\n",
      "Scraping: https://www.mediamarkt.es/es/category/_empu%C3%B1aduras-702021.html\n"
     ]
    },
    {
     "name": "stderr",
     "output_type": "stream",
     "text": [
      "0it [00:00, ?it/s]\n"
     ]
    },
    {
     "name": "stdout",
     "output_type": "stream",
     "text": [
      "Escaneando pagina 260 de 1012\n",
      "Scraping: https://www.mediamarkt.es/es/category/_flashes-701205.html\n"
     ]
    },
    {
     "name": "stderr",
     "output_type": "stream",
     "text": [
      "0it [00:00, ?it/s]\n"
     ]
    },
    {
     "name": "stdout",
     "output_type": "stream",
     "text": [
      "Escaneando pagina 261 de 1012\n",
      "Scraping: https://www.mediamarkt.es/es/category/_flash-702022.html\n"
     ]
    },
    {
     "name": "stderr",
     "output_type": "stream",
     "text": [
      "0it [00:00, ?it/s]\n"
     ]
    },
    {
     "name": "stdout",
     "output_type": "stream",
     "text": [
      "Escaneando pagina 262 de 1012\n",
      "Scraping: https://www.mediamarkt.es/es/category/_accesorios-flash-702023.html\n"
     ]
    },
    {
     "name": "stderr",
     "output_type": "stream",
     "text": [
      "0it [00:00, ?it/s]\n"
     ]
    },
    {
     "name": "stdout",
     "output_type": "stream",
     "text": [
      "Escaneando pagina 263 de 1012\n",
      "Scraping: https://www.mediamarkt.es/es/category/_accesorios-foto-701206.html\n",
      "Número de páginas: 27\n"
     ]
    },
    {
     "name": "stderr",
     "output_type": "stream",
     "text": [
      "100%|██████████| 27/27 [00:36<00:00,  1.08s/it]\n"
     ]
    },
    {
     "name": "stdout",
     "output_type": "stream",
     "text": [
      "Escaneando pagina 264 de 1012\n",
      "Scraping: https://www.mediamarkt.es/es/category/_acc-c%C3%A1mara-deportiva-702024.html\n",
      "Número de páginas: 4\n"
     ]
    },
    {
     "name": "stderr",
     "output_type": "stream",
     "text": [
      "100%|██████████| 4/4 [00:04<00:00,  1.10s/it]\n"
     ]
    },
    {
     "name": "stdout",
     "output_type": "stream",
     "text": [
      "Escaneando pagina 265 de 1012\n",
      "Scraping: https://www.mediamarkt.es/es/category/_soportes-c%C3%A1mara-702537.html\n",
      "Número de páginas: 2\n"
     ]
    },
    {
     "name": "stderr",
     "output_type": "stream",
     "text": [
      "100%|██████████| 2/2 [00:02<00:00,  1.28s/it]\n"
     ]
    },
    {
     "name": "stdout",
     "output_type": "stream",
     "text": [
      "Escaneando pagina 266 de 1012\n",
      "Scraping: https://www.mediamarkt.es/es/category/_carcasas-702538.html\n"
     ]
    },
    {
     "name": "stderr",
     "output_type": "stream",
     "text": [
      "0it [00:00, ?it/s]\n"
     ]
    },
    {
     "name": "stdout",
     "output_type": "stream",
     "text": [
      "Escaneando pagina 267 de 1012\n",
      "Scraping: https://www.mediamarkt.es/es/category/_palos-702539.html\n"
     ]
    },
    {
     "name": "stderr",
     "output_type": "stream",
     "text": [
      "0it [00:00, ?it/s]\n"
     ]
    },
    {
     "name": "stdout",
     "output_type": "stream",
     "text": [
      "Escaneando pagina 268 de 1012\n",
      "Scraping: https://www.mediamarkt.es/es/category/_flotadores-702540.html\n"
     ]
    },
    {
     "name": "stderr",
     "output_type": "stream",
     "text": [
      "0it [00:00, ?it/s]\n"
     ]
    },
    {
     "name": "stdout",
     "output_type": "stream",
     "text": [
      "Escaneando pagina 269 de 1012\n",
      "Scraping: https://www.mediamarkt.es/es/category/_fundas-c%C3%A1mara-deportiva-702541.html\n"
     ]
    },
    {
     "name": "stderr",
     "output_type": "stream",
     "text": [
      "0it [00:00, ?it/s]\n"
     ]
    },
    {
     "name": "stdout",
     "output_type": "stream",
     "text": [
      "Escaneando pagina 270 de 1012\n",
      "Scraping: https://www.mediamarkt.es/es/category/_filtros-y-lentes-702542.html\n"
     ]
    },
    {
     "name": "stderr",
     "output_type": "stream",
     "text": [
      "0it [00:00, ?it/s]\n"
     ]
    },
    {
     "name": "stdout",
     "output_type": "stream",
     "text": [
      "Escaneando pagina 271 de 1012\n",
      "Scraping: https://www.mediamarkt.es/es/category/_control-remoto-702543.html\n"
     ]
    },
    {
     "name": "stderr",
     "output_type": "stream",
     "text": [
      "0it [00:00, ?it/s]\n"
     ]
    },
    {
     "name": "stdout",
     "output_type": "stream",
     "text": [
      "Escaneando pagina 272 de 1012\n",
      "Scraping: https://www.mediamarkt.es/es/category/_bater%C3%ADa-y-carga-702544.html\n"
     ]
    },
    {
     "name": "stderr",
     "output_type": "stream",
     "text": [
      "0it [00:00, ?it/s]\n"
     ]
    },
    {
     "name": "stdout",
     "output_type": "stream",
     "text": [
      "Escaneando pagina 273 de 1012\n",
      "Scraping: https://www.mediamarkt.es/es/category/_flash-camara-deportiva-702546.html\n"
     ]
    },
    {
     "name": "stderr",
     "output_type": "stream",
     "text": [
      "0it [00:00, ?it/s]\n"
     ]
    },
    {
     "name": "stdout",
     "output_type": "stream",
     "text": [
      "Escaneando pagina 274 de 1012\n",
      "Scraping: https://www.mediamarkt.es/es/category/_acc-foto-profesional-702025.html\n",
      "Número de páginas: 4\n"
     ]
    },
    {
     "name": "stderr",
     "output_type": "stream",
     "text": [
      "100%|██████████| 4/4 [00:05<00:00,  1.32s/it]\n"
     ]
    },
    {
     "name": "stdout",
     "output_type": "stream",
     "text": [
      "Escaneando pagina 275 de 1012\n",
      "Scraping: https://www.mediamarkt.es/es/category/_accesorios-para-flash-702547.html\n"
     ]
    },
    {
     "name": "stderr",
     "output_type": "stream",
     "text": [
      "0it [00:00, ?it/s]\n"
     ]
    },
    {
     "name": "stdout",
     "output_type": "stream",
     "text": [
      "Escaneando pagina 276 de 1012\n",
      "Scraping: https://www.mediamarkt.es/es/category/_iluminaci%C3%B3n-profesional-702548.html\n"
     ]
    },
    {
     "name": "stderr",
     "output_type": "stream",
     "text": [
      "0it [00:00, ?it/s]\n"
     ]
    },
    {
     "name": "stdout",
     "output_type": "stream",
     "text": [
      "Escaneando pagina 277 de 1012\n",
      "Scraping: https://www.mediamarkt.es/es/category/_disparadores-y-transmisores-702550.html\n"
     ]
    },
    {
     "name": "stderr",
     "output_type": "stream",
     "text": [
      "0it [00:00, ?it/s]\n"
     ]
    },
    {
     "name": "stdout",
     "output_type": "stream",
     "text": [
      "Escaneando pagina 278 de 1012\n",
      "Scraping: https://www.mediamarkt.es/es/category/_micr%C3%B3fonos-fotograf%C3%ADa-702551.html\n"
     ]
    },
    {
     "name": "stderr",
     "output_type": "stream",
     "text": [
      "0it [00:00, ?it/s]\n"
     ]
    },
    {
     "name": "stdout",
     "output_type": "stream",
     "text": [
      "Escaneando pagina 279 de 1012\n",
      "Scraping: https://www.mediamarkt.es/es/category/_limpieza-c%C3%A1mara-702552.html\n",
      "Número de páginas: 3\n"
     ]
    },
    {
     "name": "stderr",
     "output_type": "stream",
     "text": [
      "100%|██████████| 3/3 [00:03<00:00,  1.18s/it]\n"
     ]
    },
    {
     "name": "stdout",
     "output_type": "stream",
     "text": [
      "Escaneando pagina 280 de 1012\n",
      "Scraping: https://www.mediamarkt.es/es/category/_fundas-c%C3%A1maras-702026.html\n",
      "Número de páginas: 9\n"
     ]
    },
    {
     "name": "stderr",
     "output_type": "stream",
     "text": [
      "100%|██████████| 9/9 [00:13<00:00,  1.45s/it]\n"
     ]
    },
    {
     "name": "stdout",
     "output_type": "stream",
     "text": [
      "Escaneando pagina 281 de 1012\n",
      "Scraping: https://www.mediamarkt.es/es/category/_anal%C3%B3gicas-702553.html\n"
     ]
    },
    {
     "name": "stderr",
     "output_type": "stream",
     "text": [
      "0it [00:00, ?it/s]\n"
     ]
    },
    {
     "name": "stdout",
     "output_type": "stream",
     "text": [
      "Escaneando pagina 282 de 1012\n",
      "Scraping: https://www.mediamarkt.es/es/category/_fundas-c%C3%A1mara-compacta-702554.html\n"
     ]
    },
    {
     "name": "stderr",
     "output_type": "stream",
     "text": [
      "0it [00:00, ?it/s]\n"
     ]
    },
    {
     "name": "stdout",
     "output_type": "stream",
     "text": [
      "Escaneando pagina 283 de 1012\n",
      "Scraping: https://www.mediamarkt.es/es/category/_bridge-y-evil-702555.html\n",
      "Número de páginas: 2\n"
     ]
    },
    {
     "name": "stderr",
     "output_type": "stream",
     "text": [
      "100%|██████████| 2/2 [00:02<00:00,  1.46s/it]\n"
     ]
    },
    {
     "name": "stdout",
     "output_type": "stream",
     "text": [
      "Escaneando pagina 284 de 1012\n",
      "Scraping: https://www.mediamarkt.es/es/category/_fundas-y-correas-reflex-702556.html\n",
      "Número de páginas: 8\n"
     ]
    },
    {
     "name": "stderr",
     "output_type": "stream",
     "text": [
      "100%|██████████| 8/8 [00:10<00:00,  1.29s/it]\n"
     ]
    },
    {
     "name": "stdout",
     "output_type": "stream",
     "text": [
      "Escaneando pagina 285 de 1012\n",
      "Scraping: https://www.mediamarkt.es/es/category/_correas-702557.html\n"
     ]
    },
    {
     "name": "stderr",
     "output_type": "stream",
     "text": [
      "0it [00:00, ?it/s]\n"
     ]
    },
    {
     "name": "stdout",
     "output_type": "stream",
     "text": [
      "Escaneando pagina 286 de 1012\n",
      "Scraping: https://www.mediamarkt.es/es/category/_fundas-objetivos-702558.html\n"
     ]
    },
    {
     "name": "stderr",
     "output_type": "stream",
     "text": [
      "0it [00:00, ?it/s]\n"
     ]
    },
    {
     "name": "stdout",
     "output_type": "stream",
     "text": [
      "Escaneando pagina 287 de 1012\n",
      "Scraping: https://www.mediamarkt.es/es/category/_accesorios-videoc%C3%A1mara-702559.html\n"
     ]
    },
    {
     "name": "stderr",
     "output_type": "stream",
     "text": [
      "0it [00:00, ?it/s]\n"
     ]
    },
    {
     "name": "stdout",
     "output_type": "stream",
     "text": [
      "Escaneando pagina 288 de 1012\n",
      "Scraping: https://www.mediamarkt.es/es/category/_protectores-pantalla-c%C3%A1mara-702560.html\n"
     ]
    },
    {
     "name": "stderr",
     "output_type": "stream",
     "text": [
      "0it [00:00, ?it/s]\n"
     ]
    },
    {
     "name": "stdout",
     "output_type": "stream",
     "text": [
      "Escaneando pagina 289 de 1012\n",
      "Scraping: https://www.mediamarkt.es/es/category/_papel-fotogr%C3%A1fico-702027.html\n"
     ]
    },
    {
     "name": "stderr",
     "output_type": "stream",
     "text": [
      "0it [00:00, ?it/s]\n"
     ]
    },
    {
     "name": "stdout",
     "output_type": "stream",
     "text": [
      "Escaneando pagina 290 de 1012\n",
      "Scraping: https://www.mediamarkt.es/es/category/_papel-para-impresora-702561.html\n"
     ]
    },
    {
     "name": "stderr",
     "output_type": "stream",
     "text": [
      "0it [00:00, ?it/s]\n"
     ]
    },
    {
     "name": "stdout",
     "output_type": "stream",
     "text": [
      "Escaneando pagina 291 de 1012\n",
      "Scraping: https://www.mediamarkt.es/es/category/_papel-instant%C3%A1neo-702562.html\n"
     ]
    },
    {
     "name": "stderr",
     "output_type": "stream",
     "text": [
      "0it [00:00, ?it/s]\n"
     ]
    },
    {
     "name": "stdout",
     "output_type": "stream",
     "text": [
      "Escaneando pagina 292 de 1012\n",
      "Scraping: https://www.mediamarkt.es/es/category/_impresoras-y-escanners-702028.html\n"
     ]
    },
    {
     "name": "stderr",
     "output_type": "stream",
     "text": [
      "0it [00:00, ?it/s]\n"
     ]
    },
    {
     "name": "stdout",
     "output_type": "stream",
     "text": [
      "Escaneando pagina 293 de 1012\n",
      "Scraping: https://www.mediamarkt.es/es/category/_esc%C3%A1ner-fotogr%C3%A1fico-702563.html\n"
     ]
    },
    {
     "name": "stderr",
     "output_type": "stream",
     "text": [
      "0it [00:00, ?it/s]\n"
     ]
    },
    {
     "name": "stdout",
     "output_type": "stream",
     "text": [
      "Escaneando pagina 294 de 1012\n",
      "Scraping: https://www.mediamarkt.es/es/category/_impresoras-fotos-702564.html\n"
     ]
    },
    {
     "name": "stderr",
     "output_type": "stream",
     "text": [
      "0it [00:00, ?it/s]\n"
     ]
    },
    {
     "name": "stdout",
     "output_type": "stream",
     "text": [
      "Escaneando pagina 295 de 1012\n",
      "Scraping: https://www.mediamarkt.es/es/category/_filtros-y-tapas-702029.html\n",
      "Número de páginas: 4\n"
     ]
    },
    {
     "name": "stderr",
     "output_type": "stream",
     "text": [
      "100%|██████████| 4/4 [00:04<00:00,  1.14s/it]\n"
     ]
    },
    {
     "name": "stdout",
     "output_type": "stream",
     "text": [
      "Escaneando pagina 296 de 1012\n",
      "Scraping: https://www.mediamarkt.es/es/category/_filtros-uv-702565.html\n",
      "Número de páginas: 3\n"
     ]
    },
    {
     "name": "stderr",
     "output_type": "stream",
     "text": [
      "100%|██████████| 3/3 [00:05<00:00,  1.65s/it]\n"
     ]
    },
    {
     "name": "stdout",
     "output_type": "stream",
     "text": [
      "Escaneando pagina 297 de 1012\n",
      "Scraping: https://www.mediamarkt.es/es/category/_filtros-polarizados-702566.html\n"
     ]
    },
    {
     "name": "stderr",
     "output_type": "stream",
     "text": [
      "0it [00:00, ?it/s]\n"
     ]
    },
    {
     "name": "stdout",
     "output_type": "stream",
     "text": [
      "Escaneando pagina 298 de 1012\n",
      "Scraping: https://www.mediamarkt.es/es/category/_tapas-702567.html\n"
     ]
    },
    {
     "name": "stderr",
     "output_type": "stream",
     "text": [
      "0it [00:00, ?it/s]\n"
     ]
    },
    {
     "name": "stdout",
     "output_type": "stream",
     "text": [
      "Escaneando pagina 299 de 1012\n",
      "Scraping: https://www.mediamarkt.es/es/category/_accesorios-%C3%B3ptica-702568.html\n"
     ]
    },
    {
     "name": "stderr",
     "output_type": "stream",
     "text": [
      "0it [00:00, ?it/s]\n"
     ]
    },
    {
     "name": "stdout",
     "output_type": "stream",
     "text": [
      "Escaneando pagina 300 de 1012\n",
      "Scraping: https://www.mediamarkt.es/es/category/_bater%C3%ADas-y-pilas-702030.html\n",
      "Número de páginas: 6\n"
     ]
    },
    {
     "name": "stderr",
     "output_type": "stream",
     "text": [
      "100%|██████████| 6/6 [00:08<00:00,  1.39s/it]\n"
     ]
    },
    {
     "name": "stdout",
     "output_type": "stream",
     "text": [
      "Escaneando pagina 301 de 1012\n",
      "Scraping: https://www.mediamarkt.es/es/category/_pilas-bot%C3%B3n-y-especiales-702573.html\n"
     ]
    },
    {
     "name": "stderr",
     "output_type": "stream",
     "text": [
      "0it [00:00, ?it/s]\n"
     ]
    },
    {
     "name": "stdout",
     "output_type": "stream",
     "text": [
      "Escaneando pagina 302 de 1012\n",
      "Scraping: https://www.mediamarkt.es/es/category/_bater%C3%ADas-c%C3%A1maras-702569.html\n",
      "Número de páginas: 2\n"
     ]
    },
    {
     "name": "stderr",
     "output_type": "stream",
     "text": [
      "100%|██████████| 2/2 [00:02<00:00,  1.29s/it]\n"
     ]
    },
    {
     "name": "stdout",
     "output_type": "stream",
     "text": [
      "Escaneando pagina 303 de 1012\n",
      "Scraping: https://www.mediamarkt.es/es/category/_cargadores-pilas-bater%C3%ADas-702570.html\n"
     ]
    },
    {
     "name": "stderr",
     "output_type": "stream",
     "text": [
      "0it [00:00, ?it/s]\n"
     ]
    },
    {
     "name": "stdout",
     "output_type": "stream",
     "text": [
      "Escaneando pagina 304 de 1012\n",
      "Scraping: https://www.mediamarkt.es/es/category/_pilas-aa-702571.html\n",
      "Número de páginas: 2\n"
     ]
    },
    {
     "name": "stderr",
     "output_type": "stream",
     "text": [
      "100%|██████████| 2/2 [00:02<00:00,  1.37s/it]\n"
     ]
    },
    {
     "name": "stdout",
     "output_type": "stream",
     "text": [
      "Escaneando pagina 305 de 1012\n",
      "Scraping: https://www.mediamarkt.es/es/category/_pilas-aaa-702572.html\n",
      "Número de páginas: 3\n"
     ]
    },
    {
     "name": "stderr",
     "output_type": "stream",
     "text": [
      "100%|██████████| 3/3 [00:03<00:00,  1.18s/it]\n"
     ]
    },
    {
     "name": "stdout",
     "output_type": "stream",
     "text": [
      "Escaneando pagina 306 de 1012\n",
      "Scraping: https://www.mediamarkt.es/es/category/_tarjeta-de-memoria-foto-702031.html\n",
      "Número de páginas: 3\n"
     ]
    },
    {
     "name": "stderr",
     "output_type": "stream",
     "text": [
      "100%|██████████| 3/3 [00:03<00:00,  1.22s/it]\n"
     ]
    },
    {
     "name": "stdout",
     "output_type": "stream",
     "text": [
      "Escaneando pagina 307 de 1012\n",
      "Scraping: https://www.mediamarkt.es/es/category/_tarjetas-sdhc-foto-702574.html\n"
     ]
    },
    {
     "name": "stderr",
     "output_type": "stream",
     "text": [
      "0it [00:00, ?it/s]\n"
     ]
    },
    {
     "name": "stdout",
     "output_type": "stream",
     "text": [
      "Escaneando pagina 308 de 1012\n",
      "Scraping: https://www.mediamarkt.es/es/category/_tarjeta-micro-sd-702575.html\n"
     ]
    },
    {
     "name": "stderr",
     "output_type": "stream",
     "text": [
      "0it [00:00, ?it/s]\n"
     ]
    },
    {
     "name": "stdout",
     "output_type": "stream",
     "text": [
      "Escaneando pagina 309 de 1012\n",
      "Scraping: https://www.mediamarkt.es/es/category/_tarjetas-compact-flash-702576.html\n"
     ]
    },
    {
     "name": "stderr",
     "output_type": "stream",
     "text": [
      "0it [00:00, ?it/s]\n"
     ]
    },
    {
     "name": "stdout",
     "output_type": "stream",
     "text": [
      "Escaneando pagina 310 de 1012\n",
      "Scraping: https://www.mediamarkt.es/es/category/_prism%C3%A1ticos-y-%C3%B3ptica-701207.html\n",
      "Número de páginas: 6\n"
     ]
    },
    {
     "name": "stderr",
     "output_type": "stream",
     "text": [
      "100%|██████████| 6/6 [00:10<00:00,  1.72s/it]\n"
     ]
    },
    {
     "name": "stdout",
     "output_type": "stream",
     "text": [
      "Escaneando pagina 311 de 1012\n",
      "Scraping: https://www.mediamarkt.es/es/category/_telescopios-702032.html\n",
      "Número de páginas: 2\n"
     ]
    },
    {
     "name": "stderr",
     "output_type": "stream",
     "text": [
      "100%|██████████| 2/2 [00:02<00:00,  1.38s/it]\n"
     ]
    },
    {
     "name": "stdout",
     "output_type": "stream",
     "text": [
      "Escaneando pagina 312 de 1012\n",
      "Scraping: https://www.mediamarkt.es/es/category/_prism%C3%A1ticos-702033.html\n",
      "Número de páginas: 3\n"
     ]
    },
    {
     "name": "stderr",
     "output_type": "stream",
     "text": [
      "100%|██████████| 3/3 [00:02<00:00,  1.01s/it]\n"
     ]
    },
    {
     "name": "stdout",
     "output_type": "stream",
     "text": [
      "Escaneando pagina 313 de 1012\n",
      "Scraping: https://www.mediamarkt.es/es/category/_microscopios-702034.html\n"
     ]
    },
    {
     "name": "stderr",
     "output_type": "stream",
     "text": [
      "0it [00:00, ?it/s]\n"
     ]
    },
    {
     "name": "stdout",
     "output_type": "stream",
     "text": [
      "Escaneando pagina 314 de 1012\n",
      "Scraping: https://www.mediamarkt.es/es/category/_monoculares-702035.html\n"
     ]
    },
    {
     "name": "stderr",
     "output_type": "stream",
     "text": [
      "0it [00:00, ?it/s]\n"
     ]
    },
    {
     "name": "stdout",
     "output_type": "stream",
     "text": [
      "Escaneando pagina 315 de 1012\n",
      "Scraping: https://www.mediamarkt.es/es/category/_adaptadores-y-accesorios-702037.html\n"
     ]
    },
    {
     "name": "stderr",
     "output_type": "stream",
     "text": [
      "0it [00:00, ?it/s]\n"
     ]
    },
    {
     "name": "stdout",
     "output_type": "stream",
     "text": [
      "Escaneando pagina 316 de 1012\n",
      "Scraping: https://www.mediamarkt.es/es/category/_marcos-digitales-y-%C3%A1lbumes-701209.html\n"
     ]
    },
    {
     "name": "stderr",
     "output_type": "stream",
     "text": [
      "0it [00:00, ?it/s]\n"
     ]
    },
    {
     "name": "stdout",
     "output_type": "stream",
     "text": [
      "Escaneando pagina 317 de 1012\n",
      "Scraping: https://www.mediamarkt.es/es/category/_marcos-digitales-702038.html\n"
     ]
    },
    {
     "name": "stderr",
     "output_type": "stream",
     "text": [
      "0it [00:00, ?it/s]\n"
     ]
    },
    {
     "name": "stdout",
     "output_type": "stream",
     "text": [
      "Escaneando pagina 318 de 1012\n",
      "Scraping: https://www.mediamarkt.es/es/category/_%C3%A1lbumes-702039.html\n"
     ]
    },
    {
     "name": "stderr",
     "output_type": "stream",
     "text": [
      "0it [00:00, ?it/s]\n"
     ]
    },
    {
     "name": "stdout",
     "output_type": "stream",
     "text": [
      "Escaneando pagina 319 de 1012\n",
      "Scraping: https://www.mediamarkt.es/es/category/_hogar-701117.html\n"
     ]
    },
    {
     "name": "stderr",
     "output_type": "stream",
     "text": [
      "0it [00:00, ?it/s]\n"
     ]
    },
    {
     "name": "stdout",
     "output_type": "stream",
     "text": [
      "Escaneando pagina 320 de 1012\n",
      "Scraping: https://www.mediamarkt.es/es/category/_cocina-701132.html\n"
     ]
    },
    {
     "name": "stderr",
     "output_type": "stream",
     "text": [
      "0it [00:00, ?it/s]\n"
     ]
    },
    {
     "name": "stdout",
     "output_type": "stream",
     "text": [
      "Escaneando pagina 321 de 1012\n",
      "Scraping: https://www.mediamarkt.es/es/category/_frigor%C3%ADficos-701234.html\n"
     ]
    },
    {
     "name": "stderr",
     "output_type": "stream",
     "text": [
      "0it [00:00, ?it/s]\n"
     ]
    },
    {
     "name": "stdout",
     "output_type": "stream",
     "text": [
      "Escaneando pagina 322 de 1012\n",
      "Scraping: https://www.mediamarkt.es/es/category/_frigor%C3%ADficos-combinados-702140.html\n",
      "Número de páginas: 11\n"
     ]
    },
    {
     "name": "stderr",
     "output_type": "stream",
     "text": [
      "100%|██████████| 11/11 [00:11<00:00,  1.05it/s]\n"
     ]
    },
    {
     "name": "stdout",
     "output_type": "stream",
     "text": [
      "Escaneando pagina 323 de 1012\n",
      "Scraping: https://www.mediamarkt.es/es/category/_frigor%C3%ADficos-americanos-702141.html\n",
      "Número de páginas: 3\n"
     ]
    },
    {
     "name": "stderr",
     "output_type": "stream",
     "text": [
      "100%|██████████| 3/3 [00:03<00:00,  1.03s/it]\n"
     ]
    },
    {
     "name": "stdout",
     "output_type": "stream",
     "text": [
      "Escaneando pagina 324 de 1012\n",
      "Scraping: https://www.mediamarkt.es/es/category/_frigor%C3%ADficos-dos-puertas-702142.html\n",
      "Número de páginas: 4\n"
     ]
    },
    {
     "name": "stderr",
     "output_type": "stream",
     "text": [
      "100%|██████████| 4/4 [00:06<00:00,  1.46s/it]\n"
     ]
    },
    {
     "name": "stdout",
     "output_type": "stream",
     "text": [
      "Escaneando pagina 325 de 1012\n",
      "Scraping: https://www.mediamarkt.es/es/category/_frigor%C3%ADficos-una-puerta-702143.html\n",
      "Número de páginas: 4\n"
     ]
    },
    {
     "name": "stderr",
     "output_type": "stream",
     "text": [
      "100%|██████████| 4/4 [00:04<00:00,  1.09s/it]\n"
     ]
    },
    {
     "name": "stdout",
     "output_type": "stream",
     "text": [
      "Escaneando pagina 326 de 1012\n",
      "Scraping: https://www.mediamarkt.es/es/category/_mini-frigor%C3%ADficos-702144.html\n",
      "Número de páginas: 2\n"
     ]
    },
    {
     "name": "stderr",
     "output_type": "stream",
     "text": [
      "100%|██████████| 2/2 [00:02<00:00,  1.41s/it]\n"
     ]
    },
    {
     "name": "stdout",
     "output_type": "stream",
     "text": [
      "Escaneando pagina 327 de 1012\n",
      "Scraping: https://www.mediamarkt.es/es/category/_frigor%C3%ADficos-integrables-702145.html\n",
      "Número de páginas: 2\n"
     ]
    },
    {
     "name": "stderr",
     "output_type": "stream",
     "text": [
      "100%|██████████| 2/2 [00:02<00:00,  1.03s/it]\n"
     ]
    },
    {
     "name": "stdout",
     "output_type": "stream",
     "text": [
      "Escaneando pagina 328 de 1012\n",
      "Scraping: https://www.mediamarkt.es/es/category/_accesorios-para-frigor%C3%ADficos-702146.html\n"
     ]
    },
    {
     "name": "stderr",
     "output_type": "stream",
     "text": [
      "0it [00:00, ?it/s]\n"
     ]
    },
    {
     "name": "stdout",
     "output_type": "stream",
     "text": [
      "Escaneando pagina 329 de 1012\n",
      "Scraping: https://www.mediamarkt.es/es/category/_congeladores-701235.html\n",
      "Número de páginas: 7\n"
     ]
    },
    {
     "name": "stderr",
     "output_type": "stream",
     "text": [
      "100%|██████████| 7/7 [00:07<00:00,  1.01s/it]\n"
     ]
    },
    {
     "name": "stdout",
     "output_type": "stream",
     "text": [
      "Escaneando pagina 330 de 1012\n",
      "Scraping: https://www.mediamarkt.es/es/category/_congeladores-verticales-702147.html\n",
      "Número de páginas: 3\n"
     ]
    },
    {
     "name": "stderr",
     "output_type": "stream",
     "text": [
      "100%|██████████| 3/3 [00:03<00:00,  1.13s/it]\n"
     ]
    },
    {
     "name": "stdout",
     "output_type": "stream",
     "text": [
      "Escaneando pagina 331 de 1012\n",
      "Scraping: https://www.mediamarkt.es/es/category/_congeladores-bajo-encimera-702148.html\n"
     ]
    },
    {
     "name": "stderr",
     "output_type": "stream",
     "text": [
      "0it [00:00, ?it/s]\n"
     ]
    },
    {
     "name": "stdout",
     "output_type": "stream",
     "text": [
      "Escaneando pagina 332 de 1012\n",
      "Scraping: https://www.mediamarkt.es/es/category/_congeladores-horizontales-702149.html\n",
      "Número de páginas: 3\n"
     ]
    },
    {
     "name": "stderr",
     "output_type": "stream",
     "text": [
      "100%|██████████| 3/3 [00:05<00:00,  1.85s/it]\n"
     ]
    },
    {
     "name": "stdout",
     "output_type": "stream",
     "text": [
      "Escaneando pagina 333 de 1012\n",
      "Scraping: https://www.mediamarkt.es/es/category/_congeladores-integrables-702150.html\n"
     ]
    },
    {
     "name": "stderr",
     "output_type": "stream",
     "text": [
      "0it [00:00, ?it/s]\n"
     ]
    },
    {
     "name": "stdout",
     "output_type": "stream",
     "text": [
      "Escaneando pagina 334 de 1012\n",
      "Scraping: https://www.mediamarkt.es/es/category/_caf%C3%A9-y-t%C3%A9-701236.html\n"
     ]
    },
    {
     "name": "stderr",
     "output_type": "stream",
     "text": [
      "0it [00:00, ?it/s]\n"
     ]
    },
    {
     "name": "stdout",
     "output_type": "stream",
     "text": [
      "Escaneando pagina 335 de 1012\n",
      "Scraping: https://www.mediamarkt.es/es/category/_cafeteras-monodosis-702151.html\n",
      "Número de páginas: 4\n"
     ]
    },
    {
     "name": "stderr",
     "output_type": "stream",
     "text": [
      "100%|██████████| 4/4 [00:04<00:00,  1.09s/it]\n"
     ]
    },
    {
     "name": "stdout",
     "output_type": "stream",
     "text": [
      "Escaneando pagina 336 de 1012\n",
      "Scraping: https://www.mediamarkt.es/es/category/_cafeteras-nespresso-702609.html\n",
      "Número de páginas: 2\n"
     ]
    },
    {
     "name": "stderr",
     "output_type": "stream",
     "text": [
      "100%|██████████| 2/2 [00:02<00:00,  1.42s/it]\n"
     ]
    },
    {
     "name": "stdout",
     "output_type": "stream",
     "text": [
      "Escaneando pagina 337 de 1012\n",
      "Scraping: https://www.mediamarkt.es/es/category/_cafeteras-dolce-gusto-702610.html\n",
      "Número de páginas: 2\n"
     ]
    },
    {
     "name": "stderr",
     "output_type": "stream",
     "text": [
      "100%|██████████| 2/2 [00:02<00:00,  1.09s/it]\n"
     ]
    },
    {
     "name": "stdout",
     "output_type": "stream",
     "text": [
      "Escaneando pagina 338 de 1012\n",
      "Scraping: https://www.mediamarkt.es/es/category/_cafeteras-tassimo-702611.html\n"
     ]
    },
    {
     "name": "stderr",
     "output_type": "stream",
     "text": [
      "0it [00:00, ?it/s]\n"
     ]
    },
    {
     "name": "stdout",
     "output_type": "stream",
     "text": [
      "Escaneando pagina 339 de 1012\n",
      "Scraping: https://www.mediamarkt.es/es/category/_cafeteras-senseo-702612.html\n"
     ]
    },
    {
     "name": "stderr",
     "output_type": "stream",
     "text": [
      "0it [00:00, ?it/s]\n"
     ]
    },
    {
     "name": "stdout",
     "output_type": "stream",
     "text": [
      "Escaneando pagina 340 de 1012\n",
      "Scraping: https://www.mediamarkt.es/es/category/_cafeteras-superautom%C3%A1ticas-702152.html\n",
      "Número de páginas: 3\n"
     ]
    },
    {
     "name": "stderr",
     "output_type": "stream",
     "text": [
      "100%|██████████| 3/3 [00:03<00:00,  1.23s/it]\n"
     ]
    },
    {
     "name": "stdout",
     "output_type": "stream",
     "text": [
      "Escaneando pagina 341 de 1012\n",
      "Scraping: https://www.mediamarkt.es/es/category/_cafeteras-express-702153.html\n",
      "Número de páginas: 2\n"
     ]
    },
    {
     "name": "stderr",
     "output_type": "stream",
     "text": [
      "100%|██████████| 2/2 [00:03<00:00,  1.67s/it]\n"
     ]
    },
    {
     "name": "stdout",
     "output_type": "stream",
     "text": [
      "Escaneando pagina 342 de 1012\n",
      "Scraping: https://www.mediamarkt.es/es/category/_cafeteras-de-goteo-702154.html\n",
      "Número de páginas: 2\n"
     ]
    },
    {
     "name": "stderr",
     "output_type": "stream",
     "text": [
      "100%|██████████| 2/2 [00:03<00:00,  1.79s/it]\n"
     ]
    },
    {
     "name": "stdout",
     "output_type": "stream",
     "text": [
      "Escaneando pagina 343 de 1012\n",
      "Scraping: https://www.mediamarkt.es/es/category/_cafeteras-tradicionales-702155.html\n"
     ]
    },
    {
     "name": "stderr",
     "output_type": "stream",
     "text": [
      "0it [00:00, ?it/s]\n"
     ]
    },
    {
     "name": "stdout",
     "output_type": "stream",
     "text": [
      "Escaneando pagina 344 de 1012\n",
      "Scraping: https://www.mediamarkt.es/es/category/_hervidores-y-teteras-702156.html\n",
      "Número de páginas: 5\n"
     ]
    },
    {
     "name": "stderr",
     "output_type": "stream",
     "text": [
      "100%|██████████| 5/5 [00:05<00:00,  1.01s/it]\n"
     ]
    },
    {
     "name": "stdout",
     "output_type": "stream",
     "text": [
      "Escaneando pagina 345 de 1012\n",
      "Scraping: https://www.mediamarkt.es/es/category/_caf%C3%A9-y-accesorios-702157.html\n",
      "Número de páginas: 9\n"
     ]
    },
    {
     "name": "stderr",
     "output_type": "stream",
     "text": [
      "100%|██████████| 9/9 [00:11<00:00,  1.33s/it]\n"
     ]
    },
    {
     "name": "stdout",
     "output_type": "stream",
     "text": [
      "Escaneando pagina 346 de 1012\n",
      "Scraping: https://www.mediamarkt.es/es/category/_caf%C3%A9-y-c%C3%A1psulas-702614.html\n",
      "Número de páginas: 5\n"
     ]
    },
    {
     "name": "stderr",
     "output_type": "stream",
     "text": [
      "100%|██████████| 5/5 [00:07<00:00,  1.47s/it]\n"
     ]
    },
    {
     "name": "stdout",
     "output_type": "stream",
     "text": [
      "Escaneando pagina 347 de 1012\n",
      "Scraping: https://www.mediamarkt.es/es/category/_espumadores-de-leche-702615.html\n"
     ]
    },
    {
     "name": "stderr",
     "output_type": "stream",
     "text": [
      "0it [00:00, ?it/s]\n"
     ]
    },
    {
     "name": "stdout",
     "output_type": "stream",
     "text": [
      "Escaneando pagina 348 de 1012\n",
      "Scraping: https://www.mediamarkt.es/es/category/_molinillos-de-caf%C3%A9-702616.html\n"
     ]
    },
    {
     "name": "stderr",
     "output_type": "stream",
     "text": [
      "0it [00:00, ?it/s]\n"
     ]
    },
    {
     "name": "stdout",
     "output_type": "stream",
     "text": [
      "Escaneando pagina 349 de 1012\n",
      "Scraping: https://www.mediamarkt.es/es/category/_accesorios-para-cafeteras-702617.html\n",
      "Número de páginas: 3\n"
     ]
    },
    {
     "name": "stderr",
     "output_type": "stream",
     "text": [
      "100%|██████████| 3/3 [00:04<00:00,  1.38s/it]\n"
     ]
    },
    {
     "name": "stdout",
     "output_type": "stream",
     "text": [
      "Escaneando pagina 350 de 1012\n",
      "Scraping: https://www.mediamarkt.es/es/category/_limpieza-cafetera-702618.html\n",
      "Número de páginas: 2\n"
     ]
    },
    {
     "name": "stderr",
     "output_type": "stream",
     "text": [
      "100%|██████████| 2/2 [00:02<00:00,  1.14s/it]\n"
     ]
    },
    {
     "name": "stdout",
     "output_type": "stream",
     "text": [
      "Escaneando pagina 351 de 1012\n",
      "Scraping: https://www.mediamarkt.es/es/category/_cocci%C3%B3n-701237.html\n"
     ]
    },
    {
     "name": "stderr",
     "output_type": "stream",
     "text": [
      "0it [00:00, ?it/s]\n"
     ]
    },
    {
     "name": "stdout",
     "output_type": "stream",
     "text": [
      "Escaneando pagina 352 de 1012\n",
      "Scraping: https://www.mediamarkt.es/es/category/_encimeras-702158.html\n"
     ]
    },
    {
     "name": "stderr",
     "output_type": "stream",
     "text": [
      "0it [00:00, ?it/s]\n"
     ]
    },
    {
     "name": "stdout",
     "output_type": "stream",
     "text": [
      "Escaneando pagina 353 de 1012\n",
      "Scraping: https://www.mediamarkt.es/es/category/_encimeras-inducci%C3%B3n-702619.html\n",
      "Número de páginas: 6\n"
     ]
    },
    {
     "name": "stderr",
     "output_type": "stream",
     "text": [
      "100%|██████████| 6/6 [00:06<00:00,  1.03s/it]\n"
     ]
    },
    {
     "name": "stdout",
     "output_type": "stream",
     "text": [
      "Escaneando pagina 354 de 1012\n",
      "Scraping: https://www.mediamarkt.es/es/category/_encimeras-de-gas-702620.html\n",
      "Número de páginas: 4\n"
     ]
    },
    {
     "name": "stderr",
     "output_type": "stream",
     "text": [
      "100%|██████████| 4/4 [00:06<00:00,  1.52s/it]\n"
     ]
    },
    {
     "name": "stdout",
     "output_type": "stream",
     "text": [
      "Escaneando pagina 355 de 1012\n",
      "Scraping: https://www.mediamarkt.es/es/category/_encimeras-vitrocer%C3%A1micas-702621.html\n",
      "Número de páginas: 3\n"
     ]
    },
    {
     "name": "stderr",
     "output_type": "stream",
     "text": [
      "100%|██████████| 3/3 [00:03<00:00,  1.33s/it]\n"
     ]
    },
    {
     "name": "stdout",
     "output_type": "stream",
     "text": [
      "Escaneando pagina 356 de 1012\n",
      "Scraping: https://www.mediamarkt.es/es/category/_encimeras-modulares-702622.html\n"
     ]
    },
    {
     "name": "stderr",
     "output_type": "stream",
     "text": [
      "0it [00:00, ?it/s]\n"
     ]
    },
    {
     "name": "stdout",
     "output_type": "stream",
     "text": [
      "Escaneando pagina 357 de 1012\n",
      "Scraping: https://www.mediamarkt.es/es/category/_encimeras-port%C3%A1tiles-702623.html\n"
     ]
    },
    {
     "name": "stderr",
     "output_type": "stream",
     "text": [
      "0it [00:00, ?it/s]\n"
     ]
    },
    {
     "name": "stdout",
     "output_type": "stream",
     "text": [
      "Escaneando pagina 358 de 1012\n",
      "Scraping: https://www.mediamarkt.es/es/category/_accesorios-para-encimeras-702624.html\n"
     ]
    },
    {
     "name": "stderr",
     "output_type": "stream",
     "text": [
      "0it [00:00, ?it/s]\n"
     ]
    },
    {
     "name": "stdout",
     "output_type": "stream",
     "text": [
      "Escaneando pagina 359 de 1012\n",
      "Scraping: https://www.mediamarkt.es/es/category/_cocinas-702159.html\n",
      "Número de páginas: 4\n"
     ]
    },
    {
     "name": "stderr",
     "output_type": "stream",
     "text": [
      "100%|██████████| 4/4 [00:05<00:00,  1.35s/it]\n"
     ]
    },
    {
     "name": "stdout",
     "output_type": "stream",
     "text": [
      "Escaneando pagina 360 de 1012\n",
      "Scraping: https://www.mediamarkt.es/es/category/_cocinas-a-gas-702625.html\n",
      "Número de páginas: 3\n"
     ]
    },
    {
     "name": "stderr",
     "output_type": "stream",
     "text": [
      "100%|██████████| 3/3 [00:04<00:00,  1.47s/it]\n"
     ]
    },
    {
     "name": "stdout",
     "output_type": "stream",
     "text": [
      "Escaneando pagina 361 de 1012\n",
      "Scraping: https://www.mediamarkt.es/es/category/_cocinas-el%C3%A9ctricas-702626.html\n"
     ]
    },
    {
     "name": "stderr",
     "output_type": "stream",
     "text": [
      "0it [00:00, ?it/s]\n"
     ]
    },
    {
     "name": "stdout",
     "output_type": "stream",
     "text": [
      "Escaneando pagina 362 de 1012\n",
      "Scraping: https://www.mediamarkt.es/es/category/_cocinas-gas-horno-el%C3%A9ctrico-702628.html\n"
     ]
    },
    {
     "name": "stderr",
     "output_type": "stream",
     "text": [
      "0it [00:00, ?it/s]\n"
     ]
    },
    {
     "name": "stdout",
     "output_type": "stream",
     "text": [
      "Escaneando pagina 363 de 1012\n",
      "Scraping: https://www.mediamarkt.es/es/category/_hornos-702160.html\n"
     ]
    },
    {
     "name": "stderr",
     "output_type": "stream",
     "text": [
      "0it [00:00, ?it/s]\n"
     ]
    },
    {
     "name": "stdout",
     "output_type": "stream",
     "text": [
      "Escaneando pagina 364 de 1012\n",
      "Scraping: https://www.mediamarkt.es/es/category/_hornos-convencionales-702629.html\n"
     ]
    },
    {
     "name": "stderr",
     "output_type": "stream",
     "text": [
      "0it [00:00, ?it/s]\n"
     ]
    },
    {
     "name": "stdout",
     "output_type": "stream",
     "text": [
      "Escaneando pagina 365 de 1012\n",
      "Scraping: https://www.mediamarkt.es/es/category/_hornos-multifunci%C3%B3n-702630.html\n",
      "Número de páginas: 8\n"
     ]
    },
    {
     "name": "stderr",
     "output_type": "stream",
     "text": [
      "100%|██████████| 8/8 [00:13<00:00,  1.60s/it]\n"
     ]
    },
    {
     "name": "stdout",
     "output_type": "stream",
     "text": [
      "Escaneando pagina 366 de 1012\n",
      "Scraping: https://www.mediamarkt.es/es/category/_hornos-compactos-702631.html\n",
      "Número de páginas: 2\n"
     ]
    },
    {
     "name": "stderr",
     "output_type": "stream",
     "text": [
      "100%|██████████| 2/2 [00:02<00:00,  1.53s/it]\n"
     ]
    },
    {
     "name": "stdout",
     "output_type": "stream",
     "text": [
      "Escaneando pagina 367 de 1012\n",
      "Scraping: https://www.mediamarkt.es/es/category/_hornos-a-vapor-702632.html\n"
     ]
    },
    {
     "name": "stderr",
     "output_type": "stream",
     "text": [
      "0it [00:00, ?it/s]\n"
     ]
    },
    {
     "name": "stdout",
     "output_type": "stream",
     "text": [
      "Escaneando pagina 368 de 1012\n",
      "Scraping: https://www.mediamarkt.es/es/category/_hornos-con-microondas-702633.html\n"
     ]
    },
    {
     "name": "stderr",
     "output_type": "stream",
     "text": [
      "0it [00:00, ?it/s]\n"
     ]
    },
    {
     "name": "stdout",
     "output_type": "stream",
     "text": [
      "Escaneando pagina 369 de 1012\n",
      "Scraping: https://www.mediamarkt.es/es/category/_hornos-de-sobremesa-702634.html\n",
      "Número de páginas: 2\n"
     ]
    },
    {
     "name": "stderr",
     "output_type": "stream",
     "text": [
      "100%|██████████| 2/2 [00:02<00:00,  1.31s/it]\n"
     ]
    },
    {
     "name": "stdout",
     "output_type": "stream",
     "text": [
      "Escaneando pagina 370 de 1012\n",
      "Scraping: https://www.mediamarkt.es/es/category/_accesorios-para-hornos-702635.html\n"
     ]
    },
    {
     "name": "stderr",
     "output_type": "stream",
     "text": [
      "0it [00:00, ?it/s]\n"
     ]
    },
    {
     "name": "stdout",
     "output_type": "stream",
     "text": [
      "Escaneando pagina 371 de 1012\n",
      "Scraping: https://www.mediamarkt.es/es/category/_campanas-extractoras-702161.html\n"
     ]
    },
    {
     "name": "stderr",
     "output_type": "stream",
     "text": [
      "0it [00:00, ?it/s]\n"
     ]
    },
    {
     "name": "stdout",
     "output_type": "stream",
     "text": [
      "Escaneando pagina 372 de 1012\n",
      "Scraping: https://www.mediamarkt.es/es/category/_decorativas-702636.html\n",
      "Número de páginas: 9\n"
     ]
    },
    {
     "name": "stderr",
     "output_type": "stream",
     "text": [
      "100%|██████████| 9/9 [00:10<00:00,  1.11s/it]\n"
     ]
    },
    {
     "name": "stdout",
     "output_type": "stream",
     "text": [
      "Escaneando pagina 373 de 1012\n",
      "Scraping: https://www.mediamarkt.es/es/category/_extra%C3%ADbles-702637.html\n",
      "Número de páginas: 3\n"
     ]
    },
    {
     "name": "stderr",
     "output_type": "stream",
     "text": [
      "100%|██████████| 3/3 [00:04<00:00,  1.46s/it]\n"
     ]
    },
    {
     "name": "stdout",
     "output_type": "stream",
     "text": [
      "Escaneando pagina 374 de 1012\n",
      "Scraping: https://www.mediamarkt.es/es/category/_convencionales-702638.html\n"
     ]
    },
    {
     "name": "stderr",
     "output_type": "stream",
     "text": [
      "0it [00:00, ?it/s]\n"
     ]
    },
    {
     "name": "stdout",
     "output_type": "stream",
     "text": [
      "Escaneando pagina 375 de 1012\n",
      "Scraping: https://www.mediamarkt.es/es/category/_isla-702639.html\n",
      "Número de páginas: 2\n"
     ]
    },
    {
     "name": "stderr",
     "output_type": "stream",
     "text": [
      "100%|██████████| 2/2 [00:02<00:00,  1.31s/it]\n"
     ]
    },
    {
     "name": "stdout",
     "output_type": "stream",
     "text": [
      "Escaneando pagina 376 de 1012\n",
      "Scraping: https://www.mediamarkt.es/es/category/_grupo-filtrante-702640.html\n",
      "Número de páginas: 2\n"
     ]
    },
    {
     "name": "stderr",
     "output_type": "stream",
     "text": [
      "100%|██████████| 2/2 [00:02<00:00,  1.17s/it]\n"
     ]
    },
    {
     "name": "stdout",
     "output_type": "stream",
     "text": [
      "Escaneando pagina 377 de 1012\n",
      "Scraping: https://www.mediamarkt.es/es/category/_accesorios-campanas-extractoras-702641.html\n",
      "Número de páginas: 3\n"
     ]
    },
    {
     "name": "stderr",
     "output_type": "stream",
     "text": [
      "100%|██████████| 3/3 [00:04<00:00,  1.40s/it]\n"
     ]
    },
    {
     "name": "stdout",
     "output_type": "stream",
     "text": [
      "Escaneando pagina 378 de 1012\n",
      "Scraping: https://www.mediamarkt.es/es/category/_microondas-702162.html\n"
     ]
    },
    {
     "name": "stderr",
     "output_type": "stream",
     "text": [
      "0it [00:00, ?it/s]\n"
     ]
    },
    {
     "name": "stdout",
     "output_type": "stream",
     "text": [
      "Escaneando pagina 379 de 1012\n",
      "Scraping: https://www.mediamarkt.es/es/category/_microondas-sin-grill-702642.html\n",
      "Número de páginas: 2\n"
     ]
    },
    {
     "name": "stderr",
     "output_type": "stream",
     "text": [
      "100%|██████████| 2/2 [00:02<00:00,  1.04s/it]\n"
     ]
    },
    {
     "name": "stdout",
     "output_type": "stream",
     "text": [
      "Escaneando pagina 380 de 1012\n",
      "Scraping: https://www.mediamarkt.es/es/category/_microondas-con-grill-702643.html\n",
      "Número de páginas: 6\n"
     ]
    },
    {
     "name": "stderr",
     "output_type": "stream",
     "text": [
      "100%|██████████| 6/6 [00:05<00:00,  1.07it/s]\n"
     ]
    },
    {
     "name": "stdout",
     "output_type": "stream",
     "text": [
      "Escaneando pagina 381 de 1012\n",
      "Scraping: https://www.mediamarkt.es/es/category/_microondas-con-horno-702644.html\n"
     ]
    },
    {
     "name": "stderr",
     "output_type": "stream",
     "text": [
      "0it [00:00, ?it/s]\n"
     ]
    },
    {
     "name": "stdout",
     "output_type": "stream",
     "text": [
      "Escaneando pagina 382 de 1012\n",
      "Scraping: https://www.mediamarkt.es/es/category/_microondas-integrables-702645.html\n",
      "Número de páginas: 3\n"
     ]
    },
    {
     "name": "stderr",
     "output_type": "stream",
     "text": [
      "100%|██████████| 3/3 [00:04<00:00,  1.45s/it]\n"
     ]
    },
    {
     "name": "stdout",
     "output_type": "stream",
     "text": [
      "Escaneando pagina 383 de 1012\n",
      "Scraping: https://www.mediamarkt.es/es/category/_accesorios-para-microondas-702646.html\n"
     ]
    },
    {
     "name": "stderr",
     "output_type": "stream",
     "text": [
      "0it [00:00, ?it/s]\n"
     ]
    },
    {
     "name": "stdout",
     "output_type": "stream",
     "text": [
      "Escaneando pagina 384 de 1012\n",
      "Scraping: https://www.mediamarkt.es/es/category/_packs-de-cocci%C3%B3n-702163.html\n"
     ]
    },
    {
     "name": "stderr",
     "output_type": "stream",
     "text": [
      "0it [00:00, ?it/s]\n"
     ]
    },
    {
     "name": "stdout",
     "output_type": "stream",
     "text": [
      "Escaneando pagina 385 de 1012\n",
      "Scraping: https://www.mediamarkt.es/es/category/_preparaci%C3%B3n-de-alimentos-701238.html\n"
     ]
    },
    {
     "name": "stderr",
     "output_type": "stream",
     "text": [
      "0it [00:00, ?it/s]\n"
     ]
    },
    {
     "name": "stdout",
     "output_type": "stream",
     "text": [
      "Escaneando pagina 386 de 1012\n",
      "Scraping: https://www.mediamarkt.es/es/category/_batidoras-702164.html\n",
      "Número de páginas: 10\n"
     ]
    },
    {
     "name": "stderr",
     "output_type": "stream",
     "text": [
      "100%|██████████| 10/10 [00:13<00:00,  1.26s/it]\n"
     ]
    },
    {
     "name": "stdout",
     "output_type": "stream",
     "text": [
      "Escaneando pagina 387 de 1012\n",
      "Scraping: https://www.mediamarkt.es/es/category/_batidoras-de-mano-702647.html\n",
      "Número de páginas: 5\n"
     ]
    },
    {
     "name": "stderr",
     "output_type": "stream",
     "text": [
      "100%|██████████| 5/5 [00:07<00:00,  1.45s/it]\n"
     ]
    },
    {
     "name": "stdout",
     "output_type": "stream",
     "text": [
      "Escaneando pagina 388 de 1012\n",
      "Scraping: https://www.mediamarkt.es/es/category/_batidoras-de-vaso-702648.html\n",
      "Número de páginas: 5\n"
     ]
    },
    {
     "name": "stderr",
     "output_type": "stream",
     "text": [
      "100%|██████████| 5/5 [00:06<00:00,  1.24s/it]\n"
     ]
    },
    {
     "name": "stdout",
     "output_type": "stream",
     "text": [
      "Escaneando pagina 389 de 1012\n",
      "Scraping: https://www.mediamarkt.es/es/category/_robots-de-cocina-702165.html\n",
      "Número de páginas: 7\n"
     ]
    },
    {
     "name": "stderr",
     "output_type": "stream",
     "text": [
      "100%|██████████| 7/7 [00:07<00:00,  1.10s/it]\n"
     ]
    },
    {
     "name": "stdout",
     "output_type": "stream",
     "text": [
      "Escaneando pagina 390 de 1012\n",
      "Scraping: https://www.mediamarkt.es/es/category/_exprimidores-y-licuadoras-702166.html\n",
      "Número de páginas: 5\n"
     ]
    },
    {
     "name": "stderr",
     "output_type": "stream",
     "text": [
      "100%|██████████| 5/5 [00:05<00:00,  1.10s/it]\n"
     ]
    },
    {
     "name": "stdout",
     "output_type": "stream",
     "text": [
      "Escaneando pagina 391 de 1012\n",
      "Scraping: https://www.mediamarkt.es/es/category/_prensado-en-fr%C3%ADo-702649.html\n"
     ]
    },
    {
     "name": "stderr",
     "output_type": "stream",
     "text": [
      "0it [00:00, ?it/s]\n"
     ]
    },
    {
     "name": "stdout",
     "output_type": "stream",
     "text": [
      "Escaneando pagina 392 de 1012\n",
      "Scraping: https://www.mediamarkt.es/es/category/_exprimidores-702650.html\n",
      "Número de páginas: 3\n"
     ]
    },
    {
     "name": "stderr",
     "output_type": "stream",
     "text": [
      "100%|██████████| 3/3 [00:04<00:00,  1.60s/it]\n"
     ]
    },
    {
     "name": "stdout",
     "output_type": "stream",
     "text": [
      "Escaneando pagina 393 de 1012\n",
      "Scraping: https://www.mediamarkt.es/es/category/_licuadoras-702651.html\n",
      "Número de páginas: 3\n"
     ]
    },
    {
     "name": "stderr",
     "output_type": "stream",
     "text": [
      "100%|██████████| 3/3 [00:04<00:00,  1.45s/it]\n"
     ]
    },
    {
     "name": "stdout",
     "output_type": "stream",
     "text": [
      "Escaneando pagina 394 de 1012\n",
      "Scraping: https://www.mediamarkt.es/es/category/_sandwicheras-y-tostadoras-702167.html\n",
      "Número de páginas: 10\n"
     ]
    },
    {
     "name": "stderr",
     "output_type": "stream",
     "text": [
      "100%|██████████| 10/10 [00:15<00:00,  1.44s/it]\n"
     ]
    },
    {
     "name": "stdout",
     "output_type": "stream",
     "text": [
      "Escaneando pagina 395 de 1012\n",
      "Scraping: https://www.mediamarkt.es/es/category/_sandwicheras-702652.html\n",
      "Número de páginas: 4\n"
     ]
    },
    {
     "name": "stderr",
     "output_type": "stream",
     "text": [
      "100%|██████████| 4/4 [00:06<00:00,  1.59s/it]\n"
     ]
    },
    {
     "name": "stdout",
     "output_type": "stream",
     "text": [
      "Escaneando pagina 396 de 1012\n",
      "Scraping: https://www.mediamarkt.es/es/category/_tostadoras-702653.html\n",
      "Número de páginas: 6\n"
     ]
    },
    {
     "name": "stderr",
     "output_type": "stream",
     "text": [
      "100%|██████████| 6/6 [00:08<00:00,  1.36s/it]\n"
     ]
    },
    {
     "name": "stdout",
     "output_type": "stream",
     "text": [
      "Escaneando pagina 397 de 1012\n",
      "Scraping: https://www.mediamarkt.es/es/category/_planchas-de-asar-y-grills-702168.html\n",
      "Número de páginas: 7\n"
     ]
    },
    {
     "name": "stderr",
     "output_type": "stream",
     "text": [
      "100%|██████████| 7/7 [00:11<00:00,  1.50s/it]\n"
     ]
    },
    {
     "name": "stdout",
     "output_type": "stream",
     "text": [
      "Escaneando pagina 398 de 1012\n",
      "Scraping: https://www.mediamarkt.es/es/category/_freidoras-702169.html\n",
      "Número de páginas: 3\n"
     ]
    },
    {
     "name": "stderr",
     "output_type": "stream",
     "text": [
      "100%|██████████| 3/3 [00:03<00:00,  1.21s/it]\n"
     ]
    },
    {
     "name": "stdout",
     "output_type": "stream",
     "text": [
      "Escaneando pagina 399 de 1012\n",
      "Scraping: https://www.mediamarkt.es/es/category/_picadoras-y-ralladores-702170.html\n",
      "Número de páginas: 3\n"
     ]
    },
    {
     "name": "stderr",
     "output_type": "stream",
     "text": [
      "100%|██████████| 3/3 [00:04<00:00,  1.54s/it]\n"
     ]
    },
    {
     "name": "stdout",
     "output_type": "stream",
     "text": [
      "Escaneando pagina 400 de 1012\n",
      "Scraping: https://www.mediamarkt.es/es/category/_picadoras-de-alimentos-702654.html\n",
      "Número de páginas: 2\n"
     ]
    },
    {
     "name": "stderr",
     "output_type": "stream",
     "text": [
      "100%|██████████| 2/2 [00:02<00:00,  1.35s/it]\n"
     ]
    },
    {
     "name": "stdout",
     "output_type": "stream",
     "text": [
      "Escaneando pagina 401 de 1012\n",
      "Scraping: https://www.mediamarkt.es/es/category/_ralladores-702655.html\n"
     ]
    },
    {
     "name": "stderr",
     "output_type": "stream",
     "text": [
      "0it [00:00, ?it/s]\n"
     ]
    },
    {
     "name": "stdout",
     "output_type": "stream",
     "text": [
      "Escaneando pagina 402 de 1012\n",
      "Scraping: https://www.mediamarkt.es/es/category/_cortafiambres-702656.html\n"
     ]
    },
    {
     "name": "stderr",
     "output_type": "stream",
     "text": [
      "0it [00:00, ?it/s]\n"
     ]
    },
    {
     "name": "stdout",
     "output_type": "stream",
     "text": [
      "Escaneando pagina 403 de 1012\n",
      "Scraping: https://www.mediamarkt.es/es/category/_cocinas-al-vapor-y-arroceras-702171.html\n",
      "Número de páginas: 2\n"
     ]
    },
    {
     "name": "stderr",
     "output_type": "stream",
     "text": [
      "100%|██████████| 2/2 [00:02<00:00,  1.55s/it]\n"
     ]
    },
    {
     "name": "stdout",
     "output_type": "stream",
     "text": [
      "Escaneando pagina 404 de 1012\n",
      "Scraping: https://www.mediamarkt.es/es/category/_balanzas-de-cocina-702172.html\n",
      "Número de páginas: 3\n"
     ]
    },
    {
     "name": "stderr",
     "output_type": "stream",
     "text": [
      "100%|██████████| 3/3 [00:05<00:00,  1.97s/it]\n"
     ]
    },
    {
     "name": "stdout",
     "output_type": "stream",
     "text": [
      "Escaneando pagina 405 de 1012\n",
      "Scraping: https://www.mediamarkt.es/es/category/_envasadoras-al-vacio-702173.html\n",
      "Número de páginas: 3\n"
     ]
    },
    {
     "name": "stderr",
     "output_type": "stream",
     "text": [
      "100%|██████████| 3/3 [00:04<00:00,  1.52s/it]\n"
     ]
    },
    {
     "name": "stdout",
     "output_type": "stream",
     "text": [
      "Escaneando pagina 406 de 1012\n",
      "Scraping: https://www.mediamarkt.es/es/category/_dispensadores-de-bebidas-702174.html\n"
     ]
    },
    {
     "name": "stderr",
     "output_type": "stream",
     "text": [
      "0it [00:00, ?it/s]\n"
     ]
    },
    {
     "name": "stdout",
     "output_type": "stream",
     "text": [
      "Escaneando pagina 407 de 1012\n",
      "Scraping: https://www.mediamarkt.es/es/category/_menaje-702175.html\n"
     ]
    },
    {
     "name": "stderr",
     "output_type": "stream",
     "text": [
      "0it [00:00, ?it/s]\n"
     ]
    },
    {
     "name": "stdout",
     "output_type": "stream",
     "text": [
      "Escaneando pagina 408 de 1012\n",
      "Scraping: https://www.mediamarkt.es/es/category/_sartenes-702657.html\n",
      "Número de páginas: 3\n"
     ]
    },
    {
     "name": "stderr",
     "output_type": "stream",
     "text": [
      "100%|██████████| 3/3 [00:04<00:00,  1.32s/it]\n"
     ]
    },
    {
     "name": "stdout",
     "output_type": "stream",
     "text": [
      "Escaneando pagina 409 de 1012\n",
      "Scraping: https://www.mediamarkt.es/es/category/_ollas-702658.html\n",
      "Número de páginas: 6\n"
     ]
    },
    {
     "name": "stderr",
     "output_type": "stream",
     "text": [
      "100%|██████████| 6/6 [00:08<00:00,  1.38s/it]\n"
     ]
    },
    {
     "name": "stdout",
     "output_type": "stream",
     "text": [
      "Escaneando pagina 410 de 1012\n",
      "Scraping: https://www.mediamarkt.es/es/category/_bater%C3%ADas-de-cocina-702659.html\n"
     ]
    },
    {
     "name": "stderr",
     "output_type": "stream",
     "text": [
      "0it [00:00, ?it/s]\n"
     ]
    },
    {
     "name": "stdout",
     "output_type": "stream",
     "text": [
      "Escaneando pagina 411 de 1012\n",
      "Scraping: https://www.mediamarkt.es/es/category/_utensilios-de-cocina-702660.html\n",
      "Número de páginas: 9\n"
     ]
    },
    {
     "name": "stderr",
     "output_type": "stream",
     "text": [
      "100%|██████████| 9/9 [00:14<00:00,  1.60s/it]\n"
     ]
    },
    {
     "name": "stdout",
     "output_type": "stream",
     "text": [
      "Escaneando pagina 412 de 1012\n",
      "Scraping: https://www.mediamarkt.es/es/category/_termos-y-fiambreras-702661.html\n",
      "Número de páginas: 3\n"
     ]
    },
    {
     "name": "stderr",
     "output_type": "stream",
     "text": [
      "100%|██████████| 3/3 [00:03<00:00,  1.23s/it]\n"
     ]
    },
    {
     "name": "stdout",
     "output_type": "stream",
     "text": [
      "Escaneando pagina 413 de 1012\n",
      "Scraping: https://www.mediamarkt.es/es/category/_tuppers-702662.html\n",
      "Número de páginas: 3\n"
     ]
    },
    {
     "name": "stderr",
     "output_type": "stream",
     "text": [
      "100%|██████████| 3/3 [00:03<00:00,  1.32s/it]\n"
     ]
    },
    {
     "name": "stdout",
     "output_type": "stream",
     "text": [
      "Escaneando pagina 414 de 1012\n",
      "Scraping: https://www.mediamarkt.es/es/category/_filtrado-de-agua-702176.html\n",
      "Número de páginas: 2\n"
     ]
    },
    {
     "name": "stderr",
     "output_type": "stream",
     "text": [
      "100%|██████████| 2/2 [00:03<00:00,  2.19s/it]\n"
     ]
    },
    {
     "name": "stdout",
     "output_type": "stream",
     "text": [
      "Escaneando pagina 415 de 1012\n",
      "Scraping: https://www.mediamarkt.es/es/category/_jarras-filtrantes-702663.html\n",
      "Número de páginas: 2\n"
     ]
    },
    {
     "name": "stderr",
     "output_type": "stream",
     "text": [
      "100%|██████████| 2/2 [00:02<00:00,  1.35s/it]\n"
     ]
    },
    {
     "name": "stdout",
     "output_type": "stream",
     "text": [
      "Escaneando pagina 416 de 1012\n",
      "Scraping: https://www.mediamarkt.es/es/category/_filtros-y-recambios-702664.html\n"
     ]
    },
    {
     "name": "stderr",
     "output_type": "stream",
     "text": [
      "0it [00:00, ?it/s]\n"
     ]
    },
    {
     "name": "stdout",
     "output_type": "stream",
     "text": [
      "Escaneando pagina 417 de 1012\n",
      "Scraping: https://www.mediamarkt.es/es/category/_reposter%C3%ADa-y-cocina-divertida-701239.html\n",
      "Número de páginas: 6\n"
     ]
    },
    {
     "name": "stderr",
     "output_type": "stream",
     "text": [
      "100%|██████████| 6/6 [00:09<00:00,  1.47s/it]\n"
     ]
    },
    {
     "name": "stdout",
     "output_type": "stream",
     "text": [
      "Escaneando pagina 418 de 1012\n",
      "Scraping: https://www.mediamarkt.es/es/category/_batidoras-de-reposter%C3%ADa-702177.html\n",
      "Número de páginas: 2\n"
     ]
    },
    {
     "name": "stderr",
     "output_type": "stream",
     "text": [
      "100%|██████████| 2/2 [00:02<00:00,  1.38s/it]\n"
     ]
    },
    {
     "name": "stdout",
     "output_type": "stream",
     "text": [
      "Escaneando pagina 419 de 1012\n",
      "Scraping: https://www.mediamarkt.es/es/category/_moldes-y-bandejas-702178.html\n"
     ]
    },
    {
     "name": "stderr",
     "output_type": "stream",
     "text": [
      "0it [00:00, ?it/s]\n"
     ]
    },
    {
     "name": "stdout",
     "output_type": "stream",
     "text": [
      "Escaneando pagina 420 de 1012\n",
      "Scraping: https://www.mediamarkt.es/es/category/_crepes-gofres-y-cupcakes-702179.html\n"
     ]
    },
    {
     "name": "stderr",
     "output_type": "stream",
     "text": [
      "0it [00:00, ?it/s]\n"
     ]
    },
    {
     "name": "stdout",
     "output_type": "stream",
     "text": [
      "Escaneando pagina 421 de 1012\n",
      "Scraping: https://www.mediamarkt.es/es/category/_fondues-fuentes-de-chocolate-702180.html\n"
     ]
    },
    {
     "name": "stderr",
     "output_type": "stream",
     "text": [
      "0it [00:00, ?it/s]\n"
     ]
    },
    {
     "name": "stdout",
     "output_type": "stream",
     "text": [
      "Escaneando pagina 422 de 1012\n",
      "Scraping: https://www.mediamarkt.es/es/category/_heladeras-702181.html\n"
     ]
    },
    {
     "name": "stderr",
     "output_type": "stream",
     "text": [
      "0it [00:00, ?it/s]\n"
     ]
    },
    {
     "name": "stdout",
     "output_type": "stream",
     "text": [
      "Escaneando pagina 423 de 1012\n",
      "Scraping: https://www.mediamarkt.es/es/category/_hot-dogs-y-burgers-702182.html\n"
     ]
    },
    {
     "name": "stderr",
     "output_type": "stream",
     "text": [
      "0it [00:00, ?it/s]\n"
     ]
    },
    {
     "name": "stdout",
     "output_type": "stream",
     "text": [
      "Escaneando pagina 424 de 1012\n",
      "Scraping: https://www.mediamarkt.es/es/category/_palomitas-y-algod%C3%B3n-de-az%C3%BAcar-702183.html\n",
      "Número de páginas: 2\n"
     ]
    },
    {
     "name": "stderr",
     "output_type": "stream",
     "text": [
      "100%|██████████| 2/2 [00:02<00:00,  1.26s/it]\n"
     ]
    },
    {
     "name": "stdout",
     "output_type": "stream",
     "text": [
      "Escaneando pagina 425 de 1012\n",
      "Scraping: https://www.mediamarkt.es/es/category/_lavavajillas-701240.html\n"
     ]
    },
    {
     "name": "stderr",
     "output_type": "stream",
     "text": [
      "0it [00:00, ?it/s]\n"
     ]
    },
    {
     "name": "stdout",
     "output_type": "stream",
     "text": [
      "Escaneando pagina 426 de 1012\n",
      "Scraping: https://www.mediamarkt.es/es/category/_lavavajillas-libre-instalaci%C3%B3n-702184.html\n",
      "Número de páginas: 6\n"
     ]
    },
    {
     "name": "stderr",
     "output_type": "stream",
     "text": [
      "100%|██████████| 6/6 [00:08<00:00,  1.34s/it]\n"
     ]
    },
    {
     "name": "stdout",
     "output_type": "stream",
     "text": [
      "Escaneando pagina 427 de 1012\n",
      "Scraping: https://www.mediamarkt.es/es/category/_lavavajillas-integrables-702185.html\n",
      "Número de páginas: 2\n"
     ]
    },
    {
     "name": "stderr",
     "output_type": "stream",
     "text": [
      "100%|██████████| 2/2 [00:02<00:00,  1.32s/it]\n"
     ]
    },
    {
     "name": "stdout",
     "output_type": "stream",
     "text": [
      "Escaneando pagina 428 de 1012\n",
      "Scraping: https://www.mediamarkt.es/es/category/_lavavajillas-compactos-702186.html\n"
     ]
    },
    {
     "name": "stderr",
     "output_type": "stream",
     "text": [
      "0it [00:00, ?it/s]\n"
     ]
    },
    {
     "name": "stdout",
     "output_type": "stream",
     "text": [
      "Escaneando pagina 429 de 1012\n",
      "Scraping: https://www.mediamarkt.es/es/category/_accesorios-lavavajillas-702187.html\n"
     ]
    },
    {
     "name": "stderr",
     "output_type": "stream",
     "text": [
      "0it [00:00, ?it/s]\n"
     ]
    },
    {
     "name": "stdout",
     "output_type": "stream",
     "text": [
      "Escaneando pagina 430 de 1012\n",
      "Scraping: https://www.mediamarkt.es/es/category/_vinotecas-701241.html\n",
      "Número de páginas: 2\n"
     ]
    },
    {
     "name": "stderr",
     "output_type": "stream",
     "text": [
      "100%|██████████| 2/2 [00:02<00:00,  1.01s/it]\n"
     ]
    },
    {
     "name": "stdout",
     "output_type": "stream",
     "text": [
      "Escaneando pagina 431 de 1012\n",
      "Scraping: https://www.mediamarkt.es/es/category/_libre-instalaci%C3%B3n-702188.html\n",
      "Número de páginas: 2\n"
     ]
    },
    {
     "name": "stderr",
     "output_type": "stream",
     "text": [
      "100%|██████████| 2/2 [00:02<00:00,  1.50s/it]\n"
     ]
    },
    {
     "name": "stdout",
     "output_type": "stream",
     "text": [
      "Escaneando pagina 432 de 1012\n",
      "Scraping: https://www.mediamarkt.es/es/category/_integraci%C3%B3n-702189.html\n"
     ]
    },
    {
     "name": "stderr",
     "output_type": "stream",
     "text": [
      "0it [00:00, ?it/s]\n"
     ]
    },
    {
     "name": "stdout",
     "output_type": "stream",
     "text": [
      "Escaneando pagina 433 de 1012\n",
      "Scraping: https://www.mediamarkt.es/es/category/_termos-y-calentadores-701242.html\n"
     ]
    },
    {
     "name": "stderr",
     "output_type": "stream",
     "text": [
      "0it [00:00, ?it/s]\n"
     ]
    },
    {
     "name": "stdout",
     "output_type": "stream",
     "text": [
      "Escaneando pagina 434 de 1012\n",
      "Scraping: https://www.mediamarkt.es/es/category/_calentadores-el%C3%A9ctricos-702190.html\n"
     ]
    },
    {
     "name": "stderr",
     "output_type": "stream",
     "text": [
      "0it [00:00, ?it/s]\n"
     ]
    },
    {
     "name": "stdout",
     "output_type": "stream",
     "text": [
      "Escaneando pagina 435 de 1012\n",
      "Scraping: https://www.mediamarkt.es/es/category/_lavado-y-cuidado-de-la-ropa-701133.html\n"
     ]
    },
    {
     "name": "stderr",
     "output_type": "stream",
     "text": [
      "0it [00:00, ?it/s]\n"
     ]
    },
    {
     "name": "stdout",
     "output_type": "stream",
     "text": [
      "Escaneando pagina 436 de 1012\n",
      "Scraping: https://www.mediamarkt.es/es/category/_lavado-701243.html\n"
     ]
    },
    {
     "name": "stderr",
     "output_type": "stream",
     "text": [
      "0it [00:00, ?it/s]\n"
     ]
    },
    {
     "name": "stdout",
     "output_type": "stream",
     "text": [
      "Escaneando pagina 437 de 1012\n",
      "Scraping: https://www.mediamarkt.es/es/category/_lavadoras-carga-frontal-702191.html\n",
      "Número de páginas: 8\n"
     ]
    },
    {
     "name": "stderr",
     "output_type": "stream",
     "text": [
      "100%|██████████| 8/8 [00:08<00:00,  1.12s/it]\n"
     ]
    },
    {
     "name": "stdout",
     "output_type": "stream",
     "text": [
      "Escaneando pagina 438 de 1012\n",
      "Scraping: https://www.mediamarkt.es/es/category/_lavadoras-carga-superior-702192.html\n",
      "Número de páginas: 2\n"
     ]
    },
    {
     "name": "stderr",
     "output_type": "stream",
     "text": [
      "100%|██████████| 2/2 [00:02<00:00,  1.44s/it]\n"
     ]
    },
    {
     "name": "stdout",
     "output_type": "stream",
     "text": [
      "Escaneando pagina 439 de 1012\n",
      "Scraping: https://www.mediamarkt.es/es/category/_lavadoras-secadoras-702193.html\n",
      "Número de páginas: 2\n"
     ]
    },
    {
     "name": "stderr",
     "output_type": "stream",
     "text": [
      "100%|██████████| 2/2 [00:02<00:00,  1.03s/it]\n"
     ]
    },
    {
     "name": "stdout",
     "output_type": "stream",
     "text": [
      "Escaneando pagina 440 de 1012\n",
      "Scraping: https://www.mediamarkt.es/es/category/_lavadoras-integrables-702194.html\n"
     ]
    },
    {
     "name": "stderr",
     "output_type": "stream",
     "text": [
      "0it [00:00, ?it/s]\n"
     ]
    },
    {
     "name": "stdout",
     "output_type": "stream",
     "text": [
      "Escaneando pagina 441 de 1012\n",
      "Scraping: https://www.mediamarkt.es/es/category/_accesorios-lavadoras-702195.html\n",
      "Número de páginas: 3\n"
     ]
    },
    {
     "name": "stderr",
     "output_type": "stream",
     "text": [
      "100%|██████████| 3/3 [00:04<00:00,  1.40s/it]\n"
     ]
    },
    {
     "name": "stdout",
     "output_type": "stream",
     "text": [
      "Escaneando pagina 442 de 1012\n",
      "Scraping: https://www.mediamarkt.es/es/category/_secado-701244.html\n"
     ]
    },
    {
     "name": "stderr",
     "output_type": "stream",
     "text": [
      "0it [00:00, ?it/s]\n"
     ]
    },
    {
     "name": "stdout",
     "output_type": "stream",
     "text": [
      "Escaneando pagina 443 de 1012\n",
      "Scraping: https://www.mediamarkt.es/es/category/_secadoras-bomba-de-calor-702196.html\n",
      "Número de páginas: 3\n"
     ]
    },
    {
     "name": "stderr",
     "output_type": "stream",
     "text": [
      "100%|██████████| 3/3 [00:03<00:00,  1.16s/it]\n"
     ]
    },
    {
     "name": "stdout",
     "output_type": "stream",
     "text": [
      "Escaneando pagina 444 de 1012\n",
      "Scraping: https://www.mediamarkt.es/es/category/_secadoras-condensaci%C3%B3n-702197.html\n"
     ]
    },
    {
     "name": "stderr",
     "output_type": "stream",
     "text": [
      "0it [00:00, ?it/s]\n"
     ]
    },
    {
     "name": "stdout",
     "output_type": "stream",
     "text": [
      "Escaneando pagina 445 de 1012\n",
      "Scraping: https://www.mediamarkt.es/es/category/_secadoras-evacuaci%C3%B3n-702198.html\n"
     ]
    },
    {
     "name": "stderr",
     "output_type": "stream",
     "text": [
      "0it [00:00, ?it/s]\n"
     ]
    },
    {
     "name": "stdout",
     "output_type": "stream",
     "text": [
      "Escaneando pagina 446 de 1012\n",
      "Scraping: https://www.mediamarkt.es/es/category/_tendederos-y-accesorios-702199.html\n",
      "Número de páginas: 2\n"
     ]
    },
    {
     "name": "stderr",
     "output_type": "stream",
     "text": [
      "100%|██████████| 2/2 [00:02<00:00,  1.20s/it]\n"
     ]
    },
    {
     "name": "stdout",
     "output_type": "stream",
     "text": [
      "Escaneando pagina 447 de 1012\n",
      "Scraping: https://www.mediamarkt.es/es/category/_planchado-701245.html\n"
     ]
    },
    {
     "name": "stderr",
     "output_type": "stream",
     "text": [
      "0it [00:00, ?it/s]\n"
     ]
    },
    {
     "name": "stdout",
     "output_type": "stream",
     "text": [
      "Escaneando pagina 448 de 1012\n",
      "Scraping: https://www.mediamarkt.es/es/category/_centros-de-planchado-702200.html\n",
      "Número de páginas: 4\n"
     ]
    },
    {
     "name": "stderr",
     "output_type": "stream",
     "text": [
      "100%|██████████| 4/4 [00:07<00:00,  1.95s/it]\n"
     ]
    },
    {
     "name": "stdout",
     "output_type": "stream",
     "text": [
      "Escaneando pagina 449 de 1012\n",
      "Scraping: https://www.mediamarkt.es/es/category/_planchas-de-vapor-702201.html\n",
      "Número de páginas: 4\n"
     ]
    },
    {
     "name": "stderr",
     "output_type": "stream",
     "text": [
      "100%|██████████| 4/4 [00:04<00:00,  1.01it/s]\n"
     ]
    },
    {
     "name": "stdout",
     "output_type": "stream",
     "text": [
      "Escaneando pagina 450 de 1012\n",
      "Scraping: https://www.mediamarkt.es/es/category/_planchado-vertical-702202.html\n"
     ]
    },
    {
     "name": "stderr",
     "output_type": "stream",
     "text": [
      "0it [00:00, ?it/s]\n"
     ]
    },
    {
     "name": "stdout",
     "output_type": "stream",
     "text": [
      "Escaneando pagina 451 de 1012\n",
      "Scraping: https://www.mediamarkt.es/es/category/_tablas-y-accesorios-702203.html\n",
      "Número de páginas: 4\n"
     ]
    },
    {
     "name": "stderr",
     "output_type": "stream",
     "text": [
      "100%|██████████| 4/4 [00:06<00:00,  1.55s/it]\n"
     ]
    },
    {
     "name": "stdout",
     "output_type": "stream",
     "text": [
      "Escaneando pagina 452 de 1012\n",
      "Scraping: https://www.mediamarkt.es/es/category/_costura-701246.html\n",
      "Número de páginas: 2\n"
     ]
    },
    {
     "name": "stderr",
     "output_type": "stream",
     "text": [
      "100%|██████████| 2/2 [00:01<00:00,  1.02it/s]\n"
     ]
    },
    {
     "name": "stdout",
     "output_type": "stream",
     "text": [
      "Escaneando pagina 453 de 1012\n",
      "Scraping: https://www.mediamarkt.es/es/category/_calefacci%C3%B3n-y-clima-701134.html\n"
     ]
    },
    {
     "name": "stderr",
     "output_type": "stream",
     "text": [
      "0it [00:00, ?it/s]\n"
     ]
    },
    {
     "name": "stdout",
     "output_type": "stream",
     "text": [
      "Escaneando pagina 454 de 1012\n",
      "Scraping: https://www.mediamarkt.es/es/category/_aire-acondicionado-701248.html\n",
      "Número de páginas: 2\n"
     ]
    },
    {
     "name": "stderr",
     "output_type": "stream",
     "text": [
      "100%|██████████| 2/2 [00:02<00:00,  1.03s/it]\n"
     ]
    },
    {
     "name": "stdout",
     "output_type": "stream",
     "text": [
      "Escaneando pagina 455 de 1012\n",
      "Scraping: https://www.mediamarkt.es/es/category/_split-1-x-1-702211.html\n"
     ]
    },
    {
     "name": "stderr",
     "output_type": "stream",
     "text": [
      "0it [00:00, ?it/s]\n"
     ]
    },
    {
     "name": "stdout",
     "output_type": "stream",
     "text": [
      "Escaneando pagina 456 de 1012\n",
      "Scraping: https://www.mediamarkt.es/es/category/_split-2-x-1-702212.html\n"
     ]
    },
    {
     "name": "stderr",
     "output_type": "stream",
     "text": [
      "0it [00:00, ?it/s]\n"
     ]
    },
    {
     "name": "stdout",
     "output_type": "stream",
     "text": [
      "Escaneando pagina 457 de 1012\n",
      "Scraping: https://www.mediamarkt.es/es/category/_split-3-x-1-702214.html\n"
     ]
    },
    {
     "name": "stderr",
     "output_type": "stream",
     "text": [
      "0it [00:00, ?it/s]\n"
     ]
    },
    {
     "name": "stdout",
     "output_type": "stream",
     "text": [
      "Escaneando pagina 458 de 1012\n",
      "Scraping: https://www.mediamarkt.es/es/category/_accesorios-aire-acondicionado-702213.html\n"
     ]
    },
    {
     "name": "stderr",
     "output_type": "stream",
     "text": [
      "0it [00:00, ?it/s]\n"
     ]
    },
    {
     "name": "stdout",
     "output_type": "stream",
     "text": [
      "Escaneando pagina 459 de 1012\n",
      "Scraping: https://www.mediamarkt.es/es/category/_aire-acondicionado-port%C3%A1til-701253.html\n"
     ]
    },
    {
     "name": "stderr",
     "output_type": "stream",
     "text": [
      "0it [00:00, ?it/s]\n"
     ]
    },
    {
     "name": "stdout",
     "output_type": "stream",
     "text": [
      "Escaneando pagina 460 de 1012\n",
      "Scraping: https://www.mediamarkt.es/es/category/_hasta-2-000-frigor%C3%ADas-702217.html\n"
     ]
    },
    {
     "name": "stderr",
     "output_type": "stream",
     "text": [
      "0it [00:00, ?it/s]\n"
     ]
    },
    {
     "name": "stdout",
     "output_type": "stream",
     "text": [
      "Escaneando pagina 461 de 1012\n",
      "Scraping: https://www.mediamarkt.es/es/category/_superior-a-2-000-frigor%C3%ADas-702218.html\n"
     ]
    },
    {
     "name": "stderr",
     "output_type": "stream",
     "text": [
      "0it [00:00, ?it/s]\n"
     ]
    },
    {
     "name": "stdout",
     "output_type": "stream",
     "text": [
      "Escaneando pagina 462 de 1012\n",
      "Scraping: https://www.mediamarkt.es/es/category/_ventiladores-701254.html\n",
      "Número de páginas: 9\n"
     ]
    },
    {
     "name": "stderr",
     "output_type": "stream",
     "text": [
      "100%|██████████| 9/9 [00:13<00:00,  1.46s/it]\n"
     ]
    },
    {
     "name": "stdout",
     "output_type": "stream",
     "text": [
      "Escaneando pagina 463 de 1012\n",
      "Scraping: https://www.mediamarkt.es/es/category/_ventilador-de-torre-702219.html\n",
      "Número de páginas: 2\n"
     ]
    },
    {
     "name": "stderr",
     "output_type": "stream",
     "text": [
      "100%|██████████| 2/2 [00:02<00:00,  1.11s/it]\n"
     ]
    },
    {
     "name": "stdout",
     "output_type": "stream",
     "text": [
      "Escaneando pagina 464 de 1012\n",
      "Scraping: https://www.mediamarkt.es/es/category/_ventilador-de-pie-702220.html\n",
      "Número de páginas: 6\n"
     ]
    },
    {
     "name": "stderr",
     "output_type": "stream",
     "text": [
      "100%|██████████| 6/6 [00:08<00:00,  1.37s/it]\n"
     ]
    },
    {
     "name": "stdout",
     "output_type": "stream",
     "text": [
      "Escaneando pagina 465 de 1012\n",
      "Scraping: https://www.mediamarkt.es/es/category/_ventilador-de-sobremesa-702221.html\n",
      "Número de páginas: 2\n"
     ]
    },
    {
     "name": "stderr",
     "output_type": "stream",
     "text": [
      "100%|██████████| 2/2 [00:02<00:00,  1.38s/it]\n"
     ]
    },
    {
     "name": "stdout",
     "output_type": "stream",
     "text": [
      "Escaneando pagina 466 de 1012\n",
      "Scraping: https://www.mediamarkt.es/es/category/_ventilador-de-techo-702222.html\n",
      "Número de páginas: 3\n"
     ]
    },
    {
     "name": "stderr",
     "output_type": "stream",
     "text": [
      "100%|██████████| 3/3 [00:04<00:00,  1.38s/it]\n"
     ]
    },
    {
     "name": "stdout",
     "output_type": "stream",
     "text": [
      "Escaneando pagina 467 de 1012\n",
      "Scraping: https://www.mediamarkt.es/es/category/_ventilador-de-agua-702224.html\n"
     ]
    },
    {
     "name": "stderr",
     "output_type": "stream",
     "text": [
      "0it [00:00, ?it/s]\n"
     ]
    },
    {
     "name": "stdout",
     "output_type": "stream",
     "text": [
      "Escaneando pagina 468 de 1012\n",
      "Scraping: https://www.mediamarkt.es/es/category/_deshumificadores-hogar-701249.html\n",
      "Número de páginas: 2\n"
     ]
    },
    {
     "name": "stderr",
     "output_type": "stream",
     "text": [
      "100%|██████████| 2/2 [00:02<00:00,  1.01s/it]\n"
     ]
    },
    {
     "name": "stdout",
     "output_type": "stream",
     "text": [
      "Escaneando pagina 469 de 1012\n",
      "Scraping: https://www.mediamarkt.es/es/category/_humidificadores-701250.html\n",
      "Número de páginas: 2\n"
     ]
    },
    {
     "name": "stderr",
     "output_type": "stream",
     "text": [
      "100%|██████████| 2/2 [00:02<00:00,  1.48s/it]\n"
     ]
    },
    {
     "name": "stdout",
     "output_type": "stream",
     "text": [
      "Escaneando pagina 470 de 1012\n",
      "Scraping: https://www.mediamarkt.es/es/category/_purificadores-y-difusores-701251.html\n"
     ]
    },
    {
     "name": "stderr",
     "output_type": "stream",
     "text": [
      "0it [00:00, ?it/s]\n"
     ]
    },
    {
     "name": "stdout",
     "output_type": "stream",
     "text": [
      "Escaneando pagina 471 de 1012\n",
      "Scraping: https://www.mediamarkt.es/es/category/_termos-y-calentadores-el%C3%A9ctricos-701252.html\n"
     ]
    },
    {
     "name": "stderr",
     "output_type": "stream",
     "text": [
      "0it [00:00, ?it/s]\n"
     ]
    },
    {
     "name": "stdout",
     "output_type": "stream",
     "text": [
      "Escaneando pagina 472 de 1012\n",
      "Scraping: https://www.mediamarkt.es/es/category/_termos-el%C3%A9ctricos-702215.html\n"
     ]
    },
    {
     "name": "stderr",
     "output_type": "stream",
     "text": [
      "0it [00:00, ?it/s]\n"
     ]
    },
    {
     "name": "stdout",
     "output_type": "stream",
     "text": [
      "Escaneando pagina 473 de 1012\n",
      "Scraping: https://www.mediamarkt.es/es/category/_calefacci%C3%B3n-701247.html\n",
      "Número de páginas: 4\n"
     ]
    },
    {
     "name": "stderr",
     "output_type": "stream",
     "text": [
      "100%|██████████| 4/4 [00:04<00:00,  1.09s/it]\n"
     ]
    },
    {
     "name": "stdout",
     "output_type": "stream",
     "text": [
      "Escaneando pagina 474 de 1012\n",
      "Scraping: https://www.mediamarkt.es/es/category/_emisores-t%C3%A9rmicos-702204.html\n"
     ]
    },
    {
     "name": "stderr",
     "output_type": "stream",
     "text": [
      "0it [00:00, ?it/s]\n"
     ]
    },
    {
     "name": "stdout",
     "output_type": "stream",
     "text": [
      "Escaneando pagina 475 de 1012\n",
      "Scraping: https://www.mediamarkt.es/es/category/_radiadores-702205.html\n"
     ]
    },
    {
     "name": "stderr",
     "output_type": "stream",
     "text": [
      "0it [00:00, ?it/s]\n"
     ]
    },
    {
     "name": "stdout",
     "output_type": "stream",
     "text": [
      "Escaneando pagina 476 de 1012\n",
      "Scraping: https://www.mediamarkt.es/es/category/_calefactores-702206.html\n"
     ]
    },
    {
     "name": "stderr",
     "output_type": "stream",
     "text": [
      "0it [00:00, ?it/s]\n"
     ]
    },
    {
     "name": "stdout",
     "output_type": "stream",
     "text": [
      "Escaneando pagina 477 de 1012\n",
      "Scraping: https://www.mediamarkt.es/es/category/_convectores-702207.html\n"
     ]
    },
    {
     "name": "stderr",
     "output_type": "stream",
     "text": [
      "0it [00:00, ?it/s]\n"
     ]
    },
    {
     "name": "stdout",
     "output_type": "stream",
     "text": [
      "Escaneando pagina 478 de 1012\n",
      "Scraping: https://www.mediamarkt.es/es/category/_estufas-el%C3%A9ctricas-702208.html\n",
      "Número de páginas: 2\n"
     ]
    },
    {
     "name": "stderr",
     "output_type": "stream",
     "text": [
      "100%|██████████| 2/2 [00:02<00:00,  1.33s/it]\n"
     ]
    },
    {
     "name": "stdout",
     "output_type": "stream",
     "text": [
      "Escaneando pagina 479 de 1012\n",
      "Scraping: https://www.mediamarkt.es/es/category/_estufas-de-gas-702209.html\n"
     ]
    },
    {
     "name": "stderr",
     "output_type": "stream",
     "text": [
      "0it [00:00, ?it/s]\n"
     ]
    },
    {
     "name": "stdout",
     "output_type": "stream",
     "text": [
      "Escaneando pagina 480 de 1012\n",
      "Scraping: https://www.mediamarkt.es/es/category/_especial-ba%C3%B1o-702210.html\n"
     ]
    },
    {
     "name": "stderr",
     "output_type": "stream",
     "text": [
      "0it [00:00, ?it/s]\n"
     ]
    },
    {
     "name": "stdout",
     "output_type": "stream",
     "text": [
      "Escaneando pagina 481 de 1012\n",
      "Scraping: https://www.mediamarkt.es/es/category/_climatizadores-701255.html\n"
     ]
    },
    {
     "name": "stderr",
     "output_type": "stream",
     "text": [
      "0it [00:00, ?it/s]\n"
     ]
    },
    {
     "name": "stdout",
     "output_type": "stream",
     "text": [
      "Escaneando pagina 482 de 1012\n",
      "Scraping: https://www.mediamarkt.es/es/category/_jard%C3%ADn-y-mascotas-701135.html\n"
     ]
    },
    {
     "name": "stderr",
     "output_type": "stream",
     "text": [
      "0it [00:00, ?it/s]\n"
     ]
    },
    {
     "name": "stdout",
     "output_type": "stream",
     "text": [
      "Escaneando pagina 483 de 1012\n",
      "Scraping: https://www.mediamarkt.es/es/category/_barbacoas-y-grill-701256.html\n",
      "Número de páginas: 3\n"
     ]
    },
    {
     "name": "stderr",
     "output_type": "stream",
     "text": [
      "100%|██████████| 3/3 [00:04<00:00,  1.40s/it]\n"
     ]
    },
    {
     "name": "stdout",
     "output_type": "stream",
     "text": [
      "Escaneando pagina 484 de 1012\n",
      "Scraping: https://www.mediamarkt.es/es/category/_barbacoas-el%C3%A9ctricas-702225.html\n"
     ]
    },
    {
     "name": "stderr",
     "output_type": "stream",
     "text": [
      "0it [00:00, ?it/s]\n"
     ]
    },
    {
     "name": "stdout",
     "output_type": "stream",
     "text": [
      "Escaneando pagina 485 de 1012\n",
      "Scraping: https://www.mediamarkt.es/es/category/_barbacoas-a-gas-702226.html\n"
     ]
    },
    {
     "name": "stderr",
     "output_type": "stream",
     "text": [
      "0it [00:00, ?it/s]\n"
     ]
    },
    {
     "name": "stdout",
     "output_type": "stream",
     "text": [
      "Escaneando pagina 486 de 1012\n",
      "Scraping: https://www.mediamarkt.es/es/category/_barbacoas-de-carb%C3%B3n-702227.html\n"
     ]
    },
    {
     "name": "stderr",
     "output_type": "stream",
     "text": [
      "0it [00:00, ?it/s]\n"
     ]
    },
    {
     "name": "stdout",
     "output_type": "stream",
     "text": [
      "Escaneando pagina 487 de 1012\n",
      "Scraping: https://www.mediamarkt.es/es/category/_accesorios-y-utensilios-702228.html\n",
      "Número de páginas: 2\n"
     ]
    },
    {
     "name": "stderr",
     "output_type": "stream",
     "text": [
      "100%|██████████| 2/2 [00:02<00:00,  1.03s/it]\n"
     ]
    },
    {
     "name": "stdout",
     "output_type": "stream",
     "text": [
      "Escaneando pagina 488 de 1012\n",
      "Scraping: https://www.mediamarkt.es/es/category/_limpieza-exterior-701258.html\n",
      "Número de páginas: 3\n"
     ]
    },
    {
     "name": "stderr",
     "output_type": "stream",
     "text": [
      "100%|██████████| 3/3 [00:02<00:00,  1.02it/s]\n"
     ]
    },
    {
     "name": "stdout",
     "output_type": "stream",
     "text": [
      "Escaneando pagina 489 de 1012\n",
      "Scraping: https://www.mediamarkt.es/es/category/_limpieza-de-cristales-702232.html\n"
     ]
    },
    {
     "name": "stderr",
     "output_type": "stream",
     "text": [
      "0it [00:00, ?it/s]\n"
     ]
    },
    {
     "name": "stdout",
     "output_type": "stream",
     "text": [
      "Escaneando pagina 490 de 1012\n",
      "Scraping: https://www.mediamarkt.es/es/category/_limpieza-de-suelos-702233.html\n"
     ]
    },
    {
     "name": "stderr",
     "output_type": "stream",
     "text": [
      "0it [00:00, ?it/s]\n"
     ]
    },
    {
     "name": "stdout",
     "output_type": "stream",
     "text": [
      "Escaneando pagina 491 de 1012\n",
      "Scraping: https://www.mediamarkt.es/es/category/_hidrolimpiadoras-702234.html\n"
     ]
    },
    {
     "name": "stderr",
     "output_type": "stream",
     "text": [
      "0it [00:00, ?it/s]\n"
     ]
    },
    {
     "name": "stdout",
     "output_type": "stream",
     "text": [
      "Escaneando pagina 492 de 1012\n",
      "Scraping: https://www.mediamarkt.es/es/category/_limpieza-a-vapor-702235.html\n"
     ]
    },
    {
     "name": "stderr",
     "output_type": "stream",
     "text": [
      "0it [00:00, ?it/s]\n"
     ]
    },
    {
     "name": "stdout",
     "output_type": "stream",
     "text": [
      "Escaneando pagina 493 de 1012\n",
      "Scraping: https://www.mediamarkt.es/es/category/_climatizaci%C3%B3n-y-refrigeraci%C3%B3n-701257.html\n",
      "Número de páginas: 2\n"
     ]
    },
    {
     "name": "stderr",
     "output_type": "stream",
     "text": [
      "100%|██████████| 2/2 [00:01<00:00,  1.04it/s]\n"
     ]
    },
    {
     "name": "stdout",
     "output_type": "stream",
     "text": [
      "Escaneando pagina 494 de 1012\n",
      "Scraping: https://www.mediamarkt.es/es/category/_neveras-port%C3%A1tiles-702229.html\n"
     ]
    },
    {
     "name": "stderr",
     "output_type": "stream",
     "text": [
      "0it [00:00, ?it/s]\n"
     ]
    },
    {
     "name": "stdout",
     "output_type": "stream",
     "text": [
      "Escaneando pagina 495 de 1012\n",
      "Scraping: https://www.mediamarkt.es/es/category/_ventiladores-702230.html\n"
     ]
    },
    {
     "name": "stderr",
     "output_type": "stream",
     "text": [
      "0it [00:00, ?it/s]\n"
     ]
    },
    {
     "name": "stdout",
     "output_type": "stream",
     "text": [
      "Escaneando pagina 496 de 1012\n",
      "Scraping: https://www.mediamarkt.es/es/category/_estaciones-meteorol%C3%B3gicas-702231.html\n",
      "Número de páginas: 2\n"
     ]
    },
    {
     "name": "stderr",
     "output_type": "stream",
     "text": [
      "100%|██████████| 2/2 [00:02<00:00,  1.33s/it]\n"
     ]
    },
    {
     "name": "stdout",
     "output_type": "stream",
     "text": [
      "Escaneando pagina 497 de 1012\n",
      "Scraping: https://www.mediamarkt.es/es/category/_mascotas-y-accesorios-701260.html\n"
     ]
    },
    {
     "name": "stderr",
     "output_type": "stream",
     "text": [
      "0it [00:00, ?it/s]\n"
     ]
    },
    {
     "name": "stdout",
     "output_type": "stream",
     "text": [
      "Escaneando pagina 498 de 1012\n",
      "Scraping: https://www.mediamarkt.es/es/category/_antimosquitos-701259.html\n"
     ]
    },
    {
     "name": "stderr",
     "output_type": "stream",
     "text": [
      "0it [00:00, ?it/s]\n"
     ]
    },
    {
     "name": "stdout",
     "output_type": "stream",
     "text": [
      "Escaneando pagina 499 de 1012\n",
      "Scraping: https://www.mediamarkt.es/es/category/_iluminaci%C3%B3n-exterior-701261.html\n",
      "Número de páginas: 2\n"
     ]
    },
    {
     "name": "stderr",
     "output_type": "stream",
     "text": [
      "100%|██████████| 2/2 [00:02<00:00,  1.46s/it]\n"
     ]
    },
    {
     "name": "stdout",
     "output_type": "stream",
     "text": [
      "Escaneando pagina 500 de 1012\n",
      "Scraping: https://www.mediamarkt.es/es/category/_bombillas-702236.html\n"
     ]
    },
    {
     "name": "stderr",
     "output_type": "stream",
     "text": [
      "0it [00:00, ?it/s]\n"
     ]
    },
    {
     "name": "stdout",
     "output_type": "stream",
     "text": [
      "Escaneando pagina 501 de 1012\n",
      "Scraping: https://www.mediamarkt.es/es/category/_luz-exterior-702237.html\n"
     ]
    },
    {
     "name": "stderr",
     "output_type": "stream",
     "text": [
      "0it [00:00, ?it/s]\n"
     ]
    },
    {
     "name": "stdout",
     "output_type": "stream",
     "text": [
      "Escaneando pagina 502 de 1012\n",
      "Scraping: https://www.mediamarkt.es/es/category/_luz-de-lectura-702238.html\n"
     ]
    },
    {
     "name": "stderr",
     "output_type": "stream",
     "text": [
      "0it [00:00, ?it/s]\n"
     ]
    },
    {
     "name": "stdout",
     "output_type": "stream",
     "text": [
      "Escaneando pagina 503 de 1012\n",
      "Scraping: https://www.mediamarkt.es/es/category/_infantil-702239.html\n"
     ]
    },
    {
     "name": "stderr",
     "output_type": "stream",
     "text": [
      "0it [00:00, ?it/s]\n"
     ]
    },
    {
     "name": "stdout",
     "output_type": "stream",
     "text": [
      "Escaneando pagina 504 de 1012\n",
      "Scraping: https://www.mediamarkt.es/es/category/_linternas-702240.html\n"
     ]
    },
    {
     "name": "stderr",
     "output_type": "stream",
     "text": [
      "0it [00:00, ?it/s]\n"
     ]
    },
    {
     "name": "stdout",
     "output_type": "stream",
     "text": [
      "Escaneando pagina 505 de 1012\n",
      "Scraping: https://www.mediamarkt.es/es/category/_aspiraci%C3%B3n-y-limpieza-701136.html\n"
     ]
    },
    {
     "name": "stderr",
     "output_type": "stream",
     "text": [
      "0it [00:00, ?it/s]\n"
     ]
    },
    {
     "name": "stdout",
     "output_type": "stream",
     "text": [
      "Escaneando pagina 506 de 1012\n",
      "Scraping: https://www.mediamarkt.es/es/category/_robots-aspiradores-701263.html\n",
      "Número de páginas: 3\n"
     ]
    },
    {
     "name": "stderr",
     "output_type": "stream",
     "text": [
      "100%|██████████| 3/3 [00:03<00:00,  1.03s/it]\n"
     ]
    },
    {
     "name": "stdout",
     "output_type": "stream",
     "text": [
      "Escaneando pagina 507 de 1012\n",
      "Scraping: https://www.mediamarkt.es/es/category/_aspiradores-sin-bolsa-701264.html\n",
      "Número de páginas: 3\n"
     ]
    },
    {
     "name": "stderr",
     "output_type": "stream",
     "text": [
      "100%|██████████| 3/3 [00:04<00:00,  1.59s/it]\n"
     ]
    },
    {
     "name": "stdout",
     "output_type": "stream",
     "text": [
      "Escaneando pagina 508 de 1012\n",
      "Scraping: https://www.mediamarkt.es/es/category/_aspiradores-con-bolsa-701265.html\n",
      "Número de páginas: 3\n"
     ]
    },
    {
     "name": "stderr",
     "output_type": "stream",
     "text": [
      "100%|██████████| 3/3 [00:03<00:00,  1.15s/it]\n"
     ]
    },
    {
     "name": "stdout",
     "output_type": "stream",
     "text": [
      "Escaneando pagina 509 de 1012\n",
      "Scraping: https://www.mediamarkt.es/es/category/_aspiradores-escoba-701266.html\n",
      "Número de páginas: 4\n"
     ]
    },
    {
     "name": "stderr",
     "output_type": "stream",
     "text": [
      "100%|██████████| 4/4 [00:05<00:00,  1.36s/it]\n"
     ]
    },
    {
     "name": "stdout",
     "output_type": "stream",
     "text": [
      "Escaneando pagina 510 de 1012\n",
      "Scraping: https://www.mediamarkt.es/es/category/_aspiradores-de-mano-701267.html\n",
      "Número de páginas: 2\n"
     ]
    },
    {
     "name": "stderr",
     "output_type": "stream",
     "text": [
      "100%|██████████| 2/2 [00:03<00:00,  1.82s/it]\n"
     ]
    },
    {
     "name": "stdout",
     "output_type": "stream",
     "text": [
      "Escaneando pagina 511 de 1012\n",
      "Scraping: https://www.mediamarkt.es/es/category/_bolsas-de-aspirador-701268.html\n",
      "Número de páginas: 2\n"
     ]
    },
    {
     "name": "stderr",
     "output_type": "stream",
     "text": [
      "100%|██████████| 2/2 [00:02<00:00,  1.13s/it]\n"
     ]
    },
    {
     "name": "stdout",
     "output_type": "stream",
     "text": [
      "Escaneando pagina 512 de 1012\n",
      "Scraping: https://www.mediamarkt.es/es/category/_accesorios-aspiraci%C3%B3n-y-limpieza-701269.html\n",
      "Número de páginas: 5\n"
     ]
    },
    {
     "name": "stderr",
     "output_type": "stream",
     "text": [
      "100%|██████████| 5/5 [00:07<00:00,  1.55s/it]\n"
     ]
    },
    {
     "name": "stdout",
     "output_type": "stream",
     "text": [
      "Escaneando pagina 513 de 1012\n",
      "Scraping: https://www.mediamarkt.es/es/category/_equipos-de-vapor-701270.html\n",
      "Número de páginas: 2\n"
     ]
    },
    {
     "name": "stderr",
     "output_type": "stream",
     "text": [
      "100%|██████████| 2/2 [00:02<00:00,  1.02s/it]\n"
     ]
    },
    {
     "name": "stdout",
     "output_type": "stream",
     "text": [
      "Escaneando pagina 514 de 1012\n",
      "Scraping: https://www.mediamarkt.es/es/category/_limpieza-vapor-port%C3%A1til-701271.html\n"
     ]
    },
    {
     "name": "stderr",
     "output_type": "stream",
     "text": [
      "0it [00:00, ?it/s]\n"
     ]
    },
    {
     "name": "stdout",
     "output_type": "stream",
     "text": [
      "Escaneando pagina 515 de 1012\n",
      "Scraping: https://www.mediamarkt.es/es/category/_limpieza-especial-ventanas-701272.html\n"
     ]
    },
    {
     "name": "stderr",
     "output_type": "stream",
     "text": [
      "0it [00:00, ?it/s]\n"
     ]
    },
    {
     "name": "stdout",
     "output_type": "stream",
     "text": [
      "Escaneando pagina 516 de 1012\n",
      "Scraping: https://www.mediamarkt.es/es/category/_limpieza-vapor-de-suelos-701273.html\n"
     ]
    },
    {
     "name": "stderr",
     "output_type": "stream",
     "text": [
      "0it [00:00, ?it/s]\n"
     ]
    },
    {
     "name": "stdout",
     "output_type": "stream",
     "text": [
      "Escaneando pagina 517 de 1012\n",
      "Scraping: https://www.mediamarkt.es/es/category/_hidrolimpiadoras-701274.html\n",
      "Número de páginas: 2\n"
     ]
    },
    {
     "name": "stderr",
     "output_type": "stream",
     "text": [
      "100%|██████████| 2/2 [00:02<00:00,  1.26s/it]\n"
     ]
    },
    {
     "name": "stdout",
     "output_type": "stream",
     "text": [
      "Escaneando pagina 518 de 1012\n",
      "Scraping: https://www.mediamarkt.es/es/category/_limpiadoras-alta-presi%C3%B3n-702241.html\n"
     ]
    },
    {
     "name": "stderr",
     "output_type": "stream",
     "text": [
      "0it [00:00, ?it/s]\n"
     ]
    },
    {
     "name": "stdout",
     "output_type": "stream",
     "text": [
      "Escaneando pagina 519 de 1012\n",
      "Scraping: https://www.mediamarkt.es/es/category/_accesorios-y-detergentes-702242.html\n"
     ]
    },
    {
     "name": "stderr",
     "output_type": "stream",
     "text": [
      "0it [00:00, ?it/s]\n"
     ]
    },
    {
     "name": "stdout",
     "output_type": "stream",
     "text": [
      "Escaneando pagina 520 de 1012\n",
      "Scraping: https://www.mediamarkt.es/es/category/_smart-home-701137.html\n"
     ]
    },
    {
     "name": "stderr",
     "output_type": "stream",
     "text": [
      "0it [00:00, ?it/s]\n"
     ]
    },
    {
     "name": "stdout",
     "output_type": "stream",
     "text": [
      "Escaneando pagina 521 de 1012\n",
      "Scraping: https://www.mediamarkt.es/es/category/_asistentes-digitales-716008.html\n",
      "Número de páginas: 2\n"
     ]
    },
    {
     "name": "stderr",
     "output_type": "stream",
     "text": [
      "100%|██████████| 2/2 [00:03<00:00,  1.50s/it]\n"
     ]
    },
    {
     "name": "stdout",
     "output_type": "stream",
     "text": [
      "Escaneando pagina 522 de 1012\n",
      "Scraping: https://www.mediamarkt.es/es/category/_seguridad-y-vigilancia-701275.html\n",
      "Número de páginas: 4\n"
     ]
    },
    {
     "name": "stderr",
     "output_type": "stream",
     "text": [
      "100%|██████████| 4/4 [00:05<00:00,  1.39s/it]\n"
     ]
    },
    {
     "name": "stdout",
     "output_type": "stream",
     "text": [
      "Escaneando pagina 523 de 1012\n",
      "Scraping: https://www.mediamarkt.es/es/category/_c%C3%A1maras-wifi-ip-702243.html\n",
      "Número de páginas: 3\n"
     ]
    },
    {
     "name": "stderr",
     "output_type": "stream",
     "text": [
      "100%|██████████| 3/3 [00:04<00:00,  1.51s/it]\n"
     ]
    },
    {
     "name": "stdout",
     "output_type": "stream",
     "text": [
      "Escaneando pagina 524 de 1012\n",
      "Scraping: https://www.mediamarkt.es/es/category/_c%C3%A1maras-ficticias-702244.html\n"
     ]
    },
    {
     "name": "stderr",
     "output_type": "stream",
     "text": [
      "0it [00:00, ?it/s]\n"
     ]
    },
    {
     "name": "stdout",
     "output_type": "stream",
     "text": [
      "Escaneando pagina 525 de 1012\n",
      "Scraping: https://www.mediamarkt.es/es/category/_c%C3%A1maras-para-beb%C3%A9s-702245.html\n"
     ]
    },
    {
     "name": "stderr",
     "output_type": "stream",
     "text": [
      "0it [00:00, ?it/s]\n"
     ]
    },
    {
     "name": "stdout",
     "output_type": "stream",
     "text": [
      "Escaneando pagina 526 de 1012\n",
      "Scraping: https://www.mediamarkt.es/es/category/_alarmas-y-timbres-701276.html\n"
     ]
    },
    {
     "name": "stderr",
     "output_type": "stream",
     "text": [
      "0it [00:00, ?it/s]\n"
     ]
    },
    {
     "name": "stdout",
     "output_type": "stream",
     "text": [
      "Escaneando pagina 527 de 1012\n",
      "Scraping: https://www.mediamarkt.es/es/category/_alarmas-702246.html\n"
     ]
    },
    {
     "name": "stderr",
     "output_type": "stream",
     "text": [
      "0it [00:00, ?it/s]\n"
     ]
    },
    {
     "name": "stdout",
     "output_type": "stream",
     "text": [
      "Escaneando pagina 528 de 1012\n",
      "Scraping: https://www.mediamarkt.es/es/category/_sistemas-de-seguridad-702247.html\n"
     ]
    },
    {
     "name": "stderr",
     "output_type": "stream",
     "text": [
      "0it [00:00, ?it/s]\n"
     ]
    },
    {
     "name": "stdout",
     "output_type": "stream",
     "text": [
      "Escaneando pagina 529 de 1012\n",
      "Scraping: https://www.mediamarkt.es/es/category/_sirenas-702248.html\n"
     ]
    },
    {
     "name": "stderr",
     "output_type": "stream",
     "text": [
      "0it [00:00, ?it/s]\n"
     ]
    },
    {
     "name": "stdout",
     "output_type": "stream",
     "text": [
      "Escaneando pagina 530 de 1012\n",
      "Scraping: https://www.mediamarkt.es/es/category/_climatizaci%C3%B3n-701277.html\n"
     ]
    },
    {
     "name": "stderr",
     "output_type": "stream",
     "text": [
      "0it [00:00, ?it/s]\n"
     ]
    },
    {
     "name": "stdout",
     "output_type": "stream",
     "text": [
      "Escaneando pagina 531 de 1012\n",
      "Scraping: https://www.mediamarkt.es/es/category/_estaciones-meteorol%C3%B3gica-702249.html\n"
     ]
    },
    {
     "name": "stderr",
     "output_type": "stream",
     "text": [
      "0it [00:00, ?it/s]\n"
     ]
    },
    {
     "name": "stdout",
     "output_type": "stream",
     "text": [
      "Escaneando pagina 532 de 1012\n",
      "Scraping: https://www.mediamarkt.es/es/category/_termostatos-702250.html\n"
     ]
    },
    {
     "name": "stderr",
     "output_type": "stream",
     "text": [
      "0it [00:00, ?it/s]\n"
     ]
    },
    {
     "name": "stdout",
     "output_type": "stream",
     "text": [
      "Escaneando pagina 533 de 1012\n",
      "Scraping: https://www.mediamarkt.es/es/category/_ilum-y-ahorro-energ%C3%A9tico-701278.html\n",
      "Número de páginas: 6\n"
     ]
    },
    {
     "name": "stderr",
     "output_type": "stream",
     "text": [
      "100%|██████████| 6/6 [00:08<00:00,  1.39s/it]\n"
     ]
    },
    {
     "name": "stdout",
     "output_type": "stream",
     "text": [
      "Escaneando pagina 534 de 1012\n",
      "Scraping: https://www.mediamarkt.es/es/category/_l%C3%A1mparas-y-bombillas-702251.html\n",
      "Número de páginas: 4\n"
     ]
    },
    {
     "name": "stderr",
     "output_type": "stream",
     "text": [
      "100%|██████████| 4/4 [00:05<00:00,  1.39s/it]\n"
     ]
    },
    {
     "name": "stdout",
     "output_type": "stream",
     "text": [
      "Escaneando pagina 535 de 1012\n",
      "Scraping: https://www.mediamarkt.es/es/category/_interruptores-y-enchufes-702252.html\n"
     ]
    },
    {
     "name": "stderr",
     "output_type": "stream",
     "text": [
      "0it [00:00, ?it/s]\n"
     ]
    },
    {
     "name": "stdout",
     "output_type": "stream",
     "text": [
      "Escaneando pagina 536 de 1012\n",
      "Scraping: https://www.mediamarkt.es/es/category/_temporizadores-702253.html\n"
     ]
    },
    {
     "name": "stderr",
     "output_type": "stream",
     "text": [
      "0it [00:00, ?it/s]\n"
     ]
    },
    {
     "name": "stdout",
     "output_type": "stream",
     "text": [
      "Escaneando pagina 537 de 1012\n",
      "Scraping: https://www.mediamarkt.es/es/category/_detectores-y-sensores-701279.html\n",
      "Número de páginas: 4\n"
     ]
    },
    {
     "name": "stderr",
     "output_type": "stream",
     "text": [
      "100%|██████████| 4/4 [00:05<00:00,  1.37s/it]\n"
     ]
    },
    {
     "name": "stdout",
     "output_type": "stream",
     "text": [
      "Escaneando pagina 538 de 1012\n",
      "Scraping: https://www.mediamarkt.es/es/category/_detectores-de-humo-702254.html\n"
     ]
    },
    {
     "name": "stderr",
     "output_type": "stream",
     "text": [
      "0it [00:00, ?it/s]\n"
     ]
    },
    {
     "name": "stdout",
     "output_type": "stream",
     "text": [
      "Escaneando pagina 539 de 1012\n",
      "Scraping: https://www.mediamarkt.es/es/category/_detectores-de-agua-702255.html\n"
     ]
    },
    {
     "name": "stderr",
     "output_type": "stream",
     "text": [
      "0it [00:00, ?it/s]\n"
     ]
    },
    {
     "name": "stdout",
     "output_type": "stream",
     "text": [
      "Escaneando pagina 540 de 1012\n",
      "Scraping: https://www.mediamarkt.es/es/category/_sensores-de-movimiento-702256.html\n"
     ]
    },
    {
     "name": "stderr",
     "output_type": "stream",
     "text": [
      "0it [00:00, ?it/s]\n"
     ]
    },
    {
     "name": "stdout",
     "output_type": "stream",
     "text": [
      "Escaneando pagina 541 de 1012\n",
      "Scraping: https://www.mediamarkt.es/es/category/_sensores-para-puertas-ventanas-702257.html\n"
     ]
    },
    {
     "name": "stderr",
     "output_type": "stream",
     "text": [
      "0it [00:00, ?it/s]\n"
     ]
    },
    {
     "name": "stdout",
     "output_type": "stream",
     "text": [
      "Escaneando pagina 542 de 1012\n",
      "Scraping: https://www.mediamarkt.es/es/category/_kits-y-accesorios-701280.html\n",
      "Número de páginas: 3\n"
     ]
    },
    {
     "name": "stderr",
     "output_type": "stream",
     "text": [
      "100%|██████████| 3/3 [00:03<00:00,  1.17s/it]\n"
     ]
    },
    {
     "name": "stdout",
     "output_type": "stream",
     "text": [
      "Escaneando pagina 543 de 1012\n",
      "Scraping: https://www.mediamarkt.es/es/category/_kits-de-seguridad-702259.html\n"
     ]
    },
    {
     "name": "stderr",
     "output_type": "stream",
     "text": [
      "0it [00:00, ?it/s]\n"
     ]
    },
    {
     "name": "stdout",
     "output_type": "stream",
     "text": [
      "Escaneando pagina 544 de 1012\n",
      "Scraping: https://www.mediamarkt.es/es/category/_mandos-smart-home-702260.html\n"
     ]
    },
    {
     "name": "stderr",
     "output_type": "stream",
     "text": [
      "0it [00:00, ?it/s]\n"
     ]
    },
    {
     "name": "stdout",
     "output_type": "stream",
     "text": [
      "Escaneando pagina 545 de 1012\n",
      "Scraping: https://www.mediamarkt.es/es/category/_hubs-702261.html\n"
     ]
    },
    {
     "name": "stderr",
     "output_type": "stream",
     "text": [
      "0it [00:00, ?it/s]\n"
     ]
    },
    {
     "name": "stdout",
     "output_type": "stream",
     "text": [
      "Escaneando pagina 546 de 1012\n",
      "Scraping: https://www.mediamarkt.es/es/category/_entretenimiento-y-deporte-701118.html\n"
     ]
    },
    {
     "name": "stderr",
     "output_type": "stream",
     "text": [
      "0it [00:00, ?it/s]\n"
     ]
    },
    {
     "name": "stdout",
     "output_type": "stream",
     "text": [
      "Escaneando pagina 547 de 1012\n",
      "Scraping: https://www.mediamarkt.es/es/category/_consolas-y-videojuegos-701147.html\n"
     ]
    },
    {
     "name": "stderr",
     "output_type": "stream",
     "text": [
      "0it [00:00, ?it/s]\n"
     ]
    },
    {
     "name": "stdout",
     "output_type": "stream",
     "text": [
      "Escaneando pagina 548 de 1012\n",
      "Scraping: https://www.mediamarkt.es/es/category/_pr%C3%B3ximos-lanzamientos-juegos-701338.html\n",
      "Número de páginas: 3\n"
     ]
    },
    {
     "name": "stderr",
     "output_type": "stream",
     "text": [
      "100%|██████████| 3/3 [00:03<00:00,  1.30s/it]\n"
     ]
    },
    {
     "name": "stdout",
     "output_type": "stream",
     "text": [
      "Escaneando pagina 549 de 1012\n",
      "Scraping: https://www.mediamarkt.es/es/category/_pr%C3%B3ximos-lanzamientos-ps4-702283.html\n"
     ]
    },
    {
     "name": "stderr",
     "output_type": "stream",
     "text": [
      "0it [00:00, ?it/s]\n"
     ]
    },
    {
     "name": "stdout",
     "output_type": "stream",
     "text": [
      "Escaneando pagina 550 de 1012\n",
      "Scraping: https://www.mediamarkt.es/es/category/_pr%C3%B3ximos-lanzamientos-nintendo-switch-702284.html\n"
     ]
    },
    {
     "name": "stderr",
     "output_type": "stream",
     "text": [
      "0it [00:00, ?it/s]\n"
     ]
    },
    {
     "name": "stdout",
     "output_type": "stream",
     "text": [
      "Escaneando pagina 551 de 1012\n",
      "Scraping: https://www.mediamarkt.es/es/category/_pr%C3%B3ximos-lanzamientos-xbox-one-702285.html\n"
     ]
    },
    {
     "name": "stderr",
     "output_type": "stream",
     "text": [
      "0it [00:00, ?it/s]\n"
     ]
    },
    {
     "name": "stdout",
     "output_type": "stream",
     "text": [
      "Escaneando pagina 552 de 1012\n",
      "Scraping: https://www.mediamarkt.es/es/category/_pr%C3%B3ximos-lanzamientos-pc-702286.html\n"
     ]
    },
    {
     "name": "stderr",
     "output_type": "stream",
     "text": [
      "0it [00:00, ?it/s]\n"
     ]
    },
    {
     "name": "stdout",
     "output_type": "stream",
     "text": [
      "Escaneando pagina 553 de 1012\n",
      "Scraping: https://www.mediamarkt.es/es/category/_pr%C3%B3ximos-lanzamientos-3ds-2ds-702287.html\n"
     ]
    },
    {
     "name": "stderr",
     "output_type": "stream",
     "text": [
      "0it [00:00, ?it/s]\n"
     ]
    },
    {
     "name": "stdout",
     "output_type": "stream",
     "text": [
      "Escaneando pagina 554 de 1012\n",
      "Scraping: https://www.mediamarkt.es/es/category/_consolas-701339.html\n"
     ]
    },
    {
     "name": "stderr",
     "output_type": "stream",
     "text": [
      "0it [00:00, ?it/s]\n"
     ]
    },
    {
     "name": "stdout",
     "output_type": "stream",
     "text": [
      "Escaneando pagina 555 de 1012\n",
      "Scraping: https://www.mediamarkt.es/es/category/_consolas-ps4-702291.html\n"
     ]
    },
    {
     "name": "stderr",
     "output_type": "stream",
     "text": [
      "0it [00:00, ?it/s]\n"
     ]
    },
    {
     "name": "stdout",
     "output_type": "stream",
     "text": [
      "Escaneando pagina 556 de 1012\n",
      "Scraping: https://www.mediamarkt.es/es/category/_consolas-xbox-one-702292.html\n"
     ]
    },
    {
     "name": "stderr",
     "output_type": "stream",
     "text": [
      "0it [00:00, ?it/s]\n"
     ]
    },
    {
     "name": "stdout",
     "output_type": "stream",
     "text": [
      "Escaneando pagina 557 de 1012\n",
      "Scraping: https://www.mediamarkt.es/es/category/_consolas-nintendo-switch-702293.html\n"
     ]
    },
    {
     "name": "stderr",
     "output_type": "stream",
     "text": [
      "0it [00:00, ?it/s]\n"
     ]
    },
    {
     "name": "stdout",
     "output_type": "stream",
     "text": [
      "Escaneando pagina 558 de 1012\n",
      "Scraping: https://www.mediamarkt.es/es/category/_consolas-nintendo-2ds-702295.html\n"
     ]
    },
    {
     "name": "stderr",
     "output_type": "stream",
     "text": [
      "0it [00:00, ?it/s]\n"
     ]
    },
    {
     "name": "stdout",
     "output_type": "stream",
     "text": [
      "Escaneando pagina 559 de 1012\n",
      "Scraping: https://www.mediamarkt.es/es/category/_otras-consolas-702296.html\n"
     ]
    },
    {
     "name": "stderr",
     "output_type": "stream",
     "text": [
      "0it [00:00, ?it/s]\n"
     ]
    },
    {
     "name": "stdout",
     "output_type": "stream",
     "text": [
      "Escaneando pagina 560 de 1012\n",
      "Scraping: https://www.mediamarkt.es/es/category/_universo-retro-701341.html\n",
      "Número de páginas: 2\n"
     ]
    },
    {
     "name": "stderr",
     "output_type": "stream",
     "text": [
      "100%|██████████| 2/2 [00:02<00:00,  1.38s/it]\n"
     ]
    },
    {
     "name": "stdout",
     "output_type": "stream",
     "text": [
      "Escaneando pagina 561 de 1012\n",
      "Scraping: https://www.mediamarkt.es/es/category/_realidad-virtual-720237.html\n"
     ]
    },
    {
     "name": "stderr",
     "output_type": "stream",
     "text": [
      "0it [00:00, ?it/s]\n"
     ]
    },
    {
     "name": "stdout",
     "output_type": "stream",
     "text": [
      "Escaneando pagina 562 de 1012\n",
      "Scraping: https://www.mediamarkt.es/es/category/_juegos-701342.html\n"
     ]
    },
    {
     "name": "stderr",
     "output_type": "stream",
     "text": [
      "0it [00:00, ?it/s]\n"
     ]
    },
    {
     "name": "stdout",
     "output_type": "stream",
     "text": [
      "Escaneando pagina 563 de 1012\n",
      "Scraping: https://www.mediamarkt.es/es/category/_juegos-ps4-702297.html\n",
      "Número de páginas: 17\n"
     ]
    },
    {
     "name": "stderr",
     "output_type": "stream",
     "text": [
      "100%|██████████| 17/17 [00:18<00:00,  1.03it/s]\n"
     ]
    },
    {
     "name": "stdout",
     "output_type": "stream",
     "text": [
      "Escaneando pagina 564 de 1012\n",
      "Scraping: https://www.mediamarkt.es/es/category/_juegos-ps3-702298.html\n"
     ]
    },
    {
     "name": "stderr",
     "output_type": "stream",
     "text": [
      "0it [00:00, ?it/s]\n"
     ]
    },
    {
     "name": "stdout",
     "output_type": "stream",
     "text": [
      "Escaneando pagina 565 de 1012\n",
      "Scraping: https://www.mediamarkt.es/es/category/_juegos-nintendo-switch-702299.html\n",
      "Número de páginas: 6\n"
     ]
    },
    {
     "name": "stderr",
     "output_type": "stream",
     "text": [
      "100%|██████████| 6/6 [00:08<00:00,  1.35s/it]\n"
     ]
    },
    {
     "name": "stdout",
     "output_type": "stream",
     "text": [
      "Escaneando pagina 566 de 1012\n",
      "Scraping: https://www.mediamarkt.es/es/category/_juegos-ps-vita-702300.html\n"
     ]
    },
    {
     "name": "stderr",
     "output_type": "stream",
     "text": [
      "0it [00:00, ?it/s]\n"
     ]
    },
    {
     "name": "stdout",
     "output_type": "stream",
     "text": [
      "Escaneando pagina 567 de 1012\n",
      "Scraping: https://www.mediamarkt.es/es/category/_juegos-xbox-one-702301.html\n",
      "Número de páginas: 7\n"
     ]
    },
    {
     "name": "stderr",
     "output_type": "stream",
     "text": [
      "100%|██████████| 7/7 [00:09<00:00,  1.35s/it]\n"
     ]
    },
    {
     "name": "stdout",
     "output_type": "stream",
     "text": [
      "Escaneando pagina 568 de 1012\n",
      "Scraping: https://www.mediamarkt.es/es/category/_juegos-xbox-360-702302.html\n"
     ]
    },
    {
     "name": "stderr",
     "output_type": "stream",
     "text": [
      "0it [00:00, ?it/s]\n"
     ]
    },
    {
     "name": "stdout",
     "output_type": "stream",
     "text": [
      "Escaneando pagina 569 de 1012\n",
      "Scraping: https://www.mediamarkt.es/es/category/_juegos-3ds-y-2ds-702305.html\n",
      "Número de páginas: 3\n"
     ]
    },
    {
     "name": "stderr",
     "output_type": "stream",
     "text": [
      "100%|██████████| 3/3 [00:03<00:00,  1.10s/it]\n"
     ]
    },
    {
     "name": "stdout",
     "output_type": "stream",
     "text": [
      "Escaneando pagina 570 de 1012\n",
      "Scraping: https://www.mediamarkt.es/es/category/_juegos-pc-702306.html\n",
      "Número de páginas: 4\n"
     ]
    },
    {
     "name": "stderr",
     "output_type": "stream",
     "text": [
      "100%|██████████| 4/4 [00:05<00:00,  1.45s/it]\n"
     ]
    },
    {
     "name": "stdout",
     "output_type": "stream",
     "text": [
      "Escaneando pagina 571 de 1012\n",
      "Scraping: https://www.mediamarkt.es/es/category/_juegos-otaku-702307.html\n"
     ]
    },
    {
     "name": "stderr",
     "output_type": "stream",
     "text": [
      "0it [00:00, ?it/s]\n"
     ]
    },
    {
     "name": "stdout",
     "output_type": "stream",
     "text": [
      "Escaneando pagina 572 de 1012\n",
      "Scraping: https://www.mediamarkt.es/es/category/_gu%C3%ADas-de-juego-702308.html\n"
     ]
    },
    {
     "name": "stderr",
     "output_type": "stream",
     "text": [
      "0it [00:00, ?it/s]\n"
     ]
    },
    {
     "name": "stdout",
     "output_type": "stream",
     "text": [
      "Escaneando pagina 573 de 1012\n",
      "Scraping: https://www.mediamarkt.es/es/category/_accesorios-consolas-701343.html\n"
     ]
    },
    {
     "name": "stderr",
     "output_type": "stream",
     "text": [
      "0it [00:00, ?it/s]\n"
     ]
    },
    {
     "name": "stdout",
     "output_type": "stream",
     "text": [
      "Escaneando pagina 574 de 1012\n",
      "Scraping: https://www.mediamarkt.es/es/category/_accesorios-sony-ps4-702309.html\n",
      "Número de páginas: 8\n"
     ]
    },
    {
     "name": "stderr",
     "output_type": "stream",
     "text": [
      "100%|██████████| 8/8 [00:11<00:00,  1.34s/it]\n"
     ]
    },
    {
     "name": "stdout",
     "output_type": "stream",
     "text": [
      "Escaneando pagina 575 de 1012\n",
      "Scraping: https://www.mediamarkt.es/es/category/_auriculares-ps4-702675.html\n",
      "Número de páginas: 2\n"
     ]
    },
    {
     "name": "stderr",
     "output_type": "stream",
     "text": [
      "100%|██████████| 2/2 [00:02<00:00,  1.38s/it]\n"
     ]
    },
    {
     "name": "stdout",
     "output_type": "stream",
     "text": [
      "Escaneando pagina 576 de 1012\n",
      "Scraping: https://www.mediamarkt.es/es/category/_cables-ps4-702676.html\n"
     ]
    },
    {
     "name": "stderr",
     "output_type": "stream",
     "text": [
      "0it [00:00, ?it/s]\n"
     ]
    },
    {
     "name": "stdout",
     "output_type": "stream",
     "text": [
      "Escaneando pagina 577 de 1012\n",
      "Scraping: https://www.mediamarkt.es/es/category/_cargadores-playstation-ps4-702677.html\n"
     ]
    },
    {
     "name": "stderr",
     "output_type": "stream",
     "text": [
      "0it [00:00, ?it/s]\n"
     ]
    },
    {
     "name": "stdout",
     "output_type": "stream",
     "text": [
      "Escaneando pagina 578 de 1012\n",
      "Scraping: https://www.mediamarkt.es/es/category/_fundas-ps4-702678.html\n"
     ]
    },
    {
     "name": "stderr",
     "output_type": "stream",
     "text": [
      "0it [00:00, ?it/s]\n"
     ]
    },
    {
     "name": "stdout",
     "output_type": "stream",
     "text": [
      "Escaneando pagina 579 de 1012\n",
      "Scraping: https://www.mediamarkt.es/es/category/_mandos-playstation-ps4-702679.html\n",
      "Número de páginas: 2\n"
     ]
    },
    {
     "name": "stderr",
     "output_type": "stream",
     "text": [
      "100%|██████████| 2/2 [00:02<00:00,  1.05s/it]\n"
     ]
    },
    {
     "name": "stdout",
     "output_type": "stream",
     "text": [
      "Escaneando pagina 580 de 1012\n",
      "Scraping: https://www.mediamarkt.es/es/category/_volantes-ps4-702680.html\n"
     ]
    },
    {
     "name": "stderr",
     "output_type": "stream",
     "text": [
      "0it [00:00, ?it/s]\n"
     ]
    },
    {
     "name": "stdout",
     "output_type": "stream",
     "text": [
      "Escaneando pagina 581 de 1012\n",
      "Scraping: https://www.mediamarkt.es/es/category/_otros-702681.html\n",
      "Número de páginas: 2\n"
     ]
    },
    {
     "name": "stderr",
     "output_type": "stream",
     "text": [
      "100%|██████████| 2/2 [00:02<00:00,  1.20s/it]\n"
     ]
    },
    {
     "name": "stdout",
     "output_type": "stream",
     "text": [
      "Escaneando pagina 582 de 1012\n",
      "Scraping: https://www.mediamarkt.es/es/category/_accesorios-sony-ps3-702310.html\n",
      "Número de páginas: 3\n"
     ]
    },
    {
     "name": "stderr",
     "output_type": "stream",
     "text": [
      "100%|██████████| 3/3 [00:04<00:00,  1.24s/it]\n"
     ]
    },
    {
     "name": "stdout",
     "output_type": "stream",
     "text": [
      "Escaneando pagina 583 de 1012\n",
      "Scraping: https://www.mediamarkt.es/es/category/_auriculares-ps3-702682.html\n"
     ]
    },
    {
     "name": "stderr",
     "output_type": "stream",
     "text": [
      "0it [00:00, ?it/s]\n"
     ]
    },
    {
     "name": "stdout",
     "output_type": "stream",
     "text": [
      "Escaneando pagina 584 de 1012\n",
      "Scraping: https://www.mediamarkt.es/es/category/_cables-ps3-702683.html\n"
     ]
    },
    {
     "name": "stderr",
     "output_type": "stream",
     "text": [
      "0it [00:00, ?it/s]\n"
     ]
    },
    {
     "name": "stdout",
     "output_type": "stream",
     "text": [
      "Escaneando pagina 585 de 1012\n",
      "Scraping: https://www.mediamarkt.es/es/category/_mandos-ps3-702684.html\n"
     ]
    },
    {
     "name": "stderr",
     "output_type": "stream",
     "text": [
      "0it [00:00, ?it/s]\n"
     ]
    },
    {
     "name": "stdout",
     "output_type": "stream",
     "text": [
      "Escaneando pagina 586 de 1012\n",
      "Scraping: https://www.mediamarkt.es/es/category/_volantes-ps3-702685.html\n"
     ]
    },
    {
     "name": "stderr",
     "output_type": "stream",
     "text": [
      "0it [00:00, ?it/s]\n"
     ]
    },
    {
     "name": "stdout",
     "output_type": "stream",
     "text": [
      "Escaneando pagina 587 de 1012\n",
      "Scraping: https://www.mediamarkt.es/es/category/_otros-702686.html\n"
     ]
    },
    {
     "name": "stderr",
     "output_type": "stream",
     "text": [
      "0it [00:00, ?it/s]\n"
     ]
    },
    {
     "name": "stdout",
     "output_type": "stream",
     "text": [
      "Escaneando pagina 588 de 1012\n",
      "Scraping: https://www.mediamarkt.es/es/category/_accesorios-sony-ps-vita-702311.html\n"
     ]
    },
    {
     "name": "stderr",
     "output_type": "stream",
     "text": [
      "0it [00:00, ?it/s]\n"
     ]
    },
    {
     "name": "stdout",
     "output_type": "stream",
     "text": [
      "Escaneando pagina 589 de 1012\n",
      "Scraping: https://www.mediamarkt.es/es/category/_auriculares-ps-vita-702687.html\n"
     ]
    },
    {
     "name": "stderr",
     "output_type": "stream",
     "text": [
      "0it [00:00, ?it/s]\n"
     ]
    },
    {
     "name": "stdout",
     "output_type": "stream",
     "text": [
      "Escaneando pagina 590 de 1012\n",
      "Scraping: https://www.mediamarkt.es/es/category/_otros-702690.html\n"
     ]
    },
    {
     "name": "stderr",
     "output_type": "stream",
     "text": [
      "0it [00:00, ?it/s]\n"
     ]
    },
    {
     "name": "stdout",
     "output_type": "stream",
     "text": [
      "Escaneando pagina 591 de 1012\n",
      "Scraping: https://www.mediamarkt.es/es/category/_accesorios-sony-psp-702312.html\n"
     ]
    },
    {
     "name": "stderr",
     "output_type": "stream",
     "text": [
      "0it [00:00, ?it/s]\n"
     ]
    },
    {
     "name": "stdout",
     "output_type": "stream",
     "text": [
      "Escaneando pagina 592 de 1012\n",
      "Scraping: https://www.mediamarkt.es/es/category/_otros-702692.html\n"
     ]
    },
    {
     "name": "stderr",
     "output_type": "stream",
     "text": [
      "0it [00:00, ?it/s]\n"
     ]
    },
    {
     "name": "stdout",
     "output_type": "stream",
     "text": [
      "Escaneando pagina 593 de 1012\n",
      "Scraping: https://www.mediamarkt.es/es/category/_accesorios-nintendo-switch-702313.html\n",
      "Número de páginas: 7\n"
     ]
    },
    {
     "name": "stderr",
     "output_type": "stream",
     "text": [
      "100%|██████████| 7/7 [00:10<00:00,  1.38s/it]\n"
     ]
    },
    {
     "name": "stdout",
     "output_type": "stream",
     "text": [
      "Escaneando pagina 594 de 1012\n",
      "Scraping: https://www.mediamarkt.es/es/category/_accesorios-xbox-one-702314.html\n",
      "Número de páginas: 3\n"
     ]
    },
    {
     "name": "stderr",
     "output_type": "stream",
     "text": [
      "100%|██████████| 3/3 [00:04<00:00,  1.39s/it]\n"
     ]
    },
    {
     "name": "stdout",
     "output_type": "stream",
     "text": [
      "Escaneando pagina 595 de 1012\n",
      "Scraping: https://www.mediamarkt.es/es/category/_auriculares-xbox-one-702693.html\n"
     ]
    },
    {
     "name": "stderr",
     "output_type": "stream",
     "text": [
      "0it [00:00, ?it/s]\n"
     ]
    },
    {
     "name": "stdout",
     "output_type": "stream",
     "text": [
      "Escaneando pagina 596 de 1012\n",
      "Scraping: https://www.mediamarkt.es/es/category/_cables-xbox-one-702694.html\n"
     ]
    },
    {
     "name": "stderr",
     "output_type": "stream",
     "text": [
      "0it [00:00, ?it/s]\n"
     ]
    },
    {
     "name": "stdout",
     "output_type": "stream",
     "text": [
      "Escaneando pagina 597 de 1012\n",
      "Scraping: https://www.mediamarkt.es/es/category/_mandos-xbox-one-702697.html\n"
     ]
    },
    {
     "name": "stderr",
     "output_type": "stream",
     "text": [
      "0it [00:00, ?it/s]\n"
     ]
    },
    {
     "name": "stdout",
     "output_type": "stream",
     "text": [
      "Escaneando pagina 598 de 1012\n",
      "Scraping: https://www.mediamarkt.es/es/category/_volante-702698.html\n"
     ]
    },
    {
     "name": "stderr",
     "output_type": "stream",
     "text": [
      "0it [00:00, ?it/s]\n"
     ]
    },
    {
     "name": "stdout",
     "output_type": "stream",
     "text": [
      "Escaneando pagina 599 de 1012\n",
      "Scraping: https://www.mediamarkt.es/es/category/_otros-702699.html\n"
     ]
    },
    {
     "name": "stderr",
     "output_type": "stream",
     "text": [
      "0it [00:00, ?it/s]\n"
     ]
    },
    {
     "name": "stdout",
     "output_type": "stream",
     "text": [
      "Escaneando pagina 600 de 1012\n",
      "Scraping: https://www.mediamarkt.es/es/category/_accesorios-xbox-360-702315.html\n"
     ]
    },
    {
     "name": "stderr",
     "output_type": "stream",
     "text": [
      "0it [00:00, ?it/s]\n"
     ]
    },
    {
     "name": "stdout",
     "output_type": "stream",
     "text": [
      "Escaneando pagina 601 de 1012\n",
      "Scraping: https://www.mediamarkt.es/es/category/_cables-xbox-360-702701.html\n"
     ]
    },
    {
     "name": "stderr",
     "output_type": "stream",
     "text": [
      "0it [00:00, ?it/s]\n"
     ]
    },
    {
     "name": "stdout",
     "output_type": "stream",
     "text": [
      "Escaneando pagina 602 de 1012\n",
      "Scraping: https://www.mediamarkt.es/es/category/_mandos-xbox-360-702702.html\n"
     ]
    },
    {
     "name": "stderr",
     "output_type": "stream",
     "text": [
      "0it [00:00, ?it/s]\n"
     ]
    },
    {
     "name": "stdout",
     "output_type": "stream",
     "text": [
      "Escaneando pagina 603 de 1012\n",
      "Scraping: https://www.mediamarkt.es/es/category/_volantes-xbox-360-702703.html\n"
     ]
    },
    {
     "name": "stderr",
     "output_type": "stream",
     "text": [
      "0it [00:00, ?it/s]\n"
     ]
    },
    {
     "name": "stdout",
     "output_type": "stream",
     "text": [
      "Escaneando pagina 604 de 1012\n",
      "Scraping: https://www.mediamarkt.es/es/category/_otros-702704.html\n"
     ]
    },
    {
     "name": "stderr",
     "output_type": "stream",
     "text": [
      "0it [00:00, ?it/s]\n"
     ]
    },
    {
     "name": "stdout",
     "output_type": "stream",
     "text": [
      "Escaneando pagina 605 de 1012\n",
      "Scraping: https://www.mediamarkt.es/es/category/_playstation-plus-y-xbox-live-702316.html\n"
     ]
    },
    {
     "name": "stderr",
     "output_type": "stream",
     "text": [
      "0it [00:00, ?it/s]\n"
     ]
    },
    {
     "name": "stdout",
     "output_type": "stream",
     "text": [
      "Escaneando pagina 606 de 1012\n",
      "Scraping: https://www.mediamarkt.es/es/category/_playstation-ps4-ps3-y-ps-vita-702705.html\n"
     ]
    },
    {
     "name": "stderr",
     "output_type": "stream",
     "text": [
      "0it [00:00, ?it/s]\n"
     ]
    },
    {
     "name": "stdout",
     "output_type": "stream",
     "text": [
      "Escaneando pagina 607 de 1012\n",
      "Scraping: https://www.mediamarkt.es/es/category/_accesorios-nintendo-wii-u-702317.html\n"
     ]
    },
    {
     "name": "stderr",
     "output_type": "stream",
     "text": [
      "0it [00:00, ?it/s]\n"
     ]
    },
    {
     "name": "stdout",
     "output_type": "stream",
     "text": [
      "Escaneando pagina 608 de 1012\n",
      "Scraping: https://www.mediamarkt.es/es/category/_cables-nintendo-wii-u-702707.html\n"
     ]
    },
    {
     "name": "stderr",
     "output_type": "stream",
     "text": [
      "0it [00:00, ?it/s]\n"
     ]
    },
    {
     "name": "stdout",
     "output_type": "stream",
     "text": [
      "Escaneando pagina 609 de 1012\n",
      "Scraping: https://www.mediamarkt.es/es/category/_volantes-702709.html\n"
     ]
    },
    {
     "name": "stderr",
     "output_type": "stream",
     "text": [
      "0it [00:00, ?it/s]\n"
     ]
    },
    {
     "name": "stdout",
     "output_type": "stream",
     "text": [
      "Escaneando pagina 610 de 1012\n",
      "Scraping: https://www.mediamarkt.es/es/category/_mandos-nintendo-wii-u-702710.html\n"
     ]
    },
    {
     "name": "stderr",
     "output_type": "stream",
     "text": [
      "0it [00:00, ?it/s]\n"
     ]
    },
    {
     "name": "stdout",
     "output_type": "stream",
     "text": [
      "Escaneando pagina 611 de 1012\n",
      "Scraping: https://www.mediamarkt.es/es/category/_otros-702711.html\n"
     ]
    },
    {
     "name": "stderr",
     "output_type": "stream",
     "text": [
      "0it [00:00, ?it/s]\n"
     ]
    },
    {
     "name": "stdout",
     "output_type": "stream",
     "text": [
      "Escaneando pagina 612 de 1012\n",
      "Scraping: https://www.mediamarkt.es/es/category/_accesorios-nintendo-wii-702318.html\n"
     ]
    },
    {
     "name": "stderr",
     "output_type": "stream",
     "text": [
      "0it [00:00, ?it/s]\n"
     ]
    },
    {
     "name": "stdout",
     "output_type": "stream",
     "text": [
      "Escaneando pagina 613 de 1012\n",
      "Scraping: https://www.mediamarkt.es/es/category/_mandos-nintendo-wii-702713.html\n"
     ]
    },
    {
     "name": "stderr",
     "output_type": "stream",
     "text": [
      "0it [00:00, ?it/s]\n"
     ]
    },
    {
     "name": "stdout",
     "output_type": "stream",
     "text": [
      "Escaneando pagina 614 de 1012\n",
      "Scraping: https://www.mediamarkt.es/es/category/_volantes-702715.html\n"
     ]
    },
    {
     "name": "stderr",
     "output_type": "stream",
     "text": [
      "0it [00:00, ?it/s]\n"
     ]
    },
    {
     "name": "stdout",
     "output_type": "stream",
     "text": [
      "Escaneando pagina 615 de 1012\n",
      "Scraping: https://www.mediamarkt.es/es/category/_otros-702716.html\n"
     ]
    },
    {
     "name": "stderr",
     "output_type": "stream",
     "text": [
      "0it [00:00, ?it/s]\n"
     ]
    },
    {
     "name": "stdout",
     "output_type": "stream",
     "text": [
      "Escaneando pagina 616 de 1012\n",
      "Scraping: https://www.mediamarkt.es/es/category/_accesorios-nintendo-3ds-702319.html\n"
     ]
    },
    {
     "name": "stderr",
     "output_type": "stream",
     "text": [
      "0it [00:00, ?it/s]\n"
     ]
    },
    {
     "name": "stdout",
     "output_type": "stream",
     "text": [
      "Escaneando pagina 617 de 1012\n",
      "Scraping: https://www.mediamarkt.es/es/category/_auriculares-nintendo-3ds-702717.html\n"
     ]
    },
    {
     "name": "stderr",
     "output_type": "stream",
     "text": [
      "0it [00:00, ?it/s]\n"
     ]
    },
    {
     "name": "stdout",
     "output_type": "stream",
     "text": [
      "Escaneando pagina 618 de 1012\n",
      "Scraping: https://www.mediamarkt.es/es/category/_cargadores-nintendo-3ds-702718.html\n"
     ]
    },
    {
     "name": "stderr",
     "output_type": "stream",
     "text": [
      "0it [00:00, ?it/s]\n"
     ]
    },
    {
     "name": "stdout",
     "output_type": "stream",
     "text": [
      "Escaneando pagina 619 de 1012\n",
      "Scraping: https://www.mediamarkt.es/es/category/_fundas-nintendo-3ds-702719.html\n"
     ]
    },
    {
     "name": "stderr",
     "output_type": "stream",
     "text": [
      "0it [00:00, ?it/s]\n"
     ]
    },
    {
     "name": "stdout",
     "output_type": "stream",
     "text": [
      "Escaneando pagina 620 de 1012\n",
      "Scraping: https://www.mediamarkt.es/es/category/_otros-702721.html\n"
     ]
    },
    {
     "name": "stderr",
     "output_type": "stream",
     "text": [
      "0it [00:00, ?it/s]\n"
     ]
    },
    {
     "name": "stdout",
     "output_type": "stream",
     "text": [
      "Escaneando pagina 621 de 1012\n",
      "Scraping: https://www.mediamarkt.es/es/category/_accesorios-nintendo-2ds-702320.html\n"
     ]
    },
    {
     "name": "stderr",
     "output_type": "stream",
     "text": [
      "0it [00:00, ?it/s]\n"
     ]
    },
    {
     "name": "stdout",
     "output_type": "stream",
     "text": [
      "Escaneando pagina 622 de 1012\n",
      "Scraping: https://www.mediamarkt.es/es/category/_auriculares-nintendo-2ds-702722.html\n"
     ]
    },
    {
     "name": "stderr",
     "output_type": "stream",
     "text": [
      "0it [00:00, ?it/s]\n"
     ]
    },
    {
     "name": "stdout",
     "output_type": "stream",
     "text": [
      "Escaneando pagina 623 de 1012\n",
      "Scraping: https://www.mediamarkt.es/es/category/_cargadores-nintendo-2ds-702723.html\n"
     ]
    },
    {
     "name": "stderr",
     "output_type": "stream",
     "text": [
      "0it [00:00, ?it/s]\n"
     ]
    },
    {
     "name": "stdout",
     "output_type": "stream",
     "text": [
      "Escaneando pagina 624 de 1012\n",
      "Scraping: https://www.mediamarkt.es/es/category/_fundas-nintendo-2ds-702724.html\n"
     ]
    },
    {
     "name": "stderr",
     "output_type": "stream",
     "text": [
      "0it [00:00, ?it/s]\n"
     ]
    },
    {
     "name": "stdout",
     "output_type": "stream",
     "text": [
      "Escaneando pagina 625 de 1012\n",
      "Scraping: https://www.mediamarkt.es/es/category/_otros-702726.html\n"
     ]
    },
    {
     "name": "stderr",
     "output_type": "stream",
     "text": [
      "0it [00:00, ?it/s]\n"
     ]
    },
    {
     "name": "stdout",
     "output_type": "stream",
     "text": [
      "Escaneando pagina 626 de 1012\n",
      "Scraping: https://www.mediamarkt.es/es/category/_accesorios-nintendo-ds-702321.html\n"
     ]
    },
    {
     "name": "stderr",
     "output_type": "stream",
     "text": [
      "0it [00:00, ?it/s]\n"
     ]
    },
    {
     "name": "stdout",
     "output_type": "stream",
     "text": [
      "Escaneando pagina 627 de 1012\n",
      "Scraping: https://www.mediamarkt.es/es/category/_otros-702727.html\n"
     ]
    },
    {
     "name": "stderr",
     "output_type": "stream",
     "text": [
      "0it [00:00, ?it/s]\n"
     ]
    },
    {
     "name": "stdout",
     "output_type": "stream",
     "text": [
      "Escaneando pagina 628 de 1012\n",
      "Scraping: https://www.mediamarkt.es/es/category/_accesorios-pc-702322.html\n",
      "Número de páginas: 3\n"
     ]
    },
    {
     "name": "stderr",
     "output_type": "stream",
     "text": [
      "100%|██████████| 3/3 [00:04<00:00,  1.41s/it]\n"
     ]
    },
    {
     "name": "stdout",
     "output_type": "stream",
     "text": [
      "Escaneando pagina 629 de 1012\n",
      "Scraping: https://www.mediamarkt.es/es/category/_auriculares-pc-702728.html\n"
     ]
    },
    {
     "name": "stderr",
     "output_type": "stream",
     "text": [
      "0it [00:00, ?it/s]\n"
     ]
    },
    {
     "name": "stdout",
     "output_type": "stream",
     "text": [
      "Escaneando pagina 630 de 1012\n",
      "Scraping: https://www.mediamarkt.es/es/category/_ratones-702729.html\n"
     ]
    },
    {
     "name": "stderr",
     "output_type": "stream",
     "text": [
      "0it [00:00, ?it/s]\n"
     ]
    },
    {
     "name": "stdout",
     "output_type": "stream",
     "text": [
      "Escaneando pagina 631 de 1012\n",
      "Scraping: https://www.mediamarkt.es/es/category/_volantes-ordenador-702730.html\n"
     ]
    },
    {
     "name": "stderr",
     "output_type": "stream",
     "text": [
      "0it [00:00, ?it/s]\n"
     ]
    },
    {
     "name": "stdout",
     "output_type": "stream",
     "text": [
      "Escaneando pagina 632 de 1012\n",
      "Scraping: https://www.mediamarkt.es/es/category/_otros-702731.html\n",
      "Número de páginas: 2\n"
     ]
    },
    {
     "name": "stderr",
     "output_type": "stream",
     "text": [
      "100%|██████████| 2/2 [00:02<00:00,  1.53s/it]\n"
     ]
    },
    {
     "name": "stdout",
     "output_type": "stream",
     "text": [
      "Escaneando pagina 633 de 1012\n",
      "Scraping: https://www.mediamarkt.es/es/category/_gu%C3%ADas-de-juegos-702323.html\n"
     ]
    },
    {
     "name": "stderr",
     "output_type": "stream",
     "text": [
      "0it [00:00, ?it/s]\n"
     ]
    },
    {
     "name": "stdout",
     "output_type": "stream",
     "text": [
      "Escaneando pagina 634 de 1012\n",
      "Scraping: https://www.mediamarkt.es/es/category/_toys-to-life-701344.html\n",
      "Número de páginas: 2\n"
     ]
    },
    {
     "name": "stderr",
     "output_type": "stream",
     "text": [
      "100%|██████████| 2/2 [00:02<00:00,  1.48s/it]\n"
     ]
    },
    {
     "name": "stdout",
     "output_type": "stream",
     "text": [
      "Escaneando pagina 635 de 1012\n",
      "Scraping: https://www.mediamarkt.es/es/category/_amiibo-702324.html\n"
     ]
    },
    {
     "name": "stderr",
     "output_type": "stream",
     "text": [
      "0it [00:00, ?it/s]\n"
     ]
    },
    {
     "name": "stdout",
     "output_type": "stream",
     "text": [
      "Escaneando pagina 636 de 1012\n",
      "Scraping: https://www.mediamarkt.es/es/category/_juegos-nintendo-702732.html\n"
     ]
    },
    {
     "name": "stderr",
     "output_type": "stream",
     "text": [
      "0it [00:00, ?it/s]\n"
     ]
    },
    {
     "name": "stdout",
     "output_type": "stream",
     "text": [
      "Escaneando pagina 637 de 1012\n",
      "Scraping: https://www.mediamarkt.es/es/category/_skylanders-702325.html\n"
     ]
    },
    {
     "name": "stderr",
     "output_type": "stream",
     "text": [
      "0it [00:00, ?it/s]\n"
     ]
    },
    {
     "name": "stdout",
     "output_type": "stream",
     "text": [
      "Escaneando pagina 638 de 1012\n",
      "Scraping: https://www.mediamarkt.es/es/category/_figuras-skylanders-702735.html\n"
     ]
    },
    {
     "name": "stderr",
     "output_type": "stream",
     "text": [
      "0it [00:00, ?it/s]\n"
     ]
    },
    {
     "name": "stdout",
     "output_type": "stream",
     "text": [
      "Escaneando pagina 639 de 1012\n",
      "Scraping: https://www.mediamarkt.es/es/category/_disney-infinity-702326.html\n"
     ]
    },
    {
     "name": "stderr",
     "output_type": "stream",
     "text": [
      "0it [00:00, ?it/s]\n"
     ]
    },
    {
     "name": "stdout",
     "output_type": "stream",
     "text": [
      "Escaneando pagina 640 de 1012\n",
      "Scraping: https://www.mediamarkt.es/es/category/_figuras-702738.html\n"
     ]
    },
    {
     "name": "stderr",
     "output_type": "stream",
     "text": [
      "0it [00:00, ?it/s]\n"
     ]
    },
    {
     "name": "stdout",
     "output_type": "stream",
     "text": [
      "Escaneando pagina 641 de 1012\n",
      "Scraping: https://www.mediamarkt.es/es/category/_power-discs-702739.html\n"
     ]
    },
    {
     "name": "stderr",
     "output_type": "stream",
     "text": [
      "0it [00:00, ?it/s]\n"
     ]
    },
    {
     "name": "stdout",
     "output_type": "stream",
     "text": [
      "Escaneando pagina 642 de 1012\n",
      "Scraping: https://www.mediamarkt.es/es/category/_merchandising-701345.html\n",
      "Número de páginas: 34\n"
     ]
    },
    {
     "name": "stderr",
     "output_type": "stream",
     "text": [
      "100%|██████████| 34/34 [00:48<00:00,  1.50s/it]\n"
     ]
    },
    {
     "name": "stdout",
     "output_type": "stream",
     "text": [
      "Escaneando pagina 643 de 1012\n",
      "Scraping: https://www.mediamarkt.es/es/category/_figuras-y-r%C3%A9plicas-702328.html\n",
      "Número de páginas: 16\n"
     ]
    },
    {
     "name": "stderr",
     "output_type": "stream",
     "text": [
      "100%|██████████| 16/16 [00:20<00:00,  1.28s/it]\n"
     ]
    },
    {
     "name": "stdout",
     "output_type": "stream",
     "text": [
      "Escaneando pagina 644 de 1012\n",
      "Scraping: https://www.mediamarkt.es/es/category/_videojuegos-702740.html\n",
      "Número de páginas: 5\n"
     ]
    },
    {
     "name": "stderr",
     "output_type": "stream",
     "text": [
      "100%|██████████| 5/5 [00:06<00:00,  1.33s/it]\n"
     ]
    },
    {
     "name": "stdout",
     "output_type": "stream",
     "text": [
      "Escaneando pagina 645 de 1012\n",
      "Scraping: https://www.mediamarkt.es/es/category/_cine-y-tv-702741.html\n",
      "Número de páginas: 11\n"
     ]
    },
    {
     "name": "stderr",
     "output_type": "stream",
     "text": [
      "100%|██████████| 11/11 [00:15<00:00,  1.35s/it]\n"
     ]
    },
    {
     "name": "stdout",
     "output_type": "stream",
     "text": [
      "Escaneando pagina 646 de 1012\n",
      "Scraping: https://www.mediamarkt.es/es/category/_figuras-musicales-702742.html\n"
     ]
    },
    {
     "name": "stderr",
     "output_type": "stream",
     "text": [
      "0it [00:00, ?it/s]\n"
     ]
    },
    {
     "name": "stdout",
     "output_type": "stream",
     "text": [
      "Escaneando pagina 647 de 1012\n",
      "Scraping: https://www.mediamarkt.es/es/category/_funko-pop-702329.html\n",
      "Número de páginas: 13\n"
     ]
    },
    {
     "name": "stderr",
     "output_type": "stream",
     "text": [
      "100%|██████████| 13/13 [00:16<00:00,  1.20s/it]\n"
     ]
    },
    {
     "name": "stdout",
     "output_type": "stream",
     "text": [
      "Escaneando pagina 648 de 1012\n",
      "Scraping: https://www.mediamarkt.es/es/category/_ropa-y-accesorios-702330.html\n",
      "Número de páginas: 4\n"
     ]
    },
    {
     "name": "stderr",
     "output_type": "stream",
     "text": [
      "100%|██████████| 4/4 [00:05<00:00,  1.26s/it]\n"
     ]
    },
    {
     "name": "stdout",
     "output_type": "stream",
     "text": [
      "Escaneando pagina 649 de 1012\n",
      "Scraping: https://www.mediamarkt.es/es/category/_tazas-y-termos-702331.html\n",
      "Número de páginas: 5\n"
     ]
    },
    {
     "name": "stderr",
     "output_type": "stream",
     "text": [
      "100%|██████████| 5/5 [00:05<00:00,  1.01it/s]\n"
     ]
    },
    {
     "name": "stdout",
     "output_type": "stream",
     "text": [
      "Escaneando pagina 650 de 1012\n",
      "Scraping: https://www.mediamarkt.es/es/category/_llaveros-pins-y-pendrives-702332.html\n",
      "Número de páginas: 4\n"
     ]
    },
    {
     "name": "stderr",
     "output_type": "stream",
     "text": [
      "100%|██████████| 4/4 [00:04<00:00,  1.18s/it]\n"
     ]
    },
    {
     "name": "stdout",
     "output_type": "stream",
     "text": [
      "Escaneando pagina 651 de 1012\n",
      "Scraping: https://www.mediamarkt.es/es/category/_llaveros-702743.html\n",
      "Número de páginas: 2\n"
     ]
    },
    {
     "name": "stderr",
     "output_type": "stream",
     "text": [
      "100%|██████████| 2/2 [00:02<00:00,  1.24s/it]\n"
     ]
    },
    {
     "name": "stdout",
     "output_type": "stream",
     "text": [
      "Escaneando pagina 652 de 1012\n",
      "Scraping: https://www.mediamarkt.es/es/category/_pendrives-702744.html\n"
     ]
    },
    {
     "name": "stderr",
     "output_type": "stream",
     "text": [
      "0it [00:00, ?it/s]\n"
     ]
    },
    {
     "name": "stdout",
     "output_type": "stream",
     "text": [
      "Escaneando pagina 653 de 1012\n",
      "Scraping: https://www.mediamarkt.es/es/category/_pines-711590.html\n"
     ]
    },
    {
     "name": "stderr",
     "output_type": "stream",
     "text": [
      "0it [00:00, ?it/s]\n"
     ]
    },
    {
     "name": "stdout",
     "output_type": "stream",
     "text": [
      "Escaneando pagina 654 de 1012\n",
      "Scraping: https://www.mediamarkt.es/es/category/_p%C3%B3sters-y-pegatinas-702333.html\n",
      "Número de páginas: 2\n"
     ]
    },
    {
     "name": "stderr",
     "output_type": "stream",
     "text": [
      "100%|██████████| 2/2 [00:02<00:00,  1.34s/it]\n"
     ]
    },
    {
     "name": "stdout",
     "output_type": "stream",
     "text": [
      "Escaneando pagina 655 de 1012\n",
      "Scraping: https://www.mediamarkt.es/es/category/_peluches-702334.html\n"
     ]
    },
    {
     "name": "stderr",
     "output_type": "stream",
     "text": [
      "0it [00:00, ?it/s]\n"
     ]
    },
    {
     "name": "stdout",
     "output_type": "stream",
     "text": [
      "Escaneando pagina 656 de 1012\n",
      "Scraping: https://www.mediamarkt.es/es/category/_felpudos-702335.html\n"
     ]
    },
    {
     "name": "stderr",
     "output_type": "stream",
     "text": [
      "0it [00:00, ?it/s]\n"
     ]
    },
    {
     "name": "stdout",
     "output_type": "stream",
     "text": [
      "Escaneando pagina 657 de 1012\n",
      "Scraping: https://www.mediamarkt.es/es/category/_juegos-de-mesa-702336.html\n"
     ]
    },
    {
     "name": "stderr",
     "output_type": "stream",
     "text": [
      "0it [00:00, ?it/s]\n"
     ]
    },
    {
     "name": "stdout",
     "output_type": "stream",
     "text": [
      "Escaneando pagina 658 de 1012\n",
      "Scraping: https://www.mediamarkt.es/es/category/_varios-702337.html\n",
      "Número de páginas: 9\n"
     ]
    },
    {
     "name": "stderr",
     "output_type": "stream",
     "text": [
      "100%|██████████| 9/9 [00:08<00:00,  1.10it/s]\n"
     ]
    },
    {
     "name": "stdout",
     "output_type": "stream",
     "text": [
      "Escaneando pagina 659 de 1012\n",
      "Scraping: https://www.mediamarkt.es/es/category/_cine-tv-m%C3%BAsica-702745.html\n",
      "Número de páginas: 7\n"
     ]
    },
    {
     "name": "stderr",
     "output_type": "stream",
     "text": [
      "100%|██████████| 7/7 [00:08<00:00,  1.17s/it]\n"
     ]
    },
    {
     "name": "stdout",
     "output_type": "stream",
     "text": [
      "Escaneando pagina 660 de 1012\n",
      "Scraping: https://www.mediamarkt.es/es/category/_juguetes-701346.html\n"
     ]
    },
    {
     "name": "stderr",
     "output_type": "stream",
     "text": [
      "0it [00:00, ?it/s]\n"
     ]
    },
    {
     "name": "stdout",
     "output_type": "stream",
     "text": [
      "Escaneando pagina 661 de 1012\n",
      "Scraping: https://www.mediamarkt.es/es/category/_juguetes-electr%C3%B3nicos-702340.html\n"
     ]
    },
    {
     "name": "stderr",
     "output_type": "stream",
     "text": [
      "0it [00:00, ?it/s]\n"
     ]
    },
    {
     "name": "stdout",
     "output_type": "stream",
     "text": [
      "Escaneando pagina 662 de 1012\n",
      "Scraping: https://www.mediamarkt.es/es/category/_juguetes-infantiles-702341.html\n"
     ]
    },
    {
     "name": "stderr",
     "output_type": "stream",
     "text": [
      "0it [00:00, ?it/s]\n"
     ]
    },
    {
     "name": "stdout",
     "output_type": "stream",
     "text": [
      "Escaneando pagina 663 de 1012\n",
      "Scraping: https://www.mediamarkt.es/es/category/_radiocontrol-702342.html\n"
     ]
    },
    {
     "name": "stderr",
     "output_type": "stream",
     "text": [
      "0it [00:00, ?it/s]\n"
     ]
    },
    {
     "name": "stdout",
     "output_type": "stream",
     "text": [
      "Escaneando pagina 664 de 1012\n",
      "Scraping: https://www.mediamarkt.es/es/category/_rob%C3%B3tica-701348.html\n"
     ]
    },
    {
     "name": "stderr",
     "output_type": "stream",
     "text": [
      "0it [00:00, ?it/s]\n"
     ]
    },
    {
     "name": "stdout",
     "output_type": "stream",
     "text": [
      "Escaneando pagina 665 de 1012\n",
      "Scraping: https://www.mediamarkt.es/es/category/_rob%C3%B3tica-educativa-702353.html\n"
     ]
    },
    {
     "name": "stderr",
     "output_type": "stream",
     "text": [
      "0it [00:00, ?it/s]\n"
     ]
    },
    {
     "name": "stdout",
     "output_type": "stream",
     "text": [
      "Escaneando pagina 666 de 1012\n",
      "Scraping: https://www.mediamarkt.es/es/category/_rob%C3%B3tica-radiocontrol-702354.html\n"
     ]
    },
    {
     "name": "stderr",
     "output_type": "stream",
     "text": [
      "0it [00:00, ?it/s]\n"
     ]
    },
    {
     "name": "stdout",
     "output_type": "stream",
     "text": [
      "Escaneando pagina 667 de 1012\n",
      "Scraping: https://www.mediamarkt.es/es/category/_kits-de-construcci%C3%B3n-702355.html\n"
     ]
    },
    {
     "name": "stderr",
     "output_type": "stream",
     "text": [
      "0it [00:00, ?it/s]\n"
     ]
    },
    {
     "name": "stdout",
     "output_type": "stream",
     "text": [
      "Escaneando pagina 668 de 1012\n",
      "Scraping: https://www.mediamarkt.es/es/category/_deporte-y-outdoor-701146.html\n"
     ]
    },
    {
     "name": "stderr",
     "output_type": "stream",
     "text": [
      "0it [00:00, ?it/s]\n"
     ]
    },
    {
     "name": "stdout",
     "output_type": "stream",
     "text": [
      "Escaneando pagina 669 de 1012\n",
      "Scraping: https://www.mediamarkt.es/es/category/_relojes-y-puls%C3%B3metros-701331.html\n",
      "Número de páginas: 4\n"
     ]
    },
    {
     "name": "stderr",
     "output_type": "stream",
     "text": [
      "100%|██████████| 4/4 [00:04<00:00,  1.15s/it]\n"
     ]
    },
    {
     "name": "stdout",
     "output_type": "stream",
     "text": [
      "Escaneando pagina 670 de 1012\n",
      "Scraping: https://www.mediamarkt.es/es/category/_pulsera-actividad-701332.html\n",
      "Número de páginas: 2\n"
     ]
    },
    {
     "name": "stderr",
     "output_type": "stream",
     "text": [
      "100%|██████████| 2/2 [00:01<00:00,  1.06s/it]\n"
     ]
    },
    {
     "name": "stdout",
     "output_type": "stream",
     "text": [
      "Escaneando pagina 671 de 1012\n",
      "Scraping: https://www.mediamarkt.es/es/category/_gps-de-monta%C3%B1a-701333.html\n"
     ]
    },
    {
     "name": "stderr",
     "output_type": "stream",
     "text": [
      "0it [00:00, ?it/s]\n"
     ]
    },
    {
     "name": "stdout",
     "output_type": "stream",
     "text": [
      "Escaneando pagina 672 de 1012\n",
      "Scraping: https://www.mediamarkt.es/es/category/_ciclismo-701334.html\n",
      "Número de páginas: 2\n"
     ]
    },
    {
     "name": "stderr",
     "output_type": "stream",
     "text": [
      "100%|██████████| 2/2 [00:02<00:00,  1.50s/it]\n"
     ]
    },
    {
     "name": "stdout",
     "output_type": "stream",
     "text": [
      "Escaneando pagina 673 de 1012\n",
      "Scraping: https://www.mediamarkt.es/es/category/_gps-ciclismo-702266.html\n"
     ]
    },
    {
     "name": "stderr",
     "output_type": "stream",
     "text": [
      "0it [00:00, ?it/s]\n"
     ]
    },
    {
     "name": "stdout",
     "output_type": "stream",
     "text": [
      "Escaneando pagina 674 de 1012\n",
      "Scraping: https://www.mediamarkt.es/es/category/_ciclocomputadores-702267.html\n"
     ]
    },
    {
     "name": "stderr",
     "output_type": "stream",
     "text": [
      "0it [00:00, ?it/s]\n"
     ]
    },
    {
     "name": "stdout",
     "output_type": "stream",
     "text": [
      "Escaneando pagina 675 de 1012\n",
      "Scraping: https://www.mediamarkt.es/es/category/_soportes-y-sensores-702268.html\n"
     ]
    },
    {
     "name": "stderr",
     "output_type": "stream",
     "text": [
      "0it [00:00, ?it/s]\n"
     ]
    },
    {
     "name": "stdout",
     "output_type": "stream",
     "text": [
      "Escaneando pagina 676 de 1012\n",
      "Scraping: https://www.mediamarkt.es/es/category/_luces-702269.html\n"
     ]
    },
    {
     "name": "stderr",
     "output_type": "stream",
     "text": [
      "0it [00:00, ?it/s]\n"
     ]
    },
    {
     "name": "stdout",
     "output_type": "stream",
     "text": [
      "Escaneando pagina 677 de 1012\n",
      "Scraping: https://www.mediamarkt.es/es/category/_movilidad-urbana-701335.html\n",
      "Número de páginas: 5\n"
     ]
    },
    {
     "name": "stderr",
     "output_type": "stream",
     "text": [
      "100%|██████████| 5/5 [00:07<00:00,  1.41s/it]\n"
     ]
    },
    {
     "name": "stdout",
     "output_type": "stream",
     "text": [
      "Escaneando pagina 678 de 1012\n",
      "Scraping: https://www.mediamarkt.es/es/category/_hoverboards-y-segways-702270.html\n",
      "Número de páginas: 2\n"
     ]
    },
    {
     "name": "stderr",
     "output_type": "stream",
     "text": [
      "100%|██████████| 2/2 [00:02<00:00,  1.17s/it]\n"
     ]
    },
    {
     "name": "stdout",
     "output_type": "stream",
     "text": [
      "Escaneando pagina 679 de 1012\n",
      "Scraping: https://www.mediamarkt.es/es/category/_6-5-pulgadas-702665.html\n",
      "Número de páginas: 2\n"
     ]
    },
    {
     "name": "stderr",
     "output_type": "stream",
     "text": [
      "100%|██████████| 2/2 [00:02<00:00,  1.10s/it]\n"
     ]
    },
    {
     "name": "stdout",
     "output_type": "stream",
     "text": [
      "Escaneando pagina 680 de 1012\n",
      "Scraping: https://www.mediamarkt.es/es/category/_10-pulgadas-702667.html\n"
     ]
    },
    {
     "name": "stderr",
     "output_type": "stream",
     "text": [
      "0it [00:00, ?it/s]\n"
     ]
    },
    {
     "name": "stdout",
     "output_type": "stream",
     "text": [
      "Escaneando pagina 681 de 1012\n",
      "Scraping: https://www.mediamarkt.es/es/category/_karts-702669.html\n"
     ]
    },
    {
     "name": "stderr",
     "output_type": "stream",
     "text": [
      "0it [00:00, ?it/s]\n"
     ]
    },
    {
     "name": "stdout",
     "output_type": "stream",
     "text": [
      "Escaneando pagina 682 de 1012\n",
      "Scraping: https://www.mediamarkt.es/es/category/_bicicletas-el%C3%A9ctricas-702271.html\n"
     ]
    },
    {
     "name": "stderr",
     "output_type": "stream",
     "text": [
      "0it [00:00, ?it/s]\n"
     ]
    },
    {
     "name": "stdout",
     "output_type": "stream",
     "text": [
      "Escaneando pagina 683 de 1012\n",
      "Scraping: https://www.mediamarkt.es/es/category/_urbanas-702671.html\n"
     ]
    },
    {
     "name": "stderr",
     "output_type": "stream",
     "text": [
      "0it [00:00, ?it/s]\n"
     ]
    },
    {
     "name": "stdout",
     "output_type": "stream",
     "text": [
      "Escaneando pagina 684 de 1012\n",
      "Scraping: https://www.mediamarkt.es/es/category/_patinetes-el%C3%A9ctricos-702272.html\n"
     ]
    },
    {
     "name": "stderr",
     "output_type": "stream",
     "text": [
      "0it [00:00, ?it/s]\n"
     ]
    },
    {
     "name": "stdout",
     "output_type": "stream",
     "text": [
      "Escaneando pagina 685 de 1012\n",
      "Scraping: https://www.mediamarkt.es/es/category/_skates-y-longboards-702273.html\n"
     ]
    },
    {
     "name": "stderr",
     "output_type": "stream",
     "text": [
      "0it [00:00, ?it/s]\n"
     ]
    },
    {
     "name": "stdout",
     "output_type": "stream",
     "text": [
      "Escaneando pagina 686 de 1012\n",
      "Scraping: https://www.mediamarkt.es/es/category/_accesorios-movilidad-urbana-702276.html\n",
      "Número de páginas: 2\n"
     ]
    },
    {
     "name": "stderr",
     "output_type": "stream",
     "text": [
      "100%|██████████| 2/2 [00:02<00:00,  1.46s/it]\n"
     ]
    },
    {
     "name": "stdout",
     "output_type": "stream",
     "text": [
      "Escaneando pagina 687 de 1012\n",
      "Scraping: https://www.mediamarkt.es/es/category/_cascos-y-protecciones-702672.html\n"
     ]
    },
    {
     "name": "stderr",
     "output_type": "stream",
     "text": [
      "0it [00:00, ?it/s]\n"
     ]
    },
    {
     "name": "stdout",
     "output_type": "stream",
     "text": [
      "Escaneando pagina 688 de 1012\n",
      "Scraping: https://www.mediamarkt.es/es/category/_recambios-outdoor-702673.html\n"
     ]
    },
    {
     "name": "stderr",
     "output_type": "stream",
     "text": [
      "0it [00:00, ?it/s]\n"
     ]
    },
    {
     "name": "stdout",
     "output_type": "stream",
     "text": [
      "Escaneando pagina 689 de 1012\n",
      "Scraping: https://www.mediamarkt.es/es/category/_fundas-accesorios-deportivos-702674.html\n",
      "Número de páginas: 2\n"
     ]
    },
    {
     "name": "stderr",
     "output_type": "stream",
     "text": [
      "100%|██████████| 2/2 [00:02<00:00,  1.41s/it]\n"
     ]
    },
    {
     "name": "stdout",
     "output_type": "stream",
     "text": [
      "Escaneando pagina 690 de 1012\n",
      "Scraping: https://www.mediamarkt.es/es/category/_auriculares-outdoor-701336.html\n",
      "Número de páginas: 9\n"
     ]
    },
    {
     "name": "stderr",
     "output_type": "stream",
     "text": [
      "100%|██████████| 9/9 [00:12<00:00,  1.35s/it]\n"
     ]
    },
    {
     "name": "stdout",
     "output_type": "stream",
     "text": [
      "Escaneando pagina 691 de 1012\n",
      "Scraping: https://www.mediamarkt.es/es/category/_accesorios-deporte-y-outdoor-701337.html\n",
      "Número de páginas: 8\n"
     ]
    },
    {
     "name": "stderr",
     "output_type": "stream",
     "text": [
      "100%|██████████| 8/8 [00:12<00:00,  1.44s/it]\n"
     ]
    },
    {
     "name": "stdout",
     "output_type": "stream",
     "text": [
      "Escaneando pagina 692 de 1012\n",
      "Scraping: https://www.mediamarkt.es/es/category/_walkie-talkie-702277.html\n"
     ]
    },
    {
     "name": "stderr",
     "output_type": "stream",
     "text": [
      "0it [00:00, ?it/s]\n"
     ]
    },
    {
     "name": "stdout",
     "output_type": "stream",
     "text": [
      "Escaneando pagina 693 de 1012\n",
      "Scraping: https://www.mediamarkt.es/es/category/_correas-y-recambios-702278.html\n",
      "Número de páginas: 3\n"
     ]
    },
    {
     "name": "stderr",
     "output_type": "stream",
     "text": [
      "100%|██████████| 3/3 [00:03<00:00,  1.30s/it]\n"
     ]
    },
    {
     "name": "stdout",
     "output_type": "stream",
     "text": [
      "Escaneando pagina 694 de 1012\n",
      "Scraping: https://www.mediamarkt.es/es/category/_navajas-y-multiusos-702279.html\n",
      "Número de páginas: 2\n"
     ]
    },
    {
     "name": "stderr",
     "output_type": "stream",
     "text": [
      "100%|██████████| 2/2 [00:03<00:00,  1.66s/it]\n"
     ]
    },
    {
     "name": "stdout",
     "output_type": "stream",
     "text": [
      "Escaneando pagina 695 de 1012\n",
      "Scraping: https://www.mediamarkt.es/es/category/_iluminaci%C3%B3n-y-linternas-702280.html\n",
      "Número de páginas: 3\n"
     ]
    },
    {
     "name": "stderr",
     "output_type": "stream",
     "text": [
      "100%|██████████| 3/3 [00:04<00:00,  1.41s/it]\n"
     ]
    },
    {
     "name": "stdout",
     "output_type": "stream",
     "text": [
      "Escaneando pagina 696 de 1012\n",
      "Scraping: https://www.mediamarkt.es/es/category/_bidones-y-vasos-t%C3%A9rmicos-702281.html\n"
     ]
    },
    {
     "name": "stderr",
     "output_type": "stream",
     "text": [
      "0it [00:00, ?it/s]\n"
     ]
    },
    {
     "name": "stdout",
     "output_type": "stream",
     "text": [
      "Escaneando pagina 697 de 1012\n",
      "Scraping: https://www.mediamarkt.es/es/category/_cine-m%C3%BAsica-y-libros-701148.html\n"
     ]
    },
    {
     "name": "stderr",
     "output_type": "stream",
     "text": [
      "0it [00:00, ?it/s]\n"
     ]
    },
    {
     "name": "stdout",
     "output_type": "stream",
     "text": [
      "Escaneando pagina 698 de 1012\n",
      "Scraping: https://www.mediamarkt.es/es/category/_pr%C3%B3ximos-lanzamientos-cine-y-m%C3%BAsica-701349.html\n",
      "Número de páginas: 8\n"
     ]
    },
    {
     "name": "stderr",
     "output_type": "stream",
     "text": [
      "100%|██████████| 8/8 [00:13<00:00,  1.52s/it]\n"
     ]
    },
    {
     "name": "stdout",
     "output_type": "stream",
     "text": [
      "Escaneando pagina 699 de 1012\n",
      "Scraping: https://www.mediamarkt.es/es/category/_cine-701350.html\n",
      "Número de páginas: 152\n"
     ]
    },
    {
     "name": "stderr",
     "output_type": "stream",
     "text": [
      "100%|██████████| 152/152 [04:26<00:00,  1.49s/it]\n"
     ]
    },
    {
     "name": "stdout",
     "output_type": "stream",
     "text": [
      "Escaneando pagina 700 de 1012\n",
      "Scraping: https://www.mediamarkt.es/es/category/_pel%C3%ADculas-702357.html\n",
      "Número de páginas: 146\n"
     ]
    },
    {
     "name": "stderr",
     "output_type": "stream",
     "text": [
      "100%|██████████| 146/146 [03:08<00:00,  1.06s/it]\n"
     ]
    },
    {
     "name": "stdout",
     "output_type": "stream",
     "text": [
      "Escaneando pagina 701 de 1012\n",
      "Scraping: https://www.mediamarkt.es/es/category/_packs-702359.html\n",
      "Número de páginas: 9\n"
     ]
    },
    {
     "name": "stderr",
     "output_type": "stream",
     "text": [
      "100%|██████████| 9/9 [00:12<00:00,  1.30s/it]\n"
     ]
    },
    {
     "name": "stdout",
     "output_type": "stream",
     "text": [
      "Escaneando pagina 702 de 1012\n",
      "Scraping: https://www.mediamarkt.es/es/category/_series-tv-701351.html\n",
      "Número de páginas: 19\n"
     ]
    },
    {
     "name": "stderr",
     "output_type": "stream",
     "text": [
      "100%|██████████| 19/19 [00:29<00:00,  1.48s/it]\n"
     ]
    },
    {
     "name": "stdout",
     "output_type": "stream",
     "text": [
      "Escaneando pagina 703 de 1012\n",
      "Scraping: https://www.mediamarkt.es/es/category/_m%C3%BAsica-701352.html\n",
      "Número de páginas: 71\n"
     ]
    },
    {
     "name": "stderr",
     "output_type": "stream",
     "text": [
      "100%|██████████| 71/71 [01:28<00:00,  1.06s/it]\n"
     ]
    },
    {
     "name": "stdout",
     "output_type": "stream",
     "text": [
      "Escaneando pagina 704 de 1012\n",
      "Scraping: https://www.mediamarkt.es/es/category/_internacional-702360.html\n",
      "Número de páginas: 18\n"
     ]
    },
    {
     "name": "stderr",
     "output_type": "stream",
     "text": [
      "100%|██████████| 18/18 [00:28<00:00,  1.43s/it]\n"
     ]
    },
    {
     "name": "stdout",
     "output_type": "stream",
     "text": [
      "Escaneando pagina 705 de 1012\n",
      "Scraping: https://www.mediamarkt.es/es/category/_m%C3%BAsica-nacional-702361.html\n",
      "Número de páginas: 32\n"
     ]
    },
    {
     "name": "stderr",
     "output_type": "stream",
     "text": [
      "100%|██████████| 32/32 [00:46<00:00,  1.37s/it]\n"
     ]
    },
    {
     "name": "stdout",
     "output_type": "stream",
     "text": [
      "Escaneando pagina 706 de 1012\n",
      "Scraping: https://www.mediamarkt.es/es/category/_dance-electr%C3%B3nica-702362.html\n",
      "Número de páginas: 3\n"
     ]
    },
    {
     "name": "stderr",
     "output_type": "stream",
     "text": [
      "100%|██████████| 3/3 [00:03<00:00,  1.17s/it]\n"
     ]
    },
    {
     "name": "stdout",
     "output_type": "stream",
     "text": [
      "Escaneando pagina 707 de 1012\n",
      "Scraping: https://www.mediamarkt.es/es/category/_soul-hip-hop-r-b-702363.html\n",
      "Número de páginas: 3\n"
     ]
    },
    {
     "name": "stderr",
     "output_type": "stream",
     "text": [
      "100%|██████████| 3/3 [00:03<00:00,  1.33s/it]\n"
     ]
    },
    {
     "name": "stdout",
     "output_type": "stream",
     "text": [
      "Escaneando pagina 708 de 1012\n",
      "Scraping: https://www.mediamarkt.es/es/category/_flamenco-702364.html\n",
      "Número de páginas: 4\n"
     ]
    },
    {
     "name": "stderr",
     "output_type": "stream",
     "text": [
      "100%|██████████| 4/4 [00:05<00:00,  1.31s/it]\n"
     ]
    },
    {
     "name": "stdout",
     "output_type": "stream",
     "text": [
      "Escaneando pagina 709 de 1012\n",
      "Scraping: https://www.mediamarkt.es/es/category/_m%C3%BAsicas-del-mundo-702365.html\n",
      "Número de páginas: 2\n"
     ]
    },
    {
     "name": "stderr",
     "output_type": "stream",
     "text": [
      "100%|██████████| 2/2 [00:03<00:00,  1.73s/it]\n"
     ]
    },
    {
     "name": "stdout",
     "output_type": "stream",
     "text": [
      "Escaneando pagina 710 de 1012\n",
      "Scraping: https://www.mediamarkt.es/es/category/_bandas-sonoras-e-infantil-702366.html\n",
      "Número de páginas: 2\n"
     ]
    },
    {
     "name": "stderr",
     "output_type": "stream",
     "text": [
      "100%|██████████| 2/2 [00:02<00:00,  1.22s/it]\n"
     ]
    },
    {
     "name": "stdout",
     "output_type": "stream",
     "text": [
      "Escaneando pagina 711 de 1012\n",
      "Scraping: https://www.mediamarkt.es/es/category/_jazz-y-cl%C3%A1sica-702367.html\n",
      "Número de páginas: 3\n"
     ]
    },
    {
     "name": "stderr",
     "output_type": "stream",
     "text": [
      "100%|██████████| 3/3 [00:04<00:00,  1.45s/it]\n"
     ]
    },
    {
     "name": "stdout",
     "output_type": "stream",
     "text": [
      "Escaneando pagina 712 de 1012\n",
      "Scraping: https://www.mediamarkt.es/es/category/_libros-701353.html\n",
      "Número de páginas: 24\n"
     ]
    },
    {
     "name": "stderr",
     "output_type": "stream",
     "text": [
      "  8%|▊         | 2/24 [00:02<00:31,  1.41s/it]\n"
     ]
    },
    {
     "ename": "ConnectionError",
     "evalue": "('Connection aborted.', OSError(\"(10054, 'WSAECONNRESET')\"))",
     "output_type": "error",
     "traceback": [
      "\u001b[1;31m---------------------------------------------------------------------------\u001b[0m",
      "\u001b[1;31mOSError\u001b[0m                                   Traceback (most recent call last)",
      "\u001b[1;32mC:\\ProgramData\\Anaconda3\\lib\\site-packages\\urllib3\\connectionpool.py\u001b[0m in \u001b[0;36murlopen\u001b[1;34m(self, method, url, body, headers, retries, redirect, assert_same_host, timeout, pool_timeout, release_conn, chunked, body_pos, **response_kw)\u001b[0m\n\u001b[0;32m    599\u001b[0m                                                   \u001b[0mbody\u001b[0m\u001b[1;33m=\u001b[0m\u001b[0mbody\u001b[0m\u001b[1;33m,\u001b[0m \u001b[0mheaders\u001b[0m\u001b[1;33m=\u001b[0m\u001b[0mheaders\u001b[0m\u001b[1;33m,\u001b[0m\u001b[1;33m\u001b[0m\u001b[1;33m\u001b[0m\u001b[0m\n\u001b[1;32m--> 600\u001b[1;33m                                                   chunked=chunked)\n\u001b[0m\u001b[0;32m    601\u001b[0m \u001b[1;33m\u001b[0m\u001b[0m\n",
      "\u001b[1;32mC:\\ProgramData\\Anaconda3\\lib\\site-packages\\urllib3\\connectionpool.py\u001b[0m in \u001b[0;36m_make_request\u001b[1;34m(self, conn, method, url, timeout, chunked, **httplib_request_kw)\u001b[0m\n\u001b[0;32m    383\u001b[0m                     \u001b[1;31m# otherwise it looks like a programming error was the cause.\u001b[0m\u001b[1;33m\u001b[0m\u001b[1;33m\u001b[0m\u001b[1;33m\u001b[0m\u001b[0m\n\u001b[1;32m--> 384\u001b[1;33m                     \u001b[0msix\u001b[0m\u001b[1;33m.\u001b[0m\u001b[0mraise_from\u001b[0m\u001b[1;33m(\u001b[0m\u001b[0me\u001b[0m\u001b[1;33m,\u001b[0m \u001b[1;32mNone\u001b[0m\u001b[1;33m)\u001b[0m\u001b[1;33m\u001b[0m\u001b[1;33m\u001b[0m\u001b[0m\n\u001b[0m\u001b[0;32m    385\u001b[0m         \u001b[1;32mexcept\u001b[0m \u001b[1;33m(\u001b[0m\u001b[0mSocketTimeout\u001b[0m\u001b[1;33m,\u001b[0m \u001b[0mBaseSSLError\u001b[0m\u001b[1;33m,\u001b[0m \u001b[0mSocketError\u001b[0m\u001b[1;33m)\u001b[0m \u001b[1;32mas\u001b[0m \u001b[0me\u001b[0m\u001b[1;33m:\u001b[0m\u001b[1;33m\u001b[0m\u001b[1;33m\u001b[0m\u001b[0m\n",
      "\u001b[1;32mC:\\ProgramData\\Anaconda3\\lib\\site-packages\\urllib3\\packages\\six.py\u001b[0m in \u001b[0;36mraise_from\u001b[1;34m(value, from_value)\u001b[0m\n",
      "\u001b[1;32mC:\\ProgramData\\Anaconda3\\lib\\site-packages\\urllib3\\connectionpool.py\u001b[0m in \u001b[0;36m_make_request\u001b[1;34m(self, conn, method, url, timeout, chunked, **httplib_request_kw)\u001b[0m\n\u001b[0;32m    379\u001b[0m                 \u001b[1;32mtry\u001b[0m\u001b[1;33m:\u001b[0m\u001b[1;33m\u001b[0m\u001b[1;33m\u001b[0m\u001b[0m\n\u001b[1;32m--> 380\u001b[1;33m                     \u001b[0mhttplib_response\u001b[0m \u001b[1;33m=\u001b[0m \u001b[0mconn\u001b[0m\u001b[1;33m.\u001b[0m\u001b[0mgetresponse\u001b[0m\u001b[1;33m(\u001b[0m\u001b[1;33m)\u001b[0m\u001b[1;33m\u001b[0m\u001b[1;33m\u001b[0m\u001b[0m\n\u001b[0m\u001b[0;32m    381\u001b[0m                 \u001b[1;32mexcept\u001b[0m \u001b[0mException\u001b[0m \u001b[1;32mas\u001b[0m \u001b[0me\u001b[0m\u001b[1;33m:\u001b[0m\u001b[1;33m\u001b[0m\u001b[1;33m\u001b[0m\u001b[0m\n",
      "\u001b[1;32mC:\\ProgramData\\Anaconda3\\lib\\http\\client.py\u001b[0m in \u001b[0;36mgetresponse\u001b[1;34m(self)\u001b[0m\n\u001b[0;32m   1320\u001b[0m             \u001b[1;32mtry\u001b[0m\u001b[1;33m:\u001b[0m\u001b[1;33m\u001b[0m\u001b[1;33m\u001b[0m\u001b[0m\n\u001b[1;32m-> 1321\u001b[1;33m                 \u001b[0mresponse\u001b[0m\u001b[1;33m.\u001b[0m\u001b[0mbegin\u001b[0m\u001b[1;33m(\u001b[0m\u001b[1;33m)\u001b[0m\u001b[1;33m\u001b[0m\u001b[1;33m\u001b[0m\u001b[0m\n\u001b[0m\u001b[0;32m   1322\u001b[0m             \u001b[1;32mexcept\u001b[0m \u001b[0mConnectionError\u001b[0m\u001b[1;33m:\u001b[0m\u001b[1;33m\u001b[0m\u001b[1;33m\u001b[0m\u001b[0m\n",
      "\u001b[1;32mC:\\ProgramData\\Anaconda3\\lib\\http\\client.py\u001b[0m in \u001b[0;36mbegin\u001b[1;34m(self)\u001b[0m\n\u001b[0;32m    295\u001b[0m         \u001b[1;32mwhile\u001b[0m \u001b[1;32mTrue\u001b[0m\u001b[1;33m:\u001b[0m\u001b[1;33m\u001b[0m\u001b[1;33m\u001b[0m\u001b[0m\n\u001b[1;32m--> 296\u001b[1;33m             \u001b[0mversion\u001b[0m\u001b[1;33m,\u001b[0m \u001b[0mstatus\u001b[0m\u001b[1;33m,\u001b[0m \u001b[0mreason\u001b[0m \u001b[1;33m=\u001b[0m \u001b[0mself\u001b[0m\u001b[1;33m.\u001b[0m\u001b[0m_read_status\u001b[0m\u001b[1;33m(\u001b[0m\u001b[1;33m)\u001b[0m\u001b[1;33m\u001b[0m\u001b[1;33m\u001b[0m\u001b[0m\n\u001b[0m\u001b[0;32m    297\u001b[0m             \u001b[1;32mif\u001b[0m \u001b[0mstatus\u001b[0m \u001b[1;33m!=\u001b[0m \u001b[0mCONTINUE\u001b[0m\u001b[1;33m:\u001b[0m\u001b[1;33m\u001b[0m\u001b[1;33m\u001b[0m\u001b[0m\n",
      "\u001b[1;32mC:\\ProgramData\\Anaconda3\\lib\\http\\client.py\u001b[0m in \u001b[0;36m_read_status\u001b[1;34m(self)\u001b[0m\n\u001b[0;32m    256\u001b[0m     \u001b[1;32mdef\u001b[0m \u001b[0m_read_status\u001b[0m\u001b[1;33m(\u001b[0m\u001b[0mself\u001b[0m\u001b[1;33m)\u001b[0m\u001b[1;33m:\u001b[0m\u001b[1;33m\u001b[0m\u001b[1;33m\u001b[0m\u001b[0m\n\u001b[1;32m--> 257\u001b[1;33m         \u001b[0mline\u001b[0m \u001b[1;33m=\u001b[0m \u001b[0mstr\u001b[0m\u001b[1;33m(\u001b[0m\u001b[0mself\u001b[0m\u001b[1;33m.\u001b[0m\u001b[0mfp\u001b[0m\u001b[1;33m.\u001b[0m\u001b[0mreadline\u001b[0m\u001b[1;33m(\u001b[0m\u001b[0m_MAXLINE\u001b[0m \u001b[1;33m+\u001b[0m \u001b[1;36m1\u001b[0m\u001b[1;33m)\u001b[0m\u001b[1;33m,\u001b[0m \u001b[1;34m\"iso-8859-1\"\u001b[0m\u001b[1;33m)\u001b[0m\u001b[1;33m\u001b[0m\u001b[1;33m\u001b[0m\u001b[0m\n\u001b[0m\u001b[0;32m    258\u001b[0m         \u001b[1;32mif\u001b[0m \u001b[0mlen\u001b[0m\u001b[1;33m(\u001b[0m\u001b[0mline\u001b[0m\u001b[1;33m)\u001b[0m \u001b[1;33m>\u001b[0m \u001b[0m_MAXLINE\u001b[0m\u001b[1;33m:\u001b[0m\u001b[1;33m\u001b[0m\u001b[1;33m\u001b[0m\u001b[0m\n",
      "\u001b[1;32mC:\\ProgramData\\Anaconda3\\lib\\socket.py\u001b[0m in \u001b[0;36mreadinto\u001b[1;34m(self, b)\u001b[0m\n\u001b[0;32m    588\u001b[0m             \u001b[1;32mtry\u001b[0m\u001b[1;33m:\u001b[0m\u001b[1;33m\u001b[0m\u001b[1;33m\u001b[0m\u001b[0m\n\u001b[1;32m--> 589\u001b[1;33m                 \u001b[1;32mreturn\u001b[0m \u001b[0mself\u001b[0m\u001b[1;33m.\u001b[0m\u001b[0m_sock\u001b[0m\u001b[1;33m.\u001b[0m\u001b[0mrecv_into\u001b[0m\u001b[1;33m(\u001b[0m\u001b[0mb\u001b[0m\u001b[1;33m)\u001b[0m\u001b[1;33m\u001b[0m\u001b[1;33m\u001b[0m\u001b[0m\n\u001b[0m\u001b[0;32m    590\u001b[0m             \u001b[1;32mexcept\u001b[0m \u001b[0mtimeout\u001b[0m\u001b[1;33m:\u001b[0m\u001b[1;33m\u001b[0m\u001b[1;33m\u001b[0m\u001b[0m\n",
      "\u001b[1;32mC:\\ProgramData\\Anaconda3\\lib\\site-packages\\urllib3\\contrib\\pyopenssl.py\u001b[0m in \u001b[0;36mrecv_into\u001b[1;34m(self, *args, **kwargs)\u001b[0m\n\u001b[0;32m    298\u001b[0m             \u001b[1;32melse\u001b[0m\u001b[1;33m:\u001b[0m\u001b[1;33m\u001b[0m\u001b[1;33m\u001b[0m\u001b[0m\n\u001b[1;32m--> 299\u001b[1;33m                 \u001b[1;32mraise\u001b[0m \u001b[0mSocketError\u001b[0m\u001b[1;33m(\u001b[0m\u001b[0mstr\u001b[0m\u001b[1;33m(\u001b[0m\u001b[0me\u001b[0m\u001b[1;33m)\u001b[0m\u001b[1;33m)\u001b[0m\u001b[1;33m\u001b[0m\u001b[1;33m\u001b[0m\u001b[0m\n\u001b[0m\u001b[0;32m    300\u001b[0m         \u001b[1;32mexcept\u001b[0m \u001b[0mOpenSSL\u001b[0m\u001b[1;33m.\u001b[0m\u001b[0mSSL\u001b[0m\u001b[1;33m.\u001b[0m\u001b[0mZeroReturnError\u001b[0m \u001b[1;32mas\u001b[0m \u001b[0me\u001b[0m\u001b[1;33m:\u001b[0m\u001b[1;33m\u001b[0m\u001b[1;33m\u001b[0m\u001b[0m\n",
      "\u001b[1;31mOSError\u001b[0m: (10054, 'WSAECONNRESET')",
      "\nDuring handling of the above exception, another exception occurred:\n",
      "\u001b[1;31mProtocolError\u001b[0m                             Traceback (most recent call last)",
      "\u001b[1;32mC:\\ProgramData\\Anaconda3\\lib\\site-packages\\requests\\adapters.py\u001b[0m in \u001b[0;36msend\u001b[1;34m(self, request, stream, timeout, verify, cert, proxies)\u001b[0m\n\u001b[0;32m    448\u001b[0m                     \u001b[0mretries\u001b[0m\u001b[1;33m=\u001b[0m\u001b[0mself\u001b[0m\u001b[1;33m.\u001b[0m\u001b[0mmax_retries\u001b[0m\u001b[1;33m,\u001b[0m\u001b[1;33m\u001b[0m\u001b[1;33m\u001b[0m\u001b[0m\n\u001b[1;32m--> 449\u001b[1;33m                     \u001b[0mtimeout\u001b[0m\u001b[1;33m=\u001b[0m\u001b[0mtimeout\u001b[0m\u001b[1;33m\u001b[0m\u001b[1;33m\u001b[0m\u001b[0m\n\u001b[0m\u001b[0;32m    450\u001b[0m                 )\n",
      "\u001b[1;32mC:\\ProgramData\\Anaconda3\\lib\\site-packages\\urllib3\\connectionpool.py\u001b[0m in \u001b[0;36murlopen\u001b[1;34m(self, method, url, body, headers, retries, redirect, assert_same_host, timeout, pool_timeout, release_conn, chunked, body_pos, **response_kw)\u001b[0m\n\u001b[0;32m    637\u001b[0m             retries = retries.increment(method, url, error=e, _pool=self,\n\u001b[1;32m--> 638\u001b[1;33m                                         _stacktrace=sys.exc_info()[2])\n\u001b[0m\u001b[0;32m    639\u001b[0m             \u001b[0mretries\u001b[0m\u001b[1;33m.\u001b[0m\u001b[0msleep\u001b[0m\u001b[1;33m(\u001b[0m\u001b[1;33m)\u001b[0m\u001b[1;33m\u001b[0m\u001b[1;33m\u001b[0m\u001b[0m\n",
      "\u001b[1;32mC:\\ProgramData\\Anaconda3\\lib\\site-packages\\urllib3\\util\\retry.py\u001b[0m in \u001b[0;36mincrement\u001b[1;34m(self, method, url, response, error, _pool, _stacktrace)\u001b[0m\n\u001b[0;32m    366\u001b[0m             \u001b[1;32mif\u001b[0m \u001b[0mread\u001b[0m \u001b[1;32mis\u001b[0m \u001b[1;32mFalse\u001b[0m \u001b[1;32mor\u001b[0m \u001b[1;32mnot\u001b[0m \u001b[0mself\u001b[0m\u001b[1;33m.\u001b[0m\u001b[0m_is_method_retryable\u001b[0m\u001b[1;33m(\u001b[0m\u001b[0mmethod\u001b[0m\u001b[1;33m)\u001b[0m\u001b[1;33m:\u001b[0m\u001b[1;33m\u001b[0m\u001b[1;33m\u001b[0m\u001b[0m\n\u001b[1;32m--> 367\u001b[1;33m                 \u001b[1;32mraise\u001b[0m \u001b[0msix\u001b[0m\u001b[1;33m.\u001b[0m\u001b[0mreraise\u001b[0m\u001b[1;33m(\u001b[0m\u001b[0mtype\u001b[0m\u001b[1;33m(\u001b[0m\u001b[0merror\u001b[0m\u001b[1;33m)\u001b[0m\u001b[1;33m,\u001b[0m \u001b[0merror\u001b[0m\u001b[1;33m,\u001b[0m \u001b[0m_stacktrace\u001b[0m\u001b[1;33m)\u001b[0m\u001b[1;33m\u001b[0m\u001b[1;33m\u001b[0m\u001b[0m\n\u001b[0m\u001b[0;32m    368\u001b[0m             \u001b[1;32melif\u001b[0m \u001b[0mread\u001b[0m \u001b[1;32mis\u001b[0m \u001b[1;32mnot\u001b[0m \u001b[1;32mNone\u001b[0m\u001b[1;33m:\u001b[0m\u001b[1;33m\u001b[0m\u001b[1;33m\u001b[0m\u001b[0m\n",
      "\u001b[1;32mC:\\ProgramData\\Anaconda3\\lib\\site-packages\\urllib3\\packages\\six.py\u001b[0m in \u001b[0;36mreraise\u001b[1;34m(tp, value, tb)\u001b[0m\n\u001b[0;32m    684\u001b[0m         \u001b[1;32mif\u001b[0m \u001b[0mvalue\u001b[0m\u001b[1;33m.\u001b[0m\u001b[0m__traceback__\u001b[0m \u001b[1;32mis\u001b[0m \u001b[1;32mnot\u001b[0m \u001b[0mtb\u001b[0m\u001b[1;33m:\u001b[0m\u001b[1;33m\u001b[0m\u001b[1;33m\u001b[0m\u001b[0m\n\u001b[1;32m--> 685\u001b[1;33m             \u001b[1;32mraise\u001b[0m \u001b[0mvalue\u001b[0m\u001b[1;33m.\u001b[0m\u001b[0mwith_traceback\u001b[0m\u001b[1;33m(\u001b[0m\u001b[0mtb\u001b[0m\u001b[1;33m)\u001b[0m\u001b[1;33m\u001b[0m\u001b[1;33m\u001b[0m\u001b[0m\n\u001b[0m\u001b[0;32m    686\u001b[0m         \u001b[1;32mraise\u001b[0m \u001b[0mvalue\u001b[0m\u001b[1;33m\u001b[0m\u001b[1;33m\u001b[0m\u001b[0m\n",
      "\u001b[1;32mC:\\ProgramData\\Anaconda3\\lib\\site-packages\\urllib3\\connectionpool.py\u001b[0m in \u001b[0;36murlopen\u001b[1;34m(self, method, url, body, headers, retries, redirect, assert_same_host, timeout, pool_timeout, release_conn, chunked, body_pos, **response_kw)\u001b[0m\n\u001b[0;32m    599\u001b[0m                                                   \u001b[0mbody\u001b[0m\u001b[1;33m=\u001b[0m\u001b[0mbody\u001b[0m\u001b[1;33m,\u001b[0m \u001b[0mheaders\u001b[0m\u001b[1;33m=\u001b[0m\u001b[0mheaders\u001b[0m\u001b[1;33m,\u001b[0m\u001b[1;33m\u001b[0m\u001b[1;33m\u001b[0m\u001b[0m\n\u001b[1;32m--> 600\u001b[1;33m                                                   chunked=chunked)\n\u001b[0m\u001b[0;32m    601\u001b[0m \u001b[1;33m\u001b[0m\u001b[0m\n",
      "\u001b[1;32mC:\\ProgramData\\Anaconda3\\lib\\site-packages\\urllib3\\connectionpool.py\u001b[0m in \u001b[0;36m_make_request\u001b[1;34m(self, conn, method, url, timeout, chunked, **httplib_request_kw)\u001b[0m\n\u001b[0;32m    383\u001b[0m                     \u001b[1;31m# otherwise it looks like a programming error was the cause.\u001b[0m\u001b[1;33m\u001b[0m\u001b[1;33m\u001b[0m\u001b[1;33m\u001b[0m\u001b[0m\n\u001b[1;32m--> 384\u001b[1;33m                     \u001b[0msix\u001b[0m\u001b[1;33m.\u001b[0m\u001b[0mraise_from\u001b[0m\u001b[1;33m(\u001b[0m\u001b[0me\u001b[0m\u001b[1;33m,\u001b[0m \u001b[1;32mNone\u001b[0m\u001b[1;33m)\u001b[0m\u001b[1;33m\u001b[0m\u001b[1;33m\u001b[0m\u001b[0m\n\u001b[0m\u001b[0;32m    385\u001b[0m         \u001b[1;32mexcept\u001b[0m \u001b[1;33m(\u001b[0m\u001b[0mSocketTimeout\u001b[0m\u001b[1;33m,\u001b[0m \u001b[0mBaseSSLError\u001b[0m\u001b[1;33m,\u001b[0m \u001b[0mSocketError\u001b[0m\u001b[1;33m)\u001b[0m \u001b[1;32mas\u001b[0m \u001b[0me\u001b[0m\u001b[1;33m:\u001b[0m\u001b[1;33m\u001b[0m\u001b[1;33m\u001b[0m\u001b[0m\n",
      "\u001b[1;32mC:\\ProgramData\\Anaconda3\\lib\\site-packages\\urllib3\\packages\\six.py\u001b[0m in \u001b[0;36mraise_from\u001b[1;34m(value, from_value)\u001b[0m\n",
      "\u001b[1;32mC:\\ProgramData\\Anaconda3\\lib\\site-packages\\urllib3\\connectionpool.py\u001b[0m in \u001b[0;36m_make_request\u001b[1;34m(self, conn, method, url, timeout, chunked, **httplib_request_kw)\u001b[0m\n\u001b[0;32m    379\u001b[0m                 \u001b[1;32mtry\u001b[0m\u001b[1;33m:\u001b[0m\u001b[1;33m\u001b[0m\u001b[1;33m\u001b[0m\u001b[0m\n\u001b[1;32m--> 380\u001b[1;33m                     \u001b[0mhttplib_response\u001b[0m \u001b[1;33m=\u001b[0m \u001b[0mconn\u001b[0m\u001b[1;33m.\u001b[0m\u001b[0mgetresponse\u001b[0m\u001b[1;33m(\u001b[0m\u001b[1;33m)\u001b[0m\u001b[1;33m\u001b[0m\u001b[1;33m\u001b[0m\u001b[0m\n\u001b[0m\u001b[0;32m    381\u001b[0m                 \u001b[1;32mexcept\u001b[0m \u001b[0mException\u001b[0m \u001b[1;32mas\u001b[0m \u001b[0me\u001b[0m\u001b[1;33m:\u001b[0m\u001b[1;33m\u001b[0m\u001b[1;33m\u001b[0m\u001b[0m\n",
      "\u001b[1;32mC:\\ProgramData\\Anaconda3\\lib\\http\\client.py\u001b[0m in \u001b[0;36mgetresponse\u001b[1;34m(self)\u001b[0m\n\u001b[0;32m   1320\u001b[0m             \u001b[1;32mtry\u001b[0m\u001b[1;33m:\u001b[0m\u001b[1;33m\u001b[0m\u001b[1;33m\u001b[0m\u001b[0m\n\u001b[1;32m-> 1321\u001b[1;33m                 \u001b[0mresponse\u001b[0m\u001b[1;33m.\u001b[0m\u001b[0mbegin\u001b[0m\u001b[1;33m(\u001b[0m\u001b[1;33m)\u001b[0m\u001b[1;33m\u001b[0m\u001b[1;33m\u001b[0m\u001b[0m\n\u001b[0m\u001b[0;32m   1322\u001b[0m             \u001b[1;32mexcept\u001b[0m \u001b[0mConnectionError\u001b[0m\u001b[1;33m:\u001b[0m\u001b[1;33m\u001b[0m\u001b[1;33m\u001b[0m\u001b[0m\n",
      "\u001b[1;32mC:\\ProgramData\\Anaconda3\\lib\\http\\client.py\u001b[0m in \u001b[0;36mbegin\u001b[1;34m(self)\u001b[0m\n\u001b[0;32m    295\u001b[0m         \u001b[1;32mwhile\u001b[0m \u001b[1;32mTrue\u001b[0m\u001b[1;33m:\u001b[0m\u001b[1;33m\u001b[0m\u001b[1;33m\u001b[0m\u001b[0m\n\u001b[1;32m--> 296\u001b[1;33m             \u001b[0mversion\u001b[0m\u001b[1;33m,\u001b[0m \u001b[0mstatus\u001b[0m\u001b[1;33m,\u001b[0m \u001b[0mreason\u001b[0m \u001b[1;33m=\u001b[0m \u001b[0mself\u001b[0m\u001b[1;33m.\u001b[0m\u001b[0m_read_status\u001b[0m\u001b[1;33m(\u001b[0m\u001b[1;33m)\u001b[0m\u001b[1;33m\u001b[0m\u001b[1;33m\u001b[0m\u001b[0m\n\u001b[0m\u001b[0;32m    297\u001b[0m             \u001b[1;32mif\u001b[0m \u001b[0mstatus\u001b[0m \u001b[1;33m!=\u001b[0m \u001b[0mCONTINUE\u001b[0m\u001b[1;33m:\u001b[0m\u001b[1;33m\u001b[0m\u001b[1;33m\u001b[0m\u001b[0m\n",
      "\u001b[1;32mC:\\ProgramData\\Anaconda3\\lib\\http\\client.py\u001b[0m in \u001b[0;36m_read_status\u001b[1;34m(self)\u001b[0m\n\u001b[0;32m    256\u001b[0m     \u001b[1;32mdef\u001b[0m \u001b[0m_read_status\u001b[0m\u001b[1;33m(\u001b[0m\u001b[0mself\u001b[0m\u001b[1;33m)\u001b[0m\u001b[1;33m:\u001b[0m\u001b[1;33m\u001b[0m\u001b[1;33m\u001b[0m\u001b[0m\n\u001b[1;32m--> 257\u001b[1;33m         \u001b[0mline\u001b[0m \u001b[1;33m=\u001b[0m \u001b[0mstr\u001b[0m\u001b[1;33m(\u001b[0m\u001b[0mself\u001b[0m\u001b[1;33m.\u001b[0m\u001b[0mfp\u001b[0m\u001b[1;33m.\u001b[0m\u001b[0mreadline\u001b[0m\u001b[1;33m(\u001b[0m\u001b[0m_MAXLINE\u001b[0m \u001b[1;33m+\u001b[0m \u001b[1;36m1\u001b[0m\u001b[1;33m)\u001b[0m\u001b[1;33m,\u001b[0m \u001b[1;34m\"iso-8859-1\"\u001b[0m\u001b[1;33m)\u001b[0m\u001b[1;33m\u001b[0m\u001b[1;33m\u001b[0m\u001b[0m\n\u001b[0m\u001b[0;32m    258\u001b[0m         \u001b[1;32mif\u001b[0m \u001b[0mlen\u001b[0m\u001b[1;33m(\u001b[0m\u001b[0mline\u001b[0m\u001b[1;33m)\u001b[0m \u001b[1;33m>\u001b[0m \u001b[0m_MAXLINE\u001b[0m\u001b[1;33m:\u001b[0m\u001b[1;33m\u001b[0m\u001b[1;33m\u001b[0m\u001b[0m\n",
      "\u001b[1;32mC:\\ProgramData\\Anaconda3\\lib\\socket.py\u001b[0m in \u001b[0;36mreadinto\u001b[1;34m(self, b)\u001b[0m\n\u001b[0;32m    588\u001b[0m             \u001b[1;32mtry\u001b[0m\u001b[1;33m:\u001b[0m\u001b[1;33m\u001b[0m\u001b[1;33m\u001b[0m\u001b[0m\n\u001b[1;32m--> 589\u001b[1;33m                 \u001b[1;32mreturn\u001b[0m \u001b[0mself\u001b[0m\u001b[1;33m.\u001b[0m\u001b[0m_sock\u001b[0m\u001b[1;33m.\u001b[0m\u001b[0mrecv_into\u001b[0m\u001b[1;33m(\u001b[0m\u001b[0mb\u001b[0m\u001b[1;33m)\u001b[0m\u001b[1;33m\u001b[0m\u001b[1;33m\u001b[0m\u001b[0m\n\u001b[0m\u001b[0;32m    590\u001b[0m             \u001b[1;32mexcept\u001b[0m \u001b[0mtimeout\u001b[0m\u001b[1;33m:\u001b[0m\u001b[1;33m\u001b[0m\u001b[1;33m\u001b[0m\u001b[0m\n",
      "\u001b[1;32mC:\\ProgramData\\Anaconda3\\lib\\site-packages\\urllib3\\contrib\\pyopenssl.py\u001b[0m in \u001b[0;36mrecv_into\u001b[1;34m(self, *args, **kwargs)\u001b[0m\n\u001b[0;32m    298\u001b[0m             \u001b[1;32melse\u001b[0m\u001b[1;33m:\u001b[0m\u001b[1;33m\u001b[0m\u001b[1;33m\u001b[0m\u001b[0m\n\u001b[1;32m--> 299\u001b[1;33m                 \u001b[1;32mraise\u001b[0m \u001b[0mSocketError\u001b[0m\u001b[1;33m(\u001b[0m\u001b[0mstr\u001b[0m\u001b[1;33m(\u001b[0m\u001b[0me\u001b[0m\u001b[1;33m)\u001b[0m\u001b[1;33m)\u001b[0m\u001b[1;33m\u001b[0m\u001b[1;33m\u001b[0m\u001b[0m\n\u001b[0m\u001b[0;32m    300\u001b[0m         \u001b[1;32mexcept\u001b[0m \u001b[0mOpenSSL\u001b[0m\u001b[1;33m.\u001b[0m\u001b[0mSSL\u001b[0m\u001b[1;33m.\u001b[0m\u001b[0mZeroReturnError\u001b[0m \u001b[1;32mas\u001b[0m \u001b[0me\u001b[0m\u001b[1;33m:\u001b[0m\u001b[1;33m\u001b[0m\u001b[1;33m\u001b[0m\u001b[0m\n",
      "\u001b[1;31mProtocolError\u001b[0m: ('Connection aborted.', OSError(\"(10054, 'WSAECONNRESET')\"))",
      "\nDuring handling of the above exception, another exception occurred:\n",
      "\u001b[1;31mConnectionError\u001b[0m                           Traceback (most recent call last)",
      "\u001b[1;32m<ipython-input-67-93727f6ee340>\u001b[0m in \u001b[0;36m<module>\u001b[1;34m\u001b[0m\n\u001b[0;32m     12\u001b[0m     \u001b[1;31m#print(\"Escaneando pagina %d de %d\" % (k, len(pagelinks[1:10])))\u001b[0m\u001b[1;33m\u001b[0m\u001b[1;33m\u001b[0m\u001b[1;33m\u001b[0m\u001b[0m\n\u001b[0;32m     13\u001b[0m     \u001b[0mprint\u001b[0m\u001b[1;33m(\u001b[0m\u001b[1;34m\"Escaneando pagina %d de %d\"\u001b[0m \u001b[1;33m%\u001b[0m \u001b[1;33m(\u001b[0m\u001b[0mk\u001b[0m\u001b[1;33m,\u001b[0m \u001b[0mlen\u001b[0m\u001b[1;33m(\u001b[0m\u001b[0mpagelinks\u001b[0m\u001b[1;33m)\u001b[0m\u001b[1;33m)\u001b[0m\u001b[1;33m)\u001b[0m\u001b[1;33m\u001b[0m\u001b[1;33m\u001b[0m\u001b[0m\n\u001b[1;32m---> 14\u001b[1;33m     \u001b[0mproducts\u001b[0m \u001b[1;33m=\u001b[0m \u001b[0mget_data\u001b[0m\u001b[1;33m(\u001b[0m\u001b[0mlink\u001b[0m\u001b[1;33m,\u001b[0m \u001b[0mdat\u001b[0m\u001b[1;33m)\u001b[0m\u001b[1;33m\u001b[0m\u001b[1;33m\u001b[0m\u001b[0m\n\u001b[0m\u001b[0;32m     15\u001b[0m     \u001b[0mtime\u001b[0m\u001b[1;33m.\u001b[0m\u001b[0msleep\u001b[0m\u001b[1;33m(\u001b[0m\u001b[1;36m2\u001b[0m\u001b[1;33m)\u001b[0m\u001b[1;33m\u001b[0m\u001b[1;33m\u001b[0m\u001b[0m\n\u001b[0;32m     16\u001b[0m     \u001b[0mtotal_products\u001b[0m \u001b[1;33m=\u001b[0m \u001b[0mtotal_products\u001b[0m\u001b[1;33m.\u001b[0m\u001b[0mappend\u001b[0m\u001b[1;33m(\u001b[0m\u001b[0mproducts\u001b[0m\u001b[1;33m)\u001b[0m\u001b[1;33m\u001b[0m\u001b[1;33m\u001b[0m\u001b[0m\n",
      "\u001b[1;32m<ipython-input-66-a11548128a3f>\u001b[0m in \u001b[0;36mget_data\u001b[1;34m(URL, output_file)\u001b[0m\n\u001b[0;32m     17\u001b[0m     \u001b[0mitem_list\u001b[0m \u001b[1;33m=\u001b[0m \u001b[0mlist\u001b[0m\u001b[1;33m(\u001b[0m\u001b[1;33m)\u001b[0m\u001b[1;33m\u001b[0m\u001b[1;33m\u001b[0m\u001b[0m\n\u001b[0;32m     18\u001b[0m     \u001b[1;32mfor\u001b[0m \u001b[0mpage\u001b[0m \u001b[1;32min\u001b[0m \u001b[0mtqdm\u001b[0m\u001b[1;33m(\u001b[0m\u001b[0mrange\u001b[0m\u001b[1;33m(\u001b[0m\u001b[1;36m1\u001b[0m\u001b[1;33m,\u001b[0m \u001b[0mnpages\u001b[0m\u001b[1;33m(\u001b[0m\u001b[0mBeautifulSoup\u001b[0m\u001b[1;33m(\u001b[0m\u001b[0mrequests\u001b[0m\u001b[1;33m.\u001b[0m\u001b[0mget\u001b[0m\u001b[1;33m(\u001b[0m\u001b[0mURL\u001b[0m\u001b[1;33m)\u001b[0m\u001b[1;33m.\u001b[0m\u001b[0mtext\u001b[0m\u001b[1;33m,\u001b[0m \u001b[1;34m'html.parser'\u001b[0m\u001b[1;33m)\u001b[0m\u001b[1;33m)\u001b[0m \u001b[1;33m+\u001b[0m \u001b[1;36m1\u001b[0m\u001b[1;33m)\u001b[0m\u001b[1;33m)\u001b[0m\u001b[1;33m:\u001b[0m\u001b[1;33m\u001b[0m\u001b[1;33m\u001b[0m\u001b[0m\n\u001b[1;32m---> 19\u001b[1;33m         \u001b[0msoup\u001b[0m \u001b[1;33m=\u001b[0m \u001b[0mBeautifulSoup\u001b[0m\u001b[1;33m(\u001b[0m\u001b[0mrequests\u001b[0m\u001b[1;33m.\u001b[0m\u001b[0mget\u001b[0m\u001b[1;33m(\u001b[0m\u001b[0mURL\u001b[0m \u001b[1;33m+\u001b[0m \u001b[1;34m'?page='\u001b[0m \u001b[1;33m+\u001b[0m \u001b[0mstr\u001b[0m\u001b[1;33m(\u001b[0m\u001b[0mpage\u001b[0m\u001b[1;33m)\u001b[0m\u001b[1;33m)\u001b[0m\u001b[1;33m.\u001b[0m\u001b[0mtext\u001b[0m\u001b[1;33m,\u001b[0m \u001b[1;34m'html.parser'\u001b[0m\u001b[1;33m)\u001b[0m\u001b[1;33m\u001b[0m\u001b[1;33m\u001b[0m\u001b[0m\n\u001b[0m\u001b[0;32m     20\u001b[0m         \u001b[0mall_scripts\u001b[0m \u001b[1;33m=\u001b[0m \u001b[0msoup\u001b[0m\u001b[1;33m.\u001b[0m\u001b[0mfind_all\u001b[0m\u001b[1;33m(\u001b[0m\u001b[1;34m'script'\u001b[0m\u001b[1;33m)\u001b[0m\u001b[1;33m\u001b[0m\u001b[1;33m\u001b[0m\u001b[0m\n\u001b[0;32m     21\u001b[0m         \u001b[1;32mfor\u001b[0m \u001b[0mscript\u001b[0m \u001b[1;32min\u001b[0m \u001b[0mall_scripts\u001b[0m\u001b[1;33m:\u001b[0m\u001b[1;33m\u001b[0m\u001b[1;33m\u001b[0m\u001b[0m\n",
      "\u001b[1;32mC:\\ProgramData\\Anaconda3\\lib\\site-packages\\requests\\api.py\u001b[0m in \u001b[0;36mget\u001b[1;34m(url, params, **kwargs)\u001b[0m\n\u001b[0;32m     73\u001b[0m \u001b[1;33m\u001b[0m\u001b[0m\n\u001b[0;32m     74\u001b[0m     \u001b[0mkwargs\u001b[0m\u001b[1;33m.\u001b[0m\u001b[0msetdefault\u001b[0m\u001b[1;33m(\u001b[0m\u001b[1;34m'allow_redirects'\u001b[0m\u001b[1;33m,\u001b[0m \u001b[1;32mTrue\u001b[0m\u001b[1;33m)\u001b[0m\u001b[1;33m\u001b[0m\u001b[1;33m\u001b[0m\u001b[0m\n\u001b[1;32m---> 75\u001b[1;33m     \u001b[1;32mreturn\u001b[0m \u001b[0mrequest\u001b[0m\u001b[1;33m(\u001b[0m\u001b[1;34m'get'\u001b[0m\u001b[1;33m,\u001b[0m \u001b[0murl\u001b[0m\u001b[1;33m,\u001b[0m \u001b[0mparams\u001b[0m\u001b[1;33m=\u001b[0m\u001b[0mparams\u001b[0m\u001b[1;33m,\u001b[0m \u001b[1;33m**\u001b[0m\u001b[0mkwargs\u001b[0m\u001b[1;33m)\u001b[0m\u001b[1;33m\u001b[0m\u001b[1;33m\u001b[0m\u001b[0m\n\u001b[0m\u001b[0;32m     76\u001b[0m \u001b[1;33m\u001b[0m\u001b[0m\n\u001b[0;32m     77\u001b[0m \u001b[1;33m\u001b[0m\u001b[0m\n",
      "\u001b[1;32mC:\\ProgramData\\Anaconda3\\lib\\site-packages\\requests\\api.py\u001b[0m in \u001b[0;36mrequest\u001b[1;34m(method, url, **kwargs)\u001b[0m\n\u001b[0;32m     58\u001b[0m     \u001b[1;31m# cases, and look like a memory leak in others.\u001b[0m\u001b[1;33m\u001b[0m\u001b[1;33m\u001b[0m\u001b[1;33m\u001b[0m\u001b[0m\n\u001b[0;32m     59\u001b[0m     \u001b[1;32mwith\u001b[0m \u001b[0msessions\u001b[0m\u001b[1;33m.\u001b[0m\u001b[0mSession\u001b[0m\u001b[1;33m(\u001b[0m\u001b[1;33m)\u001b[0m \u001b[1;32mas\u001b[0m \u001b[0msession\u001b[0m\u001b[1;33m:\u001b[0m\u001b[1;33m\u001b[0m\u001b[1;33m\u001b[0m\u001b[0m\n\u001b[1;32m---> 60\u001b[1;33m         \u001b[1;32mreturn\u001b[0m \u001b[0msession\u001b[0m\u001b[1;33m.\u001b[0m\u001b[0mrequest\u001b[0m\u001b[1;33m(\u001b[0m\u001b[0mmethod\u001b[0m\u001b[1;33m=\u001b[0m\u001b[0mmethod\u001b[0m\u001b[1;33m,\u001b[0m \u001b[0murl\u001b[0m\u001b[1;33m=\u001b[0m\u001b[0murl\u001b[0m\u001b[1;33m,\u001b[0m \u001b[1;33m**\u001b[0m\u001b[0mkwargs\u001b[0m\u001b[1;33m)\u001b[0m\u001b[1;33m\u001b[0m\u001b[1;33m\u001b[0m\u001b[0m\n\u001b[0m\u001b[0;32m     61\u001b[0m \u001b[1;33m\u001b[0m\u001b[0m\n\u001b[0;32m     62\u001b[0m \u001b[1;33m\u001b[0m\u001b[0m\n",
      "\u001b[1;32mC:\\ProgramData\\Anaconda3\\lib\\site-packages\\requests\\sessions.py\u001b[0m in \u001b[0;36mrequest\u001b[1;34m(self, method, url, params, data, headers, cookies, files, auth, timeout, allow_redirects, proxies, hooks, stream, verify, cert, json)\u001b[0m\n\u001b[0;32m    531\u001b[0m         }\n\u001b[0;32m    532\u001b[0m         \u001b[0msend_kwargs\u001b[0m\u001b[1;33m.\u001b[0m\u001b[0mupdate\u001b[0m\u001b[1;33m(\u001b[0m\u001b[0msettings\u001b[0m\u001b[1;33m)\u001b[0m\u001b[1;33m\u001b[0m\u001b[1;33m\u001b[0m\u001b[0m\n\u001b[1;32m--> 533\u001b[1;33m         \u001b[0mresp\u001b[0m \u001b[1;33m=\u001b[0m \u001b[0mself\u001b[0m\u001b[1;33m.\u001b[0m\u001b[0msend\u001b[0m\u001b[1;33m(\u001b[0m\u001b[0mprep\u001b[0m\u001b[1;33m,\u001b[0m \u001b[1;33m**\u001b[0m\u001b[0msend_kwargs\u001b[0m\u001b[1;33m)\u001b[0m\u001b[1;33m\u001b[0m\u001b[1;33m\u001b[0m\u001b[0m\n\u001b[0m\u001b[0;32m    534\u001b[0m \u001b[1;33m\u001b[0m\u001b[0m\n\u001b[0;32m    535\u001b[0m         \u001b[1;32mreturn\u001b[0m \u001b[0mresp\u001b[0m\u001b[1;33m\u001b[0m\u001b[1;33m\u001b[0m\u001b[0m\n",
      "\u001b[1;32mC:\\ProgramData\\Anaconda3\\lib\\site-packages\\requests\\sessions.py\u001b[0m in \u001b[0;36msend\u001b[1;34m(self, request, **kwargs)\u001b[0m\n\u001b[0;32m    644\u001b[0m \u001b[1;33m\u001b[0m\u001b[0m\n\u001b[0;32m    645\u001b[0m         \u001b[1;31m# Send the request\u001b[0m\u001b[1;33m\u001b[0m\u001b[1;33m\u001b[0m\u001b[1;33m\u001b[0m\u001b[0m\n\u001b[1;32m--> 646\u001b[1;33m         \u001b[0mr\u001b[0m \u001b[1;33m=\u001b[0m \u001b[0madapter\u001b[0m\u001b[1;33m.\u001b[0m\u001b[0msend\u001b[0m\u001b[1;33m(\u001b[0m\u001b[0mrequest\u001b[0m\u001b[1;33m,\u001b[0m \u001b[1;33m**\u001b[0m\u001b[0mkwargs\u001b[0m\u001b[1;33m)\u001b[0m\u001b[1;33m\u001b[0m\u001b[1;33m\u001b[0m\u001b[0m\n\u001b[0m\u001b[0;32m    647\u001b[0m \u001b[1;33m\u001b[0m\u001b[0m\n\u001b[0;32m    648\u001b[0m         \u001b[1;31m# Total elapsed time of the request (approximately)\u001b[0m\u001b[1;33m\u001b[0m\u001b[1;33m\u001b[0m\u001b[1;33m\u001b[0m\u001b[0m\n",
      "\u001b[1;32mC:\\ProgramData\\Anaconda3\\lib\\site-packages\\requests\\adapters.py\u001b[0m in \u001b[0;36msend\u001b[1;34m(self, request, stream, timeout, verify, cert, proxies)\u001b[0m\n\u001b[0;32m    496\u001b[0m \u001b[1;33m\u001b[0m\u001b[0m\n\u001b[0;32m    497\u001b[0m         \u001b[1;32mexcept\u001b[0m \u001b[1;33m(\u001b[0m\u001b[0mProtocolError\u001b[0m\u001b[1;33m,\u001b[0m \u001b[0msocket\u001b[0m\u001b[1;33m.\u001b[0m\u001b[0merror\u001b[0m\u001b[1;33m)\u001b[0m \u001b[1;32mas\u001b[0m \u001b[0merr\u001b[0m\u001b[1;33m:\u001b[0m\u001b[1;33m\u001b[0m\u001b[1;33m\u001b[0m\u001b[0m\n\u001b[1;32m--> 498\u001b[1;33m             \u001b[1;32mraise\u001b[0m \u001b[0mConnectionError\u001b[0m\u001b[1;33m(\u001b[0m\u001b[0merr\u001b[0m\u001b[1;33m,\u001b[0m \u001b[0mrequest\u001b[0m\u001b[1;33m=\u001b[0m\u001b[0mrequest\u001b[0m\u001b[1;33m)\u001b[0m\u001b[1;33m\u001b[0m\u001b[1;33m\u001b[0m\u001b[0m\n\u001b[0m\u001b[0;32m    499\u001b[0m \u001b[1;33m\u001b[0m\u001b[0m\n\u001b[0;32m    500\u001b[0m         \u001b[1;32mexcept\u001b[0m \u001b[0mMaxRetryError\u001b[0m \u001b[1;32mas\u001b[0m \u001b[0me\u001b[0m\u001b[1;33m:\u001b[0m\u001b[1;33m\u001b[0m\u001b[1;33m\u001b[0m\u001b[0m\n",
      "\u001b[1;31mConnectionError\u001b[0m: ('Connection aborted.', OSError(\"(10054, 'WSAECONNRESET')\"))"
     ]
    }
   ],
   "source": [
    "#def main():\n",
    "dat = './data/productinfo.csv'\n",
    "viz = './plots/price_distribution_brand.png'\n",
    "\n",
    "# Limito a los 10 primeras líneas\n",
    "products = pd.DataFrame()\n",
    "total_products = pd.DataFrame()\n",
    "k=0\n",
    "#for link in pagelinks[1:10]:\n",
    "for link in pagelinks:\n",
    "    k += 1\n",
    "    #print(\"Escaneando pagina %d de %d\" % (k, len(pagelinks[1:10])))\n",
    "    print(\"Escaneando pagina %d de %d\" % (k, len(pagelinks)))\n",
    "    products = get_data(link, dat)\n",
    "    time.sleep(2)\n",
    "    total_products = total_products.append(products)\n",
    "        \n",
    "print(\"Done. The prices have been scrapped.\")\n"
   ]
  },
  {
   "cell_type": "code",
   "execution_count": 47,
   "metadata": {},
   "outputs": [],
   "source": [
    "#if __name__ == \"__main__\":\n",
    "#    main()"
   ]
  },
  {
   "cell_type": "code",
   "execution_count": 68,
   "metadata": {},
   "outputs": [
    {
     "data": {
      "text/html": [
       "<div>\n",
       "<style scoped>\n",
       "    .dataframe tbody tr th:only-of-type {\n",
       "        vertical-align: middle;\n",
       "    }\n",
       "\n",
       "    .dataframe tbody tr th {\n",
       "        vertical-align: top;\n",
       "    }\n",
       "\n",
       "    .dataframe thead th {\n",
       "        text-align: right;\n",
       "    }\n",
       "</style>\n",
       "<table border=\"1\" class=\"dataframe\">\n",
       "  <thead>\n",
       "    <tr style=\"text-align: right;\">\n",
       "      <th></th>\n",
       "      <th>brand</th>\n",
       "      <th>category</th>\n",
       "      <th>dimension10</th>\n",
       "      <th>dimension11</th>\n",
       "      <th>dimension24</th>\n",
       "      <th>dimension25</th>\n",
       "      <th>dimension26</th>\n",
       "      <th>dimension9</th>\n",
       "      <th>ean</th>\n",
       "      <th>id</th>\n",
       "      <th>name</th>\n",
       "      <th>price</th>\n",
       "    </tr>\n",
       "  </thead>\n",
       "  <tbody>\n",
       "    <tr>\n",
       "      <th>0</th>\n",
       "      <td>PHILIPS</td>\n",
       "      <td>Belleza y salud</td>\n",
       "      <td>Afeitadoras faciales</td>\n",
       "      <td>NaN</td>\n",
       "      <td>21.0</td>\n",
       "      <td>OutOfStock</td>\n",
       "      <td>1.99</td>\n",
       "      <td>Afeitado y depilación</td>\n",
       "      <td>8710103738350</td>\n",
       "      <td>1293941</td>\n",
       "      <td>Afeitadora - Philips S 5110/06 Cabezales Flex,...</td>\n",
       "      <td>57.99</td>\n",
       "    </tr>\n",
       "    <tr>\n",
       "      <th>1</th>\n",
       "      <td>PHILIPS</td>\n",
       "      <td>Belleza y salud</td>\n",
       "      <td>Afeitadoras faciales</td>\n",
       "      <td>NaN</td>\n",
       "      <td>21.0</td>\n",
       "      <td>InStock</td>\n",
       "      <td>1.99</td>\n",
       "      <td>Afeitado y depilación</td>\n",
       "      <td>8710103764588</td>\n",
       "      <td>1317305</td>\n",
       "      <td>Afeitadora - Philips Shaver S1510/04, Recargab...</td>\n",
       "      <td>41.99</td>\n",
       "    </tr>\n",
       "    <tr>\n",
       "      <th>2</th>\n",
       "      <td>PHILIPS</td>\n",
       "      <td>Belleza y salud</td>\n",
       "      <td>Afeitadoras faciales</td>\n",
       "      <td>NaN</td>\n",
       "      <td>21.0</td>\n",
       "      <td>InStock</td>\n",
       "      <td>1.99</td>\n",
       "      <td>Afeitado y depilación</td>\n",
       "      <td>8710103819219</td>\n",
       "      <td>1360370</td>\n",
       "      <td>Afeitadora - Philips S5550/06, Cuchillas Multi...</td>\n",
       "      <td>89.90</td>\n",
       "    </tr>\n",
       "    <tr>\n",
       "      <th>3</th>\n",
       "      <td>PHILIPS</td>\n",
       "      <td>Belleza y salud</td>\n",
       "      <td>Afeitadoras faciales</td>\n",
       "      <td>NaN</td>\n",
       "      <td>21.0</td>\n",
       "      <td>InStock</td>\n",
       "      <td>1.99</td>\n",
       "      <td>Afeitado y depilación</td>\n",
       "      <td>8710103764489</td>\n",
       "      <td>1317303</td>\n",
       "      <td>Afeitadora - Philips S3510/06, sistema Comfort...</td>\n",
       "      <td>58.99</td>\n",
       "    </tr>\n",
       "    <tr>\n",
       "      <th>4</th>\n",
       "      <td>BRAUN</td>\n",
       "      <td>Belleza y salud</td>\n",
       "      <td>Afeitadoras faciales</td>\n",
       "      <td>NaN</td>\n",
       "      <td>21.0</td>\n",
       "      <td>InStock</td>\n",
       "      <td>1.99</td>\n",
       "      <td>Afeitado y depilación</td>\n",
       "      <td>4210201147022</td>\n",
       "      <td>1294131</td>\n",
       "      <td>Afeitadora - Braun 5030s Series 5 + EN10, Reco...</td>\n",
       "      <td>87.99</td>\n",
       "    </tr>\n",
       "    <tr>\n",
       "      <th>5</th>\n",
       "      <td>PHILIPS</td>\n",
       "      <td>Belleza y salud</td>\n",
       "      <td>Afeitadoras faciales</td>\n",
       "      <td>NaN</td>\n",
       "      <td>21.0</td>\n",
       "      <td>InStock</td>\n",
       "      <td>1.99</td>\n",
       "      <td>Afeitado y depilación</td>\n",
       "      <td>8710103738121</td>\n",
       "      <td>1293945</td>\n",
       "      <td>Afeitadora - Philips S 5420/06 Sistema de cuch...</td>\n",
       "      <td>76.99</td>\n",
       "    </tr>\n",
       "    <tr>\n",
       "      <th>6</th>\n",
       "      <td>PHILIPS</td>\n",
       "      <td>Belleza y salud</td>\n",
       "      <td>Afeitadoras faciales</td>\n",
       "      <td>NaN</td>\n",
       "      <td>21.0</td>\n",
       "      <td>InStock</td>\n",
       "      <td>1.99</td>\n",
       "      <td>Afeitado y depilación</td>\n",
       "      <td>8710103686934</td>\n",
       "      <td>1252110</td>\n",
       "      <td>Afeitadora - Philips S9031/12 V-Track, Autonom...</td>\n",
       "      <td>166.00</td>\n",
       "    </tr>\n",
       "    <tr>\n",
       "      <th>7</th>\n",
       "      <td>PHILIPS</td>\n",
       "      <td>Belleza y salud</td>\n",
       "      <td>Afeitadoras faciales</td>\n",
       "      <td>NaN</td>\n",
       "      <td>21.0</td>\n",
       "      <td>InStock</td>\n",
       "      <td>1.99</td>\n",
       "      <td>Afeitado y depilación</td>\n",
       "      <td>8710103609803</td>\n",
       "      <td>1187436</td>\n",
       "      <td>Afeitadora - Philips AT750/26, Recargable, Cab...</td>\n",
       "      <td>55.99</td>\n",
       "    </tr>\n",
       "    <tr>\n",
       "      <th>8</th>\n",
       "      <td>PHILIPS</td>\n",
       "      <td>Belleza y salud</td>\n",
       "      <td>Afeitadoras faciales</td>\n",
       "      <td>NaN</td>\n",
       "      <td>21.0</td>\n",
       "      <td>InStock</td>\n",
       "      <td>1.99</td>\n",
       "      <td>Afeitado y depilación</td>\n",
       "      <td>8710103800958</td>\n",
       "      <td>1385320</td>\n",
       "      <td>Afeitadora - Philips S7522/50, Anillos SkinGli...</td>\n",
       "      <td>149.00</td>\n",
       "    </tr>\n",
       "    <tr>\n",
       "      <th>9</th>\n",
       "      <td>PHILIPS</td>\n",
       "      <td>Belleza y salud</td>\n",
       "      <td>Afeitadoras faciales</td>\n",
       "      <td>NaN</td>\n",
       "      <td>21.0</td>\n",
       "      <td>InStock</td>\n",
       "      <td>1.99</td>\n",
       "      <td>Afeitado y depilación</td>\n",
       "      <td>8710103764458</td>\n",
       "      <td>1317304</td>\n",
       "      <td>Afeitadora - Philips S3110/06, sistema Comfort...</td>\n",
       "      <td>49.99</td>\n",
       "    </tr>\n",
       "    <tr>\n",
       "      <th>10</th>\n",
       "      <td>PANASONIC</td>\n",
       "      <td>Belleza y salud</td>\n",
       "      <td>Afeitadoras faciales</td>\n",
       "      <td>NaN</td>\n",
       "      <td>21.0</td>\n",
       "      <td>InStock</td>\n",
       "      <td>1.99</td>\n",
       "      <td>Afeitado y depilación</td>\n",
       "      <td>5025232782642</td>\n",
       "      <td>1264634</td>\n",
       "      <td>Afeitadora - Panasonic ES RT 67 S503 Recargabl...</td>\n",
       "      <td>66.99</td>\n",
       "    </tr>\n",
       "    <tr>\n",
       "      <th>11</th>\n",
       "      <td>BRAUN</td>\n",
       "      <td>Belleza y salud</td>\n",
       "      <td>Afeitadoras faciales</td>\n",
       "      <td>NaN</td>\n",
       "      <td>21.0</td>\n",
       "      <td>InStock</td>\n",
       "      <td>1.99</td>\n",
       "      <td>Afeitado y depilación</td>\n",
       "      <td>4210201132370</td>\n",
       "      <td>1310896</td>\n",
       "      <td>Recortador facial - Braun PT5010, perfilador d...</td>\n",
       "      <td>14.99</td>\n",
       "    </tr>\n",
       "    <tr>\n",
       "      <th>12</th>\n",
       "      <td>PHILIPS</td>\n",
       "      <td>Belleza y salud</td>\n",
       "      <td>Afeitadoras faciales</td>\n",
       "      <td>NaN</td>\n",
       "      <td>21.0</td>\n",
       "      <td>InStock</td>\n",
       "      <td>1.99</td>\n",
       "      <td>Afeitado y depilación</td>\n",
       "      <td>8710103736745</td>\n",
       "      <td>1367692</td>\n",
       "      <td>Afeitadora - Philips S7310/12, Especial para p...</td>\n",
       "      <td>123.00</td>\n",
       "    </tr>\n",
       "    <tr>\n",
       "      <th>13</th>\n",
       "      <td>BRAUN</td>\n",
       "      <td>Belleza y salud</td>\n",
       "      <td>Afeitadoras faciales</td>\n",
       "      <td>NaN</td>\n",
       "      <td>21.0</td>\n",
       "      <td>InStock</td>\n",
       "      <td>1.99</td>\n",
       "      <td>Afeitado y depilación</td>\n",
       "      <td>4210201151562</td>\n",
       "      <td>1353375</td>\n",
       "      <td>Afeitadora - Braun BT3010 Serie 3, Recargable,...</td>\n",
       "      <td>84.99</td>\n",
       "    </tr>\n",
       "    <tr>\n",
       "      <th>14</th>\n",
       "      <td>BRAUN</td>\n",
       "      <td>Belleza y salud</td>\n",
       "      <td>Afeitadoras faciales</td>\n",
       "      <td>NaN</td>\n",
       "      <td>21.0</td>\n",
       "      <td>InStock</td>\n",
       "      <td>1.99</td>\n",
       "      <td>Afeitado y depilación</td>\n",
       "      <td>4210201649793</td>\n",
       "      <td>1104022</td>\n",
       "      <td>Afeitadora - Braun MobileShave M60b Funcionami...</td>\n",
       "      <td>17.99</td>\n",
       "    </tr>\n",
       "    <tr>\n",
       "      <th>15</th>\n",
       "      <td>BRAUN</td>\n",
       "      <td>Belleza y salud</td>\n",
       "      <td>Afeitadoras faciales</td>\n",
       "      <td>NaN</td>\n",
       "      <td>21.0</td>\n",
       "      <td>InStock</td>\n",
       "      <td>1.99</td>\n",
       "      <td>Afeitado y depilación</td>\n",
       "      <td>4210201183617</td>\n",
       "      <td>1373774</td>\n",
       "      <td>Afeitadora - Braun WF2s Serie 5 WaterFlex, Wet...</td>\n",
       "      <td>114.00</td>\n",
       "    </tr>\n",
       "    <tr>\n",
       "      <th>16</th>\n",
       "      <td>OK</td>\n",
       "      <td>Belleza y salud</td>\n",
       "      <td>Afeitadoras faciales</td>\n",
       "      <td>NaN</td>\n",
       "      <td>21.0</td>\n",
       "      <td>InStock</td>\n",
       "      <td>1.99</td>\n",
       "      <td>Afeitado y depilación</td>\n",
       "      <td>4049011147454</td>\n",
       "      <td>1423577</td>\n",
       "      <td>Afeitadora - OK OSH 3310 ES 3-IN-1, Men Shaver...</td>\n",
       "      <td>19.99</td>\n",
       "    </tr>\n",
       "    <tr>\n",
       "      <th>17</th>\n",
       "      <td>BRAUN</td>\n",
       "      <td>Belleza y salud</td>\n",
       "      <td>Afeitadoras faciales</td>\n",
       "      <td>NaN</td>\n",
       "      <td>21.0</td>\n",
       "      <td>InStock</td>\n",
       "      <td>1.99</td>\n",
       "      <td>Afeitado y depilación</td>\n",
       "      <td>4210201163367</td>\n",
       "      <td>1353373</td>\n",
       "      <td>Afeitadora - Braun SERIE 3 310 Wet &amp; Dry, Resi...</td>\n",
       "      <td>54.99</td>\n",
       "    </tr>\n",
       "    <tr>\n",
       "      <th>18</th>\n",
       "      <td>BEPER</td>\n",
       "      <td>Belleza y salud</td>\n",
       "      <td>Afeitadoras faciales</td>\n",
       "      <td>NaN</td>\n",
       "      <td>21.0</td>\n",
       "      <td>InStock</td>\n",
       "      <td>1.99</td>\n",
       "      <td>Afeitado y depilación</td>\n",
       "      <td>8051772711948</td>\n",
       "      <td>1331134</td>\n",
       "      <td>Afeitadora - Beper iCut 40.993, Barba, Recargable</td>\n",
       "      <td>13.99</td>\n",
       "    </tr>\n",
       "    <tr>\n",
       "      <th>19</th>\n",
       "      <td>BRAUN</td>\n",
       "      <td>Belleza y salud</td>\n",
       "      <td>Afeitadoras faciales</td>\n",
       "      <td>NaN</td>\n",
       "      <td>21.0</td>\n",
       "      <td>InStock</td>\n",
       "      <td>1.99</td>\n",
       "      <td>Afeitado y depilación</td>\n",
       "      <td>4210201124481</td>\n",
       "      <td>1310843</td>\n",
       "      <td>Afeitadora - Braun Serie 3 - 3000 Edición espe...</td>\n",
       "      <td>60.99</td>\n",
       "    </tr>\n",
       "    <tr>\n",
       "      <th>20</th>\n",
       "      <td>PHILIPS</td>\n",
       "      <td>Belleza y salud</td>\n",
       "      <td>Afeitadoras faciales</td>\n",
       "      <td>NaN</td>\n",
       "      <td>21.0</td>\n",
       "      <td>InStock</td>\n",
       "      <td>1.99</td>\n",
       "      <td>Afeitado y depilación</td>\n",
       "      <td>8710103819349</td>\n",
       "      <td>1360380</td>\n",
       "      <td>Afeitadora - Philips S5650/41, Accesorio barbe...</td>\n",
       "      <td>119.90</td>\n",
       "    </tr>\n",
       "    <tr>\n",
       "      <th>21</th>\n",
       "      <td>PANASONIC</td>\n",
       "      <td>Belleza y salud</td>\n",
       "      <td>Afeitadoras faciales</td>\n",
       "      <td>NaN</td>\n",
       "      <td>21.0</td>\n",
       "      <td>InStock</td>\n",
       "      <td>1.99</td>\n",
       "      <td>Afeitado y depilación</td>\n",
       "      <td>5025232846184</td>\n",
       "      <td>1418920</td>\n",
       "      <td>Afeitadora - Panasonic ES-ST 3 N, 3 cuchillas,...</td>\n",
       "      <td>86.99</td>\n",
       "    </tr>\n",
       "    <tr>\n",
       "      <th>22</th>\n",
       "      <td>REMINGTON</td>\n",
       "      <td>Belleza y salud</td>\n",
       "      <td>Afeitadoras faciales</td>\n",
       "      <td>NaN</td>\n",
       "      <td>21.0</td>\n",
       "      <td>InStock</td>\n",
       "      <td>1.99</td>\n",
       "      <td>Afeitado y depilación</td>\n",
       "      <td>8420738411848</td>\n",
       "      <td>1376067</td>\n",
       "      <td>Afeitadora - Remington PR1340GP, Cabezal comfo...</td>\n",
       "      <td>51.99</td>\n",
       "    </tr>\n",
       "    <tr>\n",
       "      <th>23</th>\n",
       "      <td>BRAUN</td>\n",
       "      <td>Belleza y salud</td>\n",
       "      <td>Afeitadoras faciales</td>\n",
       "      <td>NaN</td>\n",
       "      <td>21.0</td>\n",
       "      <td>InStock</td>\n",
       "      <td>1.99</td>\n",
       "      <td>Afeitado y depilación</td>\n",
       "      <td>4210201112129</td>\n",
       "      <td>1310842</td>\n",
       "      <td>Afeitadora - Braun 3010 Serie 3, Recargable, C...</td>\n",
       "      <td>61.99</td>\n",
       "    </tr>\n",
       "    <tr>\n",
       "      <th>24</th>\n",
       "      <td>BRAUN</td>\n",
       "      <td>Belleza y salud</td>\n",
       "      <td>Afeitadoras faciales</td>\n",
       "      <td>NaN</td>\n",
       "      <td>21.0</td>\n",
       "      <td>OutOfStock</td>\n",
       "      <td>1.99</td>\n",
       "      <td>Afeitado y depilación</td>\n",
       "      <td>4210201167013</td>\n",
       "      <td>1342540</td>\n",
       "      <td>Afeitadora - Braun Series 9 9240s, Wet&amp;Dry, Ci...</td>\n",
       "      <td>306.00</td>\n",
       "    </tr>\n",
       "    <tr>\n",
       "      <th>25</th>\n",
       "      <td>ROWENTA</td>\n",
       "      <td>Belleza y salud</td>\n",
       "      <td>Afeitadoras faciales</td>\n",
       "      <td>NaN</td>\n",
       "      <td>21.0</td>\n",
       "      <td>InStock</td>\n",
       "      <td>1.99</td>\n",
       "      <td>Afeitado y depilación</td>\n",
       "      <td>3121040059272</td>\n",
       "      <td>1311358</td>\n",
       "      <td>Recortador de pelo - Rowenta TN3620F0, Lavable...</td>\n",
       "      <td>18.99</td>\n",
       "    </tr>\n",
       "    <tr>\n",
       "      <th>26</th>\n",
       "      <td>BRAUN</td>\n",
       "      <td>Belleza y salud</td>\n",
       "      <td>Afeitadoras faciales</td>\n",
       "      <td>NaN</td>\n",
       "      <td>21.0</td>\n",
       "      <td>InStock</td>\n",
       "      <td>1.99</td>\n",
       "      <td>Afeitado y depilación</td>\n",
       "      <td>4210201165804</td>\n",
       "      <td>1342438</td>\n",
       "      <td>Afeitadora - Braun Series 9 9295cc, Uso en sec...</td>\n",
       "      <td>399.00</td>\n",
       "    </tr>\n",
       "    <tr>\n",
       "      <th>27</th>\n",
       "      <td>BRAUN</td>\n",
       "      <td>Belleza y salud</td>\n",
       "      <td>Afeitadoras faciales</td>\n",
       "      <td>NaN</td>\n",
       "      <td>21.0</td>\n",
       "      <td>InStock</td>\n",
       "      <td>1.99</td>\n",
       "      <td>Afeitado y depilación</td>\n",
       "      <td>4210201188827</td>\n",
       "      <td>1382002</td>\n",
       "      <td>Afeitadora - Braun Series 3 310s, Recargable, ...</td>\n",
       "      <td>60.99</td>\n",
       "    </tr>\n",
       "    <tr>\n",
       "      <th>28</th>\n",
       "      <td>BRAUN</td>\n",
       "      <td>Belleza y salud</td>\n",
       "      <td>Afeitadoras faciales</td>\n",
       "      <td>NaN</td>\n",
       "      <td>21.0</td>\n",
       "      <td>InStock</td>\n",
       "      <td>1.99</td>\n",
       "      <td>Afeitado y depilación</td>\n",
       "      <td>4210201186595</td>\n",
       "      <td>1382003</td>\n",
       "      <td>Afeitadora - Braun Serie3 3000 Tecnología Micr...</td>\n",
       "      <td>67.99</td>\n",
       "    </tr>\n",
       "    <tr>\n",
       "      <th>29</th>\n",
       "      <td>BRAUN</td>\n",
       "      <td>Belleza y salud</td>\n",
       "      <td>Afeitadoras faciales</td>\n",
       "      <td>NaN</td>\n",
       "      <td>21.0</td>\n",
       "      <td>InStock</td>\n",
       "      <td>1.99</td>\n",
       "      <td>Afeitado y depilación</td>\n",
       "      <td>4210201177517</td>\n",
       "      <td>1373772</td>\n",
       "      <td>Afeitadora - Braun Series 5 514S, Wet&amp;Dry, Cab...</td>\n",
       "      <td>187.00</td>\n",
       "    </tr>\n",
       "    <tr>\n",
       "      <th>...</th>\n",
       "      <td>...</td>\n",
       "      <td>...</td>\n",
       "      <td>...</td>\n",
       "      <td>...</td>\n",
       "      <td>...</td>\n",
       "      <td>...</td>\n",
       "      <td>...</td>\n",
       "      <td>...</td>\n",
       "      <td>...</td>\n",
       "      <td>...</td>\n",
       "      <td>...</td>\n",
       "      <td>...</td>\n",
       "    </tr>\n",
       "    <tr>\n",
       "      <th>21</th>\n",
       "      <td>SONY BMG MUSIC SPAIN, S.L.</td>\n",
       "      <td>Entretenimiento y deporte</td>\n",
       "      <td>Música</td>\n",
       "      <td>Jazz y clásica</td>\n",
       "      <td>21.0</td>\n",
       "      <td>InStock</td>\n",
       "      <td>1.99</td>\n",
       "      <td>Cine, música y libros</td>\n",
       "      <td>0889854482817</td>\n",
       "      <td>1383800</td>\n",
       "      <td>Dizzy Gillespie - Pleyel Jazz Concert 1948 Vol...</td>\n",
       "      <td>9.99</td>\n",
       "    </tr>\n",
       "    <tr>\n",
       "      <th>22</th>\n",
       "      <td>AVISPA, S.L.</td>\n",
       "      <td>Entretenimiento y deporte</td>\n",
       "      <td>Música</td>\n",
       "      <td>NaN</td>\n",
       "      <td>21.0</td>\n",
       "      <td>InStock</td>\n",
       "      <td>1.99</td>\n",
       "      <td>Cine, música y libros</td>\n",
       "      <td>5083007603004</td>\n",
       "      <td>1370881</td>\n",
       "      <td>Weather Report - Morning Lake - DVD</td>\n",
       "      <td>5.99</td>\n",
       "    </tr>\n",
       "    <tr>\n",
       "      <th>23</th>\n",
       "      <td>SONY BMG MUSIC SPAIN, S.L.</td>\n",
       "      <td>Entretenimiento y deporte</td>\n",
       "      <td>Música</td>\n",
       "      <td>Jazz y clásica</td>\n",
       "      <td>21.0</td>\n",
       "      <td>InStock</td>\n",
       "      <td>1.99</td>\n",
       "      <td>Cine, música y libros</td>\n",
       "      <td>0889854143121</td>\n",
       "      <td>1397733</td>\n",
       "      <td>Miles Davis - Sketches of spain - CD</td>\n",
       "      <td>7.99</td>\n",
       "    </tr>\n",
       "    <tr>\n",
       "      <th>24</th>\n",
       "      <td>UNIVERSAL MUSIC SPAIN, S.L.</td>\n",
       "      <td>Entretenimiento y deporte</td>\n",
       "      <td>Música</td>\n",
       "      <td>Jazz y clásica</td>\n",
       "      <td>21.0</td>\n",
       "      <td>InStock</td>\n",
       "      <td>1.99</td>\n",
       "      <td>Cine, música y libros</td>\n",
       "      <td>0602577445156</td>\n",
       "      <td>1447739</td>\n",
       "      <td>Ludovico Einaudi - 7 Days Walking - CD</td>\n",
       "      <td>16.99</td>\n",
       "    </tr>\n",
       "    <tr>\n",
       "      <th>25</th>\n",
       "      <td>T-SUNAMI MERCH, S.L.</td>\n",
       "      <td>Entretenimiento y deporte</td>\n",
       "      <td>Música</td>\n",
       "      <td>Jazz y clásica</td>\n",
       "      <td>21.0</td>\n",
       "      <td>InStock</td>\n",
       "      <td>1.99</td>\n",
       "      <td>Cine, música y libros</td>\n",
       "      <td>5060403742223</td>\n",
       "      <td>1444705</td>\n",
       "      <td>Ray Charles - The Genius Sings The Blues - LP</td>\n",
       "      <td>26.99</td>\n",
       "    </tr>\n",
       "    <tr>\n",
       "      <th>26</th>\n",
       "      <td>SONY BMG MUSIC SPAIN, S.L.</td>\n",
       "      <td>Entretenimiento y deporte</td>\n",
       "      <td>Música</td>\n",
       "      <td>Jazz y clásica</td>\n",
       "      <td>21.0</td>\n",
       "      <td>InStock</td>\n",
       "      <td>1.99</td>\n",
       "      <td>Cine, música y libros</td>\n",
       "      <td>0889854482718</td>\n",
       "      <td>1383799</td>\n",
       "      <td>Jelly Roll Morton - Piano Solos - LP</td>\n",
       "      <td>7.99</td>\n",
       "    </tr>\n",
       "    <tr>\n",
       "      <th>27</th>\n",
       "      <td>AVISPA, S.L.</td>\n",
       "      <td>Entretenimiento y deporte</td>\n",
       "      <td>Música</td>\n",
       "      <td>Jazz y clásica</td>\n",
       "      <td>21.0</td>\n",
       "      <td>InStock</td>\n",
       "      <td>1.99</td>\n",
       "      <td>Cine, música y libros</td>\n",
       "      <td>5583019091788</td>\n",
       "      <td>1395909</td>\n",
       "      <td>Howlin Wolf - Shake For Me - CD</td>\n",
       "      <td>5.99</td>\n",
       "    </tr>\n",
       "    <tr>\n",
       "      <th>28</th>\n",
       "      <td>UNIVERSAL MUSIC SPAIN, S.L.</td>\n",
       "      <td>Entretenimiento y deporte</td>\n",
       "      <td>Música</td>\n",
       "      <td>Jazz y clásica</td>\n",
       "      <td>21.0</td>\n",
       "      <td>InStock</td>\n",
       "      <td>1.99</td>\n",
       "      <td>Cine, música y libros</td>\n",
       "      <td>0602527179773</td>\n",
       "      <td>9269057</td>\n",
       "      <td>Diana Krall - Quiet Nights</td>\n",
       "      <td>20.99</td>\n",
       "    </tr>\n",
       "    <tr>\n",
       "      <th>29</th>\n",
       "      <td>AVISPA, S.L.</td>\n",
       "      <td>Entretenimiento y deporte</td>\n",
       "      <td>Música</td>\n",
       "      <td>Jazz y clásica</td>\n",
       "      <td>21.0</td>\n",
       "      <td>InStock</td>\n",
       "      <td>1.99</td>\n",
       "      <td>Cine, música y libros</td>\n",
       "      <td>5583019091801</td>\n",
       "      <td>1395911</td>\n",
       "      <td>CD - John Lee Hooker, Boon Boom/Live On Air 1976</td>\n",
       "      <td>5.99</td>\n",
       "    </tr>\n",
       "    <tr>\n",
       "      <th>30</th>\n",
       "      <td>KARONTE-NUBA RECORDS, S.L.</td>\n",
       "      <td>Entretenimiento y deporte</td>\n",
       "      <td>Música</td>\n",
       "      <td>Jazz y clásica</td>\n",
       "      <td>21.0</td>\n",
       "      <td>InStock</td>\n",
       "      <td>1.99</td>\n",
       "      <td>Cine, música y libros</td>\n",
       "      <td>0889397000233</td>\n",
       "      <td>1381946</td>\n",
       "      <td>CD - Timeless Classic Albums - John Coltrane</td>\n",
       "      <td>9.99</td>\n",
       "    </tr>\n",
       "    <tr>\n",
       "      <th>31</th>\n",
       "      <td>KARONTE-NUBA RECORDS, S.L.</td>\n",
       "      <td>Entretenimiento y deporte</td>\n",
       "      <td>Música</td>\n",
       "      <td>Jazz y clásica</td>\n",
       "      <td>21.0</td>\n",
       "      <td>InStock</td>\n",
       "      <td>1.99</td>\n",
       "      <td>Cine, música y libros</td>\n",
       "      <td>0889397000240</td>\n",
       "      <td>1381948</td>\n",
       "      <td>CD - Timeless Classic Albums - Miles Davis</td>\n",
       "      <td>9.99</td>\n",
       "    </tr>\n",
       "    <tr>\n",
       "      <th>32</th>\n",
       "      <td>SONY BMG MUSIC SPAIN, S.L.</td>\n",
       "      <td>Entretenimiento y deporte</td>\n",
       "      <td>Música</td>\n",
       "      <td>Jazz y clásica</td>\n",
       "      <td>21.0</td>\n",
       "      <td>InStock</td>\n",
       "      <td>1.99</td>\n",
       "      <td>Cine, música y libros</td>\n",
       "      <td>0886970299329</td>\n",
       "      <td>9215082</td>\n",
       "      <td>Il Divo</td>\n",
       "      <td>17.99</td>\n",
       "    </tr>\n",
       "    <tr>\n",
       "      <th>33</th>\n",
       "      <td>SONY BMG MUSIC SPAIN, S.L.</td>\n",
       "      <td>Entretenimiento y deporte</td>\n",
       "      <td>Música</td>\n",
       "      <td>Jazz y clásica</td>\n",
       "      <td>21.0</td>\n",
       "      <td>InStock</td>\n",
       "      <td>1.99</td>\n",
       "      <td>Cine, música y libros</td>\n",
       "      <td>0889854482213</td>\n",
       "      <td>1383794</td>\n",
       "      <td>Bechet Souvenir. Vogue Jazz Club 003 - LP</td>\n",
       "      <td>9.99</td>\n",
       "    </tr>\n",
       "    <tr>\n",
       "      <th>34</th>\n",
       "      <td>SONY BMG MUSIC SPAIN, S.L.</td>\n",
       "      <td>Entretenimiento y deporte</td>\n",
       "      <td>Música</td>\n",
       "      <td>Jazz y clásica</td>\n",
       "      <td>21.0</td>\n",
       "      <td>InStock</td>\n",
       "      <td>1.99</td>\n",
       "      <td>Cine, música y libros</td>\n",
       "      <td>8437006223102</td>\n",
       "      <td>1338801</td>\n",
       "      <td>Si Sucede, Conviene - Zenet - CD</td>\n",
       "      <td>14.99</td>\n",
       "    </tr>\n",
       "    <tr>\n",
       "      <th>35</th>\n",
       "      <td>SONY BMG MUSIC SPAIN, S.L.</td>\n",
       "      <td>Entretenimiento y deporte</td>\n",
       "      <td>Música</td>\n",
       "      <td>Jazz y clásica</td>\n",
       "      <td>21.0</td>\n",
       "      <td>InStock</td>\n",
       "      <td>1.99</td>\n",
       "      <td>Cine, música y libros</td>\n",
       "      <td>0190759028223</td>\n",
       "      <td>1442258</td>\n",
       "      <td>Christian Thielemann y la Orquestra Filarmónic...</td>\n",
       "      <td>15.99</td>\n",
       "    </tr>\n",
       "    <tr>\n",
       "      <th>36</th>\n",
       "      <td>T-SUNAMI MERCH, S.L.</td>\n",
       "      <td>Entretenimiento y deporte</td>\n",
       "      <td>Música</td>\n",
       "      <td>Jazz y clásica</td>\n",
       "      <td>21.0</td>\n",
       "      <td>InStock</td>\n",
       "      <td>1.99</td>\n",
       "      <td>Cine, música y libros</td>\n",
       "      <td>5060143496387</td>\n",
       "      <td>1348458</td>\n",
       "      <td>CD - Confessin 2 CD, Bb King</td>\n",
       "      <td>7.99</td>\n",
       "    </tr>\n",
       "    <tr>\n",
       "      <th>37</th>\n",
       "      <td>SONY BMG MUSIC SPAIN, S.L.</td>\n",
       "      <td>Entretenimiento y deporte</td>\n",
       "      <td>Música</td>\n",
       "      <td>Jazz y clásica</td>\n",
       "      <td>21.0</td>\n",
       "      <td>InStock</td>\n",
       "      <td>1.99</td>\n",
       "      <td>Cine, música y libros</td>\n",
       "      <td>0889854482510</td>\n",
       "      <td>1383797</td>\n",
       "      <td>Various - Originators Of Modern Jazz. Vogue Ja...</td>\n",
       "      <td>9.99</td>\n",
       "    </tr>\n",
       "    <tr>\n",
       "      <th>38</th>\n",
       "      <td>T-SUNAMI MERCH, S.L.</td>\n",
       "      <td>Entretenimiento y deporte</td>\n",
       "      <td>Música</td>\n",
       "      <td>Jazz y clásica</td>\n",
       "      <td>21.0</td>\n",
       "      <td>InStock</td>\n",
       "      <td>1.99</td>\n",
       "      <td>Cine, música y libros</td>\n",
       "      <td>5060143495298</td>\n",
       "      <td>1228682</td>\n",
       "      <td>CD - My Baby Just Cares, Nina Simone</td>\n",
       "      <td>7.99</td>\n",
       "    </tr>\n",
       "    <tr>\n",
       "      <th>39</th>\n",
       "      <td>T-SUNAMI MERCH, S.L.</td>\n",
       "      <td>Entretenimiento y deporte</td>\n",
       "      <td>Música</td>\n",
       "      <td>Jazz y clásica</td>\n",
       "      <td>21.0</td>\n",
       "      <td>InStock</td>\n",
       "      <td>1.99</td>\n",
       "      <td>Cine, música y libros</td>\n",
       "      <td>0889397000349</td>\n",
       "      <td>1381970</td>\n",
       "      <td>Muddy Waters - Timeless Classic Albums - CD</td>\n",
       "      <td>6.99</td>\n",
       "    </tr>\n",
       "    <tr>\n",
       "      <th>40</th>\n",
       "      <td>SONY BMG MUSIC SPAIN, S.L.</td>\n",
       "      <td>Entretenimiento y deporte</td>\n",
       "      <td>Música</td>\n",
       "      <td>Jazz y clásica</td>\n",
       "      <td>21.0</td>\n",
       "      <td>InStock</td>\n",
       "      <td>1.99</td>\n",
       "      <td>Cine, música y libros</td>\n",
       "      <td>0886974392323</td>\n",
       "      <td>9263613</td>\n",
       "      <td>Kind Of Blue - Miles Davis - CD</td>\n",
       "      <td>6.99</td>\n",
       "    </tr>\n",
       "    <tr>\n",
       "      <th>41</th>\n",
       "      <td>KARONTE-NUBA RECORDS, S.L.</td>\n",
       "      <td>Entretenimiento y deporte</td>\n",
       "      <td>Música</td>\n",
       "      <td>Jazz y clásica</td>\n",
       "      <td>21.0</td>\n",
       "      <td>InStock</td>\n",
       "      <td>1.99</td>\n",
       "      <td>Cine, música y libros</td>\n",
       "      <td>0889397000257</td>\n",
       "      <td>1381952</td>\n",
       "      <td>CD - Timeless Classic Albums - Howlin' Wolf</td>\n",
       "      <td>6.99</td>\n",
       "    </tr>\n",
       "    <tr>\n",
       "      <th>42</th>\n",
       "      <td>T-SUNAMI MERCH, S.L.</td>\n",
       "      <td>Entretenimiento y deporte</td>\n",
       "      <td>Música</td>\n",
       "      <td>Jazz y clásica</td>\n",
       "      <td>21.0</td>\n",
       "      <td>InStock</td>\n",
       "      <td>1.99</td>\n",
       "      <td>Cine, música y libros</td>\n",
       "      <td>5060143493836</td>\n",
       "      <td>9296636</td>\n",
       "      <td>Billie Holiday - Lady in satin - 2 CD</td>\n",
       "      <td>7.99</td>\n",
       "    </tr>\n",
       "    <tr>\n",
       "      <th>43</th>\n",
       "      <td>SONY BMG MUSIC SPAIN, S.L.</td>\n",
       "      <td>Entretenimiento y deporte</td>\n",
       "      <td>Música</td>\n",
       "      <td>Jazz y clásica</td>\n",
       "      <td>21.0</td>\n",
       "      <td>InStock</td>\n",
       "      <td>1.99</td>\n",
       "      <td>Cine, música y libros</td>\n",
       "      <td>0889854482015</td>\n",
       "      <td>1383791</td>\n",
       "      <td>Billy Strayhorn Trio - Duke Ellington, Billy S...</td>\n",
       "      <td>9.99</td>\n",
       "    </tr>\n",
       "    <tr>\n",
       "      <th>44</th>\n",
       "      <td>UNIVERSAL MUSIC SPAIN, S.L.</td>\n",
       "      <td>Entretenimiento y deporte</td>\n",
       "      <td>Música</td>\n",
       "      <td>NaN</td>\n",
       "      <td>21.0</td>\n",
       "      <td>InStock</td>\n",
       "      <td>1.99</td>\n",
       "      <td>Cine, música y libros</td>\n",
       "      <td>0602567743507</td>\n",
       "      <td>1435537</td>\n",
       "      <td>Andrea Bocelli - Sí (Edición Deluxe) - CD</td>\n",
       "      <td>20.99</td>\n",
       "    </tr>\n",
       "    <tr>\n",
       "      <th>45</th>\n",
       "      <td>BLANCO Y NEGRO MUSIC S.A.</td>\n",
       "      <td>Entretenimiento y deporte</td>\n",
       "      <td>Música</td>\n",
       "      <td>Jazz y clásica</td>\n",
       "      <td>21.0</td>\n",
       "      <td>InStock</td>\n",
       "      <td>1.99</td>\n",
       "      <td>Cine, música y libros</td>\n",
       "      <td>8421597109679</td>\n",
       "      <td>1439223</td>\n",
       "      <td>Luis Cobos - ¡Va por México! - CD + DVD</td>\n",
       "      <td>19.99</td>\n",
       "    </tr>\n",
       "    <tr>\n",
       "      <th>46</th>\n",
       "      <td>SONY BMG MUSIC SPAIN, S.L.</td>\n",
       "      <td>Entretenimiento y deporte</td>\n",
       "      <td>Música</td>\n",
       "      <td>Jazz y clásica</td>\n",
       "      <td>21.0</td>\n",
       "      <td>InStock</td>\n",
       "      <td>1.99</td>\n",
       "      <td>Cine, música y libros</td>\n",
       "      <td>0889854482114</td>\n",
       "      <td>1383793</td>\n",
       "      <td>Stan Quartet Getz - Stan Getz Quartet. Vogue J...</td>\n",
       "      <td>9.99</td>\n",
       "    </tr>\n",
       "    <tr>\n",
       "      <th>47</th>\n",
       "      <td>T-SUNAMI MERCH, S.L.</td>\n",
       "      <td>Entretenimiento y deporte</td>\n",
       "      <td>Música</td>\n",
       "      <td>Jazz y clásica</td>\n",
       "      <td>21.0</td>\n",
       "      <td>InStock</td>\n",
       "      <td>1.99</td>\n",
       "      <td>Cine, música y libros</td>\n",
       "      <td>0889397000165</td>\n",
       "      <td>1381936</td>\n",
       "      <td>Bill Evans - Timeless Classic Albums - CD</td>\n",
       "      <td>9.99</td>\n",
       "    </tr>\n",
       "    <tr>\n",
       "      <th>48</th>\n",
       "      <td>T-SUNAMI MERCH, S.L.</td>\n",
       "      <td>Entretenimiento y deporte</td>\n",
       "      <td>Música</td>\n",
       "      <td>Jazz y clásica</td>\n",
       "      <td>21.0</td>\n",
       "      <td>InStock</td>\n",
       "      <td>1.99</td>\n",
       "      <td>Cine, música y libros</td>\n",
       "      <td>5060143493126</td>\n",
       "      <td>9296644</td>\n",
       "      <td>CD - Cool, Chet Baker, Jazz Moods</td>\n",
       "      <td>7.99</td>\n",
       "    </tr>\n",
       "    <tr>\n",
       "      <th>49</th>\n",
       "      <td>BLANCO Y NEGRO MUSIC S.A.</td>\n",
       "      <td>Entretenimiento y deporte</td>\n",
       "      <td>Música</td>\n",
       "      <td>Jazz y clásica</td>\n",
       "      <td>21.0</td>\n",
       "      <td>InStock</td>\n",
       "      <td>1.99</td>\n",
       "      <td>Cine, música y libros</td>\n",
       "      <td>8421597055549</td>\n",
       "      <td>9242565</td>\n",
       "      <td>Varios - Lo Mejor De Ópera Chillout - CD</td>\n",
       "      <td>5.99</td>\n",
       "    </tr>\n",
       "    <tr>\n",
       "      <th>50</th>\n",
       "      <td>UNIVERSAL MUSIC SPAIN, S.L.</td>\n",
       "      <td>Entretenimiento y deporte</td>\n",
       "      <td>Música</td>\n",
       "      <td>Jazz y clásica</td>\n",
       "      <td>21.0</td>\n",
       "      <td>InStock</td>\n",
       "      <td>1.99</td>\n",
       "      <td>Cine, música y libros</td>\n",
       "      <td>8436574810066</td>\n",
       "      <td>1388138</td>\n",
       "      <td>CD - Canço D'Amor i de Guerra, Sony BMG</td>\n",
       "      <td>12.99</td>\n",
       "    </tr>\n",
       "  </tbody>\n",
       "</table>\n",
       "<p>35152 rows × 12 columns</p>\n",
       "</div>"
      ],
      "text/plain": [
       "                          brand                   category  \\\n",
       "0                       PHILIPS            Belleza y salud   \n",
       "1                       PHILIPS            Belleza y salud   \n",
       "2                       PHILIPS            Belleza y salud   \n",
       "3                       PHILIPS            Belleza y salud   \n",
       "4                         BRAUN            Belleza y salud   \n",
       "5                       PHILIPS            Belleza y salud   \n",
       "6                       PHILIPS            Belleza y salud   \n",
       "7                       PHILIPS            Belleza y salud   \n",
       "8                       PHILIPS            Belleza y salud   \n",
       "9                       PHILIPS            Belleza y salud   \n",
       "10                    PANASONIC            Belleza y salud   \n",
       "11                        BRAUN            Belleza y salud   \n",
       "12                      PHILIPS            Belleza y salud   \n",
       "13                        BRAUN            Belleza y salud   \n",
       "14                        BRAUN            Belleza y salud   \n",
       "15                        BRAUN            Belleza y salud   \n",
       "16                           OK            Belleza y salud   \n",
       "17                        BRAUN            Belleza y salud   \n",
       "18                        BEPER            Belleza y salud   \n",
       "19                        BRAUN            Belleza y salud   \n",
       "20                      PHILIPS            Belleza y salud   \n",
       "21                    PANASONIC            Belleza y salud   \n",
       "22                    REMINGTON            Belleza y salud   \n",
       "23                        BRAUN            Belleza y salud   \n",
       "24                        BRAUN            Belleza y salud   \n",
       "25                      ROWENTA            Belleza y salud   \n",
       "26                        BRAUN            Belleza y salud   \n",
       "27                        BRAUN            Belleza y salud   \n",
       "28                        BRAUN            Belleza y salud   \n",
       "29                        BRAUN            Belleza y salud   \n",
       "..                          ...                        ...   \n",
       "21   SONY BMG MUSIC SPAIN, S.L.  Entretenimiento y deporte   \n",
       "22                 AVISPA, S.L.  Entretenimiento y deporte   \n",
       "23   SONY BMG MUSIC SPAIN, S.L.  Entretenimiento y deporte   \n",
       "24  UNIVERSAL MUSIC SPAIN, S.L.  Entretenimiento y deporte   \n",
       "25         T-SUNAMI MERCH, S.L.  Entretenimiento y deporte   \n",
       "26   SONY BMG MUSIC SPAIN, S.L.  Entretenimiento y deporte   \n",
       "27                 AVISPA, S.L.  Entretenimiento y deporte   \n",
       "28  UNIVERSAL MUSIC SPAIN, S.L.  Entretenimiento y deporte   \n",
       "29                 AVISPA, S.L.  Entretenimiento y deporte   \n",
       "30   KARONTE-NUBA RECORDS, S.L.  Entretenimiento y deporte   \n",
       "31   KARONTE-NUBA RECORDS, S.L.  Entretenimiento y deporte   \n",
       "32   SONY BMG MUSIC SPAIN, S.L.  Entretenimiento y deporte   \n",
       "33   SONY BMG MUSIC SPAIN, S.L.  Entretenimiento y deporte   \n",
       "34   SONY BMG MUSIC SPAIN, S.L.  Entretenimiento y deporte   \n",
       "35   SONY BMG MUSIC SPAIN, S.L.  Entretenimiento y deporte   \n",
       "36         T-SUNAMI MERCH, S.L.  Entretenimiento y deporte   \n",
       "37   SONY BMG MUSIC SPAIN, S.L.  Entretenimiento y deporte   \n",
       "38         T-SUNAMI MERCH, S.L.  Entretenimiento y deporte   \n",
       "39         T-SUNAMI MERCH, S.L.  Entretenimiento y deporte   \n",
       "40   SONY BMG MUSIC SPAIN, S.L.  Entretenimiento y deporte   \n",
       "41   KARONTE-NUBA RECORDS, S.L.  Entretenimiento y deporte   \n",
       "42         T-SUNAMI MERCH, S.L.  Entretenimiento y deporte   \n",
       "43   SONY BMG MUSIC SPAIN, S.L.  Entretenimiento y deporte   \n",
       "44  UNIVERSAL MUSIC SPAIN, S.L.  Entretenimiento y deporte   \n",
       "45    BLANCO Y NEGRO MUSIC S.A.  Entretenimiento y deporte   \n",
       "46   SONY BMG MUSIC SPAIN, S.L.  Entretenimiento y deporte   \n",
       "47         T-SUNAMI MERCH, S.L.  Entretenimiento y deporte   \n",
       "48         T-SUNAMI MERCH, S.L.  Entretenimiento y deporte   \n",
       "49    BLANCO Y NEGRO MUSIC S.A.  Entretenimiento y deporte   \n",
       "50  UNIVERSAL MUSIC SPAIN, S.L.  Entretenimiento y deporte   \n",
       "\n",
       "             dimension10     dimension11  dimension24 dimension25  \\\n",
       "0   Afeitadoras faciales             NaN         21.0  OutOfStock   \n",
       "1   Afeitadoras faciales             NaN         21.0     InStock   \n",
       "2   Afeitadoras faciales             NaN         21.0     InStock   \n",
       "3   Afeitadoras faciales             NaN         21.0     InStock   \n",
       "4   Afeitadoras faciales             NaN         21.0     InStock   \n",
       "5   Afeitadoras faciales             NaN         21.0     InStock   \n",
       "6   Afeitadoras faciales             NaN         21.0     InStock   \n",
       "7   Afeitadoras faciales             NaN         21.0     InStock   \n",
       "8   Afeitadoras faciales             NaN         21.0     InStock   \n",
       "9   Afeitadoras faciales             NaN         21.0     InStock   \n",
       "10  Afeitadoras faciales             NaN         21.0     InStock   \n",
       "11  Afeitadoras faciales             NaN         21.0     InStock   \n",
       "12  Afeitadoras faciales             NaN         21.0     InStock   \n",
       "13  Afeitadoras faciales             NaN         21.0     InStock   \n",
       "14  Afeitadoras faciales             NaN         21.0     InStock   \n",
       "15  Afeitadoras faciales             NaN         21.0     InStock   \n",
       "16  Afeitadoras faciales             NaN         21.0     InStock   \n",
       "17  Afeitadoras faciales             NaN         21.0     InStock   \n",
       "18  Afeitadoras faciales             NaN         21.0     InStock   \n",
       "19  Afeitadoras faciales             NaN         21.0     InStock   \n",
       "20  Afeitadoras faciales             NaN         21.0     InStock   \n",
       "21  Afeitadoras faciales             NaN         21.0     InStock   \n",
       "22  Afeitadoras faciales             NaN         21.0     InStock   \n",
       "23  Afeitadoras faciales             NaN         21.0     InStock   \n",
       "24  Afeitadoras faciales             NaN         21.0  OutOfStock   \n",
       "25  Afeitadoras faciales             NaN         21.0     InStock   \n",
       "26  Afeitadoras faciales             NaN         21.0     InStock   \n",
       "27  Afeitadoras faciales             NaN         21.0     InStock   \n",
       "28  Afeitadoras faciales             NaN         21.0     InStock   \n",
       "29  Afeitadoras faciales             NaN         21.0     InStock   \n",
       "..                   ...             ...          ...         ...   \n",
       "21                Música  Jazz y clásica         21.0     InStock   \n",
       "22                Música             NaN         21.0     InStock   \n",
       "23                Música  Jazz y clásica         21.0     InStock   \n",
       "24                Música  Jazz y clásica         21.0     InStock   \n",
       "25                Música  Jazz y clásica         21.0     InStock   \n",
       "26                Música  Jazz y clásica         21.0     InStock   \n",
       "27                Música  Jazz y clásica         21.0     InStock   \n",
       "28                Música  Jazz y clásica         21.0     InStock   \n",
       "29                Música  Jazz y clásica         21.0     InStock   \n",
       "30                Música  Jazz y clásica         21.0     InStock   \n",
       "31                Música  Jazz y clásica         21.0     InStock   \n",
       "32                Música  Jazz y clásica         21.0     InStock   \n",
       "33                Música  Jazz y clásica         21.0     InStock   \n",
       "34                Música  Jazz y clásica         21.0     InStock   \n",
       "35                Música  Jazz y clásica         21.0     InStock   \n",
       "36                Música  Jazz y clásica         21.0     InStock   \n",
       "37                Música  Jazz y clásica         21.0     InStock   \n",
       "38                Música  Jazz y clásica         21.0     InStock   \n",
       "39                Música  Jazz y clásica         21.0     InStock   \n",
       "40                Música  Jazz y clásica         21.0     InStock   \n",
       "41                Música  Jazz y clásica         21.0     InStock   \n",
       "42                Música  Jazz y clásica         21.0     InStock   \n",
       "43                Música  Jazz y clásica         21.0     InStock   \n",
       "44                Música             NaN         21.0     InStock   \n",
       "45                Música  Jazz y clásica         21.0     InStock   \n",
       "46                Música  Jazz y clásica         21.0     InStock   \n",
       "47                Música  Jazz y clásica         21.0     InStock   \n",
       "48                Música  Jazz y clásica         21.0     InStock   \n",
       "49                Música  Jazz y clásica         21.0     InStock   \n",
       "50                Música  Jazz y clásica         21.0     InStock   \n",
       "\n",
       "    dimension26             dimension9            ean       id  \\\n",
       "0          1.99  Afeitado y depilación  8710103738350  1293941   \n",
       "1          1.99  Afeitado y depilación  8710103764588  1317305   \n",
       "2          1.99  Afeitado y depilación  8710103819219  1360370   \n",
       "3          1.99  Afeitado y depilación  8710103764489  1317303   \n",
       "4          1.99  Afeitado y depilación  4210201147022  1294131   \n",
       "5          1.99  Afeitado y depilación  8710103738121  1293945   \n",
       "6          1.99  Afeitado y depilación  8710103686934  1252110   \n",
       "7          1.99  Afeitado y depilación  8710103609803  1187436   \n",
       "8          1.99  Afeitado y depilación  8710103800958  1385320   \n",
       "9          1.99  Afeitado y depilación  8710103764458  1317304   \n",
       "10         1.99  Afeitado y depilación  5025232782642  1264634   \n",
       "11         1.99  Afeitado y depilación  4210201132370  1310896   \n",
       "12         1.99  Afeitado y depilación  8710103736745  1367692   \n",
       "13         1.99  Afeitado y depilación  4210201151562  1353375   \n",
       "14         1.99  Afeitado y depilación  4210201649793  1104022   \n",
       "15         1.99  Afeitado y depilación  4210201183617  1373774   \n",
       "16         1.99  Afeitado y depilación  4049011147454  1423577   \n",
       "17         1.99  Afeitado y depilación  4210201163367  1353373   \n",
       "18         1.99  Afeitado y depilación  8051772711948  1331134   \n",
       "19         1.99  Afeitado y depilación  4210201124481  1310843   \n",
       "20         1.99  Afeitado y depilación  8710103819349  1360380   \n",
       "21         1.99  Afeitado y depilación  5025232846184  1418920   \n",
       "22         1.99  Afeitado y depilación  8420738411848  1376067   \n",
       "23         1.99  Afeitado y depilación  4210201112129  1310842   \n",
       "24         1.99  Afeitado y depilación  4210201167013  1342540   \n",
       "25         1.99  Afeitado y depilación  3121040059272  1311358   \n",
       "26         1.99  Afeitado y depilación  4210201165804  1342438   \n",
       "27         1.99  Afeitado y depilación  4210201188827  1382002   \n",
       "28         1.99  Afeitado y depilación  4210201186595  1382003   \n",
       "29         1.99  Afeitado y depilación  4210201177517  1373772   \n",
       "..          ...                    ...            ...      ...   \n",
       "21         1.99  Cine, música y libros  0889854482817  1383800   \n",
       "22         1.99  Cine, música y libros  5083007603004  1370881   \n",
       "23         1.99  Cine, música y libros  0889854143121  1397733   \n",
       "24         1.99  Cine, música y libros  0602577445156  1447739   \n",
       "25         1.99  Cine, música y libros  5060403742223  1444705   \n",
       "26         1.99  Cine, música y libros  0889854482718  1383799   \n",
       "27         1.99  Cine, música y libros  5583019091788  1395909   \n",
       "28         1.99  Cine, música y libros  0602527179773  9269057   \n",
       "29         1.99  Cine, música y libros  5583019091801  1395911   \n",
       "30         1.99  Cine, música y libros  0889397000233  1381946   \n",
       "31         1.99  Cine, música y libros  0889397000240  1381948   \n",
       "32         1.99  Cine, música y libros  0886970299329  9215082   \n",
       "33         1.99  Cine, música y libros  0889854482213  1383794   \n",
       "34         1.99  Cine, música y libros  8437006223102  1338801   \n",
       "35         1.99  Cine, música y libros  0190759028223  1442258   \n",
       "36         1.99  Cine, música y libros  5060143496387  1348458   \n",
       "37         1.99  Cine, música y libros  0889854482510  1383797   \n",
       "38         1.99  Cine, música y libros  5060143495298  1228682   \n",
       "39         1.99  Cine, música y libros  0889397000349  1381970   \n",
       "40         1.99  Cine, música y libros  0886974392323  9263613   \n",
       "41         1.99  Cine, música y libros  0889397000257  1381952   \n",
       "42         1.99  Cine, música y libros  5060143493836  9296636   \n",
       "43         1.99  Cine, música y libros  0889854482015  1383791   \n",
       "44         1.99  Cine, música y libros  0602567743507  1435537   \n",
       "45         1.99  Cine, música y libros  8421597109679  1439223   \n",
       "46         1.99  Cine, música y libros  0889854482114  1383793   \n",
       "47         1.99  Cine, música y libros  0889397000165  1381936   \n",
       "48         1.99  Cine, música y libros  5060143493126  9296644   \n",
       "49         1.99  Cine, música y libros  8421597055549  9242565   \n",
       "50         1.99  Cine, música y libros  8436574810066  1388138   \n",
       "\n",
       "                                                 name   price  \n",
       "0   Afeitadora - Philips S 5110/06 Cabezales Flex,...   57.99  \n",
       "1   Afeitadora - Philips Shaver S1510/04, Recargab...   41.99  \n",
       "2   Afeitadora - Philips S5550/06, Cuchillas Multi...   89.90  \n",
       "3   Afeitadora - Philips S3510/06, sistema Comfort...   58.99  \n",
       "4   Afeitadora - Braun 5030s Series 5 + EN10, Reco...   87.99  \n",
       "5   Afeitadora - Philips S 5420/06 Sistema de cuch...   76.99  \n",
       "6   Afeitadora - Philips S9031/12 V-Track, Autonom...  166.00  \n",
       "7   Afeitadora - Philips AT750/26, Recargable, Cab...   55.99  \n",
       "8   Afeitadora - Philips S7522/50, Anillos SkinGli...  149.00  \n",
       "9   Afeitadora - Philips S3110/06, sistema Comfort...   49.99  \n",
       "10  Afeitadora - Panasonic ES RT 67 S503 Recargabl...   66.99  \n",
       "11  Recortador facial - Braun PT5010, perfilador d...   14.99  \n",
       "12  Afeitadora - Philips S7310/12, Especial para p...  123.00  \n",
       "13  Afeitadora - Braun BT3010 Serie 3, Recargable,...   84.99  \n",
       "14  Afeitadora - Braun MobileShave M60b Funcionami...   17.99  \n",
       "15  Afeitadora - Braun WF2s Serie 5 WaterFlex, Wet...  114.00  \n",
       "16  Afeitadora - OK OSH 3310 ES 3-IN-1, Men Shaver...   19.99  \n",
       "17  Afeitadora - Braun SERIE 3 310 Wet & Dry, Resi...   54.99  \n",
       "18  Afeitadora - Beper iCut 40.993, Barba, Recargable   13.99  \n",
       "19  Afeitadora - Braun Serie 3 - 3000 Edición espe...   60.99  \n",
       "20  Afeitadora - Philips S5650/41, Accesorio barbe...  119.90  \n",
       "21  Afeitadora - Panasonic ES-ST 3 N, 3 cuchillas,...   86.99  \n",
       "22  Afeitadora - Remington PR1340GP, Cabezal comfo...   51.99  \n",
       "23  Afeitadora - Braun 3010 Serie 3, Recargable, C...   61.99  \n",
       "24  Afeitadora - Braun Series 9 9240s, Wet&Dry, Ci...  306.00  \n",
       "25  Recortador de pelo - Rowenta TN3620F0, Lavable...   18.99  \n",
       "26  Afeitadora - Braun Series 9 9295cc, Uso en sec...  399.00  \n",
       "27  Afeitadora - Braun Series 3 310s, Recargable, ...   60.99  \n",
       "28  Afeitadora - Braun Serie3 3000 Tecnología Micr...   67.99  \n",
       "29  Afeitadora - Braun Series 5 514S, Wet&Dry, Cab...  187.00  \n",
       "..                                                ...     ...  \n",
       "21  Dizzy Gillespie - Pleyel Jazz Concert 1948 Vol...    9.99  \n",
       "22                Weather Report - Morning Lake - DVD    5.99  \n",
       "23               Miles Davis - Sketches of spain - CD    7.99  \n",
       "24             Ludovico Einaudi - 7 Days Walking - CD   16.99  \n",
       "25      Ray Charles - The Genius Sings The Blues - LP   26.99  \n",
       "26               Jelly Roll Morton - Piano Solos - LP    7.99  \n",
       "27                    Howlin Wolf - Shake For Me - CD    5.99  \n",
       "28                         Diana Krall - Quiet Nights   20.99  \n",
       "29   CD - John Lee Hooker, Boon Boom/Live On Air 1976    5.99  \n",
       "30       CD - Timeless Classic Albums - John Coltrane    9.99  \n",
       "31         CD - Timeless Classic Albums - Miles Davis    9.99  \n",
       "32                                            Il Divo   17.99  \n",
       "33          Bechet Souvenir. Vogue Jazz Club 003 - LP    9.99  \n",
       "34                   Si Sucede, Conviene - Zenet - CD   14.99  \n",
       "35  Christian Thielemann y la Orquestra Filarmónic...   15.99  \n",
       "36                       CD - Confessin 2 CD, Bb King    7.99  \n",
       "37  Various - Originators Of Modern Jazz. Vogue Ja...    9.99  \n",
       "38               CD - My Baby Just Cares, Nina Simone    7.99  \n",
       "39        Muddy Waters - Timeless Classic Albums - CD    6.99  \n",
       "40                    Kind Of Blue - Miles Davis - CD    6.99  \n",
       "41        CD - Timeless Classic Albums - Howlin' Wolf    6.99  \n",
       "42              Billie Holiday - Lady in satin - 2 CD    7.99  \n",
       "43  Billy Strayhorn Trio - Duke Ellington, Billy S...    9.99  \n",
       "44          Andrea Bocelli - Sí (Edición Deluxe) - CD   20.99  \n",
       "45            Luis Cobos - ¡Va por México! - CD + DVD   19.99  \n",
       "46  Stan Quartet Getz - Stan Getz Quartet. Vogue J...    9.99  \n",
       "47          Bill Evans - Timeless Classic Albums - CD    9.99  \n",
       "48                  CD - Cool, Chet Baker, Jazz Moods    7.99  \n",
       "49           Varios - Lo Mejor De Ópera Chillout - CD    5.99  \n",
       "50            CD - Canço D'Amor i de Guerra, Sony BMG   12.99  \n",
       "\n",
       "[35152 rows x 12 columns]"
      ]
     },
     "execution_count": 68,
     "metadata": {},
     "output_type": "execute_result"
    }
   ],
   "source": [
    "total_products"
   ]
  },
  {
   "cell_type": "code",
   "execution_count": 69,
   "metadata": {},
   "outputs": [
    {
     "data": {
      "text/plain": [
       "712"
      ]
     },
     "execution_count": 69,
     "metadata": {},
     "output_type": "execute_result"
    }
   ],
   "source": [
    "k"
   ]
  },
  {
   "cell_type": "code",
   "execution_count": 71,
   "metadata": {},
   "outputs": [
    {
     "name": "stdout",
     "output_type": "stream",
     "text": [
      "Escaneando pagina 712 de 1012\n",
      "Scraping: https://www.mediamarkt.es/es/category/_libros-701353.html\n",
      "Número de páginas: 24\n"
     ]
    },
    {
     "name": "stderr",
     "output_type": "stream",
     "text": [
      "100%|██████████| 24/24 [00:33<00:00,  1.17s/it]\n"
     ]
    },
    {
     "name": "stdout",
     "output_type": "stream",
     "text": [
      "Escaneando pagina 713 de 1012\n",
      "Scraping: https://www.mediamarkt.es/es/category/_narrativa-702368.html\n",
      "Número de páginas: 4\n"
     ]
    },
    {
     "name": "stderr",
     "output_type": "stream",
     "text": [
      "100%|██████████| 4/4 [00:04<00:00,  1.13s/it]\n"
     ]
    },
    {
     "name": "stdout",
     "output_type": "stream",
     "text": [
      "Escaneando pagina 714 de 1012\n",
      "Scraping: https://www.mediamarkt.es/es/category/_novela-rom%C3%A1ntica-702369.html\n"
     ]
    },
    {
     "name": "stderr",
     "output_type": "stream",
     "text": [
      "0it [00:00, ?it/s]\n"
     ]
    },
    {
     "name": "stdout",
     "output_type": "stream",
     "text": [
      "Escaneando pagina 715 de 1012\n",
      "Scraping: https://www.mediamarkt.es/es/category/_novela-hist%C3%B3rica-702370.html\n"
     ]
    },
    {
     "name": "stderr",
     "output_type": "stream",
     "text": [
      "0it [00:00, ?it/s]\n"
     ]
    },
    {
     "name": "stdout",
     "output_type": "stream",
     "text": [
      "Escaneando pagina 716 de 1012\n",
      "Scraping: https://www.mediamarkt.es/es/category/_novela-negra-y-polic%C3%ADaca-702371.html\n",
      "Número de páginas: 2\n"
     ]
    },
    {
     "name": "stderr",
     "output_type": "stream",
     "text": [
      "100%|██████████| 2/2 [00:02<00:00,  1.14s/it]\n"
     ]
    },
    {
     "name": "stdout",
     "output_type": "stream",
     "text": [
      "Escaneando pagina 717 de 1012\n",
      "Scraping: https://www.mediamarkt.es/es/category/_novela-fant%C3%A1stica-702372.html\n"
     ]
    },
    {
     "name": "stderr",
     "output_type": "stream",
     "text": [
      "0it [00:00, ?it/s]\n"
     ]
    },
    {
     "name": "stdout",
     "output_type": "stream",
     "text": [
      "Escaneando pagina 718 de 1012\n",
      "Scraping: https://www.mediamarkt.es/es/category/_biograf%C3%ADas-y-memorias-702373.html\n"
     ]
    },
    {
     "name": "stderr",
     "output_type": "stream",
     "text": [
      "0it [00:00, ?it/s]\n"
     ]
    },
    {
     "name": "stdout",
     "output_type": "stream",
     "text": [
      "Escaneando pagina 719 de 1012\n",
      "Scraping: https://www.mediamarkt.es/es/category/_ense%C3%B1anza-y-diccionarios-702374.html\n"
     ]
    },
    {
     "name": "stderr",
     "output_type": "stream",
     "text": [
      "0it [00:00, ?it/s]\n"
     ]
    },
    {
     "name": "stdout",
     "output_type": "stream",
     "text": [
      "Escaneando pagina 720 de 1012\n",
      "Scraping: https://www.mediamarkt.es/es/category/_infantil-y-juvenil-702375.html\n",
      "Número de páginas: 7\n"
     ]
    },
    {
     "name": "stderr",
     "output_type": "stream",
     "text": [
      "100%|██████████| 7/7 [00:07<00:00,  1.00it/s]\n"
     ]
    },
    {
     "name": "stdout",
     "output_type": "stream",
     "text": [
      "Escaneando pagina 721 de 1012\n",
      "Scraping: https://www.mediamarkt.es/es/category/_salud-bienestar-y-dietas-702376.html\n"
     ]
    },
    {
     "name": "stderr",
     "output_type": "stream",
     "text": [
      "0it [00:00, ?it/s]\n"
     ]
    },
    {
     "name": "stdout",
     "output_type": "stream",
     "text": [
      "Escaneando pagina 722 de 1012\n",
      "Scraping: https://www.mediamarkt.es/es/category/_autoayuda-702377.html\n"
     ]
    },
    {
     "name": "stderr",
     "output_type": "stream",
     "text": [
      "0it [00:00, ?it/s]\n"
     ]
    },
    {
     "name": "stdout",
     "output_type": "stream",
     "text": [
      "Escaneando pagina 723 de 1012\n",
      "Scraping: https://www.mediamarkt.es/es/category/_bolsillo-702378.html\n",
      "Número de páginas: 2\n"
     ]
    },
    {
     "name": "stderr",
     "output_type": "stream",
     "text": [
      "100%|██████████| 2/2 [00:02<00:00,  1.05s/it]\n"
     ]
    },
    {
     "name": "stdout",
     "output_type": "stream",
     "text": [
      "Escaneando pagina 724 de 1012\n",
      "Scraping: https://www.mediamarkt.es/es/category/_libros-de-cocina-702379.html\n",
      "Número de páginas: 3\n"
     ]
    },
    {
     "name": "stderr",
     "output_type": "stream",
     "text": [
      "100%|██████████| 3/3 [00:03<00:00,  1.12s/it]\n"
     ]
    },
    {
     "name": "stdout",
     "output_type": "stream",
     "text": [
      "Escaneando pagina 725 de 1012\n",
      "Scraping: https://www.mediamarkt.es/es/category/_gu%C3%ADas-de-viaje-702380.html\n",
      "Número de páginas: 4\n"
     ]
    },
    {
     "name": "stderr",
     "output_type": "stream",
     "text": [
      "100%|██████████| 4/4 [00:04<00:00,  1.09s/it]\n"
     ]
    },
    {
     "name": "stdout",
     "output_type": "stream",
     "text": [
      "Escaneando pagina 726 de 1012\n",
      "Scraping: https://www.mediamarkt.es/es/category/_am%C3%A9rica-del-norte-y-central-702767.html\n"
     ]
    },
    {
     "name": "stderr",
     "output_type": "stream",
     "text": [
      "0it [00:00, ?it/s]\n"
     ]
    },
    {
     "name": "stdout",
     "output_type": "stream",
     "text": [
      "Escaneando pagina 727 de 1012\n",
      "Scraping: https://www.mediamarkt.es/es/category/_am%C3%A9rica-del-sur-702768.html\n"
     ]
    },
    {
     "name": "stderr",
     "output_type": "stream",
     "text": [
      "0it [00:00, ?it/s]\n"
     ]
    },
    {
     "name": "stdout",
     "output_type": "stream",
     "text": [
      "Escaneando pagina 728 de 1012\n",
      "Scraping: https://www.mediamarkt.es/es/category/_europa-702769.html\n",
      "Número de páginas: 3\n"
     ]
    },
    {
     "name": "stderr",
     "output_type": "stream",
     "text": [
      "100%|██████████| 3/3 [00:02<00:00,  1.19it/s]\n"
     ]
    },
    {
     "name": "stdout",
     "output_type": "stream",
     "text": [
      "Escaneando pagina 729 de 1012\n",
      "Scraping: https://www.mediamarkt.es/es/category/_asia-702770.html\n"
     ]
    },
    {
     "name": "stderr",
     "output_type": "stream",
     "text": [
      "0it [00:00, ?it/s]\n"
     ]
    },
    {
     "name": "stdout",
     "output_type": "stream",
     "text": [
      "Escaneando pagina 730 de 1012\n",
      "Scraping: https://www.mediamarkt.es/es/category/_ocean%C3%ADa-702771.html\n"
     ]
    },
    {
     "name": "stderr",
     "output_type": "stream",
     "text": [
      "0it [00:00, ?it/s]\n"
     ]
    },
    {
     "name": "stdout",
     "output_type": "stream",
     "text": [
      "Escaneando pagina 731 de 1012\n",
      "Scraping: https://www.mediamarkt.es/es/category/_%C3%A1frica-702772.html\n"
     ]
    },
    {
     "name": "stderr",
     "output_type": "stream",
     "text": [
      "0it [00:00, ?it/s]\n"
     ]
    },
    {
     "name": "stdout",
     "output_type": "stream",
     "text": [
      "Escaneando pagina 732 de 1012\n",
      "Scraping: https://www.mediamarkt.es/es/category/_comics-702381.html\n"
     ]
    },
    {
     "name": "stderr",
     "output_type": "stream",
     "text": [
      "0it [00:00, ?it/s]\n"
     ]
    },
    {
     "name": "stdout",
     "output_type": "stream",
     "text": [
      "Escaneando pagina 733 de 1012\n",
      "Scraping: https://www.mediamarkt.es/es/category/_negocio-y-oficina-701119.html\n"
     ]
    },
    {
     "name": "stderr",
     "output_type": "stream",
     "text": [
      "0it [00:00, ?it/s]\n"
     ]
    },
    {
     "name": "stdout",
     "output_type": "stream",
     "text": [
      "Escaneando pagina 734 de 1012\n",
      "Scraping: https://www.mediamarkt.es/es/category/_telefon%C3%ADa-fija-701149.html\n"
     ]
    },
    {
     "name": "stderr",
     "output_type": "stream",
     "text": [
      "0it [00:00, ?it/s]\n"
     ]
    },
    {
     "name": "stdout",
     "output_type": "stream",
     "text": [
      "Escaneando pagina 735 de 1012\n",
      "Scraping: https://www.mediamarkt.es/es/category/_tel%C3%A9fonos-fijos-inal%C3%A1mbricos-701355.html\n",
      "Número de páginas: 7\n"
     ]
    },
    {
     "name": "stderr",
     "output_type": "stream",
     "text": [
      "100%|██████████| 7/7 [00:08<00:00,  1.07s/it]\n"
     ]
    },
    {
     "name": "stdout",
     "output_type": "stream",
     "text": [
      "Escaneando pagina 736 de 1012\n",
      "Scraping: https://www.mediamarkt.es/es/category/_tel%C3%A9fonos-fijos-701356.html\n",
      "Número de páginas: 2\n"
     ]
    },
    {
     "name": "stderr",
     "output_type": "stream",
     "text": [
      "100%|██████████| 2/2 [00:01<00:00,  1.01it/s]\n"
     ]
    },
    {
     "name": "stdout",
     "output_type": "stream",
     "text": [
      "Escaneando pagina 737 de 1012\n",
      "Scraping: https://www.mediamarkt.es/es/category/_faxes-701359.html\n"
     ]
    },
    {
     "name": "stderr",
     "output_type": "stream",
     "text": [
      "0it [00:00, ?it/s]\n"
     ]
    },
    {
     "name": "stdout",
     "output_type": "stream",
     "text": [
      "Escaneando pagina 738 de 1012\n",
      "Scraping: https://www.mediamarkt.es/es/category/_walkie-talkie-701360.html\n"
     ]
    },
    {
     "name": "stderr",
     "output_type": "stream",
     "text": [
      "0it [00:00, ?it/s]\n"
     ]
    },
    {
     "name": "stdout",
     "output_type": "stream",
     "text": [
      "Escaneando pagina 739 de 1012\n",
      "Scraping: https://www.mediamarkt.es/es/category/_accesorios-telefon%C3%ADa-fija-701358.html\n"
     ]
    },
    {
     "name": "stderr",
     "output_type": "stream",
     "text": [
      "0it [00:00, ?it/s]\n"
     ]
    },
    {
     "name": "stdout",
     "output_type": "stream",
     "text": [
      "Escaneando pagina 740 de 1012\n",
      "Scraping: https://www.mediamarkt.es/es/category/_negocio-701150.html\n",
      "Número de páginas: 3\n"
     ]
    },
    {
     "name": "stderr",
     "output_type": "stream",
     "text": [
      "100%|██████████| 3/3 [00:03<00:00,  1.26s/it]\n"
     ]
    },
    {
     "name": "stdout",
     "output_type": "stream",
     "text": [
      "Escaneando pagina 741 de 1012\n",
      "Scraping: https://www.mediamarkt.es/es/category/_impresoras-de-etiquetas-701363.html\n",
      "Número de páginas: 2\n"
     ]
    },
    {
     "name": "stderr",
     "output_type": "stream",
     "text": [
      "100%|██████████| 2/2 [00:01<00:00,  1.56it/s]\n"
     ]
    },
    {
     "name": "stdout",
     "output_type": "stream",
     "text": [
      "Escaneando pagina 742 de 1012\n",
      "Scraping: https://www.mediamarkt.es/es/category/_destructoras-701364.html\n"
     ]
    },
    {
     "name": "stderr",
     "output_type": "stream",
     "text": [
      "0it [00:00, ?it/s]\n"
     ]
    },
    {
     "name": "stdout",
     "output_type": "stream",
     "text": [
      "Escaneando pagina 743 de 1012\n",
      "Scraping: https://www.mediamarkt.es/es/category/_pantallas-y-visores-701367.html\n"
     ]
    },
    {
     "name": "stderr",
     "output_type": "stream",
     "text": [
      "0it [00:00, ?it/s]\n"
     ]
    },
    {
     "name": "stdout",
     "output_type": "stream",
     "text": [
      "Escaneando pagina 744 de 1012\n",
      "Scraping: https://www.mediamarkt.es/es/category/_impresoras-l%C3%A1ser-701368.html\n"
     ]
    },
    {
     "name": "stderr",
     "output_type": "stream",
     "text": [
      "0it [00:00, ?it/s]\n"
     ]
    },
    {
     "name": "stdout",
     "output_type": "stream",
     "text": [
      "Escaneando pagina 745 de 1012\n",
      "Scraping: https://www.mediamarkt.es/es/category/_impresoras-multifunci%C3%B3n-701369.html\n"
     ]
    },
    {
     "name": "stderr",
     "output_type": "stream",
     "text": [
      "0it [00:00, ?it/s]\n"
     ]
    },
    {
     "name": "stdout",
     "output_type": "stream",
     "text": [
      "Escaneando pagina 746 de 1012\n",
      "Scraping: https://www.mediamarkt.es/es/category/_oficina-y-papeler%C3%ADa-701151.html\n"
     ]
    },
    {
     "name": "stderr",
     "output_type": "stream",
     "text": [
      "0it [00:00, ?it/s]\n"
     ]
    },
    {
     "name": "stdout",
     "output_type": "stream",
     "text": [
      "Escaneando pagina 747 de 1012\n",
      "Scraping: https://www.mediamarkt.es/es/category/_calculadoras-701371.html\n"
     ]
    },
    {
     "name": "stderr",
     "output_type": "stream",
     "text": [
      "0it [00:00, ?it/s]\n"
     ]
    },
    {
     "name": "stdout",
     "output_type": "stream",
     "text": [
      "Escaneando pagina 748 de 1012\n",
      "Scraping: https://www.mediamarkt.es/es/category/_grabadoras-y-traductoras-701370.html\n"
     ]
    },
    {
     "name": "stderr",
     "output_type": "stream",
     "text": [
      "0it [00:00, ?it/s]\n"
     ]
    },
    {
     "name": "stdout",
     "output_type": "stream",
     "text": [
      "Escaneando pagina 749 de 1012\n",
      "Scraping: https://www.mediamarkt.es/es/category/_plastificadoras-701372.html\n"
     ]
    },
    {
     "name": "stderr",
     "output_type": "stream",
     "text": [
      "0it [00:00, ?it/s]\n"
     ]
    },
    {
     "name": "stdout",
     "output_type": "stream",
     "text": [
      "Escaneando pagina 750 de 1012\n",
      "Scraping: https://www.mediamarkt.es/es/category/_papeler%C3%ADa-y-material-escolar-701373.html\n"
     ]
    },
    {
     "name": "stderr",
     "output_type": "stream",
     "text": [
      "0it [00:00, ?it/s]\n"
     ]
    },
    {
     "name": "stdout",
     "output_type": "stream",
     "text": [
      "Escaneando pagina 751 de 1012\n",
      "Scraping: https://www.mediamarkt.es/es/category/_mochilas-y-estuches-701374.html\n"
     ]
    },
    {
     "name": "stderr",
     "output_type": "stream",
     "text": [
      "0it [00:00, ?it/s]\n"
     ]
    },
    {
     "name": "stdout",
     "output_type": "stream",
     "text": [
      "Escaneando pagina 752 de 1012\n",
      "Scraping: https://www.mediamarkt.es/es/category/_inform%C3%A1tica-701127.html\n"
     ]
    },
    {
     "name": "stderr",
     "output_type": "stream",
     "text": [
      "0it [00:00, ?it/s]\n"
     ]
    },
    {
     "name": "stdout",
     "output_type": "stream",
     "text": [
      "Escaneando pagina 753 de 1012\n",
      "Scraping: https://www.mediamarkt.es/es/category/_port%C3%A1tiles-701175.html\n"
     ]
    },
    {
     "name": "stderr",
     "output_type": "stream",
     "text": [
      "0it [00:00, ?it/s]\n"
     ]
    },
    {
     "name": "stdout",
     "output_type": "stream",
     "text": [
      "Escaneando pagina 754 de 1012\n",
      "Scraping: https://www.mediamarkt.es/es/category/_todos-los-port%C3%A1tiles-701420.html\n",
      "Número de páginas: 8\n"
     ]
    },
    {
     "name": "stderr",
     "output_type": "stream",
     "text": [
      "100%|██████████| 8/8 [00:07<00:00,  1.04it/s]\n"
     ]
    },
    {
     "name": "stdout",
     "output_type": "stream",
     "text": [
      "Escaneando pagina 755 de 1012\n",
      "Scraping: https://www.mediamarkt.es/es/category/_convertibles-2-en-1-701426.html\n",
      "Número de páginas: 2\n"
     ]
    },
    {
     "name": "stderr",
     "output_type": "stream",
     "text": [
      "100%|██████████| 2/2 [00:01<00:00,  1.40it/s]\n"
     ]
    },
    {
     "name": "stdout",
     "output_type": "stream",
     "text": [
      "Escaneando pagina 756 de 1012\n",
      "Scraping: https://www.mediamarkt.es/es/category/_port%C3%A1tiles-de-14-a-16-9-701422.html\n",
      "Número de páginas: 8\n"
     ]
    },
    {
     "name": "stderr",
     "output_type": "stream",
     "text": [
      "100%|██████████| 8/8 [00:06<00:00,  1.30it/s]\n"
     ]
    },
    {
     "name": "stdout",
     "output_type": "stream",
     "text": [
      "Escaneando pagina 757 de 1012\n",
      "Scraping: https://www.mediamarkt.es/es/category/_port%C3%A1tiles-gaming-701424.html\n",
      "Número de páginas: 5\n"
     ]
    },
    {
     "name": "stderr",
     "output_type": "stream",
     "text": [
      "100%|██████████| 5/5 [00:05<00:00,  1.04s/it]\n"
     ]
    },
    {
     "name": "stdout",
     "output_type": "stream",
     "text": [
      "Escaneando pagina 758 de 1012\n",
      "Scraping: https://www.mediamarkt.es/es/category/_port%C3%A1tiles-de-menos-de-14-701421.html\n",
      "Número de páginas: 4\n"
     ]
    },
    {
     "name": "stderr",
     "output_type": "stream",
     "text": [
      "100%|██████████| 4/4 [00:03<00:00,  1.26it/s]\n"
     ]
    },
    {
     "name": "stdout",
     "output_type": "stream",
     "text": [
      "Escaneando pagina 759 de 1012\n",
      "Scraping: https://www.mediamarkt.es/es/category/_port%C3%A1tiles-desde-17-701423.html\n"
     ]
    },
    {
     "name": "stderr",
     "output_type": "stream",
     "text": [
      "0it [00:00, ?it/s]\n"
     ]
    },
    {
     "name": "stdout",
     "output_type": "stream",
     "text": [
      "Escaneando pagina 760 de 1012\n",
      "Scraping: https://www.mediamarkt.es/es/category/_port%C3%A1tiles-t%C3%A1ctiles-701425.html\n"
     ]
    },
    {
     "name": "stderr",
     "output_type": "stream",
     "text": [
      "0it [00:00, ?it/s]\n"
     ]
    },
    {
     "name": "stdout",
     "output_type": "stream",
     "text": [
      "Escaneando pagina 761 de 1012\n",
      "Scraping: https://www.mediamarkt.es/es/category/_pc-sobremesa-701176.html\n"
     ]
    },
    {
     "name": "stderr",
     "output_type": "stream",
     "text": [
      "0it [00:00, ?it/s]\n"
     ]
    },
    {
     "name": "stdout",
     "output_type": "stream",
     "text": [
      "Escaneando pagina 762 de 1012\n",
      "Scraping: https://www.mediamarkt.es/es/category/_ordenadores-701427.html\n",
      "Número de páginas: 2\n"
     ]
    },
    {
     "name": "stderr",
     "output_type": "stream",
     "text": [
      "100%|██████████| 2/2 [00:01<00:00,  1.27it/s]\n"
     ]
    },
    {
     "name": "stdout",
     "output_type": "stream",
     "text": [
      "Escaneando pagina 763 de 1012\n",
      "Scraping: https://www.mediamarkt.es/es/category/_pc-gaming-701428.html\n",
      "Número de páginas: 2\n"
     ]
    },
    {
     "name": "stderr",
     "output_type": "stream",
     "text": [
      "100%|██████████| 2/2 [00:01<00:00,  1.15s/it]\n"
     ]
    },
    {
     "name": "stdout",
     "output_type": "stream",
     "text": [
      "Escaneando pagina 764 de 1012\n",
      "Scraping: https://www.mediamarkt.es/es/category/_all-in-one-701430.html\n",
      "Número de páginas: 2\n"
     ]
    },
    {
     "name": "stderr",
     "output_type": "stream",
     "text": [
      "100%|██████████| 2/2 [00:01<00:00,  1.06s/it]\n"
     ]
    },
    {
     "name": "stdout",
     "output_type": "stream",
     "text": [
      "Escaneando pagina 765 de 1012\n",
      "Scraping: https://www.mediamarkt.es/es/category/_mini-pc-701431.html\n"
     ]
    },
    {
     "name": "stderr",
     "output_type": "stream",
     "text": [
      "0it [00:00, ?it/s]\n"
     ]
    },
    {
     "name": "stdout",
     "output_type": "stream",
     "text": [
      "Escaneando pagina 766 de 1012\n",
      "Scraping: https://www.mediamarkt.es/es/category/_raspberry-pi-701432.html\n"
     ]
    },
    {
     "name": "stderr",
     "output_type": "stream",
     "text": [
      "0it [00:00, ?it/s]\n"
     ]
    },
    {
     "name": "stdout",
     "output_type": "stream",
     "text": [
      "Escaneando pagina 767 de 1012\n",
      "Scraping: https://www.mediamarkt.es/es/category/_tablets-701178.html\n"
     ]
    },
    {
     "name": "stderr",
     "output_type": "stream",
     "text": [
      "0it [00:00, ?it/s]\n"
     ]
    },
    {
     "name": "stdout",
     "output_type": "stream",
     "text": [
      "Escaneando pagina 768 de 1012\n",
      "Scraping: https://www.mediamarkt.es/es/category/_todas-las-tablets-701433.html\n",
      "Número de páginas: 5\n"
     ]
    },
    {
     "name": "stderr",
     "output_type": "stream",
     "text": [
      "100%|██████████| 5/5 [00:04<00:00,  1.01it/s]\n"
     ]
    },
    {
     "name": "stdout",
     "output_type": "stream",
     "text": [
      "Escaneando pagina 769 de 1012\n",
      "Scraping: https://www.mediamarkt.es/es/category/_android-701434.html\n",
      "Número de páginas: 4\n"
     ]
    },
    {
     "name": "stderr",
     "output_type": "stream",
     "text": [
      "100%|██████████| 4/4 [00:03<00:00,  1.14it/s]\n"
     ]
    },
    {
     "name": "stdout",
     "output_type": "stream",
     "text": [
      "Escaneando pagina 770 de 1012\n",
      "Scraping: https://www.mediamarkt.es/es/category/_ios-701435.html\n",
      "Número de páginas: 4\n"
     ]
    },
    {
     "name": "stderr",
     "output_type": "stream",
     "text": [
      "100%|██████████| 4/4 [00:03<00:00,  1.13it/s]\n"
     ]
    },
    {
     "name": "stdout",
     "output_type": "stream",
     "text": [
      "Escaneando pagina 771 de 1012\n",
      "Scraping: https://www.mediamarkt.es/es/category/_ipad-702491.html\n"
     ]
    },
    {
     "name": "stderr",
     "output_type": "stream",
     "text": [
      "0it [00:00, ?it/s]\n"
     ]
    },
    {
     "name": "stdout",
     "output_type": "stream",
     "text": [
      "Escaneando pagina 772 de 1012\n",
      "Scraping: https://www.mediamarkt.es/es/category/_ipad-mini-4-702492.html\n"
     ]
    },
    {
     "name": "stderr",
     "output_type": "stream",
     "text": [
      "0it [00:00, ?it/s]\n"
     ]
    },
    {
     "name": "stdout",
     "output_type": "stream",
     "text": [
      "Escaneando pagina 773 de 1012\n",
      "Scraping: https://www.mediamarkt.es/es/category/_ipad-pro-702493.html\n",
      "Número de páginas: 2\n"
     ]
    },
    {
     "name": "stderr",
     "output_type": "stream",
     "text": [
      "100%|██████████| 2/2 [00:01<00:00,  1.27it/s]\n"
     ]
    },
    {
     "name": "stdout",
     "output_type": "stream",
     "text": [
      "Escaneando pagina 774 de 1012\n",
      "Scraping: https://www.mediamarkt.es/es/category/_monitores-701179.html\n"
     ]
    },
    {
     "name": "stderr",
     "output_type": "stream",
     "text": [
      "0it [00:00, ?it/s]\n"
     ]
    },
    {
     "name": "stdout",
     "output_type": "stream",
     "text": [
      "Escaneando pagina 775 de 1012\n",
      "Scraping: https://www.mediamarkt.es/es/category/_monitor-hasta-18-9-701439.html\n"
     ]
    },
    {
     "name": "stderr",
     "output_type": "stream",
     "text": [
      "0it [00:00, ?it/s]\n"
     ]
    },
    {
     "name": "stdout",
     "output_type": "stream",
     "text": [
      "Escaneando pagina 776 de 1012\n",
      "Scraping: https://www.mediamarkt.es/es/category/_monitor-de-19-a-21-9-701440.html\n",
      "Número de páginas: 3\n"
     ]
    },
    {
     "name": "stderr",
     "output_type": "stream",
     "text": [
      "100%|██████████| 3/3 [00:02<00:00,  1.04it/s]\n"
     ]
    },
    {
     "name": "stdout",
     "output_type": "stream",
     "text": [
      "Escaneando pagina 777 de 1012\n",
      "Scraping: https://www.mediamarkt.es/es/category/_monitor-de-22-a-26-9-701441.html\n",
      "Número de páginas: 4\n"
     ]
    },
    {
     "name": "stderr",
     "output_type": "stream",
     "text": [
      "100%|██████████| 4/4 [00:04<00:00,  1.01it/s]\n"
     ]
    },
    {
     "name": "stdout",
     "output_type": "stream",
     "text": [
      "Escaneando pagina 778 de 1012\n",
      "Scraping: https://www.mediamarkt.es/es/category/_monitor-desde-27-701442.html\n",
      "Número de páginas: 6\n"
     ]
    },
    {
     "name": "stderr",
     "output_type": "stream",
     "text": [
      "100%|██████████| 6/6 [00:06<00:00,  1.03s/it]\n"
     ]
    },
    {
     "name": "stdout",
     "output_type": "stream",
     "text": [
      "Escaneando pagina 779 de 1012\n",
      "Scraping: https://www.mediamarkt.es/es/category/_monitores-gaming-701443.html\n",
      "Número de páginas: 3\n"
     ]
    },
    {
     "name": "stderr",
     "output_type": "stream",
     "text": [
      "100%|██████████| 3/3 [00:02<00:00,  1.29it/s]\n"
     ]
    },
    {
     "name": "stdout",
     "output_type": "stream",
     "text": [
      "Escaneando pagina 780 de 1012\n",
      "Scraping: https://www.mediamarkt.es/es/category/_todos-los-monitores-701438.html\n",
      "Número de páginas: 11\n"
     ]
    },
    {
     "name": "stderr",
     "output_type": "stream",
     "text": [
      "100%|██████████| 11/11 [00:11<00:00,  1.00s/it]\n"
     ]
    },
    {
     "name": "stdout",
     "output_type": "stream",
     "text": [
      "Escaneando pagina 781 de 1012\n",
      "Scraping: https://www.mediamarkt.es/es/category/_impresoras-701181.html\n"
     ]
    },
    {
     "name": "stderr",
     "output_type": "stream",
     "text": [
      "0it [00:00, ?it/s]\n"
     ]
    },
    {
     "name": "stdout",
     "output_type": "stream",
     "text": [
      "Escaneando pagina 782 de 1012\n",
      "Scraping: https://www.mediamarkt.es/es/category/_multifunci%C3%B3n-de-tinta-701456.html\n",
      "Número de páginas: 5\n"
     ]
    },
    {
     "name": "stderr",
     "output_type": "stream",
     "text": [
      "100%|██████████| 5/5 [00:05<00:00,  1.07s/it]\n"
     ]
    },
    {
     "name": "stdout",
     "output_type": "stream",
     "text": [
      "Escaneando pagina 783 de 1012\n",
      "Scraping: https://www.mediamarkt.es/es/category/_multifunci%C3%B3n-l%C3%A1ser-701459.html\n",
      "Número de páginas: 2\n"
     ]
    },
    {
     "name": "stderr",
     "output_type": "stream",
     "text": [
      "100%|██████████| 2/2 [00:01<00:00,  1.00it/s]\n"
     ]
    },
    {
     "name": "stdout",
     "output_type": "stream",
     "text": [
      "Escaneando pagina 784 de 1012\n",
      "Scraping: https://www.mediamarkt.es/es/category/_impresora-l%C3%A1ser-701458.html\n",
      "Número de páginas: 2\n"
     ]
    },
    {
     "name": "stderr",
     "output_type": "stream",
     "text": [
      "100%|██████████| 2/2 [00:01<00:00,  1.01it/s]\n"
     ]
    },
    {
     "name": "stdout",
     "output_type": "stream",
     "text": [
      "Escaneando pagina 785 de 1012\n",
      "Scraping: https://www.mediamarkt.es/es/category/_impresoras-fotogr%C3%A1ficas-701457.html\n"
     ]
    },
    {
     "name": "stderr",
     "output_type": "stream",
     "text": [
      "0it [00:00, ?it/s]\n"
     ]
    },
    {
     "name": "stdout",
     "output_type": "stream",
     "text": [
      "Escaneando pagina 786 de 1012\n",
      "Scraping: https://www.mediamarkt.es/es/category/_impresora-de-tinta-701455.html\n",
      "Número de páginas: 2\n"
     ]
    },
    {
     "name": "stderr",
     "output_type": "stream",
     "text": [
      "100%|██████████| 2/2 [00:01<00:00,  1.05s/it]\n"
     ]
    },
    {
     "name": "stdout",
     "output_type": "stream",
     "text": [
      "Escaneando pagina 787 de 1012\n",
      "Scraping: https://www.mediamarkt.es/es/category/_impresora-l%C3%A1ser-color-701460.html\n",
      "Número de páginas: 2\n"
     ]
    },
    {
     "name": "stderr",
     "output_type": "stream",
     "text": [
      "100%|██████████| 2/2 [00:01<00:00,  1.05it/s]\n"
     ]
    },
    {
     "name": "stdout",
     "output_type": "stream",
     "text": [
      "Escaneando pagina 788 de 1012\n",
      "Scraping: https://www.mediamarkt.es/es/category/_multifunci%C3%B3n-l%C3%A1ser-color-701461.html\n"
     ]
    },
    {
     "name": "stderr",
     "output_type": "stream",
     "text": [
      "0it [00:00, ?it/s]\n"
     ]
    },
    {
     "name": "stdout",
     "output_type": "stream",
     "text": [
      "Escaneando pagina 789 de 1012\n",
      "Scraping: https://www.mediamarkt.es/es/category/_impresora-3d-701454.html\n"
     ]
    },
    {
     "name": "stderr",
     "output_type": "stream",
     "text": [
      "0it [00:00, ?it/s]\n"
     ]
    },
    {
     "name": "stdout",
     "output_type": "stream",
     "text": [
      "Escaneando pagina 790 de 1012\n",
      "Scraping: https://www.mediamarkt.es/es/category/_impresoras-de-etiquetas-701463.html\n",
      "Número de páginas: 2\n"
     ]
    },
    {
     "name": "stderr",
     "output_type": "stream",
     "text": [
      "100%|██████████| 2/2 [00:01<00:00,  1.20it/s]\n"
     ]
    },
    {
     "name": "stdout",
     "output_type": "stream",
     "text": [
      "Escaneando pagina 791 de 1012\n",
      "Scraping: https://www.mediamarkt.es/es/category/_todas-las-impresoras-701453.html\n",
      "Número de páginas: 7\n"
     ]
    },
    {
     "name": "stderr",
     "output_type": "stream",
     "text": [
      "100%|██████████| 7/7 [00:06<00:00,  1.02it/s]\n"
     ]
    },
    {
     "name": "stdout",
     "output_type": "stream",
     "text": [
      "Escaneando pagina 792 de 1012\n",
      "Scraping: https://www.mediamarkt.es/es/category/_scanners-701185.html\n",
      "Número de páginas: 2\n"
     ]
    },
    {
     "name": "stderr",
     "output_type": "stream",
     "text": [
      "100%|██████████| 2/2 [00:02<00:00,  1.41s/it]\n"
     ]
    },
    {
     "name": "stdout",
     "output_type": "stream",
     "text": [
      "Escaneando pagina 793 de 1012\n",
      "Scraping: https://www.mediamarkt.es/es/category/_gaming-701174.html\n"
     ]
    },
    {
     "name": "stderr",
     "output_type": "stream",
     "text": [
      "0it [00:00, ?it/s]\n"
     ]
    },
    {
     "name": "stdout",
     "output_type": "stream",
     "text": [
      "Escaneando pagina 794 de 1012\n",
      "Scraping: https://www.mediamarkt.es/es/category/_port%C3%A1tiles-gaming-701410.html\n",
      "Número de páginas: 5\n"
     ]
    },
    {
     "name": "stderr",
     "output_type": "stream",
     "text": [
      "100%|██████████| 5/5 [00:04<00:00,  1.22it/s]\n"
     ]
    },
    {
     "name": "stdout",
     "output_type": "stream",
     "text": [
      "Escaneando pagina 795 de 1012\n",
      "Scraping: https://www.mediamarkt.es/es/category/_pc-gaming-701411.html\n",
      "Número de páginas: 2\n"
     ]
    },
    {
     "name": "stderr",
     "output_type": "stream",
     "text": [
      "100%|██████████| 2/2 [00:01<00:00,  1.56it/s]\n"
     ]
    },
    {
     "name": "stdout",
     "output_type": "stream",
     "text": [
      "Escaneando pagina 796 de 1012\n",
      "Scraping: https://www.mediamarkt.es/es/category/_monitores-gaming-701412.html\n",
      "Número de páginas: 3\n"
     ]
    },
    {
     "name": "stderr",
     "output_type": "stream",
     "text": [
      "100%|██████████| 3/3 [00:02<00:00,  1.29it/s]\n"
     ]
    },
    {
     "name": "stdout",
     "output_type": "stream",
     "text": [
      "Escaneando pagina 797 de 1012\n",
      "Scraping: https://www.mediamarkt.es/es/category/_teclados-y-ratones-gaming-701414.html\n",
      "Número de páginas: 8\n"
     ]
    },
    {
     "name": "stderr",
     "output_type": "stream",
     "text": [
      "100%|██████████| 8/8 [00:09<00:00,  1.20s/it]\n"
     ]
    },
    {
     "name": "stdout",
     "output_type": "stream",
     "text": [
      "Escaneando pagina 798 de 1012\n",
      "Scraping: https://www.mediamarkt.es/es/category/_teclados-702477.html\n",
      "Número de páginas: 2\n"
     ]
    },
    {
     "name": "stderr",
     "output_type": "stream",
     "text": [
      "100%|██████████| 2/2 [00:01<00:00,  1.34it/s]\n"
     ]
    },
    {
     "name": "stdout",
     "output_type": "stream",
     "text": [
      "Escaneando pagina 799 de 1012\n",
      "Scraping: https://www.mediamarkt.es/es/category/_alfombrillas-gaming-702478.html\n",
      "Número de páginas: 3\n"
     ]
    },
    {
     "name": "stderr",
     "output_type": "stream",
     "text": [
      "100%|██████████| 3/3 [00:03<00:00,  1.18s/it]\n"
     ]
    },
    {
     "name": "stdout",
     "output_type": "stream",
     "text": [
      "Escaneando pagina 800 de 1012\n",
      "Scraping: https://www.mediamarkt.es/es/category/_ratones-gaming-pc-702479.html\n",
      "Número de páginas: 4\n"
     ]
    },
    {
     "name": "stderr",
     "output_type": "stream",
     "text": [
      "100%|██████████| 4/4 [00:03<00:00,  1.11it/s]\n"
     ]
    },
    {
     "name": "stdout",
     "output_type": "stream",
     "text": [
      "Escaneando pagina 801 de 1012\n",
      "Scraping: https://www.mediamarkt.es/es/category/_sillas-y-mesas-gaming-701417.html\n",
      "Número de páginas: 3\n"
     ]
    },
    {
     "name": "stderr",
     "output_type": "stream",
     "text": [
      "100%|██████████| 3/3 [00:03<00:00,  1.10s/it]\n"
     ]
    },
    {
     "name": "stdout",
     "output_type": "stream",
     "text": [
      "Escaneando pagina 802 de 1012\n",
      "Scraping: https://www.mediamarkt.es/es/category/_sillas-gaming-702489.html\n",
      "Número de páginas: 2\n"
     ]
    },
    {
     "name": "stderr",
     "output_type": "stream",
     "text": [
      "100%|██████████| 2/2 [00:01<00:00,  1.19it/s]\n"
     ]
    },
    {
     "name": "stdout",
     "output_type": "stream",
     "text": [
      "Escaneando pagina 803 de 1012\n",
      "Scraping: https://www.mediamarkt.es/es/category/_mesas-gaming-702490.html\n"
     ]
    },
    {
     "name": "stderr",
     "output_type": "stream",
     "text": [
      "0it [00:00, ?it/s]\n"
     ]
    },
    {
     "name": "stdout",
     "output_type": "stream",
     "text": [
      "Escaneando pagina 804 de 1012\n",
      "Scraping: https://www.mediamarkt.es/es/category/_componentes-y-accesorios-gaming-701413.html\n",
      "Número de páginas: 3\n"
     ]
    },
    {
     "name": "stderr",
     "output_type": "stream",
     "text": [
      "100%|██████████| 3/3 [00:03<00:00,  1.16s/it]\n"
     ]
    },
    {
     "name": "stdout",
     "output_type": "stream",
     "text": [
      "Escaneando pagina 805 de 1012\n",
      "Scraping: https://www.mediamarkt.es/es/category/_procesadores-gaming-702470.html\n"
     ]
    },
    {
     "name": "stderr",
     "output_type": "stream",
     "text": [
      "0it [00:00, ?it/s]\n"
     ]
    },
    {
     "name": "stdout",
     "output_type": "stream",
     "text": [
      "Escaneando pagina 806 de 1012\n",
      "Scraping: https://www.mediamarkt.es/es/category/_tarjetas-gr%C3%A1ficas-gaming-702471.html\n",
      "Número de páginas: 2\n"
     ]
    },
    {
     "name": "stderr",
     "output_type": "stream",
     "text": [
      "100%|██████████| 2/2 [00:01<00:00,  1.30it/s]\n"
     ]
    },
    {
     "name": "stdout",
     "output_type": "stream",
     "text": [
      "Escaneando pagina 807 de 1012\n",
      "Scraping: https://www.mediamarkt.es/es/category/_memorias-ram-gaming-702473.html\n"
     ]
    },
    {
     "name": "stderr",
     "output_type": "stream",
     "text": [
      "0it [00:00, ?it/s]\n"
     ]
    },
    {
     "name": "stdout",
     "output_type": "stream",
     "text": [
      "Escaneando pagina 808 de 1012\n",
      "Scraping: https://www.mediamarkt.es/es/category/_placas-base-gaming-702474.html\n"
     ]
    },
    {
     "name": "stderr",
     "output_type": "stream",
     "text": [
      "0it [00:00, ?it/s]\n"
     ]
    },
    {
     "name": "stdout",
     "output_type": "stream",
     "text": [
      "Escaneando pagina 809 de 1012\n",
      "Scraping: https://www.mediamarkt.es/es/category/_routers-gaming-702475.html\n"
     ]
    },
    {
     "name": "stderr",
     "output_type": "stream",
     "text": [
      "0it [00:00, ?it/s]\n"
     ]
    },
    {
     "name": "stdout",
     "output_type": "stream",
     "text": [
      "Escaneando pagina 810 de 1012\n",
      "Scraping: https://www.mediamarkt.es/es/category/_audio-y-video-gaming-701415.html\n",
      "Número de páginas: 8\n"
     ]
    },
    {
     "name": "stderr",
     "output_type": "stream",
     "text": [
      "100%|██████████| 8/8 [00:07<00:00,  1.01it/s]\n"
     ]
    },
    {
     "name": "stdout",
     "output_type": "stream",
     "text": [
      "Escaneando pagina 811 de 1012\n",
      "Scraping: https://www.mediamarkt.es/es/category/_auriculares-gaming-702480.html\n",
      "Número de páginas: 6\n"
     ]
    },
    {
     "name": "stderr",
     "output_type": "stream",
     "text": [
      "100%|██████████| 6/6 [00:06<00:00,  1.14s/it]\n"
     ]
    },
    {
     "name": "stdout",
     "output_type": "stream",
     "text": [
      "Escaneando pagina 812 de 1012\n",
      "Scraping: https://www.mediamarkt.es/es/category/_altavoces-gaming-702481.html\n"
     ]
    },
    {
     "name": "stderr",
     "output_type": "stream",
     "text": [
      "0it [00:00, ?it/s]\n"
     ]
    },
    {
     "name": "stdout",
     "output_type": "stream",
     "text": [
      "Escaneando pagina 813 de 1012\n",
      "Scraping: https://www.mediamarkt.es/es/category/_capturadoras-gaming-702482.html\n"
     ]
    },
    {
     "name": "stderr",
     "output_type": "stream",
     "text": [
      "0it [00:00, ?it/s]\n"
     ]
    },
    {
     "name": "stdout",
     "output_type": "stream",
     "text": [
      "Escaneando pagina 814 de 1012\n",
      "Scraping: https://www.mediamarkt.es/es/category/_gafas-gaming-702483.html\n"
     ]
    },
    {
     "name": "stderr",
     "output_type": "stream",
     "text": [
      "0it [00:00, ?it/s]\n"
     ]
    },
    {
     "name": "stdout",
     "output_type": "stream",
     "text": [
      "Escaneando pagina 815 de 1012\n",
      "Scraping: https://www.mediamarkt.es/es/category/_mandos-y-simuladores-gaming-701416.html\n",
      "Número de páginas: 2\n"
     ]
    },
    {
     "name": "stderr",
     "output_type": "stream",
     "text": [
      "100%|██████████| 2/2 [00:01<00:00,  1.31it/s]\n"
     ]
    },
    {
     "name": "stdout",
     "output_type": "stream",
     "text": [
      "Escaneando pagina 816 de 1012\n",
      "Scraping: https://www.mediamarkt.es/es/category/_gamepads-702484.html\n"
     ]
    },
    {
     "name": "stderr",
     "output_type": "stream",
     "text": [
      "0it [00:00, ?it/s]\n"
     ]
    },
    {
     "name": "stdout",
     "output_type": "stream",
     "text": [
      "Escaneando pagina 817 de 1012\n",
      "Scraping: https://www.mediamarkt.es/es/category/_joysticks-702485.html\n"
     ]
    },
    {
     "name": "stderr",
     "output_type": "stream",
     "text": [
      "0it [00:00, ?it/s]\n"
     ]
    },
    {
     "name": "stdout",
     "output_type": "stream",
     "text": [
      "Escaneando pagina 818 de 1012\n",
      "Scraping: https://www.mediamarkt.es/es/category/_volantes-pc-gaming-702486.html\n"
     ]
    },
    {
     "name": "stderr",
     "output_type": "stream",
     "text": [
      "0it [00:00, ?it/s]\n"
     ]
    },
    {
     "name": "stdout",
     "output_type": "stream",
     "text": [
      "Escaneando pagina 819 de 1012\n",
      "Scraping: https://www.mediamarkt.es/es/category/_pedales-gaming-702487.html\n"
     ]
    },
    {
     "name": "stderr",
     "output_type": "stream",
     "text": [
      "0it [00:00, ?it/s]\n"
     ]
    },
    {
     "name": "stdout",
     "output_type": "stream",
     "text": [
      "Escaneando pagina 820 de 1012\n",
      "Scraping: https://www.mediamarkt.es/es/category/_simuladores-de-vuelo-702488.html\n"
     ]
    },
    {
     "name": "stderr",
     "output_type": "stream",
     "text": [
      "0it [00:00, ?it/s]\n"
     ]
    },
    {
     "name": "stdout",
     "output_type": "stream",
     "text": [
      "Escaneando pagina 821 de 1012\n",
      "Scraping: https://www.mediamarkt.es/es/category/_juegos-pc-y-videojuegos-701418.html\n",
      "Número de páginas: 4\n"
     ]
    },
    {
     "name": "stderr",
     "output_type": "stream",
     "text": [
      "100%|██████████| 4/4 [00:04<00:00,  1.20s/it]\n"
     ]
    },
    {
     "name": "stdout",
     "output_type": "stream",
     "text": [
      "Escaneando pagina 822 de 1012\n",
      "Scraping: https://www.mediamarkt.es/es/category/_acc-de-inform%C3%A1tica-701173.html\n"
     ]
    },
    {
     "name": "stderr",
     "output_type": "stream",
     "text": [
      "0it [00:00, ?it/s]\n"
     ]
    },
    {
     "name": "stdout",
     "output_type": "stream",
     "text": [
      "Escaneando pagina 823 de 1012\n",
      "Scraping: https://www.mediamarkt.es/es/category/_almacenamiento-701180.html\n"
     ]
    },
    {
     "name": "stderr",
     "output_type": "stream",
     "text": [
      "0it [00:00, ?it/s]\n"
     ]
    },
    {
     "name": "stdout",
     "output_type": "stream",
     "text": [
      "Escaneando pagina 824 de 1012\n",
      "Scraping: https://www.mediamarkt.es/es/category/_discos-duros-externos-701445.html\n",
      "Número de páginas: 7\n"
     ]
    },
    {
     "name": "stderr",
     "output_type": "stream",
     "text": [
      "100%|██████████| 7/7 [00:07<00:00,  1.02s/it]\n"
     ]
    },
    {
     "name": "stdout",
     "output_type": "stream",
     "text": [
      "Escaneando pagina 825 de 1012\n",
      "Scraping: https://www.mediamarkt.es/es/category/_discos-duros-externos-2-5-702495.html\n",
      "Número de páginas: 4\n"
     ]
    },
    {
     "name": "stderr",
     "output_type": "stream",
     "text": [
      "100%|██████████| 4/4 [00:05<00:00,  1.39s/it]\n"
     ]
    },
    {
     "name": "stdout",
     "output_type": "stream",
     "text": [
      "Escaneando pagina 826 de 1012\n",
      "Scraping: https://www.mediamarkt.es/es/category/_discos-duros-externos-3-5-702496.html\n"
     ]
    },
    {
     "name": "stderr",
     "output_type": "stream",
     "text": [
      "0it [00:00, ?it/s]\n"
     ]
    },
    {
     "name": "stdout",
     "output_type": "stream",
     "text": [
      "Escaneando pagina 827 de 1012\n",
      "Scraping: https://www.mediamarkt.es/es/category/_reproductor-multimedia-702498.html\n"
     ]
    },
    {
     "name": "stderr",
     "output_type": "stream",
     "text": [
      "0it [00:00, ?it/s]\n"
     ]
    },
    {
     "name": "stdout",
     "output_type": "stream",
     "text": [
      "Escaneando pagina 828 de 1012\n",
      "Scraping: https://www.mediamarkt.es/es/category/_discos-para-apple-702499.html\n"
     ]
    },
    {
     "name": "stderr",
     "output_type": "stream",
     "text": [
      "0it [00:00, ?it/s]\n"
     ]
    },
    {
     "name": "stdout",
     "output_type": "stream",
     "text": [
      "Escaneando pagina 829 de 1012\n",
      "Scraping: https://www.mediamarkt.es/es/category/_ssd-701447.html\n",
      "Número de páginas: 3\n"
     ]
    },
    {
     "name": "stderr",
     "output_type": "stream",
     "text": [
      "100%|██████████| 3/3 [00:03<00:00,  1.19s/it]\n"
     ]
    },
    {
     "name": "stdout",
     "output_type": "stream",
     "text": [
      "Escaneando pagina 830 de 1012\n",
      "Scraping: https://www.mediamarkt.es/es/category/_ssd-externo-702503.html\n"
     ]
    },
    {
     "name": "stderr",
     "output_type": "stream",
     "text": [
      "0it [00:00, ?it/s]\n"
     ]
    },
    {
     "name": "stdout",
     "output_type": "stream",
     "text": [
      "Escaneando pagina 831 de 1012\n",
      "Scraping: https://www.mediamarkt.es/es/category/_ssd-internos-702504.html\n",
      "Número de páginas: 3\n"
     ]
    },
    {
     "name": "stderr",
     "output_type": "stream",
     "text": [
      "100%|██████████| 3/3 [00:03<00:00,  1.18s/it]\n"
     ]
    },
    {
     "name": "stdout",
     "output_type": "stream",
     "text": [
      "Escaneando pagina 832 de 1012\n",
      "Scraping: https://www.mediamarkt.es/es/category/_nas-701448.html\n",
      "Número de páginas: 2\n"
     ]
    },
    {
     "name": "stderr",
     "output_type": "stream",
     "text": [
      "100%|██████████| 2/2 [00:02<00:00,  1.29s/it]\n"
     ]
    },
    {
     "name": "stdout",
     "output_type": "stream",
     "text": [
      "Escaneando pagina 833 de 1012\n",
      "Scraping: https://www.mediamarkt.es/es/category/_disco-nas-cloud-702505.html\n"
     ]
    },
    {
     "name": "stderr",
     "output_type": "stream",
     "text": [
      "0it [00:00, ?it/s]\n"
     ]
    },
    {
     "name": "stdout",
     "output_type": "stream",
     "text": [
      "Escaneando pagina 834 de 1012\n",
      "Scraping: https://www.mediamarkt.es/es/category/_nas-1-bah%C3%ADa-702507.html\n"
     ]
    },
    {
     "name": "stderr",
     "output_type": "stream",
     "text": [
      "0it [00:00, ?it/s]\n"
     ]
    },
    {
     "name": "stdout",
     "output_type": "stream",
     "text": [
      "Escaneando pagina 835 de 1012\n",
      "Scraping: https://www.mediamarkt.es/es/category/_nas-2-bah%C3%ADas-702508.html\n"
     ]
    },
    {
     "name": "stderr",
     "output_type": "stream",
     "text": [
      "0it [00:00, ?it/s]\n"
     ]
    },
    {
     "name": "stdout",
     "output_type": "stream",
     "text": [
      "Escaneando pagina 836 de 1012\n",
      "Scraping: https://www.mediamarkt.es/es/category/_nas-4-bah%C3%ADas-702509.html\n"
     ]
    },
    {
     "name": "stderr",
     "output_type": "stream",
     "text": [
      "0it [00:00, ?it/s]\n"
     ]
    },
    {
     "name": "stdout",
     "output_type": "stream",
     "text": [
      "Escaneando pagina 837 de 1012\n",
      "Scraping: https://www.mediamarkt.es/es/category/_pendrives-y-memorias-usb-701449.html\n",
      "Número de páginas: 7\n"
     ]
    },
    {
     "name": "stderr",
     "output_type": "stream",
     "text": [
      "100%|██████████| 7/7 [00:09<00:00,  1.20s/it]\n"
     ]
    },
    {
     "name": "stdout",
     "output_type": "stream",
     "text": [
      "Escaneando pagina 838 de 1012\n",
      "Scraping: https://www.mediamarkt.es/es/category/_memorias-usb-pendrive-de-4gb-702510.html\n"
     ]
    },
    {
     "name": "stderr",
     "output_type": "stream",
     "text": [
      "0it [00:00, ?it/s]\n"
     ]
    },
    {
     "name": "stdout",
     "output_type": "stream",
     "text": [
      "Escaneando pagina 839 de 1012\n",
      "Scraping: https://www.mediamarkt.es/es/category/_memorias-usb-pendrive-de-8gb-702511.html\n"
     ]
    },
    {
     "name": "stderr",
     "output_type": "stream",
     "text": [
      "0it [00:00, ?it/s]\n"
     ]
    },
    {
     "name": "stdout",
     "output_type": "stream",
     "text": [
      "Escaneando pagina 840 de 1012\n",
      "Scraping: https://www.mediamarkt.es/es/category/_memorias-usb-pendrive-de-16gb-702512.html\n",
      "Número de páginas: 2\n"
     ]
    },
    {
     "name": "stderr",
     "output_type": "stream",
     "text": [
      "100%|██████████| 2/2 [00:01<00:00,  1.37it/s]\n"
     ]
    },
    {
     "name": "stdout",
     "output_type": "stream",
     "text": [
      "Escaneando pagina 841 de 1012\n",
      "Scraping: https://www.mediamarkt.es/es/category/_memorias-usb-pendrive-de-32gb-702513.html\n"
     ]
    },
    {
     "name": "stderr",
     "output_type": "stream",
     "text": [
      "0it [00:00, ?it/s]\n"
     ]
    },
    {
     "name": "stdout",
     "output_type": "stream",
     "text": [
      "Escaneando pagina 842 de 1012\n",
      "Scraping: https://www.mediamarkt.es/es/category/_memorias-usb-pendrive-de-64gb-702514.html\n",
      "Número de páginas: 2\n"
     ]
    },
    {
     "name": "stderr",
     "output_type": "stream",
     "text": [
      "100%|██████████| 2/2 [00:01<00:00,  1.10s/it]\n"
     ]
    },
    {
     "name": "stdout",
     "output_type": "stream",
     "text": [
      "Escaneando pagina 843 de 1012\n",
      "Scraping: https://www.mediamarkt.es/es/category/_memorias-usb-pendrive-de-128gb-702515.html\n"
     ]
    },
    {
     "name": "stderr",
     "output_type": "stream",
     "text": [
      "0it [00:00, ?it/s]\n"
     ]
    },
    {
     "name": "stdout",
     "output_type": "stream",
     "text": [
      "Escaneando pagina 844 de 1012\n",
      "Scraping: https://www.mediamarkt.es/es/category/_memorias-usb-pendrive-de-256gb-702516.html\n"
     ]
    },
    {
     "name": "stderr",
     "output_type": "stream",
     "text": [
      "0it [00:00, ?it/s]\n"
     ]
    },
    {
     "name": "stdout",
     "output_type": "stream",
     "text": [
      "Escaneando pagina 845 de 1012\n",
      "Scraping: https://www.mediamarkt.es/es/category/_otg-android-702517.html\n"
     ]
    },
    {
     "name": "stderr",
     "output_type": "stream",
     "text": [
      "0it [00:00, ?it/s]\n"
     ]
    },
    {
     "name": "stdout",
     "output_type": "stream",
     "text": [
      "Escaneando pagina 846 de 1012\n",
      "Scraping: https://www.mediamarkt.es/es/category/_usb-tipo-c-702519.html\n"
     ]
    },
    {
     "name": "stderr",
     "output_type": "stream",
     "text": [
      "0it [00:00, ?it/s]\n"
     ]
    },
    {
     "name": "stdout",
     "output_type": "stream",
     "text": [
      "Escaneando pagina 847 de 1012\n",
      "Scraping: https://www.mediamarkt.es/es/category/_pendrives-originales-712016.html\n"
     ]
    },
    {
     "name": "stderr",
     "output_type": "stream",
     "text": [
      "0it [00:00, ?it/s]\n"
     ]
    },
    {
     "name": "stdout",
     "output_type": "stream",
     "text": [
      "Escaneando pagina 848 de 1012\n",
      "Scraping: https://www.mediamarkt.es/es/category/_discos-duros-internos-701446.html\n",
      "Número de páginas: 3\n"
     ]
    },
    {
     "name": "stderr",
     "output_type": "stream",
     "text": [
      "100%|██████████| 3/3 [00:03<00:00,  1.10s/it]\n"
     ]
    },
    {
     "name": "stdout",
     "output_type": "stream",
     "text": [
      "Escaneando pagina 849 de 1012\n",
      "Scraping: https://www.mediamarkt.es/es/category/_discos-internos-2-5-702500.html\n"
     ]
    },
    {
     "name": "stderr",
     "output_type": "stream",
     "text": [
      "0it [00:00, ?it/s]\n"
     ]
    },
    {
     "name": "stdout",
     "output_type": "stream",
     "text": [
      "Escaneando pagina 850 de 1012\n",
      "Scraping: https://www.mediamarkt.es/es/category/_discos-internos-3-5-702501.html\n",
      "Número de páginas: 2\n"
     ]
    },
    {
     "name": "stderr",
     "output_type": "stream",
     "text": [
      "100%|██████████| 2/2 [00:02<00:00,  1.26s/it]\n"
     ]
    },
    {
     "name": "stdout",
     "output_type": "stream",
     "text": [
      "Escaneando pagina 851 de 1012\n",
      "Scraping: https://www.mediamarkt.es/es/category/_discos-internos-h%C3%ADbridos-702502.html\n"
     ]
    },
    {
     "name": "stderr",
     "output_type": "stream",
     "text": [
      "0it [00:00, ?it/s]\n"
     ]
    },
    {
     "name": "stdout",
     "output_type": "stream",
     "text": [
      "Escaneando pagina 852 de 1012\n",
      "Scraping: https://www.mediamarkt.es/es/category/_tarjetas-de-memoria-701450.html\n",
      "Número de páginas: 4\n"
     ]
    },
    {
     "name": "stderr",
     "output_type": "stream",
     "text": [
      "100%|██████████| 4/4 [00:04<00:00,  1.15s/it]\n"
     ]
    },
    {
     "name": "stdout",
     "output_type": "stream",
     "text": [
      "Escaneando pagina 853 de 1012\n",
      "Scraping: https://www.mediamarkt.es/es/category/_tarjetas-sdhc-702520.html\n",
      "Número de páginas: 2\n"
     ]
    },
    {
     "name": "stderr",
     "output_type": "stream",
     "text": [
      "100%|██████████| 2/2 [00:02<00:00,  1.00it/s]\n"
     ]
    },
    {
     "name": "stdout",
     "output_type": "stream",
     "text": [
      "Escaneando pagina 854 de 1012\n",
      "Scraping: https://www.mediamarkt.es/es/category/_tarjetas-micro-sd-702521.html\n",
      "Número de páginas: 2\n"
     ]
    },
    {
     "name": "stderr",
     "output_type": "stream",
     "text": [
      "100%|██████████| 2/2 [00:02<00:00,  1.05it/s]\n"
     ]
    },
    {
     "name": "stdout",
     "output_type": "stream",
     "text": [
      "Escaneando pagina 855 de 1012\n",
      "Scraping: https://www.mediamarkt.es/es/category/_tarjetas-compact-flash-702522.html\n"
     ]
    },
    {
     "name": "stderr",
     "output_type": "stream",
     "text": [
      "0it [00:00, ?it/s]\n"
     ]
    },
    {
     "name": "stdout",
     "output_type": "stream",
     "text": [
      "Escaneando pagina 856 de 1012\n",
      "Scraping: https://www.mediamarkt.es/es/category/_tarjetas-red-wifi-702523.html\n"
     ]
    },
    {
     "name": "stderr",
     "output_type": "stream",
     "text": [
      "0it [00:00, ?it/s]\n"
     ]
    },
    {
     "name": "stdout",
     "output_type": "stream",
     "text": [
      "Escaneando pagina 857 de 1012\n",
      "Scraping: https://www.mediamarkt.es/es/category/_lectores-de-tarjetas-y-dni-electr%C3%B3nico-702524.html\n"
     ]
    },
    {
     "name": "stderr",
     "output_type": "stream",
     "text": [
      "0it [00:00, ?it/s]\n"
     ]
    },
    {
     "name": "stdout",
     "output_type": "stream",
     "text": [
      "Escaneando pagina 858 de 1012\n",
      "Scraping: https://www.mediamarkt.es/es/category/_cajas-y-accesorios-disco-duro-701452.html\n"
     ]
    },
    {
     "name": "stderr",
     "output_type": "stream",
     "text": [
      "0it [00:00, ?it/s]\n"
     ]
    },
    {
     "name": "stdout",
     "output_type": "stream",
     "text": [
      "Escaneando pagina 859 de 1012\n",
      "Scraping: https://www.mediamarkt.es/es/category/_fundas-disco-duro-701451.html\n"
     ]
    },
    {
     "name": "stderr",
     "output_type": "stream",
     "text": [
      "0it [00:00, ?it/s]\n"
     ]
    },
    {
     "name": "stdout",
     "output_type": "stream",
     "text": [
      "Escaneando pagina 860 de 1012\n",
      "Scraping: https://www.mediamarkt.es/es/category/_cartuchos-y-consumibles-701184.html\n",
      "Número de páginas: 38\n"
     ]
    },
    {
     "name": "stderr",
     "output_type": "stream",
     "text": [
      "100%|██████████| 38/38 [00:46<00:00,  1.03s/it]\n"
     ]
    },
    {
     "name": "stdout",
     "output_type": "stream",
     "text": [
      "Escaneando pagina 861 de 1012\n",
      "Scraping: https://www.mediamarkt.es/es/category/_cartuchos-de-tinta-701465.html\n",
      "Número de páginas: 26\n"
     ]
    },
    {
     "name": "stderr",
     "output_type": "stream",
     "text": [
      "100%|██████████| 26/26 [00:31<00:00,  1.07it/s]\n"
     ]
    },
    {
     "name": "stdout",
     "output_type": "stream",
     "text": [
      "Escaneando pagina 862 de 1012\n",
      "Scraping: https://www.mediamarkt.es/es/category/_t%C3%B3ners-701469.html\n",
      "Número de páginas: 9\n"
     ]
    },
    {
     "name": "stderr",
     "output_type": "stream",
     "text": [
      "100%|██████████| 9/9 [00:12<00:00,  1.47s/it]\n"
     ]
    },
    {
     "name": "stdout",
     "output_type": "stream",
     "text": [
      "Escaneando pagina 863 de 1012\n",
      "Scraping: https://www.mediamarkt.es/es/category/_bobinas-impresoras-3d-701464.html\n"
     ]
    },
    {
     "name": "stderr",
     "output_type": "stream",
     "text": [
      "0it [00:00, ?it/s]\n"
     ]
    },
    {
     "name": "stdout",
     "output_type": "stream",
     "text": [
      "Escaneando pagina 864 de 1012\n",
      "Scraping: https://www.mediamarkt.es/es/category/_cintas-de-impresi%C3%B3n-701466.html\n"
     ]
    },
    {
     "name": "stderr",
     "output_type": "stream",
     "text": [
      "0it [00:00, ?it/s]\n"
     ]
    },
    {
     "name": "stdout",
     "output_type": "stream",
     "text": [
      "Escaneando pagina 865 de 1012\n",
      "Scraping: https://www.mediamarkt.es/es/category/_papel-impresoras-701467.html\n",
      "Número de páginas: 3\n"
     ]
    },
    {
     "name": "stderr",
     "output_type": "stream",
     "text": [
      "100%|██████████| 3/3 [00:02<00:00,  1.06it/s]\n"
     ]
    },
    {
     "name": "stdout",
     "output_type": "stream",
     "text": [
      "Escaneando pagina 866 de 1012\n",
      "Scraping: https://www.mediamarkt.es/es/category/_tambores-impresora-701468.html\n"
     ]
    },
    {
     "name": "stderr",
     "output_type": "stream",
     "text": [
      "0it [00:00, ?it/s]\n"
     ]
    },
    {
     "name": "stdout",
     "output_type": "stream",
     "text": [
      "Escaneando pagina 867 de 1012\n",
      "Scraping: https://www.mediamarkt.es/es/category/_accesorios-cartuchos-y-consumibles-701470.html\n"
     ]
    },
    {
     "name": "stderr",
     "output_type": "stream",
     "text": [
      "0it [00:00, ?it/s]\n"
     ]
    },
    {
     "name": "stdout",
     "output_type": "stream",
     "text": [
      "Escaneando pagina 868 de 1012\n",
      "Scraping: https://www.mediamarkt.es/es/category/_redes-y-conectividad-701405.html\n",
      "Número de páginas: 15\n"
     ]
    },
    {
     "name": "stderr",
     "output_type": "stream",
     "text": [
      "100%|██████████| 15/15 [00:24<00:00,  1.56s/it]\n"
     ]
    },
    {
     "name": "stdout",
     "output_type": "stream",
     "text": [
      "Escaneando pagina 869 de 1012\n",
      "Scraping: https://www.mediamarkt.es/es/category/_antenas-702448.html\n"
     ]
    },
    {
     "name": "stderr",
     "output_type": "stream",
     "text": [
      "0it [00:00, ?it/s]\n"
     ]
    },
    {
     "name": "stdout",
     "output_type": "stream",
     "text": [
      "Escaneando pagina 870 de 1012\n",
      "Scraping: https://www.mediamarkt.es/es/category/_adaptador-de-red-702449.html\n",
      "Número de páginas: 2\n"
     ]
    },
    {
     "name": "stderr",
     "output_type": "stream",
     "text": [
      "100%|██████████| 2/2 [00:02<00:00,  1.41s/it]\n"
     ]
    },
    {
     "name": "stdout",
     "output_type": "stream",
     "text": [
      "Escaneando pagina 871 de 1012\n",
      "Scraping: https://www.mediamarkt.es/es/category/_adaptadores-usb-702450.html\n",
      "Número de páginas: 2\n"
     ]
    },
    {
     "name": "stderr",
     "output_type": "stream",
     "text": [
      "100%|██████████| 2/2 [00:01<00:00,  1.12it/s]\n"
     ]
    },
    {
     "name": "stdout",
     "output_type": "stream",
     "text": [
      "Escaneando pagina 872 de 1012\n",
      "Scraping: https://www.mediamarkt.es/es/category/_amplificador-wifi-702451.html\n",
      "Número de páginas: 2\n"
     ]
    },
    {
     "name": "stderr",
     "output_type": "stream",
     "text": [
      "100%|██████████| 2/2 [00:02<00:00,  1.17s/it]\n"
     ]
    },
    {
     "name": "stdout",
     "output_type": "stream",
     "text": [
      "Escaneando pagina 873 de 1012\n",
      "Scraping: https://www.mediamarkt.es/es/category/_switch-702453.html\n",
      "Número de páginas: 6\n"
     ]
    },
    {
     "name": "stderr",
     "output_type": "stream",
     "text": [
      "100%|██████████| 6/6 [00:07<00:00,  1.12s/it]\n"
     ]
    },
    {
     "name": "stdout",
     "output_type": "stream",
     "text": [
      "Escaneando pagina 874 de 1012\n",
      "Scraping: https://www.mediamarkt.es/es/category/_punto-de-acceso-702454.html\n",
      "Número de páginas: 2\n"
     ]
    },
    {
     "name": "stderr",
     "output_type": "stream",
     "text": [
      "100%|██████████| 2/2 [00:02<00:00,  1.03s/it]\n"
     ]
    },
    {
     "name": "stdout",
     "output_type": "stream",
     "text": [
      "Escaneando pagina 875 de 1012\n",
      "Scraping: https://www.mediamarkt.es/es/category/_modem-router-wifi-702455.html\n",
      "Número de páginas: 5\n"
     ]
    },
    {
     "name": "stderr",
     "output_type": "stream",
     "text": [
      "100%|██████████| 5/5 [00:06<00:00,  1.37s/it]\n"
     ]
    },
    {
     "name": "stdout",
     "output_type": "stream",
     "text": [
      "Escaneando pagina 876 de 1012\n",
      "Scraping: https://www.mediamarkt.es/es/category/_tarjeta-de-red-702456.html\n"
     ]
    },
    {
     "name": "stderr",
     "output_type": "stream",
     "text": [
      "0it [00:00, ?it/s]\n"
     ]
    },
    {
     "name": "stdout",
     "output_type": "stream",
     "text": [
      "Escaneando pagina 877 de 1012\n",
      "Scraping: https://www.mediamarkt.es/es/category/_plc-702457.html\n",
      "Número de páginas: 3\n"
     ]
    },
    {
     "name": "stderr",
     "output_type": "stream",
     "text": [
      "100%|██████████| 3/3 [00:04<00:00,  1.52s/it]\n"
     ]
    },
    {
     "name": "stdout",
     "output_type": "stream",
     "text": [
      "Escaneando pagina 878 de 1012\n",
      "Scraping: https://www.mediamarkt.es/es/category/_componentes-701395.html\n",
      "Número de páginas: 16\n"
     ]
    },
    {
     "name": "stderr",
     "output_type": "stream",
     "text": [
      "100%|██████████| 16/16 [00:25<00:00,  1.42s/it]\n"
     ]
    },
    {
     "name": "stdout",
     "output_type": "stream",
     "text": [
      "Escaneando pagina 879 de 1012\n",
      "Scraping: https://www.mediamarkt.es/es/category/_placas-base-702420.html\n"
     ]
    },
    {
     "name": "stderr",
     "output_type": "stream",
     "text": [
      "0it [00:00, ?it/s]\n"
     ]
    },
    {
     "name": "stdout",
     "output_type": "stream",
     "text": [
      "Escaneando pagina 880 de 1012\n",
      "Scraping: https://www.mediamarkt.es/es/category/_procesadores-702421.html\n"
     ]
    },
    {
     "name": "stderr",
     "output_type": "stream",
     "text": [
      "0it [00:00, ?it/s]\n"
     ]
    },
    {
     "name": "stdout",
     "output_type": "stream",
     "text": [
      "Escaneando pagina 881 de 1012\n",
      "Scraping: https://www.mediamarkt.es/es/category/_memorias-ram-702422.html\n",
      "Número de páginas: 3\n"
     ]
    },
    {
     "name": "stderr",
     "output_type": "stream",
     "text": [
      "100%|██████████| 3/3 [00:04<00:00,  1.36s/it]\n"
     ]
    },
    {
     "name": "stdout",
     "output_type": "stream",
     "text": [
      "Escaneando pagina 882 de 1012\n",
      "Scraping: https://www.mediamarkt.es/es/category/_discos-duros-internos-702423.html\n",
      "Número de páginas: 2\n"
     ]
    },
    {
     "name": "stderr",
     "output_type": "stream",
     "text": [
      "100%|██████████| 2/2 [00:02<00:00,  1.03it/s]\n"
     ]
    },
    {
     "name": "stdout",
     "output_type": "stream",
     "text": [
      "Escaneando pagina 883 de 1012\n",
      "Scraping: https://www.mediamarkt.es/es/category/_cajas-y-torres-702424.html\n"
     ]
    },
    {
     "name": "stderr",
     "output_type": "stream",
     "text": [
      "0it [00:00, ?it/s]\n"
     ]
    },
    {
     "name": "stdout",
     "output_type": "stream",
     "text": [
      "Escaneando pagina 884 de 1012\n",
      "Scraping: https://www.mediamarkt.es/es/category/_tarjetas-de-red-702425.html\n"
     ]
    },
    {
     "name": "stderr",
     "output_type": "stream",
     "text": [
      "0it [00:00, ?it/s]\n"
     ]
    },
    {
     "name": "stdout",
     "output_type": "stream",
     "text": [
      "Escaneando pagina 885 de 1012\n",
      "Scraping: https://www.mediamarkt.es/es/category/_tarjetas-gr%C3%A1ficas-702426.html\n",
      "Número de páginas: 5\n"
     ]
    },
    {
     "name": "stderr",
     "output_type": "stream",
     "text": [
      "100%|██████████| 5/5 [00:06<00:00,  1.19s/it]\n"
     ]
    },
    {
     "name": "stdout",
     "output_type": "stream",
     "text": [
      "Escaneando pagina 886 de 1012\n",
      "Scraping: https://www.mediamarkt.es/es/category/_tarjetas-de-sonido-702428.html\n"
     ]
    },
    {
     "name": "stderr",
     "output_type": "stream",
     "text": [
      "0it [00:00, ?it/s]\n"
     ]
    },
    {
     "name": "stdout",
     "output_type": "stream",
     "text": [
      "Escaneando pagina 887 de 1012\n",
      "Scraping: https://www.mediamarkt.es/es/category/_refrigeraci%C3%B3n-y-ventilaci%C3%B3n-702429.html\n",
      "Número de páginas: 2\n"
     ]
    },
    {
     "name": "stderr",
     "output_type": "stream",
     "text": [
      "100%|██████████| 2/2 [00:02<00:00,  1.58s/it]\n"
     ]
    },
    {
     "name": "stdout",
     "output_type": "stream",
     "text": [
      "Escaneando pagina 888 de 1012\n",
      "Scraping: https://www.mediamarkt.es/es/category/_grabadoras-dvd-blu-ray-702430.html\n"
     ]
    },
    {
     "name": "stderr",
     "output_type": "stream",
     "text": [
      "0it [00:00, ?it/s]\n"
     ]
    },
    {
     "name": "stdout",
     "output_type": "stream",
     "text": [
      "Escaneando pagina 889 de 1012\n",
      "Scraping: https://www.mediamarkt.es/es/category/_capturadoras-y-sintonizadoras-702431.html\n"
     ]
    },
    {
     "name": "stderr",
     "output_type": "stream",
     "text": [
      "0it [00:00, ?it/s]\n"
     ]
    },
    {
     "name": "stdout",
     "output_type": "stream",
     "text": [
      "Escaneando pagina 890 de 1012\n",
      "Scraping: https://www.mediamarkt.es/es/category/_fuente-alimentaci%C3%B3n-pc-702432.html\n"
     ]
    },
    {
     "name": "stderr",
     "output_type": "stream",
     "text": [
      "0it [00:00, ?it/s]\n"
     ]
    },
    {
     "name": "stdout",
     "output_type": "stream",
     "text": [
      "Escaneando pagina 891 de 1012\n",
      "Scraping: https://www.mediamarkt.es/es/category/_accesorios-componentes-inform%C3%A1tica-702433.html\n",
      "Número de páginas: 5\n"
     ]
    },
    {
     "name": "stderr",
     "output_type": "stream",
     "text": [
      "100%|██████████| 5/5 [00:06<00:00,  1.32s/it]\n"
     ]
    },
    {
     "name": "stdout",
     "output_type": "stream",
     "text": [
      "Escaneando pagina 892 de 1012\n",
      "Scraping: https://www.mediamarkt.es/es/category/_servidores-702434.html\n"
     ]
    },
    {
     "name": "stderr",
     "output_type": "stream",
     "text": [
      "0it [00:00, ?it/s]\n"
     ]
    },
    {
     "name": "stdout",
     "output_type": "stream",
     "text": [
      "Escaneando pagina 893 de 1012\n",
      "Scraping: https://www.mediamarkt.es/es/category/_ratones-y-alfombrillas-701404.html\n",
      "Número de páginas: 18\n"
     ]
    },
    {
     "name": "stderr",
     "output_type": "stream",
     "text": [
      "100%|██████████| 18/18 [00:26<00:00,  1.26s/it]\n"
     ]
    },
    {
     "name": "stdout",
     "output_type": "stream",
     "text": [
      "Escaneando pagina 894 de 1012\n",
      "Scraping: https://www.mediamarkt.es/es/category/_alfombrillas-de-rat%C3%B3n-702443.html\n",
      "Número de páginas: 9\n"
     ]
    },
    {
     "name": "stderr",
     "output_type": "stream",
     "text": [
      "100%|██████████| 9/9 [00:12<00:00,  1.52s/it]\n"
     ]
    },
    {
     "name": "stdout",
     "output_type": "stream",
     "text": [
      "Escaneando pagina 895 de 1012\n",
      "Scraping: https://www.mediamarkt.es/es/category/_ratones-con-cable-702444.html\n",
      "Número de páginas: 3\n"
     ]
    },
    {
     "name": "stderr",
     "output_type": "stream",
     "text": [
      "100%|██████████| 3/3 [00:03<00:00,  1.05s/it]\n"
     ]
    },
    {
     "name": "stdout",
     "output_type": "stream",
     "text": [
      "Escaneando pagina 896 de 1012\n",
      "Scraping: https://www.mediamarkt.es/es/category/_ratones-inal%C3%A1mbricos-702445.html\n",
      "Número de páginas: 5\n"
     ]
    },
    {
     "name": "stderr",
     "output_type": "stream",
     "text": [
      "100%|██████████| 5/5 [00:06<00:00,  1.27s/it]\n"
     ]
    },
    {
     "name": "stdout",
     "output_type": "stream",
     "text": [
      "Escaneando pagina 897 de 1012\n",
      "Scraping: https://www.mediamarkt.es/es/category/_ratones-gaming-702446.html\n",
      "Número de páginas: 2\n"
     ]
    },
    {
     "name": "stderr",
     "output_type": "stream",
     "text": [
      "100%|██████████| 2/2 [00:02<00:00,  1.04s/it]\n"
     ]
    },
    {
     "name": "stdout",
     "output_type": "stream",
     "text": [
      "Escaneando pagina 898 de 1012\n",
      "Scraping: https://www.mediamarkt.es/es/category/_punteros-702447.html\n"
     ]
    },
    {
     "name": "stderr",
     "output_type": "stream",
     "text": [
      "0it [00:00, ?it/s]\n"
     ]
    },
    {
     "name": "stdout",
     "output_type": "stream",
     "text": [
      "Escaneando pagina 899 de 1012\n",
      "Scraping: https://www.mediamarkt.es/es/category/_teclados-701408.html\n",
      "Número de páginas: 4\n"
     ]
    },
    {
     "name": "stderr",
     "output_type": "stream",
     "text": [
      "100%|██████████| 4/4 [00:05<00:00,  1.37s/it]\n"
     ]
    },
    {
     "name": "stdout",
     "output_type": "stream",
     "text": [
      "Escaneando pagina 900 de 1012\n",
      "Scraping: https://www.mediamarkt.es/es/category/_teclados-con-cable-702461.html\n"
     ]
    },
    {
     "name": "stderr",
     "output_type": "stream",
     "text": [
      "0it [00:00, ?it/s]\n"
     ]
    },
    {
     "name": "stdout",
     "output_type": "stream",
     "text": [
      "Escaneando pagina 901 de 1012\n",
      "Scraping: https://www.mediamarkt.es/es/category/_teclados-bluetooth-702462.html\n"
     ]
    },
    {
     "name": "stderr",
     "output_type": "stream",
     "text": [
      "0it [00:00, ?it/s]\n"
     ]
    },
    {
     "name": "stdout",
     "output_type": "stream",
     "text": [
      "Escaneando pagina 902 de 1012\n",
      "Scraping: https://www.mediamarkt.es/es/category/_teclados-inal%C3%A1mbricos-702463.html\n"
     ]
    },
    {
     "name": "stderr",
     "output_type": "stream",
     "text": [
      "0it [00:00, ?it/s]\n"
     ]
    },
    {
     "name": "stdout",
     "output_type": "stream",
     "text": [
      "Escaneando pagina 903 de 1012\n",
      "Scraping: https://www.mediamarkt.es/es/category/_teclado-gaming-702464.html\n"
     ]
    },
    {
     "name": "stderr",
     "output_type": "stream",
     "text": [
      "0it [00:00, ?it/s]\n"
     ]
    },
    {
     "name": "stdout",
     "output_type": "stream",
     "text": [
      "Escaneando pagina 904 de 1012\n",
      "Scraping: https://www.mediamarkt.es/es/category/_teclados-smarttv-702465.html\n"
     ]
    },
    {
     "name": "stderr",
     "output_type": "stream",
     "text": [
      "0it [00:00, ?it/s]\n"
     ]
    },
    {
     "name": "stdout",
     "output_type": "stream",
     "text": [
      "Escaneando pagina 905 de 1012\n",
      "Scraping: https://www.mediamarkt.es/es/category/_mini-teclados-inal%C3%A1mbricos-para-m%C3%B3vil-y-tablet-702466.html\n"
     ]
    },
    {
     "name": "stderr",
     "output_type": "stream",
     "text": [
      "0it [00:00, ?it/s]\n"
     ]
    },
    {
     "name": "stdout",
     "output_type": "stream",
     "text": [
      "Escaneando pagina 906 de 1012\n",
      "Scraping: https://www.mediamarkt.es/es/category/_teclados-num%C3%A9ricos-702467.html\n"
     ]
    },
    {
     "name": "stderr",
     "output_type": "stream",
     "text": [
      "0it [00:00, ?it/s]\n"
     ]
    },
    {
     "name": "stdout",
     "output_type": "stream",
     "text": [
      "Escaneando pagina 907 de 1012\n",
      "Scraping: https://www.mediamarkt.es/es/category/_con-touchpad-702468.html\n"
     ]
    },
    {
     "name": "stderr",
     "output_type": "stream",
     "text": [
      "0it [00:00, ?it/s]\n"
     ]
    },
    {
     "name": "stdout",
     "output_type": "stream",
     "text": [
      "Escaneando pagina 908 de 1012\n",
      "Scraping: https://www.mediamarkt.es/es/category/_packs-teclado-rat%C3%B3n-702469.html\n",
      "Número de páginas: 2\n"
     ]
    },
    {
     "name": "stderr",
     "output_type": "stream",
     "text": [
      "100%|██████████| 2/2 [00:01<00:00,  1.12it/s]\n"
     ]
    },
    {
     "name": "stdout",
     "output_type": "stream",
     "text": [
      "Escaneando pagina 909 de 1012\n",
      "Scraping: https://www.mediamarkt.es/es/category/_cables-regletas-y-hubs-701393.html\n",
      "Número de páginas: 34\n"
     ]
    },
    {
     "name": "stderr",
     "output_type": "stream",
     "text": [
      "100%|██████████| 34/34 [00:45<00:00,  1.10s/it]\n"
     ]
    },
    {
     "name": "stdout",
     "output_type": "stream",
     "text": [
      "Escaneando pagina 910 de 1012\n",
      "Scraping: https://www.mediamarkt.es/es/category/_cables-hdmi-702410.html\n",
      "Número de páginas: 4\n"
     ]
    },
    {
     "name": "stderr",
     "output_type": "stream",
     "text": [
      "100%|██████████| 4/4 [00:03<00:00,  1.03it/s]\n"
     ]
    },
    {
     "name": "stdout",
     "output_type": "stream",
     "text": [
      "Escaneando pagina 911 de 1012\n",
      "Scraping: https://www.mediamarkt.es/es/category/_cables-de-red-702411.html\n",
      "Número de páginas: 3\n"
     ]
    },
    {
     "name": "stderr",
     "output_type": "stream",
     "text": [
      "100%|██████████| 3/3 [00:04<00:00,  1.45s/it]\n"
     ]
    },
    {
     "name": "stdout",
     "output_type": "stream",
     "text": [
      "Escaneando pagina 912 de 1012\n",
      "Scraping: https://www.mediamarkt.es/es/category/_cables-usb-702412.html\n",
      "Número de páginas: 7\n"
     ]
    },
    {
     "name": "stderr",
     "output_type": "stream",
     "text": [
      "100%|██████████| 7/7 [00:09<00:00,  1.30s/it]\n"
     ]
    },
    {
     "name": "stdout",
     "output_type": "stream",
     "text": [
      "Escaneando pagina 913 de 1012\n",
      "Scraping: https://www.mediamarkt.es/es/category/_cables-vga-dvi-702413.html\n",
      "Número de páginas: 2\n"
     ]
    },
    {
     "name": "stderr",
     "output_type": "stream",
     "text": [
      "100%|██████████| 2/2 [00:02<00:00,  1.32s/it]\n"
     ]
    },
    {
     "name": "stdout",
     "output_type": "stream",
     "text": [
      "Escaneando pagina 914 de 1012\n",
      "Scraping: https://www.mediamarkt.es/es/category/_accesorios-telefon%C3%ADa-702414.html\n",
      "Número de páginas: 14\n"
     ]
    },
    {
     "name": "stderr",
     "output_type": "stream",
     "text": [
      "100%|██████████| 14/14 [00:20<00:00,  1.45s/it]\n"
     ]
    },
    {
     "name": "stdout",
     "output_type": "stream",
     "text": [
      "Escaneando pagina 915 de 1012\n",
      "Scraping: https://www.mediamarkt.es/es/category/_fundas-y-maletines-701400.html\n",
      "Número de páginas: 17\n"
     ]
    },
    {
     "name": "stderr",
     "output_type": "stream",
     "text": [
      "100%|██████████| 17/17 [00:27<00:00,  1.58s/it]\n"
     ]
    },
    {
     "name": "stdout",
     "output_type": "stream",
     "text": [
      "Escaneando pagina 916 de 1012\n",
      "Scraping: https://www.mediamarkt.es/es/category/_fundas-inform%C3%A1tica-702435.html\n",
      "Número de páginas: 3\n"
     ]
    },
    {
     "name": "stderr",
     "output_type": "stream",
     "text": [
      "100%|██████████| 3/3 [00:04<00:00,  1.44s/it]\n"
     ]
    },
    {
     "name": "stdout",
     "output_type": "stream",
     "text": [
      "Escaneando pagina 917 de 1012\n",
      "Scraping: https://www.mediamarkt.es/es/category/_mochilas-702436.html\n",
      "Número de páginas: 3\n"
     ]
    },
    {
     "name": "stderr",
     "output_type": "stream",
     "text": [
      "100%|██████████| 3/3 [00:05<00:00,  1.79s/it]\n"
     ]
    },
    {
     "name": "stdout",
     "output_type": "stream",
     "text": [
      "Escaneando pagina 918 de 1012\n",
      "Scraping: https://www.mediamarkt.es/es/category/_malet%C3%ADn-702437.html\n",
      "Número de páginas: 4\n"
     ]
    },
    {
     "name": "stderr",
     "output_type": "stream",
     "text": [
      "100%|██████████| 4/4 [00:05<00:00,  1.40s/it]\n"
     ]
    },
    {
     "name": "stdout",
     "output_type": "stream",
     "text": [
      "Escaneando pagina 919 de 1012\n",
      "Scraping: https://www.mediamarkt.es/es/category/_trolley-702438.html\n"
     ]
    },
    {
     "name": "stderr",
     "output_type": "stream",
     "text": [
      "0it [00:00, ?it/s]\n"
     ]
    },
    {
     "name": "stdout",
     "output_type": "stream",
     "text": [
      "Escaneando pagina 920 de 1012\n",
      "Scraping: https://www.mediamarkt.es/es/category/_bandolera-702439.html\n"
     ]
    },
    {
     "name": "stderr",
     "output_type": "stream",
     "text": [
      "0it [00:00, ?it/s]\n"
     ]
    },
    {
     "name": "stdout",
     "output_type": "stream",
     "text": [
      "Escaneando pagina 921 de 1012\n",
      "Scraping: https://www.mediamarkt.es/es/category/_disco-duro-702440.html\n",
      "Número de páginas: 2\n"
     ]
    },
    {
     "name": "stderr",
     "output_type": "stream",
     "text": [
      "100%|██████████| 2/2 [00:02<00:00,  1.53s/it]\n"
     ]
    },
    {
     "name": "stdout",
     "output_type": "stream",
     "text": [
      "Escaneando pagina 922 de 1012\n",
      "Scraping: https://www.mediamarkt.es/es/category/_tablets-702441.html\n",
      "Número de páginas: 4\n"
     ]
    },
    {
     "name": "stderr",
     "output_type": "stream",
     "text": [
      "100%|██████████| 4/4 [00:03<00:00,  1.05it/s]\n"
     ]
    },
    {
     "name": "stdout",
     "output_type": "stream",
     "text": [
      "Escaneando pagina 923 de 1012\n",
      "Scraping: https://www.mediamarkt.es/es/category/_fundas-ebook-702442.html\n"
     ]
    },
    {
     "name": "stderr",
     "output_type": "stream",
     "text": [
      "0it [00:00, ?it/s]\n"
     ]
    },
    {
     "name": "stdout",
     "output_type": "stream",
     "text": [
      "Escaneando pagina 924 de 1012\n",
      "Scraping: https://www.mediamarkt.es/es/category/_alimentaci%C3%B3n-y-carga-701388.html\n",
      "Número de páginas: 16\n"
     ]
    },
    {
     "name": "stderr",
     "output_type": "stream",
     "text": [
      "100%|██████████| 16/16 [00:25<00:00,  1.49s/it]\n"
     ]
    },
    {
     "name": "stdout",
     "output_type": "stream",
     "text": [
      "Escaneando pagina 925 de 1012\n",
      "Scraping: https://www.mediamarkt.es/es/category/_power-banks-702393.html\n"
     ]
    },
    {
     "name": "stderr",
     "output_type": "stream",
     "text": [
      "0it [00:00, ?it/s]\n"
     ]
    },
    {
     "name": "stdout",
     "output_type": "stream",
     "text": [
      "Escaneando pagina 926 de 1012\n",
      "Scraping: https://www.mediamarkt.es/es/category/_cargador-universal-ac-dc-702394.html\n",
      "Número de páginas: 3\n"
     ]
    },
    {
     "name": "stderr",
     "output_type": "stream",
     "text": [
      "100%|██████████| 3/3 [00:03<00:00,  1.23s/it]\n"
     ]
    },
    {
     "name": "stdout",
     "output_type": "stream",
     "text": [
      "Escaneando pagina 927 de 1012\n",
      "Scraping: https://www.mediamarkt.es/es/category/_cargador-universal-coche-702395.html\n",
      "Número de páginas: 2\n"
     ]
    },
    {
     "name": "stderr",
     "output_type": "stream",
     "text": [
      "100%|██████████| 2/2 [00:02<00:00,  1.23s/it]\n"
     ]
    },
    {
     "name": "stdout",
     "output_type": "stream",
     "text": [
      "Escaneando pagina 928 de 1012\n",
      "Scraping: https://www.mediamarkt.es/es/category/_cargador-ios-mac-702396.html\n"
     ]
    },
    {
     "name": "stderr",
     "output_type": "stream",
     "text": [
      "0it [00:00, ?it/s]\n"
     ]
    },
    {
     "name": "stdout",
     "output_type": "stream",
     "text": [
      "Escaneando pagina 929 de 1012\n",
      "Scraping: https://www.mediamarkt.es/es/category/_bater%C3%ADas-inform%C3%A1tica-702397.html\n"
     ]
    },
    {
     "name": "stderr",
     "output_type": "stream",
     "text": [
      "0it [00:00, ?it/s]\n"
     ]
    },
    {
     "name": "stdout",
     "output_type": "stream",
     "text": [
      "Escaneando pagina 930 de 1012\n",
      "Scraping: https://www.mediamarkt.es/es/category/_regletas-ladrones-702398.html\n",
      "Número de páginas: 9\n"
     ]
    },
    {
     "name": "stderr",
     "output_type": "stream",
     "text": [
      "100%|██████████| 9/9 [00:13<00:00,  1.55s/it]\n"
     ]
    },
    {
     "name": "stdout",
     "output_type": "stream",
     "text": [
      "Escaneando pagina 931 de 1012\n",
      "Scraping: https://www.mediamarkt.es/es/category/_alargadores-702399.html\n"
     ]
    },
    {
     "name": "stderr",
     "output_type": "stream",
     "text": [
      "0it [00:00, ?it/s]\n"
     ]
    },
    {
     "name": "stdout",
     "output_type": "stream",
     "text": [
      "Escaneando pagina 932 de 1012\n",
      "Scraping: https://www.mediamarkt.es/es/category/_adaptadores-viaje-702400.html\n"
     ]
    },
    {
     "name": "stderr",
     "output_type": "stream",
     "text": [
      "0it [00:00, ?it/s]\n"
     ]
    },
    {
     "name": "stdout",
     "output_type": "stream",
     "text": [
      "Escaneando pagina 933 de 1012\n",
      "Scraping: https://www.mediamarkt.es/es/category/_luz-noctura-702401.html\n"
     ]
    },
    {
     "name": "stderr",
     "output_type": "stream",
     "text": [
      "0it [00:00, ?it/s]\n"
     ]
    },
    {
     "name": "stdout",
     "output_type": "stream",
     "text": [
      "Escaneando pagina 934 de 1012\n",
      "Scraping: https://www.mediamarkt.es/es/category/_temporizadores-el%C3%A9ctricos-702402.html\n"
     ]
    },
    {
     "name": "stderr",
     "output_type": "stream",
     "text": [
      "0it [00:00, ?it/s]\n"
     ]
    },
    {
     "name": "stdout",
     "output_type": "stream",
     "text": [
      "Escaneando pagina 935 de 1012\n",
      "Scraping: https://www.mediamarkt.es/es/category/_sai-702403.html\n"
     ]
    },
    {
     "name": "stderr",
     "output_type": "stream",
     "text": [
      "0it [00:00, ?it/s]\n"
     ]
    },
    {
     "name": "stdout",
     "output_type": "stream",
     "text": [
      "Escaneando pagina 936 de 1012\n",
      "Scraping: https://www.mediamarkt.es/es/category/_orden-recogecables-702404.html\n"
     ]
    },
    {
     "name": "stderr",
     "output_type": "stream",
     "text": [
      "0it [00:00, ?it/s]\n"
     ]
    },
    {
     "name": "stdout",
     "output_type": "stream",
     "text": [
      "Escaneando pagina 937 de 1012\n",
      "Scraping: https://www.mediamarkt.es/es/category/_tabletas-gr%C3%A1ficas-701407.html\n"
     ]
    },
    {
     "name": "stderr",
     "output_type": "stream",
     "text": [
      "0it [00:00, ?it/s]\n"
     ]
    },
    {
     "name": "stdout",
     "output_type": "stream",
     "text": [
      "Escaneando pagina 938 de 1012\n",
      "Scraping: https://www.mediamarkt.es/es/category/_tableta-digital-702458.html\n"
     ]
    },
    {
     "name": "stderr",
     "output_type": "stream",
     "text": [
      "0it [00:00, ?it/s]\n"
     ]
    },
    {
     "name": "stdout",
     "output_type": "stream",
     "text": [
      "Escaneando pagina 939 de 1012\n",
      "Scraping: https://www.mediamarkt.es/es/category/_stylus-702460.html\n"
     ]
    },
    {
     "name": "stderr",
     "output_type": "stream",
     "text": [
      "0it [00:00, ?it/s]\n"
     ]
    },
    {
     "name": "stdout",
     "output_type": "stream",
     "text": [
      "Escaneando pagina 940 de 1012\n",
      "Scraping: https://www.mediamarkt.es/es/category/_altavoces-pc-701391.html\n",
      "Número de páginas: 4\n"
     ]
    },
    {
     "name": "stderr",
     "output_type": "stream",
     "text": [
      "100%|██████████| 4/4 [00:04<00:00,  1.02s/it]\n"
     ]
    },
    {
     "name": "stdout",
     "output_type": "stream",
     "text": [
      "Escaneando pagina 941 de 1012\n",
      "Scraping: https://www.mediamarkt.es/es/category/_bluetooth-702405.html\n"
     ]
    },
    {
     "name": "stderr",
     "output_type": "stream",
     "text": [
      "0it [00:00, ?it/s]\n"
     ]
    },
    {
     "name": "stdout",
     "output_type": "stream",
     "text": [
      "Escaneando pagina 942 de 1012\n",
      "Scraping: https://www.mediamarkt.es/es/category/_sonido-5-1-702406.html\n"
     ]
    },
    {
     "name": "stderr",
     "output_type": "stream",
     "text": [
      "0it [00:00, ?it/s]\n"
     ]
    },
    {
     "name": "stdout",
     "output_type": "stream",
     "text": [
      "Escaneando pagina 943 de 1012\n",
      "Scraping: https://www.mediamarkt.es/es/category/_sonido-2-1-702407.html\n"
     ]
    },
    {
     "name": "stderr",
     "output_type": "stream",
     "text": [
      "0it [00:00, ?it/s]\n"
     ]
    },
    {
     "name": "stdout",
     "output_type": "stream",
     "text": [
      "Escaneando pagina 944 de 1012\n",
      "Scraping: https://www.mediamarkt.es/es/category/_jack-3-5-702408.html\n"
     ]
    },
    {
     "name": "stderr",
     "output_type": "stream",
     "text": [
      "0it [00:00, ?it/s]\n"
     ]
    },
    {
     "name": "stdout",
     "output_type": "stream",
     "text": [
      "Escaneando pagina 945 de 1012\n",
      "Scraping: https://www.mediamarkt.es/es/category/_usb-702409.html\n"
     ]
    },
    {
     "name": "stderr",
     "output_type": "stream",
     "text": [
      "0it [00:00, ?it/s]\n"
     ]
    },
    {
     "name": "stdout",
     "output_type": "stream",
     "text": [
      "Escaneando pagina 946 de 1012\n",
      "Scraping: https://www.mediamarkt.es/es/category/_webcams-701409.html\n"
     ]
    },
    {
     "name": "stderr",
     "output_type": "stream",
     "text": [
      "0it [00:00, ?it/s]\n"
     ]
    },
    {
     "name": "stdout",
     "output_type": "stream",
     "text": [
      "Escaneando pagina 947 de 1012\n",
      "Scraping: https://www.mediamarkt.es/es/category/_lectores-de-tarjeta-701402.html\n",
      "Número de páginas: 2\n"
     ]
    },
    {
     "name": "stderr",
     "output_type": "stream",
     "text": [
      "100%|██████████| 2/2 [00:01<00:00,  1.01it/s]\n"
     ]
    },
    {
     "name": "stdout",
     "output_type": "stream",
     "text": [
      "Escaneando pagina 948 de 1012\n",
      "Scraping: https://www.mediamarkt.es/es/category/_controladoras-dj-701397.html\n"
     ]
    },
    {
     "name": "stderr",
     "output_type": "stream",
     "text": [
      "0it [00:00, ?it/s]\n"
     ]
    },
    {
     "name": "stdout",
     "output_type": "stream",
     "text": [
      "Escaneando pagina 949 de 1012\n",
      "Scraping: https://www.mediamarkt.es/es/category/_auriculares-701390.html\n",
      "Número de páginas: 3\n"
     ]
    },
    {
     "name": "stderr",
     "output_type": "stream",
     "text": [
      "100%|██████████| 3/3 [00:04<00:00,  1.49s/it]\n"
     ]
    },
    {
     "name": "stdout",
     "output_type": "stream",
     "text": [
      "Escaneando pagina 950 de 1012\n",
      "Scraping: https://www.mediamarkt.es/es/category/_accesorios-tablets-701387.html\n",
      "Número de páginas: 16\n"
     ]
    },
    {
     "name": "stderr",
     "output_type": "stream",
     "text": [
      "100%|██████████| 16/16 [00:24<00:00,  1.40s/it]\n"
     ]
    },
    {
     "name": "stdout",
     "output_type": "stream",
     "text": [
      "Escaneando pagina 951 de 1012\n",
      "Scraping: https://www.mediamarkt.es/es/category/_adaptadores-tablet-702383.html\n"
     ]
    },
    {
     "name": "stderr",
     "output_type": "stream",
     "text": [
      "0it [00:00, ?it/s]\n"
     ]
    },
    {
     "name": "stdout",
     "output_type": "stream",
     "text": [
      "Escaneando pagina 952 de 1012\n",
      "Scraping: https://www.mediamarkt.es/es/category/_cargadores-tablet-702384.html\n",
      "Número de páginas: 2\n"
     ]
    },
    {
     "name": "stderr",
     "output_type": "stream",
     "text": [
      "100%|██████████| 2/2 [00:02<00:00,  1.27s/it]\n"
     ]
    },
    {
     "name": "stdout",
     "output_type": "stream",
     "text": [
      "Escaneando pagina 953 de 1012\n",
      "Scraping: https://www.mediamarkt.es/es/category/_fundas-tablet-702385.html\n",
      "Número de páginas: 8\n"
     ]
    },
    {
     "name": "stderr",
     "output_type": "stream",
     "text": [
      "100%|██████████| 8/8 [00:10<00:00,  1.28s/it]\n"
     ]
    },
    {
     "name": "stdout",
     "output_type": "stream",
     "text": [
      "Escaneando pagina 954 de 1012\n",
      "Scraping: https://www.mediamarkt.es/es/category/_fundas-teclado-702386.html\n",
      "Número de páginas: 2\n"
     ]
    },
    {
     "name": "stderr",
     "output_type": "stream",
     "text": [
      "100%|██████████| 2/2 [00:02<00:00,  1.07s/it]\n"
     ]
    },
    {
     "name": "stdout",
     "output_type": "stream",
     "text": [
      "Escaneando pagina 955 de 1012\n",
      "Scraping: https://www.mediamarkt.es/es/category/_gadgets-702387.html\n"
     ]
    },
    {
     "name": "stderr",
     "output_type": "stream",
     "text": [
      "0it [00:00, ?it/s]\n"
     ]
    },
    {
     "name": "stdout",
     "output_type": "stream",
     "text": [
      "Escaneando pagina 956 de 1012\n",
      "Scraping: https://www.mediamarkt.es/es/category/_soportes-tablet-702388.html\n"
     ]
    },
    {
     "name": "stderr",
     "output_type": "stream",
     "text": [
      "0it [00:00, ?it/s]\n"
     ]
    },
    {
     "name": "stdout",
     "output_type": "stream",
     "text": [
      "Escaneando pagina 957 de 1012\n",
      "Scraping: https://www.mediamarkt.es/es/category/_protectores-pantalla-tablet-702389.html\n"
     ]
    },
    {
     "name": "stderr",
     "output_type": "stream",
     "text": [
      "0it [00:00, ?it/s]\n"
     ]
    },
    {
     "name": "stdout",
     "output_type": "stream",
     "text": [
      "Escaneando pagina 958 de 1012\n",
      "Scraping: https://www.mediamarkt.es/es/category/_stylus-702390.html\n"
     ]
    },
    {
     "name": "stderr",
     "output_type": "stream",
     "text": [
      "0it [00:00, ?it/s]\n"
     ]
    },
    {
     "name": "stdout",
     "output_type": "stream",
     "text": [
      "Escaneando pagina 959 de 1012\n",
      "Scraping: https://www.mediamarkt.es/es/category/_tarjetas-de-memoria-tablet-702391.html\n"
     ]
    },
    {
     "name": "stderr",
     "output_type": "stream",
     "text": [
      "0it [00:00, ?it/s]\n"
     ]
    },
    {
     "name": "stdout",
     "output_type": "stream",
     "text": [
      "Escaneando pagina 960 de 1012\n",
      "Scraping: https://www.mediamarkt.es/es/category/_docking-station-702392.html\n"
     ]
    },
    {
     "name": "stderr",
     "output_type": "stream",
     "text": [
      "0it [00:00, ?it/s]\n"
     ]
    },
    {
     "name": "stdout",
     "output_type": "stream",
     "text": [
      "Escaneando pagina 961 de 1012\n",
      "Scraping: https://www.mediamarkt.es/es/category/_base-refrigerante-701392.html\n"
     ]
    },
    {
     "name": "stderr",
     "output_type": "stream",
     "text": [
      "0it [00:00, ?it/s]\n"
     ]
    },
    {
     "name": "stdout",
     "output_type": "stream",
     "text": [
      "Escaneando pagina 962 de 1012\n",
      "Scraping: https://www.mediamarkt.es/es/category/_dock-y-hub-701398.html\n",
      "Número de páginas: 3\n"
     ]
    },
    {
     "name": "stderr",
     "output_type": "stream",
     "text": [
      "100%|██████████| 3/3 [00:04<00:00,  1.44s/it]\n"
     ]
    },
    {
     "name": "stdout",
     "output_type": "stream",
     "text": [
      "Escaneando pagina 963 de 1012\n",
      "Scraping: https://www.mediamarkt.es/es/category/_ergonom%C3%ADa-701399.html\n"
     ]
    },
    {
     "name": "stderr",
     "output_type": "stream",
     "text": [
      "0it [00:00, ?it/s]\n"
     ]
    },
    {
     "name": "stdout",
     "output_type": "stream",
     "text": [
      "Escaneando pagina 964 de 1012\n",
      "Scraping: https://www.mediamarkt.es/es/category/_limpieza-ordenador-701403.html\n",
      "Número de páginas: 2\n"
     ]
    },
    {
     "name": "stderr",
     "output_type": "stream",
     "text": [
      "100%|██████████| 2/2 [00:02<00:00,  1.03s/it]\n"
     ]
    },
    {
     "name": "stdout",
     "output_type": "stream",
     "text": [
      "Escaneando pagina 965 de 1012\n",
      "Scraping: https://www.mediamarkt.es/es/category/_soportes-inform%C3%A1tica-701406.html\n",
      "Número de páginas: 2\n"
     ]
    },
    {
     "name": "stderr",
     "output_type": "stream",
     "text": [
      "100%|██████████| 2/2 [00:02<00:00,  1.49s/it]\n"
     ]
    },
    {
     "name": "stdout",
     "output_type": "stream",
     "text": [
      "Escaneando pagina 966 de 1012\n",
      "Scraping: https://www.mediamarkt.es/es/category/_cd-dvd-blu-ray-701394.html\n",
      "Número de páginas: 3\n"
     ]
    },
    {
     "name": "stderr",
     "output_type": "stream",
     "text": [
      "100%|██████████| 3/3 [00:04<00:00,  1.35s/it]\n"
     ]
    },
    {
     "name": "stdout",
     "output_type": "stream",
     "text": [
      "Escaneando pagina 967 de 1012\n",
      "Scraping: https://www.mediamarkt.es/es/category/_blu-ray-virgen-702415.html\n"
     ]
    },
    {
     "name": "stderr",
     "output_type": "stream",
     "text": [
      "0it [00:00, ?it/s]\n"
     ]
    },
    {
     "name": "stdout",
     "output_type": "stream",
     "text": [
      "Escaneando pagina 968 de 1012\n",
      "Scraping: https://www.mediamarkt.es/es/category/_dvd-virgen-702417.html\n"
     ]
    },
    {
     "name": "stderr",
     "output_type": "stream",
     "text": [
      "0it [00:00, ?it/s]\n"
     ]
    },
    {
     "name": "stdout",
     "output_type": "stream",
     "text": [
      "Escaneando pagina 969 de 1012\n",
      "Scraping: https://www.mediamarkt.es/es/category/_grabadoras-dvd-blu-ray-702418.html\n"
     ]
    },
    {
     "name": "stderr",
     "output_type": "stream",
     "text": [
      "0it [00:00, ?it/s]\n"
     ]
    },
    {
     "name": "stdout",
     "output_type": "stream",
     "text": [
      "Escaneando pagina 970 de 1012\n",
      "Scraping: https://www.mediamarkt.es/es/category/_complementos-702419.html\n",
      "Número de páginas: 2\n"
     ]
    },
    {
     "name": "stderr",
     "output_type": "stream",
     "text": [
      "100%|██████████| 2/2 [00:02<00:00,  1.37s/it]\n"
     ]
    },
    {
     "name": "stdout",
     "output_type": "stream",
     "text": [
      "Escaneando pagina 971 de 1012\n",
      "Scraping: https://www.mediamarkt.es/es/category/_ebooks-701186.html\n",
      "Número de páginas: 2\n"
     ]
    },
    {
     "name": "stderr",
     "output_type": "stream",
     "text": [
      "100%|██████████| 2/2 [00:02<00:00,  1.69s/it]\n"
     ]
    },
    {
     "name": "stdout",
     "output_type": "stream",
     "text": [
      "Escaneando pagina 972 de 1012\n",
      "Scraping: https://www.mediamarkt.es/es/category/_ebooks-tinta-electr%C3%B3nica-701471.html\n"
     ]
    },
    {
     "name": "stderr",
     "output_type": "stream",
     "text": [
      "0it [00:00, ?it/s]\n"
     ]
    },
    {
     "name": "stdout",
     "output_type": "stream",
     "text": [
      "Escaneando pagina 973 de 1012\n",
      "Scraping: https://www.mediamarkt.es/es/category/_accesorios-ebook-701472.html\n"
     ]
    },
    {
     "name": "stderr",
     "output_type": "stream",
     "text": [
      "0it [00:00, ?it/s]\n"
     ]
    },
    {
     "name": "stdout",
     "output_type": "stream",
     "text": [
      "Escaneando pagina 974 de 1012\n",
      "Scraping: https://www.mediamarkt.es/es/category/_software-701188.html\n"
     ]
    },
    {
     "name": "stderr",
     "output_type": "stream",
     "text": [
      "0it [00:00, ?it/s]\n"
     ]
    },
    {
     "name": "stdout",
     "output_type": "stream",
     "text": [
      "Escaneando pagina 975 de 1012\n",
      "Scraping: https://www.mediamarkt.es/es/category/_productividad-701480.html\n"
     ]
    },
    {
     "name": "stderr",
     "output_type": "stream",
     "text": [
      "0it [00:00, ?it/s]\n"
     ]
    },
    {
     "name": "stdout",
     "output_type": "stream",
     "text": [
      "Escaneando pagina 976 de 1012\n",
      "Scraping: https://www.mediamarkt.es/es/category/_telefon%C3%ADa-701128.html\n"
     ]
    },
    {
     "name": "stderr",
     "output_type": "stream",
     "text": [
      "0it [00:00, ?it/s]\n"
     ]
    },
    {
     "name": "stdout",
     "output_type": "stream",
     "text": [
      "Escaneando pagina 977 de 1012\n",
      "Scraping: https://www.mediamarkt.es/es/category/_smartphones-701189.html\n",
      "Número de páginas: 15\n"
     ]
    },
    {
     "name": "stderr",
     "output_type": "stream",
     "text": [
      "100%|██████████| 15/15 [00:14<00:00,  1.03it/s]\n"
     ]
    },
    {
     "name": "stdout",
     "output_type": "stream",
     "text": [
      "Escaneando pagina 978 de 1012\n",
      "Scraping: https://www.mediamarkt.es/es/category/_m%C3%B3viles-b%C3%A1sicos-701190.html\n",
      "Número de páginas: 4\n"
     ]
    },
    {
     "name": "stderr",
     "output_type": "stream",
     "text": [
      "100%|██████████| 4/4 [00:03<00:00,  1.03it/s]\n"
     ]
    },
    {
     "name": "stdout",
     "output_type": "stream",
     "text": [
      "Escaneando pagina 979 de 1012\n",
      "Scraping: https://www.mediamarkt.es/es/category/_smartwatches-701191.html\n",
      "Número de páginas: 3\n"
     ]
    },
    {
     "name": "stderr",
     "output_type": "stream",
     "text": [
      "100%|██████████| 3/3 [00:03<00:00,  1.07s/it]\n"
     ]
    },
    {
     "name": "stdout",
     "output_type": "stream",
     "text": [
      "Escaneando pagina 980 de 1012\n",
      "Scraping: https://www.mediamarkt.es/es/category/_gadgets-y-realidad-virtual-701192.html\n",
      "Número de páginas: 8\n"
     ]
    },
    {
     "name": "stderr",
     "output_type": "stream",
     "text": [
      "100%|██████████| 8/8 [00:08<00:00,  1.02it/s]\n"
     ]
    },
    {
     "name": "stdout",
     "output_type": "stream",
     "text": [
      "Escaneando pagina 981 de 1012\n",
      "Scraping: https://www.mediamarkt.es/es/category/_gadgets-701481.html\n",
      "Número de páginas: 3\n"
     ]
    },
    {
     "name": "stderr",
     "output_type": "stream",
     "text": [
      "100%|██████████| 3/3 [00:04<00:00,  1.55s/it]\n"
     ]
    },
    {
     "name": "stdout",
     "output_type": "stream",
     "text": [
      "Escaneando pagina 982 de 1012\n",
      "Scraping: https://www.mediamarkt.es/es/category/_palos-selfie-701482.html\n"
     ]
    },
    {
     "name": "stderr",
     "output_type": "stream",
     "text": [
      "0it [00:00, ?it/s]\n"
     ]
    },
    {
     "name": "stdout",
     "output_type": "stream",
     "text": [
      "Escaneando pagina 983 de 1012\n",
      "Scraping: https://www.mediamarkt.es/es/category/_soportes-m%C3%B3vil-701483.html\n",
      "Número de páginas: 4\n"
     ]
    },
    {
     "name": "stderr",
     "output_type": "stream",
     "text": [
      "100%|██████████| 4/4 [00:05<00:00,  1.37s/it]\n"
     ]
    },
    {
     "name": "stdout",
     "output_type": "stream",
     "text": [
      "Escaneando pagina 984 de 1012\n",
      "Scraping: https://www.mediamarkt.es/es/category/_lentes-para-m%C3%B3viles-701484.html\n"
     ]
    },
    {
     "name": "stderr",
     "output_type": "stream",
     "text": [
      "0it [00:00, ?it/s]\n"
     ]
    },
    {
     "name": "stdout",
     "output_type": "stream",
     "text": [
      "Escaneando pagina 985 de 1012\n",
      "Scraping: https://www.mediamarkt.es/es/category/_realidad-virtual-701487.html\n"
     ]
    },
    {
     "name": "stderr",
     "output_type": "stream",
     "text": [
      "0it [00:00, ?it/s]\n"
     ]
    },
    {
     "name": "stdout",
     "output_type": "stream",
     "text": [
      "Escaneando pagina 986 de 1012\n",
      "Scraping: https://www.mediamarkt.es/es/category/_accesorios-para-m%C3%B3viles-701193.html\n"
     ]
    },
    {
     "name": "stderr",
     "output_type": "stream",
     "text": [
      "0it [00:00, ?it/s]\n"
     ]
    },
    {
     "name": "stdout",
     "output_type": "stream",
     "text": [
      "Escaneando pagina 987 de 1012\n",
      "Scraping: https://www.mediamarkt.es/es/category/_tarjetas-microsd-701491.html\n",
      "Número de páginas: 2\n"
     ]
    },
    {
     "name": "stderr",
     "output_type": "stream",
     "text": [
      "100%|██████████| 2/2 [00:03<00:00,  1.51s/it]\n"
     ]
    },
    {
     "name": "stdout",
     "output_type": "stream",
     "text": [
      "Escaneando pagina 988 de 1012\n",
      "Scraping: https://www.mediamarkt.es/es/category/_bater%C3%ADas-y-power-banks-701489.html\n",
      "Número de páginas: 7\n"
     ]
    },
    {
     "name": "stderr",
     "output_type": "stream",
     "text": [
      "100%|██████████| 7/7 [00:12<00:00,  1.91s/it]\n"
     ]
    },
    {
     "name": "stdout",
     "output_type": "stream",
     "text": [
      "Escaneando pagina 989 de 1012\n",
      "Scraping: https://www.mediamarkt.es/es/category/_power-bank-702526.html\n",
      "Número de páginas: 7\n"
     ]
    },
    {
     "name": "stderr",
     "output_type": "stream",
     "text": [
      "100%|██████████| 7/7 [00:10<00:00,  1.50s/it]\n"
     ]
    },
    {
     "name": "stdout",
     "output_type": "stream",
     "text": [
      "Escaneando pagina 990 de 1012\n",
      "Scraping: https://www.mediamarkt.es/es/category/_auriculares-701496.html\n",
      "Número de páginas: 2\n"
     ]
    },
    {
     "name": "stderr",
     "output_type": "stream",
     "text": [
      "100%|██████████| 2/2 [00:02<00:00,  1.06s/it]\n"
     ]
    },
    {
     "name": "stdout",
     "output_type": "stream",
     "text": [
      "Escaneando pagina 991 de 1012\n",
      "Scraping: https://www.mediamarkt.es/es/category/_fundas-y-carcasas-701488.html\n",
      "Número de páginas: 55\n"
     ]
    },
    {
     "name": "stderr",
     "output_type": "stream",
     "text": [
      "100%|██████████| 55/55 [01:05<00:00,  1.16s/it]\n"
     ]
    },
    {
     "name": "stdout",
     "output_type": "stream",
     "text": [
      "Escaneando pagina 992 de 1012\n",
      "Scraping: https://www.mediamarkt.es/es/category/_protectores-pantalla-m%C3%B3vil-701490.html\n",
      "Número de páginas: 10\n"
     ]
    },
    {
     "name": "stderr",
     "output_type": "stream",
     "text": [
      "100%|██████████| 10/10 [00:17<00:00,  1.66s/it]\n"
     ]
    },
    {
     "name": "stdout",
     "output_type": "stream",
     "text": [
      "Escaneando pagina 993 de 1012\n",
      "Scraping: https://www.mediamarkt.es/es/category/_cargadores-m%C3%B3vil-701492.html\n",
      "Número de páginas: 13\n"
     ]
    },
    {
     "name": "stderr",
     "output_type": "stream",
     "text": [
      "100%|██████████| 13/13 [00:17<00:00,  1.67s/it]\n"
     ]
    },
    {
     "name": "stdout",
     "output_type": "stream",
     "text": [
      "Escaneando pagina 994 de 1012\n",
      "Scraping: https://www.mediamarkt.es/es/category/_cargadores-inal%C3%A1mbricos-702527.html\n",
      "Número de páginas: 3\n"
     ]
    },
    {
     "name": "stderr",
     "output_type": "stream",
     "text": [
      "100%|██████████| 3/3 [00:03<00:00,  1.28s/it]\n"
     ]
    },
    {
     "name": "stdout",
     "output_type": "stream",
     "text": [
      "Escaneando pagina 995 de 1012\n",
      "Scraping: https://www.mediamarkt.es/es/category/_cargadores-universales-702528.html\n",
      "Número de páginas: 2\n"
     ]
    },
    {
     "name": "stderr",
     "output_type": "stream",
     "text": [
      "100%|██████████| 2/2 [00:02<00:00,  1.18s/it]\n"
     ]
    },
    {
     "name": "stdout",
     "output_type": "stream",
     "text": [
      "Escaneando pagina 996 de 1012\n",
      "Scraping: https://www.mediamarkt.es/es/category/_cargadores-auto-702529.html\n",
      "Número de páginas: 5\n"
     ]
    },
    {
     "name": "stderr",
     "output_type": "stream",
     "text": [
      "100%|██████████| 5/5 [00:06<00:00,  1.23s/it]\n"
     ]
    },
    {
     "name": "stdout",
     "output_type": "stream",
     "text": [
      "Escaneando pagina 997 de 1012\n",
      "Scraping: https://www.mediamarkt.es/es/category/_casa-702530.html\n",
      "Número de páginas: 6\n"
     ]
    },
    {
     "name": "stderr",
     "output_type": "stream",
     "text": [
      "100%|██████████| 6/6 [00:08<00:00,  1.30s/it]\n"
     ]
    },
    {
     "name": "stdout",
     "output_type": "stream",
     "text": [
      "Escaneando pagina 998 de 1012\n",
      "Scraping: https://www.mediamarkt.es/es/category/_docks-702531.html\n"
     ]
    },
    {
     "name": "stderr",
     "output_type": "stream",
     "text": [
      "0it [00:00, ?it/s]\n"
     ]
    },
    {
     "name": "stdout",
     "output_type": "stream",
     "text": [
      "Escaneando pagina 999 de 1012\n",
      "Scraping: https://www.mediamarkt.es/es/category/_cables-y-adaptadores-701493.html\n",
      "Número de páginas: 11\n"
     ]
    },
    {
     "name": "stderr",
     "output_type": "stream",
     "text": [
      "100%|██████████| 11/11 [00:14<00:00,  1.45s/it]\n"
     ]
    },
    {
     "name": "stdout",
     "output_type": "stream",
     "text": [
      "Escaneando pagina 1000 de 1012\n",
      "Scraping: https://www.mediamarkt.es/es/category/_cables-de-datos%C2%A0-702532.html\n",
      "Número de páginas: 8\n"
     ]
    },
    {
     "name": "stderr",
     "output_type": "stream",
     "text": [
      "100%|██████████| 8/8 [00:11<00:00,  1.43s/it]\n"
     ]
    },
    {
     "name": "stdout",
     "output_type": "stream",
     "text": [
      "Escaneando pagina 1001 de 1012\n",
      "Scraping: https://www.mediamarkt.es/es/category/_cables-de-video%C2%A0-702533.html\n"
     ]
    },
    {
     "name": "stderr",
     "output_type": "stream",
     "text": [
      "0it [00:00, ?it/s]\n"
     ]
    },
    {
     "name": "stdout",
     "output_type": "stream",
     "text": [
      "Escaneando pagina 1002 de 1012\n",
      "Scraping: https://www.mediamarkt.es/es/category/_cables-de-audio%C2%A0-702534.html\n"
     ]
    },
    {
     "name": "stderr",
     "output_type": "stream",
     "text": [
      "0it [00:00, ?it/s]\n"
     ]
    },
    {
     "name": "stdout",
     "output_type": "stream",
     "text": [
      "Escaneando pagina 1003 de 1012\n",
      "Scraping: https://www.mediamarkt.es/es/category/_adaptadores-m%C3%B3viles-702535.html\n"
     ]
    },
    {
     "name": "stderr",
     "output_type": "stream",
     "text": [
      "0it [00:00, ?it/s]\n"
     ]
    },
    {
     "name": "stdout",
     "output_type": "stream",
     "text": [
      "Escaneando pagina 1004 de 1012\n",
      "Scraping: https://www.mediamarkt.es/es/category/_manos-libres-701494.html\n"
     ]
    },
    {
     "name": "stderr",
     "output_type": "stream",
     "text": [
      "0it [00:00, ?it/s]\n"
     ]
    },
    {
     "name": "stdout",
     "output_type": "stream",
     "text": [
      "Escaneando pagina 1005 de 1012\n",
      "Scraping: https://www.mediamarkt.es/es/category/_manos-libre-coche-702536.html\n"
     ]
    },
    {
     "name": "stderr",
     "output_type": "stream",
     "text": [
      "0it [00:00, ?it/s]\n"
     ]
    },
    {
     "name": "stdout",
     "output_type": "stream",
     "text": [
      "Escaneando pagina 1006 de 1012\n",
      "Scraping: https://www.mediamarkt.es/es/category/_adaptadores-sim-712009.html\n"
     ]
    },
    {
     "name": "stderr",
     "output_type": "stream",
     "text": [
      "0it [00:00, ?it/s]\n"
     ]
    },
    {
     "name": "stdout",
     "output_type": "stream",
     "text": [
      "Escaneando pagina 1007 de 1012\n",
      "Scraping: https://www.mediamarkt.es/es/category/_telefon%C3%ADa-dom%C3%A9stica-701196.html\n",
      "Número de páginas: 8\n"
     ]
    },
    {
     "name": "stderr",
     "output_type": "stream",
     "text": [
      "100%|██████████| 8/8 [00:13<00:00,  1.58s/it]\n"
     ]
    },
    {
     "name": "stdout",
     "output_type": "stream",
     "text": [
      "Escaneando pagina 1008 de 1012\n",
      "Scraping: https://www.mediamarkt.es/es/category/_tel%C3%A9fonos-inal%C3%A1mbricos-701498.html\n",
      "Número de páginas: 7\n"
     ]
    },
    {
     "name": "stderr",
     "output_type": "stream",
     "text": [
      "100%|██████████| 7/7 [00:08<00:00,  1.12s/it]\n"
     ]
    },
    {
     "name": "stdout",
     "output_type": "stream",
     "text": [
      "Escaneando pagina 1009 de 1012\n",
      "Scraping: https://www.mediamarkt.es/es/category/_tel%C3%A9fonos-fijos-sobremesa-701499.html\n",
      "Número de páginas: 2\n"
     ]
    },
    {
     "name": "stderr",
     "output_type": "stream",
     "text": [
      "100%|██████████| 2/2 [00:01<00:00,  1.01it/s]\n"
     ]
    },
    {
     "name": "stdout",
     "output_type": "stream",
     "text": [
      "Escaneando pagina 1010 de 1012\n",
      "Scraping: https://www.mediamarkt.es/es/category/_fax-701502.html\n"
     ]
    },
    {
     "name": "stderr",
     "output_type": "stream",
     "text": [
      "0it [00:00, ?it/s]\n"
     ]
    },
    {
     "name": "stdout",
     "output_type": "stream",
     "text": [
      "Escaneando pagina 1011 de 1012\n",
      "Scraping: https://www.mediamarkt.es/es/category/_walkie-talkie-701503.html\n"
     ]
    },
    {
     "name": "stderr",
     "output_type": "stream",
     "text": [
      "0it [00:00, ?it/s]\n"
     ]
    },
    {
     "name": "stdout",
     "output_type": "stream",
     "text": [
      "Escaneando pagina 1012 de 1012\n",
      "Scraping: https://www.mediamarkt.es/es/category/_accesorios-telefon%C3%ADa-fija-701501.html\n"
     ]
    },
    {
     "name": "stderr",
     "output_type": "stream",
     "text": [
      "0it [00:00, ?it/s]\n"
     ]
    },
    {
     "name": "stdout",
     "output_type": "stream",
     "text": [
      "Done. The prices have been scrapped.\n"
     ]
    }
   ],
   "source": [
    "k=711\n",
    "#for link in pagelinks[1:10]:\n",
    "for link in pagelinks[711:]:\n",
    "    k += 1\n",
    "    #print(\"Escaneando pagina %d de %d\" % (k, len(pagelinks[1:10])))\n",
    "    print(\"Escaneando pagina %d de %d\" % (k, len(pagelinks)))\n",
    "    products = get_data(link, dat)\n",
    "    time.sleep(2)\n",
    "    total_products = total_products.append(products)\n",
    "        \n",
    "print(\"Done. The prices have been scrapped.\")"
   ]
  },
  {
   "cell_type": "code",
   "execution_count": 73,
   "metadata": {
    "scrolled": true
   },
   "outputs": [
    {
     "data": {
      "text/plain": [
       "brand           object\n",
       "category        object\n",
       "dimension10     object\n",
       "dimension11     object\n",
       "dimension24    float64\n",
       "dimension25     object\n",
       "dimension26    float64\n",
       "dimension9      object\n",
       "ean             object\n",
       "id              object\n",
       "name            object\n",
       "price          float64\n",
       "dtype: object"
      ]
     },
     "execution_count": 73,
     "metadata": {},
     "output_type": "execute_result"
    }
   ],
   "source": [
    "total_products.dtypes"
   ]
  },
  {
   "cell_type": "code",
   "execution_count": 82,
   "metadata": {},
   "outputs": [
    {
     "data": {
      "text/html": [
       "<div>\n",
       "<style scoped>\n",
       "    .dataframe tbody tr th:only-of-type {\n",
       "        vertical-align: middle;\n",
       "    }\n",
       "\n",
       "    .dataframe tbody tr th {\n",
       "        vertical-align: top;\n",
       "    }\n",
       "\n",
       "    .dataframe thead th {\n",
       "        text-align: right;\n",
       "    }\n",
       "</style>\n",
       "<table border=\"1\" class=\"dataframe\">\n",
       "  <thead>\n",
       "    <tr style=\"text-align: right;\">\n",
       "      <th></th>\n",
       "      <th>brand</th>\n",
       "      <th>category</th>\n",
       "      <th>dimension10</th>\n",
       "      <th>dimension11</th>\n",
       "      <th>dimension24</th>\n",
       "      <th>dimension25</th>\n",
       "      <th>dimension26</th>\n",
       "      <th>dimension9</th>\n",
       "      <th>ean</th>\n",
       "      <th>id</th>\n",
       "      <th>name</th>\n",
       "      <th>price</th>\n",
       "    </tr>\n",
       "  </thead>\n",
       "  <tbody>\n",
       "    <tr>\n",
       "      <th>0</th>\n",
       "      <td>PHILIPS</td>\n",
       "      <td>Belleza y salud</td>\n",
       "      <td>Afeitadoras faciales</td>\n",
       "      <td>NaN</td>\n",
       "      <td>21.0</td>\n",
       "      <td>OutOfStock</td>\n",
       "      <td>1.99</td>\n",
       "      <td>Afeitado y depilación</td>\n",
       "      <td>8710103738350</td>\n",
       "      <td>1293941</td>\n",
       "      <td>Afeitadora - Philips S 5110/06 Cabezales Flex,...</td>\n",
       "      <td>57.99</td>\n",
       "    </tr>\n",
       "    <tr>\n",
       "      <th>1</th>\n",
       "      <td>PHILIPS</td>\n",
       "      <td>Belleza y salud</td>\n",
       "      <td>Afeitadoras faciales</td>\n",
       "      <td>NaN</td>\n",
       "      <td>21.0</td>\n",
       "      <td>InStock</td>\n",
       "      <td>1.99</td>\n",
       "      <td>Afeitado y depilación</td>\n",
       "      <td>8710103764588</td>\n",
       "      <td>1317305</td>\n",
       "      <td>Afeitadora - Philips Shaver S1510/04, Recargab...</td>\n",
       "      <td>41.99</td>\n",
       "    </tr>\n",
       "    <tr>\n",
       "      <th>2</th>\n",
       "      <td>PHILIPS</td>\n",
       "      <td>Belleza y salud</td>\n",
       "      <td>Afeitadoras faciales</td>\n",
       "      <td>NaN</td>\n",
       "      <td>21.0</td>\n",
       "      <td>InStock</td>\n",
       "      <td>1.99</td>\n",
       "      <td>Afeitado y depilación</td>\n",
       "      <td>8710103819219</td>\n",
       "      <td>1360370</td>\n",
       "      <td>Afeitadora - Philips S5550/06, Cuchillas Multi...</td>\n",
       "      <td>89.90</td>\n",
       "    </tr>\n",
       "    <tr>\n",
       "      <th>28</th>\n",
       "      <td>GIGASET</td>\n",
       "      <td>Negocio y oficina</td>\n",
       "      <td>Teléfonos Fijos</td>\n",
       "      <td>NaN</td>\n",
       "      <td>21.0</td>\n",
       "      <td>InStock</td>\n",
       "      <td>1.99</td>\n",
       "      <td>Telefonía fija</td>\n",
       "      <td>4250366837772</td>\n",
       "      <td>1318052</td>\n",
       "      <td>Teléfono - Gigaset DA210 Montaje sobremesa o p...</td>\n",
       "      <td>13.99</td>\n",
       "    </tr>\n",
       "    <tr>\n",
       "      <th>29</th>\n",
       "      <td>SPC</td>\n",
       "      <td>Negocio y oficina</td>\n",
       "      <td>Teléfonos Fijos</td>\n",
       "      <td>NaN</td>\n",
       "      <td>21.0</td>\n",
       "      <td>InStock</td>\n",
       "      <td>1.99</td>\n",
       "      <td>Telefonía fija</td>\n",
       "      <td>8436542852906</td>\n",
       "      <td>1298052</td>\n",
       "      <td>Teléfono - SPC 3601N, sobremesa o mural, indic...</td>\n",
       "      <td>10.99</td>\n",
       "    </tr>\n",
       "    <tr>\n",
       "      <th>30</th>\n",
       "      <td>DAEWOO</td>\n",
       "      <td>Negocio y oficina</td>\n",
       "      <td>Teléfonos Fijos</td>\n",
       "      <td>NaN</td>\n",
       "      <td>21.0</td>\n",
       "      <td>InStock</td>\n",
       "      <td>1.99</td>\n",
       "      <td>Telefonía fija</td>\n",
       "      <td>8413240585145</td>\n",
       "      <td>1294351</td>\n",
       "      <td>Teléfono - Daewoo DTC160, Pantalla LCD, Sobrem...</td>\n",
       "      <td>16.90</td>\n",
       "    </tr>\n",
       "  </tbody>\n",
       "</table>\n",
       "</div>"
      ],
      "text/plain": [
       "      brand           category           dimension10 dimension11  dimension24  \\\n",
       "0   PHILIPS    Belleza y salud  Afeitadoras faciales         NaN         21.0   \n",
       "1   PHILIPS    Belleza y salud  Afeitadoras faciales         NaN         21.0   \n",
       "2   PHILIPS    Belleza y salud  Afeitadoras faciales         NaN         21.0   \n",
       "28  GIGASET  Negocio y oficina       Teléfonos Fijos         NaN         21.0   \n",
       "29      SPC  Negocio y oficina       Teléfonos Fijos         NaN         21.0   \n",
       "30   DAEWOO  Negocio y oficina       Teléfonos Fijos         NaN         21.0   \n",
       "\n",
       "   dimension25  dimension26             dimension9            ean       id  \\\n",
       "0   OutOfStock         1.99  Afeitado y depilación  8710103738350  1293941   \n",
       "1      InStock         1.99  Afeitado y depilación  8710103764588  1317305   \n",
       "2      InStock         1.99  Afeitado y depilación  8710103819219  1360370   \n",
       "28     InStock         1.99         Telefonía fija  4250366837772  1318052   \n",
       "29     InStock         1.99         Telefonía fija  8436542852906  1298052   \n",
       "30     InStock         1.99         Telefonía fija  8413240585145  1294351   \n",
       "\n",
       "                                                 name  price  \n",
       "0   Afeitadora - Philips S 5110/06 Cabezales Flex,...  57.99  \n",
       "1   Afeitadora - Philips Shaver S1510/04, Recargab...  41.99  \n",
       "2   Afeitadora - Philips S5550/06, Cuchillas Multi...  89.90  \n",
       "28  Teléfono - Gigaset DA210 Montaje sobremesa o p...  13.99  \n",
       "29  Teléfono - SPC 3601N, sobremesa o mural, indic...  10.99  \n",
       "30  Teléfono - Daewoo DTC160, Pantalla LCD, Sobrem...  16.90  "
      ]
     },
     "execution_count": 82,
     "metadata": {},
     "output_type": "execute_result"
    }
   ],
   "source": [
    "# Muestramos las primeras y últimas filas\n",
    "total_products.iloc[np.r_[0:3, -3:0]]"
   ]
  },
  {
   "cell_type": "code",
   "execution_count": 84,
   "metadata": {},
   "outputs": [
    {
     "data": {
      "text/html": [
       "<div>\n",
       "<style scoped>\n",
       "    .dataframe tbody tr th:only-of-type {\n",
       "        vertical-align: middle;\n",
       "    }\n",
       "\n",
       "    .dataframe tbody tr th {\n",
       "        vertical-align: top;\n",
       "    }\n",
       "\n",
       "    .dataframe thead th {\n",
       "        text-align: right;\n",
       "    }\n",
       "</style>\n",
       "<table border=\"1\" class=\"dataframe\">\n",
       "  <thead>\n",
       "    <tr style=\"text-align: right;\">\n",
       "      <th></th>\n",
       "      <th>brand</th>\n",
       "      <th>category</th>\n",
       "      <th>dimension10</th>\n",
       "      <th>dimension11</th>\n",
       "      <th>dimension24</th>\n",
       "      <th>dimension25</th>\n",
       "      <th>dimension26</th>\n",
       "      <th>dimension9</th>\n",
       "      <th>ean</th>\n",
       "      <th>id</th>\n",
       "      <th>name</th>\n",
       "      <th>price</th>\n",
       "    </tr>\n",
       "  </thead>\n",
       "  <tbody>\n",
       "    <tr>\n",
       "      <th>0</th>\n",
       "      <td>PHILIPS</td>\n",
       "      <td>Belleza y salud</td>\n",
       "      <td>Afeitadoras faciales</td>\n",
       "      <td>NaN</td>\n",
       "      <td>21.0</td>\n",
       "      <td>OutOfStock</td>\n",
       "      <td>1.99</td>\n",
       "      <td>Afeitado y depilación</td>\n",
       "      <td>8710103738350</td>\n",
       "      <td>1293941</td>\n",
       "      <td>Afeitadora - Philips S 5110/06 Cabezales Flex,...</td>\n",
       "      <td>57.99</td>\n",
       "    </tr>\n",
       "    <tr>\n",
       "      <th>1</th>\n",
       "      <td>PHILIPS</td>\n",
       "      <td>Belleza y salud</td>\n",
       "      <td>Afeitadoras faciales</td>\n",
       "      <td>NaN</td>\n",
       "      <td>21.0</td>\n",
       "      <td>InStock</td>\n",
       "      <td>1.99</td>\n",
       "      <td>Afeitado y depilación</td>\n",
       "      <td>8710103764588</td>\n",
       "      <td>1317305</td>\n",
       "      <td>Afeitadora - Philips Shaver S1510/04, Recargab...</td>\n",
       "      <td>41.99</td>\n",
       "    </tr>\n",
       "    <tr>\n",
       "      <th>2</th>\n",
       "      <td>PHILIPS</td>\n",
       "      <td>Belleza y salud</td>\n",
       "      <td>Afeitadoras faciales</td>\n",
       "      <td>NaN</td>\n",
       "      <td>21.0</td>\n",
       "      <td>InStock</td>\n",
       "      <td>1.99</td>\n",
       "      <td>Afeitado y depilación</td>\n",
       "      <td>8710103819219</td>\n",
       "      <td>1360370</td>\n",
       "      <td>Afeitadora - Philips S5550/06, Cuchillas Multi...</td>\n",
       "      <td>89.90</td>\n",
       "    </tr>\n",
       "    <tr>\n",
       "      <th>49996</th>\n",
       "      <td>GIGASET</td>\n",
       "      <td>Negocio y oficina</td>\n",
       "      <td>Teléfonos Fijos</td>\n",
       "      <td>NaN</td>\n",
       "      <td>21.0</td>\n",
       "      <td>InStock</td>\n",
       "      <td>1.99</td>\n",
       "      <td>Telefonía fija</td>\n",
       "      <td>4250366837772</td>\n",
       "      <td>1318052</td>\n",
       "      <td>Teléfono - Gigaset DA210 Montaje sobremesa o p...</td>\n",
       "      <td>13.99</td>\n",
       "    </tr>\n",
       "    <tr>\n",
       "      <th>49997</th>\n",
       "      <td>SPC</td>\n",
       "      <td>Negocio y oficina</td>\n",
       "      <td>Teléfonos Fijos</td>\n",
       "      <td>NaN</td>\n",
       "      <td>21.0</td>\n",
       "      <td>InStock</td>\n",
       "      <td>1.99</td>\n",
       "      <td>Telefonía fija</td>\n",
       "      <td>8436542852906</td>\n",
       "      <td>1298052</td>\n",
       "      <td>Teléfono - SPC 3601N, sobremesa o mural, indic...</td>\n",
       "      <td>10.99</td>\n",
       "    </tr>\n",
       "    <tr>\n",
       "      <th>49998</th>\n",
       "      <td>DAEWOO</td>\n",
       "      <td>Negocio y oficina</td>\n",
       "      <td>Teléfonos Fijos</td>\n",
       "      <td>NaN</td>\n",
       "      <td>21.0</td>\n",
       "      <td>InStock</td>\n",
       "      <td>1.99</td>\n",
       "      <td>Telefonía fija</td>\n",
       "      <td>8413240585145</td>\n",
       "      <td>1294351</td>\n",
       "      <td>Teléfono - Daewoo DTC160, Pantalla LCD, Sobrem...</td>\n",
       "      <td>16.90</td>\n",
       "    </tr>\n",
       "  </tbody>\n",
       "</table>\n",
       "</div>"
      ],
      "text/plain": [
       "         brand           category           dimension10 dimension11  \\\n",
       "0      PHILIPS    Belleza y salud  Afeitadoras faciales         NaN   \n",
       "1      PHILIPS    Belleza y salud  Afeitadoras faciales         NaN   \n",
       "2      PHILIPS    Belleza y salud  Afeitadoras faciales         NaN   \n",
       "49996  GIGASET  Negocio y oficina       Teléfonos Fijos         NaN   \n",
       "49997      SPC  Negocio y oficina       Teléfonos Fijos         NaN   \n",
       "49998   DAEWOO  Negocio y oficina       Teléfonos Fijos         NaN   \n",
       "\n",
       "       dimension24 dimension25  dimension26             dimension9  \\\n",
       "0             21.0  OutOfStock         1.99  Afeitado y depilación   \n",
       "1             21.0     InStock         1.99  Afeitado y depilación   \n",
       "2             21.0     InStock         1.99  Afeitado y depilación   \n",
       "49996         21.0     InStock         1.99         Telefonía fija   \n",
       "49997         21.0     InStock         1.99         Telefonía fija   \n",
       "49998         21.0     InStock         1.99         Telefonía fija   \n",
       "\n",
       "                 ean       id  \\\n",
       "0      8710103738350  1293941   \n",
       "1      8710103764588  1317305   \n",
       "2      8710103819219  1360370   \n",
       "49996  4250366837772  1318052   \n",
       "49997  8436542852906  1298052   \n",
       "49998  8413240585145  1294351   \n",
       "\n",
       "                                                    name  price  \n",
       "0      Afeitadora - Philips S 5110/06 Cabezales Flex,...  57.99  \n",
       "1      Afeitadora - Philips Shaver S1510/04, Recargab...  41.99  \n",
       "2      Afeitadora - Philips S5550/06, Cuchillas Multi...  89.90  \n",
       "49996  Teléfono - Gigaset DA210 Montaje sobremesa o p...  13.99  \n",
       "49997  Teléfono - SPC 3601N, sobremesa o mural, indic...  10.99  \n",
       "49998  Teléfono - Daewoo DTC160, Pantalla LCD, Sobrem...  16.90  "
      ]
     },
     "execution_count": 84,
     "metadata": {},
     "output_type": "execute_result"
    }
   ],
   "source": [
    "# Reindexamos el dataframe y volvemos a mostrar primeras y últimas filas\n",
    "total_products = total_products.reset_index(drop=True)\n",
    "total_products.iloc[np.r_[0:3, -3:0]]"
   ]
  },
  {
   "cell_type": "code",
   "execution_count": 93,
   "metadata": {},
   "outputs": [],
   "source": [
    "# Obtenemos la fecha del sistema\n",
    "now = datetime.datetime.now()"
   ]
  },
  {
   "cell_type": "code",
   "execution_count": 94,
   "metadata": {},
   "outputs": [
    {
     "data": {
      "text/plain": [
       "'2019-04-09'"
      ]
     },
     "execution_count": 94,
     "metadata": {},
     "output_type": "execute_result"
    }
   ],
   "source": [
    "# Solo nos interesa el día\n",
    "now.strftime(\"%Y-%m-%d\")"
   ]
  },
  {
   "cell_type": "code",
   "execution_count": 95,
   "metadata": {},
   "outputs": [],
   "source": [
    "# Añadimos la fecha\n",
    "total_products['date'] = now.strftime(\"%Y-%m-%d\")"
   ]
  },
  {
   "cell_type": "code",
   "execution_count": 96,
   "metadata": {},
   "outputs": [
    {
     "data": {
      "text/html": [
       "<div>\n",
       "<style scoped>\n",
       "    .dataframe tbody tr th:only-of-type {\n",
       "        vertical-align: middle;\n",
       "    }\n",
       "\n",
       "    .dataframe tbody tr th {\n",
       "        vertical-align: top;\n",
       "    }\n",
       "\n",
       "    .dataframe thead th {\n",
       "        text-align: right;\n",
       "    }\n",
       "</style>\n",
       "<table border=\"1\" class=\"dataframe\">\n",
       "  <thead>\n",
       "    <tr style=\"text-align: right;\">\n",
       "      <th></th>\n",
       "      <th>brand</th>\n",
       "      <th>category</th>\n",
       "      <th>dimension10</th>\n",
       "      <th>dimension11</th>\n",
       "      <th>dimension24</th>\n",
       "      <th>dimension25</th>\n",
       "      <th>dimension26</th>\n",
       "      <th>dimension9</th>\n",
       "      <th>ean</th>\n",
       "      <th>id</th>\n",
       "      <th>name</th>\n",
       "      <th>price</th>\n",
       "      <th>date</th>\n",
       "    </tr>\n",
       "  </thead>\n",
       "  <tbody>\n",
       "    <tr>\n",
       "      <th>0</th>\n",
       "      <td>PHILIPS</td>\n",
       "      <td>Belleza y salud</td>\n",
       "      <td>Afeitadoras faciales</td>\n",
       "      <td>NaN</td>\n",
       "      <td>21.0</td>\n",
       "      <td>OutOfStock</td>\n",
       "      <td>1.99</td>\n",
       "      <td>Afeitado y depilación</td>\n",
       "      <td>8710103738350</td>\n",
       "      <td>1293941</td>\n",
       "      <td>Afeitadora - Philips S 5110/06 Cabezales Flex,...</td>\n",
       "      <td>57.99</td>\n",
       "      <td>2019-04-09</td>\n",
       "    </tr>\n",
       "    <tr>\n",
       "      <th>1</th>\n",
       "      <td>PHILIPS</td>\n",
       "      <td>Belleza y salud</td>\n",
       "      <td>Afeitadoras faciales</td>\n",
       "      <td>NaN</td>\n",
       "      <td>21.0</td>\n",
       "      <td>InStock</td>\n",
       "      <td>1.99</td>\n",
       "      <td>Afeitado y depilación</td>\n",
       "      <td>8710103764588</td>\n",
       "      <td>1317305</td>\n",
       "      <td>Afeitadora - Philips Shaver S1510/04, Recargab...</td>\n",
       "      <td>41.99</td>\n",
       "      <td>2019-04-09</td>\n",
       "    </tr>\n",
       "    <tr>\n",
       "      <th>2</th>\n",
       "      <td>PHILIPS</td>\n",
       "      <td>Belleza y salud</td>\n",
       "      <td>Afeitadoras faciales</td>\n",
       "      <td>NaN</td>\n",
       "      <td>21.0</td>\n",
       "      <td>InStock</td>\n",
       "      <td>1.99</td>\n",
       "      <td>Afeitado y depilación</td>\n",
       "      <td>8710103819219</td>\n",
       "      <td>1360370</td>\n",
       "      <td>Afeitadora - Philips S5550/06, Cuchillas Multi...</td>\n",
       "      <td>89.90</td>\n",
       "      <td>2019-04-09</td>\n",
       "    </tr>\n",
       "    <tr>\n",
       "      <th>49996</th>\n",
       "      <td>GIGASET</td>\n",
       "      <td>Negocio y oficina</td>\n",
       "      <td>Teléfonos Fijos</td>\n",
       "      <td>NaN</td>\n",
       "      <td>21.0</td>\n",
       "      <td>InStock</td>\n",
       "      <td>1.99</td>\n",
       "      <td>Telefonía fija</td>\n",
       "      <td>4250366837772</td>\n",
       "      <td>1318052</td>\n",
       "      <td>Teléfono - Gigaset DA210 Montaje sobremesa o p...</td>\n",
       "      <td>13.99</td>\n",
       "      <td>2019-04-09</td>\n",
       "    </tr>\n",
       "    <tr>\n",
       "      <th>49997</th>\n",
       "      <td>SPC</td>\n",
       "      <td>Negocio y oficina</td>\n",
       "      <td>Teléfonos Fijos</td>\n",
       "      <td>NaN</td>\n",
       "      <td>21.0</td>\n",
       "      <td>InStock</td>\n",
       "      <td>1.99</td>\n",
       "      <td>Telefonía fija</td>\n",
       "      <td>8436542852906</td>\n",
       "      <td>1298052</td>\n",
       "      <td>Teléfono - SPC 3601N, sobremesa o mural, indic...</td>\n",
       "      <td>10.99</td>\n",
       "      <td>2019-04-09</td>\n",
       "    </tr>\n",
       "    <tr>\n",
       "      <th>49998</th>\n",
       "      <td>DAEWOO</td>\n",
       "      <td>Negocio y oficina</td>\n",
       "      <td>Teléfonos Fijos</td>\n",
       "      <td>NaN</td>\n",
       "      <td>21.0</td>\n",
       "      <td>InStock</td>\n",
       "      <td>1.99</td>\n",
       "      <td>Telefonía fija</td>\n",
       "      <td>8413240585145</td>\n",
       "      <td>1294351</td>\n",
       "      <td>Teléfono - Daewoo DTC160, Pantalla LCD, Sobrem...</td>\n",
       "      <td>16.90</td>\n",
       "      <td>2019-04-09</td>\n",
       "    </tr>\n",
       "  </tbody>\n",
       "</table>\n",
       "</div>"
      ],
      "text/plain": [
       "         brand           category           dimension10 dimension11  \\\n",
       "0      PHILIPS    Belleza y salud  Afeitadoras faciales         NaN   \n",
       "1      PHILIPS    Belleza y salud  Afeitadoras faciales         NaN   \n",
       "2      PHILIPS    Belleza y salud  Afeitadoras faciales         NaN   \n",
       "49996  GIGASET  Negocio y oficina       Teléfonos Fijos         NaN   \n",
       "49997      SPC  Negocio y oficina       Teléfonos Fijos         NaN   \n",
       "49998   DAEWOO  Negocio y oficina       Teléfonos Fijos         NaN   \n",
       "\n",
       "       dimension24 dimension25  dimension26             dimension9  \\\n",
       "0             21.0  OutOfStock         1.99  Afeitado y depilación   \n",
       "1             21.0     InStock         1.99  Afeitado y depilación   \n",
       "2             21.0     InStock         1.99  Afeitado y depilación   \n",
       "49996         21.0     InStock         1.99         Telefonía fija   \n",
       "49997         21.0     InStock         1.99         Telefonía fija   \n",
       "49998         21.0     InStock         1.99         Telefonía fija   \n",
       "\n",
       "                 ean       id  \\\n",
       "0      8710103738350  1293941   \n",
       "1      8710103764588  1317305   \n",
       "2      8710103819219  1360370   \n",
       "49996  4250366837772  1318052   \n",
       "49997  8436542852906  1298052   \n",
       "49998  8413240585145  1294351   \n",
       "\n",
       "                                                    name  price        date  \n",
       "0      Afeitadora - Philips S 5110/06 Cabezales Flex,...  57.99  2019-04-09  \n",
       "1      Afeitadora - Philips Shaver S1510/04, Recargab...  41.99  2019-04-09  \n",
       "2      Afeitadora - Philips S5550/06, Cuchillas Multi...  89.90  2019-04-09  \n",
       "49996  Teléfono - Gigaset DA210 Montaje sobremesa o p...  13.99  2019-04-09  \n",
       "49997  Teléfono - SPC 3601N, sobremesa o mural, indic...  10.99  2019-04-09  \n",
       "49998  Teléfono - Daewoo DTC160, Pantalla LCD, Sobrem...  16.90  2019-04-09  "
      ]
     },
     "execution_count": 96,
     "metadata": {},
     "output_type": "execute_result"
    }
   ],
   "source": [
    "total_products.iloc[np.r_[0:3, -3:0]]"
   ]
  },
  {
   "cell_type": "code",
   "execution_count": 106,
   "metadata": {},
   "outputs": [],
   "source": [
    "total_products = total_products.drop_duplicates()"
   ]
  },
  {
   "cell_type": "code",
   "execution_count": 108,
   "metadata": {},
   "outputs": [
    {
     "data": {
      "text/html": [
       "<div>\n",
       "<style scoped>\n",
       "    .dataframe tbody tr th:only-of-type {\n",
       "        vertical-align: middle;\n",
       "    }\n",
       "\n",
       "    .dataframe tbody tr th {\n",
       "        vertical-align: top;\n",
       "    }\n",
       "\n",
       "    .dataframe thead th {\n",
       "        text-align: right;\n",
       "    }\n",
       "</style>\n",
       "<table border=\"1\" class=\"dataframe\">\n",
       "  <thead>\n",
       "    <tr style=\"text-align: right;\">\n",
       "      <th></th>\n",
       "      <th>brand</th>\n",
       "      <th>category</th>\n",
       "      <th>dimension10</th>\n",
       "      <th>dimension11</th>\n",
       "      <th>dimension24</th>\n",
       "      <th>dimension25</th>\n",
       "      <th>dimension26</th>\n",
       "      <th>dimension9</th>\n",
       "      <th>ean</th>\n",
       "      <th>id</th>\n",
       "      <th>name</th>\n",
       "      <th>price</th>\n",
       "      <th>date</th>\n",
       "    </tr>\n",
       "  </thead>\n",
       "  <tbody>\n",
       "    <tr>\n",
       "      <th>0</th>\n",
       "      <td>PHILIPS</td>\n",
       "      <td>Belleza y salud</td>\n",
       "      <td>Afeitadoras faciales</td>\n",
       "      <td>NaN</td>\n",
       "      <td>21.0</td>\n",
       "      <td>OutOfStock</td>\n",
       "      <td>1.99</td>\n",
       "      <td>Afeitado y depilación</td>\n",
       "      <td>8710103738350</td>\n",
       "      <td>1293941</td>\n",
       "      <td>Afeitadora - Philips S 5110/06 Cabezales Flex,...</td>\n",
       "      <td>57.99</td>\n",
       "      <td>2019-04-09</td>\n",
       "    </tr>\n",
       "    <tr>\n",
       "      <th>1</th>\n",
       "      <td>PHILIPS</td>\n",
       "      <td>Belleza y salud</td>\n",
       "      <td>Afeitadoras faciales</td>\n",
       "      <td>NaN</td>\n",
       "      <td>21.0</td>\n",
       "      <td>InStock</td>\n",
       "      <td>1.99</td>\n",
       "      <td>Afeitado y depilación</td>\n",
       "      <td>8710103764588</td>\n",
       "      <td>1317305</td>\n",
       "      <td>Afeitadora - Philips Shaver S1510/04, Recargab...</td>\n",
       "      <td>41.99</td>\n",
       "      <td>2019-04-09</td>\n",
       "    </tr>\n",
       "    <tr>\n",
       "      <th>2</th>\n",
       "      <td>PHILIPS</td>\n",
       "      <td>Belleza y salud</td>\n",
       "      <td>Afeitadoras faciales</td>\n",
       "      <td>NaN</td>\n",
       "      <td>21.0</td>\n",
       "      <td>InStock</td>\n",
       "      <td>1.99</td>\n",
       "      <td>Afeitado y depilación</td>\n",
       "      <td>8710103819219</td>\n",
       "      <td>1360370</td>\n",
       "      <td>Afeitadora - Philips S5550/06, Cuchillas Multi...</td>\n",
       "      <td>89.90</td>\n",
       "      <td>2019-04-09</td>\n",
       "    </tr>\n",
       "    <tr>\n",
       "      <th>24778</th>\n",
       "      <td>CELLULAR LINE</td>\n",
       "      <td>Telefonía</td>\n",
       "      <td>Cables y adaptadores</td>\n",
       "      <td>NaN</td>\n",
       "      <td>21.0</td>\n",
       "      <td>OutOfStock</td>\n",
       "      <td>1.99</td>\n",
       "      <td>Accesorios para móviles</td>\n",
       "      <td>8018080197826</td>\n",
       "      <td>1221004</td>\n",
       "      <td>Cable adaptador micro USB a USB - Cellular Lin...</td>\n",
       "      <td>9.99</td>\n",
       "      <td>2019-04-09</td>\n",
       "    </tr>\n",
       "    <tr>\n",
       "      <th>24779</th>\n",
       "      <td>KSIX</td>\n",
       "      <td>Telefonía</td>\n",
       "      <td>Cables y adaptadores</td>\n",
       "      <td>NaN</td>\n",
       "      <td>21.0</td>\n",
       "      <td>InStock</td>\n",
       "      <td>1.99</td>\n",
       "      <td>Accesorios para móviles</td>\n",
       "      <td>8427542079233</td>\n",
       "      <td>1357930</td>\n",
       "      <td>Cable USB - Ksix Flexteel Sync &amp; Charge, USB a...</td>\n",
       "      <td>12.90</td>\n",
       "      <td>2019-04-09</td>\n",
       "    </tr>\n",
       "    <tr>\n",
       "      <th>24780</th>\n",
       "      <td>HAMA</td>\n",
       "      <td>Negocio y oficina</td>\n",
       "      <td>Accesorios Telefonía Fija</td>\n",
       "      <td>NaN</td>\n",
       "      <td>21.0</td>\n",
       "      <td>InStock</td>\n",
       "      <td>1.99</td>\n",
       "      <td>Telefonía fija</td>\n",
       "      <td>8432290002273</td>\n",
       "      <td>5300120</td>\n",
       "      <td>Adaptador telefónico - Hama 6914249, Blanco</td>\n",
       "      <td>3.99</td>\n",
       "      <td>2019-04-09</td>\n",
       "    </tr>\n",
       "  </tbody>\n",
       "</table>\n",
       "</div>"
      ],
      "text/plain": [
       "               brand           category                dimension10  \\\n",
       "0            PHILIPS    Belleza y salud       Afeitadoras faciales   \n",
       "1            PHILIPS    Belleza y salud       Afeitadoras faciales   \n",
       "2            PHILIPS    Belleza y salud       Afeitadoras faciales   \n",
       "24778  CELLULAR LINE          Telefonía       Cables y adaptadores   \n",
       "24779           KSIX          Telefonía       Cables y adaptadores   \n",
       "24780           HAMA  Negocio y oficina  Accesorios Telefonía Fija   \n",
       "\n",
       "      dimension11  dimension24 dimension25  dimension26  \\\n",
       "0             NaN         21.0  OutOfStock         1.99   \n",
       "1             NaN         21.0     InStock         1.99   \n",
       "2             NaN         21.0     InStock         1.99   \n",
       "24778         NaN         21.0  OutOfStock         1.99   \n",
       "24779         NaN         21.0     InStock         1.99   \n",
       "24780         NaN         21.0     InStock         1.99   \n",
       "\n",
       "                    dimension9            ean       id  \\\n",
       "0        Afeitado y depilación  8710103738350  1293941   \n",
       "1        Afeitado y depilación  8710103764588  1317305   \n",
       "2        Afeitado y depilación  8710103819219  1360370   \n",
       "24778  Accesorios para móviles  8018080197826  1221004   \n",
       "24779  Accesorios para móviles  8427542079233  1357930   \n",
       "24780           Telefonía fija  8432290002273  5300120   \n",
       "\n",
       "                                                    name  price        date  \n",
       "0      Afeitadora - Philips S 5110/06 Cabezales Flex,...  57.99  2019-04-09  \n",
       "1      Afeitadora - Philips Shaver S1510/04, Recargab...  41.99  2019-04-09  \n",
       "2      Afeitadora - Philips S5550/06, Cuchillas Multi...  89.90  2019-04-09  \n",
       "24778  Cable adaptador micro USB a USB - Cellular Lin...   9.99  2019-04-09  \n",
       "24779  Cable USB - Ksix Flexteel Sync & Charge, USB a...  12.90  2019-04-09  \n",
       "24780        Adaptador telefónico - Hama 6914249, Blanco   3.99  2019-04-09  "
      ]
     },
     "execution_count": 108,
     "metadata": {},
     "output_type": "execute_result"
    }
   ],
   "source": [
    "total_products = summary_products.reset_index(drop=True)\n",
    "total_products.iloc[np.r_[0:3, -3:0]]"
   ]
  },
  {
   "cell_type": "code",
   "execution_count": 110,
   "metadata": {},
   "outputs": [],
   "source": [
    "# Exportamos a csv\n",
    "total_products.to_csv(dat)"
   ]
  },
  {
   "cell_type": "code",
   "execution_count": 111,
   "metadata": {},
   "outputs": [],
   "source": [
    "# Exportamos a excel\n",
    "total_products.to_excel('./data/productinfo.xlsx', engine = 'xlsxwriter')"
   ]
  },
  {
   "cell_type": "code",
   "execution_count": 112,
   "metadata": {},
   "outputs": [
    {
     "data": {
      "text/plain": [
       "array(['Afeitadoras faciales', 'Afeitadoras multifunción',\n",
       "       'Afeitadoras corporales', 'Cortapelos', 'Mascotas y accesorios',\n",
       "       'Barberos', 'Depiladoras IPL', 'Depiladoras de arranque',\n",
       "       'Rasuradoras', 'Recambios y accesorios', 'Secadores de pelo',\n",
       "       'Planchas de pelo', 'Moldeadores de pelo', 'Cepillos de calor',\n",
       "       'Cepillos de dientes', 'Recambios Cuidado Dental', nan,\n",
       "       'Rejuvenecedores-tonificadores', 'Espejos',\n",
       "       'Cepillos y limpiadores faciales', 'Máquinas de sauna facial',\n",
       "       'Masajeadores y anticelulíticos', 'Juguetes sexuales',\n",
       "       'Packs de cuidado corporal', 'Cremas y tratamientos corporales',\n",
       "       'Cavitación y radiofrecuencia', 'Manicura y pedicura',\n",
       "       'Secadores y lámparas UV/LED', 'Hidromasaje y parafina',\n",
       "       'Sets y accesorios', 'Kit de manicura', 'Limadores de durezas',\n",
       "       'Básculas de baño', 'Almohadillas eléctricas', 'Aparatos médicos',\n",
       "       'Termómetros para bebé', 'Masaje',\n",
       "       'Preparación Alimentos para Bebé', 'Vigilabebés',\n",
       "       'Humidificadores', 'Purificadores y difusores',\n",
       "       'Electrodomésticos', 'Cocción', 'Preparación de alimentos',\n",
       "       'Universo retro', 'Telefonía', 'Planchado',\n",
       "       'Cables, regletas y hubs', 'Baterías y Power Banks',\n",
       "       'Accesorios Consolas', 'Auriculares', 'Altavoces HiFi', 'Lavado',\n",
       "       'Cámaras Réflex', 'Cine', 'Aspiradores de mano',\n",
       "       'Cargadores Móvil', 'Fundas y carcasas', 'TV y Audio',\n",
       "       'Informática', 'Accesorios Aspiración y Limpieza',\n",
       "       'Cables y adaptadores', 'Drones', 'Monitores Gaming', 'Series TV',\n",
       "       'Televisores', 'Auriculares Outdoor', 'Merchandising', 'Café y té',\n",
       "       'Música', 'Car Audio y GPS', 'Frigoríficos',\n",
       "       'Accesorios Deporte y Outdoor', 'Detectores y sensores',\n",
       "       'Antenas TV', 'Internet TV / TDT / Satélite', 'Deporte y Foto',\n",
       "       'Alimentación y carga', 'Repostería y cocina divertida', 'Secado',\n",
       "       'Accesorios tablets', 'Portátiles Gaming', 'Pantallas y visores',\n",
       "       'Gadgets', 'Aspiradores sin bolsa', 'Flashes', 'Kits y accesorios',\n",
       "       'Juegos', 'Iluminación Exterior', 'Mantas eléctricas',\n",
       "       'Portátiles de menos de 14\"', 'Todos los portátiles',\n",
       "       'Ventiladores', 'Aire acondicionado', 'Accesorios foto',\n",
       "       'Movilidad urbana', 'Consolas', 'Relojes y pulsómetros',\n",
       "       'Portátiles de 14” a 16.9”', 'Cámaras Deportivas',\n",
       "       'Todas las impresoras', 'Convertibles 2 en 1', 'Barras de sonido',\n",
       "       'Cámaras Bridge', 'All in One', 'Cámaras Compactas',\n",
       "       'Multifunción láser', 'PC Gaming', 'Pulsera actividad',\n",
       "       'Impresoras multifunción', 'Ordenadores', 'Todas las tablets',\n",
       "       'Cámaras Evil', 'Multifunción láser color',\n",
       "       'Minicadenas / Microcadenas', 'Multifunción de tinta',\n",
       "       'Portátiles desde 17”', 'Impresora láser color',\n",
       "       'Impresoras Láser', 'Impresora de tinta', 'Impresora láser',\n",
       "       'Cámaras 360º', 'HiFi', 'Mini PC', 'Home cinema',\n",
       "       'Impresoras de etiquetas', 'Soportes TV', 'Proyectores',\n",
       "       'Soportes Informática', 'Reproductores DVD / Blu-ray',\n",
       "       'Mandos a distancia', 'Cables TV', 'Asistentes digitales',\n",
       "       'Altavoces PC', 'Zona DJ', 'Reproductores de música',\n",
       "       'Grabadoras de voz', 'Controladoras DJ', 'Radio y CD portátil',\n",
       "       'Soportes Móvil', 'Manos libres', 'GPS de montaña',\n",
       "       'Instantáneas y retro', 'Cartuchos y Consumibles',\n",
       "       'Objetivos Cámara', 'Trípodes cámara', 'Palos selfie',\n",
       "       'Almacenamiento', 'Tarjetas microSD', 'Limpieza Televisión',\n",
       "       'Lectores de tarjeta', 'Papelería y material escolar',\n",
       "       'Impresoras Fotográficas', 'Fundas y maletines',\n",
       "       'Limpieza Ordenador', 'Protectores Pantalla Móvil',\n",
       "       'Prismáticos y óptica', 'Lentes para móviles', 'Congeladores',\n",
       "       'Lavavajillas', 'Calefacción', 'Juguetes', 'Costura', 'Vinotecas',\n",
       "       'Equipos de vapor', 'Ergonomía', 'Base refrigerante',\n",
       "       'Deshumificadores Hogar', 'Climatización y refrigeración',\n",
       "       'Barbacoas y grill', 'Hidrolimpiadoras', 'Aspiradores con bolsa',\n",
       "       'Limpieza especial ventanas', 'Limpieza Exterior',\n",
       "       'Accesorios eBook', 'Robots aspiradores', 'Aspiradores escoba',\n",
       "       'Bolsas de aspirador', 'Seguridad y vigilancia',\n",
       "       'Ilum. y ahorro energético', 'Alarmas y timbres',\n",
       "       'Próximos Lanzamientos Juegos', 'Juegos PC y Videojuegos',\n",
       "       'Mandos y simuladores Gaming', 'Sillas y Mesas Gaming',\n",
       "       'Audio y Video Gaming', 'Teclados y Ratones Gaming',\n",
       "       'Toys to Life', 'Ciclismo', 'Walkie-Talkie',\n",
       "       'Próximos Lanzamientos Cine y Música', 'Libros',\n",
       "       'Teléfonos Fijos Inalámbricos', 'Teléfonos Fijos', 'Destructoras',\n",
       "       'Android', 'iOS', 'Todos los monitores', 'Monitor de 19\" a 21.9\"',\n",
       "       'Monitor de 22\" a 26.9\"', 'Monitor desde 27\"',\n",
       "       'Ratones y alfombrillas', 'Componentes',\n",
       "       'Componentes y Accesorios Gaming', 'Redes y conectividad',\n",
       "       'Plastificadoras', 'Faxes', 'Raspberry Pi', 'CD / DVD / Blu-ray',\n",
       "       'eBooks Tinta Electrónica', 'Dock y Hub', 'Teclados',\n",
       "       'Accesorios Telefonía Fija', 'Mochilas y estuches',\n",
       "       'Realidad Virtual'], dtype=object)"
      ]
     },
     "execution_count": 112,
     "metadata": {},
     "output_type": "execute_result"
    }
   ],
   "source": [
    "total_products.dimension10.unique()"
   ]
  },
  {
   "cell_type": "code",
   "execution_count": 123,
   "metadata": {},
   "outputs": [
    {
     "data": {
      "text/html": [
       "<div>\n",
       "<style scoped>\n",
       "    .dataframe tbody tr th:only-of-type {\n",
       "        vertical-align: middle;\n",
       "    }\n",
       "\n",
       "    .dataframe tbody tr th {\n",
       "        vertical-align: top;\n",
       "    }\n",
       "\n",
       "    .dataframe thead th {\n",
       "        text-align: right;\n",
       "    }\n",
       "</style>\n",
       "<table border=\"1\" class=\"dataframe\">\n",
       "  <thead>\n",
       "    <tr style=\"text-align: right;\">\n",
       "      <th></th>\n",
       "      <th>brand</th>\n",
       "      <th>category</th>\n",
       "      <th>dimension10</th>\n",
       "      <th>dimension11</th>\n",
       "      <th>dimension24</th>\n",
       "      <th>dimension25</th>\n",
       "      <th>dimension26</th>\n",
       "      <th>dimension9</th>\n",
       "      <th>ean</th>\n",
       "      <th>id</th>\n",
       "      <th>name</th>\n",
       "      <th>price</th>\n",
       "      <th>date</th>\n",
       "    </tr>\n",
       "  </thead>\n",
       "  <tbody>\n",
       "    <tr>\n",
       "      <th>21407</th>\n",
       "      <td>HAMA</td>\n",
       "      <td>Negocio y oficina</td>\n",
       "      <td>Accesorios Telefonía Fija</td>\n",
       "      <td>NaN</td>\n",
       "      <td>21.0</td>\n",
       "      <td>InStock</td>\n",
       "      <td>1.99</td>\n",
       "      <td>Telefonía fija</td>\n",
       "      <td>4007249448422</td>\n",
       "      <td>5300074</td>\n",
       "      <td>Cable telefónico - Hama 00044842 1.5m, negro</td>\n",
       "      <td>3.99</td>\n",
       "      <td>2019-04-09</td>\n",
       "    </tr>\n",
       "    <tr>\n",
       "      <th>21551</th>\n",
       "      <td>HAMA</td>\n",
       "      <td>Negocio y oficina</td>\n",
       "      <td>Accesorios Telefonía Fija</td>\n",
       "      <td>NaN</td>\n",
       "      <td>21.0</td>\n",
       "      <td>InStock</td>\n",
       "      <td>1.99</td>\n",
       "      <td>Telefonía fija</td>\n",
       "      <td>4007249449313</td>\n",
       "      <td>5300090</td>\n",
       "      <td>Cable telefónico - Hama 44931, negro, 10 metros</td>\n",
       "      <td>8.99</td>\n",
       "      <td>2019-04-09</td>\n",
       "    </tr>\n",
       "    <tr>\n",
       "      <th>21609</th>\n",
       "      <td>HAMA</td>\n",
       "      <td>Negocio y oficina</td>\n",
       "      <td>Accesorios Telefonía Fija</td>\n",
       "      <td>NaN</td>\n",
       "      <td>21.0</td>\n",
       "      <td>InStock</td>\n",
       "      <td>1.99</td>\n",
       "      <td>Telefonía fija</td>\n",
       "      <td>8432290002310</td>\n",
       "      <td>5300112</td>\n",
       "      <td>Cable telefóno - Hama 6914248, Blanco</td>\n",
       "      <td>5.99</td>\n",
       "      <td>2019-04-09</td>\n",
       "    </tr>\n",
       "    <tr>\n",
       "      <th>21611</th>\n",
       "      <td>HAMA</td>\n",
       "      <td>Negocio y oficina</td>\n",
       "      <td>Accesorios Telefonía Fija</td>\n",
       "      <td>NaN</td>\n",
       "      <td>21.0</td>\n",
       "      <td>OutOfStock</td>\n",
       "      <td>1.99</td>\n",
       "      <td>Telefonía fija</td>\n",
       "      <td>8432290002570</td>\n",
       "      <td>5300129</td>\n",
       "      <td>Cable telefónico - Hama 69142487, 4.5m, Negro</td>\n",
       "      <td>5.99</td>\n",
       "      <td>2019-04-09</td>\n",
       "    </tr>\n",
       "    <tr>\n",
       "      <th>21823</th>\n",
       "      <td>VIVANCO</td>\n",
       "      <td>Negocio y oficina</td>\n",
       "      <td>Accesorios Telefonía Fija</td>\n",
       "      <td>NaN</td>\n",
       "      <td>21.0</td>\n",
       "      <td>InStock</td>\n",
       "      <td>1.99</td>\n",
       "      <td>Telefonía fija</td>\n",
       "      <td>4008928450262</td>\n",
       "      <td>1093413</td>\n",
       "      <td>Adaptador de cable - Vivanco 45026, RJ-45, Blanco</td>\n",
       "      <td>3.99</td>\n",
       "      <td>2019-04-09</td>\n",
       "    </tr>\n",
       "    <tr>\n",
       "      <th>21825</th>\n",
       "      <td>VIVANCO</td>\n",
       "      <td>Negocio y oficina</td>\n",
       "      <td>Accesorios Telefonía Fija</td>\n",
       "      <td>NaN</td>\n",
       "      <td>21.0</td>\n",
       "      <td>InStock</td>\n",
       "      <td>1.99</td>\n",
       "      <td>Telefonía fija</td>\n",
       "      <td>4008928451139</td>\n",
       "      <td>1093414</td>\n",
       "      <td>Cable de red - Vivanco, 6 m, RJ-11</td>\n",
       "      <td>6.50</td>\n",
       "      <td>2019-04-09</td>\n",
       "    </tr>\n",
       "    <tr>\n",
       "      <th>21829</th>\n",
       "      <td>HAMA</td>\n",
       "      <td>Negocio y oficina</td>\n",
       "      <td>Accesorios Telefonía Fija</td>\n",
       "      <td>NaN</td>\n",
       "      <td>21.0</td>\n",
       "      <td>InStock</td>\n",
       "      <td>1.99</td>\n",
       "      <td>Telefonía fija</td>\n",
       "      <td>4007249449320</td>\n",
       "      <td>5300091</td>\n",
       "      <td>Cable telefónico - Hama Modular male plug US 6...</td>\n",
       "      <td>12.99</td>\n",
       "      <td>2019-04-09</td>\n",
       "    </tr>\n",
       "    <tr>\n",
       "      <th>21857</th>\n",
       "      <td>HAMA</td>\n",
       "      <td>Negocio y oficina</td>\n",
       "      <td>Accesorios Telefonía Fija</td>\n",
       "      <td>NaN</td>\n",
       "      <td>21.0</td>\n",
       "      <td>InStock</td>\n",
       "      <td>1.99</td>\n",
       "      <td>Telefonía fija</td>\n",
       "      <td>4047443365064</td>\n",
       "      <td>5300089</td>\n",
       "      <td>Cable telefónico - Hama Modular Male Plug 6p4c...</td>\n",
       "      <td>6.99</td>\n",
       "      <td>2019-04-09</td>\n",
       "    </tr>\n",
       "    <tr>\n",
       "      <th>21863</th>\n",
       "      <td>HAMA</td>\n",
       "      <td>Negocio y oficina</td>\n",
       "      <td>Accesorios Telefonía Fija</td>\n",
       "      <td>NaN</td>\n",
       "      <td>21.0</td>\n",
       "      <td>InStock</td>\n",
       "      <td>1.99</td>\n",
       "      <td>Telefonía fija</td>\n",
       "      <td>8432290002563</td>\n",
       "      <td>5300117</td>\n",
       "      <td>Cable telefónico - Hama 69142486, 4.5m, Blanco</td>\n",
       "      <td>5.99</td>\n",
       "      <td>2019-04-09</td>\n",
       "    </tr>\n",
       "    <tr>\n",
       "      <th>24780</th>\n",
       "      <td>HAMA</td>\n",
       "      <td>Negocio y oficina</td>\n",
       "      <td>Accesorios Telefonía Fija</td>\n",
       "      <td>NaN</td>\n",
       "      <td>21.0</td>\n",
       "      <td>InStock</td>\n",
       "      <td>1.99</td>\n",
       "      <td>Telefonía fija</td>\n",
       "      <td>8432290002273</td>\n",
       "      <td>5300120</td>\n",
       "      <td>Adaptador telefónico - Hama 6914249, Blanco</td>\n",
       "      <td>3.99</td>\n",
       "      <td>2019-04-09</td>\n",
       "    </tr>\n",
       "  </tbody>\n",
       "</table>\n",
       "</div>"
      ],
      "text/plain": [
       "         brand           category                dimension10 dimension11  \\\n",
       "21407     HAMA  Negocio y oficina  Accesorios Telefonía Fija         NaN   \n",
       "21551     HAMA  Negocio y oficina  Accesorios Telefonía Fija         NaN   \n",
       "21609     HAMA  Negocio y oficina  Accesorios Telefonía Fija         NaN   \n",
       "21611     HAMA  Negocio y oficina  Accesorios Telefonía Fija         NaN   \n",
       "21823  VIVANCO  Negocio y oficina  Accesorios Telefonía Fija         NaN   \n",
       "21825  VIVANCO  Negocio y oficina  Accesorios Telefonía Fija         NaN   \n",
       "21829     HAMA  Negocio y oficina  Accesorios Telefonía Fija         NaN   \n",
       "21857     HAMA  Negocio y oficina  Accesorios Telefonía Fija         NaN   \n",
       "21863     HAMA  Negocio y oficina  Accesorios Telefonía Fija         NaN   \n",
       "24780     HAMA  Negocio y oficina  Accesorios Telefonía Fija         NaN   \n",
       "\n",
       "       dimension24 dimension25  dimension26      dimension9            ean  \\\n",
       "21407         21.0     InStock         1.99  Telefonía fija  4007249448422   \n",
       "21551         21.0     InStock         1.99  Telefonía fija  4007249449313   \n",
       "21609         21.0     InStock         1.99  Telefonía fija  8432290002310   \n",
       "21611         21.0  OutOfStock         1.99  Telefonía fija  8432290002570   \n",
       "21823         21.0     InStock         1.99  Telefonía fija  4008928450262   \n",
       "21825         21.0     InStock         1.99  Telefonía fija  4008928451139   \n",
       "21829         21.0     InStock         1.99  Telefonía fija  4007249449320   \n",
       "21857         21.0     InStock         1.99  Telefonía fija  4047443365064   \n",
       "21863         21.0     InStock         1.99  Telefonía fija  8432290002563   \n",
       "24780         21.0     InStock         1.99  Telefonía fija  8432290002273   \n",
       "\n",
       "            id                                               name  price  \\\n",
       "21407  5300074       Cable telefónico - Hama 00044842 1.5m, negro   3.99   \n",
       "21551  5300090    Cable telefónico - Hama 44931, negro, 10 metros   8.99   \n",
       "21609  5300112              Cable telefóno - Hama 6914248, Blanco   5.99   \n",
       "21611  5300129      Cable telefónico - Hama 69142487, 4.5m, Negro   5.99   \n",
       "21823  1093413  Adaptador de cable - Vivanco 45026, RJ-45, Blanco   3.99   \n",
       "21825  1093414                 Cable de red - Vivanco, 6 m, RJ-11   6.50   \n",
       "21829  5300091  Cable telefónico - Hama Modular male plug US 6...  12.99   \n",
       "21857  5300089  Cable telefónico - Hama Modular Male Plug 6p4c...   6.99   \n",
       "21863  5300117     Cable telefónico - Hama 69142486, 4.5m, Blanco   5.99   \n",
       "24780  5300120        Adaptador telefónico - Hama 6914249, Blanco   3.99   \n",
       "\n",
       "             date  \n",
       "21407  2019-04-09  \n",
       "21551  2019-04-09  \n",
       "21609  2019-04-09  \n",
       "21611  2019-04-09  \n",
       "21823  2019-04-09  \n",
       "21825  2019-04-09  \n",
       "21829  2019-04-09  \n",
       "21857  2019-04-09  \n",
       "21863  2019-04-09  \n",
       "24780  2019-04-09  "
      ]
     },
     "execution_count": 123,
     "metadata": {},
     "output_type": "execute_result"
    }
   ],
   "source": [
    "total_products[total_products.dimension10 == 'Accesorios Telefonía Fija']"
   ]
  },
  {
   "cell_type": "code",
   "execution_count": 125,
   "metadata": {},
   "outputs": [
    {
     "data": {
      "text/html": [
       "<div>\n",
       "<style scoped>\n",
       "    .dataframe tbody tr th:only-of-type {\n",
       "        vertical-align: middle;\n",
       "    }\n",
       "\n",
       "    .dataframe tbody tr th {\n",
       "        vertical-align: top;\n",
       "    }\n",
       "\n",
       "    .dataframe thead th {\n",
       "        text-align: right;\n",
       "    }\n",
       "</style>\n",
       "<table border=\"1\" class=\"dataframe\">\n",
       "  <thead>\n",
       "    <tr style=\"text-align: right;\">\n",
       "      <th></th>\n",
       "      <th>brand</th>\n",
       "      <th>category</th>\n",
       "      <th>dimension10</th>\n",
       "      <th>dimension11</th>\n",
       "      <th>dimension24</th>\n",
       "      <th>dimension25</th>\n",
       "      <th>dimension26</th>\n",
       "      <th>dimension9</th>\n",
       "      <th>ean</th>\n",
       "      <th>id</th>\n",
       "      <th>name</th>\n",
       "      <th>price</th>\n",
       "      <th>date</th>\n",
       "    </tr>\n",
       "  </thead>\n",
       "  <tbody>\n",
       "    <tr>\n",
       "      <th>0</th>\n",
       "      <td>PHILIPS</td>\n",
       "      <td>Belleza y salud</td>\n",
       "      <td>Afeitadoras faciales</td>\n",
       "      <td>NaN</td>\n",
       "      <td>21.0</td>\n",
       "      <td>OutOfStock</td>\n",
       "      <td>1.99</td>\n",
       "      <td>Afeitado y depilación</td>\n",
       "      <td>8710103738350</td>\n",
       "      <td>1293941</td>\n",
       "      <td>Afeitadora - Philips S 5110/06 Cabezales Flex,...</td>\n",
       "      <td>57.99</td>\n",
       "      <td>2019-04-09</td>\n",
       "    </tr>\n",
       "    <tr>\n",
       "      <th>1</th>\n",
       "      <td>PHILIPS</td>\n",
       "      <td>Belleza y salud</td>\n",
       "      <td>Afeitadoras faciales</td>\n",
       "      <td>NaN</td>\n",
       "      <td>21.0</td>\n",
       "      <td>InStock</td>\n",
       "      <td>1.99</td>\n",
       "      <td>Afeitado y depilación</td>\n",
       "      <td>8710103764588</td>\n",
       "      <td>1317305</td>\n",
       "      <td>Afeitadora - Philips Shaver S1510/04, Recargab...</td>\n",
       "      <td>41.99</td>\n",
       "      <td>2019-04-09</td>\n",
       "    </tr>\n",
       "    <tr>\n",
       "      <th>2</th>\n",
       "      <td>PHILIPS</td>\n",
       "      <td>Belleza y salud</td>\n",
       "      <td>Afeitadoras faciales</td>\n",
       "      <td>NaN</td>\n",
       "      <td>21.0</td>\n",
       "      <td>InStock</td>\n",
       "      <td>1.99</td>\n",
       "      <td>Afeitado y depilación</td>\n",
       "      <td>8710103819219</td>\n",
       "      <td>1360370</td>\n",
       "      <td>Afeitadora - Philips S5550/06, Cuchillas Multi...</td>\n",
       "      <td>89.90</td>\n",
       "      <td>2019-04-09</td>\n",
       "    </tr>\n",
       "    <tr>\n",
       "      <th>3</th>\n",
       "      <td>PHILIPS</td>\n",
       "      <td>Belleza y salud</td>\n",
       "      <td>Afeitadoras faciales</td>\n",
       "      <td>NaN</td>\n",
       "      <td>21.0</td>\n",
       "      <td>InStock</td>\n",
       "      <td>1.99</td>\n",
       "      <td>Afeitado y depilación</td>\n",
       "      <td>8710103764489</td>\n",
       "      <td>1317303</td>\n",
       "      <td>Afeitadora - Philips S3510/06, sistema Comfort...</td>\n",
       "      <td>58.99</td>\n",
       "      <td>2019-04-09</td>\n",
       "    </tr>\n",
       "    <tr>\n",
       "      <th>4</th>\n",
       "      <td>BRAUN</td>\n",
       "      <td>Belleza y salud</td>\n",
       "      <td>Afeitadoras faciales</td>\n",
       "      <td>NaN</td>\n",
       "      <td>21.0</td>\n",
       "      <td>InStock</td>\n",
       "      <td>1.99</td>\n",
       "      <td>Afeitado y depilación</td>\n",
       "      <td>4210201147022</td>\n",
       "      <td>1294131</td>\n",
       "      <td>Afeitadora - Braun 5030s Series 5 + EN10, Reco...</td>\n",
       "      <td>87.99</td>\n",
       "      <td>2019-04-09</td>\n",
       "    </tr>\n",
       "    <tr>\n",
       "      <th>5</th>\n",
       "      <td>PHILIPS</td>\n",
       "      <td>Belleza y salud</td>\n",
       "      <td>Afeitadoras faciales</td>\n",
       "      <td>NaN</td>\n",
       "      <td>21.0</td>\n",
       "      <td>InStock</td>\n",
       "      <td>1.99</td>\n",
       "      <td>Afeitado y depilación</td>\n",
       "      <td>8710103738121</td>\n",
       "      <td>1293945</td>\n",
       "      <td>Afeitadora - Philips S 5420/06 Sistema de cuch...</td>\n",
       "      <td>76.99</td>\n",
       "      <td>2019-04-09</td>\n",
       "    </tr>\n",
       "    <tr>\n",
       "      <th>6</th>\n",
       "      <td>PHILIPS</td>\n",
       "      <td>Belleza y salud</td>\n",
       "      <td>Afeitadoras faciales</td>\n",
       "      <td>NaN</td>\n",
       "      <td>21.0</td>\n",
       "      <td>InStock</td>\n",
       "      <td>1.99</td>\n",
       "      <td>Afeitado y depilación</td>\n",
       "      <td>8710103686934</td>\n",
       "      <td>1252110</td>\n",
       "      <td>Afeitadora - Philips S9031/12 V-Track, Autonom...</td>\n",
       "      <td>166.00</td>\n",
       "      <td>2019-04-09</td>\n",
       "    </tr>\n",
       "    <tr>\n",
       "      <th>7</th>\n",
       "      <td>PHILIPS</td>\n",
       "      <td>Belleza y salud</td>\n",
       "      <td>Afeitadoras faciales</td>\n",
       "      <td>NaN</td>\n",
       "      <td>21.0</td>\n",
       "      <td>InStock</td>\n",
       "      <td>1.99</td>\n",
       "      <td>Afeitado y depilación</td>\n",
       "      <td>8710103609803</td>\n",
       "      <td>1187436</td>\n",
       "      <td>Afeitadora - Philips AT750/26, Recargable, Cab...</td>\n",
       "      <td>55.99</td>\n",
       "      <td>2019-04-09</td>\n",
       "    </tr>\n",
       "    <tr>\n",
       "      <th>8</th>\n",
       "      <td>PHILIPS</td>\n",
       "      <td>Belleza y salud</td>\n",
       "      <td>Afeitadoras faciales</td>\n",
       "      <td>NaN</td>\n",
       "      <td>21.0</td>\n",
       "      <td>InStock</td>\n",
       "      <td>1.99</td>\n",
       "      <td>Afeitado y depilación</td>\n",
       "      <td>8710103800958</td>\n",
       "      <td>1385320</td>\n",
       "      <td>Afeitadora - Philips S7522/50, Anillos SkinGli...</td>\n",
       "      <td>149.00</td>\n",
       "      <td>2019-04-09</td>\n",
       "    </tr>\n",
       "    <tr>\n",
       "      <th>9</th>\n",
       "      <td>PHILIPS</td>\n",
       "      <td>Belleza y salud</td>\n",
       "      <td>Afeitadoras faciales</td>\n",
       "      <td>NaN</td>\n",
       "      <td>21.0</td>\n",
       "      <td>InStock</td>\n",
       "      <td>1.99</td>\n",
       "      <td>Afeitado y depilación</td>\n",
       "      <td>8710103764458</td>\n",
       "      <td>1317304</td>\n",
       "      <td>Afeitadora - Philips S3110/06, sistema Comfort...</td>\n",
       "      <td>49.99</td>\n",
       "      <td>2019-04-09</td>\n",
       "    </tr>\n",
       "    <tr>\n",
       "      <th>10</th>\n",
       "      <td>PANASONIC</td>\n",
       "      <td>Belleza y salud</td>\n",
       "      <td>Afeitadoras faciales</td>\n",
       "      <td>NaN</td>\n",
       "      <td>21.0</td>\n",
       "      <td>InStock</td>\n",
       "      <td>1.99</td>\n",
       "      <td>Afeitado y depilación</td>\n",
       "      <td>5025232782642</td>\n",
       "      <td>1264634</td>\n",
       "      <td>Afeitadora - Panasonic ES RT 67 S503 Recargabl...</td>\n",
       "      <td>66.99</td>\n",
       "      <td>2019-04-09</td>\n",
       "    </tr>\n",
       "    <tr>\n",
       "      <th>11</th>\n",
       "      <td>BRAUN</td>\n",
       "      <td>Belleza y salud</td>\n",
       "      <td>Afeitadoras faciales</td>\n",
       "      <td>NaN</td>\n",
       "      <td>21.0</td>\n",
       "      <td>InStock</td>\n",
       "      <td>1.99</td>\n",
       "      <td>Afeitado y depilación</td>\n",
       "      <td>4210201132370</td>\n",
       "      <td>1310896</td>\n",
       "      <td>Recortador facial - Braun PT5010, perfilador d...</td>\n",
       "      <td>14.99</td>\n",
       "      <td>2019-04-09</td>\n",
       "    </tr>\n",
       "    <tr>\n",
       "      <th>12</th>\n",
       "      <td>PHILIPS</td>\n",
       "      <td>Belleza y salud</td>\n",
       "      <td>Afeitadoras faciales</td>\n",
       "      <td>NaN</td>\n",
       "      <td>21.0</td>\n",
       "      <td>InStock</td>\n",
       "      <td>1.99</td>\n",
       "      <td>Afeitado y depilación</td>\n",
       "      <td>8710103736745</td>\n",
       "      <td>1367692</td>\n",
       "      <td>Afeitadora - Philips S7310/12, Especial para p...</td>\n",
       "      <td>123.00</td>\n",
       "      <td>2019-04-09</td>\n",
       "    </tr>\n",
       "    <tr>\n",
       "      <th>13</th>\n",
       "      <td>BRAUN</td>\n",
       "      <td>Belleza y salud</td>\n",
       "      <td>Afeitadoras faciales</td>\n",
       "      <td>NaN</td>\n",
       "      <td>21.0</td>\n",
       "      <td>InStock</td>\n",
       "      <td>1.99</td>\n",
       "      <td>Afeitado y depilación</td>\n",
       "      <td>4210201151562</td>\n",
       "      <td>1353375</td>\n",
       "      <td>Afeitadora - Braun BT3010 Serie 3, Recargable,...</td>\n",
       "      <td>84.99</td>\n",
       "      <td>2019-04-09</td>\n",
       "    </tr>\n",
       "    <tr>\n",
       "      <th>14</th>\n",
       "      <td>BRAUN</td>\n",
       "      <td>Belleza y salud</td>\n",
       "      <td>Afeitadoras faciales</td>\n",
       "      <td>NaN</td>\n",
       "      <td>21.0</td>\n",
       "      <td>InStock</td>\n",
       "      <td>1.99</td>\n",
       "      <td>Afeitado y depilación</td>\n",
       "      <td>4210201649793</td>\n",
       "      <td>1104022</td>\n",
       "      <td>Afeitadora - Braun MobileShave M60b Funcionami...</td>\n",
       "      <td>17.99</td>\n",
       "      <td>2019-04-09</td>\n",
       "    </tr>\n",
       "    <tr>\n",
       "      <th>15</th>\n",
       "      <td>BRAUN</td>\n",
       "      <td>Belleza y salud</td>\n",
       "      <td>Afeitadoras faciales</td>\n",
       "      <td>NaN</td>\n",
       "      <td>21.0</td>\n",
       "      <td>InStock</td>\n",
       "      <td>1.99</td>\n",
       "      <td>Afeitado y depilación</td>\n",
       "      <td>4210201183617</td>\n",
       "      <td>1373774</td>\n",
       "      <td>Afeitadora - Braun WF2s Serie 5 WaterFlex, Wet...</td>\n",
       "      <td>114.00</td>\n",
       "      <td>2019-04-09</td>\n",
       "    </tr>\n",
       "    <tr>\n",
       "      <th>16</th>\n",
       "      <td>OK</td>\n",
       "      <td>Belleza y salud</td>\n",
       "      <td>Afeitadoras faciales</td>\n",
       "      <td>NaN</td>\n",
       "      <td>21.0</td>\n",
       "      <td>InStock</td>\n",
       "      <td>1.99</td>\n",
       "      <td>Afeitado y depilación</td>\n",
       "      <td>4049011147454</td>\n",
       "      <td>1423577</td>\n",
       "      <td>Afeitadora - OK OSH 3310 ES 3-IN-1, Men Shaver...</td>\n",
       "      <td>19.99</td>\n",
       "      <td>2019-04-09</td>\n",
       "    </tr>\n",
       "    <tr>\n",
       "      <th>17</th>\n",
       "      <td>BRAUN</td>\n",
       "      <td>Belleza y salud</td>\n",
       "      <td>Afeitadoras faciales</td>\n",
       "      <td>NaN</td>\n",
       "      <td>21.0</td>\n",
       "      <td>InStock</td>\n",
       "      <td>1.99</td>\n",
       "      <td>Afeitado y depilación</td>\n",
       "      <td>4210201163367</td>\n",
       "      <td>1353373</td>\n",
       "      <td>Afeitadora - Braun SERIE 3 310 Wet &amp; Dry, Resi...</td>\n",
       "      <td>54.99</td>\n",
       "      <td>2019-04-09</td>\n",
       "    </tr>\n",
       "    <tr>\n",
       "      <th>18</th>\n",
       "      <td>BEPER</td>\n",
       "      <td>Belleza y salud</td>\n",
       "      <td>Afeitadoras faciales</td>\n",
       "      <td>NaN</td>\n",
       "      <td>21.0</td>\n",
       "      <td>InStock</td>\n",
       "      <td>1.99</td>\n",
       "      <td>Afeitado y depilación</td>\n",
       "      <td>8051772711948</td>\n",
       "      <td>1331134</td>\n",
       "      <td>Afeitadora - Beper iCut 40.993, Barba, Recargable</td>\n",
       "      <td>13.99</td>\n",
       "      <td>2019-04-09</td>\n",
       "    </tr>\n",
       "    <tr>\n",
       "      <th>19</th>\n",
       "      <td>BRAUN</td>\n",
       "      <td>Belleza y salud</td>\n",
       "      <td>Afeitadoras faciales</td>\n",
       "      <td>NaN</td>\n",
       "      <td>21.0</td>\n",
       "      <td>InStock</td>\n",
       "      <td>1.99</td>\n",
       "      <td>Afeitado y depilación</td>\n",
       "      <td>4210201124481</td>\n",
       "      <td>1310843</td>\n",
       "      <td>Afeitadora - Braun Serie 3 - 3000 Edición espe...</td>\n",
       "      <td>60.99</td>\n",
       "      <td>2019-04-09</td>\n",
       "    </tr>\n",
       "    <tr>\n",
       "      <th>20</th>\n",
       "      <td>PHILIPS</td>\n",
       "      <td>Belleza y salud</td>\n",
       "      <td>Afeitadoras faciales</td>\n",
       "      <td>NaN</td>\n",
       "      <td>21.0</td>\n",
       "      <td>InStock</td>\n",
       "      <td>1.99</td>\n",
       "      <td>Afeitado y depilación</td>\n",
       "      <td>8710103819349</td>\n",
       "      <td>1360380</td>\n",
       "      <td>Afeitadora - Philips S5650/41, Accesorio barbe...</td>\n",
       "      <td>119.90</td>\n",
       "      <td>2019-04-09</td>\n",
       "    </tr>\n",
       "    <tr>\n",
       "      <th>21</th>\n",
       "      <td>PANASONIC</td>\n",
       "      <td>Belleza y salud</td>\n",
       "      <td>Afeitadoras faciales</td>\n",
       "      <td>NaN</td>\n",
       "      <td>21.0</td>\n",
       "      <td>InStock</td>\n",
       "      <td>1.99</td>\n",
       "      <td>Afeitado y depilación</td>\n",
       "      <td>5025232846184</td>\n",
       "      <td>1418920</td>\n",
       "      <td>Afeitadora - Panasonic ES-ST 3 N, 3 cuchillas,...</td>\n",
       "      <td>86.99</td>\n",
       "      <td>2019-04-09</td>\n",
       "    </tr>\n",
       "    <tr>\n",
       "      <th>22</th>\n",
       "      <td>REMINGTON</td>\n",
       "      <td>Belleza y salud</td>\n",
       "      <td>Afeitadoras faciales</td>\n",
       "      <td>NaN</td>\n",
       "      <td>21.0</td>\n",
       "      <td>InStock</td>\n",
       "      <td>1.99</td>\n",
       "      <td>Afeitado y depilación</td>\n",
       "      <td>8420738411848</td>\n",
       "      <td>1376067</td>\n",
       "      <td>Afeitadora - Remington PR1340GP, Cabezal comfo...</td>\n",
       "      <td>51.99</td>\n",
       "      <td>2019-04-09</td>\n",
       "    </tr>\n",
       "    <tr>\n",
       "      <th>23</th>\n",
       "      <td>BRAUN</td>\n",
       "      <td>Belleza y salud</td>\n",
       "      <td>Afeitadoras faciales</td>\n",
       "      <td>NaN</td>\n",
       "      <td>21.0</td>\n",
       "      <td>InStock</td>\n",
       "      <td>1.99</td>\n",
       "      <td>Afeitado y depilación</td>\n",
       "      <td>4210201112129</td>\n",
       "      <td>1310842</td>\n",
       "      <td>Afeitadora - Braun 3010 Serie 3, Recargable, C...</td>\n",
       "      <td>61.99</td>\n",
       "      <td>2019-04-09</td>\n",
       "    </tr>\n",
       "    <tr>\n",
       "      <th>24</th>\n",
       "      <td>BRAUN</td>\n",
       "      <td>Belleza y salud</td>\n",
       "      <td>Afeitadoras faciales</td>\n",
       "      <td>NaN</td>\n",
       "      <td>21.0</td>\n",
       "      <td>OutOfStock</td>\n",
       "      <td>1.99</td>\n",
       "      <td>Afeitado y depilación</td>\n",
       "      <td>4210201167013</td>\n",
       "      <td>1342540</td>\n",
       "      <td>Afeitadora - Braun Series 9 9240s, Wet&amp;Dry, Ci...</td>\n",
       "      <td>306.00</td>\n",
       "      <td>2019-04-09</td>\n",
       "    </tr>\n",
       "    <tr>\n",
       "      <th>25</th>\n",
       "      <td>ROWENTA</td>\n",
       "      <td>Belleza y salud</td>\n",
       "      <td>Afeitadoras faciales</td>\n",
       "      <td>NaN</td>\n",
       "      <td>21.0</td>\n",
       "      <td>InStock</td>\n",
       "      <td>1.99</td>\n",
       "      <td>Afeitado y depilación</td>\n",
       "      <td>3121040059272</td>\n",
       "      <td>1311358</td>\n",
       "      <td>Recortador de pelo - Rowenta TN3620F0, Lavable...</td>\n",
       "      <td>18.99</td>\n",
       "      <td>2019-04-09</td>\n",
       "    </tr>\n",
       "    <tr>\n",
       "      <th>26</th>\n",
       "      <td>BRAUN</td>\n",
       "      <td>Belleza y salud</td>\n",
       "      <td>Afeitadoras faciales</td>\n",
       "      <td>NaN</td>\n",
       "      <td>21.0</td>\n",
       "      <td>InStock</td>\n",
       "      <td>1.99</td>\n",
       "      <td>Afeitado y depilación</td>\n",
       "      <td>4210201165804</td>\n",
       "      <td>1342438</td>\n",
       "      <td>Afeitadora - Braun Series 9 9295cc, Uso en sec...</td>\n",
       "      <td>399.00</td>\n",
       "      <td>2019-04-09</td>\n",
       "    </tr>\n",
       "    <tr>\n",
       "      <th>27</th>\n",
       "      <td>BRAUN</td>\n",
       "      <td>Belleza y salud</td>\n",
       "      <td>Afeitadoras faciales</td>\n",
       "      <td>NaN</td>\n",
       "      <td>21.0</td>\n",
       "      <td>InStock</td>\n",
       "      <td>1.99</td>\n",
       "      <td>Afeitado y depilación</td>\n",
       "      <td>4210201188827</td>\n",
       "      <td>1382002</td>\n",
       "      <td>Afeitadora - Braun Series 3 310s, Recargable, ...</td>\n",
       "      <td>60.99</td>\n",
       "      <td>2019-04-09</td>\n",
       "    </tr>\n",
       "    <tr>\n",
       "      <th>28</th>\n",
       "      <td>BRAUN</td>\n",
       "      <td>Belleza y salud</td>\n",
       "      <td>Afeitadoras faciales</td>\n",
       "      <td>NaN</td>\n",
       "      <td>21.0</td>\n",
       "      <td>InStock</td>\n",
       "      <td>1.99</td>\n",
       "      <td>Afeitado y depilación</td>\n",
       "      <td>4210201186595</td>\n",
       "      <td>1382003</td>\n",
       "      <td>Afeitadora - Braun Serie3 3000 Tecnología Micr...</td>\n",
       "      <td>67.99</td>\n",
       "      <td>2019-04-09</td>\n",
       "    </tr>\n",
       "    <tr>\n",
       "      <th>29</th>\n",
       "      <td>BRAUN</td>\n",
       "      <td>Belleza y salud</td>\n",
       "      <td>Afeitadoras faciales</td>\n",
       "      <td>NaN</td>\n",
       "      <td>21.0</td>\n",
       "      <td>InStock</td>\n",
       "      <td>1.99</td>\n",
       "      <td>Afeitado y depilación</td>\n",
       "      <td>4210201177517</td>\n",
       "      <td>1373772</td>\n",
       "      <td>Afeitadora - Braun Series 5 514S, Wet&amp;Dry, Cab...</td>\n",
       "      <td>187.00</td>\n",
       "      <td>2019-04-09</td>\n",
       "    </tr>\n",
       "    <tr>\n",
       "      <th>...</th>\n",
       "      <td>...</td>\n",
       "      <td>...</td>\n",
       "      <td>...</td>\n",
       "      <td>...</td>\n",
       "      <td>...</td>\n",
       "      <td>...</td>\n",
       "      <td>...</td>\n",
       "      <td>...</td>\n",
       "      <td>...</td>\n",
       "      <td>...</td>\n",
       "      <td>...</td>\n",
       "      <td>...</td>\n",
       "      <td>...</td>\n",
       "    </tr>\n",
       "    <tr>\n",
       "      <th>24751</th>\n",
       "      <td>BOOMPODS</td>\n",
       "      <td>Telefonía</td>\n",
       "      <td>Cables y adaptadores</td>\n",
       "      <td>NaN</td>\n",
       "      <td>21.0</td>\n",
       "      <td>InStock</td>\n",
       "      <td>1.99</td>\n",
       "      <td>Accesorios para móviles</td>\n",
       "      <td>5081304356036</td>\n",
       "      <td>1402306</td>\n",
       "      <td>Cable Lightning a USB - Boompods, retrocable, ...</td>\n",
       "      <td>17.99</td>\n",
       "      <td>2019-04-09</td>\n",
       "    </tr>\n",
       "    <tr>\n",
       "      <th>24752</th>\n",
       "      <td>CELLULAR LINE</td>\n",
       "      <td>Telefonía</td>\n",
       "      <td>Cables y adaptadores</td>\n",
       "      <td>NaN</td>\n",
       "      <td>21.0</td>\n",
       "      <td>InStock</td>\n",
       "      <td>1.99</td>\n",
       "      <td>Accesorios para móviles</td>\n",
       "      <td>8018080268854</td>\n",
       "      <td>1332408</td>\n",
       "      <td>Cellularline 37713 0.6m USB A Micro-USB B Mach...</td>\n",
       "      <td>8.99</td>\n",
       "      <td>2019-04-09</td>\n",
       "    </tr>\n",
       "    <tr>\n",
       "      <th>24753</th>\n",
       "      <td>BOOMPODS</td>\n",
       "      <td>Telefonía</td>\n",
       "      <td>Cables y adaptadores</td>\n",
       "      <td>NaN</td>\n",
       "      <td>21.0</td>\n",
       "      <td>InStock</td>\n",
       "      <td>1.99</td>\n",
       "      <td>Accesorios para móviles</td>\n",
       "      <td>5081304280614</td>\n",
       "      <td>1402298</td>\n",
       "      <td>Duocable Lighning / Micro USB a USB - Boompods...</td>\n",
       "      <td>19.99</td>\n",
       "      <td>2019-04-09</td>\n",
       "    </tr>\n",
       "    <tr>\n",
       "      <th>24754</th>\n",
       "      <td>BOOMPODS</td>\n",
       "      <td>Telefonía</td>\n",
       "      <td>Cables y adaptadores</td>\n",
       "      <td>NaN</td>\n",
       "      <td>21.0</td>\n",
       "      <td>InStock</td>\n",
       "      <td>1.99</td>\n",
       "      <td>Accesorios para móviles</td>\n",
       "      <td>5573063264146</td>\n",
       "      <td>1402307</td>\n",
       "      <td>Cable Micro USB a USB - Boompods, retrocable, ...</td>\n",
       "      <td>12.99</td>\n",
       "      <td>2019-04-09</td>\n",
       "    </tr>\n",
       "    <tr>\n",
       "      <th>24755</th>\n",
       "      <td>BOOMPODS</td>\n",
       "      <td>Telefonía</td>\n",
       "      <td>Cables y adaptadores</td>\n",
       "      <td>NaN</td>\n",
       "      <td>21.0</td>\n",
       "      <td>InStock</td>\n",
       "      <td>1.99</td>\n",
       "      <td>Accesorios para móviles</td>\n",
       "      <td>5573063264306</td>\n",
       "      <td>1402292</td>\n",
       "      <td>Cable Lightning a USB - Boompods, flatline, 1m...</td>\n",
       "      <td>14.99</td>\n",
       "      <td>2019-04-09</td>\n",
       "    </tr>\n",
       "    <tr>\n",
       "      <th>24756</th>\n",
       "      <td>CELLULAR LINE</td>\n",
       "      <td>Telefonía</td>\n",
       "      <td>Cables y adaptadores</td>\n",
       "      <td>NaN</td>\n",
       "      <td>21.0</td>\n",
       "      <td>InStock</td>\n",
       "      <td>1.99</td>\n",
       "      <td>Accesorios para móviles</td>\n",
       "      <td>8018080189357</td>\n",
       "      <td>1214288</td>\n",
       "      <td>Cable USB - Cellular Line OTGUSBADAPTERSMPH, A...</td>\n",
       "      <td>9.99</td>\n",
       "      <td>2019-04-09</td>\n",
       "    </tr>\n",
       "    <tr>\n",
       "      <th>24757</th>\n",
       "      <td>BOOMPODS</td>\n",
       "      <td>Telefonía</td>\n",
       "      <td>Cables y adaptadores</td>\n",
       "      <td>NaN</td>\n",
       "      <td>21.0</td>\n",
       "      <td>InStock</td>\n",
       "      <td>1.99</td>\n",
       "      <td>Accesorios para móviles</td>\n",
       "      <td>5081304356050</td>\n",
       "      <td>1402289</td>\n",
       "      <td>Cable Lightning a USB - Boompods, retrocable, ...</td>\n",
       "      <td>17.99</td>\n",
       "      <td>2019-04-09</td>\n",
       "    </tr>\n",
       "    <tr>\n",
       "      <th>24758</th>\n",
       "      <td>ISY</td>\n",
       "      <td>Telefonía</td>\n",
       "      <td>Cables y adaptadores</td>\n",
       "      <td>NaN</td>\n",
       "      <td>21.0</td>\n",
       "      <td>OutOfStock</td>\n",
       "      <td>1.99</td>\n",
       "      <td>Accesorios para móviles</td>\n",
       "      <td>4049011116085</td>\n",
       "      <td>1260687</td>\n",
       "      <td>Cable - Isy IWC 1000, Universal, Micro USB a U...</td>\n",
       "      <td>7.99</td>\n",
       "      <td>2019-04-09</td>\n",
       "    </tr>\n",
       "    <tr>\n",
       "      <th>24759</th>\n",
       "      <td>CELLULAR LINE</td>\n",
       "      <td>Telefonía</td>\n",
       "      <td>Cables y adaptadores</td>\n",
       "      <td>NaN</td>\n",
       "      <td>21.0</td>\n",
       "      <td>InStock</td>\n",
       "      <td>1.99</td>\n",
       "      <td>Accesorios para móviles</td>\n",
       "      <td>8018080333446</td>\n",
       "      <td>1435167</td>\n",
       "      <td>Cable De Carga - Cellular Line Cbl/Typoc/Enrro...</td>\n",
       "      <td>16.99</td>\n",
       "      <td>2019-04-09</td>\n",
       "    </tr>\n",
       "    <tr>\n",
       "      <th>24760</th>\n",
       "      <td>ISY</td>\n",
       "      <td>Telefonía</td>\n",
       "      <td>Cables y adaptadores</td>\n",
       "      <td>NaN</td>\n",
       "      <td>21.0</td>\n",
       "      <td>OutOfStock</td>\n",
       "      <td>1.99</td>\n",
       "      <td>Accesorios para móviles</td>\n",
       "      <td>4049011126268</td>\n",
       "      <td>1317985</td>\n",
       "      <td>Cable - ISY IUC-1002, MicroUSB a USB, 15 cm, U...</td>\n",
       "      <td>4.99</td>\n",
       "      <td>2019-04-09</td>\n",
       "    </tr>\n",
       "    <tr>\n",
       "      <th>24761</th>\n",
       "      <td>BOOMPODS</td>\n",
       "      <td>Telefonía</td>\n",
       "      <td>Cables y adaptadores</td>\n",
       "      <td>NaN</td>\n",
       "      <td>21.0</td>\n",
       "      <td>InStock</td>\n",
       "      <td>1.99</td>\n",
       "      <td>Accesorios para móviles</td>\n",
       "      <td>5573063264382</td>\n",
       "      <td>1402297</td>\n",
       "      <td>Duocable Lighning / Micro USB a USB - Boompods...</td>\n",
       "      <td>19.99</td>\n",
       "      <td>2019-04-09</td>\n",
       "    </tr>\n",
       "    <tr>\n",
       "      <th>24762</th>\n",
       "      <td>CELLULAR LINE</td>\n",
       "      <td>Telefonía</td>\n",
       "      <td>Cables y adaptadores</td>\n",
       "      <td>NaN</td>\n",
       "      <td>21.0</td>\n",
       "      <td>InStock</td>\n",
       "      <td>1.99</td>\n",
       "      <td>Accesorios para móviles</td>\n",
       "      <td>8018080268830</td>\n",
       "      <td>1332406</td>\n",
       "      <td>Cellularline 37714 0.6m USB A Lightning Blanco...</td>\n",
       "      <td>17.99</td>\n",
       "      <td>2019-04-09</td>\n",
       "    </tr>\n",
       "    <tr>\n",
       "      <th>24763</th>\n",
       "      <td>KSIX</td>\n",
       "      <td>Telefonía</td>\n",
       "      <td>Cables y adaptadores</td>\n",
       "      <td>NaN</td>\n",
       "      <td>21.0</td>\n",
       "      <td>InStock</td>\n",
       "      <td>1.99</td>\n",
       "      <td>Accesorios para móviles</td>\n",
       "      <td>8427542082431</td>\n",
       "      <td>1364743</td>\n",
       "      <td>Ksix B0914CUTV 1m USB A Lightning Verde cable ...</td>\n",
       "      <td>14.99</td>\n",
       "      <td>2019-04-09</td>\n",
       "    </tr>\n",
       "    <tr>\n",
       "      <th>24764</th>\n",
       "      <td>BELKIN</td>\n",
       "      <td>Telefonía</td>\n",
       "      <td>Cables y adaptadores</td>\n",
       "      <td>NaN</td>\n",
       "      <td>21.0</td>\n",
       "      <td>InStock</td>\n",
       "      <td>1.99</td>\n",
       "      <td>Accesorios para móviles</td>\n",
       "      <td>0745883732197</td>\n",
       "      <td>1352495</td>\n",
       "      <td>Belkin 1.2m, Lightning/USB 1.2m USB A Lightnin...</td>\n",
       "      <td>24.99</td>\n",
       "      <td>2019-04-09</td>\n",
       "    </tr>\n",
       "    <tr>\n",
       "      <th>24765</th>\n",
       "      <td>BOOMPODS</td>\n",
       "      <td>Telefonía</td>\n",
       "      <td>Cables y adaptadores</td>\n",
       "      <td>NaN</td>\n",
       "      <td>21.0</td>\n",
       "      <td>InStock</td>\n",
       "      <td>1.99</td>\n",
       "      <td>Accesorios para móviles</td>\n",
       "      <td>5573063264375</td>\n",
       "      <td>1402296</td>\n",
       "      <td>Duocable Lighning / Micro USB a USB - Boompods...</td>\n",
       "      <td>19.99</td>\n",
       "      <td>2019-04-09</td>\n",
       "    </tr>\n",
       "    <tr>\n",
       "      <th>24766</th>\n",
       "      <td>KSIX</td>\n",
       "      <td>Telefonía</td>\n",
       "      <td>Cables y adaptadores</td>\n",
       "      <td>NaN</td>\n",
       "      <td>21.0</td>\n",
       "      <td>InStock</td>\n",
       "      <td>1.99</td>\n",
       "      <td>Accesorios para móviles</td>\n",
       "      <td>8427542082424</td>\n",
       "      <td>1364741</td>\n",
       "      <td>Ksix B0914CUTNJ 1m USB A Lightning Naranja cab...</td>\n",
       "      <td>14.99</td>\n",
       "      <td>2019-04-09</td>\n",
       "    </tr>\n",
       "    <tr>\n",
       "      <th>24767</th>\n",
       "      <td>CELLULAR LINE</td>\n",
       "      <td>Telefonía</td>\n",
       "      <td>Cables y adaptadores</td>\n",
       "      <td>NaN</td>\n",
       "      <td>21.0</td>\n",
       "      <td>InStock</td>\n",
       "      <td>1.99</td>\n",
       "      <td>Accesorios para móviles</td>\n",
       "      <td>8018080190896</td>\n",
       "      <td>1211256</td>\n",
       "      <td>Cable de datos - Cellular Line, de USB a Micro...</td>\n",
       "      <td>7.99</td>\n",
       "      <td>2019-04-09</td>\n",
       "    </tr>\n",
       "    <tr>\n",
       "      <th>24768</th>\n",
       "      <td>HAMA</td>\n",
       "      <td>Telefonía</td>\n",
       "      <td>Cables y adaptadores</td>\n",
       "      <td>Cables de datos</td>\n",
       "      <td>21.0</td>\n",
       "      <td>InStock</td>\n",
       "      <td>1.99</td>\n",
       "      <td>Accesorios para móviles</td>\n",
       "      <td>4047443366719</td>\n",
       "      <td>1435841</td>\n",
       "      <td>Cable Para Tablet - Hama Tablet Cable Sync Lig...</td>\n",
       "      <td>15.99</td>\n",
       "      <td>2019-04-09</td>\n",
       "    </tr>\n",
       "    <tr>\n",
       "      <th>24769</th>\n",
       "      <td>BELKIN</td>\n",
       "      <td>Telefonía</td>\n",
       "      <td>Cables y adaptadores</td>\n",
       "      <td>NaN</td>\n",
       "      <td>21.0</td>\n",
       "      <td>InStock</td>\n",
       "      <td>1.99</td>\n",
       "      <td>Accesorios para móviles</td>\n",
       "      <td>0745883732173</td>\n",
       "      <td>1352496</td>\n",
       "      <td>Belkin 1.2m, Lightning/USB 1.2m USB A Lightnin...</td>\n",
       "      <td>24.99</td>\n",
       "      <td>2019-04-09</td>\n",
       "    </tr>\n",
       "    <tr>\n",
       "      <th>24770</th>\n",
       "      <td>BOOMPODS</td>\n",
       "      <td>Telefonía</td>\n",
       "      <td>Cables y adaptadores</td>\n",
       "      <td>NaN</td>\n",
       "      <td>21.0</td>\n",
       "      <td>InStock</td>\n",
       "      <td>1.99</td>\n",
       "      <td>Accesorios para móviles</td>\n",
       "      <td>5573063264313</td>\n",
       "      <td>1402293</td>\n",
       "      <td>Cable Lightning a USB - Boompods, flatline, 1m...</td>\n",
       "      <td>14.99</td>\n",
       "      <td>2019-04-09</td>\n",
       "    </tr>\n",
       "    <tr>\n",
       "      <th>24771</th>\n",
       "      <td>CELLULAR LINE</td>\n",
       "      <td>Telefonía</td>\n",
       "      <td>Cables y adaptadores</td>\n",
       "      <td>NaN</td>\n",
       "      <td>21.0</td>\n",
       "      <td>InStock</td>\n",
       "      <td>1.99</td>\n",
       "      <td>Accesorios para móviles</td>\n",
       "      <td>8018080190919</td>\n",
       "      <td>1211251</td>\n",
       "      <td>Cable de datos - Cellular Line, de USB a Micro...</td>\n",
       "      <td>7.99</td>\n",
       "      <td>2019-04-09</td>\n",
       "    </tr>\n",
       "    <tr>\n",
       "      <th>24772</th>\n",
       "      <td>XOOPAR</td>\n",
       "      <td>Telefonía</td>\n",
       "      <td>Cables y adaptadores</td>\n",
       "      <td>NaN</td>\n",
       "      <td>21.0</td>\n",
       "      <td>InStock</td>\n",
       "      <td>1.99</td>\n",
       "      <td>Accesorios para móviles</td>\n",
       "      <td>4897032086098</td>\n",
       "      <td>1437880</td>\n",
       "      <td>Cable De Carga - Xoopar Adapt/USB/Multiconecto...</td>\n",
       "      <td>11.99</td>\n",
       "      <td>2019-04-09</td>\n",
       "    </tr>\n",
       "    <tr>\n",
       "      <th>24773</th>\n",
       "      <td>XOOPAR</td>\n",
       "      <td>Telefonía</td>\n",
       "      <td>Cables y adaptadores</td>\n",
       "      <td>NaN</td>\n",
       "      <td>21.0</td>\n",
       "      <td>InStock</td>\n",
       "      <td>1.99</td>\n",
       "      <td>Accesorios para móviles</td>\n",
       "      <td>4897032086111</td>\n",
       "      <td>1437881</td>\n",
       "      <td>Cable De Carga - Xoopar Adapt/USB/Multiconecto...</td>\n",
       "      <td>11.99</td>\n",
       "      <td>2019-04-09</td>\n",
       "    </tr>\n",
       "    <tr>\n",
       "      <th>24774</th>\n",
       "      <td>XOOPAR</td>\n",
       "      <td>Telefonía</td>\n",
       "      <td>Cables y adaptadores</td>\n",
       "      <td>NaN</td>\n",
       "      <td>21.0</td>\n",
       "      <td>InStock</td>\n",
       "      <td>1.99</td>\n",
       "      <td>Accesorios para móviles</td>\n",
       "      <td>4897032083714</td>\n",
       "      <td>1437882</td>\n",
       "      <td>Cable De Carga - Xoopar Adapt/USB/Multiconecto...</td>\n",
       "      <td>11.99</td>\n",
       "      <td>2019-04-09</td>\n",
       "    </tr>\n",
       "    <tr>\n",
       "      <th>24775</th>\n",
       "      <td>XOOPAR</td>\n",
       "      <td>Telefonía</td>\n",
       "      <td>Cables y adaptadores</td>\n",
       "      <td>NaN</td>\n",
       "      <td>21.0</td>\n",
       "      <td>InStock</td>\n",
       "      <td>1.99</td>\n",
       "      <td>Accesorios para móviles</td>\n",
       "      <td>4897032086081</td>\n",
       "      <td>1437883</td>\n",
       "      <td>Cable De Carga - Xoopar Adapt/USB/Multiconecto...</td>\n",
       "      <td>11.99</td>\n",
       "      <td>2019-04-09</td>\n",
       "    </tr>\n",
       "    <tr>\n",
       "      <th>24776</th>\n",
       "      <td>XOOPAR</td>\n",
       "      <td>Telefonía</td>\n",
       "      <td>Cables y adaptadores</td>\n",
       "      <td>NaN</td>\n",
       "      <td>21.0</td>\n",
       "      <td>InStock</td>\n",
       "      <td>1.99</td>\n",
       "      <td>Accesorios para móviles</td>\n",
       "      <td>4897032083769</td>\n",
       "      <td>1437879</td>\n",
       "      <td>Cable De Carga - Xoopar Adapt/USB/Multiconecto...</td>\n",
       "      <td>11.99</td>\n",
       "      <td>2019-04-09</td>\n",
       "    </tr>\n",
       "    <tr>\n",
       "      <th>24777</th>\n",
       "      <td>XOOPAR</td>\n",
       "      <td>Telefonía</td>\n",
       "      <td>Cables y adaptadores</td>\n",
       "      <td>NaN</td>\n",
       "      <td>21.0</td>\n",
       "      <td>InStock</td>\n",
       "      <td>1.99</td>\n",
       "      <td>Accesorios para móviles</td>\n",
       "      <td>4897032086104</td>\n",
       "      <td>1437884</td>\n",
       "      <td>Cable De Carga - Xoopar Adapt/USB/Multiconecto...</td>\n",
       "      <td>11.99</td>\n",
       "      <td>2019-04-09</td>\n",
       "    </tr>\n",
       "    <tr>\n",
       "      <th>24778</th>\n",
       "      <td>CELLULAR LINE</td>\n",
       "      <td>Telefonía</td>\n",
       "      <td>Cables y adaptadores</td>\n",
       "      <td>NaN</td>\n",
       "      <td>21.0</td>\n",
       "      <td>OutOfStock</td>\n",
       "      <td>1.99</td>\n",
       "      <td>Accesorios para móviles</td>\n",
       "      <td>8018080197826</td>\n",
       "      <td>1221004</td>\n",
       "      <td>Cable adaptador micro USB a USB - Cellular Lin...</td>\n",
       "      <td>9.99</td>\n",
       "      <td>2019-04-09</td>\n",
       "    </tr>\n",
       "    <tr>\n",
       "      <th>24779</th>\n",
       "      <td>KSIX</td>\n",
       "      <td>Telefonía</td>\n",
       "      <td>Cables y adaptadores</td>\n",
       "      <td>NaN</td>\n",
       "      <td>21.0</td>\n",
       "      <td>InStock</td>\n",
       "      <td>1.99</td>\n",
       "      <td>Accesorios para móviles</td>\n",
       "      <td>8427542079233</td>\n",
       "      <td>1357930</td>\n",
       "      <td>Cable USB - Ksix Flexteel Sync &amp; Charge, USB a...</td>\n",
       "      <td>12.90</td>\n",
       "      <td>2019-04-09</td>\n",
       "    </tr>\n",
       "    <tr>\n",
       "      <th>24780</th>\n",
       "      <td>HAMA</td>\n",
       "      <td>Negocio y oficina</td>\n",
       "      <td>Accesorios Telefonía Fija</td>\n",
       "      <td>NaN</td>\n",
       "      <td>21.0</td>\n",
       "      <td>InStock</td>\n",
       "      <td>1.99</td>\n",
       "      <td>Telefonía fija</td>\n",
       "      <td>8432290002273</td>\n",
       "      <td>5300120</td>\n",
       "      <td>Adaptador telefónico - Hama 6914249, Blanco</td>\n",
       "      <td>3.99</td>\n",
       "      <td>2019-04-09</td>\n",
       "    </tr>\n",
       "  </tbody>\n",
       "</table>\n",
       "<p>24781 rows × 13 columns</p>\n",
       "</div>"
      ],
      "text/plain": [
       "               brand           category                dimension10  \\\n",
       "0            PHILIPS    Belleza y salud       Afeitadoras faciales   \n",
       "1            PHILIPS    Belleza y salud       Afeitadoras faciales   \n",
       "2            PHILIPS    Belleza y salud       Afeitadoras faciales   \n",
       "3            PHILIPS    Belleza y salud       Afeitadoras faciales   \n",
       "4              BRAUN    Belleza y salud       Afeitadoras faciales   \n",
       "5            PHILIPS    Belleza y salud       Afeitadoras faciales   \n",
       "6            PHILIPS    Belleza y salud       Afeitadoras faciales   \n",
       "7            PHILIPS    Belleza y salud       Afeitadoras faciales   \n",
       "8            PHILIPS    Belleza y salud       Afeitadoras faciales   \n",
       "9            PHILIPS    Belleza y salud       Afeitadoras faciales   \n",
       "10         PANASONIC    Belleza y salud       Afeitadoras faciales   \n",
       "11             BRAUN    Belleza y salud       Afeitadoras faciales   \n",
       "12           PHILIPS    Belleza y salud       Afeitadoras faciales   \n",
       "13             BRAUN    Belleza y salud       Afeitadoras faciales   \n",
       "14             BRAUN    Belleza y salud       Afeitadoras faciales   \n",
       "15             BRAUN    Belleza y salud       Afeitadoras faciales   \n",
       "16                OK    Belleza y salud       Afeitadoras faciales   \n",
       "17             BRAUN    Belleza y salud       Afeitadoras faciales   \n",
       "18             BEPER    Belleza y salud       Afeitadoras faciales   \n",
       "19             BRAUN    Belleza y salud       Afeitadoras faciales   \n",
       "20           PHILIPS    Belleza y salud       Afeitadoras faciales   \n",
       "21         PANASONIC    Belleza y salud       Afeitadoras faciales   \n",
       "22         REMINGTON    Belleza y salud       Afeitadoras faciales   \n",
       "23             BRAUN    Belleza y salud       Afeitadoras faciales   \n",
       "24             BRAUN    Belleza y salud       Afeitadoras faciales   \n",
       "25           ROWENTA    Belleza y salud       Afeitadoras faciales   \n",
       "26             BRAUN    Belleza y salud       Afeitadoras faciales   \n",
       "27             BRAUN    Belleza y salud       Afeitadoras faciales   \n",
       "28             BRAUN    Belleza y salud       Afeitadoras faciales   \n",
       "29             BRAUN    Belleza y salud       Afeitadoras faciales   \n",
       "...              ...                ...                        ...   \n",
       "24751       BOOMPODS          Telefonía       Cables y adaptadores   \n",
       "24752  CELLULAR LINE          Telefonía       Cables y adaptadores   \n",
       "24753       BOOMPODS          Telefonía       Cables y adaptadores   \n",
       "24754       BOOMPODS          Telefonía       Cables y adaptadores   \n",
       "24755       BOOMPODS          Telefonía       Cables y adaptadores   \n",
       "24756  CELLULAR LINE          Telefonía       Cables y adaptadores   \n",
       "24757       BOOMPODS          Telefonía       Cables y adaptadores   \n",
       "24758            ISY          Telefonía       Cables y adaptadores   \n",
       "24759  CELLULAR LINE          Telefonía       Cables y adaptadores   \n",
       "24760            ISY          Telefonía       Cables y adaptadores   \n",
       "24761       BOOMPODS          Telefonía       Cables y adaptadores   \n",
       "24762  CELLULAR LINE          Telefonía       Cables y adaptadores   \n",
       "24763           KSIX          Telefonía       Cables y adaptadores   \n",
       "24764         BELKIN          Telefonía       Cables y adaptadores   \n",
       "24765       BOOMPODS          Telefonía       Cables y adaptadores   \n",
       "24766           KSIX          Telefonía       Cables y adaptadores   \n",
       "24767  CELLULAR LINE          Telefonía       Cables y adaptadores   \n",
       "24768           HAMA          Telefonía       Cables y adaptadores   \n",
       "24769         BELKIN          Telefonía       Cables y adaptadores   \n",
       "24770       BOOMPODS          Telefonía       Cables y adaptadores   \n",
       "24771  CELLULAR LINE          Telefonía       Cables y adaptadores   \n",
       "24772         XOOPAR          Telefonía       Cables y adaptadores   \n",
       "24773         XOOPAR          Telefonía       Cables y adaptadores   \n",
       "24774         XOOPAR          Telefonía       Cables y adaptadores   \n",
       "24775         XOOPAR          Telefonía       Cables y adaptadores   \n",
       "24776         XOOPAR          Telefonía       Cables y adaptadores   \n",
       "24777         XOOPAR          Telefonía       Cables y adaptadores   \n",
       "24778  CELLULAR LINE          Telefonía       Cables y adaptadores   \n",
       "24779           KSIX          Telefonía       Cables y adaptadores   \n",
       "24780           HAMA  Negocio y oficina  Accesorios Telefonía Fija   \n",
       "\n",
       "            dimension11  dimension24 dimension25  dimension26  \\\n",
       "0                   NaN         21.0  OutOfStock         1.99   \n",
       "1                   NaN         21.0     InStock         1.99   \n",
       "2                   NaN         21.0     InStock         1.99   \n",
       "3                   NaN         21.0     InStock         1.99   \n",
       "4                   NaN         21.0     InStock         1.99   \n",
       "5                   NaN         21.0     InStock         1.99   \n",
       "6                   NaN         21.0     InStock         1.99   \n",
       "7                   NaN         21.0     InStock         1.99   \n",
       "8                   NaN         21.0     InStock         1.99   \n",
       "9                   NaN         21.0     InStock         1.99   \n",
       "10                  NaN         21.0     InStock         1.99   \n",
       "11                  NaN         21.0     InStock         1.99   \n",
       "12                  NaN         21.0     InStock         1.99   \n",
       "13                  NaN         21.0     InStock         1.99   \n",
       "14                  NaN         21.0     InStock         1.99   \n",
       "15                  NaN         21.0     InStock         1.99   \n",
       "16                  NaN         21.0     InStock         1.99   \n",
       "17                  NaN         21.0     InStock         1.99   \n",
       "18                  NaN         21.0     InStock         1.99   \n",
       "19                  NaN         21.0     InStock         1.99   \n",
       "20                  NaN         21.0     InStock         1.99   \n",
       "21                  NaN         21.0     InStock         1.99   \n",
       "22                  NaN         21.0     InStock         1.99   \n",
       "23                  NaN         21.0     InStock         1.99   \n",
       "24                  NaN         21.0  OutOfStock         1.99   \n",
       "25                  NaN         21.0     InStock         1.99   \n",
       "26                  NaN         21.0     InStock         1.99   \n",
       "27                  NaN         21.0     InStock         1.99   \n",
       "28                  NaN         21.0     InStock         1.99   \n",
       "29                  NaN         21.0     InStock         1.99   \n",
       "...                 ...          ...         ...          ...   \n",
       "24751               NaN         21.0     InStock         1.99   \n",
       "24752               NaN         21.0     InStock         1.99   \n",
       "24753               NaN         21.0     InStock         1.99   \n",
       "24754               NaN         21.0     InStock         1.99   \n",
       "24755               NaN         21.0     InStock         1.99   \n",
       "24756               NaN         21.0     InStock         1.99   \n",
       "24757               NaN         21.0     InStock         1.99   \n",
       "24758               NaN         21.0  OutOfStock         1.99   \n",
       "24759               NaN         21.0     InStock         1.99   \n",
       "24760               NaN         21.0  OutOfStock         1.99   \n",
       "24761               NaN         21.0     InStock         1.99   \n",
       "24762               NaN         21.0     InStock         1.99   \n",
       "24763               NaN         21.0     InStock         1.99   \n",
       "24764               NaN         21.0     InStock         1.99   \n",
       "24765               NaN         21.0     InStock         1.99   \n",
       "24766               NaN         21.0     InStock         1.99   \n",
       "24767               NaN         21.0     InStock         1.99   \n",
       "24768  Cables de datos          21.0     InStock         1.99   \n",
       "24769               NaN         21.0     InStock         1.99   \n",
       "24770               NaN         21.0     InStock         1.99   \n",
       "24771               NaN         21.0     InStock         1.99   \n",
       "24772               NaN         21.0     InStock         1.99   \n",
       "24773               NaN         21.0     InStock         1.99   \n",
       "24774               NaN         21.0     InStock         1.99   \n",
       "24775               NaN         21.0     InStock         1.99   \n",
       "24776               NaN         21.0     InStock         1.99   \n",
       "24777               NaN         21.0     InStock         1.99   \n",
       "24778               NaN         21.0  OutOfStock         1.99   \n",
       "24779               NaN         21.0     InStock         1.99   \n",
       "24780               NaN         21.0     InStock         1.99   \n",
       "\n",
       "                    dimension9            ean       id  \\\n",
       "0        Afeitado y depilación  8710103738350  1293941   \n",
       "1        Afeitado y depilación  8710103764588  1317305   \n",
       "2        Afeitado y depilación  8710103819219  1360370   \n",
       "3        Afeitado y depilación  8710103764489  1317303   \n",
       "4        Afeitado y depilación  4210201147022  1294131   \n",
       "5        Afeitado y depilación  8710103738121  1293945   \n",
       "6        Afeitado y depilación  8710103686934  1252110   \n",
       "7        Afeitado y depilación  8710103609803  1187436   \n",
       "8        Afeitado y depilación  8710103800958  1385320   \n",
       "9        Afeitado y depilación  8710103764458  1317304   \n",
       "10       Afeitado y depilación  5025232782642  1264634   \n",
       "11       Afeitado y depilación  4210201132370  1310896   \n",
       "12       Afeitado y depilación  8710103736745  1367692   \n",
       "13       Afeitado y depilación  4210201151562  1353375   \n",
       "14       Afeitado y depilación  4210201649793  1104022   \n",
       "15       Afeitado y depilación  4210201183617  1373774   \n",
       "16       Afeitado y depilación  4049011147454  1423577   \n",
       "17       Afeitado y depilación  4210201163367  1353373   \n",
       "18       Afeitado y depilación  8051772711948  1331134   \n",
       "19       Afeitado y depilación  4210201124481  1310843   \n",
       "20       Afeitado y depilación  8710103819349  1360380   \n",
       "21       Afeitado y depilación  5025232846184  1418920   \n",
       "22       Afeitado y depilación  8420738411848  1376067   \n",
       "23       Afeitado y depilación  4210201112129  1310842   \n",
       "24       Afeitado y depilación  4210201167013  1342540   \n",
       "25       Afeitado y depilación  3121040059272  1311358   \n",
       "26       Afeitado y depilación  4210201165804  1342438   \n",
       "27       Afeitado y depilación  4210201188827  1382002   \n",
       "28       Afeitado y depilación  4210201186595  1382003   \n",
       "29       Afeitado y depilación  4210201177517  1373772   \n",
       "...                        ...            ...      ...   \n",
       "24751  Accesorios para móviles  5081304356036  1402306   \n",
       "24752  Accesorios para móviles  8018080268854  1332408   \n",
       "24753  Accesorios para móviles  5081304280614  1402298   \n",
       "24754  Accesorios para móviles  5573063264146  1402307   \n",
       "24755  Accesorios para móviles  5573063264306  1402292   \n",
       "24756  Accesorios para móviles  8018080189357  1214288   \n",
       "24757  Accesorios para móviles  5081304356050  1402289   \n",
       "24758  Accesorios para móviles  4049011116085  1260687   \n",
       "24759  Accesorios para móviles  8018080333446  1435167   \n",
       "24760  Accesorios para móviles  4049011126268  1317985   \n",
       "24761  Accesorios para móviles  5573063264382  1402297   \n",
       "24762  Accesorios para móviles  8018080268830  1332406   \n",
       "24763  Accesorios para móviles  8427542082431  1364743   \n",
       "24764  Accesorios para móviles  0745883732197  1352495   \n",
       "24765  Accesorios para móviles  5573063264375  1402296   \n",
       "24766  Accesorios para móviles  8427542082424  1364741   \n",
       "24767  Accesorios para móviles  8018080190896  1211256   \n",
       "24768  Accesorios para móviles  4047443366719  1435841   \n",
       "24769  Accesorios para móviles  0745883732173  1352496   \n",
       "24770  Accesorios para móviles  5573063264313  1402293   \n",
       "24771  Accesorios para móviles  8018080190919  1211251   \n",
       "24772  Accesorios para móviles  4897032086098  1437880   \n",
       "24773  Accesorios para móviles  4897032086111  1437881   \n",
       "24774  Accesorios para móviles  4897032083714  1437882   \n",
       "24775  Accesorios para móviles  4897032086081  1437883   \n",
       "24776  Accesorios para móviles  4897032083769  1437879   \n",
       "24777  Accesorios para móviles  4897032086104  1437884   \n",
       "24778  Accesorios para móviles  8018080197826  1221004   \n",
       "24779  Accesorios para móviles  8427542079233  1357930   \n",
       "24780           Telefonía fija  8432290002273  5300120   \n",
       "\n",
       "                                                    name   price        date  \n",
       "0      Afeitadora - Philips S 5110/06 Cabezales Flex,...   57.99  2019-04-09  \n",
       "1      Afeitadora - Philips Shaver S1510/04, Recargab...   41.99  2019-04-09  \n",
       "2      Afeitadora - Philips S5550/06, Cuchillas Multi...   89.90  2019-04-09  \n",
       "3      Afeitadora - Philips S3510/06, sistema Comfort...   58.99  2019-04-09  \n",
       "4      Afeitadora - Braun 5030s Series 5 + EN10, Reco...   87.99  2019-04-09  \n",
       "5      Afeitadora - Philips S 5420/06 Sistema de cuch...   76.99  2019-04-09  \n",
       "6      Afeitadora - Philips S9031/12 V-Track, Autonom...  166.00  2019-04-09  \n",
       "7      Afeitadora - Philips AT750/26, Recargable, Cab...   55.99  2019-04-09  \n",
       "8      Afeitadora - Philips S7522/50, Anillos SkinGli...  149.00  2019-04-09  \n",
       "9      Afeitadora - Philips S3110/06, sistema Comfort...   49.99  2019-04-09  \n",
       "10     Afeitadora - Panasonic ES RT 67 S503 Recargabl...   66.99  2019-04-09  \n",
       "11     Recortador facial - Braun PT5010, perfilador d...   14.99  2019-04-09  \n",
       "12     Afeitadora - Philips S7310/12, Especial para p...  123.00  2019-04-09  \n",
       "13     Afeitadora - Braun BT3010 Serie 3, Recargable,...   84.99  2019-04-09  \n",
       "14     Afeitadora - Braun MobileShave M60b Funcionami...   17.99  2019-04-09  \n",
       "15     Afeitadora - Braun WF2s Serie 5 WaterFlex, Wet...  114.00  2019-04-09  \n",
       "16     Afeitadora - OK OSH 3310 ES 3-IN-1, Men Shaver...   19.99  2019-04-09  \n",
       "17     Afeitadora - Braun SERIE 3 310 Wet & Dry, Resi...   54.99  2019-04-09  \n",
       "18     Afeitadora - Beper iCut 40.993, Barba, Recargable   13.99  2019-04-09  \n",
       "19     Afeitadora - Braun Serie 3 - 3000 Edición espe...   60.99  2019-04-09  \n",
       "20     Afeitadora - Philips S5650/41, Accesorio barbe...  119.90  2019-04-09  \n",
       "21     Afeitadora - Panasonic ES-ST 3 N, 3 cuchillas,...   86.99  2019-04-09  \n",
       "22     Afeitadora - Remington PR1340GP, Cabezal comfo...   51.99  2019-04-09  \n",
       "23     Afeitadora - Braun 3010 Serie 3, Recargable, C...   61.99  2019-04-09  \n",
       "24     Afeitadora - Braun Series 9 9240s, Wet&Dry, Ci...  306.00  2019-04-09  \n",
       "25     Recortador de pelo - Rowenta TN3620F0, Lavable...   18.99  2019-04-09  \n",
       "26     Afeitadora - Braun Series 9 9295cc, Uso en sec...  399.00  2019-04-09  \n",
       "27     Afeitadora - Braun Series 3 310s, Recargable, ...   60.99  2019-04-09  \n",
       "28     Afeitadora - Braun Serie3 3000 Tecnología Micr...   67.99  2019-04-09  \n",
       "29     Afeitadora - Braun Series 5 514S, Wet&Dry, Cab...  187.00  2019-04-09  \n",
       "...                                                  ...     ...         ...  \n",
       "24751  Cable Lightning a USB - Boompods, retrocable, ...   17.99  2019-04-09  \n",
       "24752  Cellularline 37713 0.6m USB A Micro-USB B Mach...    8.99  2019-04-09  \n",
       "24753  Duocable Lighning / Micro USB a USB - Boompods...   19.99  2019-04-09  \n",
       "24754  Cable Micro USB a USB - Boompods, retrocable, ...   12.99  2019-04-09  \n",
       "24755  Cable Lightning a USB - Boompods, flatline, 1m...   14.99  2019-04-09  \n",
       "24756  Cable USB - Cellular Line OTGUSBADAPTERSMPH, A...    9.99  2019-04-09  \n",
       "24757  Cable Lightning a USB - Boompods, retrocable, ...   17.99  2019-04-09  \n",
       "24758  Cable - Isy IWC 1000, Universal, Micro USB a U...    7.99  2019-04-09  \n",
       "24759  Cable De Carga - Cellular Line Cbl/Typoc/Enrro...   16.99  2019-04-09  \n",
       "24760  Cable - ISY IUC-1002, MicroUSB a USB, 15 cm, U...    4.99  2019-04-09  \n",
       "24761  Duocable Lighning / Micro USB a USB - Boompods...   19.99  2019-04-09  \n",
       "24762  Cellularline 37714 0.6m USB A Lightning Blanco...   17.99  2019-04-09  \n",
       "24763  Ksix B0914CUTV 1m USB A Lightning Verde cable ...   14.99  2019-04-09  \n",
       "24764  Belkin 1.2m, Lightning/USB 1.2m USB A Lightnin...   24.99  2019-04-09  \n",
       "24765  Duocable Lighning / Micro USB a USB - Boompods...   19.99  2019-04-09  \n",
       "24766  Ksix B0914CUTNJ 1m USB A Lightning Naranja cab...   14.99  2019-04-09  \n",
       "24767  Cable de datos - Cellular Line, de USB a Micro...    7.99  2019-04-09  \n",
       "24768  Cable Para Tablet - Hama Tablet Cable Sync Lig...   15.99  2019-04-09  \n",
       "24769  Belkin 1.2m, Lightning/USB 1.2m USB A Lightnin...   24.99  2019-04-09  \n",
       "24770  Cable Lightning a USB - Boompods, flatline, 1m...   14.99  2019-04-09  \n",
       "24771  Cable de datos - Cellular Line, de USB a Micro...    7.99  2019-04-09  \n",
       "24772  Cable De Carga - Xoopar Adapt/USB/Multiconecto...   11.99  2019-04-09  \n",
       "24773  Cable De Carga - Xoopar Adapt/USB/Multiconecto...   11.99  2019-04-09  \n",
       "24774  Cable De Carga - Xoopar Adapt/USB/Multiconecto...   11.99  2019-04-09  \n",
       "24775  Cable De Carga - Xoopar Adapt/USB/Multiconecto...   11.99  2019-04-09  \n",
       "24776  Cable De Carga - Xoopar Adapt/USB/Multiconecto...   11.99  2019-04-09  \n",
       "24777  Cable De Carga - Xoopar Adapt/USB/Multiconecto...   11.99  2019-04-09  \n",
       "24778  Cable adaptador micro USB a USB - Cellular Lin...    9.99  2019-04-09  \n",
       "24779  Cable USB - Ksix Flexteel Sync & Charge, USB a...   12.90  2019-04-09  \n",
       "24780        Adaptador telefónico - Hama 6914249, Blanco    3.99  2019-04-09  \n",
       "\n",
       "[24781 rows x 13 columns]"
      ]
     },
     "execution_count": 125,
     "metadata": {},
     "output_type": "execute_result"
    }
   ],
   "source": [
    "total_products[:]"
   ]
  },
  {
   "cell_type": "code",
   "execution_count": 132,
   "metadata": {},
   "outputs": [
    {
     "data": {
      "image/png": "[encoded data removed]",
      "text/plain": [
       "<Figure size 1500x1000 with 1 Axes>"
      ]
     },
     "metadata": {
      "needs_background": "light"
     },
     "output_type": "display_data"
    },
    {
     "name": "stdout",
     "output_type": "stream",
     "text": [
      "Visualization saved to ./plots/price_distribution_brand.png\n"
     ]
    }
   ],
   "source": [
    "query = total_products.dimension10 == 'Instantáneas y retro'\n",
    "\n",
    "viz_data(dat, viz, query, 1500, 1000)"
   ]
  },
  {
   "cell_type": "code",
   "execution_count": null,
   "metadata": {},
   "outputs": [],
   "source": []
  }
 ],
 "metadata": {
  "kernelspec": {
   "display_name": "Python 3",
   "language": "python",
   "name": "python3"
  },
  "language_info": {
   "codemirror_mode": {
    "name": "ipython",
    "version": 3
   },
   "file_extension": ".py",
   "mimetype": "text/x-python",
   "name": "python",
   "nbconvert_exporter": "python",
   "pygments_lexer": "ipython3",
   "version": "3.7.1"
  }
 },
 "nbformat": 4,
 "nbformat_minor": 2
}
